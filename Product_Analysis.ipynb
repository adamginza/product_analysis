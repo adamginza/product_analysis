{
  "nbformat": 4,
  "nbformat_minor": 0,
  "metadata": {
    "kernelspec": {
      "display_name": "Python 3",
      "language": "python",
      "name": "python3"
    },
    "language_info": {
      "codemirror_mode": {
        "name": "ipython",
        "version": 3
      },
      "file_extension": ".py",
      "mimetype": "text/x-python",
      "name": "python",
      "nbconvert_exporter": "python",
      "pygments_lexer": "ipython3",
      "version": "3.6.7"
    },
    "colab": {
      "name": "Product Analysis",
      "provenance": [],
      "collapsed_sections": []
    }
  },
  "cells": [
    {
      "cell_type": "code",
      "metadata": {
        "id": "zWb8yiJH-KeU"
      },
      "source": [
        "import pandas as pd\n",
        "import math\n",
        "import numpy as np\n",
        "import datetime as dt\n",
        "import time\n",
        "\n",
        "import matplotlib.pyplot as plt\n",
        "import matplotlib.dates as mdates\n",
        "import plotly.express as px\n",
        "import plotly.graph_objects as go\n",
        "from plotly.subplots import make_subplots\n",
        "import seaborn as sns\n",
        "\n",
        "from sklearn.model_selection import train_test_split, cross_val_score, GridSearchCV, RandomizedSearchCV\n",
        "from sklearn.linear_model import LinearRegression, Ridge, Lasso\n",
        "from sklearn.tree import DecisionTreeRegressor\n",
        "from sklearn.ensemble import RandomForestRegressor\n",
        "from sklearn.preprocessing import PolynomialFeatures\n",
        "from xgboost import XGBRegressor, cv, DMatrix"
      ],
      "execution_count": 57,
      "outputs": []
    },
    {
      "cell_type": "code",
      "metadata": {
        "id": "TsRHgh76-KeX"
      },
      "source": [
        "stock_df = pd.read_excel(\"drive/MyDrive/playground/product_analysis/main_code/product_data.xlsx\")"
      ],
      "execution_count": 60,
      "outputs": []
    },
    {
      "cell_type": "code",
      "metadata": {
        "colab": {
          "base_uri": "https://localhost:8080/",
          "height": 218
        },
        "id": "rsFfbJ-g-KeY",
        "outputId": "005aaaa3-511d-45e5-89f5-993367a257f7"
      },
      "source": [
        "print(stock_df.shape)\n",
        "stock_df.head()"
      ],
      "execution_count": 61,
      "outputs": [
        {
          "output_type": "stream",
          "text": [
            "(2000, 7)\n"
          ],
          "name": "stdout"
        },
        {
          "output_type": "execute_result",
          "data": {
            "text/html": [
              "<div>\n",
              "<style scoped>\n",
              "    .dataframe tbody tr th:only-of-type {\n",
              "        vertical-align: middle;\n",
              "    }\n",
              "\n",
              "    .dataframe tbody tr th {\n",
              "        vertical-align: top;\n",
              "    }\n",
              "\n",
              "    .dataframe thead th {\n",
              "        text-align: right;\n",
              "    }\n",
              "</style>\n",
              "<table border=\"1\" class=\"dataframe\">\n",
              "  <thead>\n",
              "    <tr style=\"text-align: right;\">\n",
              "      <th></th>\n",
              "      <th>date</th>\n",
              "      <th>product_sku</th>\n",
              "      <th>price</th>\n",
              "      <th>store</th>\n",
              "      <th>is_promo_item</th>\n",
              "      <th>member_promo</th>\n",
              "      <th>quantity</th>\n",
              "    </tr>\n",
              "  </thead>\n",
              "  <tbody>\n",
              "    <tr>\n",
              "      <th>0</th>\n",
              "      <td>2019-11-29</td>\n",
              "      <td>sku021</td>\n",
              "      <td>147454.56</td>\n",
              "      <td>storeA013</td>\n",
              "      <td>0.0</td>\n",
              "      <td>1.0</td>\n",
              "      <td>18.0</td>\n",
              "    </tr>\n",
              "    <tr>\n",
              "      <th>1</th>\n",
              "      <td>2020-01-15</td>\n",
              "      <td>sku022</td>\n",
              "      <td>4303058.84</td>\n",
              "      <td>storeA006</td>\n",
              "      <td>1.0</td>\n",
              "      <td>0.0</td>\n",
              "      <td>3.0</td>\n",
              "    </tr>\n",
              "    <tr>\n",
              "      <th>2</th>\n",
              "      <td>2020-01-28</td>\n",
              "      <td>sku023</td>\n",
              "      <td>1742713.52</td>\n",
              "      <td>storeA017</td>\n",
              "      <td>1.0</td>\n",
              "      <td>0.0</td>\n",
              "      <td>9.0</td>\n",
              "    </tr>\n",
              "    <tr>\n",
              "      <th>3</th>\n",
              "      <td>2019-12-05</td>\n",
              "      <td>sku024</td>\n",
              "      <td>4656476.03</td>\n",
              "      <td>storeA007</td>\n",
              "      <td>0.0</td>\n",
              "      <td>1.0</td>\n",
              "      <td>8.0</td>\n",
              "    </tr>\n",
              "    <tr>\n",
              "      <th>4</th>\n",
              "      <td>2020-01-04</td>\n",
              "      <td>sku025</td>\n",
              "      <td>4774574.30</td>\n",
              "      <td>storeA015</td>\n",
              "      <td>0.0</td>\n",
              "      <td>0.0</td>\n",
              "      <td>1.0</td>\n",
              "    </tr>\n",
              "  </tbody>\n",
              "</table>\n",
              "</div>"
            ],
            "text/plain": [
              "        date product_sku       price  ... is_promo_item  member_promo  quantity\n",
              "0 2019-11-29      sku021   147454.56  ...           0.0           1.0      18.0\n",
              "1 2020-01-15      sku022  4303058.84  ...           1.0           0.0       3.0\n",
              "2 2020-01-28      sku023  1742713.52  ...           1.0           0.0       9.0\n",
              "3 2019-12-05      sku024  4656476.03  ...           0.0           1.0       8.0\n",
              "4 2020-01-04      sku025  4774574.30  ...           0.0           0.0       1.0\n",
              "\n",
              "[5 rows x 7 columns]"
            ]
          },
          "metadata": {
            "tags": []
          },
          "execution_count": 61
        }
      ]
    },
    {
      "cell_type": "code",
      "metadata": {
        "colab": {
          "base_uri": "https://localhost:8080/"
        },
        "id": "k3HFSADR-Keb",
        "outputId": "ba9f9298-82ab-4d10-adab-ce3904aab1cf"
      },
      "source": [
        "stock_df.info()"
      ],
      "execution_count": 62,
      "outputs": [
        {
          "output_type": "stream",
          "text": [
            "<class 'pandas.core.frame.DataFrame'>\n",
            "RangeIndex: 2000 entries, 0 to 1999\n",
            "Data columns (total 7 columns):\n",
            " #   Column         Non-Null Count  Dtype         \n",
            "---  ------         --------------  -----         \n",
            " 0   date           1954 non-null   datetime64[ns]\n",
            " 1   product_sku    1900 non-null   object        \n",
            " 2   price          1900 non-null   float64       \n",
            " 3   store          1959 non-null   object        \n",
            " 4   is_promo_item  1959 non-null   float64       \n",
            " 5   member_promo   1907 non-null   float64       \n",
            " 6   quantity       1959 non-null   float64       \n",
            "dtypes: datetime64[ns](1), float64(4), object(2)\n",
            "memory usage: 109.5+ KB\n"
          ],
          "name": "stdout"
        }
      ]
    },
    {
      "cell_type": "code",
      "metadata": {
        "colab": {
          "base_uri": "https://localhost:8080/",
          "height": 534
        },
        "id": "WQso_bdn-Kec",
        "outputId": "3c60aa1c-95be-4712-9a2d-fc63fe78696a"
      },
      "source": [
        "stock_df.describe(include = 'all')"
      ],
      "execution_count": 63,
      "outputs": [
        {
          "output_type": "stream",
          "text": [
            "/usr/local/lib/python3.7/dist-packages/ipykernel_launcher.py:1: FutureWarning:\n",
            "\n",
            "Treating datetime data as categorical rather than numeric in `.describe` is deprecated and will be removed in a future version of pandas. Specify `datetime_is_numeric=True` to silence this warning and adopt the future behavior now.\n",
            "\n"
          ],
          "name": "stderr"
        },
        {
          "output_type": "execute_result",
          "data": {
            "text/html": [
              "<div>\n",
              "<style scoped>\n",
              "    .dataframe tbody tr th:only-of-type {\n",
              "        vertical-align: middle;\n",
              "    }\n",
              "\n",
              "    .dataframe tbody tr th {\n",
              "        vertical-align: top;\n",
              "    }\n",
              "\n",
              "    .dataframe thead th {\n",
              "        text-align: right;\n",
              "    }\n",
              "</style>\n",
              "<table border=\"1\" class=\"dataframe\">\n",
              "  <thead>\n",
              "    <tr style=\"text-align: right;\">\n",
              "      <th></th>\n",
              "      <th>date</th>\n",
              "      <th>product_sku</th>\n",
              "      <th>price</th>\n",
              "      <th>store</th>\n",
              "      <th>is_promo_item</th>\n",
              "      <th>member_promo</th>\n",
              "      <th>quantity</th>\n",
              "    </tr>\n",
              "  </thead>\n",
              "  <tbody>\n",
              "    <tr>\n",
              "      <th>count</th>\n",
              "      <td>1954</td>\n",
              "      <td>1900</td>\n",
              "      <td>1.900000e+03</td>\n",
              "      <td>1959</td>\n",
              "      <td>1959.000000</td>\n",
              "      <td>1907.000000</td>\n",
              "      <td>1959.000000</td>\n",
              "    </tr>\n",
              "    <tr>\n",
              "      <th>unique</th>\n",
              "      <td>91</td>\n",
              "      <td>31</td>\n",
              "      <td>NaN</td>\n",
              "      <td>28</td>\n",
              "      <td>NaN</td>\n",
              "      <td>NaN</td>\n",
              "      <td>NaN</td>\n",
              "    </tr>\n",
              "    <tr>\n",
              "      <th>top</th>\n",
              "      <td>2019-12-06 00:00:00</td>\n",
              "      <td>sku027</td>\n",
              "      <td>NaN</td>\n",
              "      <td>storeA005</td>\n",
              "      <td>NaN</td>\n",
              "      <td>NaN</td>\n",
              "      <td>NaN</td>\n",
              "    </tr>\n",
              "    <tr>\n",
              "      <th>freq</th>\n",
              "      <td>32</td>\n",
              "      <td>66</td>\n",
              "      <td>NaN</td>\n",
              "      <td>89</td>\n",
              "      <td>NaN</td>\n",
              "      <td>NaN</td>\n",
              "      <td>NaN</td>\n",
              "    </tr>\n",
              "    <tr>\n",
              "      <th>first</th>\n",
              "      <td>2019-11-01 00:00:00</td>\n",
              "      <td>NaN</td>\n",
              "      <td>NaN</td>\n",
              "      <td>NaN</td>\n",
              "      <td>NaN</td>\n",
              "      <td>NaN</td>\n",
              "      <td>NaN</td>\n",
              "    </tr>\n",
              "    <tr>\n",
              "      <th>last</th>\n",
              "      <td>2020-01-30 00:00:00</td>\n",
              "      <td>NaN</td>\n",
              "      <td>NaN</td>\n",
              "      <td>NaN</td>\n",
              "      <td>NaN</td>\n",
              "      <td>NaN</td>\n",
              "      <td>NaN</td>\n",
              "    </tr>\n",
              "    <tr>\n",
              "      <th>mean</th>\n",
              "      <td>NaN</td>\n",
              "      <td>NaN</td>\n",
              "      <td>2.550844e+06</td>\n",
              "      <td>NaN</td>\n",
              "      <td>0.505360</td>\n",
              "      <td>0.489250</td>\n",
              "      <td>10.451251</td>\n",
              "    </tr>\n",
              "    <tr>\n",
              "      <th>std</th>\n",
              "      <td>NaN</td>\n",
              "      <td>NaN</td>\n",
              "      <td>1.398276e+06</td>\n",
              "      <td>NaN</td>\n",
              "      <td>0.500099</td>\n",
              "      <td>0.500016</td>\n",
              "      <td>5.777413</td>\n",
              "    </tr>\n",
              "    <tr>\n",
              "      <th>min</th>\n",
              "      <td>NaN</td>\n",
              "      <td>NaN</td>\n",
              "      <td>1.094172e+05</td>\n",
              "      <td>NaN</td>\n",
              "      <td>0.000000</td>\n",
              "      <td>0.000000</td>\n",
              "      <td>1.000000</td>\n",
              "    </tr>\n",
              "    <tr>\n",
              "      <th>25%</th>\n",
              "      <td>NaN</td>\n",
              "      <td>NaN</td>\n",
              "      <td>1.405427e+06</td>\n",
              "      <td>NaN</td>\n",
              "      <td>0.000000</td>\n",
              "      <td>0.000000</td>\n",
              "      <td>6.000000</td>\n",
              "    </tr>\n",
              "    <tr>\n",
              "      <th>50%</th>\n",
              "      <td>NaN</td>\n",
              "      <td>NaN</td>\n",
              "      <td>2.553664e+06</td>\n",
              "      <td>NaN</td>\n",
              "      <td>1.000000</td>\n",
              "      <td>0.000000</td>\n",
              "      <td>10.000000</td>\n",
              "    </tr>\n",
              "    <tr>\n",
              "      <th>75%</th>\n",
              "      <td>NaN</td>\n",
              "      <td>NaN</td>\n",
              "      <td>3.760694e+06</td>\n",
              "      <td>NaN</td>\n",
              "      <td>1.000000</td>\n",
              "      <td>1.000000</td>\n",
              "      <td>15.000000</td>\n",
              "    </tr>\n",
              "    <tr>\n",
              "      <th>max</th>\n",
              "      <td>NaN</td>\n",
              "      <td>NaN</td>\n",
              "      <td>4.998446e+06</td>\n",
              "      <td>NaN</td>\n",
              "      <td>1.000000</td>\n",
              "      <td>1.000000</td>\n",
              "      <td>20.000000</td>\n",
              "    </tr>\n",
              "  </tbody>\n",
              "</table>\n",
              "</div>"
            ],
            "text/plain": [
              "                       date product_sku  ...  member_promo     quantity\n",
              "count                  1954        1900  ...   1907.000000  1959.000000\n",
              "unique                   91          31  ...           NaN          NaN\n",
              "top     2019-12-06 00:00:00      sku027  ...           NaN          NaN\n",
              "freq                     32          66  ...           NaN          NaN\n",
              "first   2019-11-01 00:00:00         NaN  ...           NaN          NaN\n",
              "last    2020-01-30 00:00:00         NaN  ...           NaN          NaN\n",
              "mean                    NaN         NaN  ...      0.489250    10.451251\n",
              "std                     NaN         NaN  ...      0.500016     5.777413\n",
              "min                     NaN         NaN  ...      0.000000     1.000000\n",
              "25%                     NaN         NaN  ...      0.000000     6.000000\n",
              "50%                     NaN         NaN  ...      0.000000    10.000000\n",
              "75%                     NaN         NaN  ...      1.000000    15.000000\n",
              "max                     NaN         NaN  ...      1.000000    20.000000\n",
              "\n",
              "[13 rows x 7 columns]"
            ]
          },
          "metadata": {
            "tags": []
          },
          "execution_count": 63
        }
      ]
    },
    {
      "cell_type": "markdown",
      "metadata": {
        "id": "fPkB4jCF-Ked"
      },
      "source": [
        "#### Null Analysis"
      ]
    },
    {
      "cell_type": "markdown",
      "metadata": {
        "id": "7m34Eiz3-Kee"
      },
      "source": [
        "Checking for null values"
      ]
    },
    {
      "cell_type": "code",
      "metadata": {
        "id": "eYOGzUJ1-Kef"
      },
      "source": [
        "# Get Null Values in all columns Function\n",
        "\n",
        "def null_value_analysis(df):\n",
        "    the_data = pd.DataFrame(df.isnull().sum()).reset_index()\n",
        "    the_data.rename(columns = {'index': 'col_name', 0:'total'}, inplace = True)\n",
        "    \n",
        "    # Calculate the percentage of null value among the whole row of data\n",
        "    the_data['percentage'] = round(the_data['total'] / df.shape[0] * 100, 2)\n",
        "\n",
        "    return the_data"
      ],
      "execution_count": 64,
      "outputs": []
    },
    {
      "cell_type": "code",
      "metadata": {
        "colab": {
          "base_uri": "https://localhost:8080/",
          "height": 263
        },
        "id": "p_EeC4wl-Keh",
        "outputId": "7fca0648-0ef4-45d0-ceff-9eed9d92383a"
      },
      "source": [
        "null_value_analysis(stock_df)"
      ],
      "execution_count": 65,
      "outputs": [
        {
          "output_type": "execute_result",
          "data": {
            "text/html": [
              "<div>\n",
              "<style scoped>\n",
              "    .dataframe tbody tr th:only-of-type {\n",
              "        vertical-align: middle;\n",
              "    }\n",
              "\n",
              "    .dataframe tbody tr th {\n",
              "        vertical-align: top;\n",
              "    }\n",
              "\n",
              "    .dataframe thead th {\n",
              "        text-align: right;\n",
              "    }\n",
              "</style>\n",
              "<table border=\"1\" class=\"dataframe\">\n",
              "  <thead>\n",
              "    <tr style=\"text-align: right;\">\n",
              "      <th></th>\n",
              "      <th>col_name</th>\n",
              "      <th>total</th>\n",
              "      <th>percentage</th>\n",
              "    </tr>\n",
              "  </thead>\n",
              "  <tbody>\n",
              "    <tr>\n",
              "      <th>0</th>\n",
              "      <td>date</td>\n",
              "      <td>46</td>\n",
              "      <td>2.30</td>\n",
              "    </tr>\n",
              "    <tr>\n",
              "      <th>1</th>\n",
              "      <td>product_sku</td>\n",
              "      <td>100</td>\n",
              "      <td>5.00</td>\n",
              "    </tr>\n",
              "    <tr>\n",
              "      <th>2</th>\n",
              "      <td>price</td>\n",
              "      <td>100</td>\n",
              "      <td>5.00</td>\n",
              "    </tr>\n",
              "    <tr>\n",
              "      <th>3</th>\n",
              "      <td>store</td>\n",
              "      <td>41</td>\n",
              "      <td>2.05</td>\n",
              "    </tr>\n",
              "    <tr>\n",
              "      <th>4</th>\n",
              "      <td>is_promo_item</td>\n",
              "      <td>41</td>\n",
              "      <td>2.05</td>\n",
              "    </tr>\n",
              "    <tr>\n",
              "      <th>5</th>\n",
              "      <td>member_promo</td>\n",
              "      <td>93</td>\n",
              "      <td>4.65</td>\n",
              "    </tr>\n",
              "    <tr>\n",
              "      <th>6</th>\n",
              "      <td>quantity</td>\n",
              "      <td>41</td>\n",
              "      <td>2.05</td>\n",
              "    </tr>\n",
              "  </tbody>\n",
              "</table>\n",
              "</div>"
            ],
            "text/plain": [
              "        col_name  total  percentage\n",
              "0           date     46        2.30\n",
              "1    product_sku    100        5.00\n",
              "2          price    100        5.00\n",
              "3          store     41        2.05\n",
              "4  is_promo_item     41        2.05\n",
              "5   member_promo     93        4.65\n",
              "6       quantity     41        2.05"
            ]
          },
          "metadata": {
            "tags": []
          },
          "execution_count": 65
        }
      ]
    },
    {
      "cell_type": "code",
      "metadata": {
        "colab": {
          "base_uri": "https://localhost:8080/"
        },
        "id": "JWeYw5Ha-Kei",
        "outputId": "ba9d202f-a8bc-46a1-f4bc-d60eecbd15c4"
      },
      "source": [
        "date_null = (stock_df['date'].isnull())\n",
        "sku_null = (stock_df['product_sku'].isnull())\n",
        "price_null = (stock_df['price'].isnull())\n",
        "store_null = (stock_df['store'].isnull())\n",
        "promo_item_null = (stock_df['is_promo_item'].isnull())\n",
        "member_promo_null = (stock_df['member_promo'].isnull())\n",
        "quantity_null = (stock_df['quantity'].isnull())\n",
        "\n",
        "# Getting rows that have NULL values for all features\n",
        "all_null_df = stock_df[date_null & sku_null & price_null & store_null & promo_item_null & member_promo_null & quantity_null]\n",
        "partial_null_df = stock_df[date_null | sku_null | price_null | store_null | promo_item_null | member_promo_null | quantity_null]\n",
        "\n",
        "print('Rows of null value for all columns : {} \\t| Percentage : {}%'.format(all_null_df.shape[0], all_null_df.shape[0]/ stock_df.shape[0] * 100))\n",
        "print('Rows of null value for partial columns : {} \\t| Percentage : {}%'.format(partial_null_df.shape[0], partial_null_df.shape[0]/ stock_df.shape[0] * 100))\n"
      ],
      "execution_count": 66,
      "outputs": [
        {
          "output_type": "stream",
          "text": [
            "Rows of null value for all columns : 0 \t| Percentage : 0.0%\n",
            "Rows of null value for partial columns : 266 \t| Percentage : 13.3%\n"
          ],
          "name": "stdout"
        }
      ]
    },
    {
      "cell_type": "code",
      "metadata": {
        "colab": {
          "base_uri": "https://localhost:8080/",
          "height": 202
        },
        "id": "KXplqqju-Kek",
        "outputId": "88768c19-ecfd-45e7-ca55-f63058f3fe72"
      },
      "source": [
        "partial_null_df.head()"
      ],
      "execution_count": 67,
      "outputs": [
        {
          "output_type": "execute_result",
          "data": {
            "text/html": [
              "<div>\n",
              "<style scoped>\n",
              "    .dataframe tbody tr th:only-of-type {\n",
              "        vertical-align: middle;\n",
              "    }\n",
              "\n",
              "    .dataframe tbody tr th {\n",
              "        vertical-align: top;\n",
              "    }\n",
              "\n",
              "    .dataframe thead th {\n",
              "        text-align: right;\n",
              "    }\n",
              "</style>\n",
              "<table border=\"1\" class=\"dataframe\">\n",
              "  <thead>\n",
              "    <tr style=\"text-align: right;\">\n",
              "      <th></th>\n",
              "      <th>date</th>\n",
              "      <th>product_sku</th>\n",
              "      <th>price</th>\n",
              "      <th>store</th>\n",
              "      <th>is_promo_item</th>\n",
              "      <th>member_promo</th>\n",
              "      <th>quantity</th>\n",
              "    </tr>\n",
              "  </thead>\n",
              "  <tbody>\n",
              "    <tr>\n",
              "      <th>10</th>\n",
              "      <td>2020-01-01</td>\n",
              "      <td>sku031</td>\n",
              "      <td>650517.59</td>\n",
              "      <td>storeA002</td>\n",
              "      <td>0.0</td>\n",
              "      <td>NaN</td>\n",
              "      <td>18.0</td>\n",
              "    </tr>\n",
              "    <tr>\n",
              "      <th>15</th>\n",
              "      <td>2019-12-01</td>\n",
              "      <td>sku036</td>\n",
              "      <td>2142773.49</td>\n",
              "      <td>NaN</td>\n",
              "      <td>NaN</td>\n",
              "      <td>1.0</td>\n",
              "      <td>NaN</td>\n",
              "    </tr>\n",
              "    <tr>\n",
              "      <th>17</th>\n",
              "      <td>2020-01-24</td>\n",
              "      <td>NaN</td>\n",
              "      <td>NaN</td>\n",
              "      <td>storeA027</td>\n",
              "      <td>1.0</td>\n",
              "      <td>0.0</td>\n",
              "      <td>7.0</td>\n",
              "    </tr>\n",
              "    <tr>\n",
              "      <th>18</th>\n",
              "      <td>2019-11-27</td>\n",
              "      <td>sku039</td>\n",
              "      <td>4922293.00</td>\n",
              "      <td>storeA012</td>\n",
              "      <td>0.0</td>\n",
              "      <td>NaN</td>\n",
              "      <td>6.0</td>\n",
              "    </tr>\n",
              "    <tr>\n",
              "      <th>19</th>\n",
              "      <td>2019-11-15</td>\n",
              "      <td>sku040</td>\n",
              "      <td>2847936.18</td>\n",
              "      <td>storeA011</td>\n",
              "      <td>1.0</td>\n",
              "      <td>NaN</td>\n",
              "      <td>16.0</td>\n",
              "    </tr>\n",
              "  </tbody>\n",
              "</table>\n",
              "</div>"
            ],
            "text/plain": [
              "         date product_sku       price  ... is_promo_item  member_promo  quantity\n",
              "10 2020-01-01      sku031   650517.59  ...           0.0           NaN      18.0\n",
              "15 2019-12-01      sku036  2142773.49  ...           NaN           1.0       NaN\n",
              "17 2020-01-24         NaN         NaN  ...           1.0           0.0       7.0\n",
              "18 2019-11-27      sku039  4922293.00  ...           0.0           NaN       6.0\n",
              "19 2019-11-15      sku040  2847936.18  ...           1.0           NaN      16.0\n",
              "\n",
              "[5 rows x 7 columns]"
            ]
          },
          "metadata": {
            "tags": []
          },
          "execution_count": 67
        }
      ]
    },
    {
      "cell_type": "markdown",
      "metadata": {
        "id": "L3h1tvKO-Kel"
      },
      "source": [
        "As can be seen from above 2 cells, there is no rows that have all NULL, but there are 266 rows that have partially Null (around 13.3%) out of the whole row. For now, let's drop all rows that have null values everywhere. And when we're trying to build a better model, we could try to impute the missing values and compare the result with the other models."
      ]
    },
    {
      "cell_type": "code",
      "metadata": {
        "colab": {
          "base_uri": "https://localhost:8080/",
          "height": 218
        },
        "id": "MzZrojHf-Kem",
        "outputId": "28ed6f11-6d98-461a-9c2e-9365b4561f63"
      },
      "source": [
        "stock_df_nonull = stock_df.dropna(axis = 0, how = 'any')\n",
        "\n",
        "print(stock_df_nonull.shape)\n",
        "stock_df_nonull.head()"
      ],
      "execution_count": 68,
      "outputs": [
        {
          "output_type": "stream",
          "text": [
            "(1734, 7)\n"
          ],
          "name": "stdout"
        },
        {
          "output_type": "execute_result",
          "data": {
            "text/html": [
              "<div>\n",
              "<style scoped>\n",
              "    .dataframe tbody tr th:only-of-type {\n",
              "        vertical-align: middle;\n",
              "    }\n",
              "\n",
              "    .dataframe tbody tr th {\n",
              "        vertical-align: top;\n",
              "    }\n",
              "\n",
              "    .dataframe thead th {\n",
              "        text-align: right;\n",
              "    }\n",
              "</style>\n",
              "<table border=\"1\" class=\"dataframe\">\n",
              "  <thead>\n",
              "    <tr style=\"text-align: right;\">\n",
              "      <th></th>\n",
              "      <th>date</th>\n",
              "      <th>product_sku</th>\n",
              "      <th>price</th>\n",
              "      <th>store</th>\n",
              "      <th>is_promo_item</th>\n",
              "      <th>member_promo</th>\n",
              "      <th>quantity</th>\n",
              "    </tr>\n",
              "  </thead>\n",
              "  <tbody>\n",
              "    <tr>\n",
              "      <th>0</th>\n",
              "      <td>2019-11-29</td>\n",
              "      <td>sku021</td>\n",
              "      <td>147454.56</td>\n",
              "      <td>storeA013</td>\n",
              "      <td>0.0</td>\n",
              "      <td>1.0</td>\n",
              "      <td>18.0</td>\n",
              "    </tr>\n",
              "    <tr>\n",
              "      <th>1</th>\n",
              "      <td>2020-01-15</td>\n",
              "      <td>sku022</td>\n",
              "      <td>4303058.84</td>\n",
              "      <td>storeA006</td>\n",
              "      <td>1.0</td>\n",
              "      <td>0.0</td>\n",
              "      <td>3.0</td>\n",
              "    </tr>\n",
              "    <tr>\n",
              "      <th>2</th>\n",
              "      <td>2020-01-28</td>\n",
              "      <td>sku023</td>\n",
              "      <td>1742713.52</td>\n",
              "      <td>storeA017</td>\n",
              "      <td>1.0</td>\n",
              "      <td>0.0</td>\n",
              "      <td>9.0</td>\n",
              "    </tr>\n",
              "    <tr>\n",
              "      <th>3</th>\n",
              "      <td>2019-12-05</td>\n",
              "      <td>sku024</td>\n",
              "      <td>4656476.03</td>\n",
              "      <td>storeA007</td>\n",
              "      <td>0.0</td>\n",
              "      <td>1.0</td>\n",
              "      <td>8.0</td>\n",
              "    </tr>\n",
              "    <tr>\n",
              "      <th>4</th>\n",
              "      <td>2020-01-04</td>\n",
              "      <td>sku025</td>\n",
              "      <td>4774574.30</td>\n",
              "      <td>storeA015</td>\n",
              "      <td>0.0</td>\n",
              "      <td>0.0</td>\n",
              "      <td>1.0</td>\n",
              "    </tr>\n",
              "  </tbody>\n",
              "</table>\n",
              "</div>"
            ],
            "text/plain": [
              "        date product_sku       price  ... is_promo_item  member_promo  quantity\n",
              "0 2019-11-29      sku021   147454.56  ...           0.0           1.0      18.0\n",
              "1 2020-01-15      sku022  4303058.84  ...           1.0           0.0       3.0\n",
              "2 2020-01-28      sku023  1742713.52  ...           1.0           0.0       9.0\n",
              "3 2019-12-05      sku024  4656476.03  ...           0.0           1.0       8.0\n",
              "4 2020-01-04      sku025  4774574.30  ...           0.0           0.0       1.0\n",
              "\n",
              "[5 rows x 7 columns]"
            ]
          },
          "metadata": {
            "tags": []
          },
          "execution_count": 68
        }
      ]
    },
    {
      "cell_type": "code",
      "metadata": {
        "id": "FgrS76ra-Keo"
      },
      "source": [
        "# stock_df_nonull.to_csv('stock_df_nonull.csv', index=False)"
      ],
      "execution_count": null,
      "outputs": []
    },
    {
      "cell_type": "markdown",
      "metadata": {
        "id": "CZ8-My8zBhay"
      },
      "source": [
        "Since there is a feature with timestamp, let's try to break it down into several features. That way we could get more features and we could identify if there's any seasonality in the data that would make our prediction power stronger."
      ]
    },
    {
      "cell_type": "code",
      "metadata": {
        "colab": {
          "base_uri": "https://localhost:8080/",
          "height": 535
        },
        "id": "qxc8_awQ-Kep",
        "outputId": "b19cc074-36ae-44ac-a3a1-fdfd80dab49c"
      },
      "source": [
        "stock_df_nonull.loc[:,'day_num'] = stock_df_nonull.loc[:,'date'].dt.day\n",
        "stock_df_nonull.loc[:,'month_num'] = stock_df_nonull.loc[:,'date'].dt.month\n",
        "stock_df_nonull.loc[:,'year_num'] = stock_df_nonull.loc[:,'date'].dt.year\n",
        "stock_df_nonull.loc[:,'day_name'] = stock_df_nonull.loc[:,'date'].dt.day_name()\n",
        "stock_df_nonull.loc[:,'week_num'] = stock_df_nonull.loc[:,'date'].dt.week\n",
        "stock_df_nonull.loc[:,'year_month'] = stock_df_nonull.loc[:, 'year_num'].astype(str) + '-' + stock_df_nonull.loc[:, 'month_num'].astype(str)\n",
        "stock_df_nonull.loc[:,'year_week'] = stock_df_nonull.loc[:, 'year_num'].astype(str) + '-' + stock_df_nonull.loc[:, 'week_num'].astype(str)\n",
        "stock_df_nonull.loc[:,'wom'] = stock_df_nonull.loc[:,'date'].apply(lambda d: (d.day-1) // 7 + 1)\n",
        "\n",
        "stock_df_nonull.loc[:, 'revenue'] = stock_df_nonull.loc[:, 'quantity'] * stock_df_nonull.loc[:, 'price']\n",
        "\n",
        "\n",
        "stock_df_nonull.head()"
      ],
      "execution_count": 70,
      "outputs": [
        {
          "output_type": "stream",
          "text": [
            "/usr/local/lib/python3.7/dist-packages/pandas/core/indexing.py:1596: SettingWithCopyWarning:\n",
            "\n",
            "\n",
            "A value is trying to be set on a copy of a slice from a DataFrame.\n",
            "Try using .loc[row_indexer,col_indexer] = value instead\n",
            "\n",
            "See the caveats in the documentation: https://pandas.pydata.org/pandas-docs/stable/user_guide/indexing.html#returning-a-view-versus-a-copy\n",
            "\n",
            "/usr/local/lib/python3.7/dist-packages/pandas/core/indexing.py:1743: SettingWithCopyWarning:\n",
            "\n",
            "\n",
            "A value is trying to be set on a copy of a slice from a DataFrame.\n",
            "Try using .loc[row_indexer,col_indexer] = value instead\n",
            "\n",
            "See the caveats in the documentation: https://pandas.pydata.org/pandas-docs/stable/user_guide/indexing.html#returning-a-view-versus-a-copy\n",
            "\n",
            "/usr/local/lib/python3.7/dist-packages/ipykernel_launcher.py:5: FutureWarning:\n",
            "\n",
            "Series.dt.weekofyear and Series.dt.week have been deprecated.  Please use Series.dt.isocalendar().week instead.\n",
            "\n"
          ],
          "name": "stderr"
        },
        {
          "output_type": "execute_result",
          "data": {
            "text/html": [
              "<div>\n",
              "<style scoped>\n",
              "    .dataframe tbody tr th:only-of-type {\n",
              "        vertical-align: middle;\n",
              "    }\n",
              "\n",
              "    .dataframe tbody tr th {\n",
              "        vertical-align: top;\n",
              "    }\n",
              "\n",
              "    .dataframe thead th {\n",
              "        text-align: right;\n",
              "    }\n",
              "</style>\n",
              "<table border=\"1\" class=\"dataframe\">\n",
              "  <thead>\n",
              "    <tr style=\"text-align: right;\">\n",
              "      <th></th>\n",
              "      <th>date</th>\n",
              "      <th>product_sku</th>\n",
              "      <th>price</th>\n",
              "      <th>store</th>\n",
              "      <th>is_promo_item</th>\n",
              "      <th>member_promo</th>\n",
              "      <th>quantity</th>\n",
              "      <th>day_num</th>\n",
              "      <th>month_num</th>\n",
              "      <th>year_num</th>\n",
              "      <th>day_name</th>\n",
              "      <th>week_num</th>\n",
              "      <th>year_month</th>\n",
              "      <th>year_week</th>\n",
              "      <th>wom</th>\n",
              "      <th>revenue</th>\n",
              "    </tr>\n",
              "  </thead>\n",
              "  <tbody>\n",
              "    <tr>\n",
              "      <th>0</th>\n",
              "      <td>2019-11-29</td>\n",
              "      <td>sku021</td>\n",
              "      <td>147454.56</td>\n",
              "      <td>storeA013</td>\n",
              "      <td>0.0</td>\n",
              "      <td>1.0</td>\n",
              "      <td>18.0</td>\n",
              "      <td>29</td>\n",
              "      <td>11</td>\n",
              "      <td>2019</td>\n",
              "      <td>Friday</td>\n",
              "      <td>48</td>\n",
              "      <td>2019-11</td>\n",
              "      <td>2019-48</td>\n",
              "      <td>5</td>\n",
              "      <td>2654182.08</td>\n",
              "    </tr>\n",
              "    <tr>\n",
              "      <th>1</th>\n",
              "      <td>2020-01-15</td>\n",
              "      <td>sku022</td>\n",
              "      <td>4303058.84</td>\n",
              "      <td>storeA006</td>\n",
              "      <td>1.0</td>\n",
              "      <td>0.0</td>\n",
              "      <td>3.0</td>\n",
              "      <td>15</td>\n",
              "      <td>1</td>\n",
              "      <td>2020</td>\n",
              "      <td>Wednesday</td>\n",
              "      <td>3</td>\n",
              "      <td>2020-1</td>\n",
              "      <td>2020-3</td>\n",
              "      <td>3</td>\n",
              "      <td>12909176.52</td>\n",
              "    </tr>\n",
              "    <tr>\n",
              "      <th>2</th>\n",
              "      <td>2020-01-28</td>\n",
              "      <td>sku023</td>\n",
              "      <td>1742713.52</td>\n",
              "      <td>storeA017</td>\n",
              "      <td>1.0</td>\n",
              "      <td>0.0</td>\n",
              "      <td>9.0</td>\n",
              "      <td>28</td>\n",
              "      <td>1</td>\n",
              "      <td>2020</td>\n",
              "      <td>Tuesday</td>\n",
              "      <td>5</td>\n",
              "      <td>2020-1</td>\n",
              "      <td>2020-5</td>\n",
              "      <td>4</td>\n",
              "      <td>15684421.68</td>\n",
              "    </tr>\n",
              "    <tr>\n",
              "      <th>3</th>\n",
              "      <td>2019-12-05</td>\n",
              "      <td>sku024</td>\n",
              "      <td>4656476.03</td>\n",
              "      <td>storeA007</td>\n",
              "      <td>0.0</td>\n",
              "      <td>1.0</td>\n",
              "      <td>8.0</td>\n",
              "      <td>5</td>\n",
              "      <td>12</td>\n",
              "      <td>2019</td>\n",
              "      <td>Thursday</td>\n",
              "      <td>49</td>\n",
              "      <td>2019-12</td>\n",
              "      <td>2019-49</td>\n",
              "      <td>1</td>\n",
              "      <td>37251808.24</td>\n",
              "    </tr>\n",
              "    <tr>\n",
              "      <th>4</th>\n",
              "      <td>2020-01-04</td>\n",
              "      <td>sku025</td>\n",
              "      <td>4774574.30</td>\n",
              "      <td>storeA015</td>\n",
              "      <td>0.0</td>\n",
              "      <td>0.0</td>\n",
              "      <td>1.0</td>\n",
              "      <td>4</td>\n",
              "      <td>1</td>\n",
              "      <td>2020</td>\n",
              "      <td>Saturday</td>\n",
              "      <td>1</td>\n",
              "      <td>2020-1</td>\n",
              "      <td>2020-1</td>\n",
              "      <td>1</td>\n",
              "      <td>4774574.30</td>\n",
              "    </tr>\n",
              "  </tbody>\n",
              "</table>\n",
              "</div>"
            ],
            "text/plain": [
              "        date product_sku       price  ... year_week  wom      revenue\n",
              "0 2019-11-29      sku021   147454.56  ...   2019-48    5   2654182.08\n",
              "1 2020-01-15      sku022  4303058.84  ...    2020-3    3  12909176.52\n",
              "2 2020-01-28      sku023  1742713.52  ...    2020-5    4  15684421.68\n",
              "3 2019-12-05      sku024  4656476.03  ...   2019-49    1  37251808.24\n",
              "4 2020-01-04      sku025  4774574.30  ...    2020-1    1   4774574.30\n",
              "\n",
              "[5 rows x 16 columns]"
            ]
          },
          "metadata": {
            "tags": []
          },
          "execution_count": 70
        }
      ]
    },
    {
      "cell_type": "markdown",
      "metadata": {
        "id": "DxZzOvsY-Keq"
      },
      "source": [
        "### Analysis Based on Store"
      ]
    },
    {
      "cell_type": "code",
      "metadata": {
        "scrolled": false,
        "colab": {
          "base_uri": "https://localhost:8080/",
          "height": 1000
        },
        "id": "rX_iWKjF-Ker",
        "outputId": "1ac20fb5-0f2f-4699-9f9a-6d7aec8155dc"
      },
      "source": [
        "###### Mean Qty per store\n",
        "store_mean_qty_dict = {'store': stock_df_nonull['store'].unique(),\n",
        "                       'mean':[stock_df_nonull['quantity'].mean()] * len(stock_df_nonull['store'].unique())}\n",
        "\n",
        "store_mean_qty = pd.DataFrame(store_mean_qty_dict)\n",
        "\n",
        "# Number of product that every store has\n",
        "num_unique_sku = pd.DataFrame(stock_df_nonull.groupby('store')['product_sku'].nunique()).reset_index()\n",
        "num_unique_sku.rename(columns = {'product_sku':'total'}, inplace = True)\n",
        "\n",
        "# Total Revenue per store\n",
        "rev_store = pd.DataFrame(stock_df_nonull.groupby('store')['revenue'].sum()).reset_index()\n",
        "\n",
        "# Total quantity sold per store per product\n",
        "total_quantity = pd.DataFrame(stock_df_nonull.groupby(['store', 'product_sku'])['quantity'].sum()).reset_index()\n",
        "total_quantity.rename(columns = {'quantity' : 'total_quantity'}, inplace = True)\n",
        "\n",
        "# Total revenue per day\n",
        "tot_rev_daily = pd.DataFrame(stock_df_nonull.groupby(['day_num'])['revenue'].sum()).reset_index()\n",
        "# tot_rev_daily.rename(columns = {'quantity' : 'revenue'}, inplace = True)\n",
        "\n",
        "# Total quantity per month\n",
        "tot_quantity_monthly = pd.DataFrame(stock_df_nonull.groupby(['month_num'])['quantity'].sum()).reset_index()\n",
        "tot_quantity_monthly.rename(columns = {'quantity' : 'total_quantity'}, inplace = True)\n",
        "tot_quantity_monthly.sort_values(by = 'month_num')\n",
        "\n",
        "# Total Quantity by date\n",
        "tot_quantity_date = pd.DataFrame(stock_df.groupby(['date'])['quantity'].sum()).reset_index()\n",
        "tot_quantity_date.rename(columns = {'quantity' : 'total_quantity'}, inplace = True)\n",
        "\n",
        "# Total Revenue by Data\n",
        "tot_rev_date = pd.DataFrame(stock_df_nonull.groupby(['date'])['revenue'].sum()).reset_index()\n",
        "\n",
        "##### START PLOT #####\n",
        "fig1 = go.Figure()\n",
        "fig1 = go.Figure()\n",
        "fig1.add_trace(go.Bar(x=num_unique_sku['store'],\n",
        "                y=num_unique_sku['total'],\n",
        "                name='Num Unique',\n",
        "                marker_color='rgb(55, 83, 109)',\n",
        "                text = num_unique_sku['total'],\n",
        "                textposition = 'auto'\n",
        "                ))\n",
        "\n",
        "fig1.update_layout(title_text='Number of Unique SKU per Store',\n",
        "                  xaxis_title = 'Store Name',\n",
        "                  yaxis_title = 'Number of Product')\n",
        "fig1.show()\n",
        "\n",
        "################# Quantity Sold Distribution per Store\n",
        "fig2 = go.Figure()\n",
        "fig2.add_trace(go.Box(y=stock_df_nonull['quantity'], x=stock_df_nonull['store'], boxmean=True,\n",
        "                     marker_color = '#27496d', name = 'Qty Distribution'))\n",
        "\n",
        "fig2.add_trace(go.Scatter(x=store_mean_qty['store'], y = store_mean_qty['mean'],mode='lines',\n",
        "                         name = 'Mean Qty Sold', line=dict(color='firebrick', width=3,dash='dash')\n",
        "                         )\n",
        "              )\n",
        "\n",
        "fig2.update_layout(title_text = 'Quantity Sold per Store',\n",
        "                  xaxis_title = 'Store Name',\n",
        "                  yaxis_title = 'Qty Sold')\n",
        "\n",
        "fig2.show()\n",
        "\n",
        "################# Revenue Distribution per Store\n",
        "fig3 = go.Figure()\n",
        "fig3.add_trace(go.Box(y=stock_df_nonull['revenue'], x=stock_df_nonull['store'], boxmean=True,\n",
        "                     marker_color = '#434e52'))\n",
        "\n",
        "fig3.update_layout(title_text = 'Revenue Distribution per Store',\n",
        "                  xaxis_title = 'Store Name',\n",
        "                  yaxis_title = 'Revenue')\n",
        "\n",
        "fig3.show()\n"
      ],
      "execution_count": 21,
      "outputs": [
        {
          "output_type": "display_data",
          "data": {
            "text/html": [
              "<html>\n",
              "<head><meta charset=\"utf-8\" /></head>\n",
              "<body>\n",
              "    <div>\n",
              "            <script src=\"https://cdnjs.cloudflare.com/ajax/libs/mathjax/2.7.5/MathJax.js?config=TeX-AMS-MML_SVG\"></script><script type=\"text/javascript\">if (window.MathJax) {MathJax.Hub.Config({SVG: {font: \"STIX-Web\"}});}</script>\n",
              "                <script type=\"text/javascript\">window.PlotlyConfig = {MathJaxConfig: 'local'};</script>\n",
              "        <script src=\"https://cdn.plot.ly/plotly-latest.min.js\"></script>    \n",
              "            <div id=\"b6223138-e586-413d-afc8-2a6ba97b999c\" class=\"plotly-graph-div\" style=\"height:525px; width:100%;\"></div>\n",
              "            <script type=\"text/javascript\">\n",
              "                \n",
              "                    window.PLOTLYENV=window.PLOTLYENV || {};\n",
              "                    \n",
              "                if (document.getElementById(\"b6223138-e586-413d-afc8-2a6ba97b999c\")) {\n",
              "                    Plotly.newPlot(\n",
              "                        'b6223138-e586-413d-afc8-2a6ba97b999c',\n",
              "                        [{\"marker\": {\"color\": \"rgb(55, 83, 109)\"}, \"name\": \"Num Unique\", \"text\": [26.0, 28.0, 29.0, 26.0, 30.0, 25.0, 26.0, 28.0, 27.0, 24.0, 26.0, 30.0, 25.0, 27.0, 27.0, 24.0, 23.0, 27.0, 28.0, 25.0, 28.0, 27.0, 28.0, 28.0, 28.0, 27.0, 29.0, 27.0], \"textposition\": \"auto\", \"type\": \"bar\", \"x\": [\"storeA001\", \"storeA002\", \"storeA003\", \"storeA004\", \"storeA005\", \"storeA006\", \"storeA007\", \"storeA008\", \"storeA009\", \"storeA010\", \"storeA011\", \"storeA012\", \"storeA013\", \"storeA014\", \"storeA015\", \"storeA016\", \"storeA017\", \"storeA018\", \"storeA019\", \"storeA020\", \"storeA021\", \"storeA022\", \"storeA023\", \"storeA024\", \"storeA025\", \"storeA026\", \"storeA027\", \"storeA028\"], \"y\": [26, 28, 29, 26, 30, 25, 26, 28, 27, 24, 26, 30, 25, 27, 27, 24, 23, 27, 28, 25, 28, 27, 28, 28, 28, 27, 29, 27]}],\n",
              "                        {\"template\": {\"data\": {\"bar\": [{\"error_x\": {\"color\": \"#2a3f5f\"}, \"error_y\": {\"color\": \"#2a3f5f\"}, \"marker\": {\"line\": {\"color\": \"#E5ECF6\", \"width\": 0.5}}, \"type\": \"bar\"}], \"barpolar\": [{\"marker\": {\"line\": {\"color\": \"#E5ECF6\", \"width\": 0.5}}, \"type\": \"barpolar\"}], \"carpet\": [{\"aaxis\": {\"endlinecolor\": \"#2a3f5f\", \"gridcolor\": \"white\", \"linecolor\": \"white\", \"minorgridcolor\": \"white\", \"startlinecolor\": \"#2a3f5f\"}, \"baxis\": {\"endlinecolor\": \"#2a3f5f\", \"gridcolor\": \"white\", \"linecolor\": \"white\", \"minorgridcolor\": \"white\", \"startlinecolor\": \"#2a3f5f\"}, \"type\": \"carpet\"}], \"choropleth\": [{\"colorbar\": {\"outlinewidth\": 0, \"ticks\": \"\"}, \"type\": \"choropleth\"}], \"contour\": [{\"colorbar\": {\"outlinewidth\": 0, \"ticks\": \"\"}, \"colorscale\": [[0.0, \"#0d0887\"], [0.1111111111111111, \"#46039f\"], [0.2222222222222222, \"#7201a8\"], [0.3333333333333333, \"#9c179e\"], [0.4444444444444444, \"#bd3786\"], [0.5555555555555556, \"#d8576b\"], [0.6666666666666666, \"#ed7953\"], [0.7777777777777778, \"#fb9f3a\"], [0.8888888888888888, \"#fdca26\"], [1.0, \"#f0f921\"]], \"type\": \"contour\"}], \"contourcarpet\": [{\"colorbar\": {\"outlinewidth\": 0, \"ticks\": \"\"}, \"type\": \"contourcarpet\"}], \"heatmap\": [{\"colorbar\": {\"outlinewidth\": 0, \"ticks\": \"\"}, \"colorscale\": [[0.0, \"#0d0887\"], [0.1111111111111111, \"#46039f\"], [0.2222222222222222, \"#7201a8\"], [0.3333333333333333, \"#9c179e\"], [0.4444444444444444, \"#bd3786\"], [0.5555555555555556, \"#d8576b\"], [0.6666666666666666, \"#ed7953\"], [0.7777777777777778, \"#fb9f3a\"], [0.8888888888888888, \"#fdca26\"], [1.0, \"#f0f921\"]], \"type\": \"heatmap\"}], \"heatmapgl\": [{\"colorbar\": {\"outlinewidth\": 0, \"ticks\": \"\"}, \"colorscale\": [[0.0, \"#0d0887\"], [0.1111111111111111, \"#46039f\"], [0.2222222222222222, \"#7201a8\"], [0.3333333333333333, \"#9c179e\"], [0.4444444444444444, \"#bd3786\"], [0.5555555555555556, \"#d8576b\"], [0.6666666666666666, \"#ed7953\"], [0.7777777777777778, \"#fb9f3a\"], [0.8888888888888888, \"#fdca26\"], [1.0, \"#f0f921\"]], \"type\": \"heatmapgl\"}], \"histogram\": [{\"marker\": {\"colorbar\": {\"outlinewidth\": 0, \"ticks\": \"\"}}, \"type\": \"histogram\"}], \"histogram2d\": [{\"colorbar\": {\"outlinewidth\": 0, \"ticks\": \"\"}, \"colorscale\": [[0.0, \"#0d0887\"], [0.1111111111111111, \"#46039f\"], [0.2222222222222222, \"#7201a8\"], [0.3333333333333333, \"#9c179e\"], [0.4444444444444444, \"#bd3786\"], [0.5555555555555556, \"#d8576b\"], [0.6666666666666666, \"#ed7953\"], [0.7777777777777778, \"#fb9f3a\"], [0.8888888888888888, \"#fdca26\"], [1.0, \"#f0f921\"]], \"type\": \"histogram2d\"}], \"histogram2dcontour\": [{\"colorbar\": {\"outlinewidth\": 0, \"ticks\": \"\"}, \"colorscale\": [[0.0, \"#0d0887\"], [0.1111111111111111, \"#46039f\"], [0.2222222222222222, \"#7201a8\"], [0.3333333333333333, \"#9c179e\"], [0.4444444444444444, \"#bd3786\"], [0.5555555555555556, \"#d8576b\"], [0.6666666666666666, \"#ed7953\"], [0.7777777777777778, \"#fb9f3a\"], [0.8888888888888888, \"#fdca26\"], [1.0, \"#f0f921\"]], \"type\": \"histogram2dcontour\"}], \"mesh3d\": [{\"colorbar\": {\"outlinewidth\": 0, \"ticks\": \"\"}, \"type\": \"mesh3d\"}], \"parcoords\": [{\"line\": {\"colorbar\": {\"outlinewidth\": 0, \"ticks\": \"\"}}, \"type\": \"parcoords\"}], \"pie\": [{\"automargin\": true, \"type\": \"pie\"}], \"scatter\": [{\"marker\": {\"colorbar\": {\"outlinewidth\": 0, \"ticks\": \"\"}}, \"type\": \"scatter\"}], \"scatter3d\": [{\"line\": {\"colorbar\": {\"outlinewidth\": 0, \"ticks\": \"\"}}, \"marker\": {\"colorbar\": {\"outlinewidth\": 0, \"ticks\": \"\"}}, \"type\": \"scatter3d\"}], \"scattercarpet\": [{\"marker\": {\"colorbar\": {\"outlinewidth\": 0, \"ticks\": \"\"}}, \"type\": \"scattercarpet\"}], \"scattergeo\": [{\"marker\": {\"colorbar\": {\"outlinewidth\": 0, \"ticks\": \"\"}}, \"type\": \"scattergeo\"}], \"scattergl\": [{\"marker\": {\"colorbar\": {\"outlinewidth\": 0, \"ticks\": \"\"}}, \"type\": \"scattergl\"}], \"scattermapbox\": [{\"marker\": {\"colorbar\": {\"outlinewidth\": 0, \"ticks\": \"\"}}, \"type\": \"scattermapbox\"}], \"scatterpolar\": [{\"marker\": {\"colorbar\": {\"outlinewidth\": 0, \"ticks\": \"\"}}, \"type\": \"scatterpolar\"}], \"scatterpolargl\": [{\"marker\": {\"colorbar\": {\"outlinewidth\": 0, \"ticks\": \"\"}}, \"type\": \"scatterpolargl\"}], \"scatterternary\": [{\"marker\": {\"colorbar\": {\"outlinewidth\": 0, \"ticks\": \"\"}}, \"type\": \"scatterternary\"}], \"surface\": [{\"colorbar\": {\"outlinewidth\": 0, \"ticks\": \"\"}, \"colorscale\": [[0.0, \"#0d0887\"], [0.1111111111111111, \"#46039f\"], [0.2222222222222222, \"#7201a8\"], [0.3333333333333333, \"#9c179e\"], [0.4444444444444444, \"#bd3786\"], [0.5555555555555556, \"#d8576b\"], [0.6666666666666666, \"#ed7953\"], [0.7777777777777778, \"#fb9f3a\"], [0.8888888888888888, \"#fdca26\"], [1.0, \"#f0f921\"]], \"type\": \"surface\"}], \"table\": [{\"cells\": {\"fill\": {\"color\": \"#EBF0F8\"}, \"line\": {\"color\": \"white\"}}, \"header\": {\"fill\": {\"color\": \"#C8D4E3\"}, \"line\": {\"color\": \"white\"}}, \"type\": \"table\"}]}, \"layout\": {\"annotationdefaults\": {\"arrowcolor\": \"#2a3f5f\", \"arrowhead\": 0, \"arrowwidth\": 1}, \"coloraxis\": {\"colorbar\": {\"outlinewidth\": 0, \"ticks\": \"\"}}, \"colorscale\": {\"diverging\": [[0, \"#8e0152\"], [0.1, \"#c51b7d\"], [0.2, \"#de77ae\"], [0.3, \"#f1b6da\"], [0.4, \"#fde0ef\"], [0.5, \"#f7f7f7\"], [0.6, \"#e6f5d0\"], [0.7, \"#b8e186\"], [0.8, \"#7fbc41\"], [0.9, \"#4d9221\"], [1, \"#276419\"]], \"sequential\": [[0.0, \"#0d0887\"], [0.1111111111111111, \"#46039f\"], [0.2222222222222222, \"#7201a8\"], [0.3333333333333333, \"#9c179e\"], [0.4444444444444444, \"#bd3786\"], [0.5555555555555556, \"#d8576b\"], [0.6666666666666666, \"#ed7953\"], [0.7777777777777778, \"#fb9f3a\"], [0.8888888888888888, \"#fdca26\"], [1.0, \"#f0f921\"]], \"sequentialminus\": [[0.0, \"#0d0887\"], [0.1111111111111111, \"#46039f\"], [0.2222222222222222, \"#7201a8\"], [0.3333333333333333, \"#9c179e\"], [0.4444444444444444, \"#bd3786\"], [0.5555555555555556, \"#d8576b\"], [0.6666666666666666, \"#ed7953\"], [0.7777777777777778, \"#fb9f3a\"], [0.8888888888888888, \"#fdca26\"], [1.0, \"#f0f921\"]]}, \"colorway\": [\"#636efa\", \"#EF553B\", \"#00cc96\", \"#ab63fa\", \"#FFA15A\", \"#19d3f3\", \"#FF6692\", \"#B6E880\", \"#FF97FF\", \"#FECB52\"], \"font\": {\"color\": \"#2a3f5f\"}, \"geo\": {\"bgcolor\": \"white\", \"lakecolor\": \"white\", \"landcolor\": \"#E5ECF6\", \"showlakes\": true, \"showland\": true, \"subunitcolor\": \"white\"}, \"hoverlabel\": {\"align\": \"left\"}, \"hovermode\": \"closest\", \"mapbox\": {\"style\": \"light\"}, \"paper_bgcolor\": \"white\", \"plot_bgcolor\": \"#E5ECF6\", \"polar\": {\"angularaxis\": {\"gridcolor\": \"white\", \"linecolor\": \"white\", \"ticks\": \"\"}, \"bgcolor\": \"#E5ECF6\", \"radialaxis\": {\"gridcolor\": \"white\", \"linecolor\": \"white\", \"ticks\": \"\"}}, \"scene\": {\"xaxis\": {\"backgroundcolor\": \"#E5ECF6\", \"gridcolor\": \"white\", \"gridwidth\": 2, \"linecolor\": \"white\", \"showbackground\": true, \"ticks\": \"\", \"zerolinecolor\": \"white\"}, \"yaxis\": {\"backgroundcolor\": \"#E5ECF6\", \"gridcolor\": \"white\", \"gridwidth\": 2, \"linecolor\": \"white\", \"showbackground\": true, \"ticks\": \"\", \"zerolinecolor\": \"white\"}, \"zaxis\": {\"backgroundcolor\": \"#E5ECF6\", \"gridcolor\": \"white\", \"gridwidth\": 2, \"linecolor\": \"white\", \"showbackground\": true, \"ticks\": \"\", \"zerolinecolor\": \"white\"}}, \"shapedefaults\": {\"line\": {\"color\": \"#2a3f5f\"}}, \"ternary\": {\"aaxis\": {\"gridcolor\": \"white\", \"linecolor\": \"white\", \"ticks\": \"\"}, \"baxis\": {\"gridcolor\": \"white\", \"linecolor\": \"white\", \"ticks\": \"\"}, \"bgcolor\": \"#E5ECF6\", \"caxis\": {\"gridcolor\": \"white\", \"linecolor\": \"white\", \"ticks\": \"\"}}, \"title\": {\"x\": 0.05}, \"xaxis\": {\"automargin\": true, \"gridcolor\": \"white\", \"linecolor\": \"white\", \"ticks\": \"\", \"title\": {\"standoff\": 15}, \"zerolinecolor\": \"white\", \"zerolinewidth\": 2}, \"yaxis\": {\"automargin\": true, \"gridcolor\": \"white\", \"linecolor\": \"white\", \"ticks\": \"\", \"title\": {\"standoff\": 15}, \"zerolinecolor\": \"white\", \"zerolinewidth\": 2}}}, \"title\": {\"text\": \"Number of Unique SKU per Store\"}, \"xaxis\": {\"title\": {\"text\": \"Store Name\"}}, \"yaxis\": {\"title\": {\"text\": \"Number of Product\"}}},\n",
              "                        {\"responsive\": true}\n",
              "                    ).then(function(){\n",
              "                            \n",
              "var gd = document.getElementById('b6223138-e586-413d-afc8-2a6ba97b999c');\n",
              "var x = new MutationObserver(function (mutations, observer) {{\n",
              "        var display = window.getComputedStyle(gd).display;\n",
              "        if (!display || display === 'none') {{\n",
              "            console.log([gd, 'removed!']);\n",
              "            Plotly.purge(gd);\n",
              "            observer.disconnect();\n",
              "        }}\n",
              "}});\n",
              "\n",
              "// Listen for the removal of the full notebook cells\n",
              "var notebookContainer = gd.closest('#notebook-container');\n",
              "if (notebookContainer) {{\n",
              "    x.observe(notebookContainer, {childList: true});\n",
              "}}\n",
              "\n",
              "// Listen for the clearing of the current output cell\n",
              "var outputEl = gd.closest('.output');\n",
              "if (outputEl) {{\n",
              "    x.observe(outputEl, {childList: true});\n",
              "}}\n",
              "\n",
              "                        })\n",
              "                };\n",
              "                \n",
              "            </script>\n",
              "        </div>\n",
              "</body>\n",
              "</html>"
            ]
          },
          "metadata": {
            "tags": []
          }
        },
        {
          "output_type": "display_data",
          "data": {
            "text/html": [
              "<html>\n",
              "<head><meta charset=\"utf-8\" /></head>\n",
              "<body>\n",
              "    <div>\n",
              "            <script src=\"https://cdnjs.cloudflare.com/ajax/libs/mathjax/2.7.5/MathJax.js?config=TeX-AMS-MML_SVG\"></script><script type=\"text/javascript\">if (window.MathJax) {MathJax.Hub.Config({SVG: {font: \"STIX-Web\"}});}</script>\n",
              "                <script type=\"text/javascript\">window.PlotlyConfig = {MathJaxConfig: 'local'};</script>\n",
              "        <script src=\"https://cdn.plot.ly/plotly-latest.min.js\"></script>    \n",
              "            <div id=\"03da6086-c724-4900-9829-7589b9d8b0ce\" class=\"plotly-graph-div\" style=\"height:525px; width:100%;\"></div>\n",
              "            <script type=\"text/javascript\">\n",
              "                \n",
              "                    window.PLOTLYENV=window.PLOTLYENV || {};\n",
              "                    \n",
              "                if (document.getElementById(\"03da6086-c724-4900-9829-7589b9d8b0ce\")) {\n",
              "                    Plotly.newPlot(\n",
              "                        '03da6086-c724-4900-9829-7589b9d8b0ce',\n",
              "                        [{\"boxmean\": true, \"marker\": {\"color\": \"#27496d\"}, \"name\": \"Qty Distribution\", \"type\": \"box\", \"x\": [\"storeA013\", \"storeA006\", \"storeA017\", \"storeA007\", \"storeA015\", \"storeA012\", \"storeA014\", \"storeA004\", \"storeA002\", \"storeA007\", \"storeA011\", \"storeA011\", \"storeA015\", \"storeA016\", \"storeA021\", \"storeA001\", \"storeA009\", \"storeA015\", \"storeA005\", \"storeA016\", \"storeA010\", \"storeA012\", \"storeA014\", \"storeA011\", \"storeA001\", \"storeA005\", \"storeA013\", \"storeA005\", \"storeA021\", \"storeA007\", \"storeA023\", \"storeA003\", \"storeA004\", \"storeA019\", \"storeA011\", \"storeA005\", \"storeA009\", \"storeA011\", \"storeA002\", \"storeA007\", \"storeA007\", \"storeA002\", \"storeA027\", \"storeA009\", \"storeA025\", \"storeA007\", \"storeA025\", \"storeA012\", \"storeA009\", \"storeA001\", \"storeA019\", \"storeA009\", \"storeA021\", \"storeA021\", \"storeA028\", \"storeA010\", \"storeA026\", \"storeA020\", \"storeA018\", \"storeA015\", \"storeA002\", \"storeA007\", \"storeA020\", \"storeA024\", \"storeA009\", \"storeA016\", \"storeA006\", \"storeA011\", \"storeA009\", \"storeA015\", \"storeA006\", \"storeA016\", \"storeA027\", \"storeA028\", \"storeA016\", \"storeA013\", \"storeA010\", \"storeA027\", \"storeA022\", \"storeA028\", \"storeA012\", \"storeA011\", \"storeA026\", \"storeA023\", \"storeA015\", \"storeA025\", \"storeA026\", \"storeA004\", \"storeA016\", \"storeA010\", \"storeA005\", \"storeA028\", \"storeA003\", \"storeA028\", \"storeA022\", \"storeA006\", \"storeA019\", \"storeA014\", \"storeA009\", \"storeA012\", \"storeA003\", \"storeA014\", \"storeA024\", \"storeA015\", \"storeA026\", \"storeA013\", \"storeA011\", \"storeA022\", \"storeA017\", \"storeA026\", \"storeA028\", \"storeA021\", \"storeA027\", \"storeA010\", \"storeA004\", \"storeA005\", \"storeA013\", \"storeA013\", \"storeA024\", \"storeA004\", \"storeA024\", \"storeA010\", \"storeA024\", \"storeA028\", \"storeA015\", \"storeA016\", \"storeA024\", \"storeA015\", \"storeA008\", \"storeA027\", \"storeA003\", \"storeA002\", \"storeA001\", \"storeA024\", \"storeA004\", \"storeA018\", \"storeA009\", \"storeA002\", \"storeA009\", \"storeA004\", \"storeA004\", \"storeA009\", \"storeA010\", \"storeA022\", \"storeA005\", \"storeA022\", \"storeA022\", \"storeA028\", \"storeA010\", \"storeA025\", \"storeA009\", \"storeA014\", \"storeA002\", \"storeA024\", \"storeA017\", \"storeA027\", \"storeA014\", \"storeA016\", \"storeA010\", \"storeA024\", \"storeA028\", \"storeA020\", \"storeA012\", \"storeA003\", \"storeA012\", \"storeA006\", \"storeA006\", \"storeA020\", \"storeA006\", \"storeA020\", \"storeA026\", \"storeA022\", \"storeA011\", \"storeA008\", \"storeA019\", \"storeA019\", \"storeA025\", \"storeA023\", \"storeA006\", \"storeA009\", \"storeA021\", \"storeA004\", \"storeA002\", \"storeA010\", \"storeA019\", \"storeA008\", \"storeA021\", \"storeA017\", \"storeA026\", \"storeA008\", \"storeA006\", \"storeA019\", \"storeA025\", \"storeA015\", \"storeA003\", \"storeA009\", \"storeA012\", \"storeA002\", \"storeA022\", \"storeA023\", \"storeA024\", \"storeA018\", \"storeA023\", \"storeA001\", \"storeA015\", \"storeA007\", \"storeA003\", \"storeA007\", \"storeA027\", \"storeA026\", \"storeA004\", \"storeA005\", \"storeA025\", \"storeA012\", \"storeA027\", \"storeA023\", \"storeA023\", \"storeA023\", \"storeA015\", \"storeA024\", \"storeA027\", \"storeA025\", \"storeA015\", \"storeA025\", \"storeA026\", \"storeA022\", \"storeA014\", \"storeA023\", \"storeA018\", \"storeA024\", \"storeA021\", \"storeA025\", \"storeA004\", \"storeA015\", \"storeA004\", \"storeA007\", \"storeA012\", \"storeA016\", \"storeA009\", \"storeA001\", \"storeA011\", \"storeA013\", \"storeA007\", \"storeA003\", \"storeA016\", \"storeA011\", \"storeA005\", \"storeA014\", \"storeA005\", \"storeA023\", \"storeA013\", \"storeA016\", \"storeA003\", \"storeA024\", \"storeA013\", \"storeA003\", \"storeA019\", \"storeA015\", \"storeA001\", \"storeA025\", \"storeA021\", \"storeA006\", \"storeA003\", \"storeA011\", \"storeA015\", \"storeA019\", \"storeA024\", \"storeA019\", \"storeA009\", \"storeA017\", \"storeA026\", \"storeA006\", \"storeA018\", \"storeA011\", \"storeA017\", \"storeA021\", \"storeA023\", \"storeA019\", \"storeA013\", \"storeA012\", \"storeA021\", \"storeA003\", \"storeA004\", \"storeA008\", \"storeA024\", \"storeA023\", \"storeA020\", \"storeA012\", \"storeA028\", \"storeA018\", \"storeA016\", \"storeA013\", \"storeA007\", \"storeA027\", \"storeA014\", \"storeA004\", \"storeA005\", \"storeA023\", \"storeA023\", \"storeA005\", \"storeA005\", \"storeA009\", \"storeA027\", \"storeA027\", \"storeA002\", \"storeA025\", \"storeA004\", \"storeA025\", \"storeA026\", \"storeA019\", \"storeA024\", \"storeA014\", \"storeA003\", \"storeA006\", \"storeA024\", \"storeA002\", \"storeA009\", \"storeA004\", \"storeA009\", \"storeA016\", \"storeA012\", \"storeA013\", \"storeA005\", \"storeA004\", \"storeA028\", \"storeA003\", \"storeA001\", \"storeA006\", \"storeA020\", \"storeA017\", \"storeA015\", \"storeA001\", \"storeA022\", \"storeA016\", \"storeA008\", \"storeA008\", \"storeA012\", \"storeA026\", \"storeA008\", \"storeA028\", \"storeA007\", \"storeA011\", \"storeA004\", \"storeA014\", \"storeA002\", \"storeA021\", \"storeA020\", \"storeA012\", \"storeA024\", \"storeA018\", \"storeA005\", \"storeA020\", \"storeA013\", \"storeA004\", \"storeA002\", \"storeA026\", \"storeA006\", \"storeA014\", \"storeA015\", \"storeA005\", \"storeA010\", \"storeA016\", \"storeA001\", \"storeA006\", \"storeA016\", \"storeA028\", \"storeA006\", \"storeA022\", \"storeA016\", \"storeA011\", \"storeA024\", \"storeA013\", \"storeA016\", \"storeA018\", \"storeA022\", \"storeA023\", \"storeA025\", \"storeA008\", \"storeA022\", \"storeA008\", \"storeA010\", \"storeA025\", \"storeA020\", \"storeA023\", \"storeA015\", \"storeA018\", \"storeA013\", \"storeA002\", \"storeA017\", \"storeA018\", \"storeA025\", \"storeA018\", \"storeA016\", \"storeA021\", \"storeA027\", \"storeA001\", \"storeA005\", \"storeA022\", \"storeA002\", \"storeA017\", \"storeA014\", \"storeA024\", \"storeA015\", \"storeA010\", \"storeA013\", \"storeA028\", \"storeA016\", \"storeA015\", \"storeA028\", \"storeA007\", \"storeA027\", \"storeA005\", \"storeA015\", \"storeA023\", \"storeA022\", \"storeA005\", \"storeA009\", \"storeA009\", \"storeA009\", \"storeA026\", \"storeA012\", \"storeA027\", \"storeA003\", \"storeA001\", \"storeA009\", \"storeA020\", \"storeA010\", \"storeA024\", \"storeA025\", \"storeA008\", \"storeA014\", \"storeA011\", \"storeA002\", \"storeA023\", \"storeA007\", \"storeA009\", \"storeA015\", \"storeA024\", \"storeA009\", \"storeA002\", \"storeA003\", \"storeA024\", \"storeA014\", \"storeA017\", \"storeA016\", \"storeA002\", \"storeA009\", \"storeA018\", \"storeA019\", \"storeA006\", \"storeA011\", \"storeA021\", \"storeA002\", \"storeA004\", \"storeA025\", \"storeA023\", \"storeA025\", \"storeA021\", \"storeA022\", \"storeA005\", \"storeA013\", \"storeA002\", \"storeA001\", \"storeA001\", \"storeA017\", \"storeA001\", \"storeA013\", \"storeA025\", \"storeA011\", \"storeA015\", \"storeA015\", \"storeA021\", \"storeA027\", \"storeA007\", \"storeA016\", \"storeA007\", \"storeA007\", \"storeA013\", \"storeA005\", \"storeA019\", \"storeA017\", \"storeA013\", \"storeA020\", \"storeA018\", \"storeA028\", \"storeA023\", \"storeA003\", \"storeA005\", \"storeA004\", \"storeA020\", \"storeA010\", \"storeA021\", \"storeA002\", \"storeA024\", \"storeA008\", \"storeA008\", \"storeA018\", \"storeA011\", \"storeA006\", \"storeA007\", \"storeA006\", \"storeA010\", \"storeA003\", \"storeA006\", \"storeA008\", \"storeA011\", \"storeA023\", \"storeA025\", \"storeA011\", \"storeA021\", \"storeA005\", \"storeA020\", \"storeA019\", \"storeA023\", \"storeA019\", \"storeA020\", \"storeA010\", \"storeA025\", \"storeA007\", \"storeA026\", \"storeA003\", \"storeA023\", \"storeA010\", \"storeA002\", \"storeA025\", \"storeA003\", \"storeA025\", \"storeA028\", \"storeA027\", \"storeA021\", \"storeA017\", \"storeA003\", \"storeA012\", \"storeA005\", \"storeA007\", \"storeA009\", \"storeA001\", \"storeA002\", \"storeA027\", \"storeA012\", \"storeA002\", \"storeA022\", \"storeA021\", \"storeA005\", \"storeA028\", \"storeA003\", \"storeA012\", \"storeA004\", \"storeA010\", \"storeA004\", \"storeA014\", \"storeA002\", \"storeA001\", \"storeA001\", \"storeA004\", \"storeA011\", \"storeA007\", \"storeA012\", \"storeA013\", \"storeA011\", \"storeA024\", \"storeA019\", \"storeA014\", \"storeA018\", \"storeA014\", \"storeA017\", \"storeA026\", \"storeA018\", \"storeA026\", \"storeA027\", \"storeA015\", \"storeA026\", \"storeA011\", \"storeA017\", \"storeA020\", \"storeA020\", \"storeA028\", \"storeA002\", \"storeA026\", \"storeA016\", \"storeA011\", \"storeA026\", \"storeA019\", \"storeA008\", \"storeA024\", \"storeA019\", \"storeA014\", \"storeA007\", \"storeA001\", \"storeA021\", \"storeA007\", \"storeA001\", \"storeA019\", \"storeA003\", \"storeA027\", \"storeA002\", \"storeA015\", \"storeA009\", \"storeA008\", \"storeA024\", \"storeA009\", \"storeA026\", \"storeA024\", \"storeA018\", \"storeA003\", \"storeA003\", \"storeA023\", \"storeA010\", \"storeA011\", \"storeA014\", \"storeA024\", \"storeA019\", \"storeA023\", \"storeA016\", \"storeA016\", \"storeA019\", \"storeA014\", \"storeA011\", \"storeA013\", \"storeA016\", \"storeA023\", \"storeA028\", \"storeA007\", \"storeA002\", \"storeA003\", \"storeA006\", \"storeA008\", \"storeA017\", \"storeA016\", \"storeA012\", \"storeA010\", \"storeA007\", \"storeA010\", \"storeA008\", \"storeA015\", \"storeA001\", \"storeA003\", \"storeA021\", \"storeA005\", \"storeA014\", \"storeA008\", \"storeA008\", \"storeA009\", \"storeA027\", \"storeA011\", \"storeA019\", \"storeA005\", \"storeA016\", \"storeA023\", \"storeA005\", \"storeA003\", \"storeA006\", \"storeA021\", \"storeA004\", \"storeA024\", \"storeA008\", \"storeA001\", \"storeA018\", \"storeA006\", \"storeA006\", \"storeA019\", \"storeA022\", \"storeA019\", \"storeA010\", \"storeA002\", \"storeA019\", \"storeA006\", \"storeA002\", \"storeA002\", \"storeA022\", \"storeA004\", \"storeA017\", \"storeA012\", \"storeA016\", \"storeA015\", \"storeA008\", \"storeA001\", \"storeA003\", \"storeA022\", \"storeA004\", \"storeA005\", \"storeA023\", \"storeA019\", \"storeA013\", \"storeA023\", \"storeA009\", \"storeA008\", \"storeA002\", \"storeA012\", \"storeA014\", \"storeA014\", \"storeA024\", \"storeA008\", \"storeA016\", \"storeA002\", \"storeA018\", \"storeA016\", \"storeA019\", \"storeA006\", \"storeA001\", \"storeA028\", \"storeA015\", \"storeA021\", \"storeA018\", \"storeA024\", \"storeA023\", \"storeA025\", \"storeA015\", \"storeA022\", \"storeA015\", \"storeA025\", \"storeA022\", \"storeA018\", \"storeA014\", \"storeA022\", \"storeA005\", \"storeA021\", \"storeA007\", \"storeA010\", \"storeA011\", \"storeA022\", \"storeA007\", \"storeA016\", \"storeA022\", \"storeA001\", \"storeA001\", \"storeA002\", \"storeA013\", \"storeA003\", \"storeA020\", \"storeA024\", \"storeA008\", \"storeA004\", \"storeA012\", \"storeA022\", \"storeA015\", \"storeA026\", \"storeA026\", \"storeA017\", \"storeA016\", \"storeA011\", \"storeA025\", \"storeA011\", \"storeA028\", \"storeA012\", \"storeA009\", \"storeA006\", \"storeA010\", \"storeA026\", \"storeA010\", \"storeA028\", \"storeA012\", \"storeA018\", \"storeA011\", \"storeA012\", \"storeA020\", \"storeA005\", \"storeA012\", \"storeA027\", \"storeA017\", \"storeA023\", \"storeA001\", \"storeA024\", \"storeA027\", \"storeA002\", \"storeA009\", \"storeA012\", \"storeA016\", \"storeA015\", \"storeA027\", \"storeA021\", \"storeA002\", \"storeA022\", \"storeA003\", \"storeA009\", \"storeA018\", \"storeA008\", \"storeA028\", \"storeA015\", \"storeA013\", \"storeA001\", \"storeA007\", \"storeA024\", \"storeA014\", \"storeA005\", \"storeA012\", \"storeA008\", \"storeA012\", \"storeA003\", \"storeA011\", \"storeA002\", \"storeA006\", \"storeA018\", \"storeA010\", \"storeA012\", \"storeA022\", \"storeA022\", \"storeA012\", \"storeA004\", \"storeA016\", \"storeA021\", \"storeA028\", \"storeA018\", \"storeA012\", \"storeA010\", \"storeA001\", \"storeA010\", \"storeA003\", \"storeA027\", \"storeA020\", \"storeA020\", \"storeA017\", \"storeA009\", \"storeA017\", \"storeA003\", \"storeA023\", \"storeA024\", \"storeA009\", \"storeA005\", \"storeA023\", \"storeA009\", \"storeA006\", \"storeA011\", \"storeA015\", \"storeA001\", \"storeA004\", \"storeA012\", \"storeA022\", \"storeA024\", \"storeA027\", \"storeA007\", \"storeA014\", \"storeA022\", \"storeA012\", \"storeA020\", \"storeA017\", \"storeA015\", \"storeA003\", \"storeA003\", \"storeA027\", \"storeA012\", \"storeA018\", \"storeA015\", \"storeA014\", \"storeA004\", \"storeA011\", \"storeA028\", \"storeA021\", \"storeA008\", \"storeA028\", \"storeA028\", \"storeA008\", \"storeA011\", \"storeA024\", \"storeA014\", \"storeA010\", \"storeA001\", \"storeA022\", \"storeA010\", \"storeA016\", \"storeA015\", \"storeA015\", \"storeA005\", \"storeA008\", \"storeA003\", \"storeA019\", \"storeA024\", \"storeA022\", \"storeA024\", \"storeA023\", \"storeA004\", \"storeA002\", \"storeA027\", \"storeA023\", \"storeA022\", \"storeA025\", \"storeA023\", \"storeA026\", \"storeA008\", \"storeA010\", \"storeA015\", \"storeA013\", \"storeA007\", \"storeA022\", \"storeA023\", \"storeA003\", \"storeA003\", \"storeA022\", \"storeA024\", \"storeA009\", \"storeA002\", \"storeA010\", \"storeA028\", \"storeA027\", \"storeA027\", \"storeA025\", \"storeA005\", \"storeA013\", \"storeA019\", \"storeA024\", \"storeA020\", \"storeA027\", \"storeA016\", \"storeA019\", \"storeA027\", \"storeA015\", \"storeA027\", \"storeA012\", \"storeA005\", \"storeA007\", \"storeA004\", \"storeA009\", \"storeA004\", \"storeA012\", \"storeA006\", \"storeA014\", \"storeA026\", \"storeA005\", \"storeA009\", \"storeA019\", \"storeA012\", \"storeA028\", \"storeA024\", \"storeA028\", \"storeA003\", \"storeA006\", \"storeA023\", \"storeA022\", \"storeA003\", \"storeA021\", \"storeA017\", \"storeA011\", \"storeA005\", \"storeA005\", \"storeA005\", \"storeA018\", \"storeA014\", \"storeA010\", \"storeA018\", \"storeA015\", \"storeA002\", \"storeA024\", \"storeA010\", \"storeA023\", \"storeA021\", \"storeA007\", \"storeA021\", \"storeA001\", \"storeA010\", \"storeA020\", \"storeA024\", \"storeA025\", \"storeA014\", \"storeA006\", \"storeA017\", \"storeA006\", \"storeA005\", \"storeA026\", \"storeA003\", \"storeA009\", \"storeA025\", \"storeA012\", \"storeA025\", \"storeA015\", \"storeA026\", \"storeA021\", \"storeA023\", \"storeA025\", \"storeA024\", \"storeA016\", \"storeA003\", \"storeA009\", \"storeA024\", \"storeA017\", \"storeA024\", \"storeA005\", \"storeA004\", \"storeA023\", \"storeA016\", \"storeA014\", \"storeA013\", \"storeA026\", \"storeA028\", \"storeA023\", \"storeA007\", \"storeA023\", \"storeA019\", \"storeA010\", \"storeA013\", \"storeA022\", \"storeA010\", \"storeA006\", \"storeA021\", \"storeA020\", \"storeA027\", \"storeA017\", \"storeA011\", \"storeA024\", \"storeA027\", \"storeA007\", \"storeA028\", \"storeA017\", \"storeA008\", \"storeA012\", \"storeA002\", \"storeA028\", \"storeA018\", \"storeA019\", \"storeA028\", \"storeA007\", \"storeA002\", \"storeA004\", \"storeA022\", \"storeA007\", \"storeA020\", \"storeA005\", \"storeA026\", \"storeA027\", \"storeA012\", \"storeA006\", \"storeA028\", \"storeA003\", \"storeA023\", \"storeA026\", \"storeA005\", \"storeA012\", \"storeA007\", \"storeA013\", \"storeA022\", \"storeA020\", \"storeA004\", \"storeA019\", \"storeA023\", \"storeA024\", \"storeA027\", \"storeA027\", \"storeA021\", \"storeA018\", \"storeA020\", \"storeA028\", \"storeA010\", \"storeA015\", \"storeA005\", \"storeA019\", \"storeA015\", \"storeA026\", \"storeA023\", \"storeA001\", \"storeA015\", \"storeA017\", \"storeA015\", \"storeA006\", \"storeA005\", \"storeA011\", \"storeA005\", \"storeA005\", \"storeA016\", \"storeA006\", \"storeA009\", \"storeA014\", \"storeA001\", \"storeA010\", \"storeA015\", \"storeA015\", \"storeA026\", \"storeA028\", \"storeA006\", \"storeA019\", \"storeA001\", \"storeA013\", \"storeA024\", \"storeA017\", \"storeA026\", \"storeA021\", \"storeA005\", \"storeA027\", \"storeA026\", \"storeA015\", \"storeA018\", \"storeA020\", \"storeA018\", \"storeA004\", \"storeA008\", \"storeA001\", \"storeA006\", \"storeA017\", \"storeA013\", \"storeA027\", \"storeA015\", \"storeA014\", \"storeA011\", \"storeA010\", \"storeA020\", \"storeA023\", \"storeA016\", \"storeA012\", \"storeA005\", \"storeA008\", \"storeA002\", \"storeA014\", \"storeA028\", \"storeA027\", \"storeA021\", \"storeA024\", \"storeA022\", \"storeA025\", \"storeA025\", \"storeA020\", \"storeA025\", \"storeA027\", \"storeA026\", \"storeA002\", \"storeA019\", \"storeA011\", \"storeA027\", \"storeA019\", \"storeA008\", \"storeA026\", \"storeA012\", \"storeA015\", \"storeA011\", \"storeA018\", \"storeA020\", \"storeA023\", \"storeA010\", \"storeA027\", \"storeA008\", \"storeA024\", \"storeA024\", \"storeA005\", \"storeA005\", \"storeA009\", \"storeA021\", \"storeA010\", \"storeA016\", \"storeA011\", \"storeA022\", \"storeA015\", \"storeA001\", \"storeA020\", \"storeA025\", \"storeA005\", \"storeA028\", \"storeA007\", \"storeA021\", \"storeA011\", \"storeA013\", \"storeA018\", \"storeA018\", \"storeA005\", \"storeA003\", \"storeA010\", \"storeA022\", \"storeA014\", \"storeA002\", \"storeA001\", \"storeA017\", \"storeA013\", \"storeA011\", \"storeA022\", \"storeA004\", \"storeA023\", \"storeA023\", \"storeA002\", \"storeA015\", \"storeA001\", \"storeA024\", \"storeA026\", \"storeA018\", \"storeA001\", \"storeA019\", \"storeA027\", \"storeA001\", \"storeA001\", \"storeA015\", \"storeA014\", \"storeA004\", \"storeA012\", \"storeA018\", \"storeA019\", \"storeA010\", \"storeA022\", \"storeA005\", \"storeA011\", \"storeA011\", \"storeA022\", \"storeA013\", \"storeA003\", \"storeA002\", \"storeA026\", \"storeA027\", \"storeA005\", \"storeA001\", \"storeA022\", \"storeA005\", \"storeA023\", \"storeA018\", \"storeA005\", \"storeA012\", \"storeA004\", \"storeA007\", \"storeA005\", \"storeA014\", \"storeA017\", \"storeA009\", \"storeA021\", \"storeA015\", \"storeA022\", \"storeA001\", \"storeA019\", \"storeA015\", \"storeA014\", \"storeA004\", \"storeA022\", \"storeA004\", \"storeA028\", \"storeA009\", \"storeA010\", \"storeA027\", \"storeA026\", \"storeA028\", \"storeA012\", \"storeA008\", \"storeA025\", \"storeA005\", \"storeA010\", \"storeA023\", \"storeA009\", \"storeA017\", \"storeA006\", \"storeA005\", \"storeA013\", \"storeA002\", \"storeA025\", \"storeA018\", \"storeA019\", \"storeA028\", \"storeA010\", \"storeA012\", \"storeA024\", \"storeA008\", \"storeA011\", \"storeA003\", \"storeA009\", \"storeA024\", \"storeA006\", \"storeA004\", \"storeA017\", \"storeA007\", \"storeA014\", \"storeA024\", \"storeA013\", \"storeA006\", \"storeA024\", \"storeA028\", \"storeA019\", \"storeA011\", \"storeA006\", \"storeA018\", \"storeA014\", \"storeA018\", \"storeA024\", \"storeA001\", \"storeA003\", \"storeA015\", \"storeA028\", \"storeA027\", \"storeA027\", \"storeA026\", \"storeA010\", \"storeA014\", \"storeA009\", \"storeA020\", \"storeA003\", \"storeA012\", \"storeA009\", \"storeA005\", \"storeA020\", \"storeA014\", \"storeA005\", \"storeA005\", \"storeA008\", \"storeA024\", \"storeA025\", \"storeA008\", \"storeA021\", \"storeA007\", \"storeA025\", \"storeA005\", \"storeA016\", \"storeA017\", \"storeA024\", \"storeA015\", \"storeA004\", \"storeA014\", \"storeA013\", \"storeA020\", \"storeA022\", \"storeA006\", \"storeA008\", \"storeA020\", \"storeA021\", \"storeA010\", \"storeA002\", \"storeA016\", \"storeA002\", \"storeA027\", \"storeA011\", \"storeA024\", \"storeA019\", \"storeA027\", \"storeA009\", \"storeA006\", \"storeA024\", \"storeA009\", \"storeA022\", \"storeA004\", \"storeA003\", \"storeA014\", \"storeA015\", \"storeA013\", \"storeA011\", \"storeA026\", \"storeA003\", \"storeA014\", \"storeA011\", \"storeA002\", \"storeA007\", \"storeA024\", \"storeA022\", \"storeA022\", \"storeA026\", \"storeA021\", \"storeA012\", \"storeA004\", \"storeA004\", \"storeA004\", \"storeA028\", \"storeA012\", \"storeA019\", \"storeA020\", \"storeA021\", \"storeA023\", \"storeA015\", \"storeA027\", \"storeA008\", \"storeA028\", \"storeA010\", \"storeA005\", \"storeA016\", \"storeA020\", \"storeA013\", \"storeA003\", \"storeA021\", \"storeA015\", \"storeA013\", \"storeA009\", \"storeA001\", \"storeA015\", \"storeA003\", \"storeA003\", \"storeA005\", \"storeA019\", \"storeA024\", \"storeA010\", \"storeA015\", \"storeA017\", \"storeA008\", \"storeA001\", \"storeA017\", \"storeA007\", \"storeA020\", \"storeA027\", \"storeA023\", \"storeA026\", \"storeA005\", \"storeA028\", \"storeA012\", \"storeA012\", \"storeA018\", \"storeA009\", \"storeA012\", \"storeA014\", \"storeA028\", \"storeA013\", \"storeA001\", \"storeA004\", \"storeA016\", \"storeA002\", \"storeA008\", \"storeA001\", \"storeA019\", \"storeA005\", \"storeA001\", \"storeA013\", \"storeA026\", \"storeA028\", \"storeA026\", \"storeA010\", \"storeA008\", \"storeA022\", \"storeA003\", \"storeA015\", \"storeA012\", \"storeA011\", \"storeA015\", \"storeA013\", \"storeA010\", \"storeA016\", \"storeA022\", \"storeA009\", \"storeA020\", \"storeA022\", \"storeA004\", \"storeA011\", \"storeA021\", \"storeA019\", \"storeA026\", \"storeA004\", \"storeA012\", \"storeA020\", \"storeA009\", \"storeA001\", \"storeA015\", \"storeA010\", \"storeA014\", \"storeA028\", \"storeA011\", \"storeA001\", \"storeA020\", \"storeA020\", \"storeA024\", \"storeA021\", \"storeA024\", \"storeA006\", \"storeA009\", \"storeA009\", \"storeA027\", \"storeA001\", \"storeA018\", \"storeA009\", \"storeA018\", \"storeA001\", \"storeA026\", \"storeA008\", \"storeA001\", \"storeA014\", \"storeA028\", \"storeA013\", \"storeA003\", \"storeA019\", \"storeA026\", \"storeA027\", \"storeA010\", \"storeA012\", \"storeA010\", \"storeA011\", \"storeA002\", \"storeA011\", \"storeA007\", \"storeA003\", \"storeA009\", \"storeA003\", \"storeA003\", \"storeA021\", \"storeA009\", \"storeA004\", \"storeA020\", \"storeA014\", \"storeA017\", \"storeA008\", \"storeA026\", \"storeA005\", \"storeA026\", \"storeA001\", \"storeA007\", \"storeA001\", \"storeA013\", \"storeA007\", \"storeA004\", \"storeA022\", \"storeA018\", \"storeA003\", \"storeA025\", \"storeA023\", \"storeA019\", \"storeA028\", \"storeA026\", \"storeA017\", \"storeA023\", \"storeA018\", \"storeA013\", \"storeA022\", \"storeA019\", \"storeA006\", \"storeA013\", \"storeA021\", \"storeA018\", \"storeA009\", \"storeA005\", \"storeA012\", \"storeA027\", \"storeA019\", \"storeA001\", \"storeA001\", \"storeA009\", \"storeA013\", \"storeA003\", \"storeA002\", \"storeA001\", \"storeA006\", \"storeA025\", \"storeA015\", \"storeA012\", \"storeA001\", \"storeA027\", \"storeA014\", \"storeA021\", \"storeA018\", \"storeA008\", \"storeA023\", \"storeA023\", \"storeA024\", \"storeA006\", \"storeA020\", \"storeA024\", \"storeA005\", \"storeA016\", \"storeA020\", \"storeA005\", \"storeA028\", \"storeA006\", \"storeA021\", \"storeA003\", \"storeA026\", \"storeA004\", \"storeA024\", \"storeA021\", \"storeA025\", \"storeA006\", \"storeA007\", \"storeA009\", \"storeA025\", \"storeA023\", \"storeA021\", \"storeA011\", \"storeA023\", \"storeA028\", \"storeA018\", \"storeA010\", \"storeA027\", \"storeA020\", \"storeA019\", \"storeA017\", \"storeA007\", \"storeA009\", \"storeA005\", \"storeA013\", \"storeA008\", \"storeA006\", \"storeA014\", \"storeA003\", \"storeA024\", \"storeA017\", \"storeA024\", \"storeA016\", \"storeA008\", \"storeA014\", \"storeA026\", \"storeA020\", \"storeA027\", \"storeA025\", \"storeA018\", \"storeA011\", \"storeA021\", \"storeA001\", \"storeA013\", \"storeA005\", \"storeA002\", \"storeA008\", \"storeA027\", \"storeA022\", \"storeA003\", \"storeA006\", \"storeA016\", \"storeA017\", \"storeA006\", \"storeA020\", \"storeA009\", \"storeA018\", \"storeA028\", \"storeA001\", \"storeA001\", \"storeA025\", \"storeA002\", \"storeA016\", \"storeA006\", \"storeA025\", \"storeA012\", \"storeA009\", \"storeA021\", \"storeA003\", \"storeA025\", \"storeA012\", \"storeA019\", \"storeA016\", \"storeA012\", \"storeA015\", \"storeA017\", \"storeA012\", \"storeA023\", \"storeA001\", \"storeA016\", \"storeA018\", \"storeA018\", \"storeA016\", \"storeA012\", \"storeA023\", \"storeA002\", \"storeA016\", \"storeA009\", \"storeA024\", \"storeA019\", \"storeA019\", \"storeA026\", \"storeA019\", \"storeA002\", \"storeA011\", \"storeA009\", \"storeA013\", \"storeA008\", \"storeA026\", \"storeA010\", \"storeA007\", \"storeA028\", \"storeA014\", \"storeA019\", \"storeA003\", \"storeA018\", \"storeA025\", \"storeA022\", \"storeA013\", \"storeA011\", \"storeA019\", \"storeA028\", \"storeA016\", \"storeA021\", \"storeA027\", \"storeA003\", \"storeA011\", \"storeA011\", \"storeA014\", \"storeA014\", \"storeA012\", \"storeA012\", \"storeA013\", \"storeA011\", \"storeA005\", \"storeA010\", \"storeA019\", \"storeA017\", \"storeA018\", \"storeA005\", \"storeA008\", \"storeA018\", \"storeA017\", \"storeA024\", \"storeA012\", \"storeA027\", \"storeA012\", \"storeA001\", \"storeA012\", \"storeA007\", \"storeA016\", \"storeA017\", \"storeA011\", \"storeA023\", \"storeA025\", \"storeA021\", \"storeA008\", \"storeA005\", \"storeA026\", \"storeA001\", \"storeA002\", \"storeA025\", \"storeA023\", \"storeA023\", \"storeA008\", \"storeA028\", \"storeA002\", \"storeA025\", \"storeA019\", \"storeA028\", \"storeA006\", \"storeA019\", \"storeA004\", \"storeA014\", \"storeA002\", \"storeA013\", \"storeA010\", \"storeA017\", \"storeA010\", \"storeA026\", \"storeA027\", \"storeA018\", \"storeA001\", \"storeA021\", \"storeA006\", \"storeA012\", \"storeA025\", \"storeA007\", \"storeA018\", \"storeA028\", \"storeA001\", \"storeA008\", \"storeA003\", \"storeA020\", \"storeA003\", \"storeA010\", \"storeA024\", \"storeA024\", \"storeA021\", \"storeA001\", \"storeA002\", \"storeA002\", \"storeA011\", \"storeA028\", \"storeA027\", \"storeA011\", \"storeA005\", \"storeA003\", \"storeA015\", \"storeA019\", \"storeA001\"], \"y\": [18.0, 3.0, 9.0, 8.0, 1.0, 7.0, 6.0, 6.0, 1.0, 13.0, 9.0, 15.0, 19.0, 10.0, 19.0, 11.0, 18.0, 12.0, 12.0, 20.0, 19.0, 5.0, 8.0, 12.0, 14.0, 17.0, 18.0, 16.0, 6.0, 19.0, 11.0, 12.0, 18.0, 3.0, 19.0, 14.0, 15.0, 13.0, 1.0, 15.0, 8.0, 18.0, 14.0, 7.0, 12.0, 16.0, 10.0, 1.0, 15.0, 6.0, 17.0, 13.0, 4.0, 3.0, 7.0, 12.0, 14.0, 7.0, 13.0, 20.0, 12.0, 3.0, 13.0, 11.0, 19.0, 18.0, 9.0, 13.0, 2.0, 8.0, 13.0, 3.0, 10.0, 15.0, 18.0, 16.0, 5.0, 15.0, 9.0, 2.0, 14.0, 20.0, 15.0, 20.0, 3.0, 3.0, 12.0, 6.0, 10.0, 9.0, 7.0, 6.0, 5.0, 5.0, 18.0, 17.0, 9.0, 15.0, 18.0, 13.0, 14.0, 15.0, 8.0, 8.0, 11.0, 16.0, 9.0, 5.0, 19.0, 5.0, 3.0, 2.0, 17.0, 5.0, 4.0, 11.0, 12.0, 20.0, 2.0, 10.0, 5.0, 8.0, 13.0, 7.0, 18.0, 3.0, 1.0, 8.0, 16.0, 16.0, 5.0, 4.0, 1.0, 13.0, 3.0, 6.0, 10.0, 18.0, 1.0, 15.0, 3.0, 7.0, 19.0, 17.0, 12.0, 11.0, 3.0, 20.0, 5.0, 12.0, 13.0, 15.0, 13.0, 6.0, 13.0, 18.0, 1.0, 16.0, 7.0, 7.0, 4.0, 4.0, 15.0, 6.0, 6.0, 15.0, 2.0, 2.0, 15.0, 8.0, 17.0, 11.0, 11.0, 20.0, 19.0, 19.0, 15.0, 4.0, 9.0, 15.0, 7.0, 7.0, 6.0, 9.0, 8.0, 15.0, 13.0, 12.0, 4.0, 17.0, 7.0, 7.0, 16.0, 12.0, 17.0, 4.0, 1.0, 20.0, 2.0, 15.0, 4.0, 6.0, 12.0, 8.0, 3.0, 8.0, 8.0, 4.0, 8.0, 13.0, 2.0, 16.0, 9.0, 19.0, 4.0, 1.0, 15.0, 14.0, 12.0, 14.0, 12.0, 16.0, 20.0, 1.0, 16.0, 11.0, 17.0, 5.0, 1.0, 9.0, 16.0, 9.0, 16.0, 20.0, 14.0, 15.0, 12.0, 11.0, 17.0, 4.0, 19.0, 20.0, 5.0, 15.0, 12.0, 3.0, 4.0, 19.0, 2.0, 7.0, 15.0, 10.0, 16.0, 20.0, 10.0, 8.0, 11.0, 9.0, 19.0, 12.0, 16.0, 19.0, 6.0, 1.0, 1.0, 10.0, 14.0, 8.0, 7.0, 1.0, 12.0, 5.0, 14.0, 10.0, 13.0, 8.0, 15.0, 8.0, 3.0, 18.0, 11.0, 14.0, 5.0, 14.0, 14.0, 8.0, 1.0, 12.0, 6.0, 3.0, 3.0, 15.0, 8.0, 14.0, 10.0, 13.0, 10.0, 20.0, 5.0, 7.0, 5.0, 14.0, 18.0, 3.0, 13.0, 4.0, 20.0, 15.0, 5.0, 13.0, 3.0, 19.0, 11.0, 10.0, 12.0, 20.0, 17.0, 11.0, 3.0, 10.0, 17.0, 3.0, 11.0, 6.0, 11.0, 18.0, 3.0, 20.0, 2.0, 18.0, 13.0, 9.0, 14.0, 2.0, 1.0, 16.0, 9.0, 1.0, 11.0, 19.0, 13.0, 20.0, 11.0, 14.0, 11.0, 16.0, 20.0, 3.0, 17.0, 11.0, 20.0, 9.0, 10.0, 6.0, 3.0, 10.0, 18.0, 19.0, 10.0, 3.0, 10.0, 3.0, 1.0, 11.0, 6.0, 12.0, 11.0, 19.0, 7.0, 20.0, 3.0, 1.0, 2.0, 7.0, 13.0, 9.0, 16.0, 17.0, 14.0, 5.0, 17.0, 6.0, 2.0, 20.0, 20.0, 19.0, 16.0, 20.0, 18.0, 15.0, 10.0, 14.0, 1.0, 10.0, 6.0, 15.0, 15.0, 19.0, 20.0, 20.0, 16.0, 12.0, 15.0, 16.0, 9.0, 5.0, 13.0, 7.0, 10.0, 1.0, 9.0, 13.0, 4.0, 14.0, 2.0, 8.0, 19.0, 8.0, 6.0, 4.0, 6.0, 7.0, 14.0, 15.0, 9.0, 12.0, 19.0, 18.0, 19.0, 10.0, 14.0, 15.0, 1.0, 3.0, 19.0, 16.0, 10.0, 1.0, 14.0, 9.0, 5.0, 20.0, 2.0, 5.0, 9.0, 19.0, 11.0, 5.0, 9.0, 16.0, 7.0, 3.0, 1.0, 14.0, 16.0, 14.0, 19.0, 17.0, 6.0, 6.0, 11.0, 14.0, 11.0, 3.0, 19.0, 18.0, 12.0, 12.0, 3.0, 8.0, 1.0, 13.0, 10.0, 6.0, 13.0, 13.0, 4.0, 5.0, 20.0, 7.0, 19.0, 7.0, 16.0, 17.0, 8.0, 13.0, 18.0, 11.0, 4.0, 2.0, 6.0, 15.0, 8.0, 15.0, 12.0, 10.0, 1.0, 14.0, 9.0, 6.0, 5.0, 5.0, 3.0, 12.0, 8.0, 9.0, 13.0, 2.0, 12.0, 19.0, 14.0, 9.0, 13.0, 20.0, 9.0, 6.0, 6.0, 20.0, 16.0, 1.0, 13.0, 12.0, 8.0, 12.0, 15.0, 18.0, 12.0, 18.0, 11.0, 2.0, 3.0, 8.0, 13.0, 17.0, 18.0, 13.0, 14.0, 8.0, 15.0, 18.0, 7.0, 14.0, 10.0, 1.0, 10.0, 16.0, 14.0, 19.0, 18.0, 3.0, 14.0, 2.0, 2.0, 3.0, 9.0, 8.0, 5.0, 12.0, 10.0, 4.0, 17.0, 11.0, 4.0, 1.0, 17.0, 20.0, 5.0, 13.0, 18.0, 11.0, 1.0, 10.0, 18.0, 7.0, 19.0, 14.0, 2.0, 3.0, 4.0, 1.0, 4.0, 17.0, 19.0, 7.0, 20.0, 16.0, 16.0, 13.0, 6.0, 11.0, 9.0, 18.0, 15.0, 15.0, 11.0, 14.0, 15.0, 2.0, 9.0, 9.0, 15.0, 15.0, 4.0, 15.0, 14.0, 17.0, 17.0, 5.0, 20.0, 3.0, 1.0, 17.0, 6.0, 19.0, 4.0, 9.0, 8.0, 4.0, 11.0, 12.0, 5.0, 19.0, 15.0, 2.0, 2.0, 12.0, 19.0, 19.0, 15.0, 7.0, 15.0, 19.0, 7.0, 20.0, 7.0, 9.0, 1.0, 1.0, 1.0, 18.0, 17.0, 4.0, 19.0, 13.0, 7.0, 12.0, 11.0, 4.0, 7.0, 15.0, 4.0, 17.0, 7.0, 7.0, 16.0, 8.0, 19.0, 13.0, 20.0, 7.0, 12.0, 17.0, 19.0, 8.0, 5.0, 19.0, 16.0, 13.0, 3.0, 16.0, 2.0, 14.0, 14.0, 15.0, 13.0, 5.0, 2.0, 5.0, 3.0, 5.0, 7.0, 6.0, 3.0, 2.0, 17.0, 18.0, 11.0, 15.0, 2.0, 3.0, 11.0, 4.0, 6.0, 12.0, 17.0, 12.0, 18.0, 13.0, 14.0, 19.0, 18.0, 18.0, 11.0, 9.0, 1.0, 15.0, 16.0, 10.0, 4.0, 18.0, 16.0, 18.0, 18.0, 10.0, 7.0, 7.0, 6.0, 13.0, 13.0, 17.0, 15.0, 8.0, 14.0, 6.0, 11.0, 15.0, 13.0, 10.0, 16.0, 8.0, 8.0, 3.0, 7.0, 3.0, 20.0, 6.0, 7.0, 9.0, 3.0, 14.0, 13.0, 14.0, 17.0, 4.0, 19.0, 15.0, 9.0, 15.0, 7.0, 8.0, 11.0, 7.0, 3.0, 20.0, 8.0, 1.0, 4.0, 20.0, 2.0, 15.0, 15.0, 14.0, 15.0, 11.0, 3.0, 19.0, 13.0, 12.0, 6.0, 16.0, 20.0, 10.0, 5.0, 14.0, 16.0, 14.0, 16.0, 7.0, 4.0, 19.0, 1.0, 6.0, 3.0, 14.0, 14.0, 12.0, 7.0, 6.0, 9.0, 8.0, 9.0, 2.0, 17.0, 11.0, 20.0, 12.0, 2.0, 7.0, 11.0, 15.0, 17.0, 7.0, 16.0, 1.0, 11.0, 6.0, 11.0, 2.0, 17.0, 19.0, 9.0, 8.0, 9.0, 14.0, 3.0, 1.0, 8.0, 1.0, 11.0, 11.0, 7.0, 10.0, 5.0, 18.0, 4.0, 8.0, 15.0, 9.0, 16.0, 14.0, 4.0, 20.0, 14.0, 5.0, 8.0, 4.0, 9.0, 12.0, 11.0, 8.0, 16.0, 20.0, 12.0, 1.0, 12.0, 14.0, 2.0, 15.0, 11.0, 14.0, 19.0, 1.0, 8.0, 1.0, 13.0, 15.0, 9.0, 10.0, 7.0, 3.0, 7.0, 2.0, 2.0, 12.0, 5.0, 2.0, 20.0, 19.0, 15.0, 3.0, 16.0, 2.0, 16.0, 14.0, 7.0, 6.0, 12.0, 18.0, 11.0, 17.0, 18.0, 12.0, 19.0, 7.0, 15.0, 8.0, 11.0, 1.0, 3.0, 19.0, 18.0, 5.0, 2.0, 1.0, 14.0, 1.0, 3.0, 20.0, 17.0, 4.0, 5.0, 10.0, 18.0, 1.0, 20.0, 15.0, 2.0, 20.0, 5.0, 2.0, 11.0, 9.0, 13.0, 4.0, 14.0, 9.0, 18.0, 9.0, 4.0, 7.0, 12.0, 13.0, 11.0, 10.0, 18.0, 19.0, 7.0, 2.0, 19.0, 1.0, 1.0, 11.0, 1.0, 17.0, 7.0, 1.0, 11.0, 2.0, 18.0, 20.0, 12.0, 13.0, 1.0, 6.0, 8.0, 14.0, 1.0, 9.0, 15.0, 3.0, 7.0, 5.0, 11.0, 1.0, 9.0, 15.0, 10.0, 8.0, 5.0, 2.0, 14.0, 15.0, 6.0, 5.0, 5.0, 2.0, 12.0, 8.0, 10.0, 9.0, 9.0, 11.0, 17.0, 18.0, 18.0, 15.0, 2.0, 7.0, 2.0, 13.0, 20.0, 11.0, 8.0, 19.0, 13.0, 9.0, 7.0, 1.0, 2.0, 7.0, 11.0, 19.0, 14.0, 12.0, 10.0, 14.0, 9.0, 7.0, 1.0, 10.0, 3.0, 6.0, 20.0, 3.0, 10.0, 7.0, 14.0, 15.0, 16.0, 18.0, 13.0, 5.0, 12.0, 17.0, 7.0, 13.0, 7.0, 12.0, 9.0, 7.0, 5.0, 4.0, 18.0, 13.0, 20.0, 6.0, 5.0, 19.0, 19.0, 2.0, 19.0, 18.0, 10.0, 19.0, 16.0, 11.0, 20.0, 5.0, 4.0, 14.0, 6.0, 6.0, 3.0, 11.0, 11.0, 6.0, 2.0, 17.0, 16.0, 10.0, 11.0, 8.0, 20.0, 19.0, 16.0, 5.0, 16.0, 11.0, 12.0, 5.0, 19.0, 15.0, 8.0, 12.0, 8.0, 4.0, 20.0, 9.0, 6.0, 13.0, 13.0, 10.0, 4.0, 2.0, 11.0, 20.0, 5.0, 20.0, 9.0, 7.0, 19.0, 17.0, 5.0, 15.0, 11.0, 18.0, 5.0, 15.0, 13.0, 2.0, 12.0, 5.0, 17.0, 10.0, 1.0, 16.0, 12.0, 18.0, 19.0, 14.0, 14.0, 6.0, 7.0, 12.0, 7.0, 7.0, 1.0, 9.0, 3.0, 2.0, 18.0, 11.0, 8.0, 8.0, 17.0, 1.0, 3.0, 6.0, 19.0, 3.0, 15.0, 4.0, 18.0, 7.0, 5.0, 12.0, 20.0, 18.0, 7.0, 12.0, 1.0, 17.0, 7.0, 5.0, 20.0, 15.0, 14.0, 7.0, 19.0, 18.0, 9.0, 8.0, 8.0, 15.0, 13.0, 19.0, 5.0, 19.0, 20.0, 3.0, 18.0, 16.0, 14.0, 19.0, 11.0, 1.0, 13.0, 1.0, 20.0, 15.0, 19.0, 12.0, 10.0, 18.0, 5.0, 9.0, 4.0, 7.0, 2.0, 10.0, 9.0, 19.0, 14.0, 19.0, 15.0, 17.0, 10.0, 20.0, 18.0, 20.0, 10.0, 18.0, 13.0, 20.0, 12.0, 3.0, 1.0, 18.0, 2.0, 6.0, 9.0, 15.0, 8.0, 20.0, 12.0, 3.0, 2.0, 18.0, 20.0, 10.0, 7.0, 9.0, 13.0, 7.0, 10.0, 6.0, 14.0, 2.0, 11.0, 16.0, 9.0, 18.0, 5.0, 16.0, 12.0, 5.0, 18.0, 17.0, 1.0, 7.0, 6.0, 1.0, 20.0, 14.0, 2.0, 20.0, 17.0, 3.0, 1.0, 3.0, 19.0, 18.0, 2.0, 20.0, 13.0, 11.0, 11.0, 4.0, 1.0, 7.0, 2.0, 10.0, 4.0, 14.0, 10.0, 10.0, 14.0, 12.0, 15.0, 16.0, 18.0, 8.0, 7.0, 19.0, 10.0, 19.0, 4.0, 4.0, 11.0, 14.0, 1.0, 3.0, 5.0, 18.0, 20.0, 5.0, 8.0, 1.0, 2.0, 16.0, 18.0, 10.0, 14.0, 13.0, 6.0, 17.0, 16.0, 18.0, 9.0, 5.0, 1.0, 4.0, 9.0, 2.0, 7.0, 20.0, 10.0, 10.0, 18.0, 4.0, 20.0, 6.0, 5.0, 5.0, 4.0, 5.0, 17.0, 4.0, 6.0, 9.0, 16.0, 10.0, 14.0, 12.0, 14.0, 20.0, 6.0, 18.0, 6.0, 11.0, 12.0, 19.0, 13.0, 19.0, 20.0, 1.0, 6.0, 4.0, 10.0, 4.0, 7.0, 7.0, 14.0, 17.0, 14.0, 10.0, 7.0, 20.0, 10.0, 6.0, 3.0, 13.0, 5.0, 2.0, 5.0, 2.0, 17.0, 9.0, 7.0, 13.0, 17.0, 4.0, 10.0, 18.0, 4.0, 7.0, 16.0, 3.0, 4.0, 7.0, 1.0, 18.0, 20.0, 11.0, 19.0, 2.0, 7.0, 2.0, 6.0, 14.0, 6.0, 17.0, 13.0, 1.0, 6.0, 6.0, 4.0, 17.0, 10.0, 3.0, 11.0, 10.0, 13.0, 11.0, 8.0, 10.0, 14.0, 14.0, 6.0, 7.0, 13.0, 1.0, 17.0, 19.0, 8.0, 6.0, 20.0, 11.0, 1.0, 9.0, 14.0, 15.0, 15.0, 7.0, 16.0, 7.0, 6.0, 6.0, 5.0, 16.0, 13.0, 2.0, 18.0, 9.0, 8.0, 15.0, 7.0, 7.0, 13.0, 15.0, 2.0, 4.0, 20.0, 2.0, 7.0, 4.0, 12.0, 1.0, 8.0, 2.0, 6.0, 19.0, 16.0, 10.0, 15.0, 18.0, 19.0, 12.0, 15.0, 2.0, 4.0, 10.0, 6.0, 15.0, 4.0, 18.0, 17.0, 13.0, 20.0, 18.0, 11.0, 11.0, 15.0, 15.0, 2.0, 17.0, 11.0, 10.0, 3.0, 4.0, 1.0, 19.0, 2.0, 15.0, 2.0, 6.0, 2.0, 17.0, 10.0, 1.0, 10.0, 10.0, 8.0, 5.0, 16.0, 11.0, 11.0, 14.0, 10.0, 20.0, 1.0, 4.0, 14.0, 13.0, 18.0, 15.0, 3.0, 2.0, 3.0, 9.0, 10.0, 15.0, 18.0, 16.0, 1.0, 12.0, 5.0, 7.0, 8.0, 9.0, 3.0, 7.0, 7.0, 11.0, 5.0, 10.0, 6.0, 17.0, 11.0, 19.0, 11.0, 13.0, 14.0, 19.0, 3.0, 7.0, 15.0, 4.0, 5.0, 3.0, 20.0, 17.0, 19.0, 14.0, 20.0, 14.0, 12.0, 8.0, 18.0, 5.0, 20.0, 1.0, 3.0, 6.0, 5.0, 3.0, 10.0, 1.0, 13.0, 17.0, 5.0, 4.0, 13.0, 1.0, 13.0, 13.0, 11.0, 2.0, 14.0, 13.0, 7.0, 4.0, 15.0, 1.0, 15.0, 7.0, 5.0, 19.0, 16.0, 8.0, 4.0, 16.0, 10.0, 14.0, 4.0, 20.0, 11.0, 7.0, 12.0, 20.0, 15.0, 9.0, 5.0, 12.0, 20.0, 18.0, 20.0, 20.0, 15.0, 16.0, 18.0, 8.0, 14.0, 7.0, 20.0, 17.0, 10.0, 1.0, 7.0, 20.0, 11.0, 8.0, 10.0, 3.0, 8.0, 4.0, 1.0, 1.0, 8.0, 4.0, 20.0, 5.0, 4.0, 3.0, 16.0, 7.0, 5.0, 3.0, 3.0, 12.0, 4.0, 3.0, 10.0, 4.0, 17.0, 6.0, 11.0, 9.0, 20.0, 17.0, 17.0, 2.0, 20.0, 11.0, 10.0, 16.0, 10.0, 9.0, 3.0, 16.0, 20.0, 8.0, 2.0, 6.0, 18.0, 20.0, 15.0, 15.0, 11.0, 6.0, 5.0, 14.0, 7.0, 6.0, 2.0, 19.0, 4.0, 19.0, 13.0, 14.0, 16.0, 7.0, 2.0, 4.0, 18.0, 2.0, 3.0, 16.0, 8.0, 2.0, 11.0, 5.0, 16.0, 9.0, 5.0, 15.0, 6.0, 15.0, 11.0, 15.0, 1.0, 14.0, 4.0, 2.0, 16.0, 14.0, 18.0, 14.0, 19.0, 1.0, 12.0, 10.0, 13.0, 13.0, 10.0, 10.0, 12.0, 2.0, 13.0, 12.0, 13.0, 14.0, 16.0, 10.0, 16.0, 16.0, 2.0, 2.0, 18.0, 16.0, 5.0, 3.0, 5.0, 18.0, 7.0, 10.0, 10.0, 4.0, 20.0, 10.0, 11.0, 7.0, 13.0, 9.0, 13.0, 19.0, 19.0, 7.0, 11.0, 2.0, 9.0, 14.0, 16.0, 11.0, 17.0, 6.0, 17.0, 1.0, 3.0, 11.0, 16.0, 2.0, 9.0, 2.0, 3.0, 3.0, 18.0, 7.0, 1.0, 10.0, 15.0, 3.0, 13.0, 9.0]}, {\"line\": {\"color\": \"firebrick\", \"dash\": \"dash\", \"width\": 3}, \"mode\": \"lines\", \"name\": \"Mean Qty Sold\", \"type\": \"scatter\", \"x\": [\"storeA013\", \"storeA006\", \"storeA017\", \"storeA007\", \"storeA015\", \"storeA012\", \"storeA014\", \"storeA004\", \"storeA002\", \"storeA011\", \"storeA016\", \"storeA021\", \"storeA001\", \"storeA009\", \"storeA005\", \"storeA010\", \"storeA023\", \"storeA003\", \"storeA019\", \"storeA027\", \"storeA025\", \"storeA028\", \"storeA026\", \"storeA020\", \"storeA018\", \"storeA024\", \"storeA022\", \"storeA008\"], \"y\": [10.490772779700116, 10.490772779700116, 10.490772779700116, 10.490772779700116, 10.490772779700116, 10.490772779700116, 10.490772779700116, 10.490772779700116, 10.490772779700116, 10.490772779700116, 10.490772779700116, 10.490772779700116, 10.490772779700116, 10.490772779700116, 10.490772779700116, 10.490772779700116, 10.490772779700116, 10.490772779700116, 10.490772779700116, 10.490772779700116, 10.490772779700116, 10.490772779700116, 10.490772779700116, 10.490772779700116, 10.490772779700116, 10.490772779700116, 10.490772779700116, 10.490772779700116]}],\n",
              "                        {\"template\": {\"data\": {\"bar\": [{\"error_x\": {\"color\": \"#2a3f5f\"}, \"error_y\": {\"color\": \"#2a3f5f\"}, \"marker\": {\"line\": {\"color\": \"#E5ECF6\", \"width\": 0.5}}, \"type\": \"bar\"}], \"barpolar\": [{\"marker\": {\"line\": {\"color\": \"#E5ECF6\", \"width\": 0.5}}, \"type\": \"barpolar\"}], \"carpet\": [{\"aaxis\": {\"endlinecolor\": \"#2a3f5f\", \"gridcolor\": \"white\", \"linecolor\": \"white\", \"minorgridcolor\": \"white\", \"startlinecolor\": \"#2a3f5f\"}, \"baxis\": {\"endlinecolor\": \"#2a3f5f\", \"gridcolor\": \"white\", \"linecolor\": \"white\", \"minorgridcolor\": \"white\", \"startlinecolor\": \"#2a3f5f\"}, \"type\": \"carpet\"}], \"choropleth\": [{\"colorbar\": {\"outlinewidth\": 0, \"ticks\": \"\"}, \"type\": \"choropleth\"}], \"contour\": [{\"colorbar\": {\"outlinewidth\": 0, \"ticks\": \"\"}, \"colorscale\": [[0.0, \"#0d0887\"], [0.1111111111111111, \"#46039f\"], [0.2222222222222222, \"#7201a8\"], [0.3333333333333333, \"#9c179e\"], [0.4444444444444444, \"#bd3786\"], [0.5555555555555556, \"#d8576b\"], [0.6666666666666666, \"#ed7953\"], [0.7777777777777778, \"#fb9f3a\"], [0.8888888888888888, \"#fdca26\"], [1.0, \"#f0f921\"]], \"type\": \"contour\"}], \"contourcarpet\": [{\"colorbar\": {\"outlinewidth\": 0, \"ticks\": \"\"}, \"type\": \"contourcarpet\"}], \"heatmap\": [{\"colorbar\": {\"outlinewidth\": 0, \"ticks\": \"\"}, \"colorscale\": [[0.0, \"#0d0887\"], [0.1111111111111111, \"#46039f\"], [0.2222222222222222, \"#7201a8\"], [0.3333333333333333, \"#9c179e\"], [0.4444444444444444, \"#bd3786\"], [0.5555555555555556, \"#d8576b\"], [0.6666666666666666, \"#ed7953\"], [0.7777777777777778, \"#fb9f3a\"], [0.8888888888888888, \"#fdca26\"], [1.0, \"#f0f921\"]], \"type\": \"heatmap\"}], \"heatmapgl\": [{\"colorbar\": {\"outlinewidth\": 0, \"ticks\": \"\"}, \"colorscale\": [[0.0, \"#0d0887\"], [0.1111111111111111, \"#46039f\"], [0.2222222222222222, \"#7201a8\"], [0.3333333333333333, \"#9c179e\"], [0.4444444444444444, \"#bd3786\"], [0.5555555555555556, \"#d8576b\"], [0.6666666666666666, \"#ed7953\"], [0.7777777777777778, \"#fb9f3a\"], [0.8888888888888888, \"#fdca26\"], [1.0, \"#f0f921\"]], \"type\": \"heatmapgl\"}], \"histogram\": [{\"marker\": {\"colorbar\": {\"outlinewidth\": 0, \"ticks\": \"\"}}, \"type\": \"histogram\"}], \"histogram2d\": [{\"colorbar\": {\"outlinewidth\": 0, \"ticks\": \"\"}, \"colorscale\": [[0.0, \"#0d0887\"], [0.1111111111111111, \"#46039f\"], [0.2222222222222222, \"#7201a8\"], [0.3333333333333333, \"#9c179e\"], [0.4444444444444444, \"#bd3786\"], [0.5555555555555556, \"#d8576b\"], [0.6666666666666666, \"#ed7953\"], [0.7777777777777778, \"#fb9f3a\"], [0.8888888888888888, \"#fdca26\"], [1.0, \"#f0f921\"]], \"type\": \"histogram2d\"}], \"histogram2dcontour\": [{\"colorbar\": {\"outlinewidth\": 0, \"ticks\": \"\"}, \"colorscale\": [[0.0, \"#0d0887\"], [0.1111111111111111, \"#46039f\"], [0.2222222222222222, \"#7201a8\"], [0.3333333333333333, \"#9c179e\"], [0.4444444444444444, \"#bd3786\"], [0.5555555555555556, \"#d8576b\"], [0.6666666666666666, \"#ed7953\"], [0.7777777777777778, \"#fb9f3a\"], [0.8888888888888888, \"#fdca26\"], [1.0, \"#f0f921\"]], \"type\": \"histogram2dcontour\"}], \"mesh3d\": [{\"colorbar\": {\"outlinewidth\": 0, \"ticks\": \"\"}, \"type\": \"mesh3d\"}], \"parcoords\": [{\"line\": {\"colorbar\": {\"outlinewidth\": 0, \"ticks\": \"\"}}, \"type\": \"parcoords\"}], \"pie\": [{\"automargin\": true, \"type\": \"pie\"}], \"scatter\": [{\"marker\": {\"colorbar\": {\"outlinewidth\": 0, \"ticks\": \"\"}}, \"type\": \"scatter\"}], \"scatter3d\": [{\"line\": {\"colorbar\": {\"outlinewidth\": 0, \"ticks\": \"\"}}, \"marker\": {\"colorbar\": {\"outlinewidth\": 0, \"ticks\": \"\"}}, \"type\": \"scatter3d\"}], \"scattercarpet\": [{\"marker\": {\"colorbar\": {\"outlinewidth\": 0, \"ticks\": \"\"}}, \"type\": \"scattercarpet\"}], \"scattergeo\": [{\"marker\": {\"colorbar\": {\"outlinewidth\": 0, \"ticks\": \"\"}}, \"type\": \"scattergeo\"}], \"scattergl\": [{\"marker\": {\"colorbar\": {\"outlinewidth\": 0, \"ticks\": \"\"}}, \"type\": \"scattergl\"}], \"scattermapbox\": [{\"marker\": {\"colorbar\": {\"outlinewidth\": 0, \"ticks\": \"\"}}, \"type\": \"scattermapbox\"}], \"scatterpolar\": [{\"marker\": {\"colorbar\": {\"outlinewidth\": 0, \"ticks\": \"\"}}, \"type\": \"scatterpolar\"}], \"scatterpolargl\": [{\"marker\": {\"colorbar\": {\"outlinewidth\": 0, \"ticks\": \"\"}}, \"type\": \"scatterpolargl\"}], \"scatterternary\": [{\"marker\": {\"colorbar\": {\"outlinewidth\": 0, \"ticks\": \"\"}}, \"type\": \"scatterternary\"}], \"surface\": [{\"colorbar\": {\"outlinewidth\": 0, \"ticks\": \"\"}, \"colorscale\": [[0.0, \"#0d0887\"], [0.1111111111111111, \"#46039f\"], [0.2222222222222222, \"#7201a8\"], [0.3333333333333333, \"#9c179e\"], [0.4444444444444444, \"#bd3786\"], [0.5555555555555556, \"#d8576b\"], [0.6666666666666666, \"#ed7953\"], [0.7777777777777778, \"#fb9f3a\"], [0.8888888888888888, \"#fdca26\"], [1.0, \"#f0f921\"]], \"type\": \"surface\"}], \"table\": [{\"cells\": {\"fill\": {\"color\": \"#EBF0F8\"}, \"line\": {\"color\": \"white\"}}, \"header\": {\"fill\": {\"color\": \"#C8D4E3\"}, \"line\": {\"color\": \"white\"}}, \"type\": \"table\"}]}, \"layout\": {\"annotationdefaults\": {\"arrowcolor\": \"#2a3f5f\", \"arrowhead\": 0, \"arrowwidth\": 1}, \"coloraxis\": {\"colorbar\": {\"outlinewidth\": 0, \"ticks\": \"\"}}, \"colorscale\": {\"diverging\": [[0, \"#8e0152\"], [0.1, \"#c51b7d\"], [0.2, \"#de77ae\"], [0.3, \"#f1b6da\"], [0.4, \"#fde0ef\"], [0.5, \"#f7f7f7\"], [0.6, \"#e6f5d0\"], [0.7, \"#b8e186\"], [0.8, \"#7fbc41\"], [0.9, \"#4d9221\"], [1, \"#276419\"]], \"sequential\": [[0.0, \"#0d0887\"], [0.1111111111111111, \"#46039f\"], [0.2222222222222222, \"#7201a8\"], [0.3333333333333333, \"#9c179e\"], [0.4444444444444444, \"#bd3786\"], [0.5555555555555556, \"#d8576b\"], [0.6666666666666666, \"#ed7953\"], [0.7777777777777778, \"#fb9f3a\"], [0.8888888888888888, \"#fdca26\"], [1.0, \"#f0f921\"]], \"sequentialminus\": [[0.0, \"#0d0887\"], [0.1111111111111111, \"#46039f\"], [0.2222222222222222, \"#7201a8\"], [0.3333333333333333, \"#9c179e\"], [0.4444444444444444, \"#bd3786\"], [0.5555555555555556, \"#d8576b\"], [0.6666666666666666, \"#ed7953\"], [0.7777777777777778, \"#fb9f3a\"], [0.8888888888888888, \"#fdca26\"], [1.0, \"#f0f921\"]]}, \"colorway\": [\"#636efa\", \"#EF553B\", \"#00cc96\", \"#ab63fa\", \"#FFA15A\", \"#19d3f3\", \"#FF6692\", \"#B6E880\", \"#FF97FF\", \"#FECB52\"], \"font\": {\"color\": \"#2a3f5f\"}, \"geo\": {\"bgcolor\": \"white\", \"lakecolor\": \"white\", \"landcolor\": \"#E5ECF6\", \"showlakes\": true, \"showland\": true, \"subunitcolor\": \"white\"}, \"hoverlabel\": {\"align\": \"left\"}, \"hovermode\": \"closest\", \"mapbox\": {\"style\": \"light\"}, \"paper_bgcolor\": \"white\", \"plot_bgcolor\": \"#E5ECF6\", \"polar\": {\"angularaxis\": {\"gridcolor\": \"white\", \"linecolor\": \"white\", \"ticks\": \"\"}, \"bgcolor\": \"#E5ECF6\", \"radialaxis\": {\"gridcolor\": \"white\", \"linecolor\": \"white\", \"ticks\": \"\"}}, \"scene\": {\"xaxis\": {\"backgroundcolor\": \"#E5ECF6\", \"gridcolor\": \"white\", \"gridwidth\": 2, \"linecolor\": \"white\", \"showbackground\": true, \"ticks\": \"\", \"zerolinecolor\": \"white\"}, \"yaxis\": {\"backgroundcolor\": \"#E5ECF6\", \"gridcolor\": \"white\", \"gridwidth\": 2, \"linecolor\": \"white\", \"showbackground\": true, \"ticks\": \"\", \"zerolinecolor\": \"white\"}, \"zaxis\": {\"backgroundcolor\": \"#E5ECF6\", \"gridcolor\": \"white\", \"gridwidth\": 2, \"linecolor\": \"white\", \"showbackground\": true, \"ticks\": \"\", \"zerolinecolor\": \"white\"}}, \"shapedefaults\": {\"line\": {\"color\": \"#2a3f5f\"}}, \"ternary\": {\"aaxis\": {\"gridcolor\": \"white\", \"linecolor\": \"white\", \"ticks\": \"\"}, \"baxis\": {\"gridcolor\": \"white\", \"linecolor\": \"white\", \"ticks\": \"\"}, \"bgcolor\": \"#E5ECF6\", \"caxis\": {\"gridcolor\": \"white\", \"linecolor\": \"white\", \"ticks\": \"\"}}, \"title\": {\"x\": 0.05}, \"xaxis\": {\"automargin\": true, \"gridcolor\": \"white\", \"linecolor\": \"white\", \"ticks\": \"\", \"title\": {\"standoff\": 15}, \"zerolinecolor\": \"white\", \"zerolinewidth\": 2}, \"yaxis\": {\"automargin\": true, \"gridcolor\": \"white\", \"linecolor\": \"white\", \"ticks\": \"\", \"title\": {\"standoff\": 15}, \"zerolinecolor\": \"white\", \"zerolinewidth\": 2}}}, \"title\": {\"text\": \"Quantity Sold per Store\"}, \"xaxis\": {\"title\": {\"text\": \"Store Name\"}}, \"yaxis\": {\"title\": {\"text\": \"Qty Sold\"}}},\n",
              "                        {\"responsive\": true}\n",
              "                    ).then(function(){\n",
              "                            \n",
              "var gd = document.getElementById('03da6086-c724-4900-9829-7589b9d8b0ce');\n",
              "var x = new MutationObserver(function (mutations, observer) {{\n",
              "        var display = window.getComputedStyle(gd).display;\n",
              "        if (!display || display === 'none') {{\n",
              "            console.log([gd, 'removed!']);\n",
              "            Plotly.purge(gd);\n",
              "            observer.disconnect();\n",
              "        }}\n",
              "}});\n",
              "\n",
              "// Listen for the removal of the full notebook cells\n",
              "var notebookContainer = gd.closest('#notebook-container');\n",
              "if (notebookContainer) {{\n",
              "    x.observe(notebookContainer, {childList: true});\n",
              "}}\n",
              "\n",
              "// Listen for the clearing of the current output cell\n",
              "var outputEl = gd.closest('.output');\n",
              "if (outputEl) {{\n",
              "    x.observe(outputEl, {childList: true});\n",
              "}}\n",
              "\n",
              "                        })\n",
              "                };\n",
              "                \n",
              "            </script>\n",
              "        </div>\n",
              "</body>\n",
              "</html>"
            ]
          },
          "metadata": {
            "tags": []
          }
        },
        {
          "output_type": "display_data",
          "data": {
            "text/html": [
              "<html>\n",
              "<head><meta charset=\"utf-8\" /></head>\n",
              "<body>\n",
              "    <div>\n",
              "            <script src=\"https://cdnjs.cloudflare.com/ajax/libs/mathjax/2.7.5/MathJax.js?config=TeX-AMS-MML_SVG\"></script><script type=\"text/javascript\">if (window.MathJax) {MathJax.Hub.Config({SVG: {font: \"STIX-Web\"}});}</script>\n",
              "                <script type=\"text/javascript\">window.PlotlyConfig = {MathJaxConfig: 'local'};</script>\n",
              "        <script src=\"https://cdn.plot.ly/plotly-latest.min.js\"></script>    \n",
              "            <div id=\"cbc3b9a2-86ee-4db0-9d9f-90249118238a\" class=\"plotly-graph-div\" style=\"height:525px; width:100%;\"></div>\n",
              "            <script type=\"text/javascript\">\n",
              "                \n",
              "                    window.PLOTLYENV=window.PLOTLYENV || {};\n",
              "                    \n",
              "                if (document.getElementById(\"cbc3b9a2-86ee-4db0-9d9f-90249118238a\")) {\n",
              "                    Plotly.newPlot(\n",
              "                        'cbc3b9a2-86ee-4db0-9d9f-90249118238a',\n",
              "                        [{\"boxmean\": true, \"marker\": {\"color\": \"#434e52\"}, \"type\": \"box\", \"x\": [\"storeA013\", \"storeA006\", \"storeA017\", \"storeA007\", \"storeA015\", \"storeA012\", \"storeA014\", \"storeA004\", \"storeA002\", \"storeA007\", \"storeA011\", \"storeA011\", \"storeA015\", \"storeA016\", \"storeA021\", \"storeA001\", \"storeA009\", \"storeA015\", \"storeA005\", \"storeA016\", \"storeA010\", \"storeA012\", \"storeA014\", \"storeA011\", \"storeA001\", \"storeA005\", \"storeA013\", \"storeA005\", \"storeA021\", \"storeA007\", \"storeA023\", \"storeA003\", \"storeA004\", \"storeA019\", \"storeA011\", \"storeA005\", \"storeA009\", \"storeA011\", \"storeA002\", \"storeA007\", \"storeA007\", \"storeA002\", \"storeA027\", \"storeA009\", \"storeA025\", \"storeA007\", \"storeA025\", \"storeA012\", \"storeA009\", \"storeA001\", \"storeA019\", \"storeA009\", \"storeA021\", \"storeA021\", \"storeA028\", \"storeA010\", \"storeA026\", \"storeA020\", \"storeA018\", \"storeA015\", \"storeA002\", \"storeA007\", \"storeA020\", \"storeA024\", \"storeA009\", \"storeA016\", \"storeA006\", \"storeA011\", \"storeA009\", \"storeA015\", \"storeA006\", \"storeA016\", \"storeA027\", \"storeA028\", \"storeA016\", \"storeA013\", \"storeA010\", \"storeA027\", \"storeA022\", \"storeA028\", \"storeA012\", \"storeA011\", \"storeA026\", \"storeA023\", \"storeA015\", \"storeA025\", \"storeA026\", \"storeA004\", \"storeA016\", \"storeA010\", \"storeA005\", \"storeA028\", \"storeA003\", \"storeA028\", \"storeA022\", \"storeA006\", \"storeA019\", \"storeA014\", \"storeA009\", \"storeA012\", \"storeA003\", \"storeA014\", \"storeA024\", \"storeA015\", \"storeA026\", \"storeA013\", \"storeA011\", \"storeA022\", \"storeA017\", \"storeA026\", \"storeA028\", \"storeA021\", \"storeA027\", \"storeA010\", \"storeA004\", \"storeA005\", \"storeA013\", \"storeA013\", \"storeA024\", \"storeA004\", \"storeA024\", \"storeA010\", \"storeA024\", \"storeA028\", \"storeA015\", \"storeA016\", \"storeA024\", \"storeA015\", \"storeA008\", \"storeA027\", \"storeA003\", \"storeA002\", \"storeA001\", \"storeA024\", \"storeA004\", \"storeA018\", \"storeA009\", \"storeA002\", \"storeA009\", \"storeA004\", \"storeA004\", \"storeA009\", \"storeA010\", \"storeA022\", \"storeA005\", \"storeA022\", \"storeA022\", \"storeA028\", \"storeA010\", \"storeA025\", \"storeA009\", \"storeA014\", \"storeA002\", \"storeA024\", \"storeA017\", \"storeA027\", \"storeA014\", \"storeA016\", \"storeA010\", \"storeA024\", \"storeA028\", \"storeA020\", \"storeA012\", \"storeA003\", \"storeA012\", \"storeA006\", \"storeA006\", \"storeA020\", \"storeA006\", \"storeA020\", \"storeA026\", \"storeA022\", \"storeA011\", \"storeA008\", \"storeA019\", \"storeA019\", \"storeA025\", \"storeA023\", \"storeA006\", \"storeA009\", \"storeA021\", \"storeA004\", \"storeA002\", \"storeA010\", \"storeA019\", \"storeA008\", \"storeA021\", \"storeA017\", \"storeA026\", \"storeA008\", \"storeA006\", \"storeA019\", \"storeA025\", \"storeA015\", \"storeA003\", \"storeA009\", \"storeA012\", \"storeA002\", \"storeA022\", \"storeA023\", \"storeA024\", \"storeA018\", \"storeA023\", \"storeA001\", \"storeA015\", \"storeA007\", \"storeA003\", \"storeA007\", \"storeA027\", \"storeA026\", \"storeA004\", \"storeA005\", \"storeA025\", \"storeA012\", \"storeA027\", \"storeA023\", \"storeA023\", \"storeA023\", \"storeA015\", \"storeA024\", \"storeA027\", \"storeA025\", \"storeA015\", \"storeA025\", \"storeA026\", \"storeA022\", \"storeA014\", \"storeA023\", \"storeA018\", \"storeA024\", \"storeA021\", \"storeA025\", \"storeA004\", \"storeA015\", \"storeA004\", \"storeA007\", \"storeA012\", \"storeA016\", \"storeA009\", \"storeA001\", \"storeA011\", \"storeA013\", \"storeA007\", \"storeA003\", \"storeA016\", \"storeA011\", \"storeA005\", \"storeA014\", \"storeA005\", \"storeA023\", \"storeA013\", \"storeA016\", \"storeA003\", \"storeA024\", \"storeA013\", \"storeA003\", \"storeA019\", \"storeA015\", \"storeA001\", \"storeA025\", \"storeA021\", \"storeA006\", \"storeA003\", \"storeA011\", \"storeA015\", \"storeA019\", \"storeA024\", \"storeA019\", \"storeA009\", \"storeA017\", \"storeA026\", \"storeA006\", \"storeA018\", \"storeA011\", \"storeA017\", \"storeA021\", \"storeA023\", \"storeA019\", \"storeA013\", \"storeA012\", \"storeA021\", \"storeA003\", \"storeA004\", \"storeA008\", \"storeA024\", \"storeA023\", \"storeA020\", \"storeA012\", \"storeA028\", \"storeA018\", \"storeA016\", \"storeA013\", \"storeA007\", \"storeA027\", \"storeA014\", \"storeA004\", \"storeA005\", \"storeA023\", \"storeA023\", \"storeA005\", \"storeA005\", \"storeA009\", \"storeA027\", \"storeA027\", \"storeA002\", \"storeA025\", \"storeA004\", \"storeA025\", \"storeA026\", \"storeA019\", \"storeA024\", \"storeA014\", \"storeA003\", \"storeA006\", \"storeA024\", \"storeA002\", \"storeA009\", \"storeA004\", \"storeA009\", \"storeA016\", \"storeA012\", \"storeA013\", \"storeA005\", \"storeA004\", \"storeA028\", \"storeA003\", \"storeA001\", \"storeA006\", \"storeA020\", \"storeA017\", \"storeA015\", \"storeA001\", \"storeA022\", \"storeA016\", \"storeA008\", \"storeA008\", \"storeA012\", \"storeA026\", \"storeA008\", \"storeA028\", \"storeA007\", \"storeA011\", \"storeA004\", \"storeA014\", \"storeA002\", \"storeA021\", \"storeA020\", \"storeA012\", \"storeA024\", \"storeA018\", \"storeA005\", \"storeA020\", \"storeA013\", \"storeA004\", \"storeA002\", \"storeA026\", \"storeA006\", \"storeA014\", \"storeA015\", \"storeA005\", \"storeA010\", \"storeA016\", \"storeA001\", \"storeA006\", \"storeA016\", \"storeA028\", \"storeA006\", \"storeA022\", \"storeA016\", \"storeA011\", \"storeA024\", \"storeA013\", \"storeA016\", \"storeA018\", \"storeA022\", \"storeA023\", \"storeA025\", \"storeA008\", \"storeA022\", \"storeA008\", \"storeA010\", \"storeA025\", \"storeA020\", \"storeA023\", \"storeA015\", \"storeA018\", \"storeA013\", \"storeA002\", \"storeA017\", \"storeA018\", \"storeA025\", \"storeA018\", \"storeA016\", \"storeA021\", \"storeA027\", \"storeA001\", \"storeA005\", \"storeA022\", \"storeA002\", \"storeA017\", \"storeA014\", \"storeA024\", \"storeA015\", \"storeA010\", \"storeA013\", \"storeA028\", \"storeA016\", \"storeA015\", \"storeA028\", \"storeA007\", \"storeA027\", \"storeA005\", \"storeA015\", \"storeA023\", \"storeA022\", \"storeA005\", \"storeA009\", \"storeA009\", \"storeA009\", \"storeA026\", \"storeA012\", \"storeA027\", \"storeA003\", \"storeA001\", \"storeA009\", \"storeA020\", \"storeA010\", \"storeA024\", \"storeA025\", \"storeA008\", \"storeA014\", \"storeA011\", \"storeA002\", \"storeA023\", \"storeA007\", \"storeA009\", \"storeA015\", \"storeA024\", \"storeA009\", \"storeA002\", \"storeA003\", \"storeA024\", \"storeA014\", \"storeA017\", \"storeA016\", \"storeA002\", \"storeA009\", \"storeA018\", \"storeA019\", \"storeA006\", \"storeA011\", \"storeA021\", \"storeA002\", \"storeA004\", \"storeA025\", \"storeA023\", \"storeA025\", \"storeA021\", \"storeA022\", \"storeA005\", \"storeA013\", \"storeA002\", \"storeA001\", \"storeA001\", \"storeA017\", \"storeA001\", \"storeA013\", \"storeA025\", \"storeA011\", \"storeA015\", \"storeA015\", \"storeA021\", \"storeA027\", \"storeA007\", \"storeA016\", \"storeA007\", \"storeA007\", \"storeA013\", \"storeA005\", \"storeA019\", \"storeA017\", \"storeA013\", \"storeA020\", \"storeA018\", \"storeA028\", \"storeA023\", \"storeA003\", \"storeA005\", \"storeA004\", \"storeA020\", \"storeA010\", \"storeA021\", \"storeA002\", \"storeA024\", \"storeA008\", \"storeA008\", \"storeA018\", \"storeA011\", \"storeA006\", \"storeA007\", \"storeA006\", \"storeA010\", \"storeA003\", \"storeA006\", \"storeA008\", \"storeA011\", \"storeA023\", \"storeA025\", \"storeA011\", \"storeA021\", \"storeA005\", \"storeA020\", \"storeA019\", \"storeA023\", \"storeA019\", \"storeA020\", \"storeA010\", \"storeA025\", \"storeA007\", \"storeA026\", \"storeA003\", \"storeA023\", \"storeA010\", \"storeA002\", \"storeA025\", \"storeA003\", \"storeA025\", \"storeA028\", \"storeA027\", \"storeA021\", \"storeA017\", \"storeA003\", \"storeA012\", \"storeA005\", \"storeA007\", \"storeA009\", \"storeA001\", \"storeA002\", \"storeA027\", \"storeA012\", \"storeA002\", \"storeA022\", \"storeA021\", \"storeA005\", \"storeA028\", \"storeA003\", \"storeA012\", \"storeA004\", \"storeA010\", \"storeA004\", \"storeA014\", \"storeA002\", \"storeA001\", \"storeA001\", \"storeA004\", \"storeA011\", \"storeA007\", \"storeA012\", \"storeA013\", \"storeA011\", \"storeA024\", \"storeA019\", \"storeA014\", \"storeA018\", \"storeA014\", \"storeA017\", \"storeA026\", \"storeA018\", \"storeA026\", \"storeA027\", \"storeA015\", \"storeA026\", \"storeA011\", \"storeA017\", \"storeA020\", \"storeA020\", \"storeA028\", \"storeA002\", \"storeA026\", \"storeA016\", \"storeA011\", \"storeA026\", \"storeA019\", \"storeA008\", \"storeA024\", \"storeA019\", \"storeA014\", \"storeA007\", \"storeA001\", \"storeA021\", \"storeA007\", \"storeA001\", \"storeA019\", \"storeA003\", \"storeA027\", \"storeA002\", \"storeA015\", \"storeA009\", \"storeA008\", \"storeA024\", \"storeA009\", \"storeA026\", \"storeA024\", \"storeA018\", \"storeA003\", \"storeA003\", \"storeA023\", \"storeA010\", \"storeA011\", \"storeA014\", \"storeA024\", \"storeA019\", \"storeA023\", \"storeA016\", \"storeA016\", \"storeA019\", \"storeA014\", \"storeA011\", \"storeA013\", \"storeA016\", \"storeA023\", \"storeA028\", \"storeA007\", \"storeA002\", \"storeA003\", \"storeA006\", \"storeA008\", \"storeA017\", \"storeA016\", \"storeA012\", \"storeA010\", \"storeA007\", \"storeA010\", \"storeA008\", \"storeA015\", \"storeA001\", \"storeA003\", \"storeA021\", \"storeA005\", \"storeA014\", \"storeA008\", \"storeA008\", \"storeA009\", \"storeA027\", \"storeA011\", \"storeA019\", \"storeA005\", \"storeA016\", \"storeA023\", \"storeA005\", \"storeA003\", \"storeA006\", \"storeA021\", \"storeA004\", \"storeA024\", \"storeA008\", \"storeA001\", \"storeA018\", \"storeA006\", \"storeA006\", \"storeA019\", \"storeA022\", \"storeA019\", \"storeA010\", \"storeA002\", \"storeA019\", \"storeA006\", \"storeA002\", \"storeA002\", \"storeA022\", \"storeA004\", \"storeA017\", \"storeA012\", \"storeA016\", \"storeA015\", \"storeA008\", \"storeA001\", \"storeA003\", \"storeA022\", \"storeA004\", \"storeA005\", \"storeA023\", \"storeA019\", \"storeA013\", \"storeA023\", \"storeA009\", \"storeA008\", \"storeA002\", \"storeA012\", \"storeA014\", \"storeA014\", \"storeA024\", \"storeA008\", \"storeA016\", \"storeA002\", \"storeA018\", \"storeA016\", \"storeA019\", \"storeA006\", \"storeA001\", \"storeA028\", \"storeA015\", \"storeA021\", \"storeA018\", \"storeA024\", \"storeA023\", \"storeA025\", \"storeA015\", \"storeA022\", \"storeA015\", \"storeA025\", \"storeA022\", \"storeA018\", \"storeA014\", \"storeA022\", \"storeA005\", \"storeA021\", \"storeA007\", \"storeA010\", \"storeA011\", \"storeA022\", \"storeA007\", \"storeA016\", \"storeA022\", \"storeA001\", \"storeA001\", \"storeA002\", \"storeA013\", \"storeA003\", \"storeA020\", \"storeA024\", \"storeA008\", \"storeA004\", \"storeA012\", \"storeA022\", \"storeA015\", \"storeA026\", \"storeA026\", \"storeA017\", \"storeA016\", \"storeA011\", \"storeA025\", \"storeA011\", \"storeA028\", \"storeA012\", \"storeA009\", \"storeA006\", \"storeA010\", \"storeA026\", \"storeA010\", \"storeA028\", \"storeA012\", \"storeA018\", \"storeA011\", \"storeA012\", \"storeA020\", \"storeA005\", \"storeA012\", \"storeA027\", \"storeA017\", \"storeA023\", \"storeA001\", \"storeA024\", \"storeA027\", \"storeA002\", \"storeA009\", \"storeA012\", \"storeA016\", \"storeA015\", \"storeA027\", \"storeA021\", \"storeA002\", \"storeA022\", \"storeA003\", \"storeA009\", \"storeA018\", \"storeA008\", \"storeA028\", \"storeA015\", \"storeA013\", \"storeA001\", \"storeA007\", \"storeA024\", \"storeA014\", \"storeA005\", \"storeA012\", \"storeA008\", \"storeA012\", \"storeA003\", \"storeA011\", \"storeA002\", \"storeA006\", \"storeA018\", \"storeA010\", \"storeA012\", \"storeA022\", \"storeA022\", \"storeA012\", \"storeA004\", \"storeA016\", \"storeA021\", \"storeA028\", \"storeA018\", \"storeA012\", \"storeA010\", \"storeA001\", \"storeA010\", \"storeA003\", \"storeA027\", \"storeA020\", \"storeA020\", \"storeA017\", \"storeA009\", \"storeA017\", \"storeA003\", \"storeA023\", \"storeA024\", \"storeA009\", \"storeA005\", \"storeA023\", \"storeA009\", \"storeA006\", \"storeA011\", \"storeA015\", \"storeA001\", \"storeA004\", \"storeA012\", \"storeA022\", \"storeA024\", \"storeA027\", \"storeA007\", \"storeA014\", \"storeA022\", \"storeA012\", \"storeA020\", \"storeA017\", \"storeA015\", \"storeA003\", \"storeA003\", \"storeA027\", \"storeA012\", \"storeA018\", \"storeA015\", \"storeA014\", \"storeA004\", \"storeA011\", \"storeA028\", \"storeA021\", \"storeA008\", \"storeA028\", \"storeA028\", \"storeA008\", \"storeA011\", \"storeA024\", \"storeA014\", \"storeA010\", \"storeA001\", \"storeA022\", \"storeA010\", \"storeA016\", \"storeA015\", \"storeA015\", \"storeA005\", \"storeA008\", \"storeA003\", \"storeA019\", \"storeA024\", \"storeA022\", \"storeA024\", \"storeA023\", \"storeA004\", \"storeA002\", \"storeA027\", \"storeA023\", \"storeA022\", \"storeA025\", \"storeA023\", \"storeA026\", \"storeA008\", \"storeA010\", \"storeA015\", \"storeA013\", \"storeA007\", \"storeA022\", \"storeA023\", \"storeA003\", \"storeA003\", \"storeA022\", \"storeA024\", \"storeA009\", \"storeA002\", \"storeA010\", \"storeA028\", \"storeA027\", \"storeA027\", \"storeA025\", \"storeA005\", \"storeA013\", \"storeA019\", \"storeA024\", \"storeA020\", \"storeA027\", \"storeA016\", \"storeA019\", \"storeA027\", \"storeA015\", \"storeA027\", \"storeA012\", \"storeA005\", \"storeA007\", \"storeA004\", \"storeA009\", \"storeA004\", \"storeA012\", \"storeA006\", \"storeA014\", \"storeA026\", \"storeA005\", \"storeA009\", \"storeA019\", \"storeA012\", \"storeA028\", \"storeA024\", \"storeA028\", \"storeA003\", \"storeA006\", \"storeA023\", \"storeA022\", \"storeA003\", \"storeA021\", \"storeA017\", \"storeA011\", \"storeA005\", \"storeA005\", \"storeA005\", \"storeA018\", \"storeA014\", \"storeA010\", \"storeA018\", \"storeA015\", \"storeA002\", \"storeA024\", \"storeA010\", \"storeA023\", \"storeA021\", \"storeA007\", \"storeA021\", \"storeA001\", \"storeA010\", \"storeA020\", \"storeA024\", \"storeA025\", \"storeA014\", \"storeA006\", \"storeA017\", \"storeA006\", \"storeA005\", \"storeA026\", \"storeA003\", \"storeA009\", \"storeA025\", \"storeA012\", \"storeA025\", \"storeA015\", \"storeA026\", \"storeA021\", \"storeA023\", \"storeA025\", \"storeA024\", \"storeA016\", \"storeA003\", \"storeA009\", \"storeA024\", \"storeA017\", \"storeA024\", \"storeA005\", \"storeA004\", \"storeA023\", \"storeA016\", \"storeA014\", \"storeA013\", \"storeA026\", \"storeA028\", \"storeA023\", \"storeA007\", \"storeA023\", \"storeA019\", \"storeA010\", \"storeA013\", \"storeA022\", \"storeA010\", \"storeA006\", \"storeA021\", \"storeA020\", \"storeA027\", \"storeA017\", \"storeA011\", \"storeA024\", \"storeA027\", \"storeA007\", \"storeA028\", \"storeA017\", \"storeA008\", \"storeA012\", \"storeA002\", \"storeA028\", \"storeA018\", \"storeA019\", \"storeA028\", \"storeA007\", \"storeA002\", \"storeA004\", \"storeA022\", \"storeA007\", \"storeA020\", \"storeA005\", \"storeA026\", \"storeA027\", \"storeA012\", \"storeA006\", \"storeA028\", \"storeA003\", \"storeA023\", \"storeA026\", \"storeA005\", \"storeA012\", \"storeA007\", \"storeA013\", \"storeA022\", \"storeA020\", \"storeA004\", \"storeA019\", \"storeA023\", \"storeA024\", \"storeA027\", \"storeA027\", \"storeA021\", \"storeA018\", \"storeA020\", \"storeA028\", \"storeA010\", \"storeA015\", \"storeA005\", \"storeA019\", \"storeA015\", \"storeA026\", \"storeA023\", \"storeA001\", \"storeA015\", \"storeA017\", \"storeA015\", \"storeA006\", \"storeA005\", \"storeA011\", \"storeA005\", \"storeA005\", \"storeA016\", \"storeA006\", \"storeA009\", \"storeA014\", \"storeA001\", \"storeA010\", \"storeA015\", \"storeA015\", \"storeA026\", \"storeA028\", \"storeA006\", \"storeA019\", \"storeA001\", \"storeA013\", \"storeA024\", \"storeA017\", \"storeA026\", \"storeA021\", \"storeA005\", \"storeA027\", \"storeA026\", \"storeA015\", \"storeA018\", \"storeA020\", \"storeA018\", \"storeA004\", \"storeA008\", \"storeA001\", \"storeA006\", \"storeA017\", \"storeA013\", \"storeA027\", \"storeA015\", \"storeA014\", \"storeA011\", \"storeA010\", \"storeA020\", \"storeA023\", \"storeA016\", \"storeA012\", \"storeA005\", \"storeA008\", \"storeA002\", \"storeA014\", \"storeA028\", \"storeA027\", \"storeA021\", \"storeA024\", \"storeA022\", \"storeA025\", \"storeA025\", \"storeA020\", \"storeA025\", \"storeA027\", \"storeA026\", \"storeA002\", \"storeA019\", \"storeA011\", \"storeA027\", \"storeA019\", \"storeA008\", \"storeA026\", \"storeA012\", \"storeA015\", \"storeA011\", \"storeA018\", \"storeA020\", \"storeA023\", \"storeA010\", \"storeA027\", \"storeA008\", \"storeA024\", \"storeA024\", \"storeA005\", \"storeA005\", \"storeA009\", \"storeA021\", \"storeA010\", \"storeA016\", \"storeA011\", \"storeA022\", \"storeA015\", \"storeA001\", \"storeA020\", \"storeA025\", \"storeA005\", \"storeA028\", \"storeA007\", \"storeA021\", \"storeA011\", \"storeA013\", \"storeA018\", \"storeA018\", \"storeA005\", \"storeA003\", \"storeA010\", \"storeA022\", \"storeA014\", \"storeA002\", \"storeA001\", \"storeA017\", \"storeA013\", \"storeA011\", \"storeA022\", \"storeA004\", \"storeA023\", \"storeA023\", \"storeA002\", \"storeA015\", \"storeA001\", \"storeA024\", \"storeA026\", \"storeA018\", \"storeA001\", \"storeA019\", \"storeA027\", \"storeA001\", \"storeA001\", \"storeA015\", \"storeA014\", \"storeA004\", \"storeA012\", \"storeA018\", \"storeA019\", \"storeA010\", \"storeA022\", \"storeA005\", \"storeA011\", \"storeA011\", \"storeA022\", \"storeA013\", \"storeA003\", \"storeA002\", \"storeA026\", \"storeA027\", \"storeA005\", \"storeA001\", \"storeA022\", \"storeA005\", \"storeA023\", \"storeA018\", \"storeA005\", \"storeA012\", \"storeA004\", \"storeA007\", \"storeA005\", \"storeA014\", \"storeA017\", \"storeA009\", \"storeA021\", \"storeA015\", \"storeA022\", \"storeA001\", \"storeA019\", \"storeA015\", \"storeA014\", \"storeA004\", \"storeA022\", \"storeA004\", \"storeA028\", \"storeA009\", \"storeA010\", \"storeA027\", \"storeA026\", \"storeA028\", \"storeA012\", \"storeA008\", \"storeA025\", \"storeA005\", \"storeA010\", \"storeA023\", \"storeA009\", \"storeA017\", \"storeA006\", \"storeA005\", \"storeA013\", \"storeA002\", \"storeA025\", \"storeA018\", \"storeA019\", \"storeA028\", \"storeA010\", \"storeA012\", \"storeA024\", \"storeA008\", \"storeA011\", \"storeA003\", \"storeA009\", \"storeA024\", \"storeA006\", \"storeA004\", \"storeA017\", \"storeA007\", \"storeA014\", \"storeA024\", \"storeA013\", \"storeA006\", \"storeA024\", \"storeA028\", \"storeA019\", \"storeA011\", \"storeA006\", \"storeA018\", \"storeA014\", \"storeA018\", \"storeA024\", \"storeA001\", \"storeA003\", \"storeA015\", \"storeA028\", \"storeA027\", \"storeA027\", \"storeA026\", \"storeA010\", \"storeA014\", \"storeA009\", \"storeA020\", \"storeA003\", \"storeA012\", \"storeA009\", \"storeA005\", \"storeA020\", \"storeA014\", \"storeA005\", \"storeA005\", \"storeA008\", \"storeA024\", \"storeA025\", \"storeA008\", \"storeA021\", \"storeA007\", \"storeA025\", \"storeA005\", \"storeA016\", \"storeA017\", \"storeA024\", \"storeA015\", \"storeA004\", \"storeA014\", \"storeA013\", \"storeA020\", \"storeA022\", \"storeA006\", \"storeA008\", \"storeA020\", \"storeA021\", \"storeA010\", \"storeA002\", \"storeA016\", \"storeA002\", \"storeA027\", \"storeA011\", \"storeA024\", \"storeA019\", \"storeA027\", \"storeA009\", \"storeA006\", \"storeA024\", \"storeA009\", \"storeA022\", \"storeA004\", \"storeA003\", \"storeA014\", \"storeA015\", \"storeA013\", \"storeA011\", \"storeA026\", \"storeA003\", \"storeA014\", \"storeA011\", \"storeA002\", \"storeA007\", \"storeA024\", \"storeA022\", \"storeA022\", \"storeA026\", \"storeA021\", \"storeA012\", \"storeA004\", \"storeA004\", \"storeA004\", \"storeA028\", \"storeA012\", \"storeA019\", \"storeA020\", \"storeA021\", \"storeA023\", \"storeA015\", \"storeA027\", \"storeA008\", \"storeA028\", \"storeA010\", \"storeA005\", \"storeA016\", \"storeA020\", \"storeA013\", \"storeA003\", \"storeA021\", \"storeA015\", \"storeA013\", \"storeA009\", \"storeA001\", \"storeA015\", \"storeA003\", \"storeA003\", \"storeA005\", \"storeA019\", \"storeA024\", \"storeA010\", \"storeA015\", \"storeA017\", \"storeA008\", \"storeA001\", \"storeA017\", \"storeA007\", \"storeA020\", \"storeA027\", \"storeA023\", \"storeA026\", \"storeA005\", \"storeA028\", \"storeA012\", \"storeA012\", \"storeA018\", \"storeA009\", \"storeA012\", \"storeA014\", \"storeA028\", \"storeA013\", \"storeA001\", \"storeA004\", \"storeA016\", \"storeA002\", \"storeA008\", \"storeA001\", \"storeA019\", \"storeA005\", \"storeA001\", \"storeA013\", \"storeA026\", \"storeA028\", \"storeA026\", \"storeA010\", \"storeA008\", \"storeA022\", \"storeA003\", \"storeA015\", \"storeA012\", \"storeA011\", \"storeA015\", \"storeA013\", \"storeA010\", \"storeA016\", \"storeA022\", \"storeA009\", \"storeA020\", \"storeA022\", \"storeA004\", \"storeA011\", \"storeA021\", \"storeA019\", \"storeA026\", \"storeA004\", \"storeA012\", \"storeA020\", \"storeA009\", \"storeA001\", \"storeA015\", \"storeA010\", \"storeA014\", \"storeA028\", \"storeA011\", \"storeA001\", \"storeA020\", \"storeA020\", \"storeA024\", \"storeA021\", \"storeA024\", \"storeA006\", \"storeA009\", \"storeA009\", \"storeA027\", \"storeA001\", \"storeA018\", \"storeA009\", \"storeA018\", \"storeA001\", \"storeA026\", \"storeA008\", \"storeA001\", \"storeA014\", \"storeA028\", \"storeA013\", \"storeA003\", \"storeA019\", \"storeA026\", \"storeA027\", \"storeA010\", \"storeA012\", \"storeA010\", \"storeA011\", \"storeA002\", \"storeA011\", \"storeA007\", \"storeA003\", \"storeA009\", \"storeA003\", \"storeA003\", \"storeA021\", \"storeA009\", \"storeA004\", \"storeA020\", \"storeA014\", \"storeA017\", \"storeA008\", \"storeA026\", \"storeA005\", \"storeA026\", \"storeA001\", \"storeA007\", \"storeA001\", \"storeA013\", \"storeA007\", \"storeA004\", \"storeA022\", \"storeA018\", \"storeA003\", \"storeA025\", \"storeA023\", \"storeA019\", \"storeA028\", \"storeA026\", \"storeA017\", \"storeA023\", \"storeA018\", \"storeA013\", \"storeA022\", \"storeA019\", \"storeA006\", \"storeA013\", \"storeA021\", \"storeA018\", \"storeA009\", \"storeA005\", \"storeA012\", \"storeA027\", \"storeA019\", \"storeA001\", \"storeA001\", \"storeA009\", \"storeA013\", \"storeA003\", \"storeA002\", \"storeA001\", \"storeA006\", \"storeA025\", \"storeA015\", \"storeA012\", \"storeA001\", \"storeA027\", \"storeA014\", \"storeA021\", \"storeA018\", \"storeA008\", \"storeA023\", \"storeA023\", \"storeA024\", \"storeA006\", \"storeA020\", \"storeA024\", \"storeA005\", \"storeA016\", \"storeA020\", \"storeA005\", \"storeA028\", \"storeA006\", \"storeA021\", \"storeA003\", \"storeA026\", \"storeA004\", \"storeA024\", \"storeA021\", \"storeA025\", \"storeA006\", \"storeA007\", \"storeA009\", \"storeA025\", \"storeA023\", \"storeA021\", \"storeA011\", \"storeA023\", \"storeA028\", \"storeA018\", \"storeA010\", \"storeA027\", \"storeA020\", \"storeA019\", \"storeA017\", \"storeA007\", \"storeA009\", \"storeA005\", \"storeA013\", \"storeA008\", \"storeA006\", \"storeA014\", \"storeA003\", \"storeA024\", \"storeA017\", \"storeA024\", \"storeA016\", \"storeA008\", \"storeA014\", \"storeA026\", \"storeA020\", \"storeA027\", \"storeA025\", \"storeA018\", \"storeA011\", \"storeA021\", \"storeA001\", \"storeA013\", \"storeA005\", \"storeA002\", \"storeA008\", \"storeA027\", \"storeA022\", \"storeA003\", \"storeA006\", \"storeA016\", \"storeA017\", \"storeA006\", \"storeA020\", \"storeA009\", \"storeA018\", \"storeA028\", \"storeA001\", \"storeA001\", \"storeA025\", \"storeA002\", \"storeA016\", \"storeA006\", \"storeA025\", \"storeA012\", \"storeA009\", \"storeA021\", \"storeA003\", \"storeA025\", \"storeA012\", \"storeA019\", \"storeA016\", \"storeA012\", \"storeA015\", \"storeA017\", \"storeA012\", \"storeA023\", \"storeA001\", \"storeA016\", \"storeA018\", \"storeA018\", \"storeA016\", \"storeA012\", \"storeA023\", \"storeA002\", \"storeA016\", \"storeA009\", \"storeA024\", \"storeA019\", \"storeA019\", \"storeA026\", \"storeA019\", \"storeA002\", \"storeA011\", \"storeA009\", \"storeA013\", \"storeA008\", \"storeA026\", \"storeA010\", \"storeA007\", \"storeA028\", \"storeA014\", \"storeA019\", \"storeA003\", \"storeA018\", \"storeA025\", \"storeA022\", \"storeA013\", \"storeA011\", \"storeA019\", \"storeA028\", \"storeA016\", \"storeA021\", \"storeA027\", \"storeA003\", \"storeA011\", \"storeA011\", \"storeA014\", \"storeA014\", \"storeA012\", \"storeA012\", \"storeA013\", \"storeA011\", \"storeA005\", \"storeA010\", \"storeA019\", \"storeA017\", \"storeA018\", \"storeA005\", \"storeA008\", \"storeA018\", \"storeA017\", \"storeA024\", \"storeA012\", \"storeA027\", \"storeA012\", \"storeA001\", \"storeA012\", \"storeA007\", \"storeA016\", \"storeA017\", \"storeA011\", \"storeA023\", \"storeA025\", \"storeA021\", \"storeA008\", \"storeA005\", \"storeA026\", \"storeA001\", \"storeA002\", \"storeA025\", \"storeA023\", \"storeA023\", \"storeA008\", \"storeA028\", \"storeA002\", \"storeA025\", \"storeA019\", \"storeA028\", \"storeA006\", \"storeA019\", \"storeA004\", \"storeA014\", \"storeA002\", \"storeA013\", \"storeA010\", \"storeA017\", \"storeA010\", \"storeA026\", \"storeA027\", \"storeA018\", \"storeA001\", \"storeA021\", \"storeA006\", \"storeA012\", \"storeA025\", \"storeA007\", \"storeA018\", \"storeA028\", \"storeA001\", \"storeA008\", \"storeA003\", \"storeA020\", \"storeA003\", \"storeA010\", \"storeA024\", \"storeA024\", \"storeA021\", \"storeA001\", \"storeA002\", \"storeA002\", \"storeA011\", \"storeA028\", \"storeA027\", \"storeA011\", \"storeA005\", \"storeA003\", \"storeA015\", \"storeA019\", \"storeA001\"], \"y\": [2654182.08, 12909176.52, 15684421.68, 37251808.24, 4774574.3, 2904426.6300000004, 3496307.94, 17555079.84, 490201.52, 17898205.26, 19131098.94, 64231452.599999994, 30491101.01, 5401794.9, 9621104.1, 32370512.24, 55926619.38, 46263314.160000004, 44313670.2, 14662452.2, 88852268.04, 13466714.7, 26016533.52, 18596611.32, 35637794.22, 23420368.07, 73940096.34, 4706152.16, 15511242.78, 18980736.47, 18083254.86, 40002911.28, 35504375.94, 3486381.0300000003, 19970510.12, 57196080.199999996, 9862739.549999999, 21055137.61, 2481682.88, 62680607.55, 22019213.04, 57576805.02, 39928162.68, 6675816.489999999, 8308350.0, 48796068.8, 7241606.800000001, 4040118.69, 13466050.5, 8227903.5600000005, 50307252.21, 2657031.13, 14053586.8, 12529097.76, 30185073.87, 56531323.56, 26432039.900000002, 29632732.78, 9773624.12, 61344425.599999994, 46153109.76, 10369535.61, 31235102.340000004, 1550633.7000000002, 47775794.31, 12627591.66, 16257116.790000001, 18977445.76, 2045684.54, 21429753.44, 23241628.67, 622041.51, 9899683.9, 7471892.7, 88064718.3, 45731431.52, 17160957.8, 1963041.75, 18529371.990000002, 2135649.62, 24088771.84, 79659398.2, 47893585.95, 57990998.4, 13659106.14, 8944831.709999999, 23354593.200000003, 7757544.720000001, 38927116.4, 9239597.1, 16289871.989999998, 16588288.68, 14661688.5, 21757266.099999998, 30163739.22, 3361038.21, 4336642.62, 41902076.85, 10628414.459999999, 28472608.580000002, 21876805.439999998, 14185632.9, 24041952.72, 16319723.76, 23937456.73, 16235883.2, 35090944.379999995, 22896784.15, 81637705.46, 4562281.25, 4529282.16, 1377709.08, 20727555.15, 21917824.700000003, 17057466.12, 18586253.95, 4717259.5200000005, 5582885.2, 9275032.22, 3922988.8, 22860697.15, 35719150.56, 49620066.21, 20089127.66, 71288797.32000001, 4679026.74, 3810141.79, 26642788.48, 65416960.0, 52221280.32, 19185256.35, 8566736.6, 4542841.23, 32101395.3, 6231076.71, 8074271.76, 20799816.9, 42171370.38, 3983269.29, 57281764.05, 437448.0, 26084323.86, 29381299.419999998, 40598788.51, 16868883.96, 41540788.85, 1822834.23, 41550569.0, 6402737.0, 56770009.44, 29332515.810000002, 53063062.35, 17947253.48, 3280477.62, 8517101.84, 58843548.36, 1797398.1, 39777345.76, 3365221.9299999997, 18218838.33, 3304093.08, 5649520.84, 27071300.7, 23131083.66, 14261763.24, 42641225.099999994, 3289852.6, 4371927.84, 14431726.049999999, 4130800.08, 20205563.86, 31140646.24, 1742241.16, 53178942.199999996, 42621901.81, 9059086.76, 63503315.550000004, 16120220.56, 1983997.6199999999, 32315053.650000002, 28900740.61, 33414614.38, 18060735.06, 35876161.89, 1115455.92, 25956780.3, 8823897.94, 6627694.199999999, 8030706.16, 78242309.08999999, 21946598.38, 16282920.849999998, 75244398.24, 26378342.52, 41308763.93, 4020414.76, 2336803.17, 47929253.4, 5485165.4, 52880801.4, 4349053.72, 18766126.62, 10240194.36, 35701117.28, 8473697.07, 23511316.0, 23246518.48, 8164756.68, 36396590.16, 9449113.96, 3408005.02, 18065093.44, 38293941.15, 32660861.3, 6097392.64, 1186902.49, 8363396.550000001, 55062182.14, 18049437.0, 25015654.86, 47009380.8, 63734637.44, 73309459.0, 4386486.03, 2509372.16, 54982909.19, 5966484.22, 24904395.299999997, 2144418.75, 1411780.05, 42557143.04, 25319792.07, 26492094.24, 18507521.8, 60402021.95999999, 73801553.25, 42340278.839999996, 7989237.739999999, 17078239.1, 2442803.0, 66288289.27, 14542345.600000001, 10502149.8, 71093739.45, 34222729.08, 8284831.02, 13313304.68, 45820025.699999996, 4205061.54, 12682823.229999999, 35618863.5, 44920028.4, 45124921.6, 11141622.8, 5197799.699999999, 10228890.72, 2427559.5300000003, 2369034.09, 92572309.58000001, 13687710.600000001, 48604584.0, 24353991.95, 3827477.58, 4890271.26, 1339368.63, 37512178.1, 10143371.56, 11267123.84, 20541592.47, 807164.52, 53629701.36, 1963465.4000000001, 22573174.959999997, 22992479.2, 19305398.71, 3185208.64, 35382904.199999996, 27989777.92, 9983710.620000001, 52330199.94, 34932631.03, 36555181.6, 3789050.7, 42415074.800000004, 36243779.74, 11121955.68, 462249.13, 32871014.52, 20871196.919999998, 11389604.040000001, 6944089.949999999, 71987025.6, 14086500.72, 60705983.379999995, 45772921.1, 42576179.36, 6392203.6, 45234927.199999996, 4698172.3, 32848635.400000002, 8871741.0, 23300783.939999998, 58671007.74, 11692991.49, 41843603.75, 11956537.04, 31211916.400000002, 24190400.849999998, 17837524.2, 7776089.88, 3178568.6100000003, 60566279.67, 43937035.12, 37401047.5, 23301409.200000003, 46192341.8, 76668763.93, 6482872.77, 11346435.42, 48476341.5, 32190126.450000003, 8059202.25, 40137065.54, 16611509.940000001, 44881260.269999996, 18268229.16, 5421782.43, 32942518.2, 1267062.92, 75849524.10000001, 28936740.82, 22670859.06, 1950567.5, 8244287.62, 3985938.23, 49924425.28, 36991758.870000005, 1656806.78, 35899177.05, 40018565.31999999, 23239817.77, 55464453.0, 46057745.47, 20925167.2, 12135221.89, 47545125.28, 28551254.4, 3540008.49, 61186980.55, 28225684.630000003, 84646104.0, 12841191.9, 43515068.0, 8850114.24, 1530171.24, 38412317.1, 75952116.54, 91386100.63, 34874694.6, 13683498.96, 13879655.600000001, 418784.33999999997, 4831531.07, 5390394.68, 26029446.0, 28531305.0, 30856049.4, 38381896.01, 4272763.739999999, 75952620.6, 9045699.959999999, 764132.99, 6382992.1, 16417670.92, 8157049.68, 29044574.099999998, 40326784.16, 56541677.0, 7710981.74, 18934641.55, 79889594.30000001, 13568591.52, 3031957.16, 39851391.4, 4551557.199999999, 63765956.43000001, 46075043.68, 96728801.8, 71498625.12, 74224123.35, 28850093.0, 42930420.120000005, 1789535.59, 5891482.1, 8744531.100000001, 14502709.95, 52316206.800000004, 62994307.53, 91926478.4, 51964137.400000006, 76270121.92, 32865419.880000003, 17811236.25, 38973607.84, 33840128.61, 19751490.049999997, 29532931.35, 33427408.0, 46111938.4, 1502053.48, 40596131.07000001, 47896270.370000005, 16647660.6, 10987341.54, 2395128.66, 37486886.0, 64348702.199999996, 11262379.44, 14801716.620000001, 19214683.32, 14421020.64, 4219548.06, 63594742.39999999, 40390835.4, 9036984.06, 37250861.160000004, 87166897.16999999, 45706654.44, 27773191.29, 34929921.9, 58830924.879999995, 32402410.95, 3840069.1, 1001183.3699999999, 60909716.83, 67151301.12, 34962233.5, 845117.06, 61040211.54000001, 25417830.330000002, 22710698.4, 99025781.0, 9290942.46, 16768345.649999999, 6838848.899999999, 7185206.82, 33518496.11, 21125822.599999998, 9080405.549999999, 23587022.4, 23421210.189999998, 13954218.24, 3322414.07, 15464571.780000001, 58994096.8, 6883545.06, 75896263.8, 40138982.03, 23583639.48, 9974471.64, 44405572.53, 59214189.019999996, 35397604.660000004, 5855828.04, 75469103.52, 77936699.34, 52078815.599999994, 38340076.08, 11357679.870000001, 12236491.84, 4837686.69, 19446702.73, 49937614.0, 14993216.76, 56981941.50999999, 39203282.17, 11282064.28, 3007478.35, 83112206.6, 7961985.29, 17367089.84, 34373923.57, 69551519.52, 51421004.32, 8409074.56, 22895548.26, 14440172.94, 26078547.44, 3327157.52, 407992.08, 23130039.84, 21708923.400000002, 26768394.56, 43239282.15, 42063650.88, 46246418.7, 488439.24, 20449378.040000003, 19649230.56, 11518169.16, 23063416.200000003, 13440229.299999999, 6411159.57, 34274870.519999996, 36355354.16, 16838469.27, 34233779.19, 1489465.1, 37750671.480000004, 5659323.09, 24820183.78, 35012888.730000004, 50026326.870000005, 4228464.0, 5331298.68, 12325119.36, 9308862.959999999, 37592487.599999994, 56179322.24, 1792662.11, 8069312.55, 52907172.599999994, 34180708.32, 18085769.28, 45466352.1, 76045913.10000001, 1436842.92, 80385497.46, 7477130.87, 3676295.94, 1551271.1400000001, 33358060.08, 42202363.58, 51936550.74, 5177592.36, 62745069.529999994, 8055122.04, 37002361.68, 50679364.5, 72606575.16, 18436579.07, 47749476.879999995, 27928232.1, 3040513.07, 2091955.5, 73782064.0, 26919660.74, 3492261.75, 33416063.64, 5240446.14, 67856959.24000001, 9200138.36, 1731496.76, 7400257.290000001, 33706638.269999996, 12252064.96, 15712342.5, 30611933.160000004, 29765141.200000003, 8070067.52, 18820690.31, 31058369.76, 14084516.4, 4103356.81, 17921047.59, 60148414.2, 11072814.450000001, 18917840.11, 13947882.66, 37874946.230000004, 2170407.68, 28225547.5, 62961701.4, 28694508.08, 51897370.26, 42960209.46, 1068955.98, 14481381.84, 9806034.6, 1550220.27, 10120470.52, 75405730.91000001, 2955394.14, 9516952.969999999, 93557216.0, 60477208.48, 20221977.12, 46469242.300000004, 3110239.98, 34774876.510000005, 27902425.77, 14163125.040000001, 31504980.0, 48247372.8, 28520735.65, 27457466.82, 73867780.95, 554645.22, 19841924.25, 40541261.4, 26972596.05, 12103109.7, 3726825.92, 2974520.25, 51492837.06, 82016838.30000001, 54174189.849999994, 22011853.900000002, 32145333.4, 969627.1799999999, 3330049.58, 6261313.52, 8024032.32, 56110856.43000001, 1520232.16, 5876972.459999999, 35653282.4, 9264092.44, 6657954.489999999, 52471354.56, 17838723.15, 21841560.2, 30751843.95, 8646889.92, 1775673.14, 8346804.36, 47665559.92, 21702091.080000002, 16410793.799999999, 8776387.76, 67755508.8, 72307986.69, 6818739.760000001, 76221497.8, 15954473.989999998, 13633305.84, 4241100.45, 4256559.51, 3593314.79, 78500622.78, 62351630.830000006, 4808330.76, 91162604.96, 64948139.23, 21895158.74, 58940297.519999996, 33604992.19, 13992955.2, 10396035.51, 26246907.0, 1539285.52, 36644340.48, 27056269.66, 33543844.110000003, 77526367.04, 31720495.2, 73042026.61, 4046323.06, 4126848.0, 19905735.57, 28714805.759999998, 50794453.0, 68148821.33, 25879035.6, 1363957.15, 94828013.89999999, 39201005.44, 9156862.0, 11929585.08, 38165583.2, 528842.36, 9204289.5, 7090274.8, 8064212.550000001, 36720426.21, 10529409.55, 9600599.44, 16139044.15, 9452686.53, 18179255.3, 30375334.990000002, 28557249.660000004, 9925385.97, 4363969.5, 14926272.51, 85820073.66, 10674782.03, 22737007.5, 363170.08, 7143176.279999999, 46234116.169999994, 1973958.6, 21625941.299999997, 52072881.12, 38426718.74, 49064077.08, 64798341.839999996, 5458951.29, 9103477.04, 79448395.88, 73622704.86, 62248112.1, 41225035.17, 17833271.849999998, 4431373.58, 41041751.699999996, 16867397.44, 28864718.2, 15989162.8, 67976946.17999999, 29094162.56, 32939594.64, 8079712.0200000005, 4189375.8000000003, 11543317.31, 11692111.969999999, 24259460.759999998, 26609692.2, 4390175.92, 76276824.85, 8422394.25, 18133226.08, 22083682.040000003, 6169704.0600000005, 52239061.05, 4653079.2, 44031167.83, 39701323.1, 40176886.72, 37901054.72, 39147494.56, 6023656.89, 29119513.78, 12688765.169999998, 72890540.6, 11334742.2, 974188.3200000001, 7583513.94, 4686736.62, 37590944.580000006, 43004366.73, 59766524.300000004, 72435370.89, 7673427.36, 41102589.61, 4600340.55, 11553476.76, 2753712.15, 22003501.17, 16797856.56, 17047699.240000002, 22695136.939999998, 10262597.73, 96153694.2, 21671292.72, 834206.72, 15866210.52, 37564459.8, 1201834.04, 37383553.650000006, 59425633.5, 27106627.24, 5288858.55, 25947243.85, 14272393.919999998, 38124239.67, 19546211.88, 10505307.36, 14364247.32, 39560409.76, 30192078.799999997, 6798359.9, 16221192.350000001, 57540662.9, 72920969.6, 34040929.580000006, 71294482.08, 16708373.780000001, 3484816.48, 5877357.399999999, 1562225.74, 18695359.86, 12443926.56, 2252266.66, 37737789.46, 7417291.92, 34402367.93, 4750782.66, 24414679.26, 10214637.68, 33557177.699999996, 4004189.0, 5394081.98, 27887647.26, 34093290.0, 44325041.64, 5736207.78, 31787566.509999998, 20876441.41, 49227285.9, 15033977.88, 15225738.430000002, 9417800.32, 1525459.77, 10568658.43, 12291513.48, 43956759.55, 724154.12, 54712815.47, 51210416.52, 14601167.01, 19458322.48, 43905506.22, 40471585.0, 11264823.48, 1920678.58, 9815992.64, 2317721.53, 48947543.7, 51687066.86, 20716738.98, 25440523.599999998, 23517267.75, 71360103.60000001, 12981803.88, 11463589.68, 4805211.0, 25605314.37, 56690978.72, 67626594.83999999, 16093121.8, 94162361.6, 26490432.64, 2337169.55, 30068268.24, 10597247.52, 25794720.45, 42206834.76, 7575483.19, 9310245.2, 26220406.88, 47261774.800000004, 12467665.92, 2718744.32, 37151409.24, 24080189.42, 8674489.2, 63137931.3, 26811697.33, 32569902.400000002, 43656709.64, 3979440.09, 38179890.72, 943202.01, 50934587.08, 72255242.4, 14044916.52, 24640908.0, 3364717.58, 4941987.9, 5451669.09, 6496132.18, 5988895.02, 35047085.400000006, 8949495.1, 341839.0, 61372148.4, 78770359.98, 29565556.35, 6325350.63, 67544775.04, 2592292.44, 3874254.24, 31548476.68, 2042814.6199999999, 7576560.48, 44434306.92, 28736358.48, 34543632.42, 41220950.43, 20662855.02, 31971902.04, 6438714.3, 7206329.34, 21273522.3, 30180200.72, 41602680.46, 539821.34, 2592502.8, 20086565.919999998, 40178713.67999999, 1995812.85, 927806.26, 4225205.31, 53824408.4, 2059526.64, 4805838.8100000005, 14968866.0, 41422728.87, 2300759.44, 18585441.299999997, 31196151.7, 28357614.900000002, 1531932.5, 11523113.600000001, 14631046.5, 4119171.04, 28604830.0, 1547234.2999999998, 4545481.64, 20594655.509999998, 27392319.63, 58182037.29, 18296813.16, 58878739.779999994, 37111557.51, 69779496.42, 29870232.93, 2643191.68, 31918816.37, 48392063.28, 54041531.050000004, 4774973.83, 7306882.3, 51529589.28, 79895179.55, 28542452.400000002, 3196166.78, 20458289.900000002, 789826.09, 2631788.43, 40233109.730000004, 4151514.09, 71022122.81, 20223333.13, 2272076.88, 20726961.53, 5400940.98, 58373235.36, 37870595.2, 3560666.88, 28880777.379999995, 2898400.73, 24277615.62, 16723424.0, 20517480.900000002, 1768986.34, 3020729.31, 1798846.5, 1475572.9500000002, 26307311.87, 14487161.25, 47331630.5, 1581865.46, 8910130.59, 43246970.550000004, 8935140.600000001, 14404330.88, 12271852.549999999, 4245162.2, 62244438.620000005, 11140968.299999999, 878369.76, 7885889.15, 15523952.450000001, 2642805.82, 8235181.5600000005, 29228038.4, 43530226.2, 7481959.649999999, 32823861.48, 6864712.91, 59791588.419999994, 85950957.60000001, 23441509.8, 21607907.7, 9821481.68, 17210507.58, 1978135.62, 24942980.66, 99586390.19999999, 1939933.71, 4659014.88, 56366221.18000001, 43607187.91, 28882960.38, 3394171.6199999996, 2711488.53, 942188.22, 18035883.67, 18041707.75, 27587068.43, 4384799.02, 54421866.239999995, 17228353.3, 2267039.6, 15725780.91, 13130028.24, 3503024.18, 49525324.400000006, 12464797.649999999, 675726.96, 16728734.2, 2354843.91, 30081914.6, 25909639.84, 22126750.66, 47983583.1, 16162934.08, 46887333.48, 55313892.92, 12516713.100000001, 22161500.64, 19784360.64, 18791836.91, 32347184.74, 6941060.07, 26248075.32, 15383050.47, 34177673.74, 7600195.899999999, 5643466.56, 23902569.54, 9869271.36, 96955671.6, 16680841.02, 13984386.0, 30494532.599999998, 52246942.33, 6839567.86, 90730707.98, 27367695.72, 13950672.6, 30813261.21, 45308392.0, 42502990.2, 50534205.199999996, 16295992.0, 10386057.84, 2971229.3800000004, 11179503.78, 17137655.82, 13557097.620000001, 38125783.3, 9862794.040000001, 20958734.52, 8205473.4, 38331331.400000006, 23713547.84, 6358821.5, 2922210.06, 31347903.92, 65332840.4, 36684811.64, 58202781.28, 18143083.6, 11123771.2, 11087657.57, 22435833.6, 5913805.05, 69271243.67, 13650948.45, 1602228.08, 31145235.839999996, 7949758.16, 3046009.6, 11346181.6, 33866392.14, 11291124.18, 6550145.68, 55753609.08, 24869819.8, 14666044.96, 7442011.78, 12735068.61, 52968241.0, 23712011.200000003, 51147223.6, 4249950.03, 18655057.82, 34824432.34, 79544643.22, 21658791.099999998, 65382737.25000001, 31920749.85, 81145755.54, 5769793.399999999, 31870268.849999998, 62621577.33, 3614520.28, 46471054.32, 3913808.15, 71189694.53, 15714649.6, 2655572.28, 22891382.56, 43822213.8, 50894235.36, 91960539.22, 31418190.020000003, 25738184.92, 21605148.18, 2556302.0, 48985322.519999996, 17410788.78, 12269238.59, 483031.36, 40766235.39, 13814583.39, 4991592.46, 8930715.299999999, 41083119.989999995, 16782203.04, 15604903.92, 46257703.12, 1637580.59, 14315161.89, 27763510.98, 51372247.12, 5503350.66, 12536913.149999999, 7435360.88, 3941012.88, 6375048.75, 20330006.200000003, 8126493.84, 20229473.6, 64190385.72, 16771555.989999998, 29387163.119999997, 4370821.91, 73893267.43, 33298892.62, 16757691.950000001, 51743806.2, 33571896.45, 21313586.14, 18704076.439999998, 40882399.18000001, 43021393.38, 21214414.349999998, 10679371.28, 39930474.08, 61560135.75, 47442971.29, 78299487.35, 4885488.05, 4760067.91, 65178995.0, 13489988.04, 81897986.16, 40852323.84, 25174410.24, 62347863.5, 31962993.81, 3984960.68, 14128586.810000002, 2246698.88, 40990593.199999996, 68300519.25, 71491953.03, 20815076.759999998, 10140770.5, 54887845.67999999, 21997541.7, 40787047.35, 10997404.6, 10793674.99, 5167076.88, 6070682.199999999, 28492408.080000002, 92404153.31, 67886608.86, 32394881.25, 38718664.8, 48389149.69, 30286841.8, 75674461.0, 60985564.74, 24491132.400000002, 30989884.6, 41265077.04, 41834121.68, 7553199.6, 13000241.04, 5343751.949999999, 4948170.94, 66566553.839999996, 4089375.46, 17649737.16, 25041728.79, 74604503.39999999, 29835988.64, 2995781.4000000004, 54050025.599999994, 5304335.58, 9639414.92, 46282232.160000004, 98487941.4, 38202823.1, 7919599.590000001, 24845491.71, 61687668.120000005, 28710318.560000002, 20037473.2, 7687198.5, 54733852.32, 8975814.68, 47737580.77, 43391729.28, 33473216.52, 15345616.68, 2841501.5, 57353724.16, 27886943.880000003, 5989390.4, 54616294.08, 64318153.77, 2903369.61, 12239594.219999999, 20388972.419999998, 143248.87, 48071148.4, 63742942.339999996, 4557969.42, 47976687.199999996, 40218707.78, 13341238.080000002, 2691080.85, 5899008.0, 60861453.79000001, 38327958.36, 3043870.22, 39120153.6, 53145657.76, 24821248.540000003, 46058027.4, 1135005.6, 4377712.62, 29323306.32, 7960993.46, 40849540.6, 4216230.56, 58353141.419999994, 38525278.6, 11640703.0, 62541372.04000001, 30648695.160000004, 71692532.4, 72630374.4, 42879519.9, 17908137.68, 5927407.43, 6550213.899999999, 13477585.600000001, 55629841.6, 14238908.32, 15702060.56, 27506328.08, 7383586.0, 2168584.57, 3082639.83, 9447176.55, 46586011.86, 17532285.4, 23887022.95, 7970323.68, 861283.63, 7373962.78, 31002350.4, 81070354.26, 13363570.8, 31400215.0, 7952706.45, 28865001.54, 67258333.00999999, 64016558.56, 28533456.18, 39425007.78, 755462.1499999999, 2102266.01, 1865653.32, 32436803.88, 5424474.54, 21130415.88, 99922966.8, 49141585.4, 4261453.1, 48557277.9, 15590752.96, 78829040.6, 20209754.82, 17392651.75, 14132181.75, 13360274.36, 10279267.75, 30059338.290000003, 10341096.76, 7998724.02, 4197231.63, 73388307.04, 33036818.3, 42281646.26, 6329429.399999999, 30473483.18, 31143025.8, 14378945.580000002, 64920355.56, 10783774.2, 32717645.51, 38719985.28, 10372938.85, 5688653.23, 81025547.31, 26771055.2, 849071.04, 29414085.299999997, 13788239.88, 24991374.8, 18062447.12, 12219181.450000001, 6164097.31, 30526601.979999997, 81033263.52, 39085037.18, 24736335.4, 24602734.17, 69764408.60000001, 45978433.2, 5375690.88, 7883229.39, 49044076.51, 5069688.1, 9414002.0, 21946791.5, 4193589.46, 3324949.93, 21590901.54, 13580161.91, 23147940.53, 62178226.919999994, 6332187.44, 4869954.3, 63802306.26, 10278057.08, 16669391.34, 36223725.12, 12018522.75, 6248751.92, 34955870.32, 2415427.17, 85190120.82000001, 88840371.0, 35855599.67, 39232245.76, 3023615.74, 6639939.67, 3459922.62, 6512056.199999999, 22557432.099999998, 20530968.6, 69029293.56, 12042701.06, 2920924.54, 15642795.120000001, 28226976.18, 1420032.04, 81651762.11, 33852384.2, 4213466.07, 1615968.2000000002, 13904630.8, 57489149.120000005, 41241038.19, 10858348.88, 34727241.800000004, 10913354.34, 23297597.959999997, 26893174.56, 23011848.650000002, 24254184.37, 3062093.18, 35738881.89, 48454889.839999996, 20840815.2, 27149012.759999998, 28277611.400000002, 37225487.64, 387932.23, 25209716.04, 14603659.56, 67031721.60000001, 72758216.55, 12502591.99, 5924588.0, 5114526.27, 24907865.759999998, 19184183.4, 19427935.85, 56023769.28, 23536884.93, 5498681.2, 46850176.98, 39756870.81, 36001238.96, 60268940.699999996, 8093710.380000001, 21053688.459999997, 63714558.31, 43990979.1, 7250024.2, 14737197.76, 43511725.4, 4460276.3, 33913576.69, 7375712.04, 19636014.48, 2087509.05, 24835118.96, 700831.4, 19471020.419999998, 26769966.78, 30288806.56, 12365381.6, 58504865.4, 76739499.0, 56328333.089999996, 29448263.880000003, 22109718.75, 8415848.38, 8274007.04, 4448276.6, 21915543.240000002, 57655132.949999996, 19714734.44, 29179120.68, 28655400.6, 23935968.68, 28956040.8, 47780783.82000001, 44886222.15, 20696704.27, 46649557.65, 71015437.2, 5285328.9, 71754294.96, 39573383.519999996, 20416345.2, 956064.4500000001, 7809344.8, 3323562.35, 10887346.37, 8368600.48, 6989351.550000001, 7870173.64, 11552114.34, 1791934.92, 32115379.66, 40320513.4, 1774640.9, 6950077.9, 34025505.099999994, 14208198.8, 11226847.75, 36960217.92, 13956464.940000001, 11854454.479999999, 22213717.400000002, 43906561.4, 36877994.8, 1516607.63, 13630728.48, 2002793.52, 27832961.78, 32089851.36, 57901392.15, 3544944.42, 9055217.96, 749459.8500000001, 19512923.22, 26033655.4, 9506634.9, 81373158.35999998, 56646085.28, 1196622.44, 18564569.52, 24885543.15, 29290271.64, 19880314.64, 24793466.94, 1602920.37, 29269089.290000003, 3696952.3500000006, 8615406.47, 12734880.149999999, 34789674.900000006, 28050006.240000002, 35717514.25, 14354851.61, 13879622.170000002, 38355279.160000004, 53811559.49, 32740242.5, 69571634.62, 7280348.73, 18156214.58, 56586853.650000006, 12454723.2, 9714107.9, 12866470.14, 55707200.8, 73932188.58999999, 18881371.03, 41993375.199999996, 10098275.799999999, 37195645.620000005, 28173762.72, 39783129.28, 44682128.46, 6791726.7, 59507878.0, 2710224.06, 3853348.8600000003, 14517178.919999998, 18820093.55, 6096393.300000001, 17087070.6, 622378.48, 16031701.66, 42601965.66, 3926849.45, 17570589.76, 10016484.01, 2407349.83, 29534413.090000004, 60040501.04, 34686527.37, 3027315.0, 8997309.719999999, 50776267.620000005, 765920.75, 9212495.68, 42754959.300000004, 1553220.14, 37394995.95, 6561866.43, 11644704.850000001, 48849151.050000004, 42171363.68, 24200361.12, 6151153.96, 36323280.8, 27944945.5, 66576300.0, 4278703.4, 70546976.6, 4017388.98, 30658919.479999997, 21729917.04, 10093753.6, 13201893.149999999, 9437928.75, 1973746.75, 10881476.399999999, 95489073.4, 84561403.32000001, 71259077.4, 15675911.799999999, 39287613.15, 25095693.44, 77729125.67999999, 26562831.36, 52215329.18, 17013122.91, 59353081.0, 50387329.86, 35349427.599999994, 434746.03, 12960339.91, 35474911.4, 19061962.81, 33890586.32, 40791798.6, 1175351.6400000001, 36750949.68, 2640403.12, 1215836.79, 1102705.45, 32880562.24, 17879511.92, 40579756.6, 8926492.85, 13531914.8, 7662577.199999999, 52584539.84, 16494023.629999999, 10068357.35, 3160701.9000000004, 12482177.7, 34199105.04, 11544962.64, 1137422.3699999999, 11477351.5, 9299700.4, 43116818.48, 3360990.7800000003, 24633785.44, 38442098.79, 77501664.80000001, 21250831.47, 47201496.88, 9542772.0, 4919276.0, 12615200.729999999, 6408185.1, 21199302.56, 16750117.4, 15628905.450000001, 6441481.68, 68906724.8, 41619951.0, 895544.88, 9195083.18, 5066343.72, 46552010.4, 36133951.0, 38031771.3, 34796728.95, 11016542.9, 21415543.98, 22404657.349999998, 65781162.86, 5045779.55, 4234950.24, 6524790.68, 13701876.41, 11070114.48, 35509995.47, 53927497.78, 63605091.620000005, 73093091.2, 27165958.61, 7117759.98, 8785763.92, 23276972.88, 6205973.06, 1737583.8599999999, 64520720.16, 25857764.96, 333507.36, 8776927.72, 15063315.1, 74923229.92, 37442294.910000004, 23702156.099999998, 2275961.85, 29168320.259999998, 15979923.0, 5101980.4, 67867841.55, 1842819.89, 63062532.26, 8061408.84, 7079616.48, 42462642.88, 26348062.02, 60400361.88, 14853326.040000001, 86614352.85000001, 740277.87, 23081338.200000003, 42052732.300000004, 63792652.56, 52578714.11, 16864942.9, 29364921.299999997, 8041803.720000001, 5161824.74, 64644295.3, 34597495.32, 13418971.93, 64644522.60000001, 50165612.8, 18964207.7, 28375613.28, 48739265.76, 8059290.92, 3475651.08, 6899042.7, 31809280.32, 7876631.1, 2670784.08, 8765452.8, 67571075.52, 21175777.84, 36496218.7, 36082920.0, 8715667.08, 11507638.799999999, 16803757.6, 43275352.45, 4185934.1999999997, 26732385.810000002, 12781497.15, 6151200.899999999, 31562798.099999998, 68795102.53, 28546002.73, 14356646.37, 6696021.14, 19017343.26, 18602319.68, 70799525.92, 42826045.57, 8722228.08, 19283759.46, 58237328.57, 556703.64, 1183449.99, 20121383.59, 42565004.16, 4638390.1, 5557984.92, 6815321.14, 14852504.879999999, 2468997.33, 65485687.14, 5355690.2, 3466721.94, 33044318.599999998, 56615768.4, 1966499.25, 51819570.79, 40249955.42999999]}],\n",
              "                        {\"template\": {\"data\": {\"bar\": [{\"error_x\": {\"color\": \"#2a3f5f\"}, \"error_y\": {\"color\": \"#2a3f5f\"}, \"marker\": {\"line\": {\"color\": \"#E5ECF6\", \"width\": 0.5}}, \"type\": \"bar\"}], \"barpolar\": [{\"marker\": {\"line\": {\"color\": \"#E5ECF6\", \"width\": 0.5}}, \"type\": \"barpolar\"}], \"carpet\": [{\"aaxis\": {\"endlinecolor\": \"#2a3f5f\", \"gridcolor\": \"white\", \"linecolor\": \"white\", \"minorgridcolor\": \"white\", \"startlinecolor\": \"#2a3f5f\"}, \"baxis\": {\"endlinecolor\": \"#2a3f5f\", \"gridcolor\": \"white\", \"linecolor\": \"white\", \"minorgridcolor\": \"white\", \"startlinecolor\": \"#2a3f5f\"}, \"type\": \"carpet\"}], \"choropleth\": [{\"colorbar\": {\"outlinewidth\": 0, \"ticks\": \"\"}, \"type\": \"choropleth\"}], \"contour\": [{\"colorbar\": {\"outlinewidth\": 0, \"ticks\": \"\"}, \"colorscale\": [[0.0, \"#0d0887\"], [0.1111111111111111, \"#46039f\"], [0.2222222222222222, \"#7201a8\"], [0.3333333333333333, \"#9c179e\"], [0.4444444444444444, \"#bd3786\"], [0.5555555555555556, \"#d8576b\"], [0.6666666666666666, \"#ed7953\"], [0.7777777777777778, \"#fb9f3a\"], [0.8888888888888888, \"#fdca26\"], [1.0, \"#f0f921\"]], \"type\": \"contour\"}], \"contourcarpet\": [{\"colorbar\": {\"outlinewidth\": 0, \"ticks\": \"\"}, \"type\": \"contourcarpet\"}], \"heatmap\": [{\"colorbar\": {\"outlinewidth\": 0, \"ticks\": \"\"}, \"colorscale\": [[0.0, \"#0d0887\"], [0.1111111111111111, \"#46039f\"], [0.2222222222222222, \"#7201a8\"], [0.3333333333333333, \"#9c179e\"], [0.4444444444444444, \"#bd3786\"], [0.5555555555555556, \"#d8576b\"], [0.6666666666666666, \"#ed7953\"], [0.7777777777777778, \"#fb9f3a\"], [0.8888888888888888, \"#fdca26\"], [1.0, \"#f0f921\"]], \"type\": \"heatmap\"}], \"heatmapgl\": [{\"colorbar\": {\"outlinewidth\": 0, \"ticks\": \"\"}, \"colorscale\": [[0.0, \"#0d0887\"], [0.1111111111111111, \"#46039f\"], [0.2222222222222222, \"#7201a8\"], [0.3333333333333333, \"#9c179e\"], [0.4444444444444444, \"#bd3786\"], [0.5555555555555556, \"#d8576b\"], [0.6666666666666666, \"#ed7953\"], [0.7777777777777778, \"#fb9f3a\"], [0.8888888888888888, \"#fdca26\"], [1.0, \"#f0f921\"]], \"type\": \"heatmapgl\"}], \"histogram\": [{\"marker\": {\"colorbar\": {\"outlinewidth\": 0, \"ticks\": \"\"}}, \"type\": \"histogram\"}], \"histogram2d\": [{\"colorbar\": {\"outlinewidth\": 0, \"ticks\": \"\"}, \"colorscale\": [[0.0, \"#0d0887\"], [0.1111111111111111, \"#46039f\"], [0.2222222222222222, \"#7201a8\"], [0.3333333333333333, \"#9c179e\"], [0.4444444444444444, \"#bd3786\"], [0.5555555555555556, \"#d8576b\"], [0.6666666666666666, \"#ed7953\"], [0.7777777777777778, \"#fb9f3a\"], [0.8888888888888888, \"#fdca26\"], [1.0, \"#f0f921\"]], \"type\": \"histogram2d\"}], \"histogram2dcontour\": [{\"colorbar\": {\"outlinewidth\": 0, \"ticks\": \"\"}, \"colorscale\": [[0.0, \"#0d0887\"], [0.1111111111111111, \"#46039f\"], [0.2222222222222222, \"#7201a8\"], [0.3333333333333333, \"#9c179e\"], [0.4444444444444444, \"#bd3786\"], [0.5555555555555556, \"#d8576b\"], [0.6666666666666666, \"#ed7953\"], [0.7777777777777778, \"#fb9f3a\"], [0.8888888888888888, \"#fdca26\"], [1.0, \"#f0f921\"]], \"type\": \"histogram2dcontour\"}], \"mesh3d\": [{\"colorbar\": {\"outlinewidth\": 0, \"ticks\": \"\"}, \"type\": \"mesh3d\"}], \"parcoords\": [{\"line\": {\"colorbar\": {\"outlinewidth\": 0, \"ticks\": \"\"}}, \"type\": \"parcoords\"}], \"pie\": [{\"automargin\": true, \"type\": \"pie\"}], \"scatter\": [{\"marker\": {\"colorbar\": {\"outlinewidth\": 0, \"ticks\": \"\"}}, \"type\": \"scatter\"}], \"scatter3d\": [{\"line\": {\"colorbar\": {\"outlinewidth\": 0, \"ticks\": \"\"}}, \"marker\": {\"colorbar\": {\"outlinewidth\": 0, \"ticks\": \"\"}}, \"type\": \"scatter3d\"}], \"scattercarpet\": [{\"marker\": {\"colorbar\": {\"outlinewidth\": 0, \"ticks\": \"\"}}, \"type\": \"scattercarpet\"}], \"scattergeo\": [{\"marker\": {\"colorbar\": {\"outlinewidth\": 0, \"ticks\": \"\"}}, \"type\": \"scattergeo\"}], \"scattergl\": [{\"marker\": {\"colorbar\": {\"outlinewidth\": 0, \"ticks\": \"\"}}, \"type\": \"scattergl\"}], \"scattermapbox\": [{\"marker\": {\"colorbar\": {\"outlinewidth\": 0, \"ticks\": \"\"}}, \"type\": \"scattermapbox\"}], \"scatterpolar\": [{\"marker\": {\"colorbar\": {\"outlinewidth\": 0, \"ticks\": \"\"}}, \"type\": \"scatterpolar\"}], \"scatterpolargl\": [{\"marker\": {\"colorbar\": {\"outlinewidth\": 0, \"ticks\": \"\"}}, \"type\": \"scatterpolargl\"}], \"scatterternary\": [{\"marker\": {\"colorbar\": {\"outlinewidth\": 0, \"ticks\": \"\"}}, \"type\": \"scatterternary\"}], \"surface\": [{\"colorbar\": {\"outlinewidth\": 0, \"ticks\": \"\"}, \"colorscale\": [[0.0, \"#0d0887\"], [0.1111111111111111, \"#46039f\"], [0.2222222222222222, \"#7201a8\"], [0.3333333333333333, \"#9c179e\"], [0.4444444444444444, \"#bd3786\"], [0.5555555555555556, \"#d8576b\"], [0.6666666666666666, \"#ed7953\"], [0.7777777777777778, \"#fb9f3a\"], [0.8888888888888888, \"#fdca26\"], [1.0, \"#f0f921\"]], \"type\": \"surface\"}], \"table\": [{\"cells\": {\"fill\": {\"color\": \"#EBF0F8\"}, \"line\": {\"color\": \"white\"}}, \"header\": {\"fill\": {\"color\": \"#C8D4E3\"}, \"line\": {\"color\": \"white\"}}, \"type\": \"table\"}]}, \"layout\": {\"annotationdefaults\": {\"arrowcolor\": \"#2a3f5f\", \"arrowhead\": 0, \"arrowwidth\": 1}, \"coloraxis\": {\"colorbar\": {\"outlinewidth\": 0, \"ticks\": \"\"}}, \"colorscale\": {\"diverging\": [[0, \"#8e0152\"], [0.1, \"#c51b7d\"], [0.2, \"#de77ae\"], [0.3, \"#f1b6da\"], [0.4, \"#fde0ef\"], [0.5, \"#f7f7f7\"], [0.6, \"#e6f5d0\"], [0.7, \"#b8e186\"], [0.8, \"#7fbc41\"], [0.9, \"#4d9221\"], [1, \"#276419\"]], \"sequential\": [[0.0, \"#0d0887\"], [0.1111111111111111, \"#46039f\"], [0.2222222222222222, \"#7201a8\"], [0.3333333333333333, \"#9c179e\"], [0.4444444444444444, \"#bd3786\"], [0.5555555555555556, \"#d8576b\"], [0.6666666666666666, \"#ed7953\"], [0.7777777777777778, \"#fb9f3a\"], [0.8888888888888888, \"#fdca26\"], [1.0, \"#f0f921\"]], \"sequentialminus\": [[0.0, \"#0d0887\"], [0.1111111111111111, \"#46039f\"], [0.2222222222222222, \"#7201a8\"], [0.3333333333333333, \"#9c179e\"], [0.4444444444444444, \"#bd3786\"], [0.5555555555555556, \"#d8576b\"], [0.6666666666666666, \"#ed7953\"], [0.7777777777777778, \"#fb9f3a\"], [0.8888888888888888, \"#fdca26\"], [1.0, \"#f0f921\"]]}, \"colorway\": [\"#636efa\", \"#EF553B\", \"#00cc96\", \"#ab63fa\", \"#FFA15A\", \"#19d3f3\", \"#FF6692\", \"#B6E880\", \"#FF97FF\", \"#FECB52\"], \"font\": {\"color\": \"#2a3f5f\"}, \"geo\": {\"bgcolor\": \"white\", \"lakecolor\": \"white\", \"landcolor\": \"#E5ECF6\", \"showlakes\": true, \"showland\": true, \"subunitcolor\": \"white\"}, \"hoverlabel\": {\"align\": \"left\"}, \"hovermode\": \"closest\", \"mapbox\": {\"style\": \"light\"}, \"paper_bgcolor\": \"white\", \"plot_bgcolor\": \"#E5ECF6\", \"polar\": {\"angularaxis\": {\"gridcolor\": \"white\", \"linecolor\": \"white\", \"ticks\": \"\"}, \"bgcolor\": \"#E5ECF6\", \"radialaxis\": {\"gridcolor\": \"white\", \"linecolor\": \"white\", \"ticks\": \"\"}}, \"scene\": {\"xaxis\": {\"backgroundcolor\": \"#E5ECF6\", \"gridcolor\": \"white\", \"gridwidth\": 2, \"linecolor\": \"white\", \"showbackground\": true, \"ticks\": \"\", \"zerolinecolor\": \"white\"}, \"yaxis\": {\"backgroundcolor\": \"#E5ECF6\", \"gridcolor\": \"white\", \"gridwidth\": 2, \"linecolor\": \"white\", \"showbackground\": true, \"ticks\": \"\", \"zerolinecolor\": \"white\"}, \"zaxis\": {\"backgroundcolor\": \"#E5ECF6\", \"gridcolor\": \"white\", \"gridwidth\": 2, \"linecolor\": \"white\", \"showbackground\": true, \"ticks\": \"\", \"zerolinecolor\": \"white\"}}, \"shapedefaults\": {\"line\": {\"color\": \"#2a3f5f\"}}, \"ternary\": {\"aaxis\": {\"gridcolor\": \"white\", \"linecolor\": \"white\", \"ticks\": \"\"}, \"baxis\": {\"gridcolor\": \"white\", \"linecolor\": \"white\", \"ticks\": \"\"}, \"bgcolor\": \"#E5ECF6\", \"caxis\": {\"gridcolor\": \"white\", \"linecolor\": \"white\", \"ticks\": \"\"}}, \"title\": {\"x\": 0.05}, \"xaxis\": {\"automargin\": true, \"gridcolor\": \"white\", \"linecolor\": \"white\", \"ticks\": \"\", \"title\": {\"standoff\": 15}, \"zerolinecolor\": \"white\", \"zerolinewidth\": 2}, \"yaxis\": {\"automargin\": true, \"gridcolor\": \"white\", \"linecolor\": \"white\", \"ticks\": \"\", \"title\": {\"standoff\": 15}, \"zerolinecolor\": \"white\", \"zerolinewidth\": 2}}}, \"title\": {\"text\": \"Revenue Distribution per Store\"}, \"xaxis\": {\"title\": {\"text\": \"Store Name\"}}, \"yaxis\": {\"title\": {\"text\": \"Revenue\"}}},\n",
              "                        {\"responsive\": true}\n",
              "                    ).then(function(){\n",
              "                            \n",
              "var gd = document.getElementById('cbc3b9a2-86ee-4db0-9d9f-90249118238a');\n",
              "var x = new MutationObserver(function (mutations, observer) {{\n",
              "        var display = window.getComputedStyle(gd).display;\n",
              "        if (!display || display === 'none') {{\n",
              "            console.log([gd, 'removed!']);\n",
              "            Plotly.purge(gd);\n",
              "            observer.disconnect();\n",
              "        }}\n",
              "}});\n",
              "\n",
              "// Listen for the removal of the full notebook cells\n",
              "var notebookContainer = gd.closest('#notebook-container');\n",
              "if (notebookContainer) {{\n",
              "    x.observe(notebookContainer, {childList: true});\n",
              "}}\n",
              "\n",
              "// Listen for the clearing of the current output cell\n",
              "var outputEl = gd.closest('.output');\n",
              "if (outputEl) {{\n",
              "    x.observe(outputEl, {childList: true});\n",
              "}}\n",
              "\n",
              "                        })\n",
              "                };\n",
              "                \n",
              "            </script>\n",
              "        </div>\n",
              "</body>\n",
              "</html>"
            ]
          },
          "metadata": {
            "tags": []
          }
        }
      ]
    },
    {
      "cell_type": "markdown",
      "metadata": {
        "id": "IWp0H3QG-Kez"
      },
      "source": [
        "* **Number of Unique SKU per Store**\n",
        "    * For all of the store in the data, they have similar number of product they are selling.\n",
        "    * This means that there are no biases on which store has the most complete items. If there is a bias, customers would tend to buy to a store that sells most products being sold.\n",
        "* **Quantity Sold per Store**\n",
        "    * Max sold = 20 for all store\n",
        "    * storeA014 has higher average quantity sold compared to other stores.\n",
        "    * the quantity sold distribution for this store is left skewed with long tail, meaning that the number of products sold in this store are close to the max number of item sold.\n",
        "* **Revenue Distribution per Store**\n",
        "    * store A014 has higher average revenue compared to the others and high variability in gaining a revenue.\n",
        "    * Other than that, this store has the least difference of mean and median, meaning that it has a symmetrical distribution.\n",
        "    * When there is a symmetrical distribution (approaching Normal Distribution), it means that it is more accurate to estimate a store's revenue by just getting the average of the revenue."
      ]
    },
    {
      "cell_type": "code",
      "metadata": {
        "id": "BhjX5pyU-Ke0"
      },
      "source": [
        ""
      ],
      "execution_count": null,
      "outputs": []
    },
    {
      "cell_type": "markdown",
      "metadata": {
        "id": "kj7jC6q1-Ke0"
      },
      "source": [
        "### Analysis Based on Product SKU"
      ]
    },
    {
      "cell_type": "code",
      "metadata": {
        "colab": {
          "base_uri": "https://localhost:8080/",
          "height": 1000
        },
        "id": "1bOV5RFz-Ke1",
        "outputId": "2fe2c119-382c-4851-c4dc-7955c2a287c0"
      },
      "source": [
        "#### Product mean Quantity\n",
        "product_mean_qty_dict = {'product': stock_df_nonull['product_sku'].unique(),\n",
        "                       'mean':[stock_df_nonull['quantity'].mean()] * len(stock_df_nonull['product_sku'].unique())}\n",
        "\n",
        "product_mean_qty = pd.DataFrame(store_mean_qty_dict)\n",
        "\n",
        "########### Products sold\n",
        "qty_sold = pd.DataFrame(stock_df_nonull.groupby(['product_sku'])['quantity'].sum()).reset_index()\n",
        "\n",
        "fig = go.Figure()\n",
        "\n",
        "fig.add_trace(go.Bar(x = qty_sold['product_sku'], y = qty_sold['quantity'], text = qty_sold['quantity'],\n",
        "                    textposition = 'auto', marker_color = '#42240c'))\n",
        "fig.update_layout(title_text = 'Product Sold', xaxis_title = 'Product SKU', yaxis_title = 'Total QTY')\n",
        "\n",
        "fig.show()\n",
        "\n",
        "#################### Quantity Sold Distribution per Product SKU\n",
        "fig2 = go.Figure()\n",
        "\n",
        "fig2.add_trace(go.Box(x = stock_df_nonull['product_sku'], y = stock_df_nonull['quantity'], boxmean = True))\n",
        "fig2.update_layout(title_text = 'Quantity Sold Distribution per Product SKU', \n",
        "                   xaxis_title = 'Product SKU', yaxis_title = 'QTY Sold')\n",
        "\n",
        "fig2.show()\n",
        "\n",
        "#################### Revenue Distribution per Product SKU\n",
        "fig3 = go.Figure()\n",
        "\n",
        "fig3.add_trace(go.Box(x = stock_df_nonull['product_sku'], y = stock_df_nonull['revenue'], boxmean = True))\n",
        "fig3.update_layout(title_text = 'Revenue Distribution per Product SKU', \n",
        "                   xaxis_title = 'Product SKU', yaxis_title = 'Revenue')\n",
        "\n",
        "fig3.show()"
      ],
      "execution_count": 22,
      "outputs": [
        {
          "output_type": "display_data",
          "data": {
            "text/html": [
              "<html>\n",
              "<head><meta charset=\"utf-8\" /></head>\n",
              "<body>\n",
              "    <div>\n",
              "            <script src=\"https://cdnjs.cloudflare.com/ajax/libs/mathjax/2.7.5/MathJax.js?config=TeX-AMS-MML_SVG\"></script><script type=\"text/javascript\">if (window.MathJax) {MathJax.Hub.Config({SVG: {font: \"STIX-Web\"}});}</script>\n",
              "                <script type=\"text/javascript\">window.PlotlyConfig = {MathJaxConfig: 'local'};</script>\n",
              "        <script src=\"https://cdn.plot.ly/plotly-latest.min.js\"></script>    \n",
              "            <div id=\"7aeac950-931d-49bf-9bef-2066f6d955ec\" class=\"plotly-graph-div\" style=\"height:525px; width:100%;\"></div>\n",
              "            <script type=\"text/javascript\">\n",
              "                \n",
              "                    window.PLOTLYENV=window.PLOTLYENV || {};\n",
              "                    \n",
              "                if (document.getElementById(\"7aeac950-931d-49bf-9bef-2066f6d955ec\")) {\n",
              "                    Plotly.newPlot(\n",
              "                        '7aeac950-931d-49bf-9bef-2066f6d955ec',\n",
              "                        [{\"marker\": {\"color\": \"#42240c\"}, \"text\": [654.0, 617.0, 594.0, 612.0, 607.0, 600.0, 661.0, 589.0, 533.0, 546.0, 538.0, 596.0, 660.0, 613.0, 650.0, 625.0, 616.0, 433.0, 490.0, 498.0, 552.0, 499.0, 588.0, 557.0, 591.0, 703.0, 602.0, 564.0, 553.0, 597.0, 653.0], \"textposition\": \"auto\", \"type\": \"bar\", \"x\": [\"sku021\", \"sku022\", \"sku023\", \"sku024\", \"sku025\", \"sku026\", \"sku027\", \"sku028\", \"sku029\", \"sku030\", \"sku031\", \"sku032\", \"sku033\", \"sku034\", \"sku035\", \"sku036\", \"sku037\", \"sku038\", \"sku039\", \"sku040\", \"sku041\", \"sku042\", \"sku043\", \"sku044\", \"sku045\", \"sku046\", \"sku047\", \"sku048\", \"sku049\", \"sku050\", \"sku051\"], \"y\": [654.0, 617.0, 594.0, 612.0, 607.0, 600.0, 661.0, 589.0, 533.0, 546.0, 538.0, 596.0, 660.0, 613.0, 650.0, 625.0, 616.0, 433.0, 490.0, 498.0, 552.0, 499.0, 588.0, 557.0, 591.0, 703.0, 602.0, 564.0, 553.0, 597.0, 653.0]}],\n",
              "                        {\"template\": {\"data\": {\"bar\": [{\"error_x\": {\"color\": \"#2a3f5f\"}, \"error_y\": {\"color\": \"#2a3f5f\"}, \"marker\": {\"line\": {\"color\": \"#E5ECF6\", \"width\": 0.5}}, \"type\": \"bar\"}], \"barpolar\": [{\"marker\": {\"line\": {\"color\": \"#E5ECF6\", \"width\": 0.5}}, \"type\": \"barpolar\"}], \"carpet\": [{\"aaxis\": {\"endlinecolor\": \"#2a3f5f\", \"gridcolor\": \"white\", \"linecolor\": \"white\", \"minorgridcolor\": \"white\", \"startlinecolor\": \"#2a3f5f\"}, \"baxis\": {\"endlinecolor\": \"#2a3f5f\", \"gridcolor\": \"white\", \"linecolor\": \"white\", \"minorgridcolor\": \"white\", \"startlinecolor\": \"#2a3f5f\"}, \"type\": \"carpet\"}], \"choropleth\": [{\"colorbar\": {\"outlinewidth\": 0, \"ticks\": \"\"}, \"type\": \"choropleth\"}], \"contour\": [{\"colorbar\": {\"outlinewidth\": 0, \"ticks\": \"\"}, \"colorscale\": [[0.0, \"#0d0887\"], [0.1111111111111111, \"#46039f\"], [0.2222222222222222, \"#7201a8\"], [0.3333333333333333, \"#9c179e\"], [0.4444444444444444, \"#bd3786\"], [0.5555555555555556, \"#d8576b\"], [0.6666666666666666, \"#ed7953\"], [0.7777777777777778, \"#fb9f3a\"], [0.8888888888888888, \"#fdca26\"], [1.0, \"#f0f921\"]], \"type\": \"contour\"}], \"contourcarpet\": [{\"colorbar\": {\"outlinewidth\": 0, \"ticks\": \"\"}, \"type\": \"contourcarpet\"}], \"heatmap\": [{\"colorbar\": {\"outlinewidth\": 0, \"ticks\": \"\"}, \"colorscale\": [[0.0, \"#0d0887\"], [0.1111111111111111, \"#46039f\"], [0.2222222222222222, \"#7201a8\"], [0.3333333333333333, \"#9c179e\"], [0.4444444444444444, \"#bd3786\"], [0.5555555555555556, \"#d8576b\"], [0.6666666666666666, \"#ed7953\"], [0.7777777777777778, \"#fb9f3a\"], [0.8888888888888888, \"#fdca26\"], [1.0, \"#f0f921\"]], \"type\": \"heatmap\"}], \"heatmapgl\": [{\"colorbar\": {\"outlinewidth\": 0, \"ticks\": \"\"}, \"colorscale\": [[0.0, \"#0d0887\"], [0.1111111111111111, \"#46039f\"], [0.2222222222222222, \"#7201a8\"], [0.3333333333333333, \"#9c179e\"], [0.4444444444444444, \"#bd3786\"], [0.5555555555555556, \"#d8576b\"], [0.6666666666666666, \"#ed7953\"], [0.7777777777777778, \"#fb9f3a\"], [0.8888888888888888, \"#fdca26\"], [1.0, \"#f0f921\"]], \"type\": \"heatmapgl\"}], \"histogram\": [{\"marker\": {\"colorbar\": {\"outlinewidth\": 0, \"ticks\": \"\"}}, \"type\": \"histogram\"}], \"histogram2d\": [{\"colorbar\": {\"outlinewidth\": 0, \"ticks\": \"\"}, \"colorscale\": [[0.0, \"#0d0887\"], [0.1111111111111111, \"#46039f\"], [0.2222222222222222, \"#7201a8\"], [0.3333333333333333, \"#9c179e\"], [0.4444444444444444, \"#bd3786\"], [0.5555555555555556, \"#d8576b\"], [0.6666666666666666, \"#ed7953\"], [0.7777777777777778, \"#fb9f3a\"], [0.8888888888888888, \"#fdca26\"], [1.0, \"#f0f921\"]], \"type\": \"histogram2d\"}], \"histogram2dcontour\": [{\"colorbar\": {\"outlinewidth\": 0, \"ticks\": \"\"}, \"colorscale\": [[0.0, \"#0d0887\"], [0.1111111111111111, \"#46039f\"], [0.2222222222222222, \"#7201a8\"], [0.3333333333333333, \"#9c179e\"], [0.4444444444444444, \"#bd3786\"], [0.5555555555555556, \"#d8576b\"], [0.6666666666666666, \"#ed7953\"], [0.7777777777777778, \"#fb9f3a\"], [0.8888888888888888, \"#fdca26\"], [1.0, \"#f0f921\"]], \"type\": \"histogram2dcontour\"}], \"mesh3d\": [{\"colorbar\": {\"outlinewidth\": 0, \"ticks\": \"\"}, \"type\": \"mesh3d\"}], \"parcoords\": [{\"line\": {\"colorbar\": {\"outlinewidth\": 0, \"ticks\": \"\"}}, \"type\": \"parcoords\"}], \"pie\": [{\"automargin\": true, \"type\": \"pie\"}], \"scatter\": [{\"marker\": {\"colorbar\": {\"outlinewidth\": 0, \"ticks\": \"\"}}, \"type\": \"scatter\"}], \"scatter3d\": [{\"line\": {\"colorbar\": {\"outlinewidth\": 0, \"ticks\": \"\"}}, \"marker\": {\"colorbar\": {\"outlinewidth\": 0, \"ticks\": \"\"}}, \"type\": \"scatter3d\"}], \"scattercarpet\": [{\"marker\": {\"colorbar\": {\"outlinewidth\": 0, \"ticks\": \"\"}}, \"type\": \"scattercarpet\"}], \"scattergeo\": [{\"marker\": {\"colorbar\": {\"outlinewidth\": 0, \"ticks\": \"\"}}, \"type\": \"scattergeo\"}], \"scattergl\": [{\"marker\": {\"colorbar\": {\"outlinewidth\": 0, \"ticks\": \"\"}}, \"type\": \"scattergl\"}], \"scattermapbox\": [{\"marker\": {\"colorbar\": {\"outlinewidth\": 0, \"ticks\": \"\"}}, \"type\": \"scattermapbox\"}], \"scatterpolar\": [{\"marker\": {\"colorbar\": {\"outlinewidth\": 0, \"ticks\": \"\"}}, \"type\": \"scatterpolar\"}], \"scatterpolargl\": [{\"marker\": {\"colorbar\": {\"outlinewidth\": 0, \"ticks\": \"\"}}, \"type\": \"scatterpolargl\"}], \"scatterternary\": [{\"marker\": {\"colorbar\": {\"outlinewidth\": 0, \"ticks\": \"\"}}, \"type\": \"scatterternary\"}], \"surface\": [{\"colorbar\": {\"outlinewidth\": 0, \"ticks\": \"\"}, \"colorscale\": [[0.0, \"#0d0887\"], [0.1111111111111111, \"#46039f\"], [0.2222222222222222, \"#7201a8\"], [0.3333333333333333, \"#9c179e\"], [0.4444444444444444, \"#bd3786\"], [0.5555555555555556, \"#d8576b\"], [0.6666666666666666, \"#ed7953\"], [0.7777777777777778, \"#fb9f3a\"], [0.8888888888888888, \"#fdca26\"], [1.0, \"#f0f921\"]], \"type\": \"surface\"}], \"table\": [{\"cells\": {\"fill\": {\"color\": \"#EBF0F8\"}, \"line\": {\"color\": \"white\"}}, \"header\": {\"fill\": {\"color\": \"#C8D4E3\"}, \"line\": {\"color\": \"white\"}}, \"type\": \"table\"}]}, \"layout\": {\"annotationdefaults\": {\"arrowcolor\": \"#2a3f5f\", \"arrowhead\": 0, \"arrowwidth\": 1}, \"coloraxis\": {\"colorbar\": {\"outlinewidth\": 0, \"ticks\": \"\"}}, \"colorscale\": {\"diverging\": [[0, \"#8e0152\"], [0.1, \"#c51b7d\"], [0.2, \"#de77ae\"], [0.3, \"#f1b6da\"], [0.4, \"#fde0ef\"], [0.5, \"#f7f7f7\"], [0.6, \"#e6f5d0\"], [0.7, \"#b8e186\"], [0.8, \"#7fbc41\"], [0.9, \"#4d9221\"], [1, \"#276419\"]], \"sequential\": [[0.0, \"#0d0887\"], [0.1111111111111111, \"#46039f\"], [0.2222222222222222, \"#7201a8\"], [0.3333333333333333, \"#9c179e\"], [0.4444444444444444, \"#bd3786\"], [0.5555555555555556, \"#d8576b\"], [0.6666666666666666, \"#ed7953\"], [0.7777777777777778, \"#fb9f3a\"], [0.8888888888888888, \"#fdca26\"], [1.0, \"#f0f921\"]], \"sequentialminus\": [[0.0, \"#0d0887\"], [0.1111111111111111, \"#46039f\"], [0.2222222222222222, \"#7201a8\"], [0.3333333333333333, \"#9c179e\"], [0.4444444444444444, \"#bd3786\"], [0.5555555555555556, \"#d8576b\"], [0.6666666666666666, \"#ed7953\"], [0.7777777777777778, \"#fb9f3a\"], [0.8888888888888888, \"#fdca26\"], [1.0, \"#f0f921\"]]}, \"colorway\": [\"#636efa\", \"#EF553B\", \"#00cc96\", \"#ab63fa\", \"#FFA15A\", \"#19d3f3\", \"#FF6692\", \"#B6E880\", \"#FF97FF\", \"#FECB52\"], \"font\": {\"color\": \"#2a3f5f\"}, \"geo\": {\"bgcolor\": \"white\", \"lakecolor\": \"white\", \"landcolor\": \"#E5ECF6\", \"showlakes\": true, \"showland\": true, \"subunitcolor\": \"white\"}, \"hoverlabel\": {\"align\": \"left\"}, \"hovermode\": \"closest\", \"mapbox\": {\"style\": \"light\"}, \"paper_bgcolor\": \"white\", \"plot_bgcolor\": \"#E5ECF6\", \"polar\": {\"angularaxis\": {\"gridcolor\": \"white\", \"linecolor\": \"white\", \"ticks\": \"\"}, \"bgcolor\": \"#E5ECF6\", \"radialaxis\": {\"gridcolor\": \"white\", \"linecolor\": \"white\", \"ticks\": \"\"}}, \"scene\": {\"xaxis\": {\"backgroundcolor\": \"#E5ECF6\", \"gridcolor\": \"white\", \"gridwidth\": 2, \"linecolor\": \"white\", \"showbackground\": true, \"ticks\": \"\", \"zerolinecolor\": \"white\"}, \"yaxis\": {\"backgroundcolor\": \"#E5ECF6\", \"gridcolor\": \"white\", \"gridwidth\": 2, \"linecolor\": \"white\", \"showbackground\": true, \"ticks\": \"\", \"zerolinecolor\": \"white\"}, \"zaxis\": {\"backgroundcolor\": \"#E5ECF6\", \"gridcolor\": \"white\", \"gridwidth\": 2, \"linecolor\": \"white\", \"showbackground\": true, \"ticks\": \"\", \"zerolinecolor\": \"white\"}}, \"shapedefaults\": {\"line\": {\"color\": \"#2a3f5f\"}}, \"ternary\": {\"aaxis\": {\"gridcolor\": \"white\", \"linecolor\": \"white\", \"ticks\": \"\"}, \"baxis\": {\"gridcolor\": \"white\", \"linecolor\": \"white\", \"ticks\": \"\"}, \"bgcolor\": \"#E5ECF6\", \"caxis\": {\"gridcolor\": \"white\", \"linecolor\": \"white\", \"ticks\": \"\"}}, \"title\": {\"x\": 0.05}, \"xaxis\": {\"automargin\": true, \"gridcolor\": \"white\", \"linecolor\": \"white\", \"ticks\": \"\", \"title\": {\"standoff\": 15}, \"zerolinecolor\": \"white\", \"zerolinewidth\": 2}, \"yaxis\": {\"automargin\": true, \"gridcolor\": \"white\", \"linecolor\": \"white\", \"ticks\": \"\", \"title\": {\"standoff\": 15}, \"zerolinecolor\": \"white\", \"zerolinewidth\": 2}}}, \"title\": {\"text\": \"Product Sold\"}, \"xaxis\": {\"title\": {\"text\": \"Product SKU\"}}, \"yaxis\": {\"title\": {\"text\": \"Total QTY\"}}},\n",
              "                        {\"responsive\": true}\n",
              "                    ).then(function(){\n",
              "                            \n",
              "var gd = document.getElementById('7aeac950-931d-49bf-9bef-2066f6d955ec');\n",
              "var x = new MutationObserver(function (mutations, observer) {{\n",
              "        var display = window.getComputedStyle(gd).display;\n",
              "        if (!display || display === 'none') {{\n",
              "            console.log([gd, 'removed!']);\n",
              "            Plotly.purge(gd);\n",
              "            observer.disconnect();\n",
              "        }}\n",
              "}});\n",
              "\n",
              "// Listen for the removal of the full notebook cells\n",
              "var notebookContainer = gd.closest('#notebook-container');\n",
              "if (notebookContainer) {{\n",
              "    x.observe(notebookContainer, {childList: true});\n",
              "}}\n",
              "\n",
              "// Listen for the clearing of the current output cell\n",
              "var outputEl = gd.closest('.output');\n",
              "if (outputEl) {{\n",
              "    x.observe(outputEl, {childList: true});\n",
              "}}\n",
              "\n",
              "                        })\n",
              "                };\n",
              "                \n",
              "            </script>\n",
              "        </div>\n",
              "</body>\n",
              "</html>"
            ]
          },
          "metadata": {
            "tags": []
          }
        },
        {
          "output_type": "display_data",
          "data": {
            "text/html": [
              "<html>\n",
              "<head><meta charset=\"utf-8\" /></head>\n",
              "<body>\n",
              "    <div>\n",
              "            <script src=\"https://cdnjs.cloudflare.com/ajax/libs/mathjax/2.7.5/MathJax.js?config=TeX-AMS-MML_SVG\"></script><script type=\"text/javascript\">if (window.MathJax) {MathJax.Hub.Config({SVG: {font: \"STIX-Web\"}});}</script>\n",
              "                <script type=\"text/javascript\">window.PlotlyConfig = {MathJaxConfig: 'local'};</script>\n",
              "        <script src=\"https://cdn.plot.ly/plotly-latest.min.js\"></script>    \n",
              "            <div id=\"8ad2063a-a6a5-4a79-a9d6-da285be9a4d8\" class=\"plotly-graph-div\" style=\"height:525px; width:100%;\"></div>\n",
              "            <script type=\"text/javascript\">\n",
              "                \n",
              "                    window.PLOTLYENV=window.PLOTLYENV || {};\n",
              "                    \n",
              "                if (document.getElementById(\"8ad2063a-a6a5-4a79-a9d6-da285be9a4d8\")) {\n",
              "                    Plotly.newPlot(\n",
              "                        '8ad2063a-a6a5-4a79-a9d6-da285be9a4d8',\n",
              "                        [{\"boxmean\": true, \"type\": \"box\", \"x\": [\"sku021\", \"sku022\", \"sku023\", \"sku024\", \"sku025\", \"sku026\", \"sku027\", \"sku028\", \"sku029\", \"sku030\", \"sku032\", \"sku033\", \"sku034\", \"sku035\", \"sku037\", \"sku041\", \"sku042\", \"sku044\", \"sku045\", \"sku046\", \"sku047\", \"sku048\", \"sku050\", \"sku051\", \"sku021\", \"sku022\", \"sku023\", \"sku024\", \"sku025\", \"sku026\", \"sku027\", \"sku028\", \"sku029\", \"sku030\", \"sku031\", \"sku032\", \"sku033\", \"sku035\", \"sku036\", \"sku037\", \"sku038\", \"sku039\", \"sku040\", \"sku042\", \"sku043\", \"sku044\", \"sku045\", \"sku046\", \"sku047\", \"sku049\", \"sku050\", \"sku051\", \"sku021\", \"sku022\", \"sku024\", \"sku025\", \"sku026\", \"sku027\", \"sku028\", \"sku029\", \"sku030\", \"sku031\", \"sku032\", \"sku033\", \"sku034\", \"sku035\", \"sku036\", \"sku037\", \"sku038\", \"sku039\", \"sku040\", \"sku042\", \"sku043\", \"sku044\", \"sku045\", \"sku046\", \"sku047\", \"sku048\", \"sku049\", \"sku050\", \"sku051\", \"sku021\", \"sku023\", \"sku024\", \"sku026\", \"sku027\", \"sku028\", \"sku030\", \"sku031\", \"sku032\", \"sku033\", \"sku035\", \"sku036\", \"sku037\", \"sku038\", \"sku039\", \"sku040\", \"sku041\", \"sku042\", \"sku043\", \"sku045\", \"sku046\", \"sku047\", \"sku048\", \"sku049\", \"sku050\", \"sku051\", \"sku022\", \"sku023\", \"sku024\", \"sku025\", \"sku026\", \"sku027\", \"sku028\", \"sku029\", \"sku030\", \"sku031\", \"sku032\", \"sku033\", \"sku034\", \"sku035\", \"sku036\", \"sku037\", \"sku038\", \"sku039\", \"sku040\", \"sku041\", \"sku042\", \"sku043\", \"sku044\", \"sku045\", \"sku046\", \"sku047\", \"sku048\", \"sku049\", \"sku050\", \"sku051\", \"sku021\", \"sku022\", \"sku023\", \"sku024\", \"sku025\", \"sku026\", \"sku027\", \"sku029\", \"sku030\", \"sku031\", \"sku032\", \"sku035\", \"sku036\", \"sku037\", \"sku038\", \"sku039\", \"sku041\", \"sku042\", \"sku043\", \"sku044\", \"sku046\", \"sku047\", \"sku048\", \"sku050\", \"sku051\", \"sku021\", \"sku022\", \"sku023\", \"sku024\", \"sku025\", \"sku026\", \"sku027\", \"sku029\", \"sku031\", \"sku032\", \"sku033\", \"sku034\", \"sku035\", \"sku036\", \"sku037\", \"sku038\", \"sku040\", \"sku041\", \"sku042\", \"sku044\", \"sku045\", \"sku046\", \"sku048\", \"sku049\", \"sku050\", \"sku021\", \"sku023\", \"sku024\", \"sku025\", \"sku026\", \"sku027\", \"sku028\", \"sku029\", \"sku030\", \"sku031\", \"sku032\", \"sku033\", \"sku034\", \"sku035\", \"sku036\", \"sku037\", \"sku038\", \"sku040\", \"sku041\", \"sku043\", \"sku044\", \"sku045\", \"sku046\", \"sku047\", \"sku048\", \"sku049\", \"sku050\", \"sku051\", \"sku022\", \"sku023\", \"sku024\", \"sku025\", \"sku026\", \"sku028\", \"sku029\", \"sku031\", \"sku032\", \"sku033\", \"sku034\", \"sku035\", \"sku036\", \"sku037\", \"sku039\", \"sku040\", \"sku041\", \"sku042\", \"sku043\", \"sku044\", \"sku045\", \"sku046\", \"sku049\", \"sku050\", \"sku051\", \"sku021\", \"sku022\", \"sku023\", \"sku024\", \"sku025\", \"sku026\", \"sku027\", \"sku028\", \"sku029\", \"sku030\", \"sku031\", \"sku032\", \"sku033\", \"sku034\", \"sku036\", \"sku038\", \"sku039\", \"sku040\", \"sku043\", \"sku044\", \"sku045\", \"sku046\", \"sku047\", \"sku048\", \"sku049\", \"sku050\", \"sku021\", \"sku022\", \"sku023\", \"sku024\", \"sku025\", \"sku026\", \"sku027\", \"sku028\", \"sku029\", \"sku030\", \"sku032\", \"sku033\", \"sku034\", \"sku035\", \"sku036\", \"sku037\", \"sku038\", \"sku039\", \"sku040\", \"sku041\", \"sku042\", \"sku043\", \"sku044\", \"sku045\", \"sku046\", \"sku047\", \"sku048\", \"sku049\", \"sku050\", \"sku051\", \"sku021\", \"sku022\", \"sku023\", \"sku024\", \"sku025\", \"sku027\", \"sku028\", \"sku029\", \"sku030\", \"sku031\", \"sku032\", \"sku035\", \"sku036\", \"sku037\", \"sku039\", \"sku040\", \"sku041\", \"sku042\", \"sku043\", \"sku044\", \"sku045\", \"sku046\", \"sku047\", \"sku048\", \"sku049\", \"sku050\", \"sku021\", \"sku022\", \"sku023\", \"sku025\", \"sku026\", \"sku027\", \"sku028\", \"sku030\", \"sku032\", \"sku033\", \"sku034\", \"sku035\", \"sku036\", \"sku041\", \"sku043\", \"sku044\", \"sku045\", \"sku046\", \"sku047\", \"sku048\", \"sku049\", \"sku050\", \"sku051\", \"sku021\", \"sku022\", \"sku023\", \"sku024\", \"sku025\", \"sku026\", \"sku027\", \"sku028\", \"sku029\", \"sku030\", \"sku032\", \"sku033\", \"sku034\", \"sku035\", \"sku036\", \"sku037\", \"sku038\", \"sku039\", \"sku041\", \"sku042\", \"sku043\", \"sku044\", \"sku045\", \"sku046\", \"sku047\", \"sku048\", \"sku050\", \"sku051\", \"sku022\", \"sku023\", \"sku025\", \"sku026\", \"sku027\", \"sku028\", \"sku030\", \"sku031\", \"sku033\", \"sku034\", \"sku035\", \"sku036\", \"sku037\", \"sku038\", \"sku039\", \"sku040\", \"sku041\", \"sku042\", \"sku043\", \"sku044\", \"sku045\", \"sku046\", \"sku047\", \"sku048\", \"sku050\", \"sku051\", \"sku021\", \"sku022\", \"sku024\", \"sku025\", \"sku026\", \"sku029\", \"sku030\", \"sku032\", \"sku033\", \"sku034\", \"sku035\", \"sku037\", \"sku038\", \"sku040\", \"sku041\", \"sku042\", \"sku043\", \"sku044\", \"sku045\", \"sku046\", \"sku047\", \"sku048\", \"sku049\", \"sku050\", \"sku051\", \"sku021\", \"sku022\", \"sku023\", \"sku024\", \"sku025\", \"sku026\", \"sku027\", \"sku028\", \"sku030\", \"sku031\", \"sku032\", \"sku033\", \"sku034\", \"sku035\", \"sku037\", \"sku039\", \"sku040\", \"sku041\", \"sku042\", \"sku044\", \"sku045\", \"sku046\", \"sku047\", \"sku048\", \"sku049\", \"sku050\", \"sku051\", \"sku021\", \"sku022\", \"sku024\", \"sku025\", \"sku026\", \"sku027\", \"sku028\", \"sku029\", \"sku030\", \"sku031\", \"sku032\", \"sku033\", \"sku034\", \"sku035\", \"sku036\", \"sku037\", \"sku038\", \"sku039\", \"sku040\", \"sku041\", \"sku042\", \"sku043\", \"sku044\", \"sku045\", \"sku046\", \"sku047\", \"sku048\", \"sku049\", \"sku050\", \"sku051\", \"sku021\", \"sku022\", \"sku023\", \"sku024\", \"sku025\", \"sku027\", \"sku029\", \"sku030\", \"sku031\", \"sku032\", \"sku033\", \"sku034\", \"sku035\", \"sku036\", \"sku037\", \"sku038\", \"sku039\", \"sku040\", \"sku041\", \"sku042\", \"sku043\", \"sku044\", \"sku045\", \"sku046\", \"sku047\", \"sku048\", \"sku049\", \"sku050\", \"sku051\", \"sku021\", \"sku022\", \"sku023\", \"sku026\", \"sku027\", \"sku028\", \"sku029\", \"sku030\", \"sku031\", \"sku033\", \"sku034\", \"sku035\", \"sku036\", \"sku037\", \"sku038\", \"sku039\", \"sku040\", \"sku041\", \"sku042\", \"sku043\", \"sku044\", \"sku045\", \"sku046\", \"sku047\", \"sku048\", \"sku050\", \"sku051\", \"sku021\", \"sku022\", \"sku023\", \"sku025\", \"sku026\", \"sku028\", \"sku029\", \"sku030\", \"sku031\", \"sku032\", \"sku033\", \"sku034\", \"sku035\", \"sku036\", \"sku038\", \"sku041\", \"sku042\", \"sku043\", \"sku044\", \"sku045\", \"sku047\", \"sku048\", \"sku049\", \"sku050\", \"sku051\", \"sku021\", \"sku022\", \"sku023\", \"sku024\", \"sku025\", \"sku026\", \"sku027\", \"sku028\", \"sku029\", \"sku031\", \"sku032\", \"sku033\", \"sku036\", \"sku037\", \"sku038\", \"sku039\", \"sku040\", \"sku041\", \"sku042\", \"sku043\", \"sku044\", \"sku045\", \"sku046\", \"sku047\", \"sku048\", \"sku049\", \"sku050\", \"sku051\", \"sku021\", \"sku022\", \"sku023\", \"sku024\", \"sku025\", \"sku026\", \"sku027\", \"sku028\", \"sku029\", \"sku030\", \"sku031\", \"sku032\", \"sku033\", \"sku034\", \"sku035\", \"sku036\", \"sku037\", \"sku038\", \"sku039\", \"sku040\", \"sku041\", \"sku042\", \"sku043\", \"sku044\", \"sku045\", \"sku046\", \"sku047\", \"sku048\", \"sku049\", \"sku050\", \"sku051\", \"sku021\", \"sku022\", \"sku024\", \"sku025\", \"sku026\", \"sku027\", \"sku028\", \"sku029\", \"sku030\", \"sku031\", \"sku032\", \"sku035\", \"sku036\", \"sku037\", \"sku038\", \"sku039\", \"sku040\", \"sku041\", \"sku042\", \"sku044\", \"sku045\", \"sku046\", \"sku047\", \"sku048\", \"sku049\", \"sku050\", \"sku021\", \"sku022\", \"sku023\", \"sku024\", \"sku027\", \"sku028\", \"sku029\", \"sku030\", \"sku033\", \"sku034\", \"sku035\", \"sku036\", \"sku037\", \"sku038\", \"sku039\", \"sku040\", \"sku041\", \"sku042\", \"sku045\", \"sku047\", \"sku048\", \"sku049\", \"sku050\", \"sku051\", \"sku021\", \"sku022\", \"sku023\", \"sku024\", \"sku025\", \"sku026\", \"sku027\", \"sku028\", \"sku029\", \"sku030\", \"sku031\", \"sku032\", \"sku033\", \"sku034\", \"sku035\", \"sku036\", \"sku037\", \"sku038\", \"sku039\", \"sku040\", \"sku041\", \"sku042\", \"sku043\", \"sku047\", \"sku048\", \"sku049\", \"sku050\", \"sku051\", \"sku021\", \"sku022\", \"sku023\", \"sku024\", \"sku025\", \"sku026\", \"sku027\", \"sku028\", \"sku029\", \"sku030\", \"sku031\", \"sku033\", \"sku034\", \"sku035\", \"sku036\", \"sku037\", \"sku038\", \"sku040\", \"sku041\", \"sku042\", \"sku043\", \"sku044\", \"sku045\", \"sku046\", \"sku047\", \"sku048\", \"sku050\", \"sku051\", \"sku021\", \"sku022\", \"sku023\", \"sku025\", \"sku026\", \"sku027\", \"sku028\", \"sku030\", \"sku031\", \"sku032\", \"sku033\", \"sku034\", \"sku035\", \"sku036\", \"sku037\", \"sku039\", \"sku040\", \"sku041\", \"sku042\", \"sku043\", \"sku046\", \"sku047\", \"sku048\", \"sku049\", \"sku050\", \"sku051\", \"sku021\", \"sku022\", \"sku023\", \"sku024\", \"sku025\", \"sku026\", \"sku027\", \"sku028\", \"sku029\", \"sku030\", \"sku031\", \"sku032\", \"sku033\", \"sku036\", \"sku039\", \"sku040\", \"sku041\", \"sku042\", \"sku043\", \"sku044\", \"sku045\", \"sku046\", \"sku047\", \"sku048\", \"sku049\", \"sku050\", \"sku051\", \"sku021\", \"sku022\", \"sku023\", \"sku024\", \"sku026\", \"sku027\", \"sku028\", \"sku029\", \"sku030\", \"sku031\", \"sku032\", \"sku033\", \"sku034\", \"sku035\", \"sku036\", \"sku037\", \"sku038\", \"sku039\", \"sku040\", \"sku041\", \"sku042\", \"sku043\", \"sku044\", \"sku045\", \"sku046\", \"sku047\", \"sku048\", \"sku049\", \"sku050\", \"sku051\", \"sku021\", \"sku022\", \"sku023\", \"sku024\", \"sku025\", \"sku026\", \"sku027\", \"sku028\", \"sku029\", \"sku030\", \"sku031\", \"sku032\", \"sku033\", \"sku035\", \"sku036\", \"sku037\", \"sku038\", \"sku040\", \"sku041\", \"sku043\", \"sku044\", \"sku045\", \"sku046\", \"sku047\", \"sku048\", \"sku049\", \"sku050\", \"sku051\", \"sku021\", \"sku022\", \"sku024\", \"sku025\", \"sku026\", \"sku027\", \"sku028\", \"sku030\", \"sku031\", \"sku032\", \"sku033\", \"sku035\", \"sku036\", \"sku037\", \"sku038\", \"sku039\", \"sku040\", \"sku041\", \"sku043\", \"sku044\", \"sku046\", \"sku047\", \"sku049\", \"sku050\", \"sku051\", \"sku022\", \"sku023\", \"sku025\", \"sku026\", \"sku027\", \"sku028\", \"sku021\", \"sku022\", \"sku023\", \"sku025\", \"sku026\", \"sku027\", \"sku028\", \"sku029\", \"sku030\", \"sku031\", \"sku032\", \"sku033\", \"sku034\", \"sku035\", \"sku036\", \"sku037\", \"sku040\", \"sku041\", \"sku042\", \"sku043\", \"sku044\", \"sku045\", \"sku046\", \"sku047\", \"sku048\", \"sku049\", \"sku050\", \"sku021\", \"sku022\", \"sku023\", \"sku024\", \"sku025\", \"sku026\", \"sku027\", \"sku028\", \"sku030\", \"sku031\", \"sku033\", \"sku034\", \"sku035\", \"sku036\", \"sku037\", \"sku040\", \"sku041\", \"sku042\", \"sku043\", \"sku044\", \"sku045\", \"sku046\", \"sku048\", \"sku049\", \"sku050\", \"sku051\", \"sku022\", \"sku023\", \"sku024\", \"sku025\", \"sku026\", \"sku027\", \"sku028\", \"sku029\", \"sku030\", \"sku031\", \"sku032\", \"sku033\", \"sku035\", \"sku036\", \"sku037\", \"sku038\", \"sku039\", \"sku040\", \"sku042\", \"sku043\", \"sku045\", \"sku046\", \"sku047\", \"sku048\", \"sku049\", \"sku050\", \"sku051\", \"sku021\", \"sku022\", \"sku023\", \"sku024\", \"sku025\", \"sku026\", \"sku027\", \"sku028\", \"sku029\", \"sku030\", \"sku031\", \"sku033\", \"sku034\", \"sku035\", \"sku037\", \"sku038\", \"sku039\", \"sku041\", \"sku043\", \"sku044\", \"sku045\", \"sku046\", \"sku047\", \"sku048\", \"sku049\", \"sku050\", \"sku021\", \"sku022\", \"sku023\", \"sku024\", \"sku025\", \"sku026\", \"sku028\", \"sku029\", \"sku032\", \"sku033\", \"sku034\", \"sku035\", \"sku036\", \"sku037\", \"sku038\", \"sku039\", \"sku040\", \"sku041\", \"sku042\", \"sku043\", \"sku044\", \"sku045\", \"sku046\", \"sku047\", \"sku049\", \"sku050\", \"sku051\", \"sku021\", \"sku022\", \"sku023\", \"sku024\", \"sku025\", \"sku026\", \"sku028\", \"sku029\", \"sku030\", \"sku031\", \"sku032\", \"sku033\", \"sku034\", \"sku035\", \"sku036\", \"sku037\", \"sku038\", \"sku039\", \"sku041\", \"sku043\", \"sku044\", \"sku045\", \"sku046\", \"sku047\", \"sku049\", \"sku050\", \"sku051\", \"sku021\", \"sku022\", \"sku023\", \"sku024\", \"sku025\", \"sku026\", \"sku027\", \"sku028\", \"sku029\", \"sku032\", \"sku033\", \"sku034\", \"sku035\", \"sku036\", \"sku037\", \"sku038\", \"sku039\", \"sku040\", \"sku041\", \"sku042\", \"sku043\", \"sku044\", \"sku045\", \"sku046\", \"sku047\", \"sku048\", \"sku049\", \"sku051\", \"sku021\", \"sku022\", \"sku023\", \"sku024\", \"sku025\", \"sku026\", \"sku027\", \"sku028\", \"sku029\", \"sku030\", \"sku031\", \"sku032\", \"sku033\", \"sku034\", \"sku035\", \"sku037\", \"sku038\", \"sku039\", \"sku040\", \"sku041\", \"sku042\", \"sku044\", \"sku045\", \"sku046\", \"sku047\", \"sku049\", \"sku050\", \"sku051\", \"sku022\", \"sku023\", \"sku024\", \"sku025\", \"sku026\", \"sku027\", \"sku028\", \"sku029\", \"sku031\", \"sku032\", \"sku033\", \"sku034\", \"sku036\", \"sku037\", \"sku038\", \"sku039\", \"sku040\", \"sku041\", \"sku042\", \"sku044\", \"sku045\", \"sku046\", \"sku047\", \"sku049\", \"sku050\", \"sku051\", \"sku022\", \"sku023\", \"sku024\", \"sku025\", \"sku026\", \"sku027\", \"sku028\", \"sku029\", \"sku030\", \"sku031\", \"sku032\", \"sku033\", \"sku034\", \"sku035\", \"sku036\", \"sku037\", \"sku039\", \"sku040\", \"sku041\", \"sku042\", \"sku043\", \"sku044\", \"sku045\", \"sku047\", \"sku048\", \"sku049\", \"sku050\", \"sku051\", \"sku021\", \"sku022\", \"sku023\", \"sku024\", \"sku025\", \"sku026\", \"sku027\", \"sku028\", \"sku029\", \"sku030\", \"sku031\", \"sku033\", \"sku035\", \"sku036\", \"sku037\", \"sku038\", \"sku039\", \"sku041\", \"sku042\", \"sku043\", \"sku044\", \"sku045\", \"sku046\", \"sku047\", \"sku048\", \"sku049\", \"sku051\", \"sku021\", \"sku022\", \"sku023\", \"sku024\", \"sku025\", \"sku026\", \"sku027\", \"sku028\", \"sku029\", \"sku030\", \"sku031\", \"sku032\", \"sku033\", \"sku034\", \"sku035\", \"sku036\", \"sku037\", \"sku038\", \"sku039\", \"sku040\", \"sku041\", \"sku042\", \"sku043\", \"sku045\", \"sku046\", \"sku047\", \"sku048\", \"sku049\", \"sku050\", \"sku051\", \"sku021\", \"sku022\", \"sku023\", \"sku024\", \"sku025\", \"sku026\", \"sku027\", \"sku028\", \"sku029\", \"sku030\", \"sku031\", \"sku032\", \"sku033\", \"sku035\", \"sku036\", \"sku037\", \"sku039\", \"sku041\", \"sku042\", \"sku044\", \"sku045\", \"sku046\", \"sku047\", \"sku048\", \"sku049\", \"sku050\", \"sku051\", \"sku021\", \"sku022\", \"sku023\", \"sku024\", \"sku025\", \"sku026\", \"sku027\", \"sku028\", \"sku030\", \"sku031\", \"sku032\", \"sku033\", \"sku034\", \"sku035\", \"sku036\", \"sku038\", \"sku039\", \"sku041\", \"sku042\", \"sku043\", \"sku044\", \"sku045\", \"sku046\", \"sku047\", \"sku048\", \"sku049\", \"sku051\", \"sku021\", \"sku022\", \"sku023\", \"sku024\", \"sku025\", \"sku027\", \"sku028\", \"sku030\", \"sku032\", \"sku033\", \"sku035\", \"sku036\", \"sku037\", \"sku038\", \"sku039\", \"sku040\", \"sku042\", \"sku043\", \"sku044\", \"sku045\", \"sku046\", \"sku047\", \"sku048\", \"sku049\", \"sku050\", \"sku051\", \"sku021\", \"sku022\", \"sku024\", \"sku025\", \"sku026\", \"sku027\", \"sku028\", \"sku029\", \"sku030\", \"sku031\", \"sku032\", \"sku033\", \"sku034\", \"sku035\", \"sku036\", \"sku037\", \"sku038\", \"sku039\", \"sku040\", \"sku041\", \"sku042\", \"sku043\", \"sku044\", \"sku047\", \"sku048\", \"sku049\", \"sku050\", \"sku051\", \"sku021\", \"sku022\", \"sku023\", \"sku024\", \"sku025\", \"sku026\", \"sku028\", \"sku029\", \"sku030\", \"sku032\", \"sku034\", \"sku036\", \"sku038\", \"sku039\", \"sku040\", \"sku042\", \"sku043\", \"sku044\", \"sku046\", \"sku047\", \"sku048\", \"sku049\", \"sku050\", \"sku051\", \"sku021\", \"sku022\", \"sku023\", \"sku024\", \"sku025\", \"sku026\", \"sku027\", \"sku028\", \"sku029\", \"sku030\", \"sku031\", \"sku032\", \"sku033\", \"sku034\", \"sku036\", \"sku037\", \"sku038\", \"sku039\", \"sku040\", \"sku041\", \"sku043\", \"sku044\", \"sku045\", \"sku046\", \"sku047\", \"sku049\", \"sku051\", \"sku021\", \"sku022\", \"sku023\", \"sku025\", \"sku026\", \"sku027\", \"sku029\", \"sku030\", \"sku031\", \"sku032\", \"sku033\", \"sku034\", \"sku035\", \"sku036\", \"sku037\", \"sku038\", \"sku039\", \"sku041\", \"sku042\", \"sku043\", \"sku044\", \"sku045\", \"sku046\", \"sku047\", \"sku048\", \"sku049\", \"sku050\", \"sku051\", \"sku021\", \"sku022\", \"sku023\", \"sku024\", \"sku025\", \"sku027\", \"sku028\", \"sku029\", \"sku030\", \"sku033\", \"sku034\", \"sku035\", \"sku036\", \"sku037\", \"sku038\", \"sku039\", \"sku040\", \"sku041\", \"sku042\", \"sku043\", \"sku044\", \"sku045\", \"sku046\", \"sku047\", \"sku048\", \"sku049\", \"sku050\", \"sku051\", \"sku021\", \"sku022\", \"sku023\", \"sku024\", \"sku025\", \"sku026\", \"sku027\", \"sku028\", \"sku029\", \"sku030\", \"sku031\", \"sku032\", \"sku033\", \"sku034\", \"sku035\", \"sku036\", \"sku037\", \"sku038\", \"sku039\", \"sku040\", \"sku041\", \"sku042\", \"sku043\", \"sku044\", \"sku045\", \"sku046\", \"sku047\", \"sku048\", \"sku050\", \"sku051\", \"sku021\", \"sku022\", \"sku024\", \"sku025\", \"sku026\", \"sku027\", \"sku029\", \"sku030\", \"sku031\", \"sku032\", \"sku033\", \"sku034\", \"sku035\", \"sku037\", \"sku038\", \"sku039\", \"sku040\", \"sku041\", \"sku042\", \"sku043\", \"sku044\", \"sku045\", \"sku046\", \"sku047\", \"sku048\", \"sku049\", \"sku050\", \"sku051\", \"sku021\", \"sku022\", \"sku023\", \"sku025\", \"sku026\", \"sku027\", \"sku028\", \"sku030\", \"sku031\", \"sku032\", \"sku033\", \"sku034\", \"sku035\", \"sku036\", \"sku037\", \"sku039\", \"sku040\", \"sku041\", \"sku042\", \"sku043\", \"sku044\", \"sku045\", \"sku047\", \"sku048\", \"sku049\", \"sku050\", \"sku051\", \"sku021\", \"sku023\", \"sku024\", \"sku025\", \"sku026\", \"sku027\", \"sku028\", \"sku030\", \"sku031\", \"sku033\", \"sku034\", \"sku035\", \"sku036\", \"sku037\", \"sku038\", \"sku039\", \"sku040\", \"sku042\", \"sku043\", \"sku044\", \"sku045\", \"sku046\", \"sku047\", \"sku049\", \"sku050\", \"sku051\", \"sku022\", \"sku023\", \"sku024\", \"sku025\", \"sku026\", \"sku027\", \"sku028\", \"sku029\", \"sku031\", \"sku033\", \"sku034\", \"sku035\", \"sku036\", \"sku037\", \"sku038\", \"sku040\", \"sku041\", \"sku042\", \"sku044\", \"sku045\", \"sku046\", \"sku047\", \"sku048\", \"sku050\", \"sku051\", \"sku021\", \"sku023\", \"sku024\", \"sku025\", \"sku027\", \"sku028\", \"sku029\", \"sku030\", \"sku031\", \"sku032\", \"sku033\", \"sku034\", \"sku035\", \"sku036\", \"sku038\", \"sku039\", \"sku041\", \"sku043\", \"sku045\", \"sku046\", \"sku047\", \"sku048\", \"sku049\", \"sku050\", \"sku051\", \"sku021\", \"sku024\", \"sku025\", \"sku026\", \"sku027\", \"sku028\", \"sku029\", \"sku031\", \"sku032\", \"sku033\", \"sku034\", \"sku036\", \"sku037\", \"sku038\", \"sku039\", \"sku040\", \"sku043\", \"sku044\", \"sku045\", \"sku046\", \"sku047\", \"sku048\", \"sku049\", \"sku021\", \"sku022\", \"sku023\", \"sku024\", \"sku025\", \"sku026\", \"sku027\", \"sku029\", \"sku030\", \"sku031\", \"sku032\", \"sku033\", \"sku034\", \"sku035\", \"sku036\", \"sku037\", \"sku038\", \"sku039\", \"sku040\", \"sku041\", \"sku043\", \"sku044\", \"sku046\", \"sku047\", \"sku048\", \"sku049\", \"sku050\", \"sku051\", \"sku021\", \"sku022\", \"sku023\", \"sku025\", \"sku026\", \"sku027\", \"sku028\", \"sku029\", \"sku030\", \"sku031\", \"sku032\", \"sku033\", \"sku034\", \"sku035\", \"sku036\", \"sku037\", \"sku038\", \"sku039\", \"sku042\", \"sku043\", \"sku045\", \"sku046\", \"sku047\", \"sku048\", \"sku049\", \"sku050\", \"sku051\", \"sku021\", \"sku022\", \"sku023\", \"sku024\", \"sku025\", \"sku026\", \"sku027\", \"sku031\", \"sku032\", \"sku033\", \"sku034\", \"sku035\", \"sku036\", \"sku038\", \"sku041\", \"sku042\", \"sku043\", \"sku044\", \"sku045\", \"sku046\", \"sku047\", \"sku049\", \"sku051\", \"sku021\", \"sku022\", \"sku023\", \"sku024\", \"sku028\", \"sku029\", \"sku030\", \"sku031\", \"sku032\", \"sku033\", \"sku034\", \"sku035\", \"sku036\", \"sku037\", \"sku038\", \"sku040\", \"sku041\", \"sku042\", \"sku043\", \"sku044\", \"sku046\", \"sku047\", \"sku048\", \"sku049\", \"sku050\", \"sku051\", \"sku021\", \"sku023\", \"sku024\", \"sku025\", \"sku026\", \"sku027\", \"sku028\", \"sku029\", \"sku030\", \"sku031\", \"sku032\", \"sku034\", \"sku035\", \"sku036\", \"sku037\", \"sku038\", \"sku039\", \"sku040\", \"sku041\", \"sku042\", \"sku043\", \"sku044\", \"sku045\", \"sku046\", \"sku048\", \"sku049\", \"sku050\", \"sku051\", \"sku021\", \"sku022\", \"sku023\", \"sku025\", \"sku026\", \"sku027\", \"sku028\"], \"y\": [18.0, 3.0, 9.0, 8.0, 1.0, 7.0, 6.0, 6.0, 1.0, 13.0, 9.0, 15.0, 19.0, 10.0, 19.0, 11.0, 18.0, 12.0, 12.0, 20.0, 19.0, 5.0, 8.0, 12.0, 14.0, 17.0, 18.0, 16.0, 6.0, 19.0, 11.0, 12.0, 18.0, 3.0, 19.0, 14.0, 15.0, 13.0, 1.0, 15.0, 8.0, 18.0, 14.0, 7.0, 12.0, 16.0, 10.0, 1.0, 15.0, 6.0, 17.0, 13.0, 4.0, 3.0, 7.0, 12.0, 14.0, 7.0, 13.0, 20.0, 12.0, 3.0, 13.0, 11.0, 19.0, 18.0, 9.0, 13.0, 2.0, 8.0, 13.0, 3.0, 10.0, 15.0, 18.0, 16.0, 5.0, 15.0, 9.0, 2.0, 14.0, 20.0, 15.0, 20.0, 3.0, 3.0, 12.0, 6.0, 10.0, 9.0, 7.0, 6.0, 5.0, 5.0, 18.0, 17.0, 9.0, 15.0, 18.0, 13.0, 14.0, 15.0, 8.0, 8.0, 11.0, 16.0, 9.0, 5.0, 19.0, 5.0, 3.0, 2.0, 17.0, 5.0, 4.0, 11.0, 12.0, 20.0, 2.0, 10.0, 5.0, 8.0, 13.0, 7.0, 18.0, 3.0, 1.0, 8.0, 16.0, 16.0, 5.0, 4.0, 1.0, 13.0, 3.0, 6.0, 10.0, 18.0, 1.0, 15.0, 3.0, 7.0, 19.0, 17.0, 12.0, 11.0, 3.0, 20.0, 5.0, 12.0, 13.0, 15.0, 13.0, 6.0, 13.0, 18.0, 1.0, 16.0, 7.0, 7.0, 4.0, 4.0, 15.0, 6.0, 6.0, 15.0, 2.0, 2.0, 15.0, 8.0, 17.0, 11.0, 11.0, 20.0, 19.0, 19.0, 15.0, 4.0, 9.0, 15.0, 7.0, 7.0, 6.0, 9.0, 8.0, 15.0, 13.0, 12.0, 4.0, 17.0, 7.0, 7.0, 16.0, 12.0, 17.0, 4.0, 1.0, 20.0, 2.0, 15.0, 4.0, 6.0, 12.0, 8.0, 3.0, 8.0, 8.0, 4.0, 8.0, 13.0, 2.0, 16.0, 9.0, 19.0, 4.0, 1.0, 15.0, 14.0, 12.0, 14.0, 12.0, 16.0, 20.0, 1.0, 16.0, 11.0, 17.0, 5.0, 1.0, 9.0, 16.0, 9.0, 16.0, 20.0, 14.0, 15.0, 12.0, 11.0, 17.0, 4.0, 19.0, 20.0, 5.0, 15.0, 12.0, 3.0, 4.0, 19.0, 2.0, 7.0, 15.0, 10.0, 16.0, 20.0, 10.0, 8.0, 11.0, 9.0, 19.0, 12.0, 16.0, 19.0, 6.0, 1.0, 1.0, 10.0, 14.0, 8.0, 7.0, 1.0, 12.0, 5.0, 14.0, 10.0, 13.0, 8.0, 15.0, 8.0, 3.0, 18.0, 11.0, 14.0, 5.0, 14.0, 14.0, 8.0, 1.0, 12.0, 6.0, 3.0, 3.0, 15.0, 8.0, 14.0, 10.0, 13.0, 10.0, 20.0, 5.0, 7.0, 5.0, 14.0, 18.0, 3.0, 13.0, 4.0, 20.0, 15.0, 5.0, 13.0, 3.0, 19.0, 11.0, 10.0, 12.0, 20.0, 17.0, 11.0, 3.0, 10.0, 17.0, 3.0, 11.0, 6.0, 11.0, 18.0, 3.0, 20.0, 2.0, 18.0, 13.0, 9.0, 14.0, 2.0, 1.0, 16.0, 9.0, 1.0, 11.0, 19.0, 13.0, 20.0, 11.0, 14.0, 11.0, 16.0, 20.0, 3.0, 17.0, 11.0, 20.0, 9.0, 10.0, 6.0, 3.0, 10.0, 18.0, 19.0, 10.0, 3.0, 10.0, 3.0, 1.0, 11.0, 6.0, 12.0, 11.0, 19.0, 7.0, 20.0, 3.0, 1.0, 2.0, 7.0, 13.0, 9.0, 16.0, 17.0, 14.0, 5.0, 17.0, 6.0, 2.0, 20.0, 20.0, 19.0, 16.0, 20.0, 18.0, 15.0, 10.0, 14.0, 1.0, 10.0, 6.0, 15.0, 15.0, 19.0, 20.0, 20.0, 16.0, 12.0, 15.0, 16.0, 9.0, 5.0, 13.0, 7.0, 10.0, 1.0, 9.0, 13.0, 4.0, 14.0, 2.0, 8.0, 19.0, 8.0, 6.0, 4.0, 6.0, 7.0, 14.0, 15.0, 9.0, 12.0, 19.0, 18.0, 19.0, 10.0, 14.0, 15.0, 1.0, 3.0, 19.0, 16.0, 10.0, 1.0, 14.0, 9.0, 5.0, 20.0, 2.0, 5.0, 9.0, 19.0, 11.0, 5.0, 9.0, 16.0, 7.0, 3.0, 1.0, 14.0, 16.0, 14.0, 19.0, 17.0, 6.0, 6.0, 11.0, 14.0, 11.0, 3.0, 19.0, 18.0, 12.0, 12.0, 3.0, 8.0, 1.0, 13.0, 10.0, 6.0, 13.0, 13.0, 4.0, 5.0, 20.0, 7.0, 19.0, 7.0, 16.0, 17.0, 8.0, 13.0, 18.0, 11.0, 4.0, 2.0, 6.0, 15.0, 8.0, 15.0, 12.0, 10.0, 1.0, 14.0, 9.0, 6.0, 5.0, 5.0, 3.0, 12.0, 8.0, 9.0, 13.0, 2.0, 12.0, 19.0, 14.0, 9.0, 13.0, 20.0, 9.0, 6.0, 6.0, 20.0, 16.0, 1.0, 13.0, 12.0, 8.0, 12.0, 15.0, 18.0, 12.0, 18.0, 11.0, 2.0, 3.0, 8.0, 13.0, 17.0, 18.0, 13.0, 14.0, 8.0, 15.0, 18.0, 7.0, 14.0, 10.0, 1.0, 10.0, 16.0, 14.0, 19.0, 18.0, 3.0, 14.0, 2.0, 2.0, 3.0, 9.0, 8.0, 5.0, 12.0, 10.0, 4.0, 17.0, 11.0, 4.0, 1.0, 17.0, 20.0, 5.0, 13.0, 18.0, 11.0, 1.0, 10.0, 18.0, 7.0, 19.0, 14.0, 2.0, 3.0, 4.0, 1.0, 4.0, 17.0, 19.0, 7.0, 20.0, 16.0, 16.0, 13.0, 6.0, 11.0, 9.0, 18.0, 15.0, 15.0, 11.0, 14.0, 15.0, 2.0, 9.0, 9.0, 15.0, 15.0, 4.0, 15.0, 14.0, 17.0, 17.0, 5.0, 20.0, 3.0, 1.0, 17.0, 6.0, 19.0, 4.0, 9.0, 8.0, 4.0, 11.0, 12.0, 5.0, 19.0, 15.0, 2.0, 2.0, 12.0, 19.0, 19.0, 15.0, 7.0, 15.0, 19.0, 7.0, 20.0, 7.0, 9.0, 1.0, 1.0, 1.0, 18.0, 17.0, 4.0, 19.0, 13.0, 7.0, 12.0, 11.0, 4.0, 7.0, 15.0, 4.0, 17.0, 7.0, 7.0, 16.0, 8.0, 19.0, 13.0, 20.0, 7.0, 12.0, 17.0, 19.0, 8.0, 5.0, 19.0, 16.0, 13.0, 3.0, 16.0, 2.0, 14.0, 14.0, 15.0, 13.0, 5.0, 2.0, 5.0, 3.0, 5.0, 7.0, 6.0, 3.0, 2.0, 17.0, 18.0, 11.0, 15.0, 2.0, 3.0, 11.0, 4.0, 6.0, 12.0, 17.0, 12.0, 18.0, 13.0, 14.0, 19.0, 18.0, 18.0, 11.0, 9.0, 1.0, 15.0, 16.0, 10.0, 4.0, 18.0, 16.0, 18.0, 18.0, 10.0, 7.0, 7.0, 6.0, 13.0, 13.0, 17.0, 15.0, 8.0, 14.0, 6.0, 11.0, 15.0, 13.0, 10.0, 16.0, 8.0, 8.0, 3.0, 7.0, 3.0, 20.0, 6.0, 7.0, 9.0, 3.0, 14.0, 13.0, 14.0, 17.0, 4.0, 19.0, 15.0, 9.0, 15.0, 7.0, 8.0, 11.0, 7.0, 3.0, 20.0, 8.0, 1.0, 4.0, 20.0, 2.0, 15.0, 15.0, 14.0, 15.0, 11.0, 3.0, 19.0, 13.0, 12.0, 6.0, 16.0, 20.0, 10.0, 5.0, 14.0, 16.0, 14.0, 16.0, 7.0, 4.0, 19.0, 1.0, 6.0, 3.0, 14.0, 14.0, 12.0, 7.0, 6.0, 9.0, 8.0, 9.0, 2.0, 17.0, 11.0, 20.0, 12.0, 2.0, 7.0, 11.0, 15.0, 17.0, 7.0, 16.0, 1.0, 11.0, 6.0, 11.0, 2.0, 17.0, 19.0, 9.0, 8.0, 9.0, 14.0, 3.0, 1.0, 8.0, 1.0, 11.0, 11.0, 7.0, 10.0, 5.0, 18.0, 4.0, 8.0, 15.0, 9.0, 16.0, 14.0, 4.0, 20.0, 14.0, 5.0, 8.0, 4.0, 9.0, 12.0, 11.0, 8.0, 16.0, 20.0, 12.0, 1.0, 12.0, 14.0, 2.0, 15.0, 11.0, 14.0, 19.0, 1.0, 8.0, 1.0, 13.0, 15.0, 9.0, 10.0, 7.0, 3.0, 7.0, 2.0, 2.0, 12.0, 5.0, 2.0, 20.0, 19.0, 15.0, 3.0, 16.0, 2.0, 16.0, 14.0, 7.0, 6.0, 12.0, 18.0, 11.0, 17.0, 18.0, 12.0, 19.0, 7.0, 15.0, 8.0, 11.0, 1.0, 3.0, 19.0, 18.0, 5.0, 2.0, 1.0, 14.0, 1.0, 3.0, 20.0, 17.0, 4.0, 5.0, 10.0, 18.0, 1.0, 20.0, 15.0, 2.0, 20.0, 5.0, 2.0, 11.0, 9.0, 13.0, 4.0, 14.0, 9.0, 18.0, 9.0, 4.0, 7.0, 12.0, 13.0, 11.0, 10.0, 18.0, 19.0, 7.0, 2.0, 19.0, 1.0, 1.0, 11.0, 1.0, 17.0, 7.0, 1.0, 11.0, 2.0, 18.0, 20.0, 12.0, 13.0, 1.0, 6.0, 8.0, 14.0, 1.0, 9.0, 15.0, 3.0, 7.0, 5.0, 11.0, 1.0, 9.0, 15.0, 10.0, 8.0, 5.0, 2.0, 14.0, 15.0, 6.0, 5.0, 5.0, 2.0, 12.0, 8.0, 10.0, 9.0, 9.0, 11.0, 17.0, 18.0, 18.0, 15.0, 2.0, 7.0, 2.0, 13.0, 20.0, 11.0, 8.0, 19.0, 13.0, 9.0, 7.0, 1.0, 2.0, 7.0, 11.0, 19.0, 14.0, 12.0, 10.0, 14.0, 9.0, 7.0, 1.0, 10.0, 3.0, 6.0, 20.0, 3.0, 10.0, 7.0, 14.0, 15.0, 16.0, 18.0, 13.0, 5.0, 12.0, 17.0, 7.0, 13.0, 7.0, 12.0, 9.0, 7.0, 5.0, 4.0, 18.0, 13.0, 20.0, 6.0, 5.0, 19.0, 19.0, 2.0, 19.0, 18.0, 10.0, 19.0, 16.0, 11.0, 20.0, 5.0, 4.0, 14.0, 6.0, 6.0, 3.0, 11.0, 11.0, 6.0, 2.0, 17.0, 16.0, 10.0, 11.0, 8.0, 20.0, 19.0, 16.0, 5.0, 16.0, 11.0, 12.0, 5.0, 19.0, 15.0, 8.0, 12.0, 8.0, 4.0, 20.0, 9.0, 6.0, 13.0, 13.0, 10.0, 4.0, 2.0, 11.0, 20.0, 5.0, 20.0, 9.0, 7.0, 19.0, 17.0, 5.0, 15.0, 11.0, 18.0, 5.0, 15.0, 13.0, 2.0, 12.0, 5.0, 17.0, 10.0, 1.0, 16.0, 12.0, 18.0, 19.0, 14.0, 14.0, 6.0, 7.0, 12.0, 7.0, 7.0, 1.0, 9.0, 3.0, 2.0, 18.0, 11.0, 8.0, 8.0, 17.0, 1.0, 3.0, 6.0, 19.0, 3.0, 15.0, 4.0, 18.0, 7.0, 5.0, 12.0, 20.0, 18.0, 7.0, 12.0, 1.0, 17.0, 7.0, 5.0, 20.0, 15.0, 14.0, 7.0, 19.0, 18.0, 9.0, 8.0, 8.0, 15.0, 13.0, 19.0, 5.0, 19.0, 20.0, 3.0, 18.0, 16.0, 14.0, 19.0, 11.0, 1.0, 13.0, 1.0, 20.0, 15.0, 19.0, 12.0, 10.0, 18.0, 5.0, 9.0, 4.0, 7.0, 2.0, 10.0, 9.0, 19.0, 14.0, 19.0, 15.0, 17.0, 10.0, 20.0, 18.0, 20.0, 10.0, 18.0, 13.0, 20.0, 12.0, 3.0, 1.0, 18.0, 2.0, 6.0, 9.0, 15.0, 8.0, 20.0, 12.0, 3.0, 2.0, 18.0, 20.0, 10.0, 7.0, 9.0, 13.0, 7.0, 10.0, 6.0, 14.0, 2.0, 11.0, 16.0, 9.0, 18.0, 5.0, 16.0, 12.0, 5.0, 18.0, 17.0, 1.0, 7.0, 6.0, 1.0, 20.0, 14.0, 2.0, 20.0, 17.0, 3.0, 1.0, 3.0, 19.0, 18.0, 2.0, 20.0, 13.0, 11.0, 11.0, 4.0, 1.0, 7.0, 2.0, 10.0, 4.0, 14.0, 10.0, 10.0, 14.0, 12.0, 15.0, 16.0, 18.0, 8.0, 7.0, 19.0, 10.0, 19.0, 4.0, 4.0, 11.0, 14.0, 1.0, 3.0, 5.0, 18.0, 20.0, 5.0, 8.0, 1.0, 2.0, 16.0, 18.0, 10.0, 14.0, 13.0, 6.0, 17.0, 16.0, 18.0, 9.0, 5.0, 1.0, 4.0, 9.0, 2.0, 7.0, 20.0, 10.0, 10.0, 18.0, 4.0, 20.0, 6.0, 5.0, 5.0, 4.0, 5.0, 17.0, 4.0, 6.0, 9.0, 16.0, 10.0, 14.0, 12.0, 14.0, 20.0, 6.0, 18.0, 6.0, 11.0, 12.0, 19.0, 13.0, 19.0, 20.0, 1.0, 6.0, 4.0, 10.0, 4.0, 7.0, 7.0, 14.0, 17.0, 14.0, 10.0, 7.0, 20.0, 10.0, 6.0, 3.0, 13.0, 5.0, 2.0, 5.0, 2.0, 17.0, 9.0, 7.0, 13.0, 17.0, 4.0, 10.0, 18.0, 4.0, 7.0, 16.0, 3.0, 4.0, 7.0, 1.0, 18.0, 20.0, 11.0, 19.0, 2.0, 7.0, 2.0, 6.0, 14.0, 6.0, 17.0, 13.0, 1.0, 6.0, 6.0, 4.0, 17.0, 10.0, 3.0, 11.0, 10.0, 13.0, 11.0, 8.0, 10.0, 14.0, 14.0, 6.0, 7.0, 13.0, 1.0, 17.0, 19.0, 8.0, 6.0, 20.0, 11.0, 1.0, 9.0, 14.0, 15.0, 15.0, 7.0, 16.0, 7.0, 6.0, 6.0, 5.0, 16.0, 13.0, 2.0, 18.0, 9.0, 8.0, 15.0, 7.0, 7.0, 13.0, 15.0, 2.0, 4.0, 20.0, 2.0, 7.0, 4.0, 12.0, 1.0, 8.0, 2.0, 6.0, 19.0, 16.0, 10.0, 15.0, 18.0, 19.0, 12.0, 15.0, 2.0, 4.0, 10.0, 6.0, 15.0, 4.0, 18.0, 17.0, 13.0, 20.0, 18.0, 11.0, 11.0, 15.0, 15.0, 2.0, 17.0, 11.0, 10.0, 3.0, 4.0, 1.0, 19.0, 2.0, 15.0, 2.0, 6.0, 2.0, 17.0, 10.0, 1.0, 10.0, 10.0, 8.0, 5.0, 16.0, 11.0, 11.0, 14.0, 10.0, 20.0, 1.0, 4.0, 14.0, 13.0, 18.0, 15.0, 3.0, 2.0, 3.0, 9.0, 10.0, 15.0, 18.0, 16.0, 1.0, 12.0, 5.0, 7.0, 8.0, 9.0, 3.0, 7.0, 7.0, 11.0, 5.0, 10.0, 6.0, 17.0, 11.0, 19.0, 11.0, 13.0, 14.0, 19.0, 3.0, 7.0, 15.0, 4.0, 5.0, 3.0, 20.0, 17.0, 19.0, 14.0, 20.0, 14.0, 12.0, 8.0, 18.0, 5.0, 20.0, 1.0, 3.0, 6.0, 5.0, 3.0, 10.0, 1.0, 13.0, 17.0, 5.0, 4.0, 13.0, 1.0, 13.0, 13.0, 11.0, 2.0, 14.0, 13.0, 7.0, 4.0, 15.0, 1.0, 15.0, 7.0, 5.0, 19.0, 16.0, 8.0, 4.0, 16.0, 10.0, 14.0, 4.0, 20.0, 11.0, 7.0, 12.0, 20.0, 15.0, 9.0, 5.0, 12.0, 20.0, 18.0, 20.0, 20.0, 15.0, 16.0, 18.0, 8.0, 14.0, 7.0, 20.0, 17.0, 10.0, 1.0, 7.0, 20.0, 11.0, 8.0, 10.0, 3.0, 8.0, 4.0, 1.0, 1.0, 8.0, 4.0, 20.0, 5.0, 4.0, 3.0, 16.0, 7.0, 5.0, 3.0, 3.0, 12.0, 4.0, 3.0, 10.0, 4.0, 17.0, 6.0, 11.0, 9.0, 20.0, 17.0, 17.0, 2.0, 20.0, 11.0, 10.0, 16.0, 10.0, 9.0, 3.0, 16.0, 20.0, 8.0, 2.0, 6.0, 18.0, 20.0, 15.0, 15.0, 11.0, 6.0, 5.0, 14.0, 7.0, 6.0, 2.0, 19.0, 4.0, 19.0, 13.0, 14.0, 16.0, 7.0, 2.0, 4.0, 18.0, 2.0, 3.0, 16.0, 8.0, 2.0, 11.0, 5.0, 16.0, 9.0, 5.0, 15.0, 6.0, 15.0, 11.0, 15.0, 1.0, 14.0, 4.0, 2.0, 16.0, 14.0, 18.0, 14.0, 19.0, 1.0, 12.0, 10.0, 13.0, 13.0, 10.0, 10.0, 12.0, 2.0, 13.0, 12.0, 13.0, 14.0, 16.0, 10.0, 16.0, 16.0, 2.0, 2.0, 18.0, 16.0, 5.0, 3.0, 5.0, 18.0, 7.0, 10.0, 10.0, 4.0, 20.0, 10.0, 11.0, 7.0, 13.0, 9.0, 13.0, 19.0, 19.0, 7.0, 11.0, 2.0, 9.0, 14.0, 16.0, 11.0, 17.0, 6.0, 17.0, 1.0, 3.0, 11.0, 16.0, 2.0, 9.0, 2.0, 3.0, 3.0, 18.0, 7.0, 1.0, 10.0, 15.0, 3.0, 13.0, 9.0]}],\n",
              "                        {\"template\": {\"data\": {\"bar\": [{\"error_x\": {\"color\": \"#2a3f5f\"}, \"error_y\": {\"color\": \"#2a3f5f\"}, \"marker\": {\"line\": {\"color\": \"#E5ECF6\", \"width\": 0.5}}, \"type\": \"bar\"}], \"barpolar\": [{\"marker\": {\"line\": {\"color\": \"#E5ECF6\", \"width\": 0.5}}, \"type\": \"barpolar\"}], \"carpet\": [{\"aaxis\": {\"endlinecolor\": \"#2a3f5f\", \"gridcolor\": \"white\", \"linecolor\": \"white\", \"minorgridcolor\": \"white\", \"startlinecolor\": \"#2a3f5f\"}, \"baxis\": {\"endlinecolor\": \"#2a3f5f\", \"gridcolor\": \"white\", \"linecolor\": \"white\", \"minorgridcolor\": \"white\", \"startlinecolor\": \"#2a3f5f\"}, \"type\": \"carpet\"}], \"choropleth\": [{\"colorbar\": {\"outlinewidth\": 0, \"ticks\": \"\"}, \"type\": \"choropleth\"}], \"contour\": [{\"colorbar\": {\"outlinewidth\": 0, \"ticks\": \"\"}, \"colorscale\": [[0.0, \"#0d0887\"], [0.1111111111111111, \"#46039f\"], [0.2222222222222222, \"#7201a8\"], [0.3333333333333333, \"#9c179e\"], [0.4444444444444444, \"#bd3786\"], [0.5555555555555556, \"#d8576b\"], [0.6666666666666666, \"#ed7953\"], [0.7777777777777778, \"#fb9f3a\"], [0.8888888888888888, \"#fdca26\"], [1.0, \"#f0f921\"]], \"type\": \"contour\"}], \"contourcarpet\": [{\"colorbar\": {\"outlinewidth\": 0, \"ticks\": \"\"}, \"type\": \"contourcarpet\"}], \"heatmap\": [{\"colorbar\": {\"outlinewidth\": 0, \"ticks\": \"\"}, \"colorscale\": [[0.0, \"#0d0887\"], [0.1111111111111111, \"#46039f\"], [0.2222222222222222, \"#7201a8\"], [0.3333333333333333, \"#9c179e\"], [0.4444444444444444, \"#bd3786\"], [0.5555555555555556, \"#d8576b\"], [0.6666666666666666, \"#ed7953\"], [0.7777777777777778, \"#fb9f3a\"], [0.8888888888888888, \"#fdca26\"], [1.0, \"#f0f921\"]], \"type\": \"heatmap\"}], \"heatmapgl\": [{\"colorbar\": {\"outlinewidth\": 0, \"ticks\": \"\"}, \"colorscale\": [[0.0, \"#0d0887\"], [0.1111111111111111, \"#46039f\"], [0.2222222222222222, \"#7201a8\"], [0.3333333333333333, \"#9c179e\"], [0.4444444444444444, \"#bd3786\"], [0.5555555555555556, \"#d8576b\"], [0.6666666666666666, \"#ed7953\"], [0.7777777777777778, \"#fb9f3a\"], [0.8888888888888888, \"#fdca26\"], [1.0, \"#f0f921\"]], \"type\": \"heatmapgl\"}], \"histogram\": [{\"marker\": {\"colorbar\": {\"outlinewidth\": 0, \"ticks\": \"\"}}, \"type\": \"histogram\"}], \"histogram2d\": [{\"colorbar\": {\"outlinewidth\": 0, \"ticks\": \"\"}, \"colorscale\": [[0.0, \"#0d0887\"], [0.1111111111111111, \"#46039f\"], [0.2222222222222222, \"#7201a8\"], [0.3333333333333333, \"#9c179e\"], [0.4444444444444444, \"#bd3786\"], [0.5555555555555556, \"#d8576b\"], [0.6666666666666666, \"#ed7953\"], [0.7777777777777778, \"#fb9f3a\"], [0.8888888888888888, \"#fdca26\"], [1.0, \"#f0f921\"]], \"type\": \"histogram2d\"}], \"histogram2dcontour\": [{\"colorbar\": {\"outlinewidth\": 0, \"ticks\": \"\"}, \"colorscale\": [[0.0, \"#0d0887\"], [0.1111111111111111, \"#46039f\"], [0.2222222222222222, \"#7201a8\"], [0.3333333333333333, \"#9c179e\"], [0.4444444444444444, \"#bd3786\"], [0.5555555555555556, \"#d8576b\"], [0.6666666666666666, \"#ed7953\"], [0.7777777777777778, \"#fb9f3a\"], [0.8888888888888888, \"#fdca26\"], [1.0, \"#f0f921\"]], \"type\": \"histogram2dcontour\"}], \"mesh3d\": [{\"colorbar\": {\"outlinewidth\": 0, \"ticks\": \"\"}, \"type\": \"mesh3d\"}], \"parcoords\": [{\"line\": {\"colorbar\": {\"outlinewidth\": 0, \"ticks\": \"\"}}, \"type\": \"parcoords\"}], \"pie\": [{\"automargin\": true, \"type\": \"pie\"}], \"scatter\": [{\"marker\": {\"colorbar\": {\"outlinewidth\": 0, \"ticks\": \"\"}}, \"type\": \"scatter\"}], \"scatter3d\": [{\"line\": {\"colorbar\": {\"outlinewidth\": 0, \"ticks\": \"\"}}, \"marker\": {\"colorbar\": {\"outlinewidth\": 0, \"ticks\": \"\"}}, \"type\": \"scatter3d\"}], \"scattercarpet\": [{\"marker\": {\"colorbar\": {\"outlinewidth\": 0, \"ticks\": \"\"}}, \"type\": \"scattercarpet\"}], \"scattergeo\": [{\"marker\": {\"colorbar\": {\"outlinewidth\": 0, \"ticks\": \"\"}}, \"type\": \"scattergeo\"}], \"scattergl\": [{\"marker\": {\"colorbar\": {\"outlinewidth\": 0, \"ticks\": \"\"}}, \"type\": \"scattergl\"}], \"scattermapbox\": [{\"marker\": {\"colorbar\": {\"outlinewidth\": 0, \"ticks\": \"\"}}, \"type\": \"scattermapbox\"}], \"scatterpolar\": [{\"marker\": {\"colorbar\": {\"outlinewidth\": 0, \"ticks\": \"\"}}, \"type\": \"scatterpolar\"}], \"scatterpolargl\": [{\"marker\": {\"colorbar\": {\"outlinewidth\": 0, \"ticks\": \"\"}}, \"type\": \"scatterpolargl\"}], \"scatterternary\": [{\"marker\": {\"colorbar\": {\"outlinewidth\": 0, \"ticks\": \"\"}}, \"type\": \"scatterternary\"}], \"surface\": [{\"colorbar\": {\"outlinewidth\": 0, \"ticks\": \"\"}, \"colorscale\": [[0.0, \"#0d0887\"], [0.1111111111111111, \"#46039f\"], [0.2222222222222222, \"#7201a8\"], [0.3333333333333333, \"#9c179e\"], [0.4444444444444444, \"#bd3786\"], [0.5555555555555556, \"#d8576b\"], [0.6666666666666666, \"#ed7953\"], [0.7777777777777778, \"#fb9f3a\"], [0.8888888888888888, \"#fdca26\"], [1.0, \"#f0f921\"]], \"type\": \"surface\"}], \"table\": [{\"cells\": {\"fill\": {\"color\": \"#EBF0F8\"}, \"line\": {\"color\": \"white\"}}, \"header\": {\"fill\": {\"color\": \"#C8D4E3\"}, \"line\": {\"color\": \"white\"}}, \"type\": \"table\"}]}, \"layout\": {\"annotationdefaults\": {\"arrowcolor\": \"#2a3f5f\", \"arrowhead\": 0, \"arrowwidth\": 1}, \"coloraxis\": {\"colorbar\": {\"outlinewidth\": 0, \"ticks\": \"\"}}, \"colorscale\": {\"diverging\": [[0, \"#8e0152\"], [0.1, \"#c51b7d\"], [0.2, \"#de77ae\"], [0.3, \"#f1b6da\"], [0.4, \"#fde0ef\"], [0.5, \"#f7f7f7\"], [0.6, \"#e6f5d0\"], [0.7, \"#b8e186\"], [0.8, \"#7fbc41\"], [0.9, \"#4d9221\"], [1, \"#276419\"]], \"sequential\": [[0.0, \"#0d0887\"], [0.1111111111111111, \"#46039f\"], [0.2222222222222222, \"#7201a8\"], [0.3333333333333333, \"#9c179e\"], [0.4444444444444444, \"#bd3786\"], [0.5555555555555556, \"#d8576b\"], [0.6666666666666666, \"#ed7953\"], [0.7777777777777778, \"#fb9f3a\"], [0.8888888888888888, \"#fdca26\"], [1.0, \"#f0f921\"]], \"sequentialminus\": [[0.0, \"#0d0887\"], [0.1111111111111111, \"#46039f\"], [0.2222222222222222, \"#7201a8\"], [0.3333333333333333, \"#9c179e\"], [0.4444444444444444, \"#bd3786\"], [0.5555555555555556, \"#d8576b\"], [0.6666666666666666, \"#ed7953\"], [0.7777777777777778, \"#fb9f3a\"], [0.8888888888888888, \"#fdca26\"], [1.0, \"#f0f921\"]]}, \"colorway\": [\"#636efa\", \"#EF553B\", \"#00cc96\", \"#ab63fa\", \"#FFA15A\", \"#19d3f3\", \"#FF6692\", \"#B6E880\", \"#FF97FF\", \"#FECB52\"], \"font\": {\"color\": \"#2a3f5f\"}, \"geo\": {\"bgcolor\": \"white\", \"lakecolor\": \"white\", \"landcolor\": \"#E5ECF6\", \"showlakes\": true, \"showland\": true, \"subunitcolor\": \"white\"}, \"hoverlabel\": {\"align\": \"left\"}, \"hovermode\": \"closest\", \"mapbox\": {\"style\": \"light\"}, \"paper_bgcolor\": \"white\", \"plot_bgcolor\": \"#E5ECF6\", \"polar\": {\"angularaxis\": {\"gridcolor\": \"white\", \"linecolor\": \"white\", \"ticks\": \"\"}, \"bgcolor\": \"#E5ECF6\", \"radialaxis\": {\"gridcolor\": \"white\", \"linecolor\": \"white\", \"ticks\": \"\"}}, \"scene\": {\"xaxis\": {\"backgroundcolor\": \"#E5ECF6\", \"gridcolor\": \"white\", \"gridwidth\": 2, \"linecolor\": \"white\", \"showbackground\": true, \"ticks\": \"\", \"zerolinecolor\": \"white\"}, \"yaxis\": {\"backgroundcolor\": \"#E5ECF6\", \"gridcolor\": \"white\", \"gridwidth\": 2, \"linecolor\": \"white\", \"showbackground\": true, \"ticks\": \"\", \"zerolinecolor\": \"white\"}, \"zaxis\": {\"backgroundcolor\": \"#E5ECF6\", \"gridcolor\": \"white\", \"gridwidth\": 2, \"linecolor\": \"white\", \"showbackground\": true, \"ticks\": \"\", \"zerolinecolor\": \"white\"}}, \"shapedefaults\": {\"line\": {\"color\": \"#2a3f5f\"}}, \"ternary\": {\"aaxis\": {\"gridcolor\": \"white\", \"linecolor\": \"white\", \"ticks\": \"\"}, \"baxis\": {\"gridcolor\": \"white\", \"linecolor\": \"white\", \"ticks\": \"\"}, \"bgcolor\": \"#E5ECF6\", \"caxis\": {\"gridcolor\": \"white\", \"linecolor\": \"white\", \"ticks\": \"\"}}, \"title\": {\"x\": 0.05}, \"xaxis\": {\"automargin\": true, \"gridcolor\": \"white\", \"linecolor\": \"white\", \"ticks\": \"\", \"title\": {\"standoff\": 15}, \"zerolinecolor\": \"white\", \"zerolinewidth\": 2}, \"yaxis\": {\"automargin\": true, \"gridcolor\": \"white\", \"linecolor\": \"white\", \"ticks\": \"\", \"title\": {\"standoff\": 15}, \"zerolinecolor\": \"white\", \"zerolinewidth\": 2}}}, \"title\": {\"text\": \"Quantity Sold Distribution per Product SKU\"}, \"xaxis\": {\"title\": {\"text\": \"Product SKU\"}}, \"yaxis\": {\"title\": {\"text\": \"QTY Sold\"}}},\n",
              "                        {\"responsive\": true}\n",
              "                    ).then(function(){\n",
              "                            \n",
              "var gd = document.getElementById('8ad2063a-a6a5-4a79-a9d6-da285be9a4d8');\n",
              "var x = new MutationObserver(function (mutations, observer) {{\n",
              "        var display = window.getComputedStyle(gd).display;\n",
              "        if (!display || display === 'none') {{\n",
              "            console.log([gd, 'removed!']);\n",
              "            Plotly.purge(gd);\n",
              "            observer.disconnect();\n",
              "        }}\n",
              "}});\n",
              "\n",
              "// Listen for the removal of the full notebook cells\n",
              "var notebookContainer = gd.closest('#notebook-container');\n",
              "if (notebookContainer) {{\n",
              "    x.observe(notebookContainer, {childList: true});\n",
              "}}\n",
              "\n",
              "// Listen for the clearing of the current output cell\n",
              "var outputEl = gd.closest('.output');\n",
              "if (outputEl) {{\n",
              "    x.observe(outputEl, {childList: true});\n",
              "}}\n",
              "\n",
              "                        })\n",
              "                };\n",
              "                \n",
              "            </script>\n",
              "        </div>\n",
              "</body>\n",
              "</html>"
            ]
          },
          "metadata": {
            "tags": []
          }
        },
        {
          "output_type": "display_data",
          "data": {
            "text/html": [
              "<html>\n",
              "<head><meta charset=\"utf-8\" /></head>\n",
              "<body>\n",
              "    <div>\n",
              "            <script src=\"https://cdnjs.cloudflare.com/ajax/libs/mathjax/2.7.5/MathJax.js?config=TeX-AMS-MML_SVG\"></script><script type=\"text/javascript\">if (window.MathJax) {MathJax.Hub.Config({SVG: {font: \"STIX-Web\"}});}</script>\n",
              "                <script type=\"text/javascript\">window.PlotlyConfig = {MathJaxConfig: 'local'};</script>\n",
              "        <script src=\"https://cdn.plot.ly/plotly-latest.min.js\"></script>    \n",
              "            <div id=\"0d90c328-622f-463a-b62e-cd7580c091e7\" class=\"plotly-graph-div\" style=\"height:525px; width:100%;\"></div>\n",
              "            <script type=\"text/javascript\">\n",
              "                \n",
              "                    window.PLOTLYENV=window.PLOTLYENV || {};\n",
              "                    \n",
              "                if (document.getElementById(\"0d90c328-622f-463a-b62e-cd7580c091e7\")) {\n",
              "                    Plotly.newPlot(\n",
              "                        '0d90c328-622f-463a-b62e-cd7580c091e7',\n",
              "                        [{\"boxmean\": true, \"type\": \"box\", \"x\": [\"sku021\", \"sku022\", \"sku023\", \"sku024\", \"sku025\", \"sku026\", \"sku027\", \"sku028\", \"sku029\", \"sku030\", \"sku032\", \"sku033\", \"sku034\", \"sku035\", \"sku037\", \"sku041\", \"sku042\", \"sku044\", \"sku045\", \"sku046\", \"sku047\", \"sku048\", \"sku050\", \"sku051\", \"sku021\", \"sku022\", \"sku023\", \"sku024\", \"sku025\", \"sku026\", \"sku027\", \"sku028\", \"sku029\", \"sku030\", \"sku031\", \"sku032\", \"sku033\", \"sku035\", \"sku036\", \"sku037\", \"sku038\", \"sku039\", \"sku040\", \"sku042\", \"sku043\", \"sku044\", \"sku045\", \"sku046\", \"sku047\", \"sku049\", \"sku050\", \"sku051\", \"sku021\", \"sku022\", \"sku024\", \"sku025\", \"sku026\", \"sku027\", \"sku028\", \"sku029\", \"sku030\", \"sku031\", \"sku032\", \"sku033\", \"sku034\", \"sku035\", \"sku036\", \"sku037\", \"sku038\", \"sku039\", \"sku040\", \"sku042\", \"sku043\", \"sku044\", \"sku045\", \"sku046\", \"sku047\", \"sku048\", \"sku049\", \"sku050\", \"sku051\", \"sku021\", \"sku023\", \"sku024\", \"sku026\", \"sku027\", \"sku028\", \"sku030\", \"sku031\", \"sku032\", \"sku033\", \"sku035\", \"sku036\", \"sku037\", \"sku038\", \"sku039\", \"sku040\", \"sku041\", \"sku042\", \"sku043\", \"sku045\", \"sku046\", \"sku047\", \"sku048\", \"sku049\", \"sku050\", \"sku051\", \"sku022\", \"sku023\", \"sku024\", \"sku025\", \"sku026\", \"sku027\", \"sku028\", \"sku029\", \"sku030\", \"sku031\", \"sku032\", \"sku033\", \"sku034\", \"sku035\", \"sku036\", \"sku037\", \"sku038\", \"sku039\", \"sku040\", \"sku041\", \"sku042\", \"sku043\", \"sku044\", \"sku045\", \"sku046\", \"sku047\", \"sku048\", \"sku049\", \"sku050\", \"sku051\", \"sku021\", \"sku022\", \"sku023\", \"sku024\", \"sku025\", \"sku026\", \"sku027\", \"sku029\", \"sku030\", \"sku031\", \"sku032\", \"sku035\", \"sku036\", \"sku037\", \"sku038\", \"sku039\", \"sku041\", \"sku042\", \"sku043\", \"sku044\", \"sku046\", \"sku047\", \"sku048\", \"sku050\", \"sku051\", \"sku021\", \"sku022\", \"sku023\", \"sku024\", \"sku025\", \"sku026\", \"sku027\", \"sku029\", \"sku031\", \"sku032\", \"sku033\", \"sku034\", \"sku035\", \"sku036\", \"sku037\", \"sku038\", \"sku040\", \"sku041\", \"sku042\", \"sku044\", \"sku045\", \"sku046\", \"sku048\", \"sku049\", \"sku050\", \"sku021\", \"sku023\", \"sku024\", \"sku025\", \"sku026\", \"sku027\", \"sku028\", \"sku029\", \"sku030\", \"sku031\", \"sku032\", \"sku033\", \"sku034\", \"sku035\", \"sku036\", \"sku037\", \"sku038\", \"sku040\", \"sku041\", \"sku043\", \"sku044\", \"sku045\", \"sku046\", \"sku047\", \"sku048\", \"sku049\", \"sku050\", \"sku051\", \"sku022\", \"sku023\", \"sku024\", \"sku025\", \"sku026\", \"sku028\", \"sku029\", \"sku031\", \"sku032\", \"sku033\", \"sku034\", \"sku035\", \"sku036\", \"sku037\", \"sku039\", \"sku040\", \"sku041\", \"sku042\", \"sku043\", \"sku044\", \"sku045\", \"sku046\", \"sku049\", \"sku050\", \"sku051\", \"sku021\", \"sku022\", \"sku023\", \"sku024\", \"sku025\", \"sku026\", \"sku027\", \"sku028\", \"sku029\", \"sku030\", \"sku031\", \"sku032\", \"sku033\", \"sku034\", \"sku036\", \"sku038\", \"sku039\", \"sku040\", \"sku043\", \"sku044\", \"sku045\", \"sku046\", \"sku047\", \"sku048\", \"sku049\", \"sku050\", \"sku021\", \"sku022\", \"sku023\", \"sku024\", \"sku025\", \"sku026\", \"sku027\", \"sku028\", \"sku029\", \"sku030\", \"sku032\", \"sku033\", \"sku034\", \"sku035\", \"sku036\", \"sku037\", \"sku038\", \"sku039\", \"sku040\", \"sku041\", \"sku042\", \"sku043\", \"sku044\", \"sku045\", \"sku046\", \"sku047\", \"sku048\", \"sku049\", \"sku050\", \"sku051\", \"sku021\", \"sku022\", \"sku023\", \"sku024\", \"sku025\", \"sku027\", \"sku028\", \"sku029\", \"sku030\", \"sku031\", \"sku032\", \"sku035\", \"sku036\", \"sku037\", \"sku039\", \"sku040\", \"sku041\", \"sku042\", \"sku043\", \"sku044\", \"sku045\", \"sku046\", \"sku047\", \"sku048\", \"sku049\", \"sku050\", \"sku021\", \"sku022\", \"sku023\", \"sku025\", \"sku026\", \"sku027\", \"sku028\", \"sku030\", \"sku032\", \"sku033\", \"sku034\", \"sku035\", \"sku036\", \"sku041\", \"sku043\", \"sku044\", \"sku045\", \"sku046\", \"sku047\", \"sku048\", \"sku049\", \"sku050\", \"sku051\", \"sku021\", \"sku022\", \"sku023\", \"sku024\", \"sku025\", \"sku026\", \"sku027\", \"sku028\", \"sku029\", \"sku030\", \"sku032\", \"sku033\", \"sku034\", \"sku035\", \"sku036\", \"sku037\", \"sku038\", \"sku039\", \"sku041\", \"sku042\", \"sku043\", \"sku044\", \"sku045\", \"sku046\", \"sku047\", \"sku048\", \"sku050\", \"sku051\", \"sku022\", \"sku023\", \"sku025\", \"sku026\", \"sku027\", \"sku028\", \"sku030\", \"sku031\", \"sku033\", \"sku034\", \"sku035\", \"sku036\", \"sku037\", \"sku038\", \"sku039\", \"sku040\", \"sku041\", \"sku042\", \"sku043\", \"sku044\", \"sku045\", \"sku046\", \"sku047\", \"sku048\", \"sku050\", \"sku051\", \"sku021\", \"sku022\", \"sku024\", \"sku025\", \"sku026\", \"sku029\", \"sku030\", \"sku032\", \"sku033\", \"sku034\", \"sku035\", \"sku037\", \"sku038\", \"sku040\", \"sku041\", \"sku042\", \"sku043\", \"sku044\", \"sku045\", \"sku046\", \"sku047\", \"sku048\", \"sku049\", \"sku050\", \"sku051\", \"sku021\", \"sku022\", \"sku023\", \"sku024\", \"sku025\", \"sku026\", \"sku027\", \"sku028\", \"sku030\", \"sku031\", \"sku032\", \"sku033\", \"sku034\", \"sku035\", \"sku037\", \"sku039\", \"sku040\", \"sku041\", \"sku042\", \"sku044\", \"sku045\", \"sku046\", \"sku047\", \"sku048\", \"sku049\", \"sku050\", \"sku051\", \"sku021\", \"sku022\", \"sku024\", \"sku025\", \"sku026\", \"sku027\", \"sku028\", \"sku029\", \"sku030\", \"sku031\", \"sku032\", \"sku033\", \"sku034\", \"sku035\", \"sku036\", \"sku037\", \"sku038\", \"sku039\", \"sku040\", \"sku041\", \"sku042\", \"sku043\", \"sku044\", \"sku045\", \"sku046\", \"sku047\", \"sku048\", \"sku049\", \"sku050\", \"sku051\", \"sku021\", \"sku022\", \"sku023\", \"sku024\", \"sku025\", \"sku027\", \"sku029\", \"sku030\", \"sku031\", \"sku032\", \"sku033\", \"sku034\", \"sku035\", \"sku036\", \"sku037\", \"sku038\", \"sku039\", \"sku040\", \"sku041\", \"sku042\", \"sku043\", \"sku044\", \"sku045\", \"sku046\", \"sku047\", \"sku048\", \"sku049\", \"sku050\", \"sku051\", \"sku021\", \"sku022\", \"sku023\", \"sku026\", \"sku027\", \"sku028\", \"sku029\", \"sku030\", \"sku031\", \"sku033\", \"sku034\", \"sku035\", \"sku036\", \"sku037\", \"sku038\", \"sku039\", \"sku040\", \"sku041\", \"sku042\", \"sku043\", \"sku044\", \"sku045\", \"sku046\", \"sku047\", \"sku048\", \"sku050\", \"sku051\", \"sku021\", \"sku022\", \"sku023\", \"sku025\", \"sku026\", \"sku028\", \"sku029\", \"sku030\", \"sku031\", \"sku032\", \"sku033\", \"sku034\", \"sku035\", \"sku036\", \"sku038\", \"sku041\", \"sku042\", \"sku043\", \"sku044\", \"sku045\", \"sku047\", \"sku048\", \"sku049\", \"sku050\", \"sku051\", \"sku021\", \"sku022\", \"sku023\", \"sku024\", \"sku025\", \"sku026\", \"sku027\", \"sku028\", \"sku029\", \"sku031\", \"sku032\", \"sku033\", \"sku036\", \"sku037\", \"sku038\", \"sku039\", \"sku040\", \"sku041\", \"sku042\", \"sku043\", \"sku044\", \"sku045\", \"sku046\", \"sku047\", \"sku048\", \"sku049\", \"sku050\", \"sku051\", \"sku021\", \"sku022\", \"sku023\", \"sku024\", \"sku025\", \"sku026\", \"sku027\", \"sku028\", \"sku029\", \"sku030\", \"sku031\", \"sku032\", \"sku033\", \"sku034\", \"sku035\", \"sku036\", \"sku037\", \"sku038\", \"sku039\", \"sku040\", \"sku041\", \"sku042\", \"sku043\", \"sku044\", \"sku045\", \"sku046\", \"sku047\", \"sku048\", \"sku049\", \"sku050\", \"sku051\", \"sku021\", \"sku022\", \"sku024\", \"sku025\", \"sku026\", \"sku027\", \"sku028\", \"sku029\", \"sku030\", \"sku031\", \"sku032\", \"sku035\", \"sku036\", \"sku037\", \"sku038\", \"sku039\", \"sku040\", \"sku041\", \"sku042\", \"sku044\", \"sku045\", \"sku046\", \"sku047\", \"sku048\", \"sku049\", \"sku050\", \"sku021\", \"sku022\", \"sku023\", \"sku024\", \"sku027\", \"sku028\", \"sku029\", \"sku030\", \"sku033\", \"sku034\", \"sku035\", \"sku036\", \"sku037\", \"sku038\", \"sku039\", \"sku040\", \"sku041\", \"sku042\", \"sku045\", \"sku047\", \"sku048\", \"sku049\", \"sku050\", \"sku051\", \"sku021\", \"sku022\", \"sku023\", \"sku024\", \"sku025\", \"sku026\", \"sku027\", \"sku028\", \"sku029\", \"sku030\", \"sku031\", \"sku032\", \"sku033\", \"sku034\", \"sku035\", \"sku036\", \"sku037\", \"sku038\", \"sku039\", \"sku040\", \"sku041\", \"sku042\", \"sku043\", \"sku047\", \"sku048\", \"sku049\", \"sku050\", \"sku051\", \"sku021\", \"sku022\", \"sku023\", \"sku024\", \"sku025\", \"sku026\", \"sku027\", \"sku028\", \"sku029\", \"sku030\", \"sku031\", \"sku033\", \"sku034\", \"sku035\", \"sku036\", \"sku037\", \"sku038\", \"sku040\", \"sku041\", \"sku042\", \"sku043\", \"sku044\", \"sku045\", \"sku046\", \"sku047\", \"sku048\", \"sku050\", \"sku051\", \"sku021\", \"sku022\", \"sku023\", \"sku025\", \"sku026\", \"sku027\", \"sku028\", \"sku030\", \"sku031\", \"sku032\", \"sku033\", \"sku034\", \"sku035\", \"sku036\", \"sku037\", \"sku039\", \"sku040\", \"sku041\", \"sku042\", \"sku043\", \"sku046\", \"sku047\", \"sku048\", \"sku049\", \"sku050\", \"sku051\", \"sku021\", \"sku022\", \"sku023\", \"sku024\", \"sku025\", \"sku026\", \"sku027\", \"sku028\", \"sku029\", \"sku030\", \"sku031\", \"sku032\", \"sku033\", \"sku036\", \"sku039\", \"sku040\", \"sku041\", \"sku042\", \"sku043\", \"sku044\", \"sku045\", \"sku046\", \"sku047\", \"sku048\", \"sku049\", \"sku050\", \"sku051\", \"sku021\", \"sku022\", \"sku023\", \"sku024\", \"sku026\", \"sku027\", \"sku028\", \"sku029\", \"sku030\", \"sku031\", \"sku032\", \"sku033\", \"sku034\", \"sku035\", \"sku036\", \"sku037\", \"sku038\", \"sku039\", \"sku040\", \"sku041\", \"sku042\", \"sku043\", \"sku044\", \"sku045\", \"sku046\", \"sku047\", \"sku048\", \"sku049\", \"sku050\", \"sku051\", \"sku021\", \"sku022\", \"sku023\", \"sku024\", \"sku025\", \"sku026\", \"sku027\", \"sku028\", \"sku029\", \"sku030\", \"sku031\", \"sku032\", \"sku033\", \"sku035\", \"sku036\", \"sku037\", \"sku038\", \"sku040\", \"sku041\", \"sku043\", \"sku044\", \"sku045\", \"sku046\", \"sku047\", \"sku048\", \"sku049\", \"sku050\", \"sku051\", \"sku021\", \"sku022\", \"sku024\", \"sku025\", \"sku026\", \"sku027\", \"sku028\", \"sku030\", \"sku031\", \"sku032\", \"sku033\", \"sku035\", \"sku036\", \"sku037\", \"sku038\", \"sku039\", \"sku040\", \"sku041\", \"sku043\", \"sku044\", \"sku046\", \"sku047\", \"sku049\", \"sku050\", \"sku051\", \"sku022\", \"sku023\", \"sku025\", \"sku026\", \"sku027\", \"sku028\", \"sku021\", \"sku022\", \"sku023\", \"sku025\", \"sku026\", \"sku027\", \"sku028\", \"sku029\", \"sku030\", \"sku031\", \"sku032\", \"sku033\", \"sku034\", \"sku035\", \"sku036\", \"sku037\", \"sku040\", \"sku041\", \"sku042\", \"sku043\", \"sku044\", \"sku045\", \"sku046\", \"sku047\", \"sku048\", \"sku049\", \"sku050\", \"sku021\", \"sku022\", \"sku023\", \"sku024\", \"sku025\", \"sku026\", \"sku027\", \"sku028\", \"sku030\", \"sku031\", \"sku033\", \"sku034\", \"sku035\", \"sku036\", \"sku037\", \"sku040\", \"sku041\", \"sku042\", \"sku043\", \"sku044\", \"sku045\", \"sku046\", \"sku048\", \"sku049\", \"sku050\", \"sku051\", \"sku022\", \"sku023\", \"sku024\", \"sku025\", \"sku026\", \"sku027\", \"sku028\", \"sku029\", \"sku030\", \"sku031\", \"sku032\", \"sku033\", \"sku035\", \"sku036\", \"sku037\", \"sku038\", \"sku039\", \"sku040\", \"sku042\", \"sku043\", \"sku045\", \"sku046\", \"sku047\", \"sku048\", \"sku049\", \"sku050\", \"sku051\", \"sku021\", \"sku022\", \"sku023\", \"sku024\", \"sku025\", \"sku026\", \"sku027\", \"sku028\", \"sku029\", \"sku030\", \"sku031\", \"sku033\", \"sku034\", \"sku035\", \"sku037\", \"sku038\", \"sku039\", \"sku041\", \"sku043\", \"sku044\", \"sku045\", \"sku046\", \"sku047\", \"sku048\", \"sku049\", \"sku050\", \"sku021\", \"sku022\", \"sku023\", \"sku024\", \"sku025\", \"sku026\", \"sku028\", \"sku029\", \"sku032\", \"sku033\", \"sku034\", \"sku035\", \"sku036\", \"sku037\", \"sku038\", \"sku039\", \"sku040\", \"sku041\", \"sku042\", \"sku043\", \"sku044\", \"sku045\", \"sku046\", \"sku047\", \"sku049\", \"sku050\", \"sku051\", \"sku021\", \"sku022\", \"sku023\", \"sku024\", \"sku025\", \"sku026\", \"sku028\", \"sku029\", \"sku030\", \"sku031\", \"sku032\", \"sku033\", \"sku034\", \"sku035\", \"sku036\", \"sku037\", \"sku038\", \"sku039\", \"sku041\", \"sku043\", \"sku044\", \"sku045\", \"sku046\", \"sku047\", \"sku049\", \"sku050\", \"sku051\", \"sku021\", \"sku022\", \"sku023\", \"sku024\", \"sku025\", \"sku026\", \"sku027\", \"sku028\", \"sku029\", \"sku032\", \"sku033\", \"sku034\", \"sku035\", \"sku036\", \"sku037\", \"sku038\", \"sku039\", \"sku040\", \"sku041\", \"sku042\", \"sku043\", \"sku044\", \"sku045\", \"sku046\", \"sku047\", \"sku048\", \"sku049\", \"sku051\", \"sku021\", \"sku022\", \"sku023\", \"sku024\", \"sku025\", \"sku026\", \"sku027\", \"sku028\", \"sku029\", \"sku030\", \"sku031\", \"sku032\", \"sku033\", \"sku034\", \"sku035\", \"sku037\", \"sku038\", \"sku039\", \"sku040\", \"sku041\", \"sku042\", \"sku044\", \"sku045\", \"sku046\", \"sku047\", \"sku049\", \"sku050\", \"sku051\", \"sku022\", \"sku023\", \"sku024\", \"sku025\", \"sku026\", \"sku027\", \"sku028\", \"sku029\", \"sku031\", \"sku032\", \"sku033\", \"sku034\", \"sku036\", \"sku037\", \"sku038\", \"sku039\", \"sku040\", \"sku041\", \"sku042\", \"sku044\", \"sku045\", \"sku046\", \"sku047\", \"sku049\", \"sku050\", \"sku051\", \"sku022\", \"sku023\", \"sku024\", \"sku025\", \"sku026\", \"sku027\", \"sku028\", \"sku029\", \"sku030\", \"sku031\", \"sku032\", \"sku033\", \"sku034\", \"sku035\", \"sku036\", \"sku037\", \"sku039\", \"sku040\", \"sku041\", \"sku042\", \"sku043\", \"sku044\", \"sku045\", \"sku047\", \"sku048\", \"sku049\", \"sku050\", \"sku051\", \"sku021\", \"sku022\", \"sku023\", \"sku024\", \"sku025\", \"sku026\", \"sku027\", \"sku028\", \"sku029\", \"sku030\", \"sku031\", \"sku033\", \"sku035\", \"sku036\", \"sku037\", \"sku038\", \"sku039\", \"sku041\", \"sku042\", \"sku043\", \"sku044\", \"sku045\", \"sku046\", \"sku047\", \"sku048\", \"sku049\", \"sku051\", \"sku021\", \"sku022\", \"sku023\", \"sku024\", \"sku025\", \"sku026\", \"sku027\", \"sku028\", \"sku029\", \"sku030\", \"sku031\", \"sku032\", \"sku033\", \"sku034\", \"sku035\", \"sku036\", \"sku037\", \"sku038\", \"sku039\", \"sku040\", \"sku041\", \"sku042\", \"sku043\", \"sku045\", \"sku046\", \"sku047\", \"sku048\", \"sku049\", \"sku050\", \"sku051\", \"sku021\", \"sku022\", \"sku023\", \"sku024\", \"sku025\", \"sku026\", \"sku027\", \"sku028\", \"sku029\", \"sku030\", \"sku031\", \"sku032\", \"sku033\", \"sku035\", \"sku036\", \"sku037\", \"sku039\", \"sku041\", \"sku042\", \"sku044\", \"sku045\", \"sku046\", \"sku047\", \"sku048\", \"sku049\", \"sku050\", \"sku051\", \"sku021\", \"sku022\", \"sku023\", \"sku024\", \"sku025\", \"sku026\", \"sku027\", \"sku028\", \"sku030\", \"sku031\", \"sku032\", \"sku033\", \"sku034\", \"sku035\", \"sku036\", \"sku038\", \"sku039\", \"sku041\", \"sku042\", \"sku043\", \"sku044\", \"sku045\", \"sku046\", \"sku047\", \"sku048\", \"sku049\", \"sku051\", \"sku021\", \"sku022\", \"sku023\", \"sku024\", \"sku025\", \"sku027\", \"sku028\", \"sku030\", \"sku032\", \"sku033\", \"sku035\", \"sku036\", \"sku037\", \"sku038\", \"sku039\", \"sku040\", \"sku042\", \"sku043\", \"sku044\", \"sku045\", \"sku046\", \"sku047\", \"sku048\", \"sku049\", \"sku050\", \"sku051\", \"sku021\", \"sku022\", \"sku024\", \"sku025\", \"sku026\", \"sku027\", \"sku028\", \"sku029\", \"sku030\", \"sku031\", \"sku032\", \"sku033\", \"sku034\", \"sku035\", \"sku036\", \"sku037\", \"sku038\", \"sku039\", \"sku040\", \"sku041\", \"sku042\", \"sku043\", \"sku044\", \"sku047\", \"sku048\", \"sku049\", \"sku050\", \"sku051\", \"sku021\", \"sku022\", \"sku023\", \"sku024\", \"sku025\", \"sku026\", \"sku028\", \"sku029\", \"sku030\", \"sku032\", \"sku034\", \"sku036\", \"sku038\", \"sku039\", \"sku040\", \"sku042\", \"sku043\", \"sku044\", \"sku046\", \"sku047\", \"sku048\", \"sku049\", \"sku050\", \"sku051\", \"sku021\", \"sku022\", \"sku023\", \"sku024\", \"sku025\", \"sku026\", \"sku027\", \"sku028\", \"sku029\", \"sku030\", \"sku031\", \"sku032\", \"sku033\", \"sku034\", \"sku036\", \"sku037\", \"sku038\", \"sku039\", \"sku040\", \"sku041\", \"sku043\", \"sku044\", \"sku045\", \"sku046\", \"sku047\", \"sku049\", \"sku051\", \"sku021\", \"sku022\", \"sku023\", \"sku025\", \"sku026\", \"sku027\", \"sku029\", \"sku030\", \"sku031\", \"sku032\", \"sku033\", \"sku034\", \"sku035\", \"sku036\", \"sku037\", \"sku038\", \"sku039\", \"sku041\", \"sku042\", \"sku043\", \"sku044\", \"sku045\", \"sku046\", \"sku047\", \"sku048\", \"sku049\", \"sku050\", \"sku051\", \"sku021\", \"sku022\", \"sku023\", \"sku024\", \"sku025\", \"sku027\", \"sku028\", \"sku029\", \"sku030\", \"sku033\", \"sku034\", \"sku035\", \"sku036\", \"sku037\", \"sku038\", \"sku039\", \"sku040\", \"sku041\", \"sku042\", \"sku043\", \"sku044\", \"sku045\", \"sku046\", \"sku047\", \"sku048\", \"sku049\", \"sku050\", \"sku051\", \"sku021\", \"sku022\", \"sku023\", \"sku024\", \"sku025\", \"sku026\", \"sku027\", \"sku028\", \"sku029\", \"sku030\", \"sku031\", \"sku032\", \"sku033\", \"sku034\", \"sku035\", \"sku036\", \"sku037\", \"sku038\", \"sku039\", \"sku040\", \"sku041\", \"sku042\", \"sku043\", \"sku044\", \"sku045\", \"sku046\", \"sku047\", \"sku048\", \"sku050\", \"sku051\", \"sku021\", \"sku022\", \"sku024\", \"sku025\", \"sku026\", \"sku027\", \"sku029\", \"sku030\", \"sku031\", \"sku032\", \"sku033\", \"sku034\", \"sku035\", \"sku037\", \"sku038\", \"sku039\", \"sku040\", \"sku041\", \"sku042\", \"sku043\", \"sku044\", \"sku045\", \"sku046\", \"sku047\", \"sku048\", \"sku049\", \"sku050\", \"sku051\", \"sku021\", \"sku022\", \"sku023\", \"sku025\", \"sku026\", \"sku027\", \"sku028\", \"sku030\", \"sku031\", \"sku032\", \"sku033\", \"sku034\", \"sku035\", \"sku036\", \"sku037\", \"sku039\", \"sku040\", \"sku041\", \"sku042\", \"sku043\", \"sku044\", \"sku045\", \"sku047\", \"sku048\", \"sku049\", \"sku050\", \"sku051\", \"sku021\", \"sku023\", \"sku024\", \"sku025\", \"sku026\", \"sku027\", \"sku028\", \"sku030\", \"sku031\", \"sku033\", \"sku034\", \"sku035\", \"sku036\", \"sku037\", \"sku038\", \"sku039\", \"sku040\", \"sku042\", \"sku043\", \"sku044\", \"sku045\", \"sku046\", \"sku047\", \"sku049\", \"sku050\", \"sku051\", \"sku022\", \"sku023\", \"sku024\", \"sku025\", \"sku026\", \"sku027\", \"sku028\", \"sku029\", \"sku031\", \"sku033\", \"sku034\", \"sku035\", \"sku036\", \"sku037\", \"sku038\", \"sku040\", \"sku041\", \"sku042\", \"sku044\", \"sku045\", \"sku046\", \"sku047\", \"sku048\", \"sku050\", \"sku051\", \"sku021\", \"sku023\", \"sku024\", \"sku025\", \"sku027\", \"sku028\", \"sku029\", \"sku030\", \"sku031\", \"sku032\", \"sku033\", \"sku034\", \"sku035\", \"sku036\", \"sku038\", \"sku039\", \"sku041\", \"sku043\", \"sku045\", \"sku046\", \"sku047\", \"sku048\", \"sku049\", \"sku050\", \"sku051\", \"sku021\", \"sku024\", \"sku025\", \"sku026\", \"sku027\", \"sku028\", \"sku029\", \"sku031\", \"sku032\", \"sku033\", \"sku034\", \"sku036\", \"sku037\", \"sku038\", \"sku039\", \"sku040\", \"sku043\", \"sku044\", \"sku045\", \"sku046\", \"sku047\", \"sku048\", \"sku049\", \"sku021\", \"sku022\", \"sku023\", \"sku024\", \"sku025\", \"sku026\", \"sku027\", \"sku029\", \"sku030\", \"sku031\", \"sku032\", \"sku033\", \"sku034\", \"sku035\", \"sku036\", \"sku037\", \"sku038\", \"sku039\", \"sku040\", \"sku041\", \"sku043\", \"sku044\", \"sku046\", \"sku047\", \"sku048\", \"sku049\", \"sku050\", \"sku051\", \"sku021\", \"sku022\", \"sku023\", \"sku025\", \"sku026\", \"sku027\", \"sku028\", \"sku029\", \"sku030\", \"sku031\", \"sku032\", \"sku033\", \"sku034\", \"sku035\", \"sku036\", \"sku037\", \"sku038\", \"sku039\", \"sku042\", \"sku043\", \"sku045\", \"sku046\", \"sku047\", \"sku048\", \"sku049\", \"sku050\", \"sku051\", \"sku021\", \"sku022\", \"sku023\", \"sku024\", \"sku025\", \"sku026\", \"sku027\", \"sku031\", \"sku032\", \"sku033\", \"sku034\", \"sku035\", \"sku036\", \"sku038\", \"sku041\", \"sku042\", \"sku043\", \"sku044\", \"sku045\", \"sku046\", \"sku047\", \"sku049\", \"sku051\", \"sku021\", \"sku022\", \"sku023\", \"sku024\", \"sku028\", \"sku029\", \"sku030\", \"sku031\", \"sku032\", \"sku033\", \"sku034\", \"sku035\", \"sku036\", \"sku037\", \"sku038\", \"sku040\", \"sku041\", \"sku042\", \"sku043\", \"sku044\", \"sku046\", \"sku047\", \"sku048\", \"sku049\", \"sku050\", \"sku051\", \"sku021\", \"sku023\", \"sku024\", \"sku025\", \"sku026\", \"sku027\", \"sku028\", \"sku029\", \"sku030\", \"sku031\", \"sku032\", \"sku034\", \"sku035\", \"sku036\", \"sku037\", \"sku038\", \"sku039\", \"sku040\", \"sku041\", \"sku042\", \"sku043\", \"sku044\", \"sku045\", \"sku046\", \"sku048\", \"sku049\", \"sku050\", \"sku051\", \"sku021\", \"sku022\", \"sku023\", \"sku025\", \"sku026\", \"sku027\", \"sku028\"], \"y\": [2654182.08, 12909176.52, 15684421.68, 37251808.24, 4774574.3, 2904426.6300000004, 3496307.94, 17555079.84, 490201.52, 17898205.26, 19131098.94, 64231452.599999994, 30491101.01, 5401794.9, 9621104.1, 32370512.24, 55926619.38, 46263314.160000004, 44313670.2, 14662452.2, 88852268.04, 13466714.7, 26016533.52, 18596611.32, 35637794.22, 23420368.07, 73940096.34, 4706152.16, 15511242.78, 18980736.47, 18083254.86, 40002911.28, 35504375.94, 3486381.0300000003, 19970510.12, 57196080.199999996, 9862739.549999999, 21055137.61, 2481682.88, 62680607.55, 22019213.04, 57576805.02, 39928162.68, 6675816.489999999, 8308350.0, 48796068.8, 7241606.800000001, 4040118.69, 13466050.5, 8227903.5600000005, 50307252.21, 2657031.13, 14053586.8, 12529097.76, 30185073.87, 56531323.56, 26432039.900000002, 29632732.78, 9773624.12, 61344425.599999994, 46153109.76, 10369535.61, 31235102.340000004, 1550633.7000000002, 47775794.31, 12627591.66, 16257116.790000001, 18977445.76, 2045684.54, 21429753.44, 23241628.67, 622041.51, 9899683.9, 7471892.7, 88064718.3, 45731431.52, 17160957.8, 1963041.75, 18529371.990000002, 2135649.62, 24088771.84, 79659398.2, 47893585.95, 57990998.4, 13659106.14, 8944831.709999999, 23354593.200000003, 7757544.720000001, 38927116.4, 9239597.1, 16289871.989999998, 16588288.68, 14661688.5, 21757266.099999998, 30163739.22, 3361038.21, 4336642.62, 41902076.85, 10628414.459999999, 28472608.580000002, 21876805.439999998, 14185632.9, 24041952.72, 16319723.76, 23937456.73, 16235883.2, 35090944.379999995, 22896784.15, 81637705.46, 4562281.25, 4529282.16, 1377709.08, 20727555.15, 21917824.700000003, 17057466.12, 18586253.95, 4717259.5200000005, 5582885.2, 9275032.22, 3922988.8, 22860697.15, 35719150.56, 49620066.21, 20089127.66, 71288797.32000001, 4679026.74, 3810141.79, 26642788.48, 65416960.0, 52221280.32, 19185256.35, 8566736.6, 4542841.23, 32101395.3, 6231076.71, 8074271.76, 20799816.9, 42171370.38, 3983269.29, 57281764.05, 437448.0, 26084323.86, 29381299.419999998, 40598788.51, 16868883.96, 41540788.85, 1822834.23, 41550569.0, 6402737.0, 56770009.44, 29332515.810000002, 53063062.35, 17947253.48, 3280477.62, 8517101.84, 58843548.36, 1797398.1, 39777345.76, 3365221.9299999997, 18218838.33, 3304093.08, 5649520.84, 27071300.7, 23131083.66, 14261763.24, 42641225.099999994, 3289852.6, 4371927.84, 14431726.049999999, 4130800.08, 20205563.86, 31140646.24, 1742241.16, 53178942.199999996, 42621901.81, 9059086.76, 63503315.550000004, 16120220.56, 1983997.6199999999, 32315053.650000002, 28900740.61, 33414614.38, 18060735.06, 35876161.89, 1115455.92, 25956780.3, 8823897.94, 6627694.199999999, 8030706.16, 78242309.08999999, 21946598.38, 16282920.849999998, 75244398.24, 26378342.52, 41308763.93, 4020414.76, 2336803.17, 47929253.4, 5485165.4, 52880801.4, 4349053.72, 18766126.62, 10240194.36, 35701117.28, 8473697.07, 23511316.0, 23246518.48, 8164756.68, 36396590.16, 9449113.96, 3408005.02, 18065093.44, 38293941.15, 32660861.3, 6097392.64, 1186902.49, 8363396.550000001, 55062182.14, 18049437.0, 25015654.86, 47009380.8, 63734637.44, 73309459.0, 4386486.03, 2509372.16, 54982909.19, 5966484.22, 24904395.299999997, 2144418.75, 1411780.05, 42557143.04, 25319792.07, 26492094.24, 18507521.8, 60402021.95999999, 73801553.25, 42340278.839999996, 7989237.739999999, 17078239.1, 2442803.0, 66288289.27, 14542345.600000001, 10502149.8, 71093739.45, 34222729.08, 8284831.02, 13313304.68, 45820025.699999996, 4205061.54, 12682823.229999999, 35618863.5, 44920028.4, 45124921.6, 11141622.8, 5197799.699999999, 10228890.72, 2427559.5300000003, 2369034.09, 92572309.58000001, 13687710.600000001, 48604584.0, 24353991.95, 3827477.58, 4890271.26, 1339368.63, 37512178.1, 10143371.56, 11267123.84, 20541592.47, 807164.52, 53629701.36, 1963465.4000000001, 22573174.959999997, 22992479.2, 19305398.71, 3185208.64, 35382904.199999996, 27989777.92, 9983710.620000001, 52330199.94, 34932631.03, 36555181.6, 3789050.7, 42415074.800000004, 36243779.74, 11121955.68, 462249.13, 32871014.52, 20871196.919999998, 11389604.040000001, 6944089.949999999, 71987025.6, 14086500.72, 60705983.379999995, 45772921.1, 42576179.36, 6392203.6, 45234927.199999996, 4698172.3, 32848635.400000002, 8871741.0, 23300783.939999998, 58671007.74, 11692991.49, 41843603.75, 11956537.04, 31211916.400000002, 24190400.849999998, 17837524.2, 7776089.88, 3178568.6100000003, 60566279.67, 43937035.12, 37401047.5, 23301409.200000003, 46192341.8, 76668763.93, 6482872.77, 11346435.42, 48476341.5, 32190126.450000003, 8059202.25, 40137065.54, 16611509.940000001, 44881260.269999996, 18268229.16, 5421782.43, 32942518.2, 1267062.92, 75849524.10000001, 28936740.82, 22670859.06, 1950567.5, 8244287.62, 3985938.23, 49924425.28, 36991758.870000005, 1656806.78, 35899177.05, 40018565.31999999, 23239817.77, 55464453.0, 46057745.47, 20925167.2, 12135221.89, 47545125.28, 28551254.4, 3540008.49, 61186980.55, 28225684.630000003, 84646104.0, 12841191.9, 43515068.0, 8850114.24, 1530171.24, 38412317.1, 75952116.54, 91386100.63, 34874694.6, 13683498.96, 13879655.600000001, 418784.33999999997, 4831531.07, 5390394.68, 26029446.0, 28531305.0, 30856049.4, 38381896.01, 4272763.739999999, 75952620.6, 9045699.959999999, 764132.99, 6382992.1, 16417670.92, 8157049.68, 29044574.099999998, 40326784.16, 56541677.0, 7710981.74, 18934641.55, 79889594.30000001, 13568591.52, 3031957.16, 39851391.4, 4551557.199999999, 63765956.43000001, 46075043.68, 96728801.8, 71498625.12, 74224123.35, 28850093.0, 42930420.120000005, 1789535.59, 5891482.1, 8744531.100000001, 14502709.95, 52316206.800000004, 62994307.53, 91926478.4, 51964137.400000006, 76270121.92, 32865419.880000003, 17811236.25, 38973607.84, 33840128.61, 19751490.049999997, 29532931.35, 33427408.0, 46111938.4, 1502053.48, 40596131.07000001, 47896270.370000005, 16647660.6, 10987341.54, 2395128.66, 37486886.0, 64348702.199999996, 11262379.44, 14801716.620000001, 19214683.32, 14421020.64, 4219548.06, 63594742.39999999, 40390835.4, 9036984.06, 37250861.160000004, 87166897.16999999, 45706654.44, 27773191.29, 34929921.9, 58830924.879999995, 32402410.95, 3840069.1, 1001183.3699999999, 60909716.83, 67151301.12, 34962233.5, 845117.06, 61040211.54000001, 25417830.330000002, 22710698.4, 99025781.0, 9290942.46, 16768345.649999999, 6838848.899999999, 7185206.82, 33518496.11, 21125822.599999998, 9080405.549999999, 23587022.4, 23421210.189999998, 13954218.24, 3322414.07, 15464571.780000001, 58994096.8, 6883545.06, 75896263.8, 40138982.03, 23583639.48, 9974471.64, 44405572.53, 59214189.019999996, 35397604.660000004, 5855828.04, 75469103.52, 77936699.34, 52078815.599999994, 38340076.08, 11357679.870000001, 12236491.84, 4837686.69, 19446702.73, 49937614.0, 14993216.76, 56981941.50999999, 39203282.17, 11282064.28, 3007478.35, 83112206.6, 7961985.29, 17367089.84, 34373923.57, 69551519.52, 51421004.32, 8409074.56, 22895548.26, 14440172.94, 26078547.44, 3327157.52, 407992.08, 23130039.84, 21708923.400000002, 26768394.56, 43239282.15, 42063650.88, 46246418.7, 488439.24, 20449378.040000003, 19649230.56, 11518169.16, 23063416.200000003, 13440229.299999999, 6411159.57, 34274870.519999996, 36355354.16, 16838469.27, 34233779.19, 1489465.1, 37750671.480000004, 5659323.09, 24820183.78, 35012888.730000004, 50026326.870000005, 4228464.0, 5331298.68, 12325119.36, 9308862.959999999, 37592487.599999994, 56179322.24, 1792662.11, 8069312.55, 52907172.599999994, 34180708.32, 18085769.28, 45466352.1, 76045913.10000001, 1436842.92, 80385497.46, 7477130.87, 3676295.94, 1551271.1400000001, 33358060.08, 42202363.58, 51936550.74, 5177592.36, 62745069.529999994, 8055122.04, 37002361.68, 50679364.5, 72606575.16, 18436579.07, 47749476.879999995, 27928232.1, 3040513.07, 2091955.5, 73782064.0, 26919660.74, 3492261.75, 33416063.64, 5240446.14, 67856959.24000001, 9200138.36, 1731496.76, 7400257.290000001, 33706638.269999996, 12252064.96, 15712342.5, 30611933.160000004, 29765141.200000003, 8070067.52, 18820690.31, 31058369.76, 14084516.4, 4103356.81, 17921047.59, 60148414.2, 11072814.450000001, 18917840.11, 13947882.66, 37874946.230000004, 2170407.68, 28225547.5, 62961701.4, 28694508.08, 51897370.26, 42960209.46, 1068955.98, 14481381.84, 9806034.6, 1550220.27, 10120470.52, 75405730.91000001, 2955394.14, 9516952.969999999, 93557216.0, 60477208.48, 20221977.12, 46469242.300000004, 3110239.98, 34774876.510000005, 27902425.77, 14163125.040000001, 31504980.0, 48247372.8, 28520735.65, 27457466.82, 73867780.95, 554645.22, 19841924.25, 40541261.4, 26972596.05, 12103109.7, 3726825.92, 2974520.25, 51492837.06, 82016838.30000001, 54174189.849999994, 22011853.900000002, 32145333.4, 969627.1799999999, 3330049.58, 6261313.52, 8024032.32, 56110856.43000001, 1520232.16, 5876972.459999999, 35653282.4, 9264092.44, 6657954.489999999, 52471354.56, 17838723.15, 21841560.2, 30751843.95, 8646889.92, 1775673.14, 8346804.36, 47665559.92, 21702091.080000002, 16410793.799999999, 8776387.76, 67755508.8, 72307986.69, 6818739.760000001, 76221497.8, 15954473.989999998, 13633305.84, 4241100.45, 4256559.51, 3593314.79, 78500622.78, 62351630.830000006, 4808330.76, 91162604.96, 64948139.23, 21895158.74, 58940297.519999996, 33604992.19, 13992955.2, 10396035.51, 26246907.0, 1539285.52, 36644340.48, 27056269.66, 33543844.110000003, 77526367.04, 31720495.2, 73042026.61, 4046323.06, 4126848.0, 19905735.57, 28714805.759999998, 50794453.0, 68148821.33, 25879035.6, 1363957.15, 94828013.89999999, 39201005.44, 9156862.0, 11929585.08, 38165583.2, 528842.36, 9204289.5, 7090274.8, 8064212.550000001, 36720426.21, 10529409.55, 9600599.44, 16139044.15, 9452686.53, 18179255.3, 30375334.990000002, 28557249.660000004, 9925385.97, 4363969.5, 14926272.51, 85820073.66, 10674782.03, 22737007.5, 363170.08, 7143176.279999999, 46234116.169999994, 1973958.6, 21625941.299999997, 52072881.12, 38426718.74, 49064077.08, 64798341.839999996, 5458951.29, 9103477.04, 79448395.88, 73622704.86, 62248112.1, 41225035.17, 17833271.849999998, 4431373.58, 41041751.699999996, 16867397.44, 28864718.2, 15989162.8, 67976946.17999999, 29094162.56, 32939594.64, 8079712.0200000005, 4189375.8000000003, 11543317.31, 11692111.969999999, 24259460.759999998, 26609692.2, 4390175.92, 76276824.85, 8422394.25, 18133226.08, 22083682.040000003, 6169704.0600000005, 52239061.05, 4653079.2, 44031167.83, 39701323.1, 40176886.72, 37901054.72, 39147494.56, 6023656.89, 29119513.78, 12688765.169999998, 72890540.6, 11334742.2, 974188.3200000001, 7583513.94, 4686736.62, 37590944.580000006, 43004366.73, 59766524.300000004, 72435370.89, 7673427.36, 41102589.61, 4600340.55, 11553476.76, 2753712.15, 22003501.17, 16797856.56, 17047699.240000002, 22695136.939999998, 10262597.73, 96153694.2, 21671292.72, 834206.72, 15866210.52, 37564459.8, 1201834.04, 37383553.650000006, 59425633.5, 27106627.24, 5288858.55, 25947243.85, 14272393.919999998, 38124239.67, 19546211.88, 10505307.36, 14364247.32, 39560409.76, 30192078.799999997, 6798359.9, 16221192.350000001, 57540662.9, 72920969.6, 34040929.580000006, 71294482.08, 16708373.780000001, 3484816.48, 5877357.399999999, 1562225.74, 18695359.86, 12443926.56, 2252266.66, 37737789.46, 7417291.92, 34402367.93, 4750782.66, 24414679.26, 10214637.68, 33557177.699999996, 4004189.0, 5394081.98, 27887647.26, 34093290.0, 44325041.64, 5736207.78, 31787566.509999998, 20876441.41, 49227285.9, 15033977.88, 15225738.430000002, 9417800.32, 1525459.77, 10568658.43, 12291513.48, 43956759.55, 724154.12, 54712815.47, 51210416.52, 14601167.01, 19458322.48, 43905506.22, 40471585.0, 11264823.48, 1920678.58, 9815992.64, 2317721.53, 48947543.7, 51687066.86, 20716738.98, 25440523.599999998, 23517267.75, 71360103.60000001, 12981803.88, 11463589.68, 4805211.0, 25605314.37, 56690978.72, 67626594.83999999, 16093121.8, 94162361.6, 26490432.64, 2337169.55, 30068268.24, 10597247.52, 25794720.45, 42206834.76, 7575483.19, 9310245.2, 26220406.88, 47261774.800000004, 12467665.92, 2718744.32, 37151409.24, 24080189.42, 8674489.2, 63137931.3, 26811697.33, 32569902.400000002, 43656709.64, 3979440.09, 38179890.72, 943202.01, 50934587.08, 72255242.4, 14044916.52, 24640908.0, 3364717.58, 4941987.9, 5451669.09, 6496132.18, 5988895.02, 35047085.400000006, 8949495.1, 341839.0, 61372148.4, 78770359.98, 29565556.35, 6325350.63, 67544775.04, 2592292.44, 3874254.24, 31548476.68, 2042814.6199999999, 7576560.48, 44434306.92, 28736358.48, 34543632.42, 41220950.43, 20662855.02, 31971902.04, 6438714.3, 7206329.34, 21273522.3, 30180200.72, 41602680.46, 539821.34, 2592502.8, 20086565.919999998, 40178713.67999999, 1995812.85, 927806.26, 4225205.31, 53824408.4, 2059526.64, 4805838.8100000005, 14968866.0, 41422728.87, 2300759.44, 18585441.299999997, 31196151.7, 28357614.900000002, 1531932.5, 11523113.600000001, 14631046.5, 4119171.04, 28604830.0, 1547234.2999999998, 4545481.64, 20594655.509999998, 27392319.63, 58182037.29, 18296813.16, 58878739.779999994, 37111557.51, 69779496.42, 29870232.93, 2643191.68, 31918816.37, 48392063.28, 54041531.050000004, 4774973.83, 7306882.3, 51529589.28, 79895179.55, 28542452.400000002, 3196166.78, 20458289.900000002, 789826.09, 2631788.43, 40233109.730000004, 4151514.09, 71022122.81, 20223333.13, 2272076.88, 20726961.53, 5400940.98, 58373235.36, 37870595.2, 3560666.88, 28880777.379999995, 2898400.73, 24277615.62, 16723424.0, 20517480.900000002, 1768986.34, 3020729.31, 1798846.5, 1475572.9500000002, 26307311.87, 14487161.25, 47331630.5, 1581865.46, 8910130.59, 43246970.550000004, 8935140.600000001, 14404330.88, 12271852.549999999, 4245162.2, 62244438.620000005, 11140968.299999999, 878369.76, 7885889.15, 15523952.450000001, 2642805.82, 8235181.5600000005, 29228038.4, 43530226.2, 7481959.649999999, 32823861.48, 6864712.91, 59791588.419999994, 85950957.60000001, 23441509.8, 21607907.7, 9821481.68, 17210507.58, 1978135.62, 24942980.66, 99586390.19999999, 1939933.71, 4659014.88, 56366221.18000001, 43607187.91, 28882960.38, 3394171.6199999996, 2711488.53, 942188.22, 18035883.67, 18041707.75, 27587068.43, 4384799.02, 54421866.239999995, 17228353.3, 2267039.6, 15725780.91, 13130028.24, 3503024.18, 49525324.400000006, 12464797.649999999, 675726.96, 16728734.2, 2354843.91, 30081914.6, 25909639.84, 22126750.66, 47983583.1, 16162934.08, 46887333.48, 55313892.92, 12516713.100000001, 22161500.64, 19784360.64, 18791836.91, 32347184.74, 6941060.07, 26248075.32, 15383050.47, 34177673.74, 7600195.899999999, 5643466.56, 23902569.54, 9869271.36, 96955671.6, 16680841.02, 13984386.0, 30494532.599999998, 52246942.33, 6839567.86, 90730707.98, 27367695.72, 13950672.6, 30813261.21, 45308392.0, 42502990.2, 50534205.199999996, 16295992.0, 10386057.84, 2971229.3800000004, 11179503.78, 17137655.82, 13557097.620000001, 38125783.3, 9862794.040000001, 20958734.52, 8205473.4, 38331331.400000006, 23713547.84, 6358821.5, 2922210.06, 31347903.92, 65332840.4, 36684811.64, 58202781.28, 18143083.6, 11123771.2, 11087657.57, 22435833.6, 5913805.05, 69271243.67, 13650948.45, 1602228.08, 31145235.839999996, 7949758.16, 3046009.6, 11346181.6, 33866392.14, 11291124.18, 6550145.68, 55753609.08, 24869819.8, 14666044.96, 7442011.78, 12735068.61, 52968241.0, 23712011.200000003, 51147223.6, 4249950.03, 18655057.82, 34824432.34, 79544643.22, 21658791.099999998, 65382737.25000001, 31920749.85, 81145755.54, 5769793.399999999, 31870268.849999998, 62621577.33, 3614520.28, 46471054.32, 3913808.15, 71189694.53, 15714649.6, 2655572.28, 22891382.56, 43822213.8, 50894235.36, 91960539.22, 31418190.020000003, 25738184.92, 21605148.18, 2556302.0, 48985322.519999996, 17410788.78, 12269238.59, 483031.36, 40766235.39, 13814583.39, 4991592.46, 8930715.299999999, 41083119.989999995, 16782203.04, 15604903.92, 46257703.12, 1637580.59, 14315161.89, 27763510.98, 51372247.12, 5503350.66, 12536913.149999999, 7435360.88, 3941012.88, 6375048.75, 20330006.200000003, 8126493.84, 20229473.6, 64190385.72, 16771555.989999998, 29387163.119999997, 4370821.91, 73893267.43, 33298892.62, 16757691.950000001, 51743806.2, 33571896.45, 21313586.14, 18704076.439999998, 40882399.18000001, 43021393.38, 21214414.349999998, 10679371.28, 39930474.08, 61560135.75, 47442971.29, 78299487.35, 4885488.05, 4760067.91, 65178995.0, 13489988.04, 81897986.16, 40852323.84, 25174410.24, 62347863.5, 31962993.81, 3984960.68, 14128586.810000002, 2246698.88, 40990593.199999996, 68300519.25, 71491953.03, 20815076.759999998, 10140770.5, 54887845.67999999, 21997541.7, 40787047.35, 10997404.6, 10793674.99, 5167076.88, 6070682.199999999, 28492408.080000002, 92404153.31, 67886608.86, 32394881.25, 38718664.8, 48389149.69, 30286841.8, 75674461.0, 60985564.74, 24491132.400000002, 30989884.6, 41265077.04, 41834121.68, 7553199.6, 13000241.04, 5343751.949999999, 4948170.94, 66566553.839999996, 4089375.46, 17649737.16, 25041728.79, 74604503.39999999, 29835988.64, 2995781.4000000004, 54050025.599999994, 5304335.58, 9639414.92, 46282232.160000004, 98487941.4, 38202823.1, 7919599.590000001, 24845491.71, 61687668.120000005, 28710318.560000002, 20037473.2, 7687198.5, 54733852.32, 8975814.68, 47737580.77, 43391729.28, 33473216.52, 15345616.68, 2841501.5, 57353724.16, 27886943.880000003, 5989390.4, 54616294.08, 64318153.77, 2903369.61, 12239594.219999999, 20388972.419999998, 143248.87, 48071148.4, 63742942.339999996, 4557969.42, 47976687.199999996, 40218707.78, 13341238.080000002, 2691080.85, 5899008.0, 60861453.79000001, 38327958.36, 3043870.22, 39120153.6, 53145657.76, 24821248.540000003, 46058027.4, 1135005.6, 4377712.62, 29323306.32, 7960993.46, 40849540.6, 4216230.56, 58353141.419999994, 38525278.6, 11640703.0, 62541372.04000001, 30648695.160000004, 71692532.4, 72630374.4, 42879519.9, 17908137.68, 5927407.43, 6550213.899999999, 13477585.600000001, 55629841.6, 14238908.32, 15702060.56, 27506328.08, 7383586.0, 2168584.57, 3082639.83, 9447176.55, 46586011.86, 17532285.4, 23887022.95, 7970323.68, 861283.63, 7373962.78, 31002350.4, 81070354.26, 13363570.8, 31400215.0, 7952706.45, 28865001.54, 67258333.00999999, 64016558.56, 28533456.18, 39425007.78, 755462.1499999999, 2102266.01, 1865653.32, 32436803.88, 5424474.54, 21130415.88, 99922966.8, 49141585.4, 4261453.1, 48557277.9, 15590752.96, 78829040.6, 20209754.82, 17392651.75, 14132181.75, 13360274.36, 10279267.75, 30059338.290000003, 10341096.76, 7998724.02, 4197231.63, 73388307.04, 33036818.3, 42281646.26, 6329429.399999999, 30473483.18, 31143025.8, 14378945.580000002, 64920355.56, 10783774.2, 32717645.51, 38719985.28, 10372938.85, 5688653.23, 81025547.31, 26771055.2, 849071.04, 29414085.299999997, 13788239.88, 24991374.8, 18062447.12, 12219181.450000001, 6164097.31, 30526601.979999997, 81033263.52, 39085037.18, 24736335.4, 24602734.17, 69764408.60000001, 45978433.2, 5375690.88, 7883229.39, 49044076.51, 5069688.1, 9414002.0, 21946791.5, 4193589.46, 3324949.93, 21590901.54, 13580161.91, 23147940.53, 62178226.919999994, 6332187.44, 4869954.3, 63802306.26, 10278057.08, 16669391.34, 36223725.12, 12018522.75, 6248751.92, 34955870.32, 2415427.17, 85190120.82000001, 88840371.0, 35855599.67, 39232245.76, 3023615.74, 6639939.67, 3459922.62, 6512056.199999999, 22557432.099999998, 20530968.6, 69029293.56, 12042701.06, 2920924.54, 15642795.120000001, 28226976.18, 1420032.04, 81651762.11, 33852384.2, 4213466.07, 1615968.2000000002, 13904630.8, 57489149.120000005, 41241038.19, 10858348.88, 34727241.800000004, 10913354.34, 23297597.959999997, 26893174.56, 23011848.650000002, 24254184.37, 3062093.18, 35738881.89, 48454889.839999996, 20840815.2, 27149012.759999998, 28277611.400000002, 37225487.64, 387932.23, 25209716.04, 14603659.56, 67031721.60000001, 72758216.55, 12502591.99, 5924588.0, 5114526.27, 24907865.759999998, 19184183.4, 19427935.85, 56023769.28, 23536884.93, 5498681.2, 46850176.98, 39756870.81, 36001238.96, 60268940.699999996, 8093710.380000001, 21053688.459999997, 63714558.31, 43990979.1, 7250024.2, 14737197.76, 43511725.4, 4460276.3, 33913576.69, 7375712.04, 19636014.48, 2087509.05, 24835118.96, 700831.4, 19471020.419999998, 26769966.78, 30288806.56, 12365381.6, 58504865.4, 76739499.0, 56328333.089999996, 29448263.880000003, 22109718.75, 8415848.38, 8274007.04, 4448276.6, 21915543.240000002, 57655132.949999996, 19714734.44, 29179120.68, 28655400.6, 23935968.68, 28956040.8, 47780783.82000001, 44886222.15, 20696704.27, 46649557.65, 71015437.2, 5285328.9, 71754294.96, 39573383.519999996, 20416345.2, 956064.4500000001, 7809344.8, 3323562.35, 10887346.37, 8368600.48, 6989351.550000001, 7870173.64, 11552114.34, 1791934.92, 32115379.66, 40320513.4, 1774640.9, 6950077.9, 34025505.099999994, 14208198.8, 11226847.75, 36960217.92, 13956464.940000001, 11854454.479999999, 22213717.400000002, 43906561.4, 36877994.8, 1516607.63, 13630728.48, 2002793.52, 27832961.78, 32089851.36, 57901392.15, 3544944.42, 9055217.96, 749459.8500000001, 19512923.22, 26033655.4, 9506634.9, 81373158.35999998, 56646085.28, 1196622.44, 18564569.52, 24885543.15, 29290271.64, 19880314.64, 24793466.94, 1602920.37, 29269089.290000003, 3696952.3500000006, 8615406.47, 12734880.149999999, 34789674.900000006, 28050006.240000002, 35717514.25, 14354851.61, 13879622.170000002, 38355279.160000004, 53811559.49, 32740242.5, 69571634.62, 7280348.73, 18156214.58, 56586853.650000006, 12454723.2, 9714107.9, 12866470.14, 55707200.8, 73932188.58999999, 18881371.03, 41993375.199999996, 10098275.799999999, 37195645.620000005, 28173762.72, 39783129.28, 44682128.46, 6791726.7, 59507878.0, 2710224.06, 3853348.8600000003, 14517178.919999998, 18820093.55, 6096393.300000001, 17087070.6, 622378.48, 16031701.66, 42601965.66, 3926849.45, 17570589.76, 10016484.01, 2407349.83, 29534413.090000004, 60040501.04, 34686527.37, 3027315.0, 8997309.719999999, 50776267.620000005, 765920.75, 9212495.68, 42754959.300000004, 1553220.14, 37394995.95, 6561866.43, 11644704.850000001, 48849151.050000004, 42171363.68, 24200361.12, 6151153.96, 36323280.8, 27944945.5, 66576300.0, 4278703.4, 70546976.6, 4017388.98, 30658919.479999997, 21729917.04, 10093753.6, 13201893.149999999, 9437928.75, 1973746.75, 10881476.399999999, 95489073.4, 84561403.32000001, 71259077.4, 15675911.799999999, 39287613.15, 25095693.44, 77729125.67999999, 26562831.36, 52215329.18, 17013122.91, 59353081.0, 50387329.86, 35349427.599999994, 434746.03, 12960339.91, 35474911.4, 19061962.81, 33890586.32, 40791798.6, 1175351.6400000001, 36750949.68, 2640403.12, 1215836.79, 1102705.45, 32880562.24, 17879511.92, 40579756.6, 8926492.85, 13531914.8, 7662577.199999999, 52584539.84, 16494023.629999999, 10068357.35, 3160701.9000000004, 12482177.7, 34199105.04, 11544962.64, 1137422.3699999999, 11477351.5, 9299700.4, 43116818.48, 3360990.7800000003, 24633785.44, 38442098.79, 77501664.80000001, 21250831.47, 47201496.88, 9542772.0, 4919276.0, 12615200.729999999, 6408185.1, 21199302.56, 16750117.4, 15628905.450000001, 6441481.68, 68906724.8, 41619951.0, 895544.88, 9195083.18, 5066343.72, 46552010.4, 36133951.0, 38031771.3, 34796728.95, 11016542.9, 21415543.98, 22404657.349999998, 65781162.86, 5045779.55, 4234950.24, 6524790.68, 13701876.41, 11070114.48, 35509995.47, 53927497.78, 63605091.620000005, 73093091.2, 27165958.61, 7117759.98, 8785763.92, 23276972.88, 6205973.06, 1737583.8599999999, 64520720.16, 25857764.96, 333507.36, 8776927.72, 15063315.1, 74923229.92, 37442294.910000004, 23702156.099999998, 2275961.85, 29168320.259999998, 15979923.0, 5101980.4, 67867841.55, 1842819.89, 63062532.26, 8061408.84, 7079616.48, 42462642.88, 26348062.02, 60400361.88, 14853326.040000001, 86614352.85000001, 740277.87, 23081338.200000003, 42052732.300000004, 63792652.56, 52578714.11, 16864942.9, 29364921.299999997, 8041803.720000001, 5161824.74, 64644295.3, 34597495.32, 13418971.93, 64644522.60000001, 50165612.8, 18964207.7, 28375613.28, 48739265.76, 8059290.92, 3475651.08, 6899042.7, 31809280.32, 7876631.1, 2670784.08, 8765452.8, 67571075.52, 21175777.84, 36496218.7, 36082920.0, 8715667.08, 11507638.799999999, 16803757.6, 43275352.45, 4185934.1999999997, 26732385.810000002, 12781497.15, 6151200.899999999, 31562798.099999998, 68795102.53, 28546002.73, 14356646.37, 6696021.14, 19017343.26, 18602319.68, 70799525.92, 42826045.57, 8722228.08, 19283759.46, 58237328.57, 556703.64, 1183449.99, 20121383.59, 42565004.16, 4638390.1, 5557984.92, 6815321.14, 14852504.879999999, 2468997.33, 65485687.14, 5355690.2, 3466721.94, 33044318.599999998, 56615768.4, 1966499.25, 51819570.79, 40249955.42999999]}],\n",
              "                        {\"template\": {\"data\": {\"bar\": [{\"error_x\": {\"color\": \"#2a3f5f\"}, \"error_y\": {\"color\": \"#2a3f5f\"}, \"marker\": {\"line\": {\"color\": \"#E5ECF6\", \"width\": 0.5}}, \"type\": \"bar\"}], \"barpolar\": [{\"marker\": {\"line\": {\"color\": \"#E5ECF6\", \"width\": 0.5}}, \"type\": \"barpolar\"}], \"carpet\": [{\"aaxis\": {\"endlinecolor\": \"#2a3f5f\", \"gridcolor\": \"white\", \"linecolor\": \"white\", \"minorgridcolor\": \"white\", \"startlinecolor\": \"#2a3f5f\"}, \"baxis\": {\"endlinecolor\": \"#2a3f5f\", \"gridcolor\": \"white\", \"linecolor\": \"white\", \"minorgridcolor\": \"white\", \"startlinecolor\": \"#2a3f5f\"}, \"type\": \"carpet\"}], \"choropleth\": [{\"colorbar\": {\"outlinewidth\": 0, \"ticks\": \"\"}, \"type\": \"choropleth\"}], \"contour\": [{\"colorbar\": {\"outlinewidth\": 0, \"ticks\": \"\"}, \"colorscale\": [[0.0, \"#0d0887\"], [0.1111111111111111, \"#46039f\"], [0.2222222222222222, \"#7201a8\"], [0.3333333333333333, \"#9c179e\"], [0.4444444444444444, \"#bd3786\"], [0.5555555555555556, \"#d8576b\"], [0.6666666666666666, \"#ed7953\"], [0.7777777777777778, \"#fb9f3a\"], [0.8888888888888888, \"#fdca26\"], [1.0, \"#f0f921\"]], \"type\": \"contour\"}], \"contourcarpet\": [{\"colorbar\": {\"outlinewidth\": 0, \"ticks\": \"\"}, \"type\": \"contourcarpet\"}], \"heatmap\": [{\"colorbar\": {\"outlinewidth\": 0, \"ticks\": \"\"}, \"colorscale\": [[0.0, \"#0d0887\"], [0.1111111111111111, \"#46039f\"], [0.2222222222222222, \"#7201a8\"], [0.3333333333333333, \"#9c179e\"], [0.4444444444444444, \"#bd3786\"], [0.5555555555555556, \"#d8576b\"], [0.6666666666666666, \"#ed7953\"], [0.7777777777777778, \"#fb9f3a\"], [0.8888888888888888, \"#fdca26\"], [1.0, \"#f0f921\"]], \"type\": \"heatmap\"}], \"heatmapgl\": [{\"colorbar\": {\"outlinewidth\": 0, \"ticks\": \"\"}, \"colorscale\": [[0.0, \"#0d0887\"], [0.1111111111111111, \"#46039f\"], [0.2222222222222222, \"#7201a8\"], [0.3333333333333333, \"#9c179e\"], [0.4444444444444444, \"#bd3786\"], [0.5555555555555556, \"#d8576b\"], [0.6666666666666666, \"#ed7953\"], [0.7777777777777778, \"#fb9f3a\"], [0.8888888888888888, \"#fdca26\"], [1.0, \"#f0f921\"]], \"type\": \"heatmapgl\"}], \"histogram\": [{\"marker\": {\"colorbar\": {\"outlinewidth\": 0, \"ticks\": \"\"}}, \"type\": \"histogram\"}], \"histogram2d\": [{\"colorbar\": {\"outlinewidth\": 0, \"ticks\": \"\"}, \"colorscale\": [[0.0, \"#0d0887\"], [0.1111111111111111, \"#46039f\"], [0.2222222222222222, \"#7201a8\"], [0.3333333333333333, \"#9c179e\"], [0.4444444444444444, \"#bd3786\"], [0.5555555555555556, \"#d8576b\"], [0.6666666666666666, \"#ed7953\"], [0.7777777777777778, \"#fb9f3a\"], [0.8888888888888888, \"#fdca26\"], [1.0, \"#f0f921\"]], \"type\": \"histogram2d\"}], \"histogram2dcontour\": [{\"colorbar\": {\"outlinewidth\": 0, \"ticks\": \"\"}, \"colorscale\": [[0.0, \"#0d0887\"], [0.1111111111111111, \"#46039f\"], [0.2222222222222222, \"#7201a8\"], [0.3333333333333333, \"#9c179e\"], [0.4444444444444444, \"#bd3786\"], [0.5555555555555556, \"#d8576b\"], [0.6666666666666666, \"#ed7953\"], [0.7777777777777778, \"#fb9f3a\"], [0.8888888888888888, \"#fdca26\"], [1.0, \"#f0f921\"]], \"type\": \"histogram2dcontour\"}], \"mesh3d\": [{\"colorbar\": {\"outlinewidth\": 0, \"ticks\": \"\"}, \"type\": \"mesh3d\"}], \"parcoords\": [{\"line\": {\"colorbar\": {\"outlinewidth\": 0, \"ticks\": \"\"}}, \"type\": \"parcoords\"}], \"pie\": [{\"automargin\": true, \"type\": \"pie\"}], \"scatter\": [{\"marker\": {\"colorbar\": {\"outlinewidth\": 0, \"ticks\": \"\"}}, \"type\": \"scatter\"}], \"scatter3d\": [{\"line\": {\"colorbar\": {\"outlinewidth\": 0, \"ticks\": \"\"}}, \"marker\": {\"colorbar\": {\"outlinewidth\": 0, \"ticks\": \"\"}}, \"type\": \"scatter3d\"}], \"scattercarpet\": [{\"marker\": {\"colorbar\": {\"outlinewidth\": 0, \"ticks\": \"\"}}, \"type\": \"scattercarpet\"}], \"scattergeo\": [{\"marker\": {\"colorbar\": {\"outlinewidth\": 0, \"ticks\": \"\"}}, \"type\": \"scattergeo\"}], \"scattergl\": [{\"marker\": {\"colorbar\": {\"outlinewidth\": 0, \"ticks\": \"\"}}, \"type\": \"scattergl\"}], \"scattermapbox\": [{\"marker\": {\"colorbar\": {\"outlinewidth\": 0, \"ticks\": \"\"}}, \"type\": \"scattermapbox\"}], \"scatterpolar\": [{\"marker\": {\"colorbar\": {\"outlinewidth\": 0, \"ticks\": \"\"}}, \"type\": \"scatterpolar\"}], \"scatterpolargl\": [{\"marker\": {\"colorbar\": {\"outlinewidth\": 0, \"ticks\": \"\"}}, \"type\": \"scatterpolargl\"}], \"scatterternary\": [{\"marker\": {\"colorbar\": {\"outlinewidth\": 0, \"ticks\": \"\"}}, \"type\": \"scatterternary\"}], \"surface\": [{\"colorbar\": {\"outlinewidth\": 0, \"ticks\": \"\"}, \"colorscale\": [[0.0, \"#0d0887\"], [0.1111111111111111, \"#46039f\"], [0.2222222222222222, \"#7201a8\"], [0.3333333333333333, \"#9c179e\"], [0.4444444444444444, \"#bd3786\"], [0.5555555555555556, \"#d8576b\"], [0.6666666666666666, \"#ed7953\"], [0.7777777777777778, \"#fb9f3a\"], [0.8888888888888888, \"#fdca26\"], [1.0, \"#f0f921\"]], \"type\": \"surface\"}], \"table\": [{\"cells\": {\"fill\": {\"color\": \"#EBF0F8\"}, \"line\": {\"color\": \"white\"}}, \"header\": {\"fill\": {\"color\": \"#C8D4E3\"}, \"line\": {\"color\": \"white\"}}, \"type\": \"table\"}]}, \"layout\": {\"annotationdefaults\": {\"arrowcolor\": \"#2a3f5f\", \"arrowhead\": 0, \"arrowwidth\": 1}, \"coloraxis\": {\"colorbar\": {\"outlinewidth\": 0, \"ticks\": \"\"}}, \"colorscale\": {\"diverging\": [[0, \"#8e0152\"], [0.1, \"#c51b7d\"], [0.2, \"#de77ae\"], [0.3, \"#f1b6da\"], [0.4, \"#fde0ef\"], [0.5, \"#f7f7f7\"], [0.6, \"#e6f5d0\"], [0.7, \"#b8e186\"], [0.8, \"#7fbc41\"], [0.9, \"#4d9221\"], [1, \"#276419\"]], \"sequential\": [[0.0, \"#0d0887\"], [0.1111111111111111, \"#46039f\"], [0.2222222222222222, \"#7201a8\"], [0.3333333333333333, \"#9c179e\"], [0.4444444444444444, \"#bd3786\"], [0.5555555555555556, \"#d8576b\"], [0.6666666666666666, \"#ed7953\"], [0.7777777777777778, \"#fb9f3a\"], [0.8888888888888888, \"#fdca26\"], [1.0, \"#f0f921\"]], \"sequentialminus\": [[0.0, \"#0d0887\"], [0.1111111111111111, \"#46039f\"], [0.2222222222222222, \"#7201a8\"], [0.3333333333333333, \"#9c179e\"], [0.4444444444444444, \"#bd3786\"], [0.5555555555555556, \"#d8576b\"], [0.6666666666666666, \"#ed7953\"], [0.7777777777777778, \"#fb9f3a\"], [0.8888888888888888, \"#fdca26\"], [1.0, \"#f0f921\"]]}, \"colorway\": [\"#636efa\", \"#EF553B\", \"#00cc96\", \"#ab63fa\", \"#FFA15A\", \"#19d3f3\", \"#FF6692\", \"#B6E880\", \"#FF97FF\", \"#FECB52\"], \"font\": {\"color\": \"#2a3f5f\"}, \"geo\": {\"bgcolor\": \"white\", \"lakecolor\": \"white\", \"landcolor\": \"#E5ECF6\", \"showlakes\": true, \"showland\": true, \"subunitcolor\": \"white\"}, \"hoverlabel\": {\"align\": \"left\"}, \"hovermode\": \"closest\", \"mapbox\": {\"style\": \"light\"}, \"paper_bgcolor\": \"white\", \"plot_bgcolor\": \"#E5ECF6\", \"polar\": {\"angularaxis\": {\"gridcolor\": \"white\", \"linecolor\": \"white\", \"ticks\": \"\"}, \"bgcolor\": \"#E5ECF6\", \"radialaxis\": {\"gridcolor\": \"white\", \"linecolor\": \"white\", \"ticks\": \"\"}}, \"scene\": {\"xaxis\": {\"backgroundcolor\": \"#E5ECF6\", \"gridcolor\": \"white\", \"gridwidth\": 2, \"linecolor\": \"white\", \"showbackground\": true, \"ticks\": \"\", \"zerolinecolor\": \"white\"}, \"yaxis\": {\"backgroundcolor\": \"#E5ECF6\", \"gridcolor\": \"white\", \"gridwidth\": 2, \"linecolor\": \"white\", \"showbackground\": true, \"ticks\": \"\", \"zerolinecolor\": \"white\"}, \"zaxis\": {\"backgroundcolor\": \"#E5ECF6\", \"gridcolor\": \"white\", \"gridwidth\": 2, \"linecolor\": \"white\", \"showbackground\": true, \"ticks\": \"\", \"zerolinecolor\": \"white\"}}, \"shapedefaults\": {\"line\": {\"color\": \"#2a3f5f\"}}, \"ternary\": {\"aaxis\": {\"gridcolor\": \"white\", \"linecolor\": \"white\", \"ticks\": \"\"}, \"baxis\": {\"gridcolor\": \"white\", \"linecolor\": \"white\", \"ticks\": \"\"}, \"bgcolor\": \"#E5ECF6\", \"caxis\": {\"gridcolor\": \"white\", \"linecolor\": \"white\", \"ticks\": \"\"}}, \"title\": {\"x\": 0.05}, \"xaxis\": {\"automargin\": true, \"gridcolor\": \"white\", \"linecolor\": \"white\", \"ticks\": \"\", \"title\": {\"standoff\": 15}, \"zerolinecolor\": \"white\", \"zerolinewidth\": 2}, \"yaxis\": {\"automargin\": true, \"gridcolor\": \"white\", \"linecolor\": \"white\", \"ticks\": \"\", \"title\": {\"standoff\": 15}, \"zerolinecolor\": \"white\", \"zerolinewidth\": 2}}}, \"title\": {\"text\": \"Revenue Distribution per Product SKU\"}, \"xaxis\": {\"title\": {\"text\": \"Product SKU\"}}, \"yaxis\": {\"title\": {\"text\": \"Revenue\"}}},\n",
              "                        {\"responsive\": true}\n",
              "                    ).then(function(){\n",
              "                            \n",
              "var gd = document.getElementById('0d90c328-622f-463a-b62e-cd7580c091e7');\n",
              "var x = new MutationObserver(function (mutations, observer) {{\n",
              "        var display = window.getComputedStyle(gd).display;\n",
              "        if (!display || display === 'none') {{\n",
              "            console.log([gd, 'removed!']);\n",
              "            Plotly.purge(gd);\n",
              "            observer.disconnect();\n",
              "        }}\n",
              "}});\n",
              "\n",
              "// Listen for the removal of the full notebook cells\n",
              "var notebookContainer = gd.closest('#notebook-container');\n",
              "if (notebookContainer) {{\n",
              "    x.observe(notebookContainer, {childList: true});\n",
              "}}\n",
              "\n",
              "// Listen for the clearing of the current output cell\n",
              "var outputEl = gd.closest('.output');\n",
              "if (outputEl) {{\n",
              "    x.observe(outputEl, {childList: true});\n",
              "}}\n",
              "\n",
              "                        })\n",
              "                };\n",
              "                \n",
              "            </script>\n",
              "        </div>\n",
              "</body>\n",
              "</html>"
            ]
          },
          "metadata": {
            "tags": []
          }
        }
      ]
    },
    {
      "cell_type": "markdown",
      "metadata": {
        "id": "t6RNk6LH-Ke8"
      },
      "source": [
        "* **Product Sold**\n",
        "    * Of all products, sku046 is most popular product of all time. However, sku038 has the least popularity among other products.\n",
        "* **Quantity Sold Distribution per Product SKU**\n",
        "    * Range of the quantity sold is from 1 to 20.\n",
        "    * To add from the previous analysis, sku038 has the least average amount sold. And also, this product is skewed right, meaning that most of the quantity sold were in the lower range.\n",
        "    * All products were sold almost on the same average, around 9 to 11."
      ]
    },
    {
      "cell_type": "markdown",
      "metadata": {
        "id": "jvVaT5hs-Ke-"
      },
      "source": [
        "### Is it more appealing for customers to purchase promo item? Or purchase items with member promo? Or both? Or no special promo at all?"
      ]
    },
    {
      "cell_type": "code",
      "metadata": {
        "colab": {
          "base_uri": "https://localhost:8080/",
          "height": 542
        },
        "id": "9Xsrw4Me-KfA",
        "outputId": "f11616f7-6268-44f8-fbf0-951e4202b946"
      },
      "source": [
        "mem_promo_0 = (stock_df_nonull['member_promo'] == 0)\n",
        "mem_promo_1 = (stock_df_nonull['member_promo'] == 1)\n",
        "promo_item_0 = (stock_df_nonull['is_promo_item'] == 0)\n",
        "promo_item_1 = (stock_df_nonull['is_promo_item'] == 1)\n",
        "\n",
        "\n",
        "memprom0_itemprom0 = stock_df_nonull[mem_promo_0 & promo_item_0]\n",
        "memprom0_itemprom0 = pd.DataFrame(memprom0_itemprom0.groupby(['product_sku'])['quantity'].sum()).reset_index()\n",
        "\n",
        "memprom0_itemprom1 = stock_df_nonull[mem_promo_0 & promo_item_1]\n",
        "memprom0_itemprom1 = pd.DataFrame(memprom0_itemprom1.groupby(['product_sku'])['quantity'].sum()).reset_index()\n",
        "\n",
        "memprom1_itemprom0 = stock_df_nonull[mem_promo_1 & promo_item_0]\n",
        "memprom1_itemprom0 = pd.DataFrame(memprom1_itemprom0.groupby(['product_sku'])['quantity'].sum()).reset_index()\n",
        "\n",
        "memprom1_itemprom1 = stock_df_nonull[mem_promo_1 & promo_item_1]\n",
        "memprom1_itemprom1 = pd.DataFrame(memprom1_itemprom1.groupby(['product_sku'])['quantity'].sum()).reset_index()\n",
        "\n",
        "######  PLOTTING ######\n",
        "fig = go.Figure()\n",
        "\n",
        "fig.add_trace(go.Bar(x= memprom0_itemprom0['product_sku'], y = memprom0_itemprom0['quantity'],\n",
        "                    name = 'No Promo', marker_color = '#ffd082'))\n",
        "fig.add_trace(go.Bar(x= memprom0_itemprom1['product_sku'], y = memprom0_itemprom1['quantity'],\n",
        "                    name = 'Promo Item', marker_color = '#678a74'))\n",
        "fig.add_trace(go.Bar(x= memprom1_itemprom0['product_sku'], y = memprom1_itemprom0['quantity'],\n",
        "                    name = 'Member Promo', marker_color = '#a7e9af'))\n",
        "fig.add_trace(go.Bar(x= memprom1_itemprom1['product_sku'], y = memprom1_itemprom1['quantity'],\n",
        "                    name = 'Both Promo', marker_color = '#ff7c7c'))\n",
        "\n",
        "\n",
        "fig.update_layout(title_text = 'Comparison of Quantity Sold by Promo Type',\n",
        "                 xaxis_title = 'Product SKU', \n",
        "                  yaxis_title = 'Quantity',\n",
        "                  legend_orientation = 'h',\n",
        "                 legend=dict(x=0, y=1.1))\n",
        "\n",
        "fig.show()"
      ],
      "execution_count": 23,
      "outputs": [
        {
          "output_type": "display_data",
          "data": {
            "text/html": [
              "<html>\n",
              "<head><meta charset=\"utf-8\" /></head>\n",
              "<body>\n",
              "    <div>\n",
              "            <script src=\"https://cdnjs.cloudflare.com/ajax/libs/mathjax/2.7.5/MathJax.js?config=TeX-AMS-MML_SVG\"></script><script type=\"text/javascript\">if (window.MathJax) {MathJax.Hub.Config({SVG: {font: \"STIX-Web\"}});}</script>\n",
              "                <script type=\"text/javascript\">window.PlotlyConfig = {MathJaxConfig: 'local'};</script>\n",
              "        <script src=\"https://cdn.plot.ly/plotly-latest.min.js\"></script>    \n",
              "            <div id=\"60634c27-570c-4cf6-b54d-cb4519516ece\" class=\"plotly-graph-div\" style=\"height:525px; width:100%;\"></div>\n",
              "            <script type=\"text/javascript\">\n",
              "                \n",
              "                    window.PLOTLYENV=window.PLOTLYENV || {};\n",
              "                    \n",
              "                if (document.getElementById(\"60634c27-570c-4cf6-b54d-cb4519516ece\")) {\n",
              "                    Plotly.newPlot(\n",
              "                        '60634c27-570c-4cf6-b54d-cb4519516ece',\n",
              "                        [{\"marker\": {\"color\": \"#ffd082\"}, \"name\": \"No Promo\", \"type\": \"bar\", \"x\": [\"sku021\", \"sku022\", \"sku023\", \"sku024\", \"sku025\", \"sku026\", \"sku027\", \"sku028\", \"sku029\", \"sku030\", \"sku031\", \"sku032\", \"sku033\", \"sku034\", \"sku035\", \"sku036\", \"sku037\", \"sku038\", \"sku039\", \"sku040\", \"sku041\", \"sku042\", \"sku043\", \"sku044\", \"sku045\", \"sku046\", \"sku047\", \"sku048\", \"sku049\", \"sku050\", \"sku051\"], \"y\": [100.0, 167.0, 100.0, 120.0, 133.0, 183.0, 164.0, 137.0, 169.0, 119.0, 125.0, 177.0, 192.0, 185.0, 193.0, 143.0, 235.0, 150.0, 152.0, 172.0, 143.0, 175.0, 165.0, 204.0, 152.0, 149.0, 145.0, 151.0, 165.0, 80.0, 183.0]}, {\"marker\": {\"color\": \"#678a74\"}, \"name\": \"Promo Item\", \"type\": \"bar\", \"x\": [\"sku021\", \"sku022\", \"sku023\", \"sku024\", \"sku025\", \"sku026\", \"sku027\", \"sku028\", \"sku029\", \"sku030\", \"sku031\", \"sku032\", \"sku033\", \"sku034\", \"sku035\", \"sku036\", \"sku037\", \"sku038\", \"sku039\", \"sku040\", \"sku041\", \"sku042\", \"sku043\", \"sku044\", \"sku045\", \"sku046\", \"sku047\", \"sku048\", \"sku049\", \"sku050\", \"sku051\"], \"y\": [213.0, 121.0, 95.0, 133.0, 176.0, 139.0, 139.0, 136.0, 113.0, 200.0, 167.0, 161.0, 151.0, 178.0, 169.0, 156.0, 98.0, 90.0, 92.0, 72.0, 128.0, 85.0, 125.0, 115.0, 171.0, 172.0, 168.0, 136.0, 147.0, 174.0, 115.0]}, {\"marker\": {\"color\": \"#a7e9af\"}, \"name\": \"Member Promo\", \"type\": \"bar\", \"x\": [\"sku021\", \"sku022\", \"sku023\", \"sku024\", \"sku025\", \"sku026\", \"sku027\", \"sku028\", \"sku029\", \"sku030\", \"sku031\", \"sku032\", \"sku033\", \"sku034\", \"sku035\", \"sku036\", \"sku037\", \"sku038\", \"sku039\", \"sku040\", \"sku041\", \"sku042\", \"sku043\", \"sku044\", \"sku045\", \"sku046\", \"sku047\", \"sku048\", \"sku049\", \"sku050\", \"sku051\"], \"y\": [114.0, 131.0, 224.0, 164.0, 155.0, 153.0, 186.0, 133.0, 86.0, 147.0, 111.0, 162.0, 153.0, 128.0, 136.0, 184.0, 143.0, 41.0, 110.0, 150.0, 88.0, 132.0, 175.0, 119.0, 191.0, 172.0, 200.0, 94.0, 108.0, 188.0, 198.0]}, {\"marker\": {\"color\": \"#ff7c7c\"}, \"name\": \"Both Promo\", \"type\": \"bar\", \"x\": [\"sku021\", \"sku022\", \"sku023\", \"sku024\", \"sku025\", \"sku026\", \"sku027\", \"sku028\", \"sku029\", \"sku030\", \"sku031\", \"sku032\", \"sku033\", \"sku034\", \"sku035\", \"sku036\", \"sku037\", \"sku038\", \"sku039\", \"sku040\", \"sku041\", \"sku042\", \"sku043\", \"sku044\", \"sku045\", \"sku046\", \"sku047\", \"sku048\", \"sku049\", \"sku050\", \"sku051\"], \"y\": [227.0, 198.0, 175.0, 195.0, 143.0, 125.0, 172.0, 183.0, 165.0, 80.0, 135.0, 96.0, 164.0, 122.0, 152.0, 142.0, 140.0, 152.0, 136.0, 104.0, 193.0, 107.0, 123.0, 119.0, 77.0, 210.0, 89.0, 183.0, 133.0, 155.0, 157.0]}],\n",
              "                        {\"legend\": {\"orientation\": \"h\", \"x\": 0, \"y\": 1.1}, \"template\": {\"data\": {\"bar\": [{\"error_x\": {\"color\": \"#2a3f5f\"}, \"error_y\": {\"color\": \"#2a3f5f\"}, \"marker\": {\"line\": {\"color\": \"#E5ECF6\", \"width\": 0.5}}, \"type\": \"bar\"}], \"barpolar\": [{\"marker\": {\"line\": {\"color\": \"#E5ECF6\", \"width\": 0.5}}, \"type\": \"barpolar\"}], \"carpet\": [{\"aaxis\": {\"endlinecolor\": \"#2a3f5f\", \"gridcolor\": \"white\", \"linecolor\": \"white\", \"minorgridcolor\": \"white\", \"startlinecolor\": \"#2a3f5f\"}, \"baxis\": {\"endlinecolor\": \"#2a3f5f\", \"gridcolor\": \"white\", \"linecolor\": \"white\", \"minorgridcolor\": \"white\", \"startlinecolor\": \"#2a3f5f\"}, \"type\": \"carpet\"}], \"choropleth\": [{\"colorbar\": {\"outlinewidth\": 0, \"ticks\": \"\"}, \"type\": \"choropleth\"}], \"contour\": [{\"colorbar\": {\"outlinewidth\": 0, \"ticks\": \"\"}, \"colorscale\": [[0.0, \"#0d0887\"], [0.1111111111111111, \"#46039f\"], [0.2222222222222222, \"#7201a8\"], [0.3333333333333333, \"#9c179e\"], [0.4444444444444444, \"#bd3786\"], [0.5555555555555556, \"#d8576b\"], [0.6666666666666666, \"#ed7953\"], [0.7777777777777778, \"#fb9f3a\"], [0.8888888888888888, \"#fdca26\"], [1.0, \"#f0f921\"]], \"type\": \"contour\"}], \"contourcarpet\": [{\"colorbar\": {\"outlinewidth\": 0, \"ticks\": \"\"}, \"type\": \"contourcarpet\"}], \"heatmap\": [{\"colorbar\": {\"outlinewidth\": 0, \"ticks\": \"\"}, \"colorscale\": [[0.0, \"#0d0887\"], [0.1111111111111111, \"#46039f\"], [0.2222222222222222, \"#7201a8\"], [0.3333333333333333, \"#9c179e\"], [0.4444444444444444, \"#bd3786\"], [0.5555555555555556, \"#d8576b\"], [0.6666666666666666, \"#ed7953\"], [0.7777777777777778, \"#fb9f3a\"], [0.8888888888888888, \"#fdca26\"], [1.0, \"#f0f921\"]], \"type\": \"heatmap\"}], \"heatmapgl\": [{\"colorbar\": {\"outlinewidth\": 0, \"ticks\": \"\"}, \"colorscale\": [[0.0, \"#0d0887\"], [0.1111111111111111, \"#46039f\"], [0.2222222222222222, \"#7201a8\"], [0.3333333333333333, \"#9c179e\"], [0.4444444444444444, \"#bd3786\"], [0.5555555555555556, \"#d8576b\"], [0.6666666666666666, \"#ed7953\"], [0.7777777777777778, \"#fb9f3a\"], [0.8888888888888888, \"#fdca26\"], [1.0, \"#f0f921\"]], \"type\": \"heatmapgl\"}], \"histogram\": [{\"marker\": {\"colorbar\": {\"outlinewidth\": 0, \"ticks\": \"\"}}, \"type\": \"histogram\"}], \"histogram2d\": [{\"colorbar\": {\"outlinewidth\": 0, \"ticks\": \"\"}, \"colorscale\": [[0.0, \"#0d0887\"], [0.1111111111111111, \"#46039f\"], [0.2222222222222222, \"#7201a8\"], [0.3333333333333333, \"#9c179e\"], [0.4444444444444444, \"#bd3786\"], [0.5555555555555556, \"#d8576b\"], [0.6666666666666666, \"#ed7953\"], [0.7777777777777778, \"#fb9f3a\"], [0.8888888888888888, \"#fdca26\"], [1.0, \"#f0f921\"]], \"type\": \"histogram2d\"}], \"histogram2dcontour\": [{\"colorbar\": {\"outlinewidth\": 0, \"ticks\": \"\"}, \"colorscale\": [[0.0, \"#0d0887\"], [0.1111111111111111, \"#46039f\"], [0.2222222222222222, \"#7201a8\"], [0.3333333333333333, \"#9c179e\"], [0.4444444444444444, \"#bd3786\"], [0.5555555555555556, \"#d8576b\"], [0.6666666666666666, \"#ed7953\"], [0.7777777777777778, \"#fb9f3a\"], [0.8888888888888888, \"#fdca26\"], [1.0, \"#f0f921\"]], \"type\": \"histogram2dcontour\"}], \"mesh3d\": [{\"colorbar\": {\"outlinewidth\": 0, \"ticks\": \"\"}, \"type\": \"mesh3d\"}], \"parcoords\": [{\"line\": {\"colorbar\": {\"outlinewidth\": 0, \"ticks\": \"\"}}, \"type\": \"parcoords\"}], \"pie\": [{\"automargin\": true, \"type\": \"pie\"}], \"scatter\": [{\"marker\": {\"colorbar\": {\"outlinewidth\": 0, \"ticks\": \"\"}}, \"type\": \"scatter\"}], \"scatter3d\": [{\"line\": {\"colorbar\": {\"outlinewidth\": 0, \"ticks\": \"\"}}, \"marker\": {\"colorbar\": {\"outlinewidth\": 0, \"ticks\": \"\"}}, \"type\": \"scatter3d\"}], \"scattercarpet\": [{\"marker\": {\"colorbar\": {\"outlinewidth\": 0, \"ticks\": \"\"}}, \"type\": \"scattercarpet\"}], \"scattergeo\": [{\"marker\": {\"colorbar\": {\"outlinewidth\": 0, \"ticks\": \"\"}}, \"type\": \"scattergeo\"}], \"scattergl\": [{\"marker\": {\"colorbar\": {\"outlinewidth\": 0, \"ticks\": \"\"}}, \"type\": \"scattergl\"}], \"scattermapbox\": [{\"marker\": {\"colorbar\": {\"outlinewidth\": 0, \"ticks\": \"\"}}, \"type\": \"scattermapbox\"}], \"scatterpolar\": [{\"marker\": {\"colorbar\": {\"outlinewidth\": 0, \"ticks\": \"\"}}, \"type\": \"scatterpolar\"}], \"scatterpolargl\": [{\"marker\": {\"colorbar\": {\"outlinewidth\": 0, \"ticks\": \"\"}}, \"type\": \"scatterpolargl\"}], \"scatterternary\": [{\"marker\": {\"colorbar\": {\"outlinewidth\": 0, \"ticks\": \"\"}}, \"type\": \"scatterternary\"}], \"surface\": [{\"colorbar\": {\"outlinewidth\": 0, \"ticks\": \"\"}, \"colorscale\": [[0.0, \"#0d0887\"], [0.1111111111111111, \"#46039f\"], [0.2222222222222222, \"#7201a8\"], [0.3333333333333333, \"#9c179e\"], [0.4444444444444444, \"#bd3786\"], [0.5555555555555556, \"#d8576b\"], [0.6666666666666666, \"#ed7953\"], [0.7777777777777778, \"#fb9f3a\"], [0.8888888888888888, \"#fdca26\"], [1.0, \"#f0f921\"]], \"type\": \"surface\"}], \"table\": [{\"cells\": {\"fill\": {\"color\": \"#EBF0F8\"}, \"line\": {\"color\": \"white\"}}, \"header\": {\"fill\": {\"color\": \"#C8D4E3\"}, \"line\": {\"color\": \"white\"}}, \"type\": \"table\"}]}, \"layout\": {\"annotationdefaults\": {\"arrowcolor\": \"#2a3f5f\", \"arrowhead\": 0, \"arrowwidth\": 1}, \"coloraxis\": {\"colorbar\": {\"outlinewidth\": 0, \"ticks\": \"\"}}, \"colorscale\": {\"diverging\": [[0, \"#8e0152\"], [0.1, \"#c51b7d\"], [0.2, \"#de77ae\"], [0.3, \"#f1b6da\"], [0.4, \"#fde0ef\"], [0.5, \"#f7f7f7\"], [0.6, \"#e6f5d0\"], [0.7, \"#b8e186\"], [0.8, \"#7fbc41\"], [0.9, \"#4d9221\"], [1, \"#276419\"]], \"sequential\": [[0.0, \"#0d0887\"], [0.1111111111111111, \"#46039f\"], [0.2222222222222222, \"#7201a8\"], [0.3333333333333333, \"#9c179e\"], [0.4444444444444444, \"#bd3786\"], [0.5555555555555556, \"#d8576b\"], [0.6666666666666666, \"#ed7953\"], [0.7777777777777778, \"#fb9f3a\"], [0.8888888888888888, \"#fdca26\"], [1.0, \"#f0f921\"]], \"sequentialminus\": [[0.0, \"#0d0887\"], [0.1111111111111111, \"#46039f\"], [0.2222222222222222, \"#7201a8\"], [0.3333333333333333, \"#9c179e\"], [0.4444444444444444, \"#bd3786\"], [0.5555555555555556, \"#d8576b\"], [0.6666666666666666, \"#ed7953\"], [0.7777777777777778, \"#fb9f3a\"], [0.8888888888888888, \"#fdca26\"], [1.0, \"#f0f921\"]]}, \"colorway\": [\"#636efa\", \"#EF553B\", \"#00cc96\", \"#ab63fa\", \"#FFA15A\", \"#19d3f3\", \"#FF6692\", \"#B6E880\", \"#FF97FF\", \"#FECB52\"], \"font\": {\"color\": \"#2a3f5f\"}, \"geo\": {\"bgcolor\": \"white\", \"lakecolor\": \"white\", \"landcolor\": \"#E5ECF6\", \"showlakes\": true, \"showland\": true, \"subunitcolor\": \"white\"}, \"hoverlabel\": {\"align\": \"left\"}, \"hovermode\": \"closest\", \"mapbox\": {\"style\": \"light\"}, \"paper_bgcolor\": \"white\", \"plot_bgcolor\": \"#E5ECF6\", \"polar\": {\"angularaxis\": {\"gridcolor\": \"white\", \"linecolor\": \"white\", \"ticks\": \"\"}, \"bgcolor\": \"#E5ECF6\", \"radialaxis\": {\"gridcolor\": \"white\", \"linecolor\": \"white\", \"ticks\": \"\"}}, \"scene\": {\"xaxis\": {\"backgroundcolor\": \"#E5ECF6\", \"gridcolor\": \"white\", \"gridwidth\": 2, \"linecolor\": \"white\", \"showbackground\": true, \"ticks\": \"\", \"zerolinecolor\": \"white\"}, \"yaxis\": {\"backgroundcolor\": \"#E5ECF6\", \"gridcolor\": \"white\", \"gridwidth\": 2, \"linecolor\": \"white\", \"showbackground\": true, \"ticks\": \"\", \"zerolinecolor\": \"white\"}, \"zaxis\": {\"backgroundcolor\": \"#E5ECF6\", \"gridcolor\": \"white\", \"gridwidth\": 2, \"linecolor\": \"white\", \"showbackground\": true, \"ticks\": \"\", \"zerolinecolor\": \"white\"}}, \"shapedefaults\": {\"line\": {\"color\": \"#2a3f5f\"}}, \"ternary\": {\"aaxis\": {\"gridcolor\": \"white\", \"linecolor\": \"white\", \"ticks\": \"\"}, \"baxis\": {\"gridcolor\": \"white\", \"linecolor\": \"white\", \"ticks\": \"\"}, \"bgcolor\": \"#E5ECF6\", \"caxis\": {\"gridcolor\": \"white\", \"linecolor\": \"white\", \"ticks\": \"\"}}, \"title\": {\"x\": 0.05}, \"xaxis\": {\"automargin\": true, \"gridcolor\": \"white\", \"linecolor\": \"white\", \"ticks\": \"\", \"title\": {\"standoff\": 15}, \"zerolinecolor\": \"white\", \"zerolinewidth\": 2}, \"yaxis\": {\"automargin\": true, \"gridcolor\": \"white\", \"linecolor\": \"white\", \"ticks\": \"\", \"title\": {\"standoff\": 15}, \"zerolinecolor\": \"white\", \"zerolinewidth\": 2}}}, \"title\": {\"text\": \"Comparison of Quantity Sold by Promo Type\"}, \"xaxis\": {\"title\": {\"text\": \"Product SKU\"}}, \"yaxis\": {\"title\": {\"text\": \"Quantity\"}}},\n",
              "                        {\"responsive\": true}\n",
              "                    ).then(function(){\n",
              "                            \n",
              "var gd = document.getElementById('60634c27-570c-4cf6-b54d-cb4519516ece');\n",
              "var x = new MutationObserver(function (mutations, observer) {{\n",
              "        var display = window.getComputedStyle(gd).display;\n",
              "        if (!display || display === 'none') {{\n",
              "            console.log([gd, 'removed!']);\n",
              "            Plotly.purge(gd);\n",
              "            observer.disconnect();\n",
              "        }}\n",
              "}});\n",
              "\n",
              "// Listen for the removal of the full notebook cells\n",
              "var notebookContainer = gd.closest('#notebook-container');\n",
              "if (notebookContainer) {{\n",
              "    x.observe(notebookContainer, {childList: true});\n",
              "}}\n",
              "\n",
              "// Listen for the clearing of the current output cell\n",
              "var outputEl = gd.closest('.output');\n",
              "if (outputEl) {{\n",
              "    x.observe(outputEl, {childList: true});\n",
              "}}\n",
              "\n",
              "                        })\n",
              "                };\n",
              "                \n",
              "            </script>\n",
              "        </div>\n",
              "</body>\n",
              "</html>"
            ]
          },
          "metadata": {
            "tags": []
          }
        }
      ]
    },
    {
      "cell_type": "markdown",
      "metadata": {
        "id": "eRWWT16D-KfD"
      },
      "source": [
        "* Popular products when the item is on promo and get a member promo:\n",
        "    * 021\n",
        "    * 022\n",
        "    * 024\n",
        "    * 028\n",
        "    * 038\n",
        "    * 041\n",
        "    * 046\n",
        "    * 048\n",
        "* Popular products when item has no promo at all:\n",
        "    * 026\n",
        "    * 029\n",
        "    * 032\n",
        "    * 033\n",
        "    * 034\n",
        "    * 035\n",
        "    * 037\n",
        "    * 039\n",
        "    * 040\n",
        "    * 042\n",
        "    * 044\n",
        "    * 049\n",
        "* Popular products for promo item:\n",
        "    * 025\n",
        "    * 030\n",
        "    * 031\n",
        "* Popular products for member promo:\n",
        "    * 023\n",
        "    * 027\n",
        "    * 036\n",
        "    * 043\n",
        "    * 045\n",
        "    * 047\n",
        "    * 050\n",
        "    * 051"
      ]
    },
    {
      "cell_type": "markdown",
      "metadata": {
        "id": "IIQ0616l-KfF"
      },
      "source": [
        "| Product Promo | Total Number of Products Sold |\n",
        "| :-: | :-: |\n",
        "| No Promo | 12 |\n",
        "| Promo Items Only | 3 |\n",
        "| Member Promo Only | 8 |\n",
        "| Both Promos | 8 |\n",
        "\n",
        "#### In conclusion, there are more items sold even when there's no promo at all."
      ]
    },
    {
      "cell_type": "code",
      "metadata": {
        "colab": {
          "base_uri": "https://localhost:8080/",
          "height": 202
        },
        "id": "ShaiWcqb-KfG",
        "outputId": "abad0341-83f4-4d33-bd29-3953a0646ea0"
      },
      "source": [
        "no_promo_list = ['sku026', 'sku029', 'sku032', 'sku033', 'sku034', 'sku035', 'sku037', 'sku039', 'sku040',\n",
        "                 'sku042', 'sku044', 'sku049']\n",
        "\n",
        "no_promo_items = stock_df_nonull[(stock_df_nonull['product_sku'].isin(no_promo_list)) & \n",
        "                                mem_promo_0 & promo_item_0]\n",
        "no_promo_items.sort_values(by = 'product_sku').head()"
      ],
      "execution_count": 24,
      "outputs": [
        {
          "output_type": "execute_result",
          "data": {
            "text/html": [
              "<div>\n",
              "<style scoped>\n",
              "    .dataframe tbody tr th:only-of-type {\n",
              "        vertical-align: middle;\n",
              "    }\n",
              "\n",
              "    .dataframe tbody tr th {\n",
              "        vertical-align: top;\n",
              "    }\n",
              "\n",
              "    .dataframe thead th {\n",
              "        text-align: right;\n",
              "    }\n",
              "</style>\n",
              "<table border=\"1\" class=\"dataframe\">\n",
              "  <thead>\n",
              "    <tr style=\"text-align: right;\">\n",
              "      <th></th>\n",
              "      <th>date</th>\n",
              "      <th>product_sku</th>\n",
              "      <th>price</th>\n",
              "      <th>store</th>\n",
              "      <th>is_promo_item</th>\n",
              "      <th>member_promo</th>\n",
              "      <th>quantity</th>\n",
              "      <th>day_num</th>\n",
              "      <th>month_num</th>\n",
              "      <th>year_num</th>\n",
              "      <th>day_name</th>\n",
              "      <th>week_num</th>\n",
              "      <th>year_month</th>\n",
              "      <th>year_week</th>\n",
              "      <th>wom</th>\n",
              "      <th>revenue</th>\n",
              "    </tr>\n",
              "  </thead>\n",
              "  <tbody>\n",
              "    <tr>\n",
              "      <th>1687</th>\n",
              "      <td>2019-12-18</td>\n",
              "      <td>sku026</td>\n",
              "      <td>2140997.06</td>\n",
              "      <td>storeA026</td>\n",
              "      <td>0.0</td>\n",
              "      <td>0.0</td>\n",
              "      <td>13.0</td>\n",
              "      <td>18</td>\n",
              "      <td>12</td>\n",
              "      <td>2019</td>\n",
              "      <td>Wednesday</td>\n",
              "      <td>51</td>\n",
              "      <td>2019-12</td>\n",
              "      <td>2019-51</td>\n",
              "      <td>3</td>\n",
              "      <td>27832961.78</td>\n",
              "    </tr>\n",
              "    <tr>\n",
              "      <th>1346</th>\n",
              "      <td>2019-11-22</td>\n",
              "      <td>sku026</td>\n",
              "      <td>4863376.49</td>\n",
              "      <td>storeA027</td>\n",
              "      <td>0.0</td>\n",
              "      <td>0.0</td>\n",
              "      <td>19.0</td>\n",
              "      <td>22</td>\n",
              "      <td>11</td>\n",
              "      <td>2019</td>\n",
              "      <td>Friday</td>\n",
              "      <td>47</td>\n",
              "      <td>2019-11</td>\n",
              "      <td>2019-47</td>\n",
              "      <td>4</td>\n",
              "      <td>92404153.31</td>\n",
              "    </tr>\n",
              "    <tr>\n",
              "      <th>36</th>\n",
              "      <td>2019-12-12</td>\n",
              "      <td>sku026</td>\n",
              "      <td>998986.13</td>\n",
              "      <td>storeA007</td>\n",
              "      <td>0.0</td>\n",
              "      <td>0.0</td>\n",
              "      <td>19.0</td>\n",
              "      <td>12</td>\n",
              "      <td>12</td>\n",
              "      <td>2019</td>\n",
              "      <td>Thursday</td>\n",
              "      <td>50</td>\n",
              "      <td>2019-12</td>\n",
              "      <td>2019-50</td>\n",
              "      <td>2</td>\n",
              "      <td>18980736.47</td>\n",
              "    </tr>\n",
              "    <tr>\n",
              "      <th>191</th>\n",
              "      <td>2019-12-12</td>\n",
              "      <td>sku026</td>\n",
              "      <td>2185963.92</td>\n",
              "      <td>storeA020</td>\n",
              "      <td>0.0</td>\n",
              "      <td>0.0</td>\n",
              "      <td>2.0</td>\n",
              "      <td>12</td>\n",
              "      <td>12</td>\n",
              "      <td>2019</td>\n",
              "      <td>Thursday</td>\n",
              "      <td>50</td>\n",
              "      <td>2019-12</td>\n",
              "      <td>2019-50</td>\n",
              "      <td>2</td>\n",
              "      <td>4371927.84</td>\n",
              "    </tr>\n",
              "    <tr>\n",
              "      <th>1315</th>\n",
              "      <td>2019-11-21</td>\n",
              "      <td>sku026</td>\n",
              "      <td>3649459.33</td>\n",
              "      <td>storeA021</td>\n",
              "      <td>0.0</td>\n",
              "      <td>0.0</td>\n",
              "      <td>13.0</td>\n",
              "      <td>21</td>\n",
              "      <td>11</td>\n",
              "      <td>2019</td>\n",
              "      <td>Thursday</td>\n",
              "      <td>47</td>\n",
              "      <td>2019-11</td>\n",
              "      <td>2019-47</td>\n",
              "      <td>3</td>\n",
              "      <td>47442971.29</td>\n",
              "    </tr>\n",
              "  </tbody>\n",
              "</table>\n",
              "</div>"
            ],
            "text/plain": [
              "           date product_sku       price  ... year_week  wom      revenue\n",
              "1687 2019-12-18      sku026  2140997.06  ...   2019-51    3  27832961.78\n",
              "1346 2019-11-22      sku026  4863376.49  ...   2019-47    4  92404153.31\n",
              "36   2019-12-12      sku026   998986.13  ...   2019-50    2  18980736.47\n",
              "191  2019-12-12      sku026  2185963.92  ...   2019-50    2   4371927.84\n",
              "1315 2019-11-21      sku026  3649459.33  ...   2019-47    3  47442971.29\n",
              "\n",
              "[5 rows x 16 columns]"
            ]
          },
          "metadata": {
            "tags": []
          },
          "execution_count": 24
        }
      ]
    },
    {
      "cell_type": "markdown",
      "metadata": {
        "id": "ySMdXXkE-KfH"
      },
      "source": [
        "#  ----------------------------------------------------------------------------------------------------------------"
      ]
    },
    {
      "cell_type": "markdown",
      "metadata": {
        "id": "SO36S_3A-KfJ"
      },
      "source": [
        "### When do customers look for promo items? And are they looking for cheaper or more expensive items?"
      ]
    },
    {
      "cell_type": "code",
      "metadata": {
        "id": "IOl-7COK-KfJ"
      },
      "source": [
        "day_name_list = ['Monday', 'Tuesday', 'Wednesday', 'Thursday', 'Friday', 'Saturday', 'Sunday']\n",
        "sorterIndex = dict(zip(day_name_list, range(len(day_name_list))))\n",
        "\n",
        "####### Promo Item Only\n",
        "promo_item_only = stock_df_nonull[(mem_promo_0 & promo_item_1)]\n",
        "pio_qty_date = pd.DataFrame(promo_item_only.groupby(['date'])['quantity'].mean()).reset_index()\n",
        "pio_qty_month = pd.DataFrame(promo_item_only.groupby(['year_month'])['quantity'].mean()).reset_index()\n",
        "pio_qty_day = pd.DataFrame(promo_item_only.groupby(['day_num'])['quantity'].mean()).reset_index()\n",
        "\n",
        "pio_qty_dayname = pd.DataFrame(promo_item_only.groupby(['day_name'])['quantity'].mean()).reset_index()\n",
        "pio_qty_dayname['day_name_rank'] = pio_qty_dayname['day_name'].map(sorterIndex)\n",
        "pio_qty_dayname.sort_values(by = 'day_name_rank', inplace = True)\n",
        "\n",
        "###### Member Promo Only\n",
        "member_promo_only = stock_df_nonull[(mem_promo_1 & promo_item_0)]\n",
        "mpo_qty_date = pd.DataFrame(member_promo_only.groupby(['date'])['quantity'].mean()).reset_index()\n",
        "mpo_qty_month = pd.DataFrame(member_promo_only.groupby(['year_month'])['quantity'].mean()).reset_index()\n",
        "mpo_qty_day = pd.DataFrame(member_promo_only.groupby(['day_num'])['quantity'].mean()).reset_index()\n",
        "\n",
        "mpo_qty_dayname = pd.DataFrame(member_promo_only.groupby(['day_name'])['quantity'].mean()).reset_index()\n",
        "mpo_qty_dayname['day_name_rank'] = mpo_qty_dayname['day_name'].map(sorterIndex)\n",
        "mpo_qty_dayname.sort_values(by = 'day_name_rank', inplace = True)\n",
        "\n",
        "mean_qty_date = stock_df_nonull.loc[(mem_promo_0 & promo_item_1) | (mem_promo_1 & promo_item_0), :]\n"
      ],
      "execution_count": 25,
      "outputs": []
    },
    {
      "cell_type": "code",
      "metadata": {
        "scrolled": false,
        "colab": {
          "base_uri": "https://localhost:8080/",
          "height": 1000
        },
        "id": "shUlYrgO-KfL",
        "outputId": "3e6ddab3-c238-4309-f95e-bcfb9f98ee55"
      },
      "source": [
        "############# FULL DATE\n",
        "fig = go.Figure()\n",
        "\n",
        "fig.add_trace(go.Scatter(x = pio_qty_date['date'], y = pio_qty_date['quantity'], name = 'Promo Item Qty', \n",
        "                         mode = 'lines+markers'))\n",
        "\n",
        "fig.add_trace(go.Scatter(x = mpo_qty_date['date'], y = mpo_qty_date['quantity'], name = 'Member Promo Qty', \n",
        "                         mode = 'lines+markers'))\n",
        "\n",
        "fig.update_layout(title_text = 'Average Qty Sold by Date', xaxis_title = 'Date', yaxis_title = 'Avg Qty',\n",
        "                 legend_orientation = 'h',\n",
        "                   legend=dict(x=0, y=1.1))\n",
        "\n",
        "fig.show()\n",
        "\n",
        "############# Month\n",
        "fig4 = go.Figure()\n",
        "\n",
        "fig4.add_trace(go.Bar(x = pio_qty_month['year_month'], y = pio_qty_month['quantity'], name = 'Promo Item Qty',\n",
        "                     text = round(pio_qty_month['quantity'],2), textposition = 'auto'))\n",
        "\n",
        "fig4.add_trace(go.Bar(x = mpo_qty_month['year_month'], y = mpo_qty_month['quantity'], name = 'Member Promo Qty',\n",
        "                     text = round(mpo_qty_month['quantity'],2), textposition = 'auto'))\n",
        "\n",
        "fig4.update_layout(title_text = 'Average Qty Sold by Month', xaxis_title = 'Date', yaxis_title = 'Avg Qty',\n",
        "                   xaxis_type = 'category',\n",
        "                  legend_orientation = 'h',\n",
        "                   legend=dict(x=0, y=1.1))\n",
        "\n",
        "fig4.show()\n",
        "\n",
        "############# DAY NUM\n",
        "fig2 = go.Figure()\n",
        "\n",
        "fig2.add_trace(go.Scatter(x = pio_qty_day['day_num'], y = pio_qty_day['quantity'], name = 'Promo Item Qty', \n",
        "                          mode = 'lines+markers'))\n",
        "\n",
        "fig2.add_trace(go.Scatter(x = mpo_qty_day['day_num'], y = mpo_qty_day['quantity'], name = 'Member Promo Qty', \n",
        "                          mode = 'lines+markers'))\n",
        "\n",
        "fig2.update_layout(title_text = 'Average Qty Sold by Day Number', xaxis_title = 'Day Num', yaxis_title = 'Avg Qty',\n",
        "                  legend_orientation = 'h',\n",
        "                   legend=dict(x=0, y=1.1))\n",
        "\n",
        "fig2.show()\n",
        "\n",
        "############# DAY NAME\n",
        "fig3 = go.Figure()\n",
        "\n",
        "fig3.add_trace(go.Scatter(x = pio_qty_dayname['day_name'], y = pio_qty_dayname['quantity'], name = 'Promo Item Qty', \n",
        "                          mode = 'lines+markers'))\n",
        "\n",
        "fig3.add_trace(go.Scatter(x = mpo_qty_dayname['day_name'], y = mpo_qty_dayname['quantity'], name = 'Member Promo Qty', \n",
        "                          mode = 'lines+markers'))\n",
        "\n",
        "fig3.update_layout(title_text = 'Average Qty Sold by Day Name', xaxis_title = 'Day Name', yaxis_title = 'Avg Qty',\n",
        "                  legend_orientation = 'h',\n",
        "                   legend=dict(x=0, y=1.1))\n",
        "\n",
        "fig3.show()"
      ],
      "execution_count": 26,
      "outputs": [
        {
          "output_type": "display_data",
          "data": {
            "text/html": [
              "<html>\n",
              "<head><meta charset=\"utf-8\" /></head>\n",
              "<body>\n",
              "    <div>\n",
              "            <script src=\"https://cdnjs.cloudflare.com/ajax/libs/mathjax/2.7.5/MathJax.js?config=TeX-AMS-MML_SVG\"></script><script type=\"text/javascript\">if (window.MathJax) {MathJax.Hub.Config({SVG: {font: \"STIX-Web\"}});}</script>\n",
              "                <script type=\"text/javascript\">window.PlotlyConfig = {MathJaxConfig: 'local'};</script>\n",
              "        <script src=\"https://cdn.plot.ly/plotly-latest.min.js\"></script>    \n",
              "            <div id=\"a137c8fb-6151-426a-afa8-baf5d66fe037\" class=\"plotly-graph-div\" style=\"height:525px; width:100%;\"></div>\n",
              "            <script type=\"text/javascript\">\n",
              "                \n",
              "                    window.PLOTLYENV=window.PLOTLYENV || {};\n",
              "                    \n",
              "                if (document.getElementById(\"a137c8fb-6151-426a-afa8-baf5d66fe037\")) {\n",
              "                    Plotly.newPlot(\n",
              "                        'a137c8fb-6151-426a-afa8-baf5d66fe037',\n",
              "                        [{\"mode\": \"lines+markers\", \"name\": \"Promo Item Qty\", \"type\": \"scatter\", \"x\": [\"2019-11-01T00:00:00\", \"2019-11-02T00:00:00\", \"2019-11-03T00:00:00\", \"2019-11-04T00:00:00\", \"2019-11-05T00:00:00\", \"2019-11-06T00:00:00\", \"2019-11-07T00:00:00\", \"2019-11-08T00:00:00\", \"2019-11-09T00:00:00\", \"2019-11-10T00:00:00\", \"2019-11-11T00:00:00\", \"2019-11-12T00:00:00\", \"2019-11-13T00:00:00\", \"2019-11-14T00:00:00\", \"2019-11-15T00:00:00\", \"2019-11-16T00:00:00\", \"2019-11-17T00:00:00\", \"2019-11-18T00:00:00\", \"2019-11-19T00:00:00\", \"2019-11-20T00:00:00\", \"2019-11-21T00:00:00\", \"2019-11-22T00:00:00\", \"2019-11-23T00:00:00\", \"2019-11-24T00:00:00\", \"2019-11-25T00:00:00\", \"2019-11-26T00:00:00\", \"2019-11-27T00:00:00\", \"2019-11-28T00:00:00\", \"2019-11-29T00:00:00\", \"2019-12-01T00:00:00\", \"2019-12-02T00:00:00\", \"2019-12-03T00:00:00\", \"2019-12-04T00:00:00\", \"2019-12-05T00:00:00\", \"2019-12-06T00:00:00\", \"2019-12-07T00:00:00\", \"2019-12-08T00:00:00\", \"2019-12-09T00:00:00\", \"2019-12-10T00:00:00\", \"2019-12-11T00:00:00\", \"2019-12-12T00:00:00\", \"2019-12-13T00:00:00\", \"2019-12-14T00:00:00\", \"2019-12-15T00:00:00\", \"2019-12-16T00:00:00\", \"2019-12-17T00:00:00\", \"2019-12-18T00:00:00\", \"2019-12-19T00:00:00\", \"2019-12-20T00:00:00\", \"2019-12-21T00:00:00\", \"2019-12-22T00:00:00\", \"2019-12-23T00:00:00\", \"2019-12-24T00:00:00\", \"2019-12-25T00:00:00\", \"2019-12-26T00:00:00\", \"2019-12-27T00:00:00\", \"2019-12-28T00:00:00\", \"2019-12-29T00:00:00\", \"2019-12-30T00:00:00\", \"2019-12-31T00:00:00\", \"2020-01-01T00:00:00\", \"2020-01-02T00:00:00\", \"2020-01-04T00:00:00\", \"2020-01-05T00:00:00\", \"2020-01-06T00:00:00\", \"2020-01-07T00:00:00\", \"2020-01-08T00:00:00\", \"2020-01-09T00:00:00\", \"2020-01-10T00:00:00\", \"2020-01-11T00:00:00\", \"2020-01-12T00:00:00\", \"2020-01-13T00:00:00\", \"2020-01-14T00:00:00\", \"2020-01-15T00:00:00\", \"2020-01-16T00:00:00\", \"2020-01-17T00:00:00\", \"2020-01-18T00:00:00\", \"2020-01-19T00:00:00\", \"2020-01-20T00:00:00\", \"2020-01-21T00:00:00\", \"2020-01-22T00:00:00\", \"2020-01-23T00:00:00\", \"2020-01-24T00:00:00\", \"2020-01-25T00:00:00\", \"2020-01-26T00:00:00\", \"2020-01-27T00:00:00\", \"2020-01-28T00:00:00\", \"2020-01-29T00:00:00\", \"2020-01-30T00:00:00\"], \"y\": [10.5, 9.9, 5.75, 10.75, 11.8, 10.5, 9.8, 7.5, 5.0, 8.0, 9.5, 11.25, 10.0, 8.6, 13.0, 10.0, 11.0, 10.625, 10.363636363636363, 10.0, 8.75, 10.4, 10.4, 9.5, 5.8, 10.0, 6.916666666666667, 10.5, 2.0, 7.6, 8.6, 12.6, 10.75, 10.333333333333334, 10.090909090909092, 7.0, 7.5, 9.833333333333334, 8.75, 19.0, 14.0, 12.625, 18.0, 12.333333333333334, 1.0, 11.166666666666666, 9.2, 13.5, 4.0, 10.571428571428571, 9.4, 5.666666666666667, 8.4, 4.8, 10.6, 14.0, 14.75, 12.142857142857142, 3.0, 4.0, 8.166666666666666, 13.375, 8.75, 9.0, 10.555555555555555, 9.125, 9.666666666666666, 10.625, 10.75, 14.0, 7.777777777777778, 11.5, 9.8, 6.5, 7.142857142857143, 11.666666666666666, 14.0, 12.666666666666666, 9.75, 7.6, 15.0, 14.0, 13.0, 12.5, 9.5, 10.166666666666666, 11.0, 8.5, 11.8]}, {\"mode\": \"lines+markers\", \"name\": \"Member Promo Qty\", \"type\": \"scatter\", \"x\": [\"2019-11-01T00:00:00\", \"2019-11-02T00:00:00\", \"2019-11-03T00:00:00\", \"2019-11-04T00:00:00\", \"2019-11-05T00:00:00\", \"2019-11-06T00:00:00\", \"2019-11-07T00:00:00\", \"2019-11-08T00:00:00\", \"2019-11-09T00:00:00\", \"2019-11-10T00:00:00\", \"2019-11-11T00:00:00\", \"2019-11-12T00:00:00\", \"2019-11-13T00:00:00\", \"2019-11-14T00:00:00\", \"2019-11-15T00:00:00\", \"2019-11-16T00:00:00\", \"2019-11-17T00:00:00\", \"2019-11-18T00:00:00\", \"2019-11-19T00:00:00\", \"2019-11-20T00:00:00\", \"2019-11-21T00:00:00\", \"2019-11-22T00:00:00\", \"2019-11-23T00:00:00\", \"2019-11-24T00:00:00\", \"2019-11-25T00:00:00\", \"2019-11-26T00:00:00\", \"2019-11-27T00:00:00\", \"2019-11-28T00:00:00\", \"2019-11-29T00:00:00\", \"2019-11-30T00:00:00\", \"2019-12-01T00:00:00\", \"2019-12-02T00:00:00\", \"2019-12-03T00:00:00\", \"2019-12-04T00:00:00\", \"2019-12-05T00:00:00\", \"2019-12-06T00:00:00\", \"2019-12-07T00:00:00\", \"2019-12-08T00:00:00\", \"2019-12-09T00:00:00\", \"2019-12-10T00:00:00\", \"2019-12-11T00:00:00\", \"2019-12-12T00:00:00\", \"2019-12-13T00:00:00\", \"2019-12-14T00:00:00\", \"2019-12-15T00:00:00\", \"2019-12-16T00:00:00\", \"2019-12-17T00:00:00\", \"2019-12-18T00:00:00\", \"2019-12-19T00:00:00\", \"2019-12-20T00:00:00\", \"2019-12-21T00:00:00\", \"2019-12-22T00:00:00\", \"2019-12-23T00:00:00\", \"2019-12-24T00:00:00\", \"2019-12-25T00:00:00\", \"2019-12-26T00:00:00\", \"2019-12-27T00:00:00\", \"2019-12-28T00:00:00\", \"2019-12-29T00:00:00\", \"2019-12-30T00:00:00\", \"2019-12-31T00:00:00\", \"2020-01-01T00:00:00\", \"2020-01-02T00:00:00\", \"2020-01-03T00:00:00\", \"2020-01-04T00:00:00\", \"2020-01-05T00:00:00\", \"2020-01-06T00:00:00\", \"2020-01-07T00:00:00\", \"2020-01-08T00:00:00\", \"2020-01-09T00:00:00\", \"2020-01-10T00:00:00\", \"2020-01-11T00:00:00\", \"2020-01-12T00:00:00\", \"2020-01-13T00:00:00\", \"2020-01-14T00:00:00\", \"2020-01-15T00:00:00\", \"2020-01-16T00:00:00\", \"2020-01-17T00:00:00\", \"2020-01-18T00:00:00\", \"2020-01-19T00:00:00\", \"2020-01-20T00:00:00\", \"2020-01-21T00:00:00\", \"2020-01-22T00:00:00\", \"2020-01-23T00:00:00\", \"2020-01-24T00:00:00\", \"2020-01-25T00:00:00\", \"2020-01-26T00:00:00\", \"2020-01-27T00:00:00\", \"2020-01-28T00:00:00\", \"2020-01-29T00:00:00\", \"2020-01-30T00:00:00\"], \"y\": [11.0, 11.8, 10.333333333333334, 9.5, 11.0, 16.0, 19.0, 9.25, 12.8, 10.5, 8.8, 14.75, 13.6, 17.666666666666668, 8.25, 11.0, 15.333333333333334, 8.0, 13.166666666666666, 12.0, 9.5, 9.875, 5.75, 9.0, 7.5, 13.5, 7.5, 11.6, 13.4, 15.4, 11.2, 10.4, 5.666666666666667, 12.166666666666666, 9.5, 13.0, 13.25, 9.428571428571429, 11.142857142857142, 7.666666666666667, 8.0, 8.0, 20.0, 9.8, 10.75, 11.4, 8.2, 18.0, 7.0, 10.4, 7.6, 15.285714285714286, 9.4, 12.222222222222221, 3.0, 7.333333333333333, 14.25, 16.0, 3.0, 13.333333333333334, 8.8, 12.8, 7.0, 14.333333333333334, 9.4, 15.0, 13.333333333333334, 9.0, 8.5, 10.0, 2.0, 7.0, 12.666666666666666, 12.75, 13.0, 19.0, 8.0, 12.166666666666666, 7.666666666666667, 9.333333333333334, 9.75, 13.625, 11.0, 10.0, 10.6, 9.714285714285714, 10.0, 11.2, 5.75, 11.666666666666666, 15.0]}],\n",
              "                        {\"legend\": {\"orientation\": \"h\", \"x\": 0, \"y\": 1.1}, \"template\": {\"data\": {\"bar\": [{\"error_x\": {\"color\": \"#2a3f5f\"}, \"error_y\": {\"color\": \"#2a3f5f\"}, \"marker\": {\"line\": {\"color\": \"#E5ECF6\", \"width\": 0.5}}, \"type\": \"bar\"}], \"barpolar\": [{\"marker\": {\"line\": {\"color\": \"#E5ECF6\", \"width\": 0.5}}, \"type\": \"barpolar\"}], \"carpet\": [{\"aaxis\": {\"endlinecolor\": \"#2a3f5f\", \"gridcolor\": \"white\", \"linecolor\": \"white\", \"minorgridcolor\": \"white\", \"startlinecolor\": \"#2a3f5f\"}, \"baxis\": {\"endlinecolor\": \"#2a3f5f\", \"gridcolor\": \"white\", \"linecolor\": \"white\", \"minorgridcolor\": \"white\", \"startlinecolor\": \"#2a3f5f\"}, \"type\": \"carpet\"}], \"choropleth\": [{\"colorbar\": {\"outlinewidth\": 0, \"ticks\": \"\"}, \"type\": \"choropleth\"}], \"contour\": [{\"colorbar\": {\"outlinewidth\": 0, \"ticks\": \"\"}, \"colorscale\": [[0.0, \"#0d0887\"], [0.1111111111111111, \"#46039f\"], [0.2222222222222222, \"#7201a8\"], [0.3333333333333333, \"#9c179e\"], [0.4444444444444444, \"#bd3786\"], [0.5555555555555556, \"#d8576b\"], [0.6666666666666666, \"#ed7953\"], [0.7777777777777778, \"#fb9f3a\"], [0.8888888888888888, \"#fdca26\"], [1.0, \"#f0f921\"]], \"type\": \"contour\"}], \"contourcarpet\": [{\"colorbar\": {\"outlinewidth\": 0, \"ticks\": \"\"}, \"type\": \"contourcarpet\"}], \"heatmap\": [{\"colorbar\": {\"outlinewidth\": 0, \"ticks\": \"\"}, \"colorscale\": [[0.0, \"#0d0887\"], [0.1111111111111111, \"#46039f\"], [0.2222222222222222, \"#7201a8\"], [0.3333333333333333, \"#9c179e\"], [0.4444444444444444, \"#bd3786\"], [0.5555555555555556, \"#d8576b\"], [0.6666666666666666, \"#ed7953\"], [0.7777777777777778, \"#fb9f3a\"], [0.8888888888888888, \"#fdca26\"], [1.0, \"#f0f921\"]], \"type\": \"heatmap\"}], \"heatmapgl\": [{\"colorbar\": {\"outlinewidth\": 0, \"ticks\": \"\"}, \"colorscale\": [[0.0, \"#0d0887\"], [0.1111111111111111, \"#46039f\"], [0.2222222222222222, \"#7201a8\"], [0.3333333333333333, \"#9c179e\"], [0.4444444444444444, \"#bd3786\"], [0.5555555555555556, \"#d8576b\"], [0.6666666666666666, \"#ed7953\"], [0.7777777777777778, \"#fb9f3a\"], [0.8888888888888888, \"#fdca26\"], [1.0, \"#f0f921\"]], \"type\": \"heatmapgl\"}], \"histogram\": [{\"marker\": {\"colorbar\": {\"outlinewidth\": 0, \"ticks\": \"\"}}, \"type\": \"histogram\"}], \"histogram2d\": [{\"colorbar\": {\"outlinewidth\": 0, \"ticks\": \"\"}, \"colorscale\": [[0.0, \"#0d0887\"], [0.1111111111111111, \"#46039f\"], [0.2222222222222222, \"#7201a8\"], [0.3333333333333333, \"#9c179e\"], [0.4444444444444444, \"#bd3786\"], [0.5555555555555556, \"#d8576b\"], [0.6666666666666666, \"#ed7953\"], [0.7777777777777778, \"#fb9f3a\"], [0.8888888888888888, \"#fdca26\"], [1.0, \"#f0f921\"]], \"type\": \"histogram2d\"}], \"histogram2dcontour\": [{\"colorbar\": {\"outlinewidth\": 0, \"ticks\": \"\"}, \"colorscale\": [[0.0, \"#0d0887\"], [0.1111111111111111, \"#46039f\"], [0.2222222222222222, \"#7201a8\"], [0.3333333333333333, \"#9c179e\"], [0.4444444444444444, \"#bd3786\"], [0.5555555555555556, \"#d8576b\"], [0.6666666666666666, \"#ed7953\"], [0.7777777777777778, \"#fb9f3a\"], [0.8888888888888888, \"#fdca26\"], [1.0, \"#f0f921\"]], \"type\": \"histogram2dcontour\"}], \"mesh3d\": [{\"colorbar\": {\"outlinewidth\": 0, \"ticks\": \"\"}, \"type\": \"mesh3d\"}], \"parcoords\": [{\"line\": {\"colorbar\": {\"outlinewidth\": 0, \"ticks\": \"\"}}, \"type\": \"parcoords\"}], \"pie\": [{\"automargin\": true, \"type\": \"pie\"}], \"scatter\": [{\"marker\": {\"colorbar\": {\"outlinewidth\": 0, \"ticks\": \"\"}}, \"type\": \"scatter\"}], \"scatter3d\": [{\"line\": {\"colorbar\": {\"outlinewidth\": 0, \"ticks\": \"\"}}, \"marker\": {\"colorbar\": {\"outlinewidth\": 0, \"ticks\": \"\"}}, \"type\": \"scatter3d\"}], \"scattercarpet\": [{\"marker\": {\"colorbar\": {\"outlinewidth\": 0, \"ticks\": \"\"}}, \"type\": \"scattercarpet\"}], \"scattergeo\": [{\"marker\": {\"colorbar\": {\"outlinewidth\": 0, \"ticks\": \"\"}}, \"type\": \"scattergeo\"}], \"scattergl\": [{\"marker\": {\"colorbar\": {\"outlinewidth\": 0, \"ticks\": \"\"}}, \"type\": \"scattergl\"}], \"scattermapbox\": [{\"marker\": {\"colorbar\": {\"outlinewidth\": 0, \"ticks\": \"\"}}, \"type\": \"scattermapbox\"}], \"scatterpolar\": [{\"marker\": {\"colorbar\": {\"outlinewidth\": 0, \"ticks\": \"\"}}, \"type\": \"scatterpolar\"}], \"scatterpolargl\": [{\"marker\": {\"colorbar\": {\"outlinewidth\": 0, \"ticks\": \"\"}}, \"type\": \"scatterpolargl\"}], \"scatterternary\": [{\"marker\": {\"colorbar\": {\"outlinewidth\": 0, \"ticks\": \"\"}}, \"type\": \"scatterternary\"}], \"surface\": [{\"colorbar\": {\"outlinewidth\": 0, \"ticks\": \"\"}, \"colorscale\": [[0.0, \"#0d0887\"], [0.1111111111111111, \"#46039f\"], [0.2222222222222222, \"#7201a8\"], [0.3333333333333333, \"#9c179e\"], [0.4444444444444444, \"#bd3786\"], [0.5555555555555556, \"#d8576b\"], [0.6666666666666666, \"#ed7953\"], [0.7777777777777778, \"#fb9f3a\"], [0.8888888888888888, \"#fdca26\"], [1.0, \"#f0f921\"]], \"type\": \"surface\"}], \"table\": [{\"cells\": {\"fill\": {\"color\": \"#EBF0F8\"}, \"line\": {\"color\": \"white\"}}, \"header\": {\"fill\": {\"color\": \"#C8D4E3\"}, \"line\": {\"color\": \"white\"}}, \"type\": \"table\"}]}, \"layout\": {\"annotationdefaults\": {\"arrowcolor\": \"#2a3f5f\", \"arrowhead\": 0, \"arrowwidth\": 1}, \"coloraxis\": {\"colorbar\": {\"outlinewidth\": 0, \"ticks\": \"\"}}, \"colorscale\": {\"diverging\": [[0, \"#8e0152\"], [0.1, \"#c51b7d\"], [0.2, \"#de77ae\"], [0.3, \"#f1b6da\"], [0.4, \"#fde0ef\"], [0.5, \"#f7f7f7\"], [0.6, \"#e6f5d0\"], [0.7, \"#b8e186\"], [0.8, \"#7fbc41\"], [0.9, \"#4d9221\"], [1, \"#276419\"]], \"sequential\": [[0.0, \"#0d0887\"], [0.1111111111111111, \"#46039f\"], [0.2222222222222222, \"#7201a8\"], [0.3333333333333333, \"#9c179e\"], [0.4444444444444444, \"#bd3786\"], [0.5555555555555556, \"#d8576b\"], [0.6666666666666666, \"#ed7953\"], [0.7777777777777778, \"#fb9f3a\"], [0.8888888888888888, \"#fdca26\"], [1.0, \"#f0f921\"]], \"sequentialminus\": [[0.0, \"#0d0887\"], [0.1111111111111111, \"#46039f\"], [0.2222222222222222, \"#7201a8\"], [0.3333333333333333, \"#9c179e\"], [0.4444444444444444, \"#bd3786\"], [0.5555555555555556, \"#d8576b\"], [0.6666666666666666, \"#ed7953\"], [0.7777777777777778, \"#fb9f3a\"], [0.8888888888888888, \"#fdca26\"], [1.0, \"#f0f921\"]]}, \"colorway\": [\"#636efa\", \"#EF553B\", \"#00cc96\", \"#ab63fa\", \"#FFA15A\", \"#19d3f3\", \"#FF6692\", \"#B6E880\", \"#FF97FF\", \"#FECB52\"], \"font\": {\"color\": \"#2a3f5f\"}, \"geo\": {\"bgcolor\": \"white\", \"lakecolor\": \"white\", \"landcolor\": \"#E5ECF6\", \"showlakes\": true, \"showland\": true, \"subunitcolor\": \"white\"}, \"hoverlabel\": {\"align\": \"left\"}, \"hovermode\": \"closest\", \"mapbox\": {\"style\": \"light\"}, \"paper_bgcolor\": \"white\", \"plot_bgcolor\": \"#E5ECF6\", \"polar\": {\"angularaxis\": {\"gridcolor\": \"white\", \"linecolor\": \"white\", \"ticks\": \"\"}, \"bgcolor\": \"#E5ECF6\", \"radialaxis\": {\"gridcolor\": \"white\", \"linecolor\": \"white\", \"ticks\": \"\"}}, \"scene\": {\"xaxis\": {\"backgroundcolor\": \"#E5ECF6\", \"gridcolor\": \"white\", \"gridwidth\": 2, \"linecolor\": \"white\", \"showbackground\": true, \"ticks\": \"\", \"zerolinecolor\": \"white\"}, \"yaxis\": {\"backgroundcolor\": \"#E5ECF6\", \"gridcolor\": \"white\", \"gridwidth\": 2, \"linecolor\": \"white\", \"showbackground\": true, \"ticks\": \"\", \"zerolinecolor\": \"white\"}, \"zaxis\": {\"backgroundcolor\": \"#E5ECF6\", \"gridcolor\": \"white\", \"gridwidth\": 2, \"linecolor\": \"white\", \"showbackground\": true, \"ticks\": \"\", \"zerolinecolor\": \"white\"}}, \"shapedefaults\": {\"line\": {\"color\": \"#2a3f5f\"}}, \"ternary\": {\"aaxis\": {\"gridcolor\": \"white\", \"linecolor\": \"white\", \"ticks\": \"\"}, \"baxis\": {\"gridcolor\": \"white\", \"linecolor\": \"white\", \"ticks\": \"\"}, \"bgcolor\": \"#E5ECF6\", \"caxis\": {\"gridcolor\": \"white\", \"linecolor\": \"white\", \"ticks\": \"\"}}, \"title\": {\"x\": 0.05}, \"xaxis\": {\"automargin\": true, \"gridcolor\": \"white\", \"linecolor\": \"white\", \"ticks\": \"\", \"title\": {\"standoff\": 15}, \"zerolinecolor\": \"white\", \"zerolinewidth\": 2}, \"yaxis\": {\"automargin\": true, \"gridcolor\": \"white\", \"linecolor\": \"white\", \"ticks\": \"\", \"title\": {\"standoff\": 15}, \"zerolinecolor\": \"white\", \"zerolinewidth\": 2}}}, \"title\": {\"text\": \"Average Qty Sold by Date\"}, \"xaxis\": {\"title\": {\"text\": \"Date\"}}, \"yaxis\": {\"title\": {\"text\": \"Avg Qty\"}}},\n",
              "                        {\"responsive\": true}\n",
              "                    ).then(function(){\n",
              "                            \n",
              "var gd = document.getElementById('a137c8fb-6151-426a-afa8-baf5d66fe037');\n",
              "var x = new MutationObserver(function (mutations, observer) {{\n",
              "        var display = window.getComputedStyle(gd).display;\n",
              "        if (!display || display === 'none') {{\n",
              "            console.log([gd, 'removed!']);\n",
              "            Plotly.purge(gd);\n",
              "            observer.disconnect();\n",
              "        }}\n",
              "}});\n",
              "\n",
              "// Listen for the removal of the full notebook cells\n",
              "var notebookContainer = gd.closest('#notebook-container');\n",
              "if (notebookContainer) {{\n",
              "    x.observe(notebookContainer, {childList: true});\n",
              "}}\n",
              "\n",
              "// Listen for the clearing of the current output cell\n",
              "var outputEl = gd.closest('.output');\n",
              "if (outputEl) {{\n",
              "    x.observe(outputEl, {childList: true});\n",
              "}}\n",
              "\n",
              "                        })\n",
              "                };\n",
              "                \n",
              "            </script>\n",
              "        </div>\n",
              "</body>\n",
              "</html>"
            ]
          },
          "metadata": {
            "tags": []
          }
        },
        {
          "output_type": "display_data",
          "data": {
            "text/html": [
              "<html>\n",
              "<head><meta charset=\"utf-8\" /></head>\n",
              "<body>\n",
              "    <div>\n",
              "            <script src=\"https://cdnjs.cloudflare.com/ajax/libs/mathjax/2.7.5/MathJax.js?config=TeX-AMS-MML_SVG\"></script><script type=\"text/javascript\">if (window.MathJax) {MathJax.Hub.Config({SVG: {font: \"STIX-Web\"}});}</script>\n",
              "                <script type=\"text/javascript\">window.PlotlyConfig = {MathJaxConfig: 'local'};</script>\n",
              "        <script src=\"https://cdn.plot.ly/plotly-latest.min.js\"></script>    \n",
              "            <div id=\"29279a83-a207-46a5-a8f0-cab11dfa5f10\" class=\"plotly-graph-div\" style=\"height:525px; width:100%;\"></div>\n",
              "            <script type=\"text/javascript\">\n",
              "                \n",
              "                    window.PLOTLYENV=window.PLOTLYENV || {};\n",
              "                    \n",
              "                if (document.getElementById(\"29279a83-a207-46a5-a8f0-cab11dfa5f10\")) {\n",
              "                    Plotly.newPlot(\n",
              "                        '29279a83-a207-46a5-a8f0-cab11dfa5f10',\n",
              "                        [{\"name\": \"Promo Item Qty\", \"text\": [9.52, 9.89, 10.29], \"textposition\": \"auto\", \"type\": \"bar\", \"x\": [\"2019-11\", \"2019-12\", \"2020-1\"], \"y\": [9.517006802721088, 9.889655172413793, 10.287671232876713]}, {\"name\": \"Member Promo Qty\", \"text\": [11.17, 10.56, 11.19], \"textposition\": \"auto\", \"type\": \"bar\", \"x\": [\"2019-11\", \"2019-12\", \"2020-1\"], \"y\": [11.172661870503598, 10.564285714285715, 11.193798449612403]}],\n",
              "                        {\"legend\": {\"orientation\": \"h\", \"x\": 0, \"y\": 1.1}, \"template\": {\"data\": {\"bar\": [{\"error_x\": {\"color\": \"#2a3f5f\"}, \"error_y\": {\"color\": \"#2a3f5f\"}, \"marker\": {\"line\": {\"color\": \"#E5ECF6\", \"width\": 0.5}}, \"type\": \"bar\"}], \"barpolar\": [{\"marker\": {\"line\": {\"color\": \"#E5ECF6\", \"width\": 0.5}}, \"type\": \"barpolar\"}], \"carpet\": [{\"aaxis\": {\"endlinecolor\": \"#2a3f5f\", \"gridcolor\": \"white\", \"linecolor\": \"white\", \"minorgridcolor\": \"white\", \"startlinecolor\": \"#2a3f5f\"}, \"baxis\": {\"endlinecolor\": \"#2a3f5f\", \"gridcolor\": \"white\", \"linecolor\": \"white\", \"minorgridcolor\": \"white\", \"startlinecolor\": \"#2a3f5f\"}, \"type\": \"carpet\"}], \"choropleth\": [{\"colorbar\": {\"outlinewidth\": 0, \"ticks\": \"\"}, \"type\": \"choropleth\"}], \"contour\": [{\"colorbar\": {\"outlinewidth\": 0, \"ticks\": \"\"}, \"colorscale\": [[0.0, \"#0d0887\"], [0.1111111111111111, \"#46039f\"], [0.2222222222222222, \"#7201a8\"], [0.3333333333333333, \"#9c179e\"], [0.4444444444444444, \"#bd3786\"], [0.5555555555555556, \"#d8576b\"], [0.6666666666666666, \"#ed7953\"], [0.7777777777777778, \"#fb9f3a\"], [0.8888888888888888, \"#fdca26\"], [1.0, \"#f0f921\"]], \"type\": \"contour\"}], \"contourcarpet\": [{\"colorbar\": {\"outlinewidth\": 0, \"ticks\": \"\"}, \"type\": \"contourcarpet\"}], \"heatmap\": [{\"colorbar\": {\"outlinewidth\": 0, \"ticks\": \"\"}, \"colorscale\": [[0.0, \"#0d0887\"], [0.1111111111111111, \"#46039f\"], [0.2222222222222222, \"#7201a8\"], [0.3333333333333333, \"#9c179e\"], [0.4444444444444444, \"#bd3786\"], [0.5555555555555556, \"#d8576b\"], [0.6666666666666666, \"#ed7953\"], [0.7777777777777778, \"#fb9f3a\"], [0.8888888888888888, \"#fdca26\"], [1.0, \"#f0f921\"]], \"type\": \"heatmap\"}], \"heatmapgl\": [{\"colorbar\": {\"outlinewidth\": 0, \"ticks\": \"\"}, \"colorscale\": [[0.0, \"#0d0887\"], [0.1111111111111111, \"#46039f\"], [0.2222222222222222, \"#7201a8\"], [0.3333333333333333, \"#9c179e\"], [0.4444444444444444, \"#bd3786\"], [0.5555555555555556, \"#d8576b\"], [0.6666666666666666, \"#ed7953\"], [0.7777777777777778, \"#fb9f3a\"], [0.8888888888888888, \"#fdca26\"], [1.0, \"#f0f921\"]], \"type\": \"heatmapgl\"}], \"histogram\": [{\"marker\": {\"colorbar\": {\"outlinewidth\": 0, \"ticks\": \"\"}}, \"type\": \"histogram\"}], \"histogram2d\": [{\"colorbar\": {\"outlinewidth\": 0, \"ticks\": \"\"}, \"colorscale\": [[0.0, \"#0d0887\"], [0.1111111111111111, \"#46039f\"], [0.2222222222222222, \"#7201a8\"], [0.3333333333333333, \"#9c179e\"], [0.4444444444444444, \"#bd3786\"], [0.5555555555555556, \"#d8576b\"], [0.6666666666666666, \"#ed7953\"], [0.7777777777777778, \"#fb9f3a\"], [0.8888888888888888, \"#fdca26\"], [1.0, \"#f0f921\"]], \"type\": \"histogram2d\"}], \"histogram2dcontour\": [{\"colorbar\": {\"outlinewidth\": 0, \"ticks\": \"\"}, \"colorscale\": [[0.0, \"#0d0887\"], [0.1111111111111111, \"#46039f\"], [0.2222222222222222, \"#7201a8\"], [0.3333333333333333, \"#9c179e\"], [0.4444444444444444, \"#bd3786\"], [0.5555555555555556, \"#d8576b\"], [0.6666666666666666, \"#ed7953\"], [0.7777777777777778, \"#fb9f3a\"], [0.8888888888888888, \"#fdca26\"], [1.0, \"#f0f921\"]], \"type\": \"histogram2dcontour\"}], \"mesh3d\": [{\"colorbar\": {\"outlinewidth\": 0, \"ticks\": \"\"}, \"type\": \"mesh3d\"}], \"parcoords\": [{\"line\": {\"colorbar\": {\"outlinewidth\": 0, \"ticks\": \"\"}}, \"type\": \"parcoords\"}], \"pie\": [{\"automargin\": true, \"type\": \"pie\"}], \"scatter\": [{\"marker\": {\"colorbar\": {\"outlinewidth\": 0, \"ticks\": \"\"}}, \"type\": \"scatter\"}], \"scatter3d\": [{\"line\": {\"colorbar\": {\"outlinewidth\": 0, \"ticks\": \"\"}}, \"marker\": {\"colorbar\": {\"outlinewidth\": 0, \"ticks\": \"\"}}, \"type\": \"scatter3d\"}], \"scattercarpet\": [{\"marker\": {\"colorbar\": {\"outlinewidth\": 0, \"ticks\": \"\"}}, \"type\": \"scattercarpet\"}], \"scattergeo\": [{\"marker\": {\"colorbar\": {\"outlinewidth\": 0, \"ticks\": \"\"}}, \"type\": \"scattergeo\"}], \"scattergl\": [{\"marker\": {\"colorbar\": {\"outlinewidth\": 0, \"ticks\": \"\"}}, \"type\": \"scattergl\"}], \"scattermapbox\": [{\"marker\": {\"colorbar\": {\"outlinewidth\": 0, \"ticks\": \"\"}}, \"type\": \"scattermapbox\"}], \"scatterpolar\": [{\"marker\": {\"colorbar\": {\"outlinewidth\": 0, \"ticks\": \"\"}}, \"type\": \"scatterpolar\"}], \"scatterpolargl\": [{\"marker\": {\"colorbar\": {\"outlinewidth\": 0, \"ticks\": \"\"}}, \"type\": \"scatterpolargl\"}], \"scatterternary\": [{\"marker\": {\"colorbar\": {\"outlinewidth\": 0, \"ticks\": \"\"}}, \"type\": \"scatterternary\"}], \"surface\": [{\"colorbar\": {\"outlinewidth\": 0, \"ticks\": \"\"}, \"colorscale\": [[0.0, \"#0d0887\"], [0.1111111111111111, \"#46039f\"], [0.2222222222222222, \"#7201a8\"], [0.3333333333333333, \"#9c179e\"], [0.4444444444444444, \"#bd3786\"], [0.5555555555555556, \"#d8576b\"], [0.6666666666666666, \"#ed7953\"], [0.7777777777777778, \"#fb9f3a\"], [0.8888888888888888, \"#fdca26\"], [1.0, \"#f0f921\"]], \"type\": \"surface\"}], \"table\": [{\"cells\": {\"fill\": {\"color\": \"#EBF0F8\"}, \"line\": {\"color\": \"white\"}}, \"header\": {\"fill\": {\"color\": \"#C8D4E3\"}, \"line\": {\"color\": \"white\"}}, \"type\": \"table\"}]}, \"layout\": {\"annotationdefaults\": {\"arrowcolor\": \"#2a3f5f\", \"arrowhead\": 0, \"arrowwidth\": 1}, \"coloraxis\": {\"colorbar\": {\"outlinewidth\": 0, \"ticks\": \"\"}}, \"colorscale\": {\"diverging\": [[0, \"#8e0152\"], [0.1, \"#c51b7d\"], [0.2, \"#de77ae\"], [0.3, \"#f1b6da\"], [0.4, \"#fde0ef\"], [0.5, \"#f7f7f7\"], [0.6, \"#e6f5d0\"], [0.7, \"#b8e186\"], [0.8, \"#7fbc41\"], [0.9, \"#4d9221\"], [1, \"#276419\"]], \"sequential\": [[0.0, \"#0d0887\"], [0.1111111111111111, \"#46039f\"], [0.2222222222222222, \"#7201a8\"], [0.3333333333333333, \"#9c179e\"], [0.4444444444444444, \"#bd3786\"], [0.5555555555555556, \"#d8576b\"], [0.6666666666666666, \"#ed7953\"], [0.7777777777777778, \"#fb9f3a\"], [0.8888888888888888, \"#fdca26\"], [1.0, \"#f0f921\"]], \"sequentialminus\": [[0.0, \"#0d0887\"], [0.1111111111111111, \"#46039f\"], [0.2222222222222222, \"#7201a8\"], [0.3333333333333333, \"#9c179e\"], [0.4444444444444444, \"#bd3786\"], [0.5555555555555556, \"#d8576b\"], [0.6666666666666666, \"#ed7953\"], [0.7777777777777778, \"#fb9f3a\"], [0.8888888888888888, \"#fdca26\"], [1.0, \"#f0f921\"]]}, \"colorway\": [\"#636efa\", \"#EF553B\", \"#00cc96\", \"#ab63fa\", \"#FFA15A\", \"#19d3f3\", \"#FF6692\", \"#B6E880\", \"#FF97FF\", \"#FECB52\"], \"font\": {\"color\": \"#2a3f5f\"}, \"geo\": {\"bgcolor\": \"white\", \"lakecolor\": \"white\", \"landcolor\": \"#E5ECF6\", \"showlakes\": true, \"showland\": true, \"subunitcolor\": \"white\"}, \"hoverlabel\": {\"align\": \"left\"}, \"hovermode\": \"closest\", \"mapbox\": {\"style\": \"light\"}, \"paper_bgcolor\": \"white\", \"plot_bgcolor\": \"#E5ECF6\", \"polar\": {\"angularaxis\": {\"gridcolor\": \"white\", \"linecolor\": \"white\", \"ticks\": \"\"}, \"bgcolor\": \"#E5ECF6\", \"radialaxis\": {\"gridcolor\": \"white\", \"linecolor\": \"white\", \"ticks\": \"\"}}, \"scene\": {\"xaxis\": {\"backgroundcolor\": \"#E5ECF6\", \"gridcolor\": \"white\", \"gridwidth\": 2, \"linecolor\": \"white\", \"showbackground\": true, \"ticks\": \"\", \"zerolinecolor\": \"white\"}, \"yaxis\": {\"backgroundcolor\": \"#E5ECF6\", \"gridcolor\": \"white\", \"gridwidth\": 2, \"linecolor\": \"white\", \"showbackground\": true, \"ticks\": \"\", \"zerolinecolor\": \"white\"}, \"zaxis\": {\"backgroundcolor\": \"#E5ECF6\", \"gridcolor\": \"white\", \"gridwidth\": 2, \"linecolor\": \"white\", \"showbackground\": true, \"ticks\": \"\", \"zerolinecolor\": \"white\"}}, \"shapedefaults\": {\"line\": {\"color\": \"#2a3f5f\"}}, \"ternary\": {\"aaxis\": {\"gridcolor\": \"white\", \"linecolor\": \"white\", \"ticks\": \"\"}, \"baxis\": {\"gridcolor\": \"white\", \"linecolor\": \"white\", \"ticks\": \"\"}, \"bgcolor\": \"#E5ECF6\", \"caxis\": {\"gridcolor\": \"white\", \"linecolor\": \"white\", \"ticks\": \"\"}}, \"title\": {\"x\": 0.05}, \"xaxis\": {\"automargin\": true, \"gridcolor\": \"white\", \"linecolor\": \"white\", \"ticks\": \"\", \"title\": {\"standoff\": 15}, \"zerolinecolor\": \"white\", \"zerolinewidth\": 2}, \"yaxis\": {\"automargin\": true, \"gridcolor\": \"white\", \"linecolor\": \"white\", \"ticks\": \"\", \"title\": {\"standoff\": 15}, \"zerolinecolor\": \"white\", \"zerolinewidth\": 2}}}, \"title\": {\"text\": \"Average Qty Sold by Month\"}, \"xaxis\": {\"title\": {\"text\": \"Date\"}, \"type\": \"category\"}, \"yaxis\": {\"title\": {\"text\": \"Avg Qty\"}}},\n",
              "                        {\"responsive\": true}\n",
              "                    ).then(function(){\n",
              "                            \n",
              "var gd = document.getElementById('29279a83-a207-46a5-a8f0-cab11dfa5f10');\n",
              "var x = new MutationObserver(function (mutations, observer) {{\n",
              "        var display = window.getComputedStyle(gd).display;\n",
              "        if (!display || display === 'none') {{\n",
              "            console.log([gd, 'removed!']);\n",
              "            Plotly.purge(gd);\n",
              "            observer.disconnect();\n",
              "        }}\n",
              "}});\n",
              "\n",
              "// Listen for the removal of the full notebook cells\n",
              "var notebookContainer = gd.closest('#notebook-container');\n",
              "if (notebookContainer) {{\n",
              "    x.observe(notebookContainer, {childList: true});\n",
              "}}\n",
              "\n",
              "// Listen for the clearing of the current output cell\n",
              "var outputEl = gd.closest('.output');\n",
              "if (outputEl) {{\n",
              "    x.observe(outputEl, {childList: true});\n",
              "}}\n",
              "\n",
              "                        })\n",
              "                };\n",
              "                \n",
              "            </script>\n",
              "        </div>\n",
              "</body>\n",
              "</html>"
            ]
          },
          "metadata": {
            "tags": []
          }
        },
        {
          "output_type": "display_data",
          "data": {
            "text/html": [
              "<html>\n",
              "<head><meta charset=\"utf-8\" /></head>\n",
              "<body>\n",
              "    <div>\n",
              "            <script src=\"https://cdnjs.cloudflare.com/ajax/libs/mathjax/2.7.5/MathJax.js?config=TeX-AMS-MML_SVG\"></script><script type=\"text/javascript\">if (window.MathJax) {MathJax.Hub.Config({SVG: {font: \"STIX-Web\"}});}</script>\n",
              "                <script type=\"text/javascript\">window.PlotlyConfig = {MathJaxConfig: 'local'};</script>\n",
              "        <script src=\"https://cdn.plot.ly/plotly-latest.min.js\"></script>    \n",
              "            <div id=\"66f515a4-c0c6-45eb-aa81-8c699c7bd187\" class=\"plotly-graph-div\" style=\"height:525px; width:100%;\"></div>\n",
              "            <script type=\"text/javascript\">\n",
              "                \n",
              "                    window.PLOTLYENV=window.PLOTLYENV || {};\n",
              "                    \n",
              "                if (document.getElementById(\"66f515a4-c0c6-45eb-aa81-8c699c7bd187\")) {\n",
              "                    Plotly.newPlot(\n",
              "                        '66f515a4-c0c6-45eb-aa81-8c699c7bd187',\n",
              "                        [{\"mode\": \"lines+markers\", \"name\": \"Promo Item Qty\", \"type\": \"scatter\", \"x\": [1, 2, 3, 4, 5, 6, 7, 8, 9, 10, 11, 12, 13, 14, 15, 16, 17, 18, 19, 20, 21, 22, 23, 24, 25, 26, 27, 28, 29, 30, 31], \"y\": [8.307692307692308, 10.826086956521738, 9.555555555555555, 10.25, 10.444444444444445, 10.357142857142858, 9.214285714285714, 7.933333333333334, 9.933333333333334, 9.666666666666666, 13.0, 9.533333333333333, 11.8, 10.666666666666666, 9.272727272727273, 7.769230769230769, 11.2, 11.31578947368421, 11.65, 7.615384615384615, 9.1875, 11.357142857142858, 9.466666666666667, 10.0, 6.5, 10.083333333333334, 8.6, 11.733333333333333, 10.083333333333334, 10.333333333333334, 4.0]}, {\"mode\": \"lines+markers\", \"name\": \"Member Promo Qty\", \"type\": \"scatter\", \"x\": [1, 2, 3, 4, 5, 6, 7, 8, 9, 10, 11, 12, 13, 14, 15, 16, 17, 18, 19, 20, 21, 22, 23, 24, 25, 26, 27, 28, 29, 30, 31], \"y\": [11.714285714285714, 10.153846153846153, 10.11111111111111, 10.533333333333333, 11.666666666666666, 14.0, 12.764705882352942, 9.23076923076923, 11.466666666666667, 8.071428571428571, 8.333333333333334, 12.823529411764707, 13.9, 12.857142857142858, 10.555555555555555, 10.5, 11.428571428571429, 10.9, 10.384615384615385, 10.785714285714286, 10.736842105263158, 12.105263157894736, 7.6875, 11.176470588235293, 7.842105263157895, 9.909090909090908, 11.636363636363637, 10.272727272727273, 11.666666666666666, 14.833333333333334, 8.8]}],\n",
              "                        {\"legend\": {\"orientation\": \"h\", \"x\": 0, \"y\": 1.1}, \"template\": {\"data\": {\"bar\": [{\"error_x\": {\"color\": \"#2a3f5f\"}, \"error_y\": {\"color\": \"#2a3f5f\"}, \"marker\": {\"line\": {\"color\": \"#E5ECF6\", \"width\": 0.5}}, \"type\": \"bar\"}], \"barpolar\": [{\"marker\": {\"line\": {\"color\": \"#E5ECF6\", \"width\": 0.5}}, \"type\": \"barpolar\"}], \"carpet\": [{\"aaxis\": {\"endlinecolor\": \"#2a3f5f\", \"gridcolor\": \"white\", \"linecolor\": \"white\", \"minorgridcolor\": \"white\", \"startlinecolor\": \"#2a3f5f\"}, \"baxis\": {\"endlinecolor\": \"#2a3f5f\", \"gridcolor\": \"white\", \"linecolor\": \"white\", \"minorgridcolor\": \"white\", \"startlinecolor\": \"#2a3f5f\"}, \"type\": \"carpet\"}], \"choropleth\": [{\"colorbar\": {\"outlinewidth\": 0, \"ticks\": \"\"}, \"type\": \"choropleth\"}], \"contour\": [{\"colorbar\": {\"outlinewidth\": 0, \"ticks\": \"\"}, \"colorscale\": [[0.0, \"#0d0887\"], [0.1111111111111111, \"#46039f\"], [0.2222222222222222, \"#7201a8\"], [0.3333333333333333, \"#9c179e\"], [0.4444444444444444, \"#bd3786\"], [0.5555555555555556, \"#d8576b\"], [0.6666666666666666, \"#ed7953\"], [0.7777777777777778, \"#fb9f3a\"], [0.8888888888888888, \"#fdca26\"], [1.0, \"#f0f921\"]], \"type\": \"contour\"}], \"contourcarpet\": [{\"colorbar\": {\"outlinewidth\": 0, \"ticks\": \"\"}, \"type\": \"contourcarpet\"}], \"heatmap\": [{\"colorbar\": {\"outlinewidth\": 0, \"ticks\": \"\"}, \"colorscale\": [[0.0, \"#0d0887\"], [0.1111111111111111, \"#46039f\"], [0.2222222222222222, \"#7201a8\"], [0.3333333333333333, \"#9c179e\"], [0.4444444444444444, \"#bd3786\"], [0.5555555555555556, \"#d8576b\"], [0.6666666666666666, \"#ed7953\"], [0.7777777777777778, \"#fb9f3a\"], [0.8888888888888888, \"#fdca26\"], [1.0, \"#f0f921\"]], \"type\": \"heatmap\"}], \"heatmapgl\": [{\"colorbar\": {\"outlinewidth\": 0, \"ticks\": \"\"}, \"colorscale\": [[0.0, \"#0d0887\"], [0.1111111111111111, \"#46039f\"], [0.2222222222222222, \"#7201a8\"], [0.3333333333333333, \"#9c179e\"], [0.4444444444444444, \"#bd3786\"], [0.5555555555555556, \"#d8576b\"], [0.6666666666666666, \"#ed7953\"], [0.7777777777777778, \"#fb9f3a\"], [0.8888888888888888, \"#fdca26\"], [1.0, \"#f0f921\"]], \"type\": \"heatmapgl\"}], \"histogram\": [{\"marker\": {\"colorbar\": {\"outlinewidth\": 0, \"ticks\": \"\"}}, \"type\": \"histogram\"}], \"histogram2d\": [{\"colorbar\": {\"outlinewidth\": 0, \"ticks\": \"\"}, \"colorscale\": [[0.0, \"#0d0887\"], [0.1111111111111111, \"#46039f\"], [0.2222222222222222, \"#7201a8\"], [0.3333333333333333, \"#9c179e\"], [0.4444444444444444, \"#bd3786\"], [0.5555555555555556, \"#d8576b\"], [0.6666666666666666, \"#ed7953\"], [0.7777777777777778, \"#fb9f3a\"], [0.8888888888888888, \"#fdca26\"], [1.0, \"#f0f921\"]], \"type\": \"histogram2d\"}], \"histogram2dcontour\": [{\"colorbar\": {\"outlinewidth\": 0, \"ticks\": \"\"}, \"colorscale\": [[0.0, \"#0d0887\"], [0.1111111111111111, \"#46039f\"], [0.2222222222222222, \"#7201a8\"], [0.3333333333333333, \"#9c179e\"], [0.4444444444444444, \"#bd3786\"], [0.5555555555555556, \"#d8576b\"], [0.6666666666666666, \"#ed7953\"], [0.7777777777777778, \"#fb9f3a\"], [0.8888888888888888, \"#fdca26\"], [1.0, \"#f0f921\"]], \"type\": \"histogram2dcontour\"}], \"mesh3d\": [{\"colorbar\": {\"outlinewidth\": 0, \"ticks\": \"\"}, \"type\": \"mesh3d\"}], \"parcoords\": [{\"line\": {\"colorbar\": {\"outlinewidth\": 0, \"ticks\": \"\"}}, \"type\": \"parcoords\"}], \"pie\": [{\"automargin\": true, \"type\": \"pie\"}], \"scatter\": [{\"marker\": {\"colorbar\": {\"outlinewidth\": 0, \"ticks\": \"\"}}, \"type\": \"scatter\"}], \"scatter3d\": [{\"line\": {\"colorbar\": {\"outlinewidth\": 0, \"ticks\": \"\"}}, \"marker\": {\"colorbar\": {\"outlinewidth\": 0, \"ticks\": \"\"}}, \"type\": \"scatter3d\"}], \"scattercarpet\": [{\"marker\": {\"colorbar\": {\"outlinewidth\": 0, \"ticks\": \"\"}}, \"type\": \"scattercarpet\"}], \"scattergeo\": [{\"marker\": {\"colorbar\": {\"outlinewidth\": 0, \"ticks\": \"\"}}, \"type\": \"scattergeo\"}], \"scattergl\": [{\"marker\": {\"colorbar\": {\"outlinewidth\": 0, \"ticks\": \"\"}}, \"type\": \"scattergl\"}], \"scattermapbox\": [{\"marker\": {\"colorbar\": {\"outlinewidth\": 0, \"ticks\": \"\"}}, \"type\": \"scattermapbox\"}], \"scatterpolar\": [{\"marker\": {\"colorbar\": {\"outlinewidth\": 0, \"ticks\": \"\"}}, \"type\": \"scatterpolar\"}], \"scatterpolargl\": [{\"marker\": {\"colorbar\": {\"outlinewidth\": 0, \"ticks\": \"\"}}, \"type\": \"scatterpolargl\"}], \"scatterternary\": [{\"marker\": {\"colorbar\": {\"outlinewidth\": 0, \"ticks\": \"\"}}, \"type\": \"scatterternary\"}], \"surface\": [{\"colorbar\": {\"outlinewidth\": 0, \"ticks\": \"\"}, \"colorscale\": [[0.0, \"#0d0887\"], [0.1111111111111111, \"#46039f\"], [0.2222222222222222, \"#7201a8\"], [0.3333333333333333, \"#9c179e\"], [0.4444444444444444, \"#bd3786\"], [0.5555555555555556, \"#d8576b\"], [0.6666666666666666, \"#ed7953\"], [0.7777777777777778, \"#fb9f3a\"], [0.8888888888888888, \"#fdca26\"], [1.0, \"#f0f921\"]], \"type\": \"surface\"}], \"table\": [{\"cells\": {\"fill\": {\"color\": \"#EBF0F8\"}, \"line\": {\"color\": \"white\"}}, \"header\": {\"fill\": {\"color\": \"#C8D4E3\"}, \"line\": {\"color\": \"white\"}}, \"type\": \"table\"}]}, \"layout\": {\"annotationdefaults\": {\"arrowcolor\": \"#2a3f5f\", \"arrowhead\": 0, \"arrowwidth\": 1}, \"coloraxis\": {\"colorbar\": {\"outlinewidth\": 0, \"ticks\": \"\"}}, \"colorscale\": {\"diverging\": [[0, \"#8e0152\"], [0.1, \"#c51b7d\"], [0.2, \"#de77ae\"], [0.3, \"#f1b6da\"], [0.4, \"#fde0ef\"], [0.5, \"#f7f7f7\"], [0.6, \"#e6f5d0\"], [0.7, \"#b8e186\"], [0.8, \"#7fbc41\"], [0.9, \"#4d9221\"], [1, \"#276419\"]], \"sequential\": [[0.0, \"#0d0887\"], [0.1111111111111111, \"#46039f\"], [0.2222222222222222, \"#7201a8\"], [0.3333333333333333, \"#9c179e\"], [0.4444444444444444, \"#bd3786\"], [0.5555555555555556, \"#d8576b\"], [0.6666666666666666, \"#ed7953\"], [0.7777777777777778, \"#fb9f3a\"], [0.8888888888888888, \"#fdca26\"], [1.0, \"#f0f921\"]], \"sequentialminus\": [[0.0, \"#0d0887\"], [0.1111111111111111, \"#46039f\"], [0.2222222222222222, \"#7201a8\"], [0.3333333333333333, \"#9c179e\"], [0.4444444444444444, \"#bd3786\"], [0.5555555555555556, \"#d8576b\"], [0.6666666666666666, \"#ed7953\"], [0.7777777777777778, \"#fb9f3a\"], [0.8888888888888888, \"#fdca26\"], [1.0, \"#f0f921\"]]}, \"colorway\": [\"#636efa\", \"#EF553B\", \"#00cc96\", \"#ab63fa\", \"#FFA15A\", \"#19d3f3\", \"#FF6692\", \"#B6E880\", \"#FF97FF\", \"#FECB52\"], \"font\": {\"color\": \"#2a3f5f\"}, \"geo\": {\"bgcolor\": \"white\", \"lakecolor\": \"white\", \"landcolor\": \"#E5ECF6\", \"showlakes\": true, \"showland\": true, \"subunitcolor\": \"white\"}, \"hoverlabel\": {\"align\": \"left\"}, \"hovermode\": \"closest\", \"mapbox\": {\"style\": \"light\"}, \"paper_bgcolor\": \"white\", \"plot_bgcolor\": \"#E5ECF6\", \"polar\": {\"angularaxis\": {\"gridcolor\": \"white\", \"linecolor\": \"white\", \"ticks\": \"\"}, \"bgcolor\": \"#E5ECF6\", \"radialaxis\": {\"gridcolor\": \"white\", \"linecolor\": \"white\", \"ticks\": \"\"}}, \"scene\": {\"xaxis\": {\"backgroundcolor\": \"#E5ECF6\", \"gridcolor\": \"white\", \"gridwidth\": 2, \"linecolor\": \"white\", \"showbackground\": true, \"ticks\": \"\", \"zerolinecolor\": \"white\"}, \"yaxis\": {\"backgroundcolor\": \"#E5ECF6\", \"gridcolor\": \"white\", \"gridwidth\": 2, \"linecolor\": \"white\", \"showbackground\": true, \"ticks\": \"\", \"zerolinecolor\": \"white\"}, \"zaxis\": {\"backgroundcolor\": \"#E5ECF6\", \"gridcolor\": \"white\", \"gridwidth\": 2, \"linecolor\": \"white\", \"showbackground\": true, \"ticks\": \"\", \"zerolinecolor\": \"white\"}}, \"shapedefaults\": {\"line\": {\"color\": \"#2a3f5f\"}}, \"ternary\": {\"aaxis\": {\"gridcolor\": \"white\", \"linecolor\": \"white\", \"ticks\": \"\"}, \"baxis\": {\"gridcolor\": \"white\", \"linecolor\": \"white\", \"ticks\": \"\"}, \"bgcolor\": \"#E5ECF6\", \"caxis\": {\"gridcolor\": \"white\", \"linecolor\": \"white\", \"ticks\": \"\"}}, \"title\": {\"x\": 0.05}, \"xaxis\": {\"automargin\": true, \"gridcolor\": \"white\", \"linecolor\": \"white\", \"ticks\": \"\", \"title\": {\"standoff\": 15}, \"zerolinecolor\": \"white\", \"zerolinewidth\": 2}, \"yaxis\": {\"automargin\": true, \"gridcolor\": \"white\", \"linecolor\": \"white\", \"ticks\": \"\", \"title\": {\"standoff\": 15}, \"zerolinecolor\": \"white\", \"zerolinewidth\": 2}}}, \"title\": {\"text\": \"Average Qty Sold by Day Number\"}, \"xaxis\": {\"title\": {\"text\": \"Day Num\"}}, \"yaxis\": {\"title\": {\"text\": \"Avg Qty\"}}},\n",
              "                        {\"responsive\": true}\n",
              "                    ).then(function(){\n",
              "                            \n",
              "var gd = document.getElementById('66f515a4-c0c6-45eb-aa81-8c699c7bd187');\n",
              "var x = new MutationObserver(function (mutations, observer) {{\n",
              "        var display = window.getComputedStyle(gd).display;\n",
              "        if (!display || display === 'none') {{\n",
              "            console.log([gd, 'removed!']);\n",
              "            Plotly.purge(gd);\n",
              "            observer.disconnect();\n",
              "        }}\n",
              "}});\n",
              "\n",
              "// Listen for the removal of the full notebook cells\n",
              "var notebookContainer = gd.closest('#notebook-container');\n",
              "if (notebookContainer) {{\n",
              "    x.observe(notebookContainer, {childList: true});\n",
              "}}\n",
              "\n",
              "// Listen for the clearing of the current output cell\n",
              "var outputEl = gd.closest('.output');\n",
              "if (outputEl) {{\n",
              "    x.observe(outputEl, {childList: true});\n",
              "}}\n",
              "\n",
              "                        })\n",
              "                };\n",
              "                \n",
              "            </script>\n",
              "        </div>\n",
              "</body>\n",
              "</html>"
            ]
          },
          "metadata": {
            "tags": []
          }
        },
        {
          "output_type": "display_data",
          "data": {
            "text/html": [
              "<html>\n",
              "<head><meta charset=\"utf-8\" /></head>\n",
              "<body>\n",
              "    <div>\n",
              "            <script src=\"https://cdnjs.cloudflare.com/ajax/libs/mathjax/2.7.5/MathJax.js?config=TeX-AMS-MML_SVG\"></script><script type=\"text/javascript\">if (window.MathJax) {MathJax.Hub.Config({SVG: {font: \"STIX-Web\"}});}</script>\n",
              "                <script type=\"text/javascript\">window.PlotlyConfig = {MathJaxConfig: 'local'};</script>\n",
              "        <script src=\"https://cdn.plot.ly/plotly-latest.min.js\"></script>    \n",
              "            <div id=\"6ac7b9bc-1c0d-4363-b16d-d8cf9760175e\" class=\"plotly-graph-div\" style=\"height:525px; width:100%;\"></div>\n",
              "            <script type=\"text/javascript\">\n",
              "                \n",
              "                    window.PLOTLYENV=window.PLOTLYENV || {};\n",
              "                    \n",
              "                if (document.getElementById(\"6ac7b9bc-1c0d-4363-b16d-d8cf9760175e\")) {\n",
              "                    Plotly.newPlot(\n",
              "                        '6ac7b9bc-1c0d-4363-b16d-d8cf9760175e',\n",
              "                        [{\"mode\": \"lines+markers\", \"name\": \"Promo Item Qty\", \"type\": \"scatter\", \"x\": [\"Monday\", \"Tuesday\", \"Wednesday\", \"Thursday\", \"Friday\", \"Saturday\", \"Sunday\"], \"y\": [9.23076923076923, 9.850746268656716, 8.923076923076923, 10.828947368421053, 10.107142857142858, 11.25, 9.278688524590164]}, {\"mode\": \"lines+markers\", \"name\": \"Member Promo Qty\", \"type\": \"scatter\", \"x\": [\"Monday\", \"Tuesday\", \"Wednesday\", \"Thursday\", \"Friday\", \"Saturday\", \"Sunday\"], \"y\": [10.140625, 10.835616438356164, 11.869565217391305, 11.169811320754716, 11.26923076923077, 10.492307692307692, 11.454545454545455]}],\n",
              "                        {\"legend\": {\"orientation\": \"h\", \"x\": 0, \"y\": 1.1}, \"template\": {\"data\": {\"bar\": [{\"error_x\": {\"color\": \"#2a3f5f\"}, \"error_y\": {\"color\": \"#2a3f5f\"}, \"marker\": {\"line\": {\"color\": \"#E5ECF6\", \"width\": 0.5}}, \"type\": \"bar\"}], \"barpolar\": [{\"marker\": {\"line\": {\"color\": \"#E5ECF6\", \"width\": 0.5}}, \"type\": \"barpolar\"}], \"carpet\": [{\"aaxis\": {\"endlinecolor\": \"#2a3f5f\", \"gridcolor\": \"white\", \"linecolor\": \"white\", \"minorgridcolor\": \"white\", \"startlinecolor\": \"#2a3f5f\"}, \"baxis\": {\"endlinecolor\": \"#2a3f5f\", \"gridcolor\": \"white\", \"linecolor\": \"white\", \"minorgridcolor\": \"white\", \"startlinecolor\": \"#2a3f5f\"}, \"type\": \"carpet\"}], \"choropleth\": [{\"colorbar\": {\"outlinewidth\": 0, \"ticks\": \"\"}, \"type\": \"choropleth\"}], \"contour\": [{\"colorbar\": {\"outlinewidth\": 0, \"ticks\": \"\"}, \"colorscale\": [[0.0, \"#0d0887\"], [0.1111111111111111, \"#46039f\"], [0.2222222222222222, \"#7201a8\"], [0.3333333333333333, \"#9c179e\"], [0.4444444444444444, \"#bd3786\"], [0.5555555555555556, \"#d8576b\"], [0.6666666666666666, \"#ed7953\"], [0.7777777777777778, \"#fb9f3a\"], [0.8888888888888888, \"#fdca26\"], [1.0, \"#f0f921\"]], \"type\": \"contour\"}], \"contourcarpet\": [{\"colorbar\": {\"outlinewidth\": 0, \"ticks\": \"\"}, \"type\": \"contourcarpet\"}], \"heatmap\": [{\"colorbar\": {\"outlinewidth\": 0, \"ticks\": \"\"}, \"colorscale\": [[0.0, \"#0d0887\"], [0.1111111111111111, \"#46039f\"], [0.2222222222222222, \"#7201a8\"], [0.3333333333333333, \"#9c179e\"], [0.4444444444444444, \"#bd3786\"], [0.5555555555555556, \"#d8576b\"], [0.6666666666666666, \"#ed7953\"], [0.7777777777777778, \"#fb9f3a\"], [0.8888888888888888, \"#fdca26\"], [1.0, \"#f0f921\"]], \"type\": \"heatmap\"}], \"heatmapgl\": [{\"colorbar\": {\"outlinewidth\": 0, \"ticks\": \"\"}, \"colorscale\": [[0.0, \"#0d0887\"], [0.1111111111111111, \"#46039f\"], [0.2222222222222222, \"#7201a8\"], [0.3333333333333333, \"#9c179e\"], [0.4444444444444444, \"#bd3786\"], [0.5555555555555556, \"#d8576b\"], [0.6666666666666666, \"#ed7953\"], [0.7777777777777778, \"#fb9f3a\"], [0.8888888888888888, \"#fdca26\"], [1.0, \"#f0f921\"]], \"type\": \"heatmapgl\"}], \"histogram\": [{\"marker\": {\"colorbar\": {\"outlinewidth\": 0, \"ticks\": \"\"}}, \"type\": \"histogram\"}], \"histogram2d\": [{\"colorbar\": {\"outlinewidth\": 0, \"ticks\": \"\"}, \"colorscale\": [[0.0, \"#0d0887\"], [0.1111111111111111, \"#46039f\"], [0.2222222222222222, \"#7201a8\"], [0.3333333333333333, \"#9c179e\"], [0.4444444444444444, \"#bd3786\"], [0.5555555555555556, \"#d8576b\"], [0.6666666666666666, \"#ed7953\"], [0.7777777777777778, \"#fb9f3a\"], [0.8888888888888888, \"#fdca26\"], [1.0, \"#f0f921\"]], \"type\": \"histogram2d\"}], \"histogram2dcontour\": [{\"colorbar\": {\"outlinewidth\": 0, \"ticks\": \"\"}, \"colorscale\": [[0.0, \"#0d0887\"], [0.1111111111111111, \"#46039f\"], [0.2222222222222222, \"#7201a8\"], [0.3333333333333333, \"#9c179e\"], [0.4444444444444444, \"#bd3786\"], [0.5555555555555556, \"#d8576b\"], [0.6666666666666666, \"#ed7953\"], [0.7777777777777778, \"#fb9f3a\"], [0.8888888888888888, \"#fdca26\"], [1.0, \"#f0f921\"]], \"type\": \"histogram2dcontour\"}], \"mesh3d\": [{\"colorbar\": {\"outlinewidth\": 0, \"ticks\": \"\"}, \"type\": \"mesh3d\"}], \"parcoords\": [{\"line\": {\"colorbar\": {\"outlinewidth\": 0, \"ticks\": \"\"}}, \"type\": \"parcoords\"}], \"pie\": [{\"automargin\": true, \"type\": \"pie\"}], \"scatter\": [{\"marker\": {\"colorbar\": {\"outlinewidth\": 0, \"ticks\": \"\"}}, \"type\": \"scatter\"}], \"scatter3d\": [{\"line\": {\"colorbar\": {\"outlinewidth\": 0, \"ticks\": \"\"}}, \"marker\": {\"colorbar\": {\"outlinewidth\": 0, \"ticks\": \"\"}}, \"type\": \"scatter3d\"}], \"scattercarpet\": [{\"marker\": {\"colorbar\": {\"outlinewidth\": 0, \"ticks\": \"\"}}, \"type\": \"scattercarpet\"}], \"scattergeo\": [{\"marker\": {\"colorbar\": {\"outlinewidth\": 0, \"ticks\": \"\"}}, \"type\": \"scattergeo\"}], \"scattergl\": [{\"marker\": {\"colorbar\": {\"outlinewidth\": 0, \"ticks\": \"\"}}, \"type\": \"scattergl\"}], \"scattermapbox\": [{\"marker\": {\"colorbar\": {\"outlinewidth\": 0, \"ticks\": \"\"}}, \"type\": \"scattermapbox\"}], \"scatterpolar\": [{\"marker\": {\"colorbar\": {\"outlinewidth\": 0, \"ticks\": \"\"}}, \"type\": \"scatterpolar\"}], \"scatterpolargl\": [{\"marker\": {\"colorbar\": {\"outlinewidth\": 0, \"ticks\": \"\"}}, \"type\": \"scatterpolargl\"}], \"scatterternary\": [{\"marker\": {\"colorbar\": {\"outlinewidth\": 0, \"ticks\": \"\"}}, \"type\": \"scatterternary\"}], \"surface\": [{\"colorbar\": {\"outlinewidth\": 0, \"ticks\": \"\"}, \"colorscale\": [[0.0, \"#0d0887\"], [0.1111111111111111, \"#46039f\"], [0.2222222222222222, \"#7201a8\"], [0.3333333333333333, \"#9c179e\"], [0.4444444444444444, \"#bd3786\"], [0.5555555555555556, \"#d8576b\"], [0.6666666666666666, \"#ed7953\"], [0.7777777777777778, \"#fb9f3a\"], [0.8888888888888888, \"#fdca26\"], [1.0, \"#f0f921\"]], \"type\": \"surface\"}], \"table\": [{\"cells\": {\"fill\": {\"color\": \"#EBF0F8\"}, \"line\": {\"color\": \"white\"}}, \"header\": {\"fill\": {\"color\": \"#C8D4E3\"}, \"line\": {\"color\": \"white\"}}, \"type\": \"table\"}]}, \"layout\": {\"annotationdefaults\": {\"arrowcolor\": \"#2a3f5f\", \"arrowhead\": 0, \"arrowwidth\": 1}, \"coloraxis\": {\"colorbar\": {\"outlinewidth\": 0, \"ticks\": \"\"}}, \"colorscale\": {\"diverging\": [[0, \"#8e0152\"], [0.1, \"#c51b7d\"], [0.2, \"#de77ae\"], [0.3, \"#f1b6da\"], [0.4, \"#fde0ef\"], [0.5, \"#f7f7f7\"], [0.6, \"#e6f5d0\"], [0.7, \"#b8e186\"], [0.8, \"#7fbc41\"], [0.9, \"#4d9221\"], [1, \"#276419\"]], \"sequential\": [[0.0, \"#0d0887\"], [0.1111111111111111, \"#46039f\"], [0.2222222222222222, \"#7201a8\"], [0.3333333333333333, \"#9c179e\"], [0.4444444444444444, \"#bd3786\"], [0.5555555555555556, \"#d8576b\"], [0.6666666666666666, \"#ed7953\"], [0.7777777777777778, \"#fb9f3a\"], [0.8888888888888888, \"#fdca26\"], [1.0, \"#f0f921\"]], \"sequentialminus\": [[0.0, \"#0d0887\"], [0.1111111111111111, \"#46039f\"], [0.2222222222222222, \"#7201a8\"], [0.3333333333333333, \"#9c179e\"], [0.4444444444444444, \"#bd3786\"], [0.5555555555555556, \"#d8576b\"], [0.6666666666666666, \"#ed7953\"], [0.7777777777777778, \"#fb9f3a\"], [0.8888888888888888, \"#fdca26\"], [1.0, \"#f0f921\"]]}, \"colorway\": [\"#636efa\", \"#EF553B\", \"#00cc96\", \"#ab63fa\", \"#FFA15A\", \"#19d3f3\", \"#FF6692\", \"#B6E880\", \"#FF97FF\", \"#FECB52\"], \"font\": {\"color\": \"#2a3f5f\"}, \"geo\": {\"bgcolor\": \"white\", \"lakecolor\": \"white\", \"landcolor\": \"#E5ECF6\", \"showlakes\": true, \"showland\": true, \"subunitcolor\": \"white\"}, \"hoverlabel\": {\"align\": \"left\"}, \"hovermode\": \"closest\", \"mapbox\": {\"style\": \"light\"}, \"paper_bgcolor\": \"white\", \"plot_bgcolor\": \"#E5ECF6\", \"polar\": {\"angularaxis\": {\"gridcolor\": \"white\", \"linecolor\": \"white\", \"ticks\": \"\"}, \"bgcolor\": \"#E5ECF6\", \"radialaxis\": {\"gridcolor\": \"white\", \"linecolor\": \"white\", \"ticks\": \"\"}}, \"scene\": {\"xaxis\": {\"backgroundcolor\": \"#E5ECF6\", \"gridcolor\": \"white\", \"gridwidth\": 2, \"linecolor\": \"white\", \"showbackground\": true, \"ticks\": \"\", \"zerolinecolor\": \"white\"}, \"yaxis\": {\"backgroundcolor\": \"#E5ECF6\", \"gridcolor\": \"white\", \"gridwidth\": 2, \"linecolor\": \"white\", \"showbackground\": true, \"ticks\": \"\", \"zerolinecolor\": \"white\"}, \"zaxis\": {\"backgroundcolor\": \"#E5ECF6\", \"gridcolor\": \"white\", \"gridwidth\": 2, \"linecolor\": \"white\", \"showbackground\": true, \"ticks\": \"\", \"zerolinecolor\": \"white\"}}, \"shapedefaults\": {\"line\": {\"color\": \"#2a3f5f\"}}, \"ternary\": {\"aaxis\": {\"gridcolor\": \"white\", \"linecolor\": \"white\", \"ticks\": \"\"}, \"baxis\": {\"gridcolor\": \"white\", \"linecolor\": \"white\", \"ticks\": \"\"}, \"bgcolor\": \"#E5ECF6\", \"caxis\": {\"gridcolor\": \"white\", \"linecolor\": \"white\", \"ticks\": \"\"}}, \"title\": {\"x\": 0.05}, \"xaxis\": {\"automargin\": true, \"gridcolor\": \"white\", \"linecolor\": \"white\", \"ticks\": \"\", \"title\": {\"standoff\": 15}, \"zerolinecolor\": \"white\", \"zerolinewidth\": 2}, \"yaxis\": {\"automargin\": true, \"gridcolor\": \"white\", \"linecolor\": \"white\", \"ticks\": \"\", \"title\": {\"standoff\": 15}, \"zerolinecolor\": \"white\", \"zerolinewidth\": 2}}}, \"title\": {\"text\": \"Average Qty Sold by Day Name\"}, \"xaxis\": {\"title\": {\"text\": \"Day Name\"}}, \"yaxis\": {\"title\": {\"text\": \"Avg Qty\"}}},\n",
              "                        {\"responsive\": true}\n",
              "                    ).then(function(){\n",
              "                            \n",
              "var gd = document.getElementById('6ac7b9bc-1c0d-4363-b16d-d8cf9760175e');\n",
              "var x = new MutationObserver(function (mutations, observer) {{\n",
              "        var display = window.getComputedStyle(gd).display;\n",
              "        if (!display || display === 'none') {{\n",
              "            console.log([gd, 'removed!']);\n",
              "            Plotly.purge(gd);\n",
              "            observer.disconnect();\n",
              "        }}\n",
              "}});\n",
              "\n",
              "// Listen for the removal of the full notebook cells\n",
              "var notebookContainer = gd.closest('#notebook-container');\n",
              "if (notebookContainer) {{\n",
              "    x.observe(notebookContainer, {childList: true});\n",
              "}}\n",
              "\n",
              "// Listen for the clearing of the current output cell\n",
              "var outputEl = gd.closest('.output');\n",
              "if (outputEl) {{\n",
              "    x.observe(outputEl, {childList: true});\n",
              "}}\n",
              "\n",
              "                        })\n",
              "                };\n",
              "                \n",
              "            </script>\n",
              "        </div>\n",
              "</body>\n",
              "</html>"
            ]
          },
          "metadata": {
            "tags": []
          }
        }
      ]
    },
    {
      "cell_type": "code",
      "metadata": {
        "colab": {
          "base_uri": "https://localhost:8080/",
          "height": 542
        },
        "id": "llCjVjQc-KfO",
        "outputId": "f4cdaf31-a049-4869-ac38-294ae2dc821f"
      },
      "source": [
        "mean_ym_price = pd.DataFrame({'year_month':list(member_promo_only['year_month'].unique()),\n",
        "                              'mean_price': [pd.concat([member_promo_only,promo_item_only], axis=0)['price'].mean()] * \n",
        "                              len(member_promo_only['year_month'].unique())\n",
        "                             })\n",
        "\n",
        "###############3 Price Distribution per Month\n",
        "fig = go.Figure()\n",
        "\n",
        "fig.add_trace(go.Box(x = promo_item_only.sort_values(by = 'year_month')['year_month'].astype(str) ,\n",
        "                     y = promo_item_only.sort_values(by = 'year_month')['price'], boxmean = True, \n",
        "                     name = 'Promo Item', boxpoints = 'all', jitter = 0.2))\n",
        "\n",
        "fig.add_trace(go.Box(x = member_promo_only.sort_values(by = 'year_month')['year_month'].astype(str) ,\n",
        "                     y = member_promo_only.sort_values(by = 'year_month')['price'], boxmean = True, \n",
        "                     name = 'Member Promo', boxpoints = 'all', jitter = 0.2))\n",
        "\n",
        "fig.add_trace(go.Scatter(x = mean_ym_price['year_month'], y = mean_ym_price['mean_price'],\n",
        "                        mode = 'lines', line = dict(color = '#29c7ac', width = 2.5),\n",
        "                        name = 'Promo Average Price'))\n",
        "\n",
        "fig.update_layout(\n",
        "    title_text = 'Price Distribution per Month',\n",
        "    xaxis_title = 'Month',\n",
        "    xaxis_type = 'category',\n",
        "    yaxis_title='Price',\n",
        "    boxmode='group' ,\n",
        "    legend_orientation = 'h',\n",
        "    legend=dict(x=0, y=1.1)\n",
        ")\n",
        "\n",
        "fig.show()"
      ],
      "execution_count": 27,
      "outputs": [
        {
          "output_type": "display_data",
          "data": {
            "text/html": [
              "<html>\n",
              "<head><meta charset=\"utf-8\" /></head>\n",
              "<body>\n",
              "    <div>\n",
              "            <script src=\"https://cdnjs.cloudflare.com/ajax/libs/mathjax/2.7.5/MathJax.js?config=TeX-AMS-MML_SVG\"></script><script type=\"text/javascript\">if (window.MathJax) {MathJax.Hub.Config({SVG: {font: \"STIX-Web\"}});}</script>\n",
              "                <script type=\"text/javascript\">window.PlotlyConfig = {MathJaxConfig: 'local'};</script>\n",
              "        <script src=\"https://cdn.plot.ly/plotly-latest.min.js\"></script>    \n",
              "            <div id=\"bc7ddd76-e0f3-4ae8-bebe-c0b47845ca5c\" class=\"plotly-graph-div\" style=\"height:525px; width:100%;\"></div>\n",
              "            <script type=\"text/javascript\">\n",
              "                \n",
              "                    window.PLOTLYENV=window.PLOTLYENV || {};\n",
              "                    \n",
              "                if (document.getElementById(\"bc7ddd76-e0f3-4ae8-bebe-c0b47845ca5c\")) {\n",
              "                    Plotly.newPlot(\n",
              "                        'bc7ddd76-e0f3-4ae8-bebe-c0b47845ca5c',\n",
              "                        [{\"boxmean\": true, \"boxpoints\": \"all\", \"jitter\": 0.2, \"name\": \"Promo Item\", \"type\": \"box\", \"x\": [\"2019-11\", \"2019-11\", \"2019-11\", \"2019-11\", \"2019-11\", \"2019-11\", \"2019-11\", \"2019-11\", \"2019-11\", \"2019-11\", \"2019-11\", \"2019-11\", \"2019-11\", \"2019-11\", \"2019-11\", \"2019-11\", \"2019-11\", \"2019-11\", \"2019-11\", \"2019-11\", \"2019-11\", \"2019-11\", \"2019-11\", \"2019-11\", \"2019-11\", \"2019-11\", \"2019-11\", \"2019-11\", \"2019-11\", \"2019-11\", \"2019-11\", \"2019-11\", \"2019-11\", \"2019-11\", \"2019-11\", \"2019-11\", \"2019-11\", \"2019-11\", \"2019-11\", \"2019-11\", \"2019-11\", \"2019-11\", \"2019-11\", \"2019-11\", \"2019-11\", \"2019-11\", \"2019-11\", \"2019-11\", \"2019-11\", \"2019-11\", \"2019-11\", \"2019-11\", \"2019-11\", \"2019-11\", \"2019-11\", \"2019-11\", \"2019-11\", \"2019-11\", \"2019-11\", \"2019-11\", \"2019-11\", \"2019-11\", \"2019-11\", \"2019-11\", \"2019-11\", \"2019-11\", \"2019-11\", \"2019-11\", \"2019-11\", \"2019-11\", \"2019-11\", \"2019-11\", \"2019-11\", \"2019-11\", \"2019-11\", \"2019-11\", \"2019-11\", \"2019-11\", \"2019-11\", \"2019-11\", \"2019-11\", \"2019-11\", \"2019-11\", \"2019-11\", \"2019-11\", \"2019-11\", \"2019-11\", \"2019-11\", \"2019-11\", \"2019-11\", \"2019-11\", \"2019-11\", \"2019-11\", \"2019-11\", \"2019-11\", \"2019-11\", \"2019-11\", \"2019-11\", \"2019-11\", \"2019-11\", \"2019-11\", \"2019-11\", \"2019-11\", \"2019-11\", \"2019-11\", \"2019-11\", \"2019-11\", \"2019-11\", \"2019-11\", \"2019-11\", \"2019-11\", \"2019-11\", \"2019-11\", \"2019-11\", \"2019-11\", \"2019-11\", \"2019-11\", \"2019-11\", \"2019-11\", \"2019-11\", \"2019-11\", \"2019-11\", \"2019-11\", \"2019-11\", \"2019-11\", \"2019-11\", \"2019-11\", \"2019-11\", \"2019-11\", \"2019-11\", \"2019-11\", \"2019-11\", \"2019-11\", \"2019-11\", \"2019-11\", \"2019-11\", \"2019-11\", \"2019-11\", \"2019-11\", \"2019-11\", \"2019-11\", \"2019-11\", \"2019-11\", \"2019-11\", \"2019-11\", \"2019-11\", \"2019-11\", \"2019-12\", \"2019-12\", \"2019-12\", \"2019-12\", \"2019-12\", \"2019-12\", \"2019-12\", \"2019-12\", \"2019-12\", \"2019-12\", \"2019-12\", \"2019-12\", \"2019-12\", \"2019-12\", \"2019-12\", \"2019-12\", \"2019-12\", \"2019-12\", \"2019-12\", \"2019-12\", \"2019-12\", \"2019-12\", \"2019-12\", \"2019-12\", \"2019-12\", \"2019-12\", \"2019-12\", \"2019-12\", \"2019-12\", \"2019-12\", \"2019-12\", \"2019-12\", \"2019-12\", \"2019-12\", \"2019-12\", \"2019-12\", \"2019-12\", \"2019-12\", \"2019-12\", \"2019-12\", \"2019-12\", \"2019-12\", \"2019-12\", \"2019-12\", \"2019-12\", \"2019-12\", \"2019-12\", \"2019-12\", \"2019-12\", \"2019-12\", \"2019-12\", \"2019-12\", \"2019-12\", \"2019-12\", \"2019-12\", \"2019-12\", \"2019-12\", \"2019-12\", \"2019-12\", \"2019-12\", \"2019-12\", \"2019-12\", \"2019-12\", \"2019-12\", \"2019-12\", \"2019-12\", \"2019-12\", \"2019-12\", \"2019-12\", \"2019-12\", \"2019-12\", \"2019-12\", \"2019-12\", \"2019-12\", \"2019-12\", \"2019-12\", \"2019-12\", \"2019-12\", \"2019-12\", \"2019-12\", \"2019-12\", \"2019-12\", \"2019-12\", \"2019-12\", \"2019-12\", \"2019-12\", \"2019-12\", \"2019-12\", \"2019-12\", \"2019-12\", \"2019-12\", \"2019-12\", \"2019-12\", \"2019-12\", \"2019-12\", \"2019-12\", \"2019-12\", \"2019-12\", \"2019-12\", \"2019-12\", \"2019-12\", \"2019-12\", \"2019-12\", \"2019-12\", \"2019-12\", \"2019-12\", \"2019-12\", \"2019-12\", \"2019-12\", \"2019-12\", \"2019-12\", \"2019-12\", \"2019-12\", \"2019-12\", \"2019-12\", \"2019-12\", \"2019-12\", \"2019-12\", \"2019-12\", \"2019-12\", \"2019-12\", \"2019-12\", \"2019-12\", \"2019-12\", \"2019-12\", \"2019-12\", \"2019-12\", \"2019-12\", \"2019-12\", \"2019-12\", \"2019-12\", \"2019-12\", \"2019-12\", \"2019-12\", \"2019-12\", \"2019-12\", \"2019-12\", \"2019-12\", \"2019-12\", \"2019-12\", \"2019-12\", \"2019-12\", \"2019-12\", \"2019-12\", \"2019-12\", \"2020-1\", \"2020-1\", \"2020-1\", \"2020-1\", \"2020-1\", \"2020-1\", \"2020-1\", \"2020-1\", \"2020-1\", \"2020-1\", \"2020-1\", \"2020-1\", \"2020-1\", \"2020-1\", \"2020-1\", \"2020-1\", \"2020-1\", \"2020-1\", \"2020-1\", \"2020-1\", \"2020-1\", \"2020-1\", \"2020-1\", \"2020-1\", \"2020-1\", \"2020-1\", \"2020-1\", \"2020-1\", \"2020-1\", \"2020-1\", \"2020-1\", \"2020-1\", \"2020-1\", \"2020-1\", \"2020-1\", \"2020-1\", \"2020-1\", \"2020-1\", \"2020-1\", \"2020-1\", \"2020-1\", \"2020-1\", \"2020-1\", \"2020-1\", \"2020-1\", \"2020-1\", \"2020-1\", \"2020-1\", \"2020-1\", \"2020-1\", \"2020-1\", \"2020-1\", \"2020-1\", \"2020-1\", \"2020-1\", \"2020-1\", \"2020-1\", \"2020-1\", \"2020-1\", \"2020-1\", \"2020-1\", \"2020-1\", \"2020-1\", \"2020-1\", \"2020-1\", \"2020-1\", \"2020-1\", \"2020-1\", \"2020-1\", \"2020-1\", \"2020-1\", \"2020-1\", \"2020-1\", \"2020-1\", \"2020-1\", \"2020-1\", \"2020-1\", \"2020-1\", \"2020-1\", \"2020-1\", \"2020-1\", \"2020-1\", \"2020-1\", \"2020-1\", \"2020-1\", \"2020-1\", \"2020-1\", \"2020-1\", \"2020-1\", \"2020-1\", \"2020-1\", \"2020-1\", \"2020-1\", \"2020-1\", \"2020-1\", \"2020-1\", \"2020-1\", \"2020-1\", \"2020-1\", \"2020-1\", \"2020-1\", \"2020-1\", \"2020-1\", \"2020-1\", \"2020-1\", \"2020-1\", \"2020-1\", \"2020-1\", \"2020-1\", \"2020-1\", \"2020-1\", \"2020-1\", \"2020-1\", \"2020-1\", \"2020-1\", \"2020-1\", \"2020-1\", \"2020-1\", \"2020-1\", \"2020-1\", \"2020-1\", \"2020-1\", \"2020-1\", \"2020-1\", \"2020-1\", \"2020-1\", \"2020-1\", \"2020-1\", \"2020-1\", \"2020-1\", \"2020-1\", \"2020-1\", \"2020-1\", \"2020-1\", \"2020-1\", \"2020-1\", \"2020-1\", \"2020-1\", \"2020-1\", \"2020-1\", \"2020-1\", \"2020-1\", \"2020-1\", \"2020-1\", \"2020-1\", \"2020-1\"], \"y\": [3986120.83, 272791.43, 264421.18, 2271877.93, 2886471.82, 4288823.38, 306689.37, 2099732.07, 2546976.03, 4527608.98, 4455905.13, 160876.19, 2695556.39, 3693753.47, 2048585.58, 695007.79, 3754941.16, 1226999.08, 2544052.36, 4703453.55, 4032051.34, 2866080.05, 311255.62, 4256559.51, 887836.57, 1149555.8, 1324956.41, 2435850.49, 1146836.43, 2239435.04, 333727.79, 3496223.35, 4469877.98, 1495900.21, 4993761.4, 2498869.46, 465956.77, 4079179.86, 3346049.32, 2856239.21, 1870941.03, 2430446.13, 4169757.51, 2823488.16, 3068586.39, 4402370.78, 394749.35, 4379845.64, 1732905.71, 1789535.59, 4184300.24, 1720013.53, 4288739.16, 2175586.27, 4331758.22, 4358849.15, 4082110.21, 355008.01, 2495796.23, 977097.61, 2553270.24, 3098988.46, 1013937.62, 895948.48, 2711983.08, 3514676.31, 2129331.02, 4088127.52, 876614.27, 2974331.41, 611746.65, 2102266.01, 2712237.27, 503857.36, 3628616.72, 1843928.01, 4519032.54, 2437427.03, 2297721.56, 2253462.62, 1952336.2, 1596464.36, 2664325.17, 318688.15, 4225205.31, 3119615.17, 2897432.25, 573018.23, 1581865.46, 2122581.1, 831328.85, 4979319.51, 161931.4, 1893050.41, 1709227.83, 3419783.93, 4775300.42, 1395067.26, 3104389.87, 893514.06, 2345381.56, 3593314.79, 3753948.64, 1059522.87, 3012663.02, 797902.52, 912456.25, 3049754.3, 4920103.55, 2469338.1, 4739582.63, 3810141.79, 3816928.17, 151730.79, 1459803.52, 3327903.54, 2358860.28, 1689659.45, 2299247.92, 1737825.54, 637912.93, 2058819.11, 4029645.46, 4492002.84, 4351453.22, 1022842.27, 4044516.47, 4972638.1, 476794.04, 2565971.33, 3983269.29, 4950834.96, 1842819.89, 2106240.28, 4809794.77, 145816.0, 4351506.8, 3487469.46, 1475019.04, 2225903.14, 4213862.45, 490035.88, 678761.38, 4524522.77, 826023.27, 2077528.45, 1736545.05, 4264366.53, 607611.41, 471094.11, 2964649.11, 688854.54, 3140330.22, 1640155.25, 539821.34, 2068501.76, 3782061.86, 575189.86, 2077025.57, 1531932.5, 3818784.27, 2424761.79, 3517152.26, 309446.86, 1598083.39, 2889047.59, 2221598.26, 1841228.36, 4542841.23, 4928683.61, 3876638.69, 3109970.51, 2805095.4, 2932337.7, 953688.07, 2627743.13, 1281199.75, 617553.88, 1162127.01, 2903369.61, 2691080.85, 1643932.26, 3980496.73, 4779502.16, 4539398.4, 2382195.55, 880585.33, 849071.04, 4676435.16, 4380556.42, 2925846.64, 3018630.84, 2176677.37, 3729498.58, 513072.24, 607068.22, 4060546.68, 2764714.78, 2595436.32, 3762932.46, 242140.89, 2486981.98, 2648412.05, 4742402.24, 3062093.18, 1807260.14, 2883124.61, 3872587.86, 2178916.77, 3456511.87, 2056337.37, 218945.16, 910721.25, 2390077.41, 4991309.26, 4104009.05, 3348010.57, 4422242.24, 1789899.02, 3095950.77, 3774384.56, 3729666.37, 865748.38, 2017516.88, 1455218.47, 3029648.2, 4827127.28, 2204658.25, 4504584.6, 783795.59, 2907233.33, 3248066.09, 4755450.0, 721151.39, 3751217.81, 2697626.55, 206342.4, 3234879.45, 2633797.01, 4033698.62, 575365.86, 1664341.71, 2879690.23, 640818.51, 1502053.48, 602792.58, 3195006.34, 1656806.78, 4236323.29, 4155610.33, 1281789.05, 2963960.58, 488439.24, 2183247.84, 4698654.49, 3890320.97, 3848178.99, 1551477.16, 3031090.14, 1560595.82, 4480931.47, 1278611.34, 466359.07, 3244238.47, 2851894.09, 1622351.89, 3242162.42, 4807684.71, 2658947.11, 3986240.21, 2020099.79, 727117.28, 2938914.5, 3150895.51, 2144418.75, 884351.64, 4740431.22, 2905814.81, 143056.68, 1811831.89, 4861386.71, 1233207.82, 878016.03, 1644926.3, 1889123.7, 943202.01, 2260395.22, 448872.89, 4972891.16, 2347813.56, 4392647.44, 4088673.09, 844390.62, 1675011.74, 3407660.57, 3638093.73, 3935086.82, 2080997.55, 3466721.94, 4558650.15, 1053567.3, 1797295.7, 2473633.54, 4771386.0, 1537788.49, 3213959.91, 2328940.97, 2270205.05, 1868947.13, 2230138.15, 2619174.21, 3025111.12, 4017929.38, 2580912.37, 2642664.45, 4318284.76, 3320353.92, 3113680.8, 1447802.04, 3102986.53, 4080565.65, 2096794.73, 1843899.74, 3402550.51, 705825.04, 1069675.85, 4303058.84, 4996148.34, 724526.54, 4692662.2, 3994275.92, 3740104.75, 1941784.1, 4122143.81, 4561166.32, 3066458.58, 3315489.87, 3950298.01, 1197564.33, 2374590.9, 4542481.6, 1662411.94, 1529561.48, 4383226.27, 2820516.07, 1137426.47, 3024764.96, 4224772.95, 1922832.91, 2466752.43, 3443176.93, 198301.35, 4202208.92, 4824519.9, 3488857.33, 3933013.01, 1742713.52, 490201.52, 3692805.85, 2585207.13, 1051079.48, 4178707.17, 692362.5, 4040118.69, 897736.7, 140966.7, 1806346.31, 3665472.95, 2678719.18, 4553035.38, 1562628.96, 945708.86, 3837051.27, 1345711.96, 3269086.02, 2154336.91, 1005103.69, 726854.92, 4254882.35, 1718992.7, 3432191.56, 4586769.19, 3330049.58, 652996.94, 3758187.41, 2883131.37, 3653504.8, 1918690.82, 3503024.18, 2526710.26, 1930779.56, 2665008.26, 1832864.86, 2901886.35, 1153958.68, 1884269.23, 3600858.03, 4496662.68, 2846420.57, 149789.07, 4101474.08, 3909560.88, 3719246.28, 4377712.62, 527399.0, 1889435.31, 861283.63, 4001034.91, 2487255.54, 380058.04, 3318914.77, 1057187.68, 4372612.88, 1202082.69, 2181984.75, 4767781.87, 2381058.76, 3747730.47, 1054212.34, 3776497.01, 139169.76, 2163294.19, 1878222.99, 975403.1, 2492236.91, 352590.57, 2431494.97, 2712742.14, 2695285.08, 3758533.53, 2649311.88, 1163780.65, 1638775.43, 2718744.32, 3702858.91, 864167.6, 1936187.66, 3918045.16]}, {\"boxmean\": true, \"boxpoints\": \"all\", \"jitter\": 0.2, \"name\": \"Member Promo\", \"type\": \"box\", \"x\": [\"2019-11\", \"2019-11\", \"2019-11\", \"2019-11\", \"2019-11\", \"2019-11\", \"2019-11\", \"2019-11\", \"2019-11\", \"2019-11\", \"2019-11\", \"2019-11\", \"2019-11\", \"2019-11\", \"2019-11\", \"2019-11\", \"2019-11\", \"2019-11\", \"2019-11\", \"2019-11\", \"2019-11\", \"2019-11\", \"2019-11\", \"2019-11\", \"2019-11\", \"2019-11\", \"2019-11\", \"2019-11\", \"2019-11\", \"2019-11\", \"2019-11\", \"2019-11\", \"2019-11\", \"2019-11\", \"2019-11\", \"2019-11\", \"2019-11\", \"2019-11\", \"2019-11\", \"2019-11\", \"2019-11\", \"2019-11\", \"2019-11\", \"2019-11\", \"2019-11\", \"2019-11\", \"2019-11\", \"2019-11\", \"2019-11\", \"2019-11\", \"2019-11\", \"2019-11\", \"2019-11\", \"2019-11\", \"2019-11\", \"2019-11\", \"2019-11\", \"2019-11\", \"2019-11\", \"2019-11\", \"2019-11\", \"2019-11\", \"2019-11\", \"2019-11\", \"2019-11\", \"2019-11\", \"2019-11\", \"2019-11\", \"2019-11\", \"2019-11\", \"2019-11\", \"2019-11\", \"2019-11\", \"2019-11\", \"2019-11\", \"2019-11\", \"2019-11\", \"2019-11\", \"2019-11\", \"2019-11\", \"2019-11\", \"2019-11\", \"2019-11\", \"2019-11\", \"2019-11\", \"2019-11\", \"2019-11\", \"2019-11\", \"2019-11\", \"2019-11\", \"2019-11\", \"2019-11\", \"2019-11\", \"2019-11\", \"2019-11\", \"2019-11\", \"2019-11\", \"2019-11\", \"2019-11\", \"2019-11\", \"2019-11\", \"2019-11\", \"2019-11\", \"2019-11\", \"2019-11\", \"2019-11\", \"2019-11\", \"2019-11\", \"2019-11\", \"2019-11\", \"2019-11\", \"2019-11\", \"2019-11\", \"2019-11\", \"2019-11\", \"2019-11\", \"2019-11\", \"2019-11\", \"2019-11\", \"2019-11\", \"2019-11\", \"2019-11\", \"2019-11\", \"2019-11\", \"2019-11\", \"2019-11\", \"2019-11\", \"2019-11\", \"2019-11\", \"2019-11\", \"2019-11\", \"2019-11\", \"2019-11\", \"2019-11\", \"2019-11\", \"2019-11\", \"2019-11\", \"2019-11\", \"2019-11\", \"2019-12\", \"2019-12\", \"2019-12\", \"2019-12\", \"2019-12\", \"2019-12\", \"2019-12\", \"2019-12\", \"2019-12\", \"2019-12\", \"2019-12\", \"2019-12\", \"2019-12\", \"2019-12\", \"2019-12\", \"2019-12\", \"2019-12\", \"2019-12\", \"2019-12\", \"2019-12\", \"2019-12\", \"2019-12\", \"2019-12\", \"2019-12\", \"2019-12\", \"2019-12\", \"2019-12\", \"2019-12\", \"2019-12\", \"2019-12\", \"2019-12\", \"2019-12\", \"2019-12\", \"2019-12\", \"2019-12\", \"2019-12\", \"2019-12\", \"2019-12\", \"2019-12\", \"2019-12\", \"2019-12\", \"2019-12\", \"2019-12\", \"2019-12\", \"2019-12\", \"2019-12\", \"2019-12\", \"2019-12\", \"2019-12\", \"2019-12\", \"2019-12\", \"2019-12\", \"2019-12\", \"2019-12\", \"2019-12\", \"2019-12\", \"2019-12\", \"2019-12\", \"2019-12\", \"2019-12\", \"2019-12\", \"2019-12\", \"2019-12\", \"2019-12\", \"2019-12\", \"2019-12\", \"2019-12\", \"2019-12\", \"2019-12\", \"2019-12\", \"2019-12\", \"2019-12\", \"2019-12\", \"2019-12\", \"2019-12\", \"2019-12\", \"2019-12\", \"2019-12\", \"2019-12\", \"2019-12\", \"2019-12\", \"2019-12\", \"2019-12\", \"2019-12\", \"2019-12\", \"2019-12\", \"2019-12\", \"2019-12\", \"2019-12\", \"2019-12\", \"2019-12\", \"2019-12\", \"2019-12\", \"2019-12\", \"2019-12\", \"2019-12\", \"2019-12\", \"2019-12\", \"2019-12\", \"2019-12\", \"2019-12\", \"2019-12\", \"2019-12\", \"2019-12\", \"2019-12\", \"2019-12\", \"2019-12\", \"2019-12\", \"2019-12\", \"2019-12\", \"2019-12\", \"2019-12\", \"2019-12\", \"2019-12\", \"2019-12\", \"2019-12\", \"2019-12\", \"2019-12\", \"2019-12\", \"2019-12\", \"2019-12\", \"2019-12\", \"2019-12\", \"2019-12\", \"2019-12\", \"2019-12\", \"2019-12\", \"2019-12\", \"2019-12\", \"2019-12\", \"2019-12\", \"2019-12\", \"2019-12\", \"2019-12\", \"2019-12\", \"2019-12\", \"2019-12\", \"2019-12\", \"2019-12\", \"2019-12\", \"2020-1\", \"2020-1\", \"2020-1\", \"2020-1\", \"2020-1\", \"2020-1\", \"2020-1\", \"2020-1\", \"2020-1\", \"2020-1\", \"2020-1\", \"2020-1\", \"2020-1\", \"2020-1\", \"2020-1\", \"2020-1\", \"2020-1\", \"2020-1\", \"2020-1\", \"2020-1\", \"2020-1\", \"2020-1\", \"2020-1\", \"2020-1\", \"2020-1\", \"2020-1\", \"2020-1\", \"2020-1\", \"2020-1\", \"2020-1\", \"2020-1\", \"2020-1\", \"2020-1\", \"2020-1\", \"2020-1\", \"2020-1\", \"2020-1\", \"2020-1\", \"2020-1\", \"2020-1\", \"2020-1\", \"2020-1\", \"2020-1\", \"2020-1\", \"2020-1\", \"2020-1\", \"2020-1\", \"2020-1\", \"2020-1\", \"2020-1\", \"2020-1\", \"2020-1\", \"2020-1\", \"2020-1\", \"2020-1\", \"2020-1\", \"2020-1\", \"2020-1\", \"2020-1\", \"2020-1\", \"2020-1\", \"2020-1\", \"2020-1\", \"2020-1\", \"2020-1\", \"2020-1\", \"2020-1\", \"2020-1\", \"2020-1\", \"2020-1\", \"2020-1\", \"2020-1\", \"2020-1\", \"2020-1\", \"2020-1\", \"2020-1\", \"2020-1\", \"2020-1\", \"2020-1\", \"2020-1\", \"2020-1\", \"2020-1\", \"2020-1\", \"2020-1\", \"2020-1\", \"2020-1\", \"2020-1\", \"2020-1\", \"2020-1\", \"2020-1\", \"2020-1\", \"2020-1\", \"2020-1\", \"2020-1\", \"2020-1\", \"2020-1\", \"2020-1\", \"2020-1\", \"2020-1\", \"2020-1\", \"2020-1\", \"2020-1\", \"2020-1\", \"2020-1\", \"2020-1\", \"2020-1\", \"2020-1\", \"2020-1\", \"2020-1\", \"2020-1\", \"2020-1\", \"2020-1\", \"2020-1\", \"2020-1\", \"2020-1\", \"2020-1\", \"2020-1\", \"2020-1\", \"2020-1\", \"2020-1\", \"2020-1\", \"2020-1\", \"2020-1\", \"2020-1\", \"2020-1\", \"2020-1\", \"2020-1\", \"2020-1\", \"2020-1\"], \"y\": [147454.56, 1704664.5, 588612.52, 1525459.77, 960787.13, 4698824.26, 4830471.06, 1038972.16, 2920590.45, 170919.5, 1575423.05, 4151514.09, 4177771.93, 1768986.34, 990014.51, 4446031.33, 742731.22, 624064.81, 2966643.22, 1451950.97, 4535155.52, 836436.71, 600917.02, 834206.72, 3458228.45, 650248.36, 1461746.91, 2160160.73, 4229584.93, 3972058.08, 4329816.63, 831789.38, 2137053.19, 3145889.29, 4272588.54, 1531508.12, 2503342.62, 2451508.65, 931706.48, 4323444.96, 695567.03, 2508713.68, 974105.68, 3811074.89, 4798031.84, 4845397.94, 2385348.95, 506448.2, 3100269.53, 2796877.2, 2831774.5, 1482096.74, 1196622.44, 2485039.33, 4139350.73, 2975393.9, 1284449.62, 109417.25, 365217.18, 4774453.67, 1851477.13, 2028987.83, 3597580.32, 2849925.42, 2147160.56, 111943.11, 2535451.42, 4543220.83, 3558879.99, 740277.87, 2936492.13, 3046204.11, 3649621.87, 1829216.69, 245963.8, 2466952.77, 4220840.88, 2801079.56, 265655.46, 1869652.8, 200278.51, 4604861.13, 3566132.54, 1522399.01, 2357157.15, 3258949.75, 1798172.16, 1734589.73, 1786084.57, 3783723.05, 2044687.73, 4973633.56, 1768111.86, 2278984.71, 996290.46, 3956372.53, 3340068.59, 4707001.0, 1729961.31, 1664114.14, 1781250.65, 1187415.75, 655499.75, 1014742.7, 989968.39, 510057.08, 3478532.82, 3192905.73, 1946216.1, 2376960.54, 1427562.72, 3892711.64, 2793471.79, 1412380.21, 1647125.91, 2190200.66, 3782145.14, 2411580.3, 1797398.1, 4509927.29, 4296721.34, 2309617.09, 1612693.39, 3498722.24, 2261431.92, 2007676.54, 2545556.73, 294134.51, 1786832.49, 4980879.06, 4836440.09, 156864.45, 966847.33, 2852011.62, 1604794.79, 2813310.23, 1376785.02, 1371317.26, 1549717.61, 2454370.51, 2941622.86, 3762734.37, 480745.99, 2602691.19, 610700.75, 2388164.03, 1014077.05, 2898400.73, 2571235.12, 2272076.88, 3820282.31, 1704002.51, 1621750.59, 2041189.17, 2856275.97, 910063.23, 2738784.99, 1524348.16, 782761.63, 3701377.12, 483031.36, 2049529.66, 784947.97, 4066001.24, 2448930.26, 4370821.91, 2587190.31, 1730452.02, 2830967.84, 4121025.65, 4549888.12, 4553067.31, 2365806.34, 3760014.29, 2256477.14, 3772456.91, 1942821.58, 2710224.06, 2419529.82, 1708707.06, 1513657.5, 751817.24, 2635710.23, 204387.01, 434746.03, 391783.88, 657515.97, 720825.65, 506373.9, 3232220.62, 1923444.85, 1032228.61, 3608292.0, 4656476.03, 730506.43, 2754829.66, 2858214.47, 1181648.14, 4189043.76, 2168584.57, 2869875.38, 1585192.01, 1338552.76, 3772621.27, 3657542.76, 1583046.86, 1404488.69, 1956007.68, 3472724.18, 2102287.17, 1043118.54, 3885587.17, 4263305.5, 2454021.99, 4207924.19, 3843675.53, 3323562.35, 1925352.39, 4482195.76, 2102530.77, 4602488.77, 3586780.07, 368312.56, 2316023.11, 2686400.75, 4847634.15, 1749793.8, 2155549.44, 2450062.84, 537614.17, 1494654.8, 2105881.91, 4339406.76, 3599907.88, 419919.33, 1562245.54, 3420865.91, 3966552.63, 2006538.93, 1509603.94, 4203101.47, 518373.33, 4677860.8, 1180002.83, 4510681.23, 784810.11, 4596323.92, 4587731.43, 3492992.19, 1008933.95, 1104612.27, 3930606.58, 4036870.23, 3356102.97, 1951942.68, 1515978.58, 4339901.3, 2882618.81, 4624641.87, 287644.02, 4846925.66, 4600069.18, 3599234.15, 309334.6, 4577292.11, 3517236.23, 2108450.21, 1612369.64, 4890271.26, 1262760.08, 1892173.76, 1920678.58, 4772486.34, 2232150.76, 3175693.73, 2363088.74, 576155.68, 3979440.09, 3037786.5, 3015233.32, 993756.37, 2514515.49, 552307.85, 3846092.48, 4699387.9, 3905866.74, 338879.7, 112621.16, 4544419.27, 1792662.11, 3797631.03, 925376.09, 783218.77, 679739.17, 4977108.63, 130869.45, 3540380.33, 633775.66, 249819.95, 183803.25, 2310013.62, 1647329.3, 2041634.52, 3661664.98, 1888002.85, 3528356.57, 3647095.72, 2271763.95, 3425725.21, 3893276.87, 3620794.87, 473169.3, 575381.94, 730688.23, 414918.09, 383280.15, 582717.99, 4157040.85, 670150.31, 3386773.8, 1407797.43, 1882004.43, 4682701.87, 2090428.0, 1067824.81, 1004602.3, 3994540.2, 4593868.71, 4872226.82, 1147735.15, 880126.21, 759872.1, 4951289.05, 3205774.57, 3840069.1, 3252066.69, 2100429.96, 4032545.01, 4107783.13, 1580482.19, 4099215.44, 1107099.43, 3604323.55, 4708118.08, 3960488.74, 567309.08, 3034238.56, 1197878.08, 568300.3, 1881854.03, 2989134.26, 3259500.43, 4730834.12, 2782414.31, 2046899.4, 4737631.84, 2336803.17, 3721005.89, 2583538.44, 4679096.66, 939634.46, 2124684.59, 2261746.36, 2358840.35, 1188562.58, 1503554.76, 3796534.68, 2002094.5, 3351538.39, 639220.36, 2868103.89, 2395936.57, 1283719.64, 2654487.99, 4084954.06, 2500575.28, 2170407.68, 1637580.59, 3198905.54, 2530117.63, 370286.75, 1010183.38, 1798173.07, 4847783.58, 3186717.05, 2780140.17, 3263561.55, 4704496.03, 4080114.57, 2415427.17, 2554057.93, 1780610.81, 2824565.69, 2499137.48, 4791977.73, 789826.09, 2826436.35, 3368292.47, 3127687.77, 392298.88, 2242872.5, 1336357.08, 1937646.9, 657449.25, 1027546.61, 695235.7, 2319195.05, 1076752.1]}, {\"line\": {\"color\": \"#29c7ac\", \"width\": 2.5}, \"mode\": \"lines\", \"name\": \"Promo Average Price\", \"type\": \"scatter\", \"x\": [\"2019-11\", \"2019-12\", \"2020-1\"], \"y\": [2495340.5726004704, 2495340.5726004704, 2495340.5726004704]}],\n",
              "                        {\"boxmode\": \"group\", \"legend\": {\"orientation\": \"h\", \"x\": 0, \"y\": 1.1}, \"template\": {\"data\": {\"bar\": [{\"error_x\": {\"color\": \"#2a3f5f\"}, \"error_y\": {\"color\": \"#2a3f5f\"}, \"marker\": {\"line\": {\"color\": \"#E5ECF6\", \"width\": 0.5}}, \"type\": \"bar\"}], \"barpolar\": [{\"marker\": {\"line\": {\"color\": \"#E5ECF6\", \"width\": 0.5}}, \"type\": \"barpolar\"}], \"carpet\": [{\"aaxis\": {\"endlinecolor\": \"#2a3f5f\", \"gridcolor\": \"white\", \"linecolor\": \"white\", \"minorgridcolor\": \"white\", \"startlinecolor\": \"#2a3f5f\"}, \"baxis\": {\"endlinecolor\": \"#2a3f5f\", \"gridcolor\": \"white\", \"linecolor\": \"white\", \"minorgridcolor\": \"white\", \"startlinecolor\": \"#2a3f5f\"}, \"type\": \"carpet\"}], \"choropleth\": [{\"colorbar\": {\"outlinewidth\": 0, \"ticks\": \"\"}, \"type\": \"choropleth\"}], \"contour\": [{\"colorbar\": {\"outlinewidth\": 0, \"ticks\": \"\"}, \"colorscale\": [[0.0, \"#0d0887\"], [0.1111111111111111, \"#46039f\"], [0.2222222222222222, \"#7201a8\"], [0.3333333333333333, \"#9c179e\"], [0.4444444444444444, \"#bd3786\"], [0.5555555555555556, \"#d8576b\"], [0.6666666666666666, \"#ed7953\"], [0.7777777777777778, \"#fb9f3a\"], [0.8888888888888888, \"#fdca26\"], [1.0, \"#f0f921\"]], \"type\": \"contour\"}], \"contourcarpet\": [{\"colorbar\": {\"outlinewidth\": 0, \"ticks\": \"\"}, \"type\": \"contourcarpet\"}], \"heatmap\": [{\"colorbar\": {\"outlinewidth\": 0, \"ticks\": \"\"}, \"colorscale\": [[0.0, \"#0d0887\"], [0.1111111111111111, \"#46039f\"], [0.2222222222222222, \"#7201a8\"], [0.3333333333333333, \"#9c179e\"], [0.4444444444444444, \"#bd3786\"], [0.5555555555555556, \"#d8576b\"], [0.6666666666666666, \"#ed7953\"], [0.7777777777777778, \"#fb9f3a\"], [0.8888888888888888, \"#fdca26\"], [1.0, \"#f0f921\"]], \"type\": \"heatmap\"}], \"heatmapgl\": [{\"colorbar\": {\"outlinewidth\": 0, \"ticks\": \"\"}, \"colorscale\": [[0.0, \"#0d0887\"], [0.1111111111111111, \"#46039f\"], [0.2222222222222222, \"#7201a8\"], [0.3333333333333333, \"#9c179e\"], [0.4444444444444444, \"#bd3786\"], [0.5555555555555556, \"#d8576b\"], [0.6666666666666666, \"#ed7953\"], [0.7777777777777778, \"#fb9f3a\"], [0.8888888888888888, \"#fdca26\"], [1.0, \"#f0f921\"]], \"type\": \"heatmapgl\"}], \"histogram\": [{\"marker\": {\"colorbar\": {\"outlinewidth\": 0, \"ticks\": \"\"}}, \"type\": \"histogram\"}], \"histogram2d\": [{\"colorbar\": {\"outlinewidth\": 0, \"ticks\": \"\"}, \"colorscale\": [[0.0, \"#0d0887\"], [0.1111111111111111, \"#46039f\"], [0.2222222222222222, \"#7201a8\"], [0.3333333333333333, \"#9c179e\"], [0.4444444444444444, \"#bd3786\"], [0.5555555555555556, \"#d8576b\"], [0.6666666666666666, \"#ed7953\"], [0.7777777777777778, \"#fb9f3a\"], [0.8888888888888888, \"#fdca26\"], [1.0, \"#f0f921\"]], \"type\": \"histogram2d\"}], \"histogram2dcontour\": [{\"colorbar\": {\"outlinewidth\": 0, \"ticks\": \"\"}, \"colorscale\": [[0.0, \"#0d0887\"], [0.1111111111111111, \"#46039f\"], [0.2222222222222222, \"#7201a8\"], [0.3333333333333333, \"#9c179e\"], [0.4444444444444444, \"#bd3786\"], [0.5555555555555556, \"#d8576b\"], [0.6666666666666666, \"#ed7953\"], [0.7777777777777778, \"#fb9f3a\"], [0.8888888888888888, \"#fdca26\"], [1.0, \"#f0f921\"]], \"type\": \"histogram2dcontour\"}], \"mesh3d\": [{\"colorbar\": {\"outlinewidth\": 0, \"ticks\": \"\"}, \"type\": \"mesh3d\"}], \"parcoords\": [{\"line\": {\"colorbar\": {\"outlinewidth\": 0, \"ticks\": \"\"}}, \"type\": \"parcoords\"}], \"pie\": [{\"automargin\": true, \"type\": \"pie\"}], \"scatter\": [{\"marker\": {\"colorbar\": {\"outlinewidth\": 0, \"ticks\": \"\"}}, \"type\": \"scatter\"}], \"scatter3d\": [{\"line\": {\"colorbar\": {\"outlinewidth\": 0, \"ticks\": \"\"}}, \"marker\": {\"colorbar\": {\"outlinewidth\": 0, \"ticks\": \"\"}}, \"type\": \"scatter3d\"}], \"scattercarpet\": [{\"marker\": {\"colorbar\": {\"outlinewidth\": 0, \"ticks\": \"\"}}, \"type\": \"scattercarpet\"}], \"scattergeo\": [{\"marker\": {\"colorbar\": {\"outlinewidth\": 0, \"ticks\": \"\"}}, \"type\": \"scattergeo\"}], \"scattergl\": [{\"marker\": {\"colorbar\": {\"outlinewidth\": 0, \"ticks\": \"\"}}, \"type\": \"scattergl\"}], \"scattermapbox\": [{\"marker\": {\"colorbar\": {\"outlinewidth\": 0, \"ticks\": \"\"}}, \"type\": \"scattermapbox\"}], \"scatterpolar\": [{\"marker\": {\"colorbar\": {\"outlinewidth\": 0, \"ticks\": \"\"}}, \"type\": \"scatterpolar\"}], \"scatterpolargl\": [{\"marker\": {\"colorbar\": {\"outlinewidth\": 0, \"ticks\": \"\"}}, \"type\": \"scatterpolargl\"}], \"scatterternary\": [{\"marker\": {\"colorbar\": {\"outlinewidth\": 0, \"ticks\": \"\"}}, \"type\": \"scatterternary\"}], \"surface\": [{\"colorbar\": {\"outlinewidth\": 0, \"ticks\": \"\"}, \"colorscale\": [[0.0, \"#0d0887\"], [0.1111111111111111, \"#46039f\"], [0.2222222222222222, \"#7201a8\"], [0.3333333333333333, \"#9c179e\"], [0.4444444444444444, \"#bd3786\"], [0.5555555555555556, \"#d8576b\"], [0.6666666666666666, \"#ed7953\"], [0.7777777777777778, \"#fb9f3a\"], [0.8888888888888888, \"#fdca26\"], [1.0, \"#f0f921\"]], \"type\": \"surface\"}], \"table\": [{\"cells\": {\"fill\": {\"color\": \"#EBF0F8\"}, \"line\": {\"color\": \"white\"}}, \"header\": {\"fill\": {\"color\": \"#C8D4E3\"}, \"line\": {\"color\": \"white\"}}, \"type\": \"table\"}]}, \"layout\": {\"annotationdefaults\": {\"arrowcolor\": \"#2a3f5f\", \"arrowhead\": 0, \"arrowwidth\": 1}, \"coloraxis\": {\"colorbar\": {\"outlinewidth\": 0, \"ticks\": \"\"}}, \"colorscale\": {\"diverging\": [[0, \"#8e0152\"], [0.1, \"#c51b7d\"], [0.2, \"#de77ae\"], [0.3, \"#f1b6da\"], [0.4, \"#fde0ef\"], [0.5, \"#f7f7f7\"], [0.6, \"#e6f5d0\"], [0.7, \"#b8e186\"], [0.8, \"#7fbc41\"], [0.9, \"#4d9221\"], [1, \"#276419\"]], \"sequential\": [[0.0, \"#0d0887\"], [0.1111111111111111, \"#46039f\"], [0.2222222222222222, \"#7201a8\"], [0.3333333333333333, \"#9c179e\"], [0.4444444444444444, \"#bd3786\"], [0.5555555555555556, \"#d8576b\"], [0.6666666666666666, \"#ed7953\"], [0.7777777777777778, \"#fb9f3a\"], [0.8888888888888888, \"#fdca26\"], [1.0, \"#f0f921\"]], \"sequentialminus\": [[0.0, \"#0d0887\"], [0.1111111111111111, \"#46039f\"], [0.2222222222222222, \"#7201a8\"], [0.3333333333333333, \"#9c179e\"], [0.4444444444444444, \"#bd3786\"], [0.5555555555555556, \"#d8576b\"], [0.6666666666666666, \"#ed7953\"], [0.7777777777777778, \"#fb9f3a\"], [0.8888888888888888, \"#fdca26\"], [1.0, \"#f0f921\"]]}, \"colorway\": [\"#636efa\", \"#EF553B\", \"#00cc96\", \"#ab63fa\", \"#FFA15A\", \"#19d3f3\", \"#FF6692\", \"#B6E880\", \"#FF97FF\", \"#FECB52\"], \"font\": {\"color\": \"#2a3f5f\"}, \"geo\": {\"bgcolor\": \"white\", \"lakecolor\": \"white\", \"landcolor\": \"#E5ECF6\", \"showlakes\": true, \"showland\": true, \"subunitcolor\": \"white\"}, \"hoverlabel\": {\"align\": \"left\"}, \"hovermode\": \"closest\", \"mapbox\": {\"style\": \"light\"}, \"paper_bgcolor\": \"white\", \"plot_bgcolor\": \"#E5ECF6\", \"polar\": {\"angularaxis\": {\"gridcolor\": \"white\", \"linecolor\": \"white\", \"ticks\": \"\"}, \"bgcolor\": \"#E5ECF6\", \"radialaxis\": {\"gridcolor\": \"white\", \"linecolor\": \"white\", \"ticks\": \"\"}}, \"scene\": {\"xaxis\": {\"backgroundcolor\": \"#E5ECF6\", \"gridcolor\": \"white\", \"gridwidth\": 2, \"linecolor\": \"white\", \"showbackground\": true, \"ticks\": \"\", \"zerolinecolor\": \"white\"}, \"yaxis\": {\"backgroundcolor\": \"#E5ECF6\", \"gridcolor\": \"white\", \"gridwidth\": 2, \"linecolor\": \"white\", \"showbackground\": true, \"ticks\": \"\", \"zerolinecolor\": \"white\"}, \"zaxis\": {\"backgroundcolor\": \"#E5ECF6\", \"gridcolor\": \"white\", \"gridwidth\": 2, \"linecolor\": \"white\", \"showbackground\": true, \"ticks\": \"\", \"zerolinecolor\": \"white\"}}, \"shapedefaults\": {\"line\": {\"color\": \"#2a3f5f\"}}, \"ternary\": {\"aaxis\": {\"gridcolor\": \"white\", \"linecolor\": \"white\", \"ticks\": \"\"}, \"baxis\": {\"gridcolor\": \"white\", \"linecolor\": \"white\", \"ticks\": \"\"}, \"bgcolor\": \"#E5ECF6\", \"caxis\": {\"gridcolor\": \"white\", \"linecolor\": \"white\", \"ticks\": \"\"}}, \"title\": {\"x\": 0.05}, \"xaxis\": {\"automargin\": true, \"gridcolor\": \"white\", \"linecolor\": \"white\", \"ticks\": \"\", \"title\": {\"standoff\": 15}, \"zerolinecolor\": \"white\", \"zerolinewidth\": 2}, \"yaxis\": {\"automargin\": true, \"gridcolor\": \"white\", \"linecolor\": \"white\", \"ticks\": \"\", \"title\": {\"standoff\": 15}, \"zerolinecolor\": \"white\", \"zerolinewidth\": 2}}}, \"title\": {\"text\": \"Price Distribution per Month\"}, \"xaxis\": {\"title\": {\"text\": \"Month\"}, \"type\": \"category\"}, \"yaxis\": {\"title\": {\"text\": \"Price\"}}},\n",
              "                        {\"responsive\": true}\n",
              "                    ).then(function(){\n",
              "                            \n",
              "var gd = document.getElementById('bc7ddd76-e0f3-4ae8-bebe-c0b47845ca5c');\n",
              "var x = new MutationObserver(function (mutations, observer) {{\n",
              "        var display = window.getComputedStyle(gd).display;\n",
              "        if (!display || display === 'none') {{\n",
              "            console.log([gd, 'removed!']);\n",
              "            Plotly.purge(gd);\n",
              "            observer.disconnect();\n",
              "        }}\n",
              "}});\n",
              "\n",
              "// Listen for the removal of the full notebook cells\n",
              "var notebookContainer = gd.closest('#notebook-container');\n",
              "if (notebookContainer) {{\n",
              "    x.observe(notebookContainer, {childList: true});\n",
              "}}\n",
              "\n",
              "// Listen for the clearing of the current output cell\n",
              "var outputEl = gd.closest('.output');\n",
              "if (outputEl) {{\n",
              "    x.observe(outputEl, {childList: true});\n",
              "}}\n",
              "\n",
              "                        })\n",
              "                };\n",
              "                \n",
              "            </script>\n",
              "        </div>\n",
              "</body>\n",
              "</html>"
            ]
          },
          "metadata": {
            "tags": []
          }
        }
      ]
    },
    {
      "cell_type": "markdown",
      "metadata": {
        "id": "7e-hgpLvD9Uc"
      },
      "source": [
        "Based on the charts above, we can see:\n",
        "* Average price of products for Promo Items kept increasing over the month.\n",
        "* When the average price of promo item products kept increasing a little bit, the average quantity sold also kept increasing over the course of 3 months \n",
        "* Member promo always gets lower price than All Promo Average Price, except on the month of December.\n",
        "* Although the price for member promo has gone up in December, the average quantity sold has gone down"
      ]
    },
    {
      "cell_type": "markdown",
      "metadata": {
        "id": "F1k9zfATE-8C"
      },
      "source": [
        "### Conclusion:\n",
        "* Increasing the price for promo items, tend to also increase the quantity sold of those items.\n",
        "\n",
        "* Members would not buy the member promo products when the price has gone up."
      ]
    },
    {
      "cell_type": "markdown",
      "metadata": {
        "id": "giVCIAMi-KfQ"
      },
      "source": [
        "### Quantity Sold vs Revenue by Date"
      ]
    },
    {
      "cell_type": "code",
      "metadata": {
        "colab": {
          "base_uri": "https://localhost:8080/",
          "height": 542
        },
        "id": "D_5zpmqy-KfR",
        "outputId": "6c43613e-8db6-46c6-f2e8-8a20a0972e1e"
      },
      "source": [
        "#################\n",
        "fig2 = go.Figure()\n",
        "\n",
        "fig2.add_trace(go.Scatter(x = tot_quantity_date['date'], y = tot_quantity_date['total_quantity'],\n",
        "              mode = 'lines+markers',\n",
        "              name = 'Total Qty Sold by Date'))\n",
        "\n",
        "fig2.add_trace(go.Scatter(x = tot_rev_date['date'], y = tot_rev_date['revenue']/1000000,\n",
        "              mode = 'lines+markers',\n",
        "              name = 'Revenue by Date (in milion)'))\n",
        "\n",
        "fig2.update_layout(title_text = 'Quantity Sold vs Revenue by Date',\n",
        "                  xaxis_title = 'Date',\n",
        "                   legend_orientation = 'h',\n",
        "                   legend=dict(x=0, y=1.1)\n",
        "                  )\n",
        "\n",
        "fig2.show()"
      ],
      "execution_count": 28,
      "outputs": [
        {
          "output_type": "display_data",
          "data": {
            "text/html": [
              "<html>\n",
              "<head><meta charset=\"utf-8\" /></head>\n",
              "<body>\n",
              "    <div>\n",
              "            <script src=\"https://cdnjs.cloudflare.com/ajax/libs/mathjax/2.7.5/MathJax.js?config=TeX-AMS-MML_SVG\"></script><script type=\"text/javascript\">if (window.MathJax) {MathJax.Hub.Config({SVG: {font: \"STIX-Web\"}});}</script>\n",
              "                <script type=\"text/javascript\">window.PlotlyConfig = {MathJaxConfig: 'local'};</script>\n",
              "        <script src=\"https://cdn.plot.ly/plotly-latest.min.js\"></script>    \n",
              "            <div id=\"adb36c9c-7a49-4b67-9380-9fd5bc33746e\" class=\"plotly-graph-div\" style=\"height:525px; width:100%;\"></div>\n",
              "            <script type=\"text/javascript\">\n",
              "                \n",
              "                    window.PLOTLYENV=window.PLOTLYENV || {};\n",
              "                    \n",
              "                if (document.getElementById(\"adb36c9c-7a49-4b67-9380-9fd5bc33746e\")) {\n",
              "                    Plotly.newPlot(\n",
              "                        'adb36c9c-7a49-4b67-9380-9fd5bc33746e',\n",
              "                        [{\"mode\": \"lines+markers\", \"name\": \"Total Qty Sold by Date\", \"type\": \"scatter\", \"x\": [\"2019-11-01T00:00:00\", \"2019-11-02T00:00:00\", \"2019-11-03T00:00:00\", \"2019-11-04T00:00:00\", \"2019-11-05T00:00:00\", \"2019-11-06T00:00:00\", \"2019-11-07T00:00:00\", \"2019-11-08T00:00:00\", \"2019-11-09T00:00:00\", \"2019-11-10T00:00:00\", \"2019-11-11T00:00:00\", \"2019-11-12T00:00:00\", \"2019-11-13T00:00:00\", \"2019-11-14T00:00:00\", \"2019-11-15T00:00:00\", \"2019-11-16T00:00:00\", \"2019-11-17T00:00:00\", \"2019-11-18T00:00:00\", \"2019-11-19T00:00:00\", \"2019-11-20T00:00:00\", \"2019-11-21T00:00:00\", \"2019-11-22T00:00:00\", \"2019-11-23T00:00:00\", \"2019-11-24T00:00:00\", \"2019-11-25T00:00:00\", \"2019-11-26T00:00:00\", \"2019-11-27T00:00:00\", \"2019-11-28T00:00:00\", \"2019-11-29T00:00:00\", \"2019-11-30T00:00:00\", \"2019-12-01T00:00:00\", \"2019-12-02T00:00:00\", \"2019-12-03T00:00:00\", \"2019-12-04T00:00:00\", \"2019-12-05T00:00:00\", \"2019-12-06T00:00:00\", \"2019-12-07T00:00:00\", \"2019-12-08T00:00:00\", \"2019-12-09T00:00:00\", \"2019-12-10T00:00:00\", \"2019-12-11T00:00:00\", \"2019-12-12T00:00:00\", \"2019-12-13T00:00:00\", \"2019-12-14T00:00:00\", \"2019-12-15T00:00:00\", \"2019-12-16T00:00:00\", \"2019-12-17T00:00:00\", \"2019-12-18T00:00:00\", \"2019-12-19T00:00:00\", \"2019-12-20T00:00:00\", \"2019-12-21T00:00:00\", \"2019-12-22T00:00:00\", \"2019-12-23T00:00:00\", \"2019-12-24T00:00:00\", \"2019-12-25T00:00:00\", \"2019-12-26T00:00:00\", \"2019-12-27T00:00:00\", \"2019-12-28T00:00:00\", \"2019-12-29T00:00:00\", \"2019-12-30T00:00:00\", \"2019-12-31T00:00:00\", \"2020-01-01T00:00:00\", \"2020-01-02T00:00:00\", \"2020-01-03T00:00:00\", \"2020-01-04T00:00:00\", \"2020-01-05T00:00:00\", \"2020-01-06T00:00:00\", \"2020-01-07T00:00:00\", \"2020-01-08T00:00:00\", \"2020-01-09T00:00:00\", \"2020-01-10T00:00:00\", \"2020-01-11T00:00:00\", \"2020-01-12T00:00:00\", \"2020-01-13T00:00:00\", \"2020-01-14T00:00:00\", \"2020-01-15T00:00:00\", \"2020-01-16T00:00:00\", \"2020-01-17T00:00:00\", \"2020-01-18T00:00:00\", \"2020-01-19T00:00:00\", \"2020-01-20T00:00:00\", \"2020-01-21T00:00:00\", \"2020-01-22T00:00:00\", \"2020-01-23T00:00:00\", \"2020-01-24T00:00:00\", \"2020-01-25T00:00:00\", \"2020-01-26T00:00:00\", \"2020-01-27T00:00:00\", \"2020-01-28T00:00:00\", \"2020-01-29T00:00:00\", \"2020-01-30T00:00:00\"], \"y\": [200.0, 231.0, 218.0, 218.0, 152.0, 233.0, 179.0, 196.0, 258.0, 182.0, 184.0, 271.0, 197.0, 217.0, 212.0, 296.0, 257.0, 302.0, 258.0, 271.0, 232.0, 262.0, 234.0, 122.0, 278.0, 191.0, 273.0, 224.0, 186.0, 139.0, 171.0, 317.0, 215.0, 241.0, 218.0, 378.0, 209.0, 189.0, 271.0, 192.0, 172.0, 146.0, 344.0, 147.0, 198.0, 220.0, 196.0, 287.0, 181.0, 173.0, 220.0, 222.0, 238.0, 239.0, 100.0, 185.0, 199.0, 179.0, 144.0, 186.0, 146.0, 321.0, 207.0, 141.0, 227.0, 227.0, 229.0, 231.0, 135.0, 230.0, 182.0, 234.0, 303.0, 234.0, 281.0, 156.0, 146.0, 301.0, 232.0, 166.0, 169.0, 303.0, 244.0, 274.0, 225.0, 241.0, 209.0, 262.0, 152.0, 269.0, 319.0]}, {\"mode\": \"lines+markers\", \"name\": \"Revenue by Date (in milion)\", \"type\": \"scatter\", \"x\": [\"2019-11-01T00:00:00\", \"2019-11-02T00:00:00\", \"2019-11-03T00:00:00\", \"2019-11-04T00:00:00\", \"2019-11-05T00:00:00\", \"2019-11-06T00:00:00\", \"2019-11-07T00:00:00\", \"2019-11-08T00:00:00\", \"2019-11-09T00:00:00\", \"2019-11-10T00:00:00\", \"2019-11-11T00:00:00\", \"2019-11-12T00:00:00\", \"2019-11-13T00:00:00\", \"2019-11-14T00:00:00\", \"2019-11-15T00:00:00\", \"2019-11-16T00:00:00\", \"2019-11-17T00:00:00\", \"2019-11-18T00:00:00\", \"2019-11-19T00:00:00\", \"2019-11-20T00:00:00\", \"2019-11-21T00:00:00\", \"2019-11-22T00:00:00\", \"2019-11-23T00:00:00\", \"2019-11-24T00:00:00\", \"2019-11-25T00:00:00\", \"2019-11-26T00:00:00\", \"2019-11-27T00:00:00\", \"2019-11-28T00:00:00\", \"2019-11-29T00:00:00\", \"2019-11-30T00:00:00\", \"2019-12-01T00:00:00\", \"2019-12-02T00:00:00\", \"2019-12-03T00:00:00\", \"2019-12-04T00:00:00\", \"2019-12-05T00:00:00\", \"2019-12-06T00:00:00\", \"2019-12-07T00:00:00\", \"2019-12-08T00:00:00\", \"2019-12-09T00:00:00\", \"2019-12-10T00:00:00\", \"2019-12-11T00:00:00\", \"2019-12-12T00:00:00\", \"2019-12-13T00:00:00\", \"2019-12-14T00:00:00\", \"2019-12-15T00:00:00\", \"2019-12-16T00:00:00\", \"2019-12-17T00:00:00\", \"2019-12-18T00:00:00\", \"2019-12-19T00:00:00\", \"2019-12-20T00:00:00\", \"2019-12-21T00:00:00\", \"2019-12-22T00:00:00\", \"2019-12-23T00:00:00\", \"2019-12-24T00:00:00\", \"2019-12-25T00:00:00\", \"2019-12-26T00:00:00\", \"2019-12-27T00:00:00\", \"2019-12-28T00:00:00\", \"2019-12-29T00:00:00\", \"2019-12-30T00:00:00\", \"2019-12-31T00:00:00\", \"2020-01-01T00:00:00\", \"2020-01-02T00:00:00\", \"2020-01-03T00:00:00\", \"2020-01-04T00:00:00\", \"2020-01-05T00:00:00\", \"2020-01-06T00:00:00\", \"2020-01-07T00:00:00\", \"2020-01-08T00:00:00\", \"2020-01-09T00:00:00\", \"2020-01-10T00:00:00\", \"2020-01-11T00:00:00\", \"2020-01-12T00:00:00\", \"2020-01-13T00:00:00\", \"2020-01-14T00:00:00\", \"2020-01-15T00:00:00\", \"2020-01-16T00:00:00\", \"2020-01-17T00:00:00\", \"2020-01-18T00:00:00\", \"2020-01-19T00:00:00\", \"2020-01-20T00:00:00\", \"2020-01-21T00:00:00\", \"2020-01-22T00:00:00\", \"2020-01-23T00:00:00\", \"2020-01-24T00:00:00\", \"2020-01-25T00:00:00\", \"2020-01-26T00:00:00\", \"2020-01-27T00:00:00\", \"2020-01-28T00:00:00\", \"2020-01-29T00:00:00\", \"2020-01-30T00:00:00\"], \"y\": [455.8746547, 551.36805379, 456.5808939000001, 390.60032375, 323.2437271900001, 552.23211513, 435.76842903, 406.26277299999987, 571.5030519599999, 362.01566384, 442.94556176, 749.2923750799999, 611.26007404, 488.2167066, 407.92634962, 661.6537910199999, 495.67360596, 645.96045852, 716.8974177299999, 638.89757276, 559.94556252, 601.0970445000002, 456.7455541, 302.08686425999997, 682.3926267399999, 441.3348834200001, 385.7764176200001, 677.7805371499999, 362.00217211, 354.76877608999996, 501.9964384599999, 806.8896136000002, 552.27357218, 652.1122289200001, 586.2212305000002, 807.2510084400001, 368.59289039, 497.78793117000004, 680.25693071, 631.56336087, 494.22369269000006, 310.44469910000004, 706.84277344, 245.03264441, 480.02619000000004, 418.3052057600001, 584.3814777, 613.43092345, 390.87022053, 376.99120736000003, 463.12092935000004, 534.0844400899999, 524.43150826, 525.53695586, 270.1164084999999, 468.2571402899999, 431.56775185000004, 404.95587378000005, 329.4979604900001, 472.15492071999995, 263.22060748999996, 493.8083882800001, 383.61893637000003, 279.3181, 655.31882344, 624.1868646700001, 523.40292486, 707.3618215000001, 362.8489597099999, 492.69081065000006, 455.21780764, 578.53794015, 622.6732261599999, 456.9196306399999, 562.1824478200001, 363.19780900999996, 296.22096379000004, 686.75585015, 665.96468008, 390.70538834, 281.59008449000004, 670.96798309, 620.27750608, 709.1071027499999, 541.76693376, 545.73282214, 401.08788280999994, 600.06574237, 203.0425066, 600.70615581, 827.2695206899999]}],\n",
              "                        {\"legend\": {\"orientation\": \"h\", \"x\": 0, \"y\": 1.1}, \"template\": {\"data\": {\"bar\": [{\"error_x\": {\"color\": \"#2a3f5f\"}, \"error_y\": {\"color\": \"#2a3f5f\"}, \"marker\": {\"line\": {\"color\": \"#E5ECF6\", \"width\": 0.5}}, \"type\": \"bar\"}], \"barpolar\": [{\"marker\": {\"line\": {\"color\": \"#E5ECF6\", \"width\": 0.5}}, \"type\": \"barpolar\"}], \"carpet\": [{\"aaxis\": {\"endlinecolor\": \"#2a3f5f\", \"gridcolor\": \"white\", \"linecolor\": \"white\", \"minorgridcolor\": \"white\", \"startlinecolor\": \"#2a3f5f\"}, \"baxis\": {\"endlinecolor\": \"#2a3f5f\", \"gridcolor\": \"white\", \"linecolor\": \"white\", \"minorgridcolor\": \"white\", \"startlinecolor\": \"#2a3f5f\"}, \"type\": \"carpet\"}], \"choropleth\": [{\"colorbar\": {\"outlinewidth\": 0, \"ticks\": \"\"}, \"type\": \"choropleth\"}], \"contour\": [{\"colorbar\": {\"outlinewidth\": 0, \"ticks\": \"\"}, \"colorscale\": [[0.0, \"#0d0887\"], [0.1111111111111111, \"#46039f\"], [0.2222222222222222, \"#7201a8\"], [0.3333333333333333, \"#9c179e\"], [0.4444444444444444, \"#bd3786\"], [0.5555555555555556, \"#d8576b\"], [0.6666666666666666, \"#ed7953\"], [0.7777777777777778, \"#fb9f3a\"], [0.8888888888888888, \"#fdca26\"], [1.0, \"#f0f921\"]], \"type\": \"contour\"}], \"contourcarpet\": [{\"colorbar\": {\"outlinewidth\": 0, \"ticks\": \"\"}, \"type\": \"contourcarpet\"}], \"heatmap\": [{\"colorbar\": {\"outlinewidth\": 0, \"ticks\": \"\"}, \"colorscale\": [[0.0, \"#0d0887\"], [0.1111111111111111, \"#46039f\"], [0.2222222222222222, \"#7201a8\"], [0.3333333333333333, \"#9c179e\"], [0.4444444444444444, \"#bd3786\"], [0.5555555555555556, \"#d8576b\"], [0.6666666666666666, \"#ed7953\"], [0.7777777777777778, \"#fb9f3a\"], [0.8888888888888888, \"#fdca26\"], [1.0, \"#f0f921\"]], \"type\": \"heatmap\"}], \"heatmapgl\": [{\"colorbar\": {\"outlinewidth\": 0, \"ticks\": \"\"}, \"colorscale\": [[0.0, \"#0d0887\"], [0.1111111111111111, \"#46039f\"], [0.2222222222222222, \"#7201a8\"], [0.3333333333333333, \"#9c179e\"], [0.4444444444444444, \"#bd3786\"], [0.5555555555555556, \"#d8576b\"], [0.6666666666666666, \"#ed7953\"], [0.7777777777777778, \"#fb9f3a\"], [0.8888888888888888, \"#fdca26\"], [1.0, \"#f0f921\"]], \"type\": \"heatmapgl\"}], \"histogram\": [{\"marker\": {\"colorbar\": {\"outlinewidth\": 0, \"ticks\": \"\"}}, \"type\": \"histogram\"}], \"histogram2d\": [{\"colorbar\": {\"outlinewidth\": 0, \"ticks\": \"\"}, \"colorscale\": [[0.0, \"#0d0887\"], [0.1111111111111111, \"#46039f\"], [0.2222222222222222, \"#7201a8\"], [0.3333333333333333, \"#9c179e\"], [0.4444444444444444, \"#bd3786\"], [0.5555555555555556, \"#d8576b\"], [0.6666666666666666, \"#ed7953\"], [0.7777777777777778, \"#fb9f3a\"], [0.8888888888888888, \"#fdca26\"], [1.0, \"#f0f921\"]], \"type\": \"histogram2d\"}], \"histogram2dcontour\": [{\"colorbar\": {\"outlinewidth\": 0, \"ticks\": \"\"}, \"colorscale\": [[0.0, \"#0d0887\"], [0.1111111111111111, \"#46039f\"], [0.2222222222222222, \"#7201a8\"], [0.3333333333333333, \"#9c179e\"], [0.4444444444444444, \"#bd3786\"], [0.5555555555555556, \"#d8576b\"], [0.6666666666666666, \"#ed7953\"], [0.7777777777777778, \"#fb9f3a\"], [0.8888888888888888, \"#fdca26\"], [1.0, \"#f0f921\"]], \"type\": \"histogram2dcontour\"}], \"mesh3d\": [{\"colorbar\": {\"outlinewidth\": 0, \"ticks\": \"\"}, \"type\": \"mesh3d\"}], \"parcoords\": [{\"line\": {\"colorbar\": {\"outlinewidth\": 0, \"ticks\": \"\"}}, \"type\": \"parcoords\"}], \"pie\": [{\"automargin\": true, \"type\": \"pie\"}], \"scatter\": [{\"marker\": {\"colorbar\": {\"outlinewidth\": 0, \"ticks\": \"\"}}, \"type\": \"scatter\"}], \"scatter3d\": [{\"line\": {\"colorbar\": {\"outlinewidth\": 0, \"ticks\": \"\"}}, \"marker\": {\"colorbar\": {\"outlinewidth\": 0, \"ticks\": \"\"}}, \"type\": \"scatter3d\"}], \"scattercarpet\": [{\"marker\": {\"colorbar\": {\"outlinewidth\": 0, \"ticks\": \"\"}}, \"type\": \"scattercarpet\"}], \"scattergeo\": [{\"marker\": {\"colorbar\": {\"outlinewidth\": 0, \"ticks\": \"\"}}, \"type\": \"scattergeo\"}], \"scattergl\": [{\"marker\": {\"colorbar\": {\"outlinewidth\": 0, \"ticks\": \"\"}}, \"type\": \"scattergl\"}], \"scattermapbox\": [{\"marker\": {\"colorbar\": {\"outlinewidth\": 0, \"ticks\": \"\"}}, \"type\": \"scattermapbox\"}], \"scatterpolar\": [{\"marker\": {\"colorbar\": {\"outlinewidth\": 0, \"ticks\": \"\"}}, \"type\": \"scatterpolar\"}], \"scatterpolargl\": [{\"marker\": {\"colorbar\": {\"outlinewidth\": 0, \"ticks\": \"\"}}, \"type\": \"scatterpolargl\"}], \"scatterternary\": [{\"marker\": {\"colorbar\": {\"outlinewidth\": 0, \"ticks\": \"\"}}, \"type\": \"scatterternary\"}], \"surface\": [{\"colorbar\": {\"outlinewidth\": 0, \"ticks\": \"\"}, \"colorscale\": [[0.0, \"#0d0887\"], [0.1111111111111111, \"#46039f\"], [0.2222222222222222, \"#7201a8\"], [0.3333333333333333, \"#9c179e\"], [0.4444444444444444, \"#bd3786\"], [0.5555555555555556, \"#d8576b\"], [0.6666666666666666, \"#ed7953\"], [0.7777777777777778, \"#fb9f3a\"], [0.8888888888888888, \"#fdca26\"], [1.0, \"#f0f921\"]], \"type\": \"surface\"}], \"table\": [{\"cells\": {\"fill\": {\"color\": \"#EBF0F8\"}, \"line\": {\"color\": \"white\"}}, \"header\": {\"fill\": {\"color\": \"#C8D4E3\"}, \"line\": {\"color\": \"white\"}}, \"type\": \"table\"}]}, \"layout\": {\"annotationdefaults\": {\"arrowcolor\": \"#2a3f5f\", \"arrowhead\": 0, \"arrowwidth\": 1}, \"coloraxis\": {\"colorbar\": {\"outlinewidth\": 0, \"ticks\": \"\"}}, \"colorscale\": {\"diverging\": [[0, \"#8e0152\"], [0.1, \"#c51b7d\"], [0.2, \"#de77ae\"], [0.3, \"#f1b6da\"], [0.4, \"#fde0ef\"], [0.5, \"#f7f7f7\"], [0.6, \"#e6f5d0\"], [0.7, \"#b8e186\"], [0.8, \"#7fbc41\"], [0.9, \"#4d9221\"], [1, \"#276419\"]], \"sequential\": [[0.0, \"#0d0887\"], [0.1111111111111111, \"#46039f\"], [0.2222222222222222, \"#7201a8\"], [0.3333333333333333, \"#9c179e\"], [0.4444444444444444, \"#bd3786\"], [0.5555555555555556, \"#d8576b\"], [0.6666666666666666, \"#ed7953\"], [0.7777777777777778, \"#fb9f3a\"], [0.8888888888888888, \"#fdca26\"], [1.0, \"#f0f921\"]], \"sequentialminus\": [[0.0, \"#0d0887\"], [0.1111111111111111, \"#46039f\"], [0.2222222222222222, \"#7201a8\"], [0.3333333333333333, \"#9c179e\"], [0.4444444444444444, \"#bd3786\"], [0.5555555555555556, \"#d8576b\"], [0.6666666666666666, \"#ed7953\"], [0.7777777777777778, \"#fb9f3a\"], [0.8888888888888888, \"#fdca26\"], [1.0, \"#f0f921\"]]}, \"colorway\": [\"#636efa\", \"#EF553B\", \"#00cc96\", \"#ab63fa\", \"#FFA15A\", \"#19d3f3\", \"#FF6692\", \"#B6E880\", \"#FF97FF\", \"#FECB52\"], \"font\": {\"color\": \"#2a3f5f\"}, \"geo\": {\"bgcolor\": \"white\", \"lakecolor\": \"white\", \"landcolor\": \"#E5ECF6\", \"showlakes\": true, \"showland\": true, \"subunitcolor\": \"white\"}, \"hoverlabel\": {\"align\": \"left\"}, \"hovermode\": \"closest\", \"mapbox\": {\"style\": \"light\"}, \"paper_bgcolor\": \"white\", \"plot_bgcolor\": \"#E5ECF6\", \"polar\": {\"angularaxis\": {\"gridcolor\": \"white\", \"linecolor\": \"white\", \"ticks\": \"\"}, \"bgcolor\": \"#E5ECF6\", \"radialaxis\": {\"gridcolor\": \"white\", \"linecolor\": \"white\", \"ticks\": \"\"}}, \"scene\": {\"xaxis\": {\"backgroundcolor\": \"#E5ECF6\", \"gridcolor\": \"white\", \"gridwidth\": 2, \"linecolor\": \"white\", \"showbackground\": true, \"ticks\": \"\", \"zerolinecolor\": \"white\"}, \"yaxis\": {\"backgroundcolor\": \"#E5ECF6\", \"gridcolor\": \"white\", \"gridwidth\": 2, \"linecolor\": \"white\", \"showbackground\": true, \"ticks\": \"\", \"zerolinecolor\": \"white\"}, \"zaxis\": {\"backgroundcolor\": \"#E5ECF6\", \"gridcolor\": \"white\", \"gridwidth\": 2, \"linecolor\": \"white\", \"showbackground\": true, \"ticks\": \"\", \"zerolinecolor\": \"white\"}}, \"shapedefaults\": {\"line\": {\"color\": \"#2a3f5f\"}}, \"ternary\": {\"aaxis\": {\"gridcolor\": \"white\", \"linecolor\": \"white\", \"ticks\": \"\"}, \"baxis\": {\"gridcolor\": \"white\", \"linecolor\": \"white\", \"ticks\": \"\"}, \"bgcolor\": \"#E5ECF6\", \"caxis\": {\"gridcolor\": \"white\", \"linecolor\": \"white\", \"ticks\": \"\"}}, \"title\": {\"x\": 0.05}, \"xaxis\": {\"automargin\": true, \"gridcolor\": \"white\", \"linecolor\": \"white\", \"ticks\": \"\", \"title\": {\"standoff\": 15}, \"zerolinecolor\": \"white\", \"zerolinewidth\": 2}, \"yaxis\": {\"automargin\": true, \"gridcolor\": \"white\", \"linecolor\": \"white\", \"ticks\": \"\", \"title\": {\"standoff\": 15}, \"zerolinecolor\": \"white\", \"zerolinewidth\": 2}}}, \"title\": {\"text\": \"Quantity Sold vs Revenue by Date\"}, \"xaxis\": {\"title\": {\"text\": \"Date\"}}},\n",
              "                        {\"responsive\": true}\n",
              "                    ).then(function(){\n",
              "                            \n",
              "var gd = document.getElementById('adb36c9c-7a49-4b67-9380-9fd5bc33746e');\n",
              "var x = new MutationObserver(function (mutations, observer) {{\n",
              "        var display = window.getComputedStyle(gd).display;\n",
              "        if (!display || display === 'none') {{\n",
              "            console.log([gd, 'removed!']);\n",
              "            Plotly.purge(gd);\n",
              "            observer.disconnect();\n",
              "        }}\n",
              "}});\n",
              "\n",
              "// Listen for the removal of the full notebook cells\n",
              "var notebookContainer = gd.closest('#notebook-container');\n",
              "if (notebookContainer) {{\n",
              "    x.observe(notebookContainer, {childList: true});\n",
              "}}\n",
              "\n",
              "// Listen for the clearing of the current output cell\n",
              "var outputEl = gd.closest('.output');\n",
              "if (outputEl) {{\n",
              "    x.observe(outputEl, {childList: true});\n",
              "}}\n",
              "\n",
              "                        })\n",
              "                };\n",
              "                \n",
              "            </script>\n",
              "        </div>\n",
              "</body>\n",
              "</html>"
            ]
          },
          "metadata": {
            "tags": []
          }
        }
      ]
    },
    {
      "cell_type": "markdown",
      "metadata": {
        "id": "IzTbdsv6FMwT"
      },
      "source": [
        "* The relationship between number of quantity sold and price can be seen from how the total revenue fluctuates.\n",
        "* Intuitively, whenever there is an increase in quantity sold, there will be more revenue generated.\n",
        "* However, there are exceptions on some periods."
      ]
    },
    {
      "cell_type": "markdown",
      "metadata": {
        "id": "7Xy5Xc_L-KfT"
      },
      "source": [
        "* 7 to 8 Nov: Revenue Dropped, Qty sold increased\n",
        "* 13 to 14 Nov: Revenue Dropped, Qty sold increased\n",
        "* 18 to 19 Nov: Revenue increased, qty sold dropped\n",
        "* 15 to 16 Dec: Revenue Dropped, qty sold increased\n",
        "* 26 to 27 Dec: Revenue Dropped, qty sold increased\n",
        "* 19 to 20 Jan: Revenue Dropped, qty sold increased a little bit"
      ]
    },
    {
      "cell_type": "code",
      "metadata": {
        "scrolled": false,
        "colab": {
          "base_uri": "https://localhost:8080/",
          "height": 542
        },
        "id": "Z85lDAnz-KfU",
        "outputId": "bab4f253-72cf-4c8e-92fb-57c727ca23c1"
      },
      "source": [
        "store_19Nov = stock_df_nonull[stock_df_nonull['date'] == '2019-11-19']\n",
        "\n",
        "store_19Nov_qty = pd.DataFrame(store_19Nov.groupby(['product_sku'])['quantity'].sum()).reset_index()\n",
        "store_19Nov_rev = pd.DataFrame(store_19Nov.groupby(['product_sku'])['revenue'].sum()).reset_index()\n",
        "\n",
        "fig = make_subplots(rows=2, cols=1)\n",
        "\n",
        "fig.add_trace(go.Bar(x = store_19Nov_qty['product_sku'], y = store_19Nov_qty['quantity'], text = store_19Nov_qty['quantity'],\n",
        "                    textposition = 'auto', name = 'Quantity'),\n",
        "              row = 1, col = 1\n",
        "             )\n",
        "\n",
        "fig.add_trace(go.Bar(x = store_19Nov_rev['product_sku'], y = store_19Nov_rev['revenue']/1000000, \n",
        "                     text = round(store_19Nov_rev['revenue'] / 1000000,2),\n",
        "                    textposition = 'auto', name = 'Revenue (in Million)'),\n",
        "              row = 2, col = 1\n",
        "             )\n",
        "\n",
        "fig.update_layout(title_text='Quantity Sold vs Revenue in 19 November 2019',\n",
        "                   legend_orientation = 'h',\n",
        "                   legend=dict(x=0, y=1.1))\n",
        "fig.update_xaxes(title_text=\"Product Code\", row=1, col=1)\n",
        "fig.update_xaxes(title_text=\"Product Code\", row=2, col=1)\n",
        "fig.update_yaxes(title_text = 'Qty Sold', row = 1, col = 1)\n",
        "fig.update_yaxes(title_text = 'Revenue', row = 2, col = 1)\n",
        "\n",
        "fig.show()"
      ],
      "execution_count": 31,
      "outputs": [
        {
          "output_type": "display_data",
          "data": {
            "text/html": [
              "<html>\n",
              "<head><meta charset=\"utf-8\" /></head>\n",
              "<body>\n",
              "    <div>\n",
              "            <script src=\"https://cdnjs.cloudflare.com/ajax/libs/mathjax/2.7.5/MathJax.js?config=TeX-AMS-MML_SVG\"></script><script type=\"text/javascript\">if (window.MathJax) {MathJax.Hub.Config({SVG: {font: \"STIX-Web\"}});}</script>\n",
              "                <script type=\"text/javascript\">window.PlotlyConfig = {MathJaxConfig: 'local'};</script>\n",
              "        <script src=\"https://cdn.plot.ly/plotly-latest.min.js\"></script>    \n",
              "            <div id=\"7b3324a2-f6f2-46a9-8b42-f7ca944af8fa\" class=\"plotly-graph-div\" style=\"height:525px; width:100%;\"></div>\n",
              "            <script type=\"text/javascript\">\n",
              "                \n",
              "                    window.PLOTLYENV=window.PLOTLYENV || {};\n",
              "                    \n",
              "                if (document.getElementById(\"7b3324a2-f6f2-46a9-8b42-f7ca944af8fa\")) {\n",
              "                    Plotly.newPlot(\n",
              "                        '7b3324a2-f6f2-46a9-8b42-f7ca944af8fa',\n",
              "                        [{\"name\": \"Quantity\", \"text\": [11.0, 21.0, 3.0, 37.0, 20.0, 13.0, 7.0, 24.0, 5.0, 14.0, 21.0, 10.0, 19.0, 13.0, 14.0, 15.0, 11.0], \"textposition\": \"auto\", \"type\": \"bar\", \"x\": [\"sku021\", \"sku022\", \"sku024\", \"sku026\", \"sku028\", \"sku033\", \"sku034\", \"sku035\", \"sku038\", \"sku040\", \"sku041\", \"sku043\", \"sku046\", \"sku047\", \"sku049\", \"sku050\", \"sku051\"], \"xaxis\": \"x\", \"y\": [11.0, 21.0, 3.0, 37.0, 20.0, 13.0, 7.0, 24.0, 5.0, 14.0, 21.0, 10.0, 19.0, 13.0, 14.0, 15.0, 11.0], \"yaxis\": \"y\"}, {\"name\": \"Revenue (in Million)\", \"text\": [8.78, 47.49, 0.44, 111.89, 37.29, 53.15, 12.5, 49.59, 22.01, 39.93, 50.06, 9.9, 91.16, 64.95, 21.31, 65.38, 31.06], \"textposition\": \"auto\", \"type\": \"bar\", \"x\": [\"sku021\", \"sku022\", \"sku024\", \"sku026\", \"sku028\", \"sku033\", \"sku034\", \"sku035\", \"sku038\", \"sku040\", \"sku041\", \"sku043\", \"sku046\", \"sku047\", \"sku049\", \"sku050\", \"sku051\"], \"xaxis\": \"x2\", \"y\": [8.776927720000002, 47.49499469, 0.437448, 111.89171768999998, 37.287899, 53.14565776, 12.50259199, 49.592204280000004, 22.011853900000002, 39.92816268, 50.06283878, 9.899683900000001, 91.16260496, 64.94813923, 21.31358614, 65.38273725, 31.05836976], \"yaxis\": \"y2\"}],\n",
              "                        {\"legend\": {\"orientation\": \"h\", \"x\": 0, \"y\": 1.1}, \"template\": {\"data\": {\"bar\": [{\"error_x\": {\"color\": \"#2a3f5f\"}, \"error_y\": {\"color\": \"#2a3f5f\"}, \"marker\": {\"line\": {\"color\": \"#E5ECF6\", \"width\": 0.5}}, \"type\": \"bar\"}], \"barpolar\": [{\"marker\": {\"line\": {\"color\": \"#E5ECF6\", \"width\": 0.5}}, \"type\": \"barpolar\"}], \"carpet\": [{\"aaxis\": {\"endlinecolor\": \"#2a3f5f\", \"gridcolor\": \"white\", \"linecolor\": \"white\", \"minorgridcolor\": \"white\", \"startlinecolor\": \"#2a3f5f\"}, \"baxis\": {\"endlinecolor\": \"#2a3f5f\", \"gridcolor\": \"white\", \"linecolor\": \"white\", \"minorgridcolor\": \"white\", \"startlinecolor\": \"#2a3f5f\"}, \"type\": \"carpet\"}], \"choropleth\": [{\"colorbar\": {\"outlinewidth\": 0, \"ticks\": \"\"}, \"type\": \"choropleth\"}], \"contour\": [{\"colorbar\": {\"outlinewidth\": 0, \"ticks\": \"\"}, \"colorscale\": [[0.0, \"#0d0887\"], [0.1111111111111111, \"#46039f\"], [0.2222222222222222, \"#7201a8\"], [0.3333333333333333, \"#9c179e\"], [0.4444444444444444, \"#bd3786\"], [0.5555555555555556, \"#d8576b\"], [0.6666666666666666, \"#ed7953\"], [0.7777777777777778, \"#fb9f3a\"], [0.8888888888888888, \"#fdca26\"], [1.0, \"#f0f921\"]], \"type\": \"contour\"}], \"contourcarpet\": [{\"colorbar\": {\"outlinewidth\": 0, \"ticks\": \"\"}, \"type\": \"contourcarpet\"}], \"heatmap\": [{\"colorbar\": {\"outlinewidth\": 0, \"ticks\": \"\"}, \"colorscale\": [[0.0, \"#0d0887\"], [0.1111111111111111, \"#46039f\"], [0.2222222222222222, \"#7201a8\"], [0.3333333333333333, \"#9c179e\"], [0.4444444444444444, \"#bd3786\"], [0.5555555555555556, \"#d8576b\"], [0.6666666666666666, \"#ed7953\"], [0.7777777777777778, \"#fb9f3a\"], [0.8888888888888888, \"#fdca26\"], [1.0, \"#f0f921\"]], \"type\": \"heatmap\"}], \"heatmapgl\": [{\"colorbar\": {\"outlinewidth\": 0, \"ticks\": \"\"}, \"colorscale\": [[0.0, \"#0d0887\"], [0.1111111111111111, \"#46039f\"], [0.2222222222222222, \"#7201a8\"], [0.3333333333333333, \"#9c179e\"], [0.4444444444444444, \"#bd3786\"], [0.5555555555555556, \"#d8576b\"], [0.6666666666666666, \"#ed7953\"], [0.7777777777777778, \"#fb9f3a\"], [0.8888888888888888, \"#fdca26\"], [1.0, \"#f0f921\"]], \"type\": \"heatmapgl\"}], \"histogram\": [{\"marker\": {\"colorbar\": {\"outlinewidth\": 0, \"ticks\": \"\"}}, \"type\": \"histogram\"}], \"histogram2d\": [{\"colorbar\": {\"outlinewidth\": 0, \"ticks\": \"\"}, \"colorscale\": [[0.0, \"#0d0887\"], [0.1111111111111111, \"#46039f\"], [0.2222222222222222, \"#7201a8\"], [0.3333333333333333, \"#9c179e\"], [0.4444444444444444, \"#bd3786\"], [0.5555555555555556, \"#d8576b\"], [0.6666666666666666, \"#ed7953\"], [0.7777777777777778, \"#fb9f3a\"], [0.8888888888888888, \"#fdca26\"], [1.0, \"#f0f921\"]], \"type\": \"histogram2d\"}], \"histogram2dcontour\": [{\"colorbar\": {\"outlinewidth\": 0, \"ticks\": \"\"}, \"colorscale\": [[0.0, \"#0d0887\"], [0.1111111111111111, \"#46039f\"], [0.2222222222222222, \"#7201a8\"], [0.3333333333333333, \"#9c179e\"], [0.4444444444444444, \"#bd3786\"], [0.5555555555555556, \"#d8576b\"], [0.6666666666666666, \"#ed7953\"], [0.7777777777777778, \"#fb9f3a\"], [0.8888888888888888, \"#fdca26\"], [1.0, \"#f0f921\"]], \"type\": \"histogram2dcontour\"}], \"mesh3d\": [{\"colorbar\": {\"outlinewidth\": 0, \"ticks\": \"\"}, \"type\": \"mesh3d\"}], \"parcoords\": [{\"line\": {\"colorbar\": {\"outlinewidth\": 0, \"ticks\": \"\"}}, \"type\": \"parcoords\"}], \"pie\": [{\"automargin\": true, \"type\": \"pie\"}], \"scatter\": [{\"marker\": {\"colorbar\": {\"outlinewidth\": 0, \"ticks\": \"\"}}, \"type\": \"scatter\"}], \"scatter3d\": [{\"line\": {\"colorbar\": {\"outlinewidth\": 0, \"ticks\": \"\"}}, \"marker\": {\"colorbar\": {\"outlinewidth\": 0, \"ticks\": \"\"}}, \"type\": \"scatter3d\"}], \"scattercarpet\": [{\"marker\": {\"colorbar\": {\"outlinewidth\": 0, \"ticks\": \"\"}}, \"type\": \"scattercarpet\"}], \"scattergeo\": [{\"marker\": {\"colorbar\": {\"outlinewidth\": 0, \"ticks\": \"\"}}, \"type\": \"scattergeo\"}], \"scattergl\": [{\"marker\": {\"colorbar\": {\"outlinewidth\": 0, \"ticks\": \"\"}}, \"type\": \"scattergl\"}], \"scattermapbox\": [{\"marker\": {\"colorbar\": {\"outlinewidth\": 0, \"ticks\": \"\"}}, \"type\": \"scattermapbox\"}], \"scatterpolar\": [{\"marker\": {\"colorbar\": {\"outlinewidth\": 0, \"ticks\": \"\"}}, \"type\": \"scatterpolar\"}], \"scatterpolargl\": [{\"marker\": {\"colorbar\": {\"outlinewidth\": 0, \"ticks\": \"\"}}, \"type\": \"scatterpolargl\"}], \"scatterternary\": [{\"marker\": {\"colorbar\": {\"outlinewidth\": 0, \"ticks\": \"\"}}, \"type\": \"scatterternary\"}], \"surface\": [{\"colorbar\": {\"outlinewidth\": 0, \"ticks\": \"\"}, \"colorscale\": [[0.0, \"#0d0887\"], [0.1111111111111111, \"#46039f\"], [0.2222222222222222, \"#7201a8\"], [0.3333333333333333, \"#9c179e\"], [0.4444444444444444, \"#bd3786\"], [0.5555555555555556, \"#d8576b\"], [0.6666666666666666, \"#ed7953\"], [0.7777777777777778, \"#fb9f3a\"], [0.8888888888888888, \"#fdca26\"], [1.0, \"#f0f921\"]], \"type\": \"surface\"}], \"table\": [{\"cells\": {\"fill\": {\"color\": \"#EBF0F8\"}, \"line\": {\"color\": \"white\"}}, \"header\": {\"fill\": {\"color\": \"#C8D4E3\"}, \"line\": {\"color\": \"white\"}}, \"type\": \"table\"}]}, \"layout\": {\"annotationdefaults\": {\"arrowcolor\": \"#2a3f5f\", \"arrowhead\": 0, \"arrowwidth\": 1}, \"coloraxis\": {\"colorbar\": {\"outlinewidth\": 0, \"ticks\": \"\"}}, \"colorscale\": {\"diverging\": [[0, \"#8e0152\"], [0.1, \"#c51b7d\"], [0.2, \"#de77ae\"], [0.3, \"#f1b6da\"], [0.4, \"#fde0ef\"], [0.5, \"#f7f7f7\"], [0.6, \"#e6f5d0\"], [0.7, \"#b8e186\"], [0.8, \"#7fbc41\"], [0.9, \"#4d9221\"], [1, \"#276419\"]], \"sequential\": [[0.0, \"#0d0887\"], [0.1111111111111111, \"#46039f\"], [0.2222222222222222, \"#7201a8\"], [0.3333333333333333, \"#9c179e\"], [0.4444444444444444, \"#bd3786\"], [0.5555555555555556, \"#d8576b\"], [0.6666666666666666, \"#ed7953\"], [0.7777777777777778, \"#fb9f3a\"], [0.8888888888888888, \"#fdca26\"], [1.0, \"#f0f921\"]], \"sequentialminus\": [[0.0, \"#0d0887\"], [0.1111111111111111, \"#46039f\"], [0.2222222222222222, \"#7201a8\"], [0.3333333333333333, \"#9c179e\"], [0.4444444444444444, \"#bd3786\"], [0.5555555555555556, \"#d8576b\"], [0.6666666666666666, \"#ed7953\"], [0.7777777777777778, \"#fb9f3a\"], [0.8888888888888888, \"#fdca26\"], [1.0, \"#f0f921\"]]}, \"colorway\": [\"#636efa\", \"#EF553B\", \"#00cc96\", \"#ab63fa\", \"#FFA15A\", \"#19d3f3\", \"#FF6692\", \"#B6E880\", \"#FF97FF\", \"#FECB52\"], \"font\": {\"color\": \"#2a3f5f\"}, \"geo\": {\"bgcolor\": \"white\", \"lakecolor\": \"white\", \"landcolor\": \"#E5ECF6\", \"showlakes\": true, \"showland\": true, \"subunitcolor\": \"white\"}, \"hoverlabel\": {\"align\": \"left\"}, \"hovermode\": \"closest\", \"mapbox\": {\"style\": \"light\"}, \"paper_bgcolor\": \"white\", \"plot_bgcolor\": \"#E5ECF6\", \"polar\": {\"angularaxis\": {\"gridcolor\": \"white\", \"linecolor\": \"white\", \"ticks\": \"\"}, \"bgcolor\": \"#E5ECF6\", \"radialaxis\": {\"gridcolor\": \"white\", \"linecolor\": \"white\", \"ticks\": \"\"}}, \"scene\": {\"xaxis\": {\"backgroundcolor\": \"#E5ECF6\", \"gridcolor\": \"white\", \"gridwidth\": 2, \"linecolor\": \"white\", \"showbackground\": true, \"ticks\": \"\", \"zerolinecolor\": \"white\"}, \"yaxis\": {\"backgroundcolor\": \"#E5ECF6\", \"gridcolor\": \"white\", \"gridwidth\": 2, \"linecolor\": \"white\", \"showbackground\": true, \"ticks\": \"\", \"zerolinecolor\": \"white\"}, \"zaxis\": {\"backgroundcolor\": \"#E5ECF6\", \"gridcolor\": \"white\", \"gridwidth\": 2, \"linecolor\": \"white\", \"showbackground\": true, \"ticks\": \"\", \"zerolinecolor\": \"white\"}}, \"shapedefaults\": {\"line\": {\"color\": \"#2a3f5f\"}}, \"ternary\": {\"aaxis\": {\"gridcolor\": \"white\", \"linecolor\": \"white\", \"ticks\": \"\"}, \"baxis\": {\"gridcolor\": \"white\", \"linecolor\": \"white\", \"ticks\": \"\"}, \"bgcolor\": \"#E5ECF6\", \"caxis\": {\"gridcolor\": \"white\", \"linecolor\": \"white\", \"ticks\": \"\"}}, \"title\": {\"x\": 0.05}, \"xaxis\": {\"automargin\": true, \"gridcolor\": \"white\", \"linecolor\": \"white\", \"ticks\": \"\", \"title\": {\"standoff\": 15}, \"zerolinecolor\": \"white\", \"zerolinewidth\": 2}, \"yaxis\": {\"automargin\": true, \"gridcolor\": \"white\", \"linecolor\": \"white\", \"ticks\": \"\", \"title\": {\"standoff\": 15}, \"zerolinecolor\": \"white\", \"zerolinewidth\": 2}}}, \"title\": {\"text\": \"Quantity Sold vs Revenue in 19 November 2019\"}, \"xaxis\": {\"anchor\": \"y\", \"domain\": [0.0, 1.0], \"title\": {\"text\": \"Product Code\"}}, \"xaxis2\": {\"anchor\": \"y2\", \"domain\": [0.0, 1.0], \"title\": {\"text\": \"Product Code\"}}, \"yaxis\": {\"anchor\": \"x\", \"domain\": [0.575, 1.0], \"title\": {\"text\": \"Qty Sold\"}}, \"yaxis2\": {\"anchor\": \"x2\", \"domain\": [0.0, 0.425], \"title\": {\"text\": \"Revenue\"}}},\n",
              "                        {\"responsive\": true}\n",
              "                    ).then(function(){\n",
              "                            \n",
              "var gd = document.getElementById('7b3324a2-f6f2-46a9-8b42-f7ca944af8fa');\n",
              "var x = new MutationObserver(function (mutations, observer) {{\n",
              "        var display = window.getComputedStyle(gd).display;\n",
              "        if (!display || display === 'none') {{\n",
              "            console.log([gd, 'removed!']);\n",
              "            Plotly.purge(gd);\n",
              "            observer.disconnect();\n",
              "        }}\n",
              "}});\n",
              "\n",
              "// Listen for the removal of the full notebook cells\n",
              "var notebookContainer = gd.closest('#notebook-container');\n",
              "if (notebookContainer) {{\n",
              "    x.observe(notebookContainer, {childList: true});\n",
              "}}\n",
              "\n",
              "// Listen for the clearing of the current output cell\n",
              "var outputEl = gd.closest('.output');\n",
              "if (outputEl) {{\n",
              "    x.observe(outputEl, {childList: true});\n",
              "}}\n",
              "\n",
              "                        })\n",
              "                };\n",
              "                \n",
              "            </script>\n",
              "        </div>\n",
              "</body>\n",
              "</html>"
            ]
          },
          "metadata": {
            "tags": []
          }
        }
      ]
    },
    {
      "cell_type": "markdown",
      "metadata": {
        "id": "yzTk6D_A-Kfi"
      },
      "source": [
        "* sku033 product was sold fewer but had higher Revenue.\n",
        "* sku049 product was sold more but had far lower Revenue\n",
        "#### Conclusion\n",
        "*  Generally, whenever there is an increase in quantity sold, so is the revenue.\n",
        "\n",
        "* One Product SKU that stands out among the others is SKU033. This product generated more revenue even though the quantity sold was fewer than the one before.\n",
        "\n",
        "* On the contrary, SKU049 generated much less revenue even when the quantity sold were more than the one before\n",
        "* The relationship between Qty Sold and Revenue has been proven is not always linear.\n",
        "* The company should focus more on selling SKU033 product, and adjust the price of the SKU049"
      ]
    },
    {
      "cell_type": "markdown",
      "metadata": {
        "id": "D9TEvh9m-Kfm"
      },
      "source": [
        "Since we saw different prices for different store and on different date, we have to average the price per time, and try to look for the pattern based on time."
      ]
    },
    {
      "cell_type": "code",
      "metadata": {
        "colab": {
          "base_uri": "https://localhost:8080/",
          "height": 1000
        },
        "id": "10gpIK3h-Kfn",
        "outputId": "4147ba55-25f9-41fb-f053-6d0d127e2c0d"
      },
      "source": [
        "sku033_sales = stock_df_nonull[stock_df_nonull['product_sku'] == 'sku033']\n",
        "\n",
        "# AVG per date\n",
        "sku033_avg_price_date = pd.DataFrame(sku033_sales.groupby(['date'])['price'].mean()).reset_index()\n",
        "\n",
        "fig = go.Figure()\n",
        "\n",
        "fig.add_trace(go.Scatter(x = sku033_avg_price_date['date'], y = sku033_avg_price_date['price'], mode = 'lines+markers'))\n",
        "fig.update_layout(title_text = 'Average Price By Date', xaxis_title = 'Date', yaxis_title = 'Average Price')\n",
        "\n",
        "fig.show()\n",
        "\n",
        "# AVG per day Number\n",
        "sku033_avg_price_day = pd.DataFrame(sku033_sales.groupby(['day_num'])['price'].mean()).reset_index()\n",
        "\n",
        "fig2 = go.Figure()\n",
        "\n",
        "fig2.add_trace(go.Scatter(x = sku033_avg_price_day['day_num'], y = sku033_avg_price_day['price'], mode = 'lines+markers'))\n",
        "fig2.update_layout(title_text = 'Average Price By Day Num', xaxis_title = 'Day Num', yaxis_title = 'Average Price')\n",
        "\n",
        "fig2.show()"
      ],
      "execution_count": 32,
      "outputs": [
        {
          "output_type": "display_data",
          "data": {
            "text/html": [
              "<html>\n",
              "<head><meta charset=\"utf-8\" /></head>\n",
              "<body>\n",
              "    <div>\n",
              "            <script src=\"https://cdnjs.cloudflare.com/ajax/libs/mathjax/2.7.5/MathJax.js?config=TeX-AMS-MML_SVG\"></script><script type=\"text/javascript\">if (window.MathJax) {MathJax.Hub.Config({SVG: {font: \"STIX-Web\"}});}</script>\n",
              "                <script type=\"text/javascript\">window.PlotlyConfig = {MathJaxConfig: 'local'};</script>\n",
              "        <script src=\"https://cdn.plot.ly/plotly-latest.min.js\"></script>    \n",
              "            <div id=\"919971ca-69ad-48dc-b4e5-32facabc602a\" class=\"plotly-graph-div\" style=\"height:525px; width:100%;\"></div>\n",
              "            <script type=\"text/javascript\">\n",
              "                \n",
              "                    window.PLOTLYENV=window.PLOTLYENV || {};\n",
              "                    \n",
              "                if (document.getElementById(\"919971ca-69ad-48dc-b4e5-32facabc602a\")) {\n",
              "                    Plotly.newPlot(\n",
              "                        '919971ca-69ad-48dc-b4e5-32facabc602a',\n",
              "                        [{\"mode\": \"lines+markers\", \"type\": \"scatter\", \"x\": [\"2019-11-02T00:00:00\", \"2019-11-04T00:00:00\", \"2019-11-05T00:00:00\", \"2019-11-06T00:00:00\", \"2019-11-07T00:00:00\", \"2019-11-09T00:00:00\", \"2019-11-10T00:00:00\", \"2019-11-15T00:00:00\", \"2019-11-19T00:00:00\", \"2019-11-20T00:00:00\", \"2019-11-21T00:00:00\", \"2019-11-23T00:00:00\", \"2019-11-25T00:00:00\", \"2019-11-27T00:00:00\", \"2019-12-03T00:00:00\", \"2019-12-04T00:00:00\", \"2019-12-09T00:00:00\", \"2019-12-10T00:00:00\", \"2019-12-12T00:00:00\", \"2019-12-16T00:00:00\", \"2019-12-17T00:00:00\", \"2019-12-18T00:00:00\", \"2019-12-20T00:00:00\", \"2019-12-22T00:00:00\", \"2019-12-23T00:00:00\", \"2019-12-25T00:00:00\", \"2019-12-26T00:00:00\", \"2019-12-27T00:00:00\", \"2019-12-28T00:00:00\", \"2020-01-01T00:00:00\", \"2020-01-05T00:00:00\", \"2020-01-06T00:00:00\", \"2020-01-07T00:00:00\", \"2020-01-11T00:00:00\", \"2020-01-19T00:00:00\", \"2020-01-20T00:00:00\", \"2020-01-22T00:00:00\", \"2020-01-23T00:00:00\", \"2020-01-25T00:00:00\", \"2020-01-28T00:00:00\", \"2020-01-29T00:00:00\"], \"y\": [3408636.335, 291490.53500000003, 4850547.77, 2998078.545, 2059585.52, 4446031.33, 2704910.813333333, 2261431.92, 4088127.52, 3956304.8499999996, 3498722.24, 573018.23, 4703453.55, 1371646.2, 4775344.0, 4392647.44, 4637516.11, 4549888.12, 218945.16, 3354399.07, 3377653.815, 657515.97, 3551202.2199999997, 2006538.93, 1447261.56, 2327124.57, 3253941.325, 2410664.34, 4219562.03, 140966.7, 2181984.75, 1430711.41, 4196956.32, 2643166.1799999997, 2632244.92, 1160030.5550000002, 2742582.7, 1673790.7349999999, 2926216.21, 500499.11, 183803.25]}],\n",
              "                        {\"template\": {\"data\": {\"bar\": [{\"error_x\": {\"color\": \"#2a3f5f\"}, \"error_y\": {\"color\": \"#2a3f5f\"}, \"marker\": {\"line\": {\"color\": \"#E5ECF6\", \"width\": 0.5}}, \"type\": \"bar\"}], \"barpolar\": [{\"marker\": {\"line\": {\"color\": \"#E5ECF6\", \"width\": 0.5}}, \"type\": \"barpolar\"}], \"carpet\": [{\"aaxis\": {\"endlinecolor\": \"#2a3f5f\", \"gridcolor\": \"white\", \"linecolor\": \"white\", \"minorgridcolor\": \"white\", \"startlinecolor\": \"#2a3f5f\"}, \"baxis\": {\"endlinecolor\": \"#2a3f5f\", \"gridcolor\": \"white\", \"linecolor\": \"white\", \"minorgridcolor\": \"white\", \"startlinecolor\": \"#2a3f5f\"}, \"type\": \"carpet\"}], \"choropleth\": [{\"colorbar\": {\"outlinewidth\": 0, \"ticks\": \"\"}, \"type\": \"choropleth\"}], \"contour\": [{\"colorbar\": {\"outlinewidth\": 0, \"ticks\": \"\"}, \"colorscale\": [[0.0, \"#0d0887\"], [0.1111111111111111, \"#46039f\"], [0.2222222222222222, \"#7201a8\"], [0.3333333333333333, \"#9c179e\"], [0.4444444444444444, \"#bd3786\"], [0.5555555555555556, \"#d8576b\"], [0.6666666666666666, \"#ed7953\"], [0.7777777777777778, \"#fb9f3a\"], [0.8888888888888888, \"#fdca26\"], [1.0, \"#f0f921\"]], \"type\": \"contour\"}], \"contourcarpet\": [{\"colorbar\": {\"outlinewidth\": 0, \"ticks\": \"\"}, \"type\": \"contourcarpet\"}], \"heatmap\": [{\"colorbar\": {\"outlinewidth\": 0, \"ticks\": \"\"}, \"colorscale\": [[0.0, \"#0d0887\"], [0.1111111111111111, \"#46039f\"], [0.2222222222222222, \"#7201a8\"], [0.3333333333333333, \"#9c179e\"], [0.4444444444444444, \"#bd3786\"], [0.5555555555555556, \"#d8576b\"], [0.6666666666666666, \"#ed7953\"], [0.7777777777777778, \"#fb9f3a\"], [0.8888888888888888, \"#fdca26\"], [1.0, \"#f0f921\"]], \"type\": \"heatmap\"}], \"heatmapgl\": [{\"colorbar\": {\"outlinewidth\": 0, \"ticks\": \"\"}, \"colorscale\": [[0.0, \"#0d0887\"], [0.1111111111111111, \"#46039f\"], [0.2222222222222222, \"#7201a8\"], [0.3333333333333333, \"#9c179e\"], [0.4444444444444444, \"#bd3786\"], [0.5555555555555556, \"#d8576b\"], [0.6666666666666666, \"#ed7953\"], [0.7777777777777778, \"#fb9f3a\"], [0.8888888888888888, \"#fdca26\"], [1.0, \"#f0f921\"]], \"type\": \"heatmapgl\"}], \"histogram\": [{\"marker\": {\"colorbar\": {\"outlinewidth\": 0, \"ticks\": \"\"}}, \"type\": \"histogram\"}], \"histogram2d\": [{\"colorbar\": {\"outlinewidth\": 0, \"ticks\": \"\"}, \"colorscale\": [[0.0, \"#0d0887\"], [0.1111111111111111, \"#46039f\"], [0.2222222222222222, \"#7201a8\"], [0.3333333333333333, \"#9c179e\"], [0.4444444444444444, \"#bd3786\"], [0.5555555555555556, \"#d8576b\"], [0.6666666666666666, \"#ed7953\"], [0.7777777777777778, \"#fb9f3a\"], [0.8888888888888888, \"#fdca26\"], [1.0, \"#f0f921\"]], \"type\": \"histogram2d\"}], \"histogram2dcontour\": [{\"colorbar\": {\"outlinewidth\": 0, \"ticks\": \"\"}, \"colorscale\": [[0.0, \"#0d0887\"], [0.1111111111111111, \"#46039f\"], [0.2222222222222222, \"#7201a8\"], [0.3333333333333333, \"#9c179e\"], [0.4444444444444444, \"#bd3786\"], [0.5555555555555556, \"#d8576b\"], [0.6666666666666666, \"#ed7953\"], [0.7777777777777778, \"#fb9f3a\"], [0.8888888888888888, \"#fdca26\"], [1.0, \"#f0f921\"]], \"type\": \"histogram2dcontour\"}], \"mesh3d\": [{\"colorbar\": {\"outlinewidth\": 0, \"ticks\": \"\"}, \"type\": \"mesh3d\"}], \"parcoords\": [{\"line\": {\"colorbar\": {\"outlinewidth\": 0, \"ticks\": \"\"}}, \"type\": \"parcoords\"}], \"pie\": [{\"automargin\": true, \"type\": \"pie\"}], \"scatter\": [{\"marker\": {\"colorbar\": {\"outlinewidth\": 0, \"ticks\": \"\"}}, \"type\": \"scatter\"}], \"scatter3d\": [{\"line\": {\"colorbar\": {\"outlinewidth\": 0, \"ticks\": \"\"}}, \"marker\": {\"colorbar\": {\"outlinewidth\": 0, \"ticks\": \"\"}}, \"type\": \"scatter3d\"}], \"scattercarpet\": [{\"marker\": {\"colorbar\": {\"outlinewidth\": 0, \"ticks\": \"\"}}, \"type\": \"scattercarpet\"}], \"scattergeo\": [{\"marker\": {\"colorbar\": {\"outlinewidth\": 0, \"ticks\": \"\"}}, \"type\": \"scattergeo\"}], \"scattergl\": [{\"marker\": {\"colorbar\": {\"outlinewidth\": 0, \"ticks\": \"\"}}, \"type\": \"scattergl\"}], \"scattermapbox\": [{\"marker\": {\"colorbar\": {\"outlinewidth\": 0, \"ticks\": \"\"}}, \"type\": \"scattermapbox\"}], \"scatterpolar\": [{\"marker\": {\"colorbar\": {\"outlinewidth\": 0, \"ticks\": \"\"}}, \"type\": \"scatterpolar\"}], \"scatterpolargl\": [{\"marker\": {\"colorbar\": {\"outlinewidth\": 0, \"ticks\": \"\"}}, \"type\": \"scatterpolargl\"}], \"scatterternary\": [{\"marker\": {\"colorbar\": {\"outlinewidth\": 0, \"ticks\": \"\"}}, \"type\": \"scatterternary\"}], \"surface\": [{\"colorbar\": {\"outlinewidth\": 0, \"ticks\": \"\"}, \"colorscale\": [[0.0, \"#0d0887\"], [0.1111111111111111, \"#46039f\"], [0.2222222222222222, \"#7201a8\"], [0.3333333333333333, \"#9c179e\"], [0.4444444444444444, \"#bd3786\"], [0.5555555555555556, \"#d8576b\"], [0.6666666666666666, \"#ed7953\"], [0.7777777777777778, \"#fb9f3a\"], [0.8888888888888888, \"#fdca26\"], [1.0, \"#f0f921\"]], \"type\": \"surface\"}], \"table\": [{\"cells\": {\"fill\": {\"color\": \"#EBF0F8\"}, \"line\": {\"color\": \"white\"}}, \"header\": {\"fill\": {\"color\": \"#C8D4E3\"}, \"line\": {\"color\": \"white\"}}, \"type\": \"table\"}]}, \"layout\": {\"annotationdefaults\": {\"arrowcolor\": \"#2a3f5f\", \"arrowhead\": 0, \"arrowwidth\": 1}, \"coloraxis\": {\"colorbar\": {\"outlinewidth\": 0, \"ticks\": \"\"}}, \"colorscale\": {\"diverging\": [[0, \"#8e0152\"], [0.1, \"#c51b7d\"], [0.2, \"#de77ae\"], [0.3, \"#f1b6da\"], [0.4, \"#fde0ef\"], [0.5, \"#f7f7f7\"], [0.6, \"#e6f5d0\"], [0.7, \"#b8e186\"], [0.8, \"#7fbc41\"], [0.9, \"#4d9221\"], [1, \"#276419\"]], \"sequential\": [[0.0, \"#0d0887\"], [0.1111111111111111, \"#46039f\"], [0.2222222222222222, \"#7201a8\"], [0.3333333333333333, \"#9c179e\"], [0.4444444444444444, \"#bd3786\"], [0.5555555555555556, \"#d8576b\"], [0.6666666666666666, \"#ed7953\"], [0.7777777777777778, \"#fb9f3a\"], [0.8888888888888888, \"#fdca26\"], [1.0, \"#f0f921\"]], \"sequentialminus\": [[0.0, \"#0d0887\"], [0.1111111111111111, \"#46039f\"], [0.2222222222222222, \"#7201a8\"], [0.3333333333333333, \"#9c179e\"], [0.4444444444444444, \"#bd3786\"], [0.5555555555555556, \"#d8576b\"], [0.6666666666666666, \"#ed7953\"], [0.7777777777777778, \"#fb9f3a\"], [0.8888888888888888, \"#fdca26\"], [1.0, \"#f0f921\"]]}, \"colorway\": [\"#636efa\", \"#EF553B\", \"#00cc96\", \"#ab63fa\", \"#FFA15A\", \"#19d3f3\", \"#FF6692\", \"#B6E880\", \"#FF97FF\", \"#FECB52\"], \"font\": {\"color\": \"#2a3f5f\"}, \"geo\": {\"bgcolor\": \"white\", \"lakecolor\": \"white\", \"landcolor\": \"#E5ECF6\", \"showlakes\": true, \"showland\": true, \"subunitcolor\": \"white\"}, \"hoverlabel\": {\"align\": \"left\"}, \"hovermode\": \"closest\", \"mapbox\": {\"style\": \"light\"}, \"paper_bgcolor\": \"white\", \"plot_bgcolor\": \"#E5ECF6\", \"polar\": {\"angularaxis\": {\"gridcolor\": \"white\", \"linecolor\": \"white\", \"ticks\": \"\"}, \"bgcolor\": \"#E5ECF6\", \"radialaxis\": {\"gridcolor\": \"white\", \"linecolor\": \"white\", \"ticks\": \"\"}}, \"scene\": {\"xaxis\": {\"backgroundcolor\": \"#E5ECF6\", \"gridcolor\": \"white\", \"gridwidth\": 2, \"linecolor\": \"white\", \"showbackground\": true, \"ticks\": \"\", \"zerolinecolor\": \"white\"}, \"yaxis\": {\"backgroundcolor\": \"#E5ECF6\", \"gridcolor\": \"white\", \"gridwidth\": 2, \"linecolor\": \"white\", \"showbackground\": true, \"ticks\": \"\", \"zerolinecolor\": \"white\"}, \"zaxis\": {\"backgroundcolor\": \"#E5ECF6\", \"gridcolor\": \"white\", \"gridwidth\": 2, \"linecolor\": \"white\", \"showbackground\": true, \"ticks\": \"\", \"zerolinecolor\": \"white\"}}, \"shapedefaults\": {\"line\": {\"color\": \"#2a3f5f\"}}, \"ternary\": {\"aaxis\": {\"gridcolor\": \"white\", \"linecolor\": \"white\", \"ticks\": \"\"}, \"baxis\": {\"gridcolor\": \"white\", \"linecolor\": \"white\", \"ticks\": \"\"}, \"bgcolor\": \"#E5ECF6\", \"caxis\": {\"gridcolor\": \"white\", \"linecolor\": \"white\", \"ticks\": \"\"}}, \"title\": {\"x\": 0.05}, \"xaxis\": {\"automargin\": true, \"gridcolor\": \"white\", \"linecolor\": \"white\", \"ticks\": \"\", \"title\": {\"standoff\": 15}, \"zerolinecolor\": \"white\", \"zerolinewidth\": 2}, \"yaxis\": {\"automargin\": true, \"gridcolor\": \"white\", \"linecolor\": \"white\", \"ticks\": \"\", \"title\": {\"standoff\": 15}, \"zerolinecolor\": \"white\", \"zerolinewidth\": 2}}}, \"title\": {\"text\": \"Average Price By Date\"}, \"xaxis\": {\"title\": {\"text\": \"Date\"}}, \"yaxis\": {\"title\": {\"text\": \"Average Price\"}}},\n",
              "                        {\"responsive\": true}\n",
              "                    ).then(function(){\n",
              "                            \n",
              "var gd = document.getElementById('919971ca-69ad-48dc-b4e5-32facabc602a');\n",
              "var x = new MutationObserver(function (mutations, observer) {{\n",
              "        var display = window.getComputedStyle(gd).display;\n",
              "        if (!display || display === 'none') {{\n",
              "            console.log([gd, 'removed!']);\n",
              "            Plotly.purge(gd);\n",
              "            observer.disconnect();\n",
              "        }}\n",
              "}});\n",
              "\n",
              "// Listen for the removal of the full notebook cells\n",
              "var notebookContainer = gd.closest('#notebook-container');\n",
              "if (notebookContainer) {{\n",
              "    x.observe(notebookContainer, {childList: true});\n",
              "}}\n",
              "\n",
              "// Listen for the clearing of the current output cell\n",
              "var outputEl = gd.closest('.output');\n",
              "if (outputEl) {{\n",
              "    x.observe(outputEl, {childList: true});\n",
              "}}\n",
              "\n",
              "                        })\n",
              "                };\n",
              "                \n",
              "            </script>\n",
              "        </div>\n",
              "</body>\n",
              "</html>"
            ]
          },
          "metadata": {
            "tags": []
          }
        },
        {
          "output_type": "display_data",
          "data": {
            "text/html": [
              "<html>\n",
              "<head><meta charset=\"utf-8\" /></head>\n",
              "<body>\n",
              "    <div>\n",
              "            <script src=\"https://cdnjs.cloudflare.com/ajax/libs/mathjax/2.7.5/MathJax.js?config=TeX-AMS-MML_SVG\"></script><script type=\"text/javascript\">if (window.MathJax) {MathJax.Hub.Config({SVG: {font: \"STIX-Web\"}});}</script>\n",
              "                <script type=\"text/javascript\">window.PlotlyConfig = {MathJaxConfig: 'local'};</script>\n",
              "        <script src=\"https://cdn.plot.ly/plotly-latest.min.js\"></script>    \n",
              "            <div id=\"b8589549-3fd1-487c-afaf-99d9adbd5137\" class=\"plotly-graph-div\" style=\"height:525px; width:100%;\"></div>\n",
              "            <script type=\"text/javascript\">\n",
              "                \n",
              "                    window.PLOTLYENV=window.PLOTLYENV || {};\n",
              "                    \n",
              "                if (document.getElementById(\"b8589549-3fd1-487c-afaf-99d9adbd5137\")) {\n",
              "                    Plotly.newPlot(\n",
              "                        'b8589549-3fd1-487c-afaf-99d9adbd5137',\n",
              "                        [{\"mode\": \"lines+markers\", \"type\": \"scatter\", \"x\": [1, 2, 3, 4, 5, 6, 7, 9, 10, 11, 12, 15, 16, 17, 18, 19, 20, 21, 22, 23, 25, 26, 27, 28, 29], \"y\": [140966.7, 3408636.335, 4775344.0, 1658542.836666667, 3516266.26, 2475622.8333333335, 3128270.92, 4541773.720000001, 3166155.1399999997, 2643166.1799999997, 218945.16, 2261431.92, 3354399.07, 3377653.815, 657515.97, 3117539.1199999996, 2889179.2083333335, 3498722.24, 2374560.815, 1341965.315, 3220752.635, 3253941.325, 1891155.2699999998, 1740186.75, 183803.25]}],\n",
              "                        {\"template\": {\"data\": {\"bar\": [{\"error_x\": {\"color\": \"#2a3f5f\"}, \"error_y\": {\"color\": \"#2a3f5f\"}, \"marker\": {\"line\": {\"color\": \"#E5ECF6\", \"width\": 0.5}}, \"type\": \"bar\"}], \"barpolar\": [{\"marker\": {\"line\": {\"color\": \"#E5ECF6\", \"width\": 0.5}}, \"type\": \"barpolar\"}], \"carpet\": [{\"aaxis\": {\"endlinecolor\": \"#2a3f5f\", \"gridcolor\": \"white\", \"linecolor\": \"white\", \"minorgridcolor\": \"white\", \"startlinecolor\": \"#2a3f5f\"}, \"baxis\": {\"endlinecolor\": \"#2a3f5f\", \"gridcolor\": \"white\", \"linecolor\": \"white\", \"minorgridcolor\": \"white\", \"startlinecolor\": \"#2a3f5f\"}, \"type\": \"carpet\"}], \"choropleth\": [{\"colorbar\": {\"outlinewidth\": 0, \"ticks\": \"\"}, \"type\": \"choropleth\"}], \"contour\": [{\"colorbar\": {\"outlinewidth\": 0, \"ticks\": \"\"}, \"colorscale\": [[0.0, \"#0d0887\"], [0.1111111111111111, \"#46039f\"], [0.2222222222222222, \"#7201a8\"], [0.3333333333333333, \"#9c179e\"], [0.4444444444444444, \"#bd3786\"], [0.5555555555555556, \"#d8576b\"], [0.6666666666666666, \"#ed7953\"], [0.7777777777777778, \"#fb9f3a\"], [0.8888888888888888, \"#fdca26\"], [1.0, \"#f0f921\"]], \"type\": \"contour\"}], \"contourcarpet\": [{\"colorbar\": {\"outlinewidth\": 0, \"ticks\": \"\"}, \"type\": \"contourcarpet\"}], \"heatmap\": [{\"colorbar\": {\"outlinewidth\": 0, \"ticks\": \"\"}, \"colorscale\": [[0.0, \"#0d0887\"], [0.1111111111111111, \"#46039f\"], [0.2222222222222222, \"#7201a8\"], [0.3333333333333333, \"#9c179e\"], [0.4444444444444444, \"#bd3786\"], [0.5555555555555556, \"#d8576b\"], [0.6666666666666666, \"#ed7953\"], [0.7777777777777778, \"#fb9f3a\"], [0.8888888888888888, \"#fdca26\"], [1.0, \"#f0f921\"]], \"type\": \"heatmap\"}], \"heatmapgl\": [{\"colorbar\": {\"outlinewidth\": 0, \"ticks\": \"\"}, \"colorscale\": [[0.0, \"#0d0887\"], [0.1111111111111111, \"#46039f\"], [0.2222222222222222, \"#7201a8\"], [0.3333333333333333, \"#9c179e\"], [0.4444444444444444, \"#bd3786\"], [0.5555555555555556, \"#d8576b\"], [0.6666666666666666, \"#ed7953\"], [0.7777777777777778, \"#fb9f3a\"], [0.8888888888888888, \"#fdca26\"], [1.0, \"#f0f921\"]], \"type\": \"heatmapgl\"}], \"histogram\": [{\"marker\": {\"colorbar\": {\"outlinewidth\": 0, \"ticks\": \"\"}}, \"type\": \"histogram\"}], \"histogram2d\": [{\"colorbar\": {\"outlinewidth\": 0, \"ticks\": \"\"}, \"colorscale\": [[0.0, \"#0d0887\"], [0.1111111111111111, \"#46039f\"], [0.2222222222222222, \"#7201a8\"], [0.3333333333333333, \"#9c179e\"], [0.4444444444444444, \"#bd3786\"], [0.5555555555555556, \"#d8576b\"], [0.6666666666666666, \"#ed7953\"], [0.7777777777777778, \"#fb9f3a\"], [0.8888888888888888, \"#fdca26\"], [1.0, \"#f0f921\"]], \"type\": \"histogram2d\"}], \"histogram2dcontour\": [{\"colorbar\": {\"outlinewidth\": 0, \"ticks\": \"\"}, \"colorscale\": [[0.0, \"#0d0887\"], [0.1111111111111111, \"#46039f\"], [0.2222222222222222, \"#7201a8\"], [0.3333333333333333, \"#9c179e\"], [0.4444444444444444, \"#bd3786\"], [0.5555555555555556, \"#d8576b\"], [0.6666666666666666, \"#ed7953\"], [0.7777777777777778, \"#fb9f3a\"], [0.8888888888888888, \"#fdca26\"], [1.0, \"#f0f921\"]], \"type\": \"histogram2dcontour\"}], \"mesh3d\": [{\"colorbar\": {\"outlinewidth\": 0, \"ticks\": \"\"}, \"type\": \"mesh3d\"}], \"parcoords\": [{\"line\": {\"colorbar\": {\"outlinewidth\": 0, \"ticks\": \"\"}}, \"type\": \"parcoords\"}], \"pie\": [{\"automargin\": true, \"type\": \"pie\"}], \"scatter\": [{\"marker\": {\"colorbar\": {\"outlinewidth\": 0, \"ticks\": \"\"}}, \"type\": \"scatter\"}], \"scatter3d\": [{\"line\": {\"colorbar\": {\"outlinewidth\": 0, \"ticks\": \"\"}}, \"marker\": {\"colorbar\": {\"outlinewidth\": 0, \"ticks\": \"\"}}, \"type\": \"scatter3d\"}], \"scattercarpet\": [{\"marker\": {\"colorbar\": {\"outlinewidth\": 0, \"ticks\": \"\"}}, \"type\": \"scattercarpet\"}], \"scattergeo\": [{\"marker\": {\"colorbar\": {\"outlinewidth\": 0, \"ticks\": \"\"}}, \"type\": \"scattergeo\"}], \"scattergl\": [{\"marker\": {\"colorbar\": {\"outlinewidth\": 0, \"ticks\": \"\"}}, \"type\": \"scattergl\"}], \"scattermapbox\": [{\"marker\": {\"colorbar\": {\"outlinewidth\": 0, \"ticks\": \"\"}}, \"type\": \"scattermapbox\"}], \"scatterpolar\": [{\"marker\": {\"colorbar\": {\"outlinewidth\": 0, \"ticks\": \"\"}}, \"type\": \"scatterpolar\"}], \"scatterpolargl\": [{\"marker\": {\"colorbar\": {\"outlinewidth\": 0, \"ticks\": \"\"}}, \"type\": \"scatterpolargl\"}], \"scatterternary\": [{\"marker\": {\"colorbar\": {\"outlinewidth\": 0, \"ticks\": \"\"}}, \"type\": \"scatterternary\"}], \"surface\": [{\"colorbar\": {\"outlinewidth\": 0, \"ticks\": \"\"}, \"colorscale\": [[0.0, \"#0d0887\"], [0.1111111111111111, \"#46039f\"], [0.2222222222222222, \"#7201a8\"], [0.3333333333333333, \"#9c179e\"], [0.4444444444444444, \"#bd3786\"], [0.5555555555555556, \"#d8576b\"], [0.6666666666666666, \"#ed7953\"], [0.7777777777777778, \"#fb9f3a\"], [0.8888888888888888, \"#fdca26\"], [1.0, \"#f0f921\"]], \"type\": \"surface\"}], \"table\": [{\"cells\": {\"fill\": {\"color\": \"#EBF0F8\"}, \"line\": {\"color\": \"white\"}}, \"header\": {\"fill\": {\"color\": \"#C8D4E3\"}, \"line\": {\"color\": \"white\"}}, \"type\": \"table\"}]}, \"layout\": {\"annotationdefaults\": {\"arrowcolor\": \"#2a3f5f\", \"arrowhead\": 0, \"arrowwidth\": 1}, \"coloraxis\": {\"colorbar\": {\"outlinewidth\": 0, \"ticks\": \"\"}}, \"colorscale\": {\"diverging\": [[0, \"#8e0152\"], [0.1, \"#c51b7d\"], [0.2, \"#de77ae\"], [0.3, \"#f1b6da\"], [0.4, \"#fde0ef\"], [0.5, \"#f7f7f7\"], [0.6, \"#e6f5d0\"], [0.7, \"#b8e186\"], [0.8, \"#7fbc41\"], [0.9, \"#4d9221\"], [1, \"#276419\"]], \"sequential\": [[0.0, \"#0d0887\"], [0.1111111111111111, \"#46039f\"], [0.2222222222222222, \"#7201a8\"], [0.3333333333333333, \"#9c179e\"], [0.4444444444444444, \"#bd3786\"], [0.5555555555555556, \"#d8576b\"], [0.6666666666666666, \"#ed7953\"], [0.7777777777777778, \"#fb9f3a\"], [0.8888888888888888, \"#fdca26\"], [1.0, \"#f0f921\"]], \"sequentialminus\": [[0.0, \"#0d0887\"], [0.1111111111111111, \"#46039f\"], [0.2222222222222222, \"#7201a8\"], [0.3333333333333333, \"#9c179e\"], [0.4444444444444444, \"#bd3786\"], [0.5555555555555556, \"#d8576b\"], [0.6666666666666666, \"#ed7953\"], [0.7777777777777778, \"#fb9f3a\"], [0.8888888888888888, \"#fdca26\"], [1.0, \"#f0f921\"]]}, \"colorway\": [\"#636efa\", \"#EF553B\", \"#00cc96\", \"#ab63fa\", \"#FFA15A\", \"#19d3f3\", \"#FF6692\", \"#B6E880\", \"#FF97FF\", \"#FECB52\"], \"font\": {\"color\": \"#2a3f5f\"}, \"geo\": {\"bgcolor\": \"white\", \"lakecolor\": \"white\", \"landcolor\": \"#E5ECF6\", \"showlakes\": true, \"showland\": true, \"subunitcolor\": \"white\"}, \"hoverlabel\": {\"align\": \"left\"}, \"hovermode\": \"closest\", \"mapbox\": {\"style\": \"light\"}, \"paper_bgcolor\": \"white\", \"plot_bgcolor\": \"#E5ECF6\", \"polar\": {\"angularaxis\": {\"gridcolor\": \"white\", \"linecolor\": \"white\", \"ticks\": \"\"}, \"bgcolor\": \"#E5ECF6\", \"radialaxis\": {\"gridcolor\": \"white\", \"linecolor\": \"white\", \"ticks\": \"\"}}, \"scene\": {\"xaxis\": {\"backgroundcolor\": \"#E5ECF6\", \"gridcolor\": \"white\", \"gridwidth\": 2, \"linecolor\": \"white\", \"showbackground\": true, \"ticks\": \"\", \"zerolinecolor\": \"white\"}, \"yaxis\": {\"backgroundcolor\": \"#E5ECF6\", \"gridcolor\": \"white\", \"gridwidth\": 2, \"linecolor\": \"white\", \"showbackground\": true, \"ticks\": \"\", \"zerolinecolor\": \"white\"}, \"zaxis\": {\"backgroundcolor\": \"#E5ECF6\", \"gridcolor\": \"white\", \"gridwidth\": 2, \"linecolor\": \"white\", \"showbackground\": true, \"ticks\": \"\", \"zerolinecolor\": \"white\"}}, \"shapedefaults\": {\"line\": {\"color\": \"#2a3f5f\"}}, \"ternary\": {\"aaxis\": {\"gridcolor\": \"white\", \"linecolor\": \"white\", \"ticks\": \"\"}, \"baxis\": {\"gridcolor\": \"white\", \"linecolor\": \"white\", \"ticks\": \"\"}, \"bgcolor\": \"#E5ECF6\", \"caxis\": {\"gridcolor\": \"white\", \"linecolor\": \"white\", \"ticks\": \"\"}}, \"title\": {\"x\": 0.05}, \"xaxis\": {\"automargin\": true, \"gridcolor\": \"white\", \"linecolor\": \"white\", \"ticks\": \"\", \"title\": {\"standoff\": 15}, \"zerolinecolor\": \"white\", \"zerolinewidth\": 2}, \"yaxis\": {\"automargin\": true, \"gridcolor\": \"white\", \"linecolor\": \"white\", \"ticks\": \"\", \"title\": {\"standoff\": 15}, \"zerolinecolor\": \"white\", \"zerolinewidth\": 2}}}, \"title\": {\"text\": \"Average Price By Day Num\"}, \"xaxis\": {\"title\": {\"text\": \"Day Num\"}}, \"yaxis\": {\"title\": {\"text\": \"Average Price\"}}},\n",
              "                        {\"responsive\": true}\n",
              "                    ).then(function(){\n",
              "                            \n",
              "var gd = document.getElementById('b8589549-3fd1-487c-afaf-99d9adbd5137');\n",
              "var x = new MutationObserver(function (mutations, observer) {{\n",
              "        var display = window.getComputedStyle(gd).display;\n",
              "        if (!display || display === 'none') {{\n",
              "            console.log([gd, 'removed!']);\n",
              "            Plotly.purge(gd);\n",
              "            observer.disconnect();\n",
              "        }}\n",
              "}});\n",
              "\n",
              "// Listen for the removal of the full notebook cells\n",
              "var notebookContainer = gd.closest('#notebook-container');\n",
              "if (notebookContainer) {{\n",
              "    x.observe(notebookContainer, {childList: true});\n",
              "}}\n",
              "\n",
              "// Listen for the clearing of the current output cell\n",
              "var outputEl = gd.closest('.output');\n",
              "if (outputEl) {{\n",
              "    x.observe(outputEl, {childList: true});\n",
              "}}\n",
              "\n",
              "                        })\n",
              "                };\n",
              "                \n",
              "            </script>\n",
              "        </div>\n",
              "</body>\n",
              "</html>"
            ]
          },
          "metadata": {
            "tags": []
          }
        }
      ]
    },
    {
      "cell_type": "markdown",
      "metadata": {
        "id": "OuS97X-K-Kfv"
      },
      "source": [
        "## Modeling\n",
        "In this task we would like to predict demand of stock "
      ]
    },
    {
      "cell_type": "code",
      "metadata": {
        "colab": {
          "base_uri": "https://localhost:8080/",
          "height": 305
        },
        "id": "R1_ouNM8-Kfw",
        "outputId": "3e3f9385-ca75-49f4-bb42-d437f78e190c"
      },
      "source": [
        "model_df = stock_df_nonull.copy()\n",
        "\n",
        "\n",
        "model_df['product_sku'] = model_df['product_sku'].astype('category')\n",
        "model_df['store'] = model_df['store'].astype('category')\n",
        "\n",
        "#### Encode Product SKU ####\n",
        "model_df['product_sku_en'] = model_df['product_sku'].cat.codes + 1\n",
        "\n",
        "# Key value pair of product SKU\n",
        "encode_to_sku = model_df.groupby('product_sku_en')['product_sku'].apply(lambda x: x.unique()[0]).to_dict()\n",
        "model_df.drop(['product_sku'], axis = 1, inplace = True)\n",
        "\n",
        "#### Encode Store ####\n",
        "model_df['store_en'] = model_df['store'].cat.codes + 1\n",
        "\n",
        "# Key value pair of Store\n",
        "encode_to_store = model_df.groupby('store_en')['store'].apply(lambda x: x.unique()[0]).to_dict()\n",
        "model_df.drop(['store'], axis = 1, inplace = True)\n",
        "\n",
        "####### Drop Year Week #######\n",
        "model_df.drop(['year_week'], axis = 1, inplace = True)\n",
        "\n",
        "####### Fix the Year Month to be integer\n",
        "# gallup_2012['Democrat/Lean Democratic'].apply(lambda x: x.split('%')[0])\n",
        "model_df['year_month'] = model_df.apply(lambda row: int(row['year_month'].split('-')[0] + ('0' + row['year_month'].split('-')[1])[-2:]), \n",
        "                                        axis = 1)\n",
        "\n",
        "###### Drop Day Name\n",
        "model_df.drop(['day_name'], axis = 1, inplace = True)\n",
        "\n",
        "###### GEt Day of year\n",
        "model_df['day_of_year'] = model_df['date'].dt.dayofyear\n",
        "\n",
        "###### GEt Day of week\n",
        "model_df['day_of_week'] = model_df['date'].dt.dayofweek\n",
        "\n",
        "model_df.rename(columns = {'day_num': 'day_of_month', 'wom':'week_of_month'}, inplace = True)\n",
        "\n",
        "model_df.head()"
      ],
      "execution_count": 71,
      "outputs": [
        {
          "output_type": "execute_result",
          "data": {
            "text/html": [
              "<div>\n",
              "<style scoped>\n",
              "    .dataframe tbody tr th:only-of-type {\n",
              "        vertical-align: middle;\n",
              "    }\n",
              "\n",
              "    .dataframe tbody tr th {\n",
              "        vertical-align: top;\n",
              "    }\n",
              "\n",
              "    .dataframe thead th {\n",
              "        text-align: right;\n",
              "    }\n",
              "</style>\n",
              "<table border=\"1\" class=\"dataframe\">\n",
              "  <thead>\n",
              "    <tr style=\"text-align: right;\">\n",
              "      <th></th>\n",
              "      <th>date</th>\n",
              "      <th>price</th>\n",
              "      <th>is_promo_item</th>\n",
              "      <th>member_promo</th>\n",
              "      <th>quantity</th>\n",
              "      <th>day_of_month</th>\n",
              "      <th>month_num</th>\n",
              "      <th>year_num</th>\n",
              "      <th>week_num</th>\n",
              "      <th>year_month</th>\n",
              "      <th>week_of_month</th>\n",
              "      <th>revenue</th>\n",
              "      <th>product_sku_en</th>\n",
              "      <th>store_en</th>\n",
              "      <th>day_of_year</th>\n",
              "      <th>day_of_week</th>\n",
              "    </tr>\n",
              "  </thead>\n",
              "  <tbody>\n",
              "    <tr>\n",
              "      <th>0</th>\n",
              "      <td>2019-11-29</td>\n",
              "      <td>147454.56</td>\n",
              "      <td>0.0</td>\n",
              "      <td>1.0</td>\n",
              "      <td>18.0</td>\n",
              "      <td>29</td>\n",
              "      <td>11</td>\n",
              "      <td>2019</td>\n",
              "      <td>48</td>\n",
              "      <td>201911</td>\n",
              "      <td>5</td>\n",
              "      <td>2654182.08</td>\n",
              "      <td>1</td>\n",
              "      <td>13</td>\n",
              "      <td>333</td>\n",
              "      <td>4</td>\n",
              "    </tr>\n",
              "    <tr>\n",
              "      <th>1</th>\n",
              "      <td>2020-01-15</td>\n",
              "      <td>4303058.84</td>\n",
              "      <td>1.0</td>\n",
              "      <td>0.0</td>\n",
              "      <td>3.0</td>\n",
              "      <td>15</td>\n",
              "      <td>1</td>\n",
              "      <td>2020</td>\n",
              "      <td>3</td>\n",
              "      <td>202001</td>\n",
              "      <td>3</td>\n",
              "      <td>12909176.52</td>\n",
              "      <td>2</td>\n",
              "      <td>6</td>\n",
              "      <td>15</td>\n",
              "      <td>2</td>\n",
              "    </tr>\n",
              "    <tr>\n",
              "      <th>2</th>\n",
              "      <td>2020-01-28</td>\n",
              "      <td>1742713.52</td>\n",
              "      <td>1.0</td>\n",
              "      <td>0.0</td>\n",
              "      <td>9.0</td>\n",
              "      <td>28</td>\n",
              "      <td>1</td>\n",
              "      <td>2020</td>\n",
              "      <td>5</td>\n",
              "      <td>202001</td>\n",
              "      <td>4</td>\n",
              "      <td>15684421.68</td>\n",
              "      <td>3</td>\n",
              "      <td>17</td>\n",
              "      <td>28</td>\n",
              "      <td>1</td>\n",
              "    </tr>\n",
              "    <tr>\n",
              "      <th>3</th>\n",
              "      <td>2019-12-05</td>\n",
              "      <td>4656476.03</td>\n",
              "      <td>0.0</td>\n",
              "      <td>1.0</td>\n",
              "      <td>8.0</td>\n",
              "      <td>5</td>\n",
              "      <td>12</td>\n",
              "      <td>2019</td>\n",
              "      <td>49</td>\n",
              "      <td>201912</td>\n",
              "      <td>1</td>\n",
              "      <td>37251808.24</td>\n",
              "      <td>4</td>\n",
              "      <td>7</td>\n",
              "      <td>339</td>\n",
              "      <td>3</td>\n",
              "    </tr>\n",
              "    <tr>\n",
              "      <th>4</th>\n",
              "      <td>2020-01-04</td>\n",
              "      <td>4774574.30</td>\n",
              "      <td>0.0</td>\n",
              "      <td>0.0</td>\n",
              "      <td>1.0</td>\n",
              "      <td>4</td>\n",
              "      <td>1</td>\n",
              "      <td>2020</td>\n",
              "      <td>1</td>\n",
              "      <td>202001</td>\n",
              "      <td>1</td>\n",
              "      <td>4774574.30</td>\n",
              "      <td>5</td>\n",
              "      <td>15</td>\n",
              "      <td>4</td>\n",
              "      <td>5</td>\n",
              "    </tr>\n",
              "  </tbody>\n",
              "</table>\n",
              "</div>"
            ],
            "text/plain": [
              "        date       price  is_promo_item  ...  store_en  day_of_year  day_of_week\n",
              "0 2019-11-29   147454.56            0.0  ...        13          333            4\n",
              "1 2020-01-15  4303058.84            1.0  ...         6           15            2\n",
              "2 2020-01-28  1742713.52            1.0  ...        17           28            1\n",
              "3 2019-12-05  4656476.03            0.0  ...         7          339            3\n",
              "4 2020-01-04  4774574.30            0.0  ...        15            4            5\n",
              "\n",
              "[5 rows x 16 columns]"
            ]
          },
          "metadata": {
            "tags": []
          },
          "execution_count": 71
        }
      ]
    },
    {
      "cell_type": "code",
      "metadata": {
        "id": "MFbcC3t6-Kfx"
      },
      "source": [
        "include_columns = ['price', 'is_promo_item', 'member_promo', 'day_of_month', 'month_num', 'year_num', 'week_num', 'revenue',\n",
        "                     'year_month', 'week_of_month', 'product_sku_en', 'store_en', 'day_of_year', 'day_of_week']"
      ],
      "execution_count": 72,
      "outputs": []
    },
    {
      "cell_type": "code",
      "metadata": {
        "id": "F5TL5b1G-Kfz"
      },
      "source": [
        "X_train, X_test, y_train, y_test = train_test_split(model_df[include_columns], model_df['quantity'], test_size = 0.2, random_state = 1234)"
      ],
      "execution_count": 73,
      "outputs": []
    },
    {
      "cell_type": "markdown",
      "metadata": {
        "id": "h4LKLtma-Kf0"
      },
      "source": [
        "### Linear Regression"
      ]
    },
    {
      "cell_type": "code",
      "metadata": {
        "colab": {
          "base_uri": "https://localhost:8080/",
          "height": 606
        },
        "id": "h05OqYdi-Kf1",
        "outputId": "d31016bd-3d4c-4205-b960-e8f4de4377e4"
      },
      "source": [
        "corr = model_df.corr()\n",
        "\n",
        "# Generate a mask for the upper triangle\n",
        "mask = np.zeros_like(corr, dtype=np.bool)\n",
        "mask[np.triu_indices_from(mask)] = True\n",
        "\n",
        "# Set up the matplotlib figure\n",
        "f, ax = plt.subplots(figsize=(15, 9))\n",
        "\n",
        "# Generate a custom diverging colormap\n",
        "cmap = sns.diverging_palette(220, 10, as_cmap=True)\n",
        "\n",
        "# Draw the heatmap with the mask and correct aspect ratio\n",
        "sns.heatmap(corr, mask=mask, cmap=cmap, vmin = -1, vmax=1, center=0, annot = True,\n",
        "            square=True, linewidths=.5, cbar_kws={\"shrink\": .8, 'ticks' : [-1, -.5, 0, 0.5, 1]})\n",
        "\n",
        "plt.show()"
      ],
      "execution_count": 74,
      "outputs": [
        {
          "output_type": "display_data",
          "data": {
            "image/png": "[encoded data removed]",
            "text/plain": [
              "<Figure size 1080x648 with 2 Axes>"
            ]
          },
          "metadata": {
            "tags": [],
            "needs_background": "light"
          }
        }
      ]
    },
    {
      "cell_type": "markdown",
      "metadata": {
        "id": "6-InVN9Q-Kf2"
      },
      "source": [
        "In the correlation matrix, there are many cases on multicollinearity. Multicollinearity is a state where there exist a high intercorrelation or inter-associations among independent variables (predictors). If multicollinearity present in the data, the statistical inferences made about the data may not be reliable because we would not know which interdependent variable that will cause to have affects on the target variable. Variables that have the case of multicollinearity are the ones that are either close to 1 or close to -1. Closer to 1 means a strong positive correlation, while close to -1 means a strong negative correlation.\n",
        "\n",
        "Strategy to deal with this issue:\n",
        "* To avoid the multicollinearity issues, we either have to delete one of the correlated independent variables.\n",
        "* What to delete? We could choose the one that have lower variance/standard deviation to be deleted. And keep the ones that have high variance, since our goal is to generalize our model. More variance, means more sample, means more different kinds of cases, more generalized.\n",
        "* We could also delete the independent variable that has the most multicollinearity.\n",
        "    "
      ]
    },
    {
      "cell_type": "markdown",
      "metadata": {
        "id": "nCsFzVlg-Kf4"
      },
      "source": [
        "We deleted the revenue column because it is a derivation of other columns from the original data."
      ]
    },
    {
      "cell_type": "code",
      "metadata": {
        "colab": {
          "base_uri": "https://localhost:8080/",
          "height": 202
        },
        "id": "iWAyRuwN-Kf5",
        "outputId": "9d118136-2a9f-4f3d-8585-62ca8f17e7a3"
      },
      "source": [
        "model_df_2 = model_df.drop(['revenue'], axis = 1)\n",
        "model_df_2.head()"
      ],
      "execution_count": 75,
      "outputs": [
        {
          "output_type": "execute_result",
          "data": {
            "text/html": [
              "<div>\n",
              "<style scoped>\n",
              "    .dataframe tbody tr th:only-of-type {\n",
              "        vertical-align: middle;\n",
              "    }\n",
              "\n",
              "    .dataframe tbody tr th {\n",
              "        vertical-align: top;\n",
              "    }\n",
              "\n",
              "    .dataframe thead th {\n",
              "        text-align: right;\n",
              "    }\n",
              "</style>\n",
              "<table border=\"1\" class=\"dataframe\">\n",
              "  <thead>\n",
              "    <tr style=\"text-align: right;\">\n",
              "      <th></th>\n",
              "      <th>date</th>\n",
              "      <th>price</th>\n",
              "      <th>is_promo_item</th>\n",
              "      <th>member_promo</th>\n",
              "      <th>quantity</th>\n",
              "      <th>day_of_month</th>\n",
              "      <th>month_num</th>\n",
              "      <th>year_num</th>\n",
              "      <th>week_num</th>\n",
              "      <th>year_month</th>\n",
              "      <th>week_of_month</th>\n",
              "      <th>product_sku_en</th>\n",
              "      <th>store_en</th>\n",
              "      <th>day_of_year</th>\n",
              "      <th>day_of_week</th>\n",
              "    </tr>\n",
              "  </thead>\n",
              "  <tbody>\n",
              "    <tr>\n",
              "      <th>0</th>\n",
              "      <td>2019-11-29</td>\n",
              "      <td>147454.56</td>\n",
              "      <td>0.0</td>\n",
              "      <td>1.0</td>\n",
              "      <td>18.0</td>\n",
              "      <td>29</td>\n",
              "      <td>11</td>\n",
              "      <td>2019</td>\n",
              "      <td>48</td>\n",
              "      <td>201911</td>\n",
              "      <td>5</td>\n",
              "      <td>1</td>\n",
              "      <td>13</td>\n",
              "      <td>333</td>\n",
              "      <td>4</td>\n",
              "    </tr>\n",
              "    <tr>\n",
              "      <th>1</th>\n",
              "      <td>2020-01-15</td>\n",
              "      <td>4303058.84</td>\n",
              "      <td>1.0</td>\n",
              "      <td>0.0</td>\n",
              "      <td>3.0</td>\n",
              "      <td>15</td>\n",
              "      <td>1</td>\n",
              "      <td>2020</td>\n",
              "      <td>3</td>\n",
              "      <td>202001</td>\n",
              "      <td>3</td>\n",
              "      <td>2</td>\n",
              "      <td>6</td>\n",
              "      <td>15</td>\n",
              "      <td>2</td>\n",
              "    </tr>\n",
              "    <tr>\n",
              "      <th>2</th>\n",
              "      <td>2020-01-28</td>\n",
              "      <td>1742713.52</td>\n",
              "      <td>1.0</td>\n",
              "      <td>0.0</td>\n",
              "      <td>9.0</td>\n",
              "      <td>28</td>\n",
              "      <td>1</td>\n",
              "      <td>2020</td>\n",
              "      <td>5</td>\n",
              "      <td>202001</td>\n",
              "      <td>4</td>\n",
              "      <td>3</td>\n",
              "      <td>17</td>\n",
              "      <td>28</td>\n",
              "      <td>1</td>\n",
              "    </tr>\n",
              "    <tr>\n",
              "      <th>3</th>\n",
              "      <td>2019-12-05</td>\n",
              "      <td>4656476.03</td>\n",
              "      <td>0.0</td>\n",
              "      <td>1.0</td>\n",
              "      <td>8.0</td>\n",
              "      <td>5</td>\n",
              "      <td>12</td>\n",
              "      <td>2019</td>\n",
              "      <td>49</td>\n",
              "      <td>201912</td>\n",
              "      <td>1</td>\n",
              "      <td>4</td>\n",
              "      <td>7</td>\n",
              "      <td>339</td>\n",
              "      <td>3</td>\n",
              "    </tr>\n",
              "    <tr>\n",
              "      <th>4</th>\n",
              "      <td>2020-01-04</td>\n",
              "      <td>4774574.30</td>\n",
              "      <td>0.0</td>\n",
              "      <td>0.0</td>\n",
              "      <td>1.0</td>\n",
              "      <td>4</td>\n",
              "      <td>1</td>\n",
              "      <td>2020</td>\n",
              "      <td>1</td>\n",
              "      <td>202001</td>\n",
              "      <td>1</td>\n",
              "      <td>5</td>\n",
              "      <td>15</td>\n",
              "      <td>4</td>\n",
              "      <td>5</td>\n",
              "    </tr>\n",
              "  </tbody>\n",
              "</table>\n",
              "</div>"
            ],
            "text/plain": [
              "        date       price  is_promo_item  ...  store_en  day_of_year  day_of_week\n",
              "0 2019-11-29   147454.56            0.0  ...        13          333            4\n",
              "1 2020-01-15  4303058.84            1.0  ...         6           15            2\n",
              "2 2020-01-28  1742713.52            1.0  ...        17           28            1\n",
              "3 2019-12-05  4656476.03            0.0  ...         7          339            3\n",
              "4 2020-01-04  4774574.30            0.0  ...        15            4            5\n",
              "\n",
              "[5 rows x 15 columns]"
            ]
          },
          "metadata": {
            "tags": []
          },
          "execution_count": 75
        }
      ]
    },
    {
      "cell_type": "code",
      "metadata": {
        "colab": {
          "base_uri": "https://localhost:8080/",
          "height": 294
        },
        "id": "cBdnrp_w-Kf7",
        "outputId": "9cf92d74-bfe7-478f-d2b0-5ac75c29856e"
      },
      "source": [
        "model_df_2.describe()[['day_of_month', 'week_of_month']]"
      ],
      "execution_count": 76,
      "outputs": [
        {
          "output_type": "execute_result",
          "data": {
            "text/html": [
              "<div>\n",
              "<style scoped>\n",
              "    .dataframe tbody tr th:only-of-type {\n",
              "        vertical-align: middle;\n",
              "    }\n",
              "\n",
              "    .dataframe tbody tr th {\n",
              "        vertical-align: top;\n",
              "    }\n",
              "\n",
              "    .dataframe thead th {\n",
              "        text-align: right;\n",
              "    }\n",
              "</style>\n",
              "<table border=\"1\" class=\"dataframe\">\n",
              "  <thead>\n",
              "    <tr style=\"text-align: right;\">\n",
              "      <th></th>\n",
              "      <th>day_of_month</th>\n",
              "      <th>week_of_month</th>\n",
              "    </tr>\n",
              "  </thead>\n",
              "  <tbody>\n",
              "    <tr>\n",
              "      <th>count</th>\n",
              "      <td>1734.000000</td>\n",
              "      <td>1734.000000</td>\n",
              "    </tr>\n",
              "    <tr>\n",
              "      <th>mean</th>\n",
              "      <td>15.521338</td>\n",
              "      <td>2.670127</td>\n",
              "    </tr>\n",
              "    <tr>\n",
              "      <th>std</th>\n",
              "      <td>8.677351</td>\n",
              "      <td>1.248499</td>\n",
              "    </tr>\n",
              "    <tr>\n",
              "      <th>min</th>\n",
              "      <td>1.000000</td>\n",
              "      <td>1.000000</td>\n",
              "    </tr>\n",
              "    <tr>\n",
              "      <th>25%</th>\n",
              "      <td>8.000000</td>\n",
              "      <td>2.000000</td>\n",
              "    </tr>\n",
              "    <tr>\n",
              "      <th>50%</th>\n",
              "      <td>16.000000</td>\n",
              "      <td>3.000000</td>\n",
              "    </tr>\n",
              "    <tr>\n",
              "      <th>75%</th>\n",
              "      <td>23.000000</td>\n",
              "      <td>4.000000</td>\n",
              "    </tr>\n",
              "    <tr>\n",
              "      <th>max</th>\n",
              "      <td>31.000000</td>\n",
              "      <td>5.000000</td>\n",
              "    </tr>\n",
              "  </tbody>\n",
              "</table>\n",
              "</div>"
            ],
            "text/plain": [
              "       day_of_month  week_of_month\n",
              "count   1734.000000    1734.000000\n",
              "mean      15.521338       2.670127\n",
              "std        8.677351       1.248499\n",
              "min        1.000000       1.000000\n",
              "25%        8.000000       2.000000\n",
              "50%       16.000000       3.000000\n",
              "75%       23.000000       4.000000\n",
              "max       31.000000       5.000000"
            ]
          },
          "metadata": {
            "tags": []
          },
          "execution_count": 76
        }
      ]
    },
    {
      "cell_type": "markdown",
      "metadata": {
        "id": "yq0jJ5J7-Kf9"
      },
      "source": [
        "Delete the week_of_month because it has lower standard deviation. "
      ]
    },
    {
      "cell_type": "code",
      "metadata": {
        "colab": {
          "base_uri": "https://localhost:8080/",
          "height": 202
        },
        "id": "XGCLlAJV-Kf-",
        "outputId": "70cb652d-5863-4b68-a290-de856697320c"
      },
      "source": [
        "model_df_2.drop(['week_of_month'], axis = 1, inplace = True)\n",
        "model_df_2.head()"
      ],
      "execution_count": 77,
      "outputs": [
        {
          "output_type": "execute_result",
          "data": {
            "text/html": [
              "<div>\n",
              "<style scoped>\n",
              "    .dataframe tbody tr th:only-of-type {\n",
              "        vertical-align: middle;\n",
              "    }\n",
              "\n",
              "    .dataframe tbody tr th {\n",
              "        vertical-align: top;\n",
              "    }\n",
              "\n",
              "    .dataframe thead th {\n",
              "        text-align: right;\n",
              "    }\n",
              "</style>\n",
              "<table border=\"1\" class=\"dataframe\">\n",
              "  <thead>\n",
              "    <tr style=\"text-align: right;\">\n",
              "      <th></th>\n",
              "      <th>date</th>\n",
              "      <th>price</th>\n",
              "      <th>is_promo_item</th>\n",
              "      <th>member_promo</th>\n",
              "      <th>quantity</th>\n",
              "      <th>day_of_month</th>\n",
              "      <th>month_num</th>\n",
              "      <th>year_num</th>\n",
              "      <th>week_num</th>\n",
              "      <th>year_month</th>\n",
              "      <th>product_sku_en</th>\n",
              "      <th>store_en</th>\n",
              "      <th>day_of_year</th>\n",
              "      <th>day_of_week</th>\n",
              "    </tr>\n",
              "  </thead>\n",
              "  <tbody>\n",
              "    <tr>\n",
              "      <th>0</th>\n",
              "      <td>2019-11-29</td>\n",
              "      <td>147454.56</td>\n",
              "      <td>0.0</td>\n",
              "      <td>1.0</td>\n",
              "      <td>18.0</td>\n",
              "      <td>29</td>\n",
              "      <td>11</td>\n",
              "      <td>2019</td>\n",
              "      <td>48</td>\n",
              "      <td>201911</td>\n",
              "      <td>1</td>\n",
              "      <td>13</td>\n",
              "      <td>333</td>\n",
              "      <td>4</td>\n",
              "    </tr>\n",
              "    <tr>\n",
              "      <th>1</th>\n",
              "      <td>2020-01-15</td>\n",
              "      <td>4303058.84</td>\n",
              "      <td>1.0</td>\n",
              "      <td>0.0</td>\n",
              "      <td>3.0</td>\n",
              "      <td>15</td>\n",
              "      <td>1</td>\n",
              "      <td>2020</td>\n",
              "      <td>3</td>\n",
              "      <td>202001</td>\n",
              "      <td>2</td>\n",
              "      <td>6</td>\n",
              "      <td>15</td>\n",
              "      <td>2</td>\n",
              "    </tr>\n",
              "    <tr>\n",
              "      <th>2</th>\n",
              "      <td>2020-01-28</td>\n",
              "      <td>1742713.52</td>\n",
              "      <td>1.0</td>\n",
              "      <td>0.0</td>\n",
              "      <td>9.0</td>\n",
              "      <td>28</td>\n",
              "      <td>1</td>\n",
              "      <td>2020</td>\n",
              "      <td>5</td>\n",
              "      <td>202001</td>\n",
              "      <td>3</td>\n",
              "      <td>17</td>\n",
              "      <td>28</td>\n",
              "      <td>1</td>\n",
              "    </tr>\n",
              "    <tr>\n",
              "      <th>3</th>\n",
              "      <td>2019-12-05</td>\n",
              "      <td>4656476.03</td>\n",
              "      <td>0.0</td>\n",
              "      <td>1.0</td>\n",
              "      <td>8.0</td>\n",
              "      <td>5</td>\n",
              "      <td>12</td>\n",
              "      <td>2019</td>\n",
              "      <td>49</td>\n",
              "      <td>201912</td>\n",
              "      <td>4</td>\n",
              "      <td>7</td>\n",
              "      <td>339</td>\n",
              "      <td>3</td>\n",
              "    </tr>\n",
              "    <tr>\n",
              "      <th>4</th>\n",
              "      <td>2020-01-04</td>\n",
              "      <td>4774574.30</td>\n",
              "      <td>0.0</td>\n",
              "      <td>0.0</td>\n",
              "      <td>1.0</td>\n",
              "      <td>4</td>\n",
              "      <td>1</td>\n",
              "      <td>2020</td>\n",
              "      <td>1</td>\n",
              "      <td>202001</td>\n",
              "      <td>5</td>\n",
              "      <td>15</td>\n",
              "      <td>4</td>\n",
              "      <td>5</td>\n",
              "    </tr>\n",
              "  </tbody>\n",
              "</table>\n",
              "</div>"
            ],
            "text/plain": [
              "        date       price  is_promo_item  ...  store_en  day_of_year  day_of_week\n",
              "0 2019-11-29   147454.56            0.0  ...        13          333            4\n",
              "1 2020-01-15  4303058.84            1.0  ...         6           15            2\n",
              "2 2020-01-28  1742713.52            1.0  ...        17           28            1\n",
              "3 2019-12-05  4656476.03            0.0  ...         7          339            3\n",
              "4 2020-01-04  4774574.30            0.0  ...        15            4            5\n",
              "\n",
              "[5 rows x 14 columns]"
            ]
          },
          "metadata": {
            "tags": []
          },
          "execution_count": 77
        }
      ]
    },
    {
      "cell_type": "markdown",
      "metadata": {
        "id": "Sara3Du6-Kf_"
      },
      "source": [
        "Delete month_num & year_num columns because it has so many multicollinearity to the other independent variables."
      ]
    },
    {
      "cell_type": "code",
      "metadata": {
        "colab": {
          "base_uri": "https://localhost:8080/",
          "height": 202
        },
        "id": "WDoTk6FB-KgB",
        "outputId": "4f4c4443-fe6f-4d95-b670-77abce7187e7"
      },
      "source": [
        "model_df_2.drop(['year_num', 'month_num'], axis = 1, inplace = True)\n",
        "model_df_2.head()"
      ],
      "execution_count": 78,
      "outputs": [
        {
          "output_type": "execute_result",
          "data": {
            "text/html": [
              "<div>\n",
              "<style scoped>\n",
              "    .dataframe tbody tr th:only-of-type {\n",
              "        vertical-align: middle;\n",
              "    }\n",
              "\n",
              "    .dataframe tbody tr th {\n",
              "        vertical-align: top;\n",
              "    }\n",
              "\n",
              "    .dataframe thead th {\n",
              "        text-align: right;\n",
              "    }\n",
              "</style>\n",
              "<table border=\"1\" class=\"dataframe\">\n",
              "  <thead>\n",
              "    <tr style=\"text-align: right;\">\n",
              "      <th></th>\n",
              "      <th>date</th>\n",
              "      <th>price</th>\n",
              "      <th>is_promo_item</th>\n",
              "      <th>member_promo</th>\n",
              "      <th>quantity</th>\n",
              "      <th>day_of_month</th>\n",
              "      <th>week_num</th>\n",
              "      <th>year_month</th>\n",
              "      <th>product_sku_en</th>\n",
              "      <th>store_en</th>\n",
              "      <th>day_of_year</th>\n",
              "      <th>day_of_week</th>\n",
              "    </tr>\n",
              "  </thead>\n",
              "  <tbody>\n",
              "    <tr>\n",
              "      <th>0</th>\n",
              "      <td>2019-11-29</td>\n",
              "      <td>147454.56</td>\n",
              "      <td>0.0</td>\n",
              "      <td>1.0</td>\n",
              "      <td>18.0</td>\n",
              "      <td>29</td>\n",
              "      <td>48</td>\n",
              "      <td>201911</td>\n",
              "      <td>1</td>\n",
              "      <td>13</td>\n",
              "      <td>333</td>\n",
              "      <td>4</td>\n",
              "    </tr>\n",
              "    <tr>\n",
              "      <th>1</th>\n",
              "      <td>2020-01-15</td>\n",
              "      <td>4303058.84</td>\n",
              "      <td>1.0</td>\n",
              "      <td>0.0</td>\n",
              "      <td>3.0</td>\n",
              "      <td>15</td>\n",
              "      <td>3</td>\n",
              "      <td>202001</td>\n",
              "      <td>2</td>\n",
              "      <td>6</td>\n",
              "      <td>15</td>\n",
              "      <td>2</td>\n",
              "    </tr>\n",
              "    <tr>\n",
              "      <th>2</th>\n",
              "      <td>2020-01-28</td>\n",
              "      <td>1742713.52</td>\n",
              "      <td>1.0</td>\n",
              "      <td>0.0</td>\n",
              "      <td>9.0</td>\n",
              "      <td>28</td>\n",
              "      <td>5</td>\n",
              "      <td>202001</td>\n",
              "      <td>3</td>\n",
              "      <td>17</td>\n",
              "      <td>28</td>\n",
              "      <td>1</td>\n",
              "    </tr>\n",
              "    <tr>\n",
              "      <th>3</th>\n",
              "      <td>2019-12-05</td>\n",
              "      <td>4656476.03</td>\n",
              "      <td>0.0</td>\n",
              "      <td>1.0</td>\n",
              "      <td>8.0</td>\n",
              "      <td>5</td>\n",
              "      <td>49</td>\n",
              "      <td>201912</td>\n",
              "      <td>4</td>\n",
              "      <td>7</td>\n",
              "      <td>339</td>\n",
              "      <td>3</td>\n",
              "    </tr>\n",
              "    <tr>\n",
              "      <th>4</th>\n",
              "      <td>2020-01-04</td>\n",
              "      <td>4774574.30</td>\n",
              "      <td>0.0</td>\n",
              "      <td>0.0</td>\n",
              "      <td>1.0</td>\n",
              "      <td>4</td>\n",
              "      <td>1</td>\n",
              "      <td>202001</td>\n",
              "      <td>5</td>\n",
              "      <td>15</td>\n",
              "      <td>4</td>\n",
              "      <td>5</td>\n",
              "    </tr>\n",
              "  </tbody>\n",
              "</table>\n",
              "</div>"
            ],
            "text/plain": [
              "        date       price  is_promo_item  ...  store_en  day_of_year  day_of_week\n",
              "0 2019-11-29   147454.56            0.0  ...        13          333            4\n",
              "1 2020-01-15  4303058.84            1.0  ...         6           15            2\n",
              "2 2020-01-28  1742713.52            1.0  ...        17           28            1\n",
              "3 2019-12-05  4656476.03            0.0  ...         7          339            3\n",
              "4 2020-01-04  4774574.30            0.0  ...        15            4            5\n",
              "\n",
              "[5 rows x 12 columns]"
            ]
          },
          "metadata": {
            "tags": []
          },
          "execution_count": 78
        }
      ]
    },
    {
      "cell_type": "code",
      "metadata": {
        "colab": {
          "base_uri": "https://localhost:8080/",
          "height": 294
        },
        "id": "sOdA_ipy-KgD",
        "outputId": "d8d66c22-6736-478f-a212-0d430bb2adc9"
      },
      "source": [
        "model_df_2.describe()[['week_num', 'day_of_year', 'year_month']]"
      ],
      "execution_count": 79,
      "outputs": [
        {
          "output_type": "execute_result",
          "data": {
            "text/html": [
              "<div>\n",
              "<style scoped>\n",
              "    .dataframe tbody tr th:only-of-type {\n",
              "        vertical-align: middle;\n",
              "    }\n",
              "\n",
              "    .dataframe tbody tr th {\n",
              "        vertical-align: top;\n",
              "    }\n",
              "\n",
              "    .dataframe thead th {\n",
              "        text-align: right;\n",
              "    }\n",
              "</style>\n",
              "<table border=\"1\" class=\"dataframe\">\n",
              "  <thead>\n",
              "    <tr style=\"text-align: right;\">\n",
              "      <th></th>\n",
              "      <th>week_num</th>\n",
              "      <th>day_of_year</th>\n",
              "      <th>year_month</th>\n",
              "    </tr>\n",
              "  </thead>\n",
              "  <tbody>\n",
              "    <tr>\n",
              "      <th>count</th>\n",
              "      <td>1734.000000</td>\n",
              "      <td>1734.000000</td>\n",
              "      <td>1734.000000</td>\n",
              "    </tr>\n",
              "    <tr>\n",
              "      <th>mean</th>\n",
              "      <td>32.190888</td>\n",
              "      <td>227.190311</td>\n",
              "      <td>201941.588812</td>\n",
              "    </tr>\n",
              "    <tr>\n",
              "      <th>std</th>\n",
              "      <td>21.780283</td>\n",
              "      <td>151.238193</td>\n",
              "      <td>42.297069</td>\n",
              "    </tr>\n",
              "    <tr>\n",
              "      <th>min</th>\n",
              "      <td>1.000000</td>\n",
              "      <td>1.000000</td>\n",
              "      <td>201911.000000</td>\n",
              "    </tr>\n",
              "    <tr>\n",
              "      <th>25%</th>\n",
              "      <td>4.000000</td>\n",
              "      <td>23.000000</td>\n",
              "      <td>201911.000000</td>\n",
              "    </tr>\n",
              "    <tr>\n",
              "      <th>50%</th>\n",
              "      <td>46.000000</td>\n",
              "      <td>320.000000</td>\n",
              "      <td>201912.000000</td>\n",
              "    </tr>\n",
              "    <tr>\n",
              "      <th>75%</th>\n",
              "      <td>49.000000</td>\n",
              "      <td>341.000000</td>\n",
              "      <td>202001.000000</td>\n",
              "    </tr>\n",
              "    <tr>\n",
              "      <th>max</th>\n",
              "      <td>52.000000</td>\n",
              "      <td>365.000000</td>\n",
              "      <td>202001.000000</td>\n",
              "    </tr>\n",
              "  </tbody>\n",
              "</table>\n",
              "</div>"
            ],
            "text/plain": [
              "          week_num  day_of_year     year_month\n",
              "count  1734.000000  1734.000000    1734.000000\n",
              "mean     32.190888   227.190311  201941.588812\n",
              "std      21.780283   151.238193      42.297069\n",
              "min       1.000000     1.000000  201911.000000\n",
              "25%       4.000000    23.000000  201911.000000\n",
              "50%      46.000000   320.000000  201912.000000\n",
              "75%      49.000000   341.000000  202001.000000\n",
              "max      52.000000   365.000000  202001.000000"
            ]
          },
          "metadata": {
            "tags": []
          },
          "execution_count": 79
        }
      ]
    },
    {
      "cell_type": "markdown",
      "metadata": {
        "id": "0ZPCNfKX-KgF"
      },
      "source": [
        "Drop week_num and year_month because the have the lower standard deviation."
      ]
    },
    {
      "cell_type": "code",
      "metadata": {
        "colab": {
          "base_uri": "https://localhost:8080/",
          "height": 202
        },
        "id": "LRKGp8Nl-KgF",
        "outputId": "48f44a74-9954-4c19-b3f2-7c04a70dffbb"
      },
      "source": [
        "model_df_2.drop(['week_num', 'year_month'], axis = 1, inplace = True)\n",
        "model_df_2.head()"
      ],
      "execution_count": 80,
      "outputs": [
        {
          "output_type": "execute_result",
          "data": {
            "text/html": [
              "<div>\n",
              "<style scoped>\n",
              "    .dataframe tbody tr th:only-of-type {\n",
              "        vertical-align: middle;\n",
              "    }\n",
              "\n",
              "    .dataframe tbody tr th {\n",
              "        vertical-align: top;\n",
              "    }\n",
              "\n",
              "    .dataframe thead th {\n",
              "        text-align: right;\n",
              "    }\n",
              "</style>\n",
              "<table border=\"1\" class=\"dataframe\">\n",
              "  <thead>\n",
              "    <tr style=\"text-align: right;\">\n",
              "      <th></th>\n",
              "      <th>date</th>\n",
              "      <th>price</th>\n",
              "      <th>is_promo_item</th>\n",
              "      <th>member_promo</th>\n",
              "      <th>quantity</th>\n",
              "      <th>day_of_month</th>\n",
              "      <th>product_sku_en</th>\n",
              "      <th>store_en</th>\n",
              "      <th>day_of_year</th>\n",
              "      <th>day_of_week</th>\n",
              "    </tr>\n",
              "  </thead>\n",
              "  <tbody>\n",
              "    <tr>\n",
              "      <th>0</th>\n",
              "      <td>2019-11-29</td>\n",
              "      <td>147454.56</td>\n",
              "      <td>0.0</td>\n",
              "      <td>1.0</td>\n",
              "      <td>18.0</td>\n",
              "      <td>29</td>\n",
              "      <td>1</td>\n",
              "      <td>13</td>\n",
              "      <td>333</td>\n",
              "      <td>4</td>\n",
              "    </tr>\n",
              "    <tr>\n",
              "      <th>1</th>\n",
              "      <td>2020-01-15</td>\n",
              "      <td>4303058.84</td>\n",
              "      <td>1.0</td>\n",
              "      <td>0.0</td>\n",
              "      <td>3.0</td>\n",
              "      <td>15</td>\n",
              "      <td>2</td>\n",
              "      <td>6</td>\n",
              "      <td>15</td>\n",
              "      <td>2</td>\n",
              "    </tr>\n",
              "    <tr>\n",
              "      <th>2</th>\n",
              "      <td>2020-01-28</td>\n",
              "      <td>1742713.52</td>\n",
              "      <td>1.0</td>\n",
              "      <td>0.0</td>\n",
              "      <td>9.0</td>\n",
              "      <td>28</td>\n",
              "      <td>3</td>\n",
              "      <td>17</td>\n",
              "      <td>28</td>\n",
              "      <td>1</td>\n",
              "    </tr>\n",
              "    <tr>\n",
              "      <th>3</th>\n",
              "      <td>2019-12-05</td>\n",
              "      <td>4656476.03</td>\n",
              "      <td>0.0</td>\n",
              "      <td>1.0</td>\n",
              "      <td>8.0</td>\n",
              "      <td>5</td>\n",
              "      <td>4</td>\n",
              "      <td>7</td>\n",
              "      <td>339</td>\n",
              "      <td>3</td>\n",
              "    </tr>\n",
              "    <tr>\n",
              "      <th>4</th>\n",
              "      <td>2020-01-04</td>\n",
              "      <td>4774574.30</td>\n",
              "      <td>0.0</td>\n",
              "      <td>0.0</td>\n",
              "      <td>1.0</td>\n",
              "      <td>4</td>\n",
              "      <td>5</td>\n",
              "      <td>15</td>\n",
              "      <td>4</td>\n",
              "      <td>5</td>\n",
              "    </tr>\n",
              "  </tbody>\n",
              "</table>\n",
              "</div>"
            ],
            "text/plain": [
              "        date       price  is_promo_item  ...  store_en  day_of_year  day_of_week\n",
              "0 2019-11-29   147454.56            0.0  ...        13          333            4\n",
              "1 2020-01-15  4303058.84            1.0  ...         6           15            2\n",
              "2 2020-01-28  1742713.52            1.0  ...        17           28            1\n",
              "3 2019-12-05  4656476.03            0.0  ...         7          339            3\n",
              "4 2020-01-04  4774574.30            0.0  ...        15            4            5\n",
              "\n",
              "[5 rows x 10 columns]"
            ]
          },
          "metadata": {
            "tags": []
          },
          "execution_count": 80
        }
      ]
    },
    {
      "cell_type": "code",
      "metadata": {
        "colab": {
          "base_uri": "https://localhost:8080/",
          "height": 606
        },
        "id": "2sXMUOZs-KgH",
        "outputId": "c36b60e8-8360-4f56-c4b1-7c7ba9ae1dd2"
      },
      "source": [
        "corr = model_df_2.corr()\n",
        "\n",
        "# Generate a mask for the upper triangle\n",
        "mask = np.zeros_like(corr, dtype=np.bool)\n",
        "mask[np.triu_indices_from(mask)] = True\n",
        "\n",
        "# Set up the matplotlib figure\n",
        "f, ax = plt.subplots(figsize=(15, 9))\n",
        "\n",
        "# Generate a custom diverging colormap\n",
        "cmap = sns.diverging_palette(220, 10, as_cmap=True)\n",
        "\n",
        "# Draw the heatmap with the mask and correct aspect ratio\n",
        "sns.heatmap(corr, mask=mask, cmap=cmap, vmin = -1, vmax=1, center=0, annot = True,\n",
        "            square=True, linewidths=.5, cbar_kws={\"shrink\": .8, 'ticks' : [-1, -.5, 0, 0.5, 1]})\n",
        "\n",
        "plt.show()"
      ],
      "execution_count": 81,
      "outputs": [
        {
          "output_type": "display_data",
          "data": {
            "image/png": "[encoded data removed]",
            "text/plain": [
              "<Figure size 1080x648 with 2 Axes>"
            ]
          },
          "metadata": {
            "tags": [],
            "needs_background": "light"
          }
        }
      ]
    },
    {
      "cell_type": "code",
      "metadata": {
        "colab": {
          "base_uri": "https://localhost:8080/"
        },
        "id": "dhgP043h-KgJ",
        "outputId": "4f4753f7-b79c-4b34-ce28-2aac38740060"
      },
      "source": [
        "model_df_2.corr()['quantity']"
      ],
      "execution_count": 82,
      "outputs": [
        {
          "output_type": "execute_result",
          "data": {
            "text/plain": [
              "price             0.027132\n",
              "is_promo_item    -0.064483\n",
              "member_promo      0.026248\n",
              "quantity          1.000000\n",
              "day_of_month      0.003113\n",
              "product_sku_en   -0.007779\n",
              "store_en          0.000682\n",
              "day_of_year      -0.020994\n",
              "day_of_week       0.026880\n",
              "Name: quantity, dtype: float64"
            ]
          },
          "metadata": {
            "tags": []
          },
          "execution_count": 82
        }
      ]
    },
    {
      "cell_type": "markdown",
      "metadata": {
        "id": "Z_bAtiFC-KgK"
      },
      "source": [
        "Start Modeling"
      ]
    },
    {
      "cell_type": "code",
      "metadata": {
        "id": "s9IbnKL7-KgL"
      },
      "source": [
        "target = model_df['quantity']\n",
        "X_train, X_test, y_train, y_test = train_test_split(model_df_2.drop(['date', 'quantity'], axis = 1), \n",
        "                                                    target, test_size = 0.2, random_state = 1234)"
      ],
      "execution_count": 83,
      "outputs": []
    },
    {
      "cell_type": "code",
      "metadata": {
        "colab": {
          "base_uri": "https://localhost:8080/"
        },
        "id": "F7N7flU8-KgM",
        "outputId": "cf5e9f58-228a-49e8-d17d-a705ff09fd0f"
      },
      "source": [
        "lin_reg = LinearRegression(normalize = True)\n",
        "\n",
        "lin_reg_fit = lin_reg.fit(X_train, y_train)\n",
        "\n",
        "\n",
        "lin_reg_R2 = lin_reg_fit.score(X_train, y_train)\n",
        "\n",
        "lin_reg_intercept = lin_reg.intercept_\n",
        "\n",
        "lin_reg_coef = lin_reg.coef_\n",
        "\n",
        "lin_reg_R2"
      ],
      "execution_count": 84,
      "outputs": [
        {
          "output_type": "execute_result",
          "data": {
            "text/plain": [
              "0.0055505563243795075"
            ]
          },
          "metadata": {
            "tags": []
          },
          "execution_count": 84
        }
      ]
    },
    {
      "cell_type": "code",
      "metadata": {
        "id": "sQDv3PIl-KgN"
      },
      "source": [
        "def lin_reg_metrics(model, X, y):\n",
        "    yhat = model.predict(X)\n",
        "\n",
        "    SS_Residual = sum((y-yhat)**2)\n",
        "    SS_Total = sum((y-np.mean(y))**2)\n",
        "    \n",
        "    r_squared = 1 - (float(SS_Residual))/SS_Total\n",
        "    adj_r_squared = 1 - (1-r_squared)*(len(y)-1)/(len(y)-X.shape[1]-1)\n",
        "    \n",
        "    return r_squared,adj_r_squared"
      ],
      "execution_count": 85,
      "outputs": []
    },
    {
      "cell_type": "code",
      "metadata": {
        "colab": {
          "base_uri": "https://localhost:8080/"
        },
        "id": "CgIP6sEQ-KgO",
        "outputId": "5f27f055-0a37-47ba-f74c-b541fc086a32"
      },
      "source": [
        "print(lin_reg_R2)\n",
        "lin_reg_metrics(lin_reg, X_test, y_test)"
      ],
      "execution_count": 86,
      "outputs": [
        {
          "output_type": "stream",
          "text": [
            "0.0055505563243795075\n"
          ],
          "name": "stdout"
        },
        {
          "output_type": "execute_result",
          "data": {
            "text/plain": [
              "(-0.016830457980514302, -0.040897451068810486)"
            ]
          },
          "metadata": {
            "tags": []
          },
          "execution_count": 86
        }
      ]
    },
    {
      "cell_type": "markdown",
      "metadata": {
        "id": "2dOzgvsI-KgQ"
      },
      "source": [
        "########## CALCULATE ROOT MEAN SQUARED ERROR ##########"
      ]
    },
    {
      "cell_type": "code",
      "metadata": {
        "colab": {
          "base_uri": "https://localhost:8080/"
        },
        "id": "s6DyfCkM-KgR",
        "outputId": "a442e0a1-ec87-46fe-b990-4831732bfef7"
      },
      "source": [
        "# CALCULATE RMSE\n",
        "print('RMSE Using Training set: {}'.format(np.sqrt(((lin_reg.predict(X_train) - y_train)**2).mean())))\n",
        "print('RMSE Using Validation set: {}'.format(np.sqrt(((lin_reg.predict(X_test) - y_test)**2).mean())))"
      ],
      "execution_count": 87,
      "outputs": [
        {
          "output_type": "stream",
          "text": [
            "RMSE Using Training set: 5.824624445932358\n",
            "RMSE Using Validation set: 5.588574362777772\n"
          ],
          "name": "stdout"
        }
      ]
    },
    {
      "cell_type": "code",
      "metadata": {
        "colab": {
          "base_uri": "https://localhost:8080/"
        },
        "id": "Tg1NfOp4-KgS",
        "outputId": "462bf8e5-f072-4b20-f942-27d30e5dba6d"
      },
      "source": [
        "# CALCULATE MAE\n",
        "print('MAE Using Training set: {}'.format(abs(lin_reg.predict(X_train) - y_train).mean()))\n",
        "print('MAE Using Validation set: {}'.format(abs(lin_reg.predict(X_test) - y_test).mean()))"
      ],
      "execution_count": 88,
      "outputs": [
        {
          "output_type": "stream",
          "text": [
            "MAE Using Training set: 5.045974041259087\n",
            "MAE Using Validation set: 4.793166939527235\n"
          ],
          "name": "stdout"
        }
      ]
    },
    {
      "cell_type": "markdown",
      "metadata": {
        "id": "RzuvAsUU-KgU"
      },
      "source": [
        "#### Try Lin_Reg2"
      ]
    },
    {
      "cell_type": "markdown",
      "metadata": {
        "id": "VlyN0m8K-KgU"
      },
      "source": [
        "Let's exclude features that have low correlation coefficient (Cutoff: < -0.005 & > 0.01)"
      ]
    },
    {
      "cell_type": "code",
      "metadata": {
        "colab": {
          "base_uri": "https://localhost:8080/"
        },
        "id": "Im1S4wKU-KgU",
        "outputId": "5dbc37eb-2113-429f-e60c-fe867972d393"
      },
      "source": [
        "lin_reg_2 = LinearRegression(normalize = True)\n",
        "\n",
        "lin_reg_2_fit = lin_reg_2.fit(X_train.drop(['store_en'], axis = 1), y_train)\n",
        "\n",
        "lin_reg_2_R2 = lin_reg_2_fit.score(X_train.drop(['store_en'], axis = 1), y_train)\n",
        "lin_reg_2_R2"
      ],
      "execution_count": 89,
      "outputs": [
        {
          "output_type": "execute_result",
          "data": {
            "text/plain": [
              "0.005482555466613692"
            ]
          },
          "metadata": {
            "tags": []
          },
          "execution_count": 89
        }
      ]
    },
    {
      "cell_type": "code",
      "metadata": {
        "colab": {
          "base_uri": "https://localhost:8080/"
        },
        "id": "kgfF7Gsn-KgW",
        "outputId": "e991345e-073f-45eb-d165-36d1e07c3dea"
      },
      "source": [
        "print(lin_reg_2_R2)\n",
        "lin_reg_metrics(lin_reg_2, X_test.drop(['store_en'], axis = 1), y_test)"
      ],
      "execution_count": 90,
      "outputs": [
        {
          "output_type": "stream",
          "text": [
            "0.005482555466613692\n"
          ],
          "name": "stdout"
        },
        {
          "output_type": "execute_result",
          "data": {
            "text/plain": [
              "(-0.016163751048870356, -0.03714648337141346)"
            ]
          },
          "metadata": {
            "tags": []
          },
          "execution_count": 90
        }
      ]
    },
    {
      "cell_type": "markdown",
      "metadata": {
        "id": "pT-uzgvK-KgX"
      },
      "source": [
        "########## CALCULATE ROOT MEAN SQUARED ERROR ##########"
      ]
    },
    {
      "cell_type": "code",
      "metadata": {
        "colab": {
          "base_uri": "https://localhost:8080/"
        },
        "id": "wtl_geUI-Kgc",
        "outputId": "4a96e221-7f94-4df6-c217-184d30c61f70"
      },
      "source": [
        "np.sqrt(((lin_reg_2.predict(X_test.drop(['store_en'], axis = 1)) - y_test)**2).mean())"
      ],
      "execution_count": 91,
      "outputs": [
        {
          "output_type": "execute_result",
          "data": {
            "text/plain": [
              "5.5867419273971874"
            ]
          },
          "metadata": {
            "tags": []
          },
          "execution_count": 91
        }
      ]
    },
    {
      "cell_type": "code",
      "metadata": {
        "colab": {
          "base_uri": "https://localhost:8080/"
        },
        "id": "4lvLen1P-Kgd",
        "outputId": "3173bd40-aea4-4f13-cb38-b3abcabb6a9a"
      },
      "source": [
        "# CALCULATE MAE\n",
        "abs(lin_reg_2.predict(X_test.drop(['store_en'], axis = 1)) - y_test).mean()"
      ],
      "execution_count": 92,
      "outputs": [
        {
          "output_type": "execute_result",
          "data": {
            "text/plain": [
              "4.791240326922722"
            ]
          },
          "metadata": {
            "tags": []
          },
          "execution_count": 92
        }
      ]
    },
    {
      "cell_type": "markdown",
      "metadata": {
        "id": "faJRJwY0-Kge"
      },
      "source": [
        "Linear Regression with 8 Variables:\n",
        "* RMSE : 5.588574362777771\n",
        "* MAE : 4.793166939527237\n",
        "\n",
        "Linear Regression with 7 Variables:\n",
        "* RMSE : 5.586741927397188\n",
        "* MAE : 4.791240326922718\n",
        "\n",
        "In conclusion:\n",
        "* Linear Regression would be used under the assumption of the existence of strongly and linearly correlated independent variables with the target variable.\n",
        "* As we can see from the correlation matrix, there is no strong correlation with the target variable.\n",
        "* Even though we have excluded a variable which had a weak correlation (store_en), both of the MAE and RMSE only decreased a little bit\n",
        "* Due to lack of correlation of the predictors with the target, we would not choose this model and we should try to train with other models.\n",
        "* We can conclude that using this model is under"
      ]
    },
    {
      "cell_type": "markdown",
      "metadata": {
        "id": "0JlwA2HE-Kgg"
      },
      "source": [
        "### Polynomial Regression"
      ]
    },
    {
      "cell_type": "code",
      "metadata": {
        "id": "CwNhtQiu-Kgg"
      },
      "source": [
        "def poly_regression(X_train, y_train, X_test, y_test, degree_up_to = 2, exclude_some = True, exclude_cols = []):\n",
        "    \n",
        "    fin_dict = {'degree_num':[],\n",
        "                'RMSE_training':[],\n",
        "                'RMSE_validation':[],\n",
        "                'MAE_training':[],\n",
        "                'MAE_validation':[]\n",
        "               }\n",
        "    exclude_dict = {'degree_num':[],\n",
        "                    'RMSE_training':[],\n",
        "                    'RMSE_validation':[],\n",
        "                    'MAE_training':[],\n",
        "                    'MAE_validation':[]\n",
        "                   }\n",
        "    \n",
        "    for i in range(1, degree_up_to+1):\n",
        "        poly_reg = PolynomialFeatures(degree = i)\n",
        "        \n",
        "        X_train_poly = poly_reg.fit_transform(X_train)\n",
        "        X_test_poly = poly_reg.fit_transform(X_test)\n",
        "        \n",
        "        pol_reg = LinearRegression(normalize=True)\n",
        "        pol_reg.fit(X_train_poly, y_train)\n",
        "        \n",
        "        fin_dict['degree_num'].append(i)\n",
        "        fin_dict['RMSE_training'].append(np.sqrt(((pol_reg.predict(X_train_poly) - y_train)**2).mean()))\n",
        "        fin_dict['RMSE_validation'].append(np.sqrt(((pol_reg.predict(X_test_poly) - y_test)**2).mean()))\n",
        "        fin_dict['MAE_training'].append(abs(pol_reg.predict(X_train_poly) - y_train).mean())\n",
        "        fin_dict['MAE_validation'].append(abs(pol_reg.predict(X_test_poly) - y_test).mean())\n",
        "        \n",
        "    if exclude_some:\n",
        "        X_train_ex = X_train.drop(exclude_cols, axis = 1)\n",
        "        X_test_ex = X_test.drop(exclude_cols, axis = 1)\n",
        "        \n",
        "        for i in range(1, degree_up_to+1):\n",
        "            poly_reg_ex = PolynomialFeatures(degree = i)\n",
        "\n",
        "            X_train_poly_ex = poly_reg_ex.fit_transform(X_train_ex)\n",
        "            X_test_poly_ex = poly_reg_ex.fit_transform(X_test_ex)\n",
        "\n",
        "            pol_reg_ex = LinearRegression(normalize=True)\n",
        "            pol_reg_ex.fit(X_train_poly_ex, y_train)\n",
        "\n",
        "            exclude_dict['degree_num'].append(i)\n",
        "            exclude_dict['RMSE_training'].append(np.sqrt(((pol_reg_ex.predict(X_train_poly_ex) - y_train)**2).mean()))\n",
        "            exclude_dict['RMSE_validation'].append(np.sqrt(((pol_reg_ex.predict(X_test_poly_ex) - y_test)**2).mean()))\n",
        "            exclude_dict['MAE_training'].append(abs(pol_reg_ex.predict(X_train_poly_ex) - y_train).mean())\n",
        "            exclude_dict['MAE_validation'].append(abs(pol_reg_ex.predict(X_test_poly_ex) - y_test).mean())\n",
        "            \n",
        "        return (pd.DataFrame(fin_dict), pd.DataFrame(exclude_dict))\n",
        "    else:\n",
        "        return pd.DataFrame(fin_dict)"
      ],
      "execution_count": 93,
      "outputs": []
    },
    {
      "cell_type": "code",
      "metadata": {
        "id": "QNFXFlmj-Kgh"
      },
      "source": [
        "ori_df, exclude_df = poly_regression(X_train, y_train, X_test, y_test, degree_up_to=10, \n",
        "                                     exclude_some=True, exclude_cols=['store_en'])"
      ],
      "execution_count": 94,
      "outputs": []
    },
    {
      "cell_type": "code",
      "metadata": {
        "colab": {
          "base_uri": "https://localhost:8080/",
          "height": 542
        },
        "id": "iP7mnjXv-Kgj",
        "outputId": "f926f913-a57d-449a-f487-ed3e6a6ea67a"
      },
      "source": [
        "fig = go.Figure()\n",
        "\n",
        "fig.add_trace(go.Scatter(x = ori_df['degree_num'], y = ori_df['RMSE_training'], name = 'RMSE Training',\n",
        "                        mode = 'lines+markers'))\n",
        "fig.add_trace(go.Scatter(x = ori_df['degree_num'], y = ori_df['RMSE_validation'], name = 'RMSE Validation',\n",
        "                        mode = 'lines+markers'))\n",
        "fig.add_trace(go.Scatter(x = ori_df['degree_num'], y = ori_df['MAE_training'], name = 'MAE Training',\n",
        "                        mode = 'lines+markers'))\n",
        "fig.add_trace(go.Scatter(x = ori_df['degree_num'], y = ori_df['MAE_validation'], name = 'MAE Validation',\n",
        "                        mode = 'lines+markers'))\n",
        "\n",
        "fig.update_layout(title_text = 'Polynomial Model Error Evaluation (RMSE vs MAE) on Original DataFrame',\n",
        "                 xaxis_title = 'Polynomial Degree',\n",
        "                 yaxis_title = 'Error',\n",
        "                  legend_orientation = 'h',\n",
        "                   legend=dict(x=0, y=1.1))\n",
        "\n",
        "fig.show()"
      ],
      "execution_count": 95,
      "outputs": [
        {
          "output_type": "display_data",
          "data": {
            "text/html": [
              "<html>\n",
              "<head><meta charset=\"utf-8\" /></head>\n",
              "<body>\n",
              "    <div>\n",
              "            <script src=\"https://cdnjs.cloudflare.com/ajax/libs/mathjax/2.7.5/MathJax.js?config=TeX-AMS-MML_SVG\"></script><script type=\"text/javascript\">if (window.MathJax) {MathJax.Hub.Config({SVG: {font: \"STIX-Web\"}});}</script>\n",
              "                <script type=\"text/javascript\">window.PlotlyConfig = {MathJaxConfig: 'local'};</script>\n",
              "        <script src=\"https://cdn.plot.ly/plotly-latest.min.js\"></script>    \n",
              "            <div id=\"5d0764a2-ef96-4d89-9b3c-6a81733cc06d\" class=\"plotly-graph-div\" style=\"height:525px; width:100%;\"></div>\n",
              "            <script type=\"text/javascript\">\n",
              "                \n",
              "                    window.PLOTLYENV=window.PLOTLYENV || {};\n",
              "                    \n",
              "                if (document.getElementById(\"5d0764a2-ef96-4d89-9b3c-6a81733cc06d\")) {\n",
              "                    Plotly.newPlot(\n",
              "                        '5d0764a2-ef96-4d89-9b3c-6a81733cc06d',\n",
              "                        [{\"mode\": \"lines+markers\", \"name\": \"RMSE Training\", \"type\": \"scatter\", \"x\": [1, 2, 3, 4, 5, 6, 7, 8, 9, 10], \"y\": [5.824624445932359, 5.760014613882367, 5.557213697230271, 4.973824427959386, 3.3572422664682264, 5.540148054804816e-12, 1.3677807615243276e-12, 9.604355916856807e-13, 1.1500854317713285e-12, 8.983713559591371e-13]}, {\"mode\": \"lines+markers\", \"name\": \"RMSE Validation\", \"type\": \"scatter\", \"x\": [1, 2, 3, 4, 5, 6, 7, 8, 9, 10], \"y\": [5.588574362777771, 5.697004830711813, 6.088258264536685, 7.139982109841333, 13.74329960087213, 48.72808602575914, 42.04299399453698, 41.16998071151004, 42.012686962428106, 44.273907965864574]}, {\"mode\": \"lines+markers\", \"name\": \"MAE Training\", \"type\": \"scatter\", \"x\": [1, 2, 3, 4, 5, 6, 7, 8, 9, 10], \"y\": [5.045974041259088, 4.963668651352203, 4.715245889775084, 4.134062899044287, 2.581270271632809, 4.3491875165767505e-12, 9.102656944314135e-13, 5.88006131809028e-13, 8.224833135318083e-13, 5.662992305321751e-13]}, {\"mode\": \"lines+markers\", \"name\": \"MAE Validation\", \"type\": \"scatter\", \"x\": [1, 2, 3, 4, 5, 6, 7, 8, 9, 10], \"y\": [4.793166939527236, 4.860577915950983, 5.189350633868567, 5.763872539619204, 9.178188647114041, 29.58197036947994, 25.81287448721515, 25.0835426764491, 25.485982384105224, 26.438152749212588]}],\n",
              "                        {\"legend\": {\"orientation\": \"h\", \"x\": 0, \"y\": 1.1}, \"template\": {\"data\": {\"bar\": [{\"error_x\": {\"color\": \"#2a3f5f\"}, \"error_y\": {\"color\": \"#2a3f5f\"}, \"marker\": {\"line\": {\"color\": \"#E5ECF6\", \"width\": 0.5}}, \"type\": \"bar\"}], \"barpolar\": [{\"marker\": {\"line\": {\"color\": \"#E5ECF6\", \"width\": 0.5}}, \"type\": \"barpolar\"}], \"carpet\": [{\"aaxis\": {\"endlinecolor\": \"#2a3f5f\", \"gridcolor\": \"white\", \"linecolor\": \"white\", \"minorgridcolor\": \"white\", \"startlinecolor\": \"#2a3f5f\"}, \"baxis\": {\"endlinecolor\": \"#2a3f5f\", \"gridcolor\": \"white\", \"linecolor\": \"white\", \"minorgridcolor\": \"white\", \"startlinecolor\": \"#2a3f5f\"}, \"type\": \"carpet\"}], \"choropleth\": [{\"colorbar\": {\"outlinewidth\": 0, \"ticks\": \"\"}, \"type\": \"choropleth\"}], \"contour\": [{\"colorbar\": {\"outlinewidth\": 0, \"ticks\": \"\"}, \"colorscale\": [[0.0, \"#0d0887\"], [0.1111111111111111, \"#46039f\"], [0.2222222222222222, \"#7201a8\"], [0.3333333333333333, \"#9c179e\"], [0.4444444444444444, \"#bd3786\"], [0.5555555555555556, \"#d8576b\"], [0.6666666666666666, \"#ed7953\"], [0.7777777777777778, \"#fb9f3a\"], [0.8888888888888888, \"#fdca26\"], [1.0, \"#f0f921\"]], \"type\": \"contour\"}], \"contourcarpet\": [{\"colorbar\": {\"outlinewidth\": 0, \"ticks\": \"\"}, \"type\": \"contourcarpet\"}], \"heatmap\": [{\"colorbar\": {\"outlinewidth\": 0, \"ticks\": \"\"}, \"colorscale\": [[0.0, \"#0d0887\"], [0.1111111111111111, \"#46039f\"], [0.2222222222222222, \"#7201a8\"], [0.3333333333333333, \"#9c179e\"], [0.4444444444444444, \"#bd3786\"], [0.5555555555555556, \"#d8576b\"], [0.6666666666666666, \"#ed7953\"], [0.7777777777777778, \"#fb9f3a\"], [0.8888888888888888, \"#fdca26\"], [1.0, \"#f0f921\"]], \"type\": \"heatmap\"}], \"heatmapgl\": [{\"colorbar\": {\"outlinewidth\": 0, \"ticks\": \"\"}, \"colorscale\": [[0.0, \"#0d0887\"], [0.1111111111111111, \"#46039f\"], [0.2222222222222222, \"#7201a8\"], [0.3333333333333333, \"#9c179e\"], [0.4444444444444444, \"#bd3786\"], [0.5555555555555556, \"#d8576b\"], [0.6666666666666666, \"#ed7953\"], [0.7777777777777778, \"#fb9f3a\"], [0.8888888888888888, \"#fdca26\"], [1.0, \"#f0f921\"]], \"type\": \"heatmapgl\"}], \"histogram\": [{\"marker\": {\"colorbar\": {\"outlinewidth\": 0, \"ticks\": \"\"}}, \"type\": \"histogram\"}], \"histogram2d\": [{\"colorbar\": {\"outlinewidth\": 0, \"ticks\": \"\"}, \"colorscale\": [[0.0, \"#0d0887\"], [0.1111111111111111, \"#46039f\"], [0.2222222222222222, \"#7201a8\"], [0.3333333333333333, \"#9c179e\"], [0.4444444444444444, \"#bd3786\"], [0.5555555555555556, \"#d8576b\"], [0.6666666666666666, \"#ed7953\"], [0.7777777777777778, \"#fb9f3a\"], [0.8888888888888888, \"#fdca26\"], [1.0, \"#f0f921\"]], \"type\": \"histogram2d\"}], \"histogram2dcontour\": [{\"colorbar\": {\"outlinewidth\": 0, \"ticks\": \"\"}, \"colorscale\": [[0.0, \"#0d0887\"], [0.1111111111111111, \"#46039f\"], [0.2222222222222222, \"#7201a8\"], [0.3333333333333333, \"#9c179e\"], [0.4444444444444444, \"#bd3786\"], [0.5555555555555556, \"#d8576b\"], [0.6666666666666666, \"#ed7953\"], [0.7777777777777778, \"#fb9f3a\"], [0.8888888888888888, \"#fdca26\"], [1.0, \"#f0f921\"]], \"type\": \"histogram2dcontour\"}], \"mesh3d\": [{\"colorbar\": {\"outlinewidth\": 0, \"ticks\": \"\"}, \"type\": \"mesh3d\"}], \"parcoords\": [{\"line\": {\"colorbar\": {\"outlinewidth\": 0, \"ticks\": \"\"}}, \"type\": \"parcoords\"}], \"pie\": [{\"automargin\": true, \"type\": \"pie\"}], \"scatter\": [{\"marker\": {\"colorbar\": {\"outlinewidth\": 0, \"ticks\": \"\"}}, \"type\": \"scatter\"}], \"scatter3d\": [{\"line\": {\"colorbar\": {\"outlinewidth\": 0, \"ticks\": \"\"}}, \"marker\": {\"colorbar\": {\"outlinewidth\": 0, \"ticks\": \"\"}}, \"type\": \"scatter3d\"}], \"scattercarpet\": [{\"marker\": {\"colorbar\": {\"outlinewidth\": 0, \"ticks\": \"\"}}, \"type\": \"scattercarpet\"}], \"scattergeo\": [{\"marker\": {\"colorbar\": {\"outlinewidth\": 0, \"ticks\": \"\"}}, \"type\": \"scattergeo\"}], \"scattergl\": [{\"marker\": {\"colorbar\": {\"outlinewidth\": 0, \"ticks\": \"\"}}, \"type\": \"scattergl\"}], \"scattermapbox\": [{\"marker\": {\"colorbar\": {\"outlinewidth\": 0, \"ticks\": \"\"}}, \"type\": \"scattermapbox\"}], \"scatterpolar\": [{\"marker\": {\"colorbar\": {\"outlinewidth\": 0, \"ticks\": \"\"}}, \"type\": \"scatterpolar\"}], \"scatterpolargl\": [{\"marker\": {\"colorbar\": {\"outlinewidth\": 0, \"ticks\": \"\"}}, \"type\": \"scatterpolargl\"}], \"scatterternary\": [{\"marker\": {\"colorbar\": {\"outlinewidth\": 0, \"ticks\": \"\"}}, \"type\": \"scatterternary\"}], \"surface\": [{\"colorbar\": {\"outlinewidth\": 0, \"ticks\": \"\"}, \"colorscale\": [[0.0, \"#0d0887\"], [0.1111111111111111, \"#46039f\"], [0.2222222222222222, \"#7201a8\"], [0.3333333333333333, \"#9c179e\"], [0.4444444444444444, \"#bd3786\"], [0.5555555555555556, \"#d8576b\"], [0.6666666666666666, \"#ed7953\"], [0.7777777777777778, \"#fb9f3a\"], [0.8888888888888888, \"#fdca26\"], [1.0, \"#f0f921\"]], \"type\": \"surface\"}], \"table\": [{\"cells\": {\"fill\": {\"color\": \"#EBF0F8\"}, \"line\": {\"color\": \"white\"}}, \"header\": {\"fill\": {\"color\": \"#C8D4E3\"}, \"line\": {\"color\": \"white\"}}, \"type\": \"table\"}]}, \"layout\": {\"annotationdefaults\": {\"arrowcolor\": \"#2a3f5f\", \"arrowhead\": 0, \"arrowwidth\": 1}, \"coloraxis\": {\"colorbar\": {\"outlinewidth\": 0, \"ticks\": \"\"}}, \"colorscale\": {\"diverging\": [[0, \"#8e0152\"], [0.1, \"#c51b7d\"], [0.2, \"#de77ae\"], [0.3, \"#f1b6da\"], [0.4, \"#fde0ef\"], [0.5, \"#f7f7f7\"], [0.6, \"#e6f5d0\"], [0.7, \"#b8e186\"], [0.8, \"#7fbc41\"], [0.9, \"#4d9221\"], [1, \"#276419\"]], \"sequential\": [[0.0, \"#0d0887\"], [0.1111111111111111, \"#46039f\"], [0.2222222222222222, \"#7201a8\"], [0.3333333333333333, \"#9c179e\"], [0.4444444444444444, \"#bd3786\"], [0.5555555555555556, \"#d8576b\"], [0.6666666666666666, \"#ed7953\"], [0.7777777777777778, \"#fb9f3a\"], [0.8888888888888888, \"#fdca26\"], [1.0, \"#f0f921\"]], \"sequentialminus\": [[0.0, \"#0d0887\"], [0.1111111111111111, \"#46039f\"], [0.2222222222222222, \"#7201a8\"], [0.3333333333333333, \"#9c179e\"], [0.4444444444444444, \"#bd3786\"], [0.5555555555555556, \"#d8576b\"], [0.6666666666666666, \"#ed7953\"], [0.7777777777777778, \"#fb9f3a\"], [0.8888888888888888, \"#fdca26\"], [1.0, \"#f0f921\"]]}, \"colorway\": [\"#636efa\", \"#EF553B\", \"#00cc96\", \"#ab63fa\", \"#FFA15A\", \"#19d3f3\", \"#FF6692\", \"#B6E880\", \"#FF97FF\", \"#FECB52\"], \"font\": {\"color\": \"#2a3f5f\"}, \"geo\": {\"bgcolor\": \"white\", \"lakecolor\": \"white\", \"landcolor\": \"#E5ECF6\", \"showlakes\": true, \"showland\": true, \"subunitcolor\": \"white\"}, \"hoverlabel\": {\"align\": \"left\"}, \"hovermode\": \"closest\", \"mapbox\": {\"style\": \"light\"}, \"paper_bgcolor\": \"white\", \"plot_bgcolor\": \"#E5ECF6\", \"polar\": {\"angularaxis\": {\"gridcolor\": \"white\", \"linecolor\": \"white\", \"ticks\": \"\"}, \"bgcolor\": \"#E5ECF6\", \"radialaxis\": {\"gridcolor\": \"white\", \"linecolor\": \"white\", \"ticks\": \"\"}}, \"scene\": {\"xaxis\": {\"backgroundcolor\": \"#E5ECF6\", \"gridcolor\": \"white\", \"gridwidth\": 2, \"linecolor\": \"white\", \"showbackground\": true, \"ticks\": \"\", \"zerolinecolor\": \"white\"}, \"yaxis\": {\"backgroundcolor\": \"#E5ECF6\", \"gridcolor\": \"white\", \"gridwidth\": 2, \"linecolor\": \"white\", \"showbackground\": true, \"ticks\": \"\", \"zerolinecolor\": \"white\"}, \"zaxis\": {\"backgroundcolor\": \"#E5ECF6\", \"gridcolor\": \"white\", \"gridwidth\": 2, \"linecolor\": \"white\", \"showbackground\": true, \"ticks\": \"\", \"zerolinecolor\": \"white\"}}, \"shapedefaults\": {\"line\": {\"color\": \"#2a3f5f\"}}, \"ternary\": {\"aaxis\": {\"gridcolor\": \"white\", \"linecolor\": \"white\", \"ticks\": \"\"}, \"baxis\": {\"gridcolor\": \"white\", \"linecolor\": \"white\", \"ticks\": \"\"}, \"bgcolor\": \"#E5ECF6\", \"caxis\": {\"gridcolor\": \"white\", \"linecolor\": \"white\", \"ticks\": \"\"}}, \"title\": {\"x\": 0.05}, \"xaxis\": {\"automargin\": true, \"gridcolor\": \"white\", \"linecolor\": \"white\", \"ticks\": \"\", \"title\": {\"standoff\": 15}, \"zerolinecolor\": \"white\", \"zerolinewidth\": 2}, \"yaxis\": {\"automargin\": true, \"gridcolor\": \"white\", \"linecolor\": \"white\", \"ticks\": \"\", \"title\": {\"standoff\": 15}, \"zerolinecolor\": \"white\", \"zerolinewidth\": 2}}}, \"title\": {\"text\": \"Polynomial Model Error Evaluation (RMSE vs MAE) on Original DataFrame\"}, \"xaxis\": {\"title\": {\"text\": \"Polynomial Degree\"}}, \"yaxis\": {\"title\": {\"text\": \"Error\"}}},\n",
              "                        {\"responsive\": true}\n",
              "                    ).then(function(){\n",
              "                            \n",
              "var gd = document.getElementById('5d0764a2-ef96-4d89-9b3c-6a81733cc06d');\n",
              "var x = new MutationObserver(function (mutations, observer) {{\n",
              "        var display = window.getComputedStyle(gd).display;\n",
              "        if (!display || display === 'none') {{\n",
              "            console.log([gd, 'removed!']);\n",
              "            Plotly.purge(gd);\n",
              "            observer.disconnect();\n",
              "        }}\n",
              "}});\n",
              "\n",
              "// Listen for the removal of the full notebook cells\n",
              "var notebookContainer = gd.closest('#notebook-container');\n",
              "if (notebookContainer) {{\n",
              "    x.observe(notebookContainer, {childList: true});\n",
              "}}\n",
              "\n",
              "// Listen for the clearing of the current output cell\n",
              "var outputEl = gd.closest('.output');\n",
              "if (outputEl) {{\n",
              "    x.observe(outputEl, {childList: true});\n",
              "}}\n",
              "\n",
              "                        })\n",
              "                };\n",
              "                \n",
              "            </script>\n",
              "        </div>\n",
              "</body>\n",
              "</html>"
            ]
          },
          "metadata": {
            "tags": []
          }
        }
      ]
    },
    {
      "cell_type": "code",
      "metadata": {
        "colab": {
          "base_uri": "https://localhost:8080/",
          "height": 542
        },
        "id": "FTw77SrF-Kgk",
        "outputId": "e59439b1-7b1d-4906-9d08-8eba55c3e290"
      },
      "source": [
        "fig = go.Figure()\n",
        "\n",
        "fig.add_trace(go.Scatter(x = exclude_df['degree_num'], y = exclude_df['RMSE_training'], name = 'RMSE Training',\n",
        "                        mode = 'lines+markers'))\n",
        "fig.add_trace(go.Scatter(x = exclude_df['degree_num'], y = exclude_df['RMSE_validation'], name = 'RMSE Validation',\n",
        "                        mode = 'lines+markers'))\n",
        "fig.add_trace(go.Scatter(x = exclude_df['degree_num'], y = exclude_df['MAE_training'], name = 'MAE Training',\n",
        "                        mode = 'lines+markers'))\n",
        "fig.add_trace(go.Scatter(x = exclude_df['degree_num'], y = exclude_df['MAE_validation'], name = 'MAE Validation',\n",
        "                        mode = 'lines+markers'))\n",
        "\n",
        "fig.update_layout(title_text = 'Polynomial Model Error Evaluation (RMSE vs MAE) Without \"store\" column',\n",
        "                 xaxis_title = 'Polynomial Degree',\n",
        "                 yaxis_title = 'Error',\n",
        "                  legend_orientation = 'h',\n",
        "                   legend=dict(x=0, y=1.1))\n",
        "\n",
        "fig.show()"
      ],
      "execution_count": 96,
      "outputs": [
        {
          "output_type": "display_data",
          "data": {
            "text/html": [
              "<html>\n",
              "<head><meta charset=\"utf-8\" /></head>\n",
              "<body>\n",
              "    <div>\n",
              "            <script src=\"https://cdnjs.cloudflare.com/ajax/libs/mathjax/2.7.5/MathJax.js?config=TeX-AMS-MML_SVG\"></script><script type=\"text/javascript\">if (window.MathJax) {MathJax.Hub.Config({SVG: {font: \"STIX-Web\"}});}</script>\n",
              "                <script type=\"text/javascript\">window.PlotlyConfig = {MathJaxConfig: 'local'};</script>\n",
              "        <script src=\"https://cdn.plot.ly/plotly-latest.min.js\"></script>    \n",
              "            <div id=\"f7cadb8e-1bba-47ec-919b-31c65d96541d\" class=\"plotly-graph-div\" style=\"height:525px; width:100%;\"></div>\n",
              "            <script type=\"text/javascript\">\n",
              "                \n",
              "                    window.PLOTLYENV=window.PLOTLYENV || {};\n",
              "                    \n",
              "                if (document.getElementById(\"f7cadb8e-1bba-47ec-919b-31c65d96541d\")) {\n",
              "                    Plotly.newPlot(\n",
              "                        'f7cadb8e-1bba-47ec-919b-31c65d96541d',\n",
              "                        [{\"mode\": \"lines+markers\", \"name\": \"RMSE Training\", \"type\": \"scatter\", \"x\": [1, 2, 3, 4, 5, 6, 7, 8, 9, 10], \"y\": [5.824823587623376, 5.775538257695426, 5.6436312896753185, 5.270281733665631, 4.604156768944269, 3.249023453266201, 4.343765291611764e-11, 1.809986236552835e-11, 7.002171574956443e-12, 6.614424107721137e-12]}, {\"mode\": \"lines+markers\", \"name\": \"RMSE Validation\", \"type\": \"scatter\", \"x\": [1, 2, 3, 4, 5, 6, 7, 8, 9, 10], \"y\": [5.586741927397187, 5.702868722100766, 5.915223732164368, 6.5568372211708015, 8.154052779464282, 19.40646056840473, 199.36854002103973, 153.2101314825135, 148.22495297000245, 158.43130446089714]}, {\"mode\": \"lines+markers\", \"name\": \"MAE Training\", \"type\": \"scatter\", \"x\": [1, 2, 3, 4, 5, 6, 7, 8, 9, 10], \"y\": [5.0464172592169865, 4.988084962376443, 4.835012946171427, 4.4067953849163715, 3.737453840852455, 2.3985670511896178, 2.6675014036137507e-11, 1.2610386659432519e-11, 4.628455913817025e-12, 3.2129851130855276e-12]}, {\"mode\": \"lines+markers\", \"name\": \"MAE Validation\", \"type\": \"scatter\", \"x\": [1, 2, 3, 4, 5, 6, 7, 8, 9, 10], \"y\": [4.791240326922721, 4.8804982458040085, 5.041279810341994, 5.4403775503816565, 6.616919895005162, 12.405529538904899, 107.18740981673659, 80.6690188040471, 75.71032742282254, 76.63443494406313]}],\n",
              "                        {\"legend\": {\"orientation\": \"h\", \"x\": 0, \"y\": 1.1}, \"template\": {\"data\": {\"bar\": [{\"error_x\": {\"color\": \"#2a3f5f\"}, \"error_y\": {\"color\": \"#2a3f5f\"}, \"marker\": {\"line\": {\"color\": \"#E5ECF6\", \"width\": 0.5}}, \"type\": \"bar\"}], \"barpolar\": [{\"marker\": {\"line\": {\"color\": \"#E5ECF6\", \"width\": 0.5}}, \"type\": \"barpolar\"}], \"carpet\": [{\"aaxis\": {\"endlinecolor\": \"#2a3f5f\", \"gridcolor\": \"white\", \"linecolor\": \"white\", \"minorgridcolor\": \"white\", \"startlinecolor\": \"#2a3f5f\"}, \"baxis\": {\"endlinecolor\": \"#2a3f5f\", \"gridcolor\": \"white\", \"linecolor\": \"white\", \"minorgridcolor\": \"white\", \"startlinecolor\": \"#2a3f5f\"}, \"type\": \"carpet\"}], \"choropleth\": [{\"colorbar\": {\"outlinewidth\": 0, \"ticks\": \"\"}, \"type\": \"choropleth\"}], \"contour\": [{\"colorbar\": {\"outlinewidth\": 0, \"ticks\": \"\"}, \"colorscale\": [[0.0, \"#0d0887\"], [0.1111111111111111, \"#46039f\"], [0.2222222222222222, \"#7201a8\"], [0.3333333333333333, \"#9c179e\"], [0.4444444444444444, \"#bd3786\"], [0.5555555555555556, \"#d8576b\"], [0.6666666666666666, \"#ed7953\"], [0.7777777777777778, \"#fb9f3a\"], [0.8888888888888888, \"#fdca26\"], [1.0, \"#f0f921\"]], \"type\": \"contour\"}], \"contourcarpet\": [{\"colorbar\": {\"outlinewidth\": 0, \"ticks\": \"\"}, \"type\": \"contourcarpet\"}], \"heatmap\": [{\"colorbar\": {\"outlinewidth\": 0, \"ticks\": \"\"}, \"colorscale\": [[0.0, \"#0d0887\"], [0.1111111111111111, \"#46039f\"], [0.2222222222222222, \"#7201a8\"], [0.3333333333333333, \"#9c179e\"], [0.4444444444444444, \"#bd3786\"], [0.5555555555555556, \"#d8576b\"], [0.6666666666666666, \"#ed7953\"], [0.7777777777777778, \"#fb9f3a\"], [0.8888888888888888, \"#fdca26\"], [1.0, \"#f0f921\"]], \"type\": \"heatmap\"}], \"heatmapgl\": [{\"colorbar\": {\"outlinewidth\": 0, \"ticks\": \"\"}, \"colorscale\": [[0.0, \"#0d0887\"], [0.1111111111111111, \"#46039f\"], [0.2222222222222222, \"#7201a8\"], [0.3333333333333333, \"#9c179e\"], [0.4444444444444444, \"#bd3786\"], [0.5555555555555556, \"#d8576b\"], [0.6666666666666666, \"#ed7953\"], [0.7777777777777778, \"#fb9f3a\"], [0.8888888888888888, \"#fdca26\"], [1.0, \"#f0f921\"]], \"type\": \"heatmapgl\"}], \"histogram\": [{\"marker\": {\"colorbar\": {\"outlinewidth\": 0, \"ticks\": \"\"}}, \"type\": \"histogram\"}], \"histogram2d\": [{\"colorbar\": {\"outlinewidth\": 0, \"ticks\": \"\"}, \"colorscale\": [[0.0, \"#0d0887\"], [0.1111111111111111, \"#46039f\"], [0.2222222222222222, \"#7201a8\"], [0.3333333333333333, \"#9c179e\"], [0.4444444444444444, \"#bd3786\"], [0.5555555555555556, \"#d8576b\"], [0.6666666666666666, \"#ed7953\"], [0.7777777777777778, \"#fb9f3a\"], [0.8888888888888888, \"#fdca26\"], [1.0, \"#f0f921\"]], \"type\": \"histogram2d\"}], \"histogram2dcontour\": [{\"colorbar\": {\"outlinewidth\": 0, \"ticks\": \"\"}, \"colorscale\": [[0.0, \"#0d0887\"], [0.1111111111111111, \"#46039f\"], [0.2222222222222222, \"#7201a8\"], [0.3333333333333333, \"#9c179e\"], [0.4444444444444444, \"#bd3786\"], [0.5555555555555556, \"#d8576b\"], [0.6666666666666666, \"#ed7953\"], [0.7777777777777778, \"#fb9f3a\"], [0.8888888888888888, \"#fdca26\"], [1.0, \"#f0f921\"]], \"type\": \"histogram2dcontour\"}], \"mesh3d\": [{\"colorbar\": {\"outlinewidth\": 0, \"ticks\": \"\"}, \"type\": \"mesh3d\"}], \"parcoords\": [{\"line\": {\"colorbar\": {\"outlinewidth\": 0, \"ticks\": \"\"}}, \"type\": \"parcoords\"}], \"pie\": [{\"automargin\": true, \"type\": \"pie\"}], \"scatter\": [{\"marker\": {\"colorbar\": {\"outlinewidth\": 0, \"ticks\": \"\"}}, \"type\": \"scatter\"}], \"scatter3d\": [{\"line\": {\"colorbar\": {\"outlinewidth\": 0, \"ticks\": \"\"}}, \"marker\": {\"colorbar\": {\"outlinewidth\": 0, \"ticks\": \"\"}}, \"type\": \"scatter3d\"}], \"scattercarpet\": [{\"marker\": {\"colorbar\": {\"outlinewidth\": 0, \"ticks\": \"\"}}, \"type\": \"scattercarpet\"}], \"scattergeo\": [{\"marker\": {\"colorbar\": {\"outlinewidth\": 0, \"ticks\": \"\"}}, \"type\": \"scattergeo\"}], \"scattergl\": [{\"marker\": {\"colorbar\": {\"outlinewidth\": 0, \"ticks\": \"\"}}, \"type\": \"scattergl\"}], \"scattermapbox\": [{\"marker\": {\"colorbar\": {\"outlinewidth\": 0, \"ticks\": \"\"}}, \"type\": \"scattermapbox\"}], \"scatterpolar\": [{\"marker\": {\"colorbar\": {\"outlinewidth\": 0, \"ticks\": \"\"}}, \"type\": \"scatterpolar\"}], \"scatterpolargl\": [{\"marker\": {\"colorbar\": {\"outlinewidth\": 0, \"ticks\": \"\"}}, \"type\": \"scatterpolargl\"}], \"scatterternary\": [{\"marker\": {\"colorbar\": {\"outlinewidth\": 0, \"ticks\": \"\"}}, \"type\": \"scatterternary\"}], \"surface\": [{\"colorbar\": {\"outlinewidth\": 0, \"ticks\": \"\"}, \"colorscale\": [[0.0, \"#0d0887\"], [0.1111111111111111, \"#46039f\"], [0.2222222222222222, \"#7201a8\"], [0.3333333333333333, \"#9c179e\"], [0.4444444444444444, \"#bd3786\"], [0.5555555555555556, \"#d8576b\"], [0.6666666666666666, \"#ed7953\"], [0.7777777777777778, \"#fb9f3a\"], [0.8888888888888888, \"#fdca26\"], [1.0, \"#f0f921\"]], \"type\": \"surface\"}], \"table\": [{\"cells\": {\"fill\": {\"color\": \"#EBF0F8\"}, \"line\": {\"color\": \"white\"}}, \"header\": {\"fill\": {\"color\": \"#C8D4E3\"}, \"line\": {\"color\": \"white\"}}, \"type\": \"table\"}]}, \"layout\": {\"annotationdefaults\": {\"arrowcolor\": \"#2a3f5f\", \"arrowhead\": 0, \"arrowwidth\": 1}, \"coloraxis\": {\"colorbar\": {\"outlinewidth\": 0, \"ticks\": \"\"}}, \"colorscale\": {\"diverging\": [[0, \"#8e0152\"], [0.1, \"#c51b7d\"], [0.2, \"#de77ae\"], [0.3, \"#f1b6da\"], [0.4, \"#fde0ef\"], [0.5, \"#f7f7f7\"], [0.6, \"#e6f5d0\"], [0.7, \"#b8e186\"], [0.8, \"#7fbc41\"], [0.9, \"#4d9221\"], [1, \"#276419\"]], \"sequential\": [[0.0, \"#0d0887\"], [0.1111111111111111, \"#46039f\"], [0.2222222222222222, \"#7201a8\"], [0.3333333333333333, \"#9c179e\"], [0.4444444444444444, \"#bd3786\"], [0.5555555555555556, \"#d8576b\"], [0.6666666666666666, \"#ed7953\"], [0.7777777777777778, \"#fb9f3a\"], [0.8888888888888888, \"#fdca26\"], [1.0, \"#f0f921\"]], \"sequentialminus\": [[0.0, \"#0d0887\"], [0.1111111111111111, \"#46039f\"], [0.2222222222222222, \"#7201a8\"], [0.3333333333333333, \"#9c179e\"], [0.4444444444444444, \"#bd3786\"], [0.5555555555555556, \"#d8576b\"], [0.6666666666666666, \"#ed7953\"], [0.7777777777777778, \"#fb9f3a\"], [0.8888888888888888, \"#fdca26\"], [1.0, \"#f0f921\"]]}, \"colorway\": [\"#636efa\", \"#EF553B\", \"#00cc96\", \"#ab63fa\", \"#FFA15A\", \"#19d3f3\", \"#FF6692\", \"#B6E880\", \"#FF97FF\", \"#FECB52\"], \"font\": {\"color\": \"#2a3f5f\"}, \"geo\": {\"bgcolor\": \"white\", \"lakecolor\": \"white\", \"landcolor\": \"#E5ECF6\", \"showlakes\": true, \"showland\": true, \"subunitcolor\": \"white\"}, \"hoverlabel\": {\"align\": \"left\"}, \"hovermode\": \"closest\", \"mapbox\": {\"style\": \"light\"}, \"paper_bgcolor\": \"white\", \"plot_bgcolor\": \"#E5ECF6\", \"polar\": {\"angularaxis\": {\"gridcolor\": \"white\", \"linecolor\": \"white\", \"ticks\": \"\"}, \"bgcolor\": \"#E5ECF6\", \"radialaxis\": {\"gridcolor\": \"white\", \"linecolor\": \"white\", \"ticks\": \"\"}}, \"scene\": {\"xaxis\": {\"backgroundcolor\": \"#E5ECF6\", \"gridcolor\": \"white\", \"gridwidth\": 2, \"linecolor\": \"white\", \"showbackground\": true, \"ticks\": \"\", \"zerolinecolor\": \"white\"}, \"yaxis\": {\"backgroundcolor\": \"#E5ECF6\", \"gridcolor\": \"white\", \"gridwidth\": 2, \"linecolor\": \"white\", \"showbackground\": true, \"ticks\": \"\", \"zerolinecolor\": \"white\"}, \"zaxis\": {\"backgroundcolor\": \"#E5ECF6\", \"gridcolor\": \"white\", \"gridwidth\": 2, \"linecolor\": \"white\", \"showbackground\": true, \"ticks\": \"\", \"zerolinecolor\": \"white\"}}, \"shapedefaults\": {\"line\": {\"color\": \"#2a3f5f\"}}, \"ternary\": {\"aaxis\": {\"gridcolor\": \"white\", \"linecolor\": \"white\", \"ticks\": \"\"}, \"baxis\": {\"gridcolor\": \"white\", \"linecolor\": \"white\", \"ticks\": \"\"}, \"bgcolor\": \"#E5ECF6\", \"caxis\": {\"gridcolor\": \"white\", \"linecolor\": \"white\", \"ticks\": \"\"}}, \"title\": {\"x\": 0.05}, \"xaxis\": {\"automargin\": true, \"gridcolor\": \"white\", \"linecolor\": \"white\", \"ticks\": \"\", \"title\": {\"standoff\": 15}, \"zerolinecolor\": \"white\", \"zerolinewidth\": 2}, \"yaxis\": {\"automargin\": true, \"gridcolor\": \"white\", \"linecolor\": \"white\", \"ticks\": \"\", \"title\": {\"standoff\": 15}, \"zerolinecolor\": \"white\", \"zerolinewidth\": 2}}}, \"title\": {\"text\": \"Polynomial Model Error Evaluation (RMSE vs MAE) Without \\\"store\\\" column\"}, \"xaxis\": {\"title\": {\"text\": \"Polynomial Degree\"}}, \"yaxis\": {\"title\": {\"text\": \"Error\"}}},\n",
              "                        {\"responsive\": true}\n",
              "                    ).then(function(){\n",
              "                            \n",
              "var gd = document.getElementById('f7cadb8e-1bba-47ec-919b-31c65d96541d');\n",
              "var x = new MutationObserver(function (mutations, observer) {{\n",
              "        var display = window.getComputedStyle(gd).display;\n",
              "        if (!display || display === 'none') {{\n",
              "            console.log([gd, 'removed!']);\n",
              "            Plotly.purge(gd);\n",
              "            observer.disconnect();\n",
              "        }}\n",
              "}});\n",
              "\n",
              "// Listen for the removal of the full notebook cells\n",
              "var notebookContainer = gd.closest('#notebook-container');\n",
              "if (notebookContainer) {{\n",
              "    x.observe(notebookContainer, {childList: true});\n",
              "}}\n",
              "\n",
              "// Listen for the clearing of the current output cell\n",
              "var outputEl = gd.closest('.output');\n",
              "if (outputEl) {{\n",
              "    x.observe(outputEl, {childList: true});\n",
              "}}\n",
              "\n",
              "                        })\n",
              "                };\n",
              "                \n",
              "            </script>\n",
              "        </div>\n",
              "</body>\n",
              "</html>"
            ]
          },
          "metadata": {
            "tags": []
          }
        }
      ]
    },
    {
      "cell_type": "markdown",
      "metadata": {
        "id": "Q1LMBX8q-Kgm"
      },
      "source": [
        "### Ridge Regression"
      ]
    },
    {
      "cell_type": "code",
      "metadata": {
        "id": "z-kmTubk-Kgn"
      },
      "source": [
        "def poly_ridge_regression(X_train, y_train, X_test, y_test, degree_up_to = 2, exclude_some = True, exclude_cols = []):\n",
        "    \n",
        "    fin_dict = {'degree_num':[],\n",
        "                'RMSE_training':[],\n",
        "                'RMSE_validation':[],\n",
        "                'MAE_training':[],\n",
        "                'MAE_validation':[]\n",
        "               }\n",
        "    exclude_dict = {'degree_num':[],\n",
        "                    'RMSE_training':[],\n",
        "                    'RMSE_validation':[],\n",
        "                    'MAE_training':[],\n",
        "                    'MAE_validation':[]\n",
        "                   }\n",
        "    \n",
        "    for i in range(1, degree_up_to+1):\n",
        "        poly_reg = PolynomialFeatures(degree = i)\n",
        "        \n",
        "        X_train_poly = poly_reg.fit_transform(X_train)\n",
        "        X_test_poly = poly_reg.fit_transform(X_test)\n",
        "        \n",
        "        pol_reg = Ridge(normalize=True)\n",
        "        pol_reg.fit(X_train_poly, y_train)\n",
        "        \n",
        "        fin_dict['degree_num'].append(i)\n",
        "        fin_dict['RMSE_training'].append(np.sqrt(((pol_reg.predict(X_train_poly) - y_train)**2).mean()))\n",
        "        fin_dict['RMSE_validation'].append(np.sqrt(((pol_reg.predict(X_test_poly) - y_test)**2).mean()))\n",
        "        fin_dict['MAE_training'].append(abs(pol_reg.predict(X_train_poly) - y_train).mean())\n",
        "        fin_dict['MAE_validation'].append(abs(pol_reg.predict(X_test_poly) - y_test).mean())\n",
        "        \n",
        "    if exclude_some:\n",
        "        X_train_ex = X_train.drop(exclude_cols, axis = 1)\n",
        "        X_test_ex = X_test.drop(exclude_cols, axis = 1)\n",
        "        \n",
        "        for i in range(1, degree_up_to+1):\n",
        "            poly_reg_ex = PolynomialFeatures(degree = i)\n",
        "\n",
        "            X_train_poly_ex = poly_reg_ex.fit_transform(X_train_ex)\n",
        "            X_test_poly_ex = poly_reg_ex.fit_transform(X_test_ex)\n",
        "\n",
        "            pol_reg_ex = Ridge(normalize=True)\n",
        "            pol_reg_ex.fit(X_train_poly_ex, y_train)\n",
        "\n",
        "            exclude_dict['degree_num'].append(i)\n",
        "            exclude_dict['RMSE_training'].append(np.sqrt(((pol_reg_ex.predict(X_train_poly_ex) - y_train)**2).mean()))\n",
        "            exclude_dict['RMSE_validation'].append(np.sqrt(((pol_reg_ex.predict(X_test_poly_ex) - y_test)**2).mean()))\n",
        "            exclude_dict['MAE_training'].append(abs(pol_reg_ex.predict(X_train_poly_ex) - y_train).mean())\n",
        "            exclude_dict['MAE_validation'].append(abs(pol_reg_ex.predict(X_test_poly_ex) - y_test).mean())\n",
        "            \n",
        "        return (pd.DataFrame(fin_dict), pd.DataFrame(exclude_dict))\n",
        "    else:\n",
        "        return pd.DataFrame(fin_dict)"
      ],
      "execution_count": 97,
      "outputs": []
    },
    {
      "cell_type": "code",
      "metadata": {
        "id": "IDkAOswb-Kgo"
      },
      "source": [
        "poly_ridge_ori_df, poly_ridge_exclude_df = poly_ridge_regression(X_train, y_train, X_test, y_test, degree_up_to=10, \n",
        "                                             exclude_some=True, exclude_cols=['store_en'])"
      ],
      "execution_count": 98,
      "outputs": []
    },
    {
      "cell_type": "code",
      "metadata": {
        "colab": {
          "base_uri": "https://localhost:8080/",
          "height": 542
        },
        "id": "3JwsQyRh-Kgo",
        "outputId": "258b92c5-4404-4602-93c5-1e9cc6d2ab41"
      },
      "source": [
        "fig = go.Figure()\n",
        "\n",
        "fig.add_trace(go.Scatter(x = poly_ridge_ori_df['degree_num'], y = poly_ridge_ori_df['RMSE_training'], name = 'RMSE Training',\n",
        "                        mode = 'lines+markers'))\n",
        "fig.add_trace(go.Scatter(x = poly_ridge_ori_df['degree_num'], y = poly_ridge_ori_df['RMSE_validation'], name = 'RMSE Validation',\n",
        "                        mode = 'lines+markers'))\n",
        "fig.add_trace(go.Scatter(x = poly_ridge_ori_df['degree_num'], y = poly_ridge_ori_df['MAE_training'], name = 'MAE Training',\n",
        "                        mode = 'lines+markers'))\n",
        "fig.add_trace(go.Scatter(x = poly_ridge_ori_df['degree_num'], y = poly_ridge_ori_df['MAE_validation'], name = 'MAE Validation',\n",
        "                        mode = 'lines+markers'))\n",
        "\n",
        "fig.update_layout(title_text = 'Polynomial Ridge Model Error Evaluation (RMSE vs MAE) on Original DataFrame',\n",
        "                 xaxis_title = 'Polynomial Degree',\n",
        "                 yaxis_title = 'Error',\n",
        "                  legend_orientation = 'h',\n",
        "                   legend=dict(x=0, y=1.1))\n",
        "\n",
        "fig.show()"
      ],
      "execution_count": 99,
      "outputs": [
        {
          "output_type": "display_data",
          "data": {
            "text/html": [
              "<html>\n",
              "<head><meta charset=\"utf-8\" /></head>\n",
              "<body>\n",
              "    <div>\n",
              "            <script src=\"https://cdnjs.cloudflare.com/ajax/libs/mathjax/2.7.5/MathJax.js?config=TeX-AMS-MML_SVG\"></script><script type=\"text/javascript\">if (window.MathJax) {MathJax.Hub.Config({SVG: {font: \"STIX-Web\"}});}</script>\n",
              "                <script type=\"text/javascript\">window.PlotlyConfig = {MathJaxConfig: 'local'};</script>\n",
              "        <script src=\"https://cdn.plot.ly/plotly-latest.min.js\"></script>    \n",
              "            <div id=\"f625f580-4b4b-4587-8ca7-3e681cc6c97e\" class=\"plotly-graph-div\" style=\"height:525px; width:100%;\"></div>\n",
              "            <script type=\"text/javascript\">\n",
              "                \n",
              "                    window.PLOTLYENV=window.PLOTLYENV || {};\n",
              "                    \n",
              "                if (document.getElementById(\"f625f580-4b4b-4587-8ca7-3e681cc6c97e\")) {\n",
              "                    Plotly.newPlot(\n",
              "                        'f625f580-4b4b-4587-8ca7-3e681cc6c97e',\n",
              "                        [{\"mode\": \"lines+markers\", \"name\": \"RMSE Training\", \"type\": \"scatter\", \"x\": [1, 2, 3, 4, 5, 6, 7, 8, 9, 10], \"y\": [5.828952628673845, 5.811515377246501, 5.777580624321582, 5.723014847013185, 5.640389041782418, 5.534538196557348, 5.407502417355772, 5.263387729899299, 5.108288831933305, 4.9455955897019805]}, {\"mode\": \"lines+markers\", \"name\": \"RMSE Validation\", \"type\": \"scatter\", \"x\": [1, 2, 3, 4, 5, 6, 7, 8, 9, 10], \"y\": [5.599616737822901, 5.603071841064974, 5.624950586036761, 5.651694878447105, 5.681656727667551, 5.737268869484257, 5.846366399448237, 6.012460670545781, 6.207555782114027, 6.40744071922509]}, {\"mode\": \"lines+markers\", \"name\": \"MAE Training\", \"type\": \"scatter\", \"x\": [1, 2, 3, 4, 5, 6, 7, 8, 9, 10], \"y\": [5.050643461571409, 5.034684064269978, 4.998233964960718, 4.935719231812988, 4.840904134514827, 4.732029264391918, 4.607936731816791, 4.463019070750153, 4.303434903984755, 4.130807818207319]}, {\"mode\": \"lines+markers\", \"name\": \"MAE Validation\", \"type\": \"scatter\", \"x\": [1, 2, 3, 4, 5, 6, 7, 8, 9, 10], \"y\": [4.806235664869519, 4.808154271047679, 4.828523817631464, 4.854120046361396, 4.873442593130248, 4.912298054219719, 4.984142979312103, 5.080849007669474, 5.177470154684669, 5.268603372712109]}],\n",
              "                        {\"legend\": {\"orientation\": \"h\", \"x\": 0, \"y\": 1.1}, \"template\": {\"data\": {\"bar\": [{\"error_x\": {\"color\": \"#2a3f5f\"}, \"error_y\": {\"color\": \"#2a3f5f\"}, \"marker\": {\"line\": {\"color\": \"#E5ECF6\", \"width\": 0.5}}, \"type\": \"bar\"}], \"barpolar\": [{\"marker\": {\"line\": {\"color\": \"#E5ECF6\", \"width\": 0.5}}, \"type\": \"barpolar\"}], \"carpet\": [{\"aaxis\": {\"endlinecolor\": \"#2a3f5f\", \"gridcolor\": \"white\", \"linecolor\": \"white\", \"minorgridcolor\": \"white\", \"startlinecolor\": \"#2a3f5f\"}, \"baxis\": {\"endlinecolor\": \"#2a3f5f\", \"gridcolor\": \"white\", \"linecolor\": \"white\", \"minorgridcolor\": \"white\", \"startlinecolor\": \"#2a3f5f\"}, \"type\": \"carpet\"}], \"choropleth\": [{\"colorbar\": {\"outlinewidth\": 0, \"ticks\": \"\"}, \"type\": \"choropleth\"}], \"contour\": [{\"colorbar\": {\"outlinewidth\": 0, \"ticks\": \"\"}, \"colorscale\": [[0.0, \"#0d0887\"], [0.1111111111111111, \"#46039f\"], [0.2222222222222222, \"#7201a8\"], [0.3333333333333333, \"#9c179e\"], [0.4444444444444444, \"#bd3786\"], [0.5555555555555556, \"#d8576b\"], [0.6666666666666666, \"#ed7953\"], [0.7777777777777778, \"#fb9f3a\"], [0.8888888888888888, \"#fdca26\"], [1.0, \"#f0f921\"]], \"type\": \"contour\"}], \"contourcarpet\": [{\"colorbar\": {\"outlinewidth\": 0, \"ticks\": \"\"}, \"type\": \"contourcarpet\"}], \"heatmap\": [{\"colorbar\": {\"outlinewidth\": 0, \"ticks\": \"\"}, \"colorscale\": [[0.0, \"#0d0887\"], [0.1111111111111111, \"#46039f\"], [0.2222222222222222, \"#7201a8\"], [0.3333333333333333, \"#9c179e\"], [0.4444444444444444, \"#bd3786\"], [0.5555555555555556, \"#d8576b\"], [0.6666666666666666, \"#ed7953\"], [0.7777777777777778, \"#fb9f3a\"], [0.8888888888888888, \"#fdca26\"], [1.0, \"#f0f921\"]], \"type\": \"heatmap\"}], \"heatmapgl\": [{\"colorbar\": {\"outlinewidth\": 0, \"ticks\": \"\"}, \"colorscale\": [[0.0, \"#0d0887\"], [0.1111111111111111, \"#46039f\"], [0.2222222222222222, \"#7201a8\"], [0.3333333333333333, \"#9c179e\"], [0.4444444444444444, \"#bd3786\"], [0.5555555555555556, \"#d8576b\"], [0.6666666666666666, \"#ed7953\"], [0.7777777777777778, \"#fb9f3a\"], [0.8888888888888888, \"#fdca26\"], [1.0, \"#f0f921\"]], \"type\": \"heatmapgl\"}], \"histogram\": [{\"marker\": {\"colorbar\": {\"outlinewidth\": 0, \"ticks\": \"\"}}, \"type\": \"histogram\"}], \"histogram2d\": [{\"colorbar\": {\"outlinewidth\": 0, \"ticks\": \"\"}, \"colorscale\": [[0.0, \"#0d0887\"], [0.1111111111111111, \"#46039f\"], [0.2222222222222222, \"#7201a8\"], [0.3333333333333333, \"#9c179e\"], [0.4444444444444444, \"#bd3786\"], [0.5555555555555556, \"#d8576b\"], [0.6666666666666666, \"#ed7953\"], [0.7777777777777778, \"#fb9f3a\"], [0.8888888888888888, \"#fdca26\"], [1.0, \"#f0f921\"]], \"type\": \"histogram2d\"}], \"histogram2dcontour\": [{\"colorbar\": {\"outlinewidth\": 0, \"ticks\": \"\"}, \"colorscale\": [[0.0, \"#0d0887\"], [0.1111111111111111, \"#46039f\"], [0.2222222222222222, \"#7201a8\"], [0.3333333333333333, \"#9c179e\"], [0.4444444444444444, \"#bd3786\"], [0.5555555555555556, \"#d8576b\"], [0.6666666666666666, \"#ed7953\"], [0.7777777777777778, \"#fb9f3a\"], [0.8888888888888888, \"#fdca26\"], [1.0, \"#f0f921\"]], \"type\": \"histogram2dcontour\"}], \"mesh3d\": [{\"colorbar\": {\"outlinewidth\": 0, \"ticks\": \"\"}, \"type\": \"mesh3d\"}], \"parcoords\": [{\"line\": {\"colorbar\": {\"outlinewidth\": 0, \"ticks\": \"\"}}, \"type\": \"parcoords\"}], \"pie\": [{\"automargin\": true, \"type\": \"pie\"}], \"scatter\": [{\"marker\": {\"colorbar\": {\"outlinewidth\": 0, \"ticks\": \"\"}}, \"type\": \"scatter\"}], \"scatter3d\": [{\"line\": {\"colorbar\": {\"outlinewidth\": 0, \"ticks\": \"\"}}, \"marker\": {\"colorbar\": {\"outlinewidth\": 0, \"ticks\": \"\"}}, \"type\": \"scatter3d\"}], \"scattercarpet\": [{\"marker\": {\"colorbar\": {\"outlinewidth\": 0, \"ticks\": \"\"}}, \"type\": \"scattercarpet\"}], \"scattergeo\": [{\"marker\": {\"colorbar\": {\"outlinewidth\": 0, \"ticks\": \"\"}}, \"type\": \"scattergeo\"}], \"scattergl\": [{\"marker\": {\"colorbar\": {\"outlinewidth\": 0, \"ticks\": \"\"}}, \"type\": \"scattergl\"}], \"scattermapbox\": [{\"marker\": {\"colorbar\": {\"outlinewidth\": 0, \"ticks\": \"\"}}, \"type\": \"scattermapbox\"}], \"scatterpolar\": [{\"marker\": {\"colorbar\": {\"outlinewidth\": 0, \"ticks\": \"\"}}, \"type\": \"scatterpolar\"}], \"scatterpolargl\": [{\"marker\": {\"colorbar\": {\"outlinewidth\": 0, \"ticks\": \"\"}}, \"type\": \"scatterpolargl\"}], \"scatterternary\": [{\"marker\": {\"colorbar\": {\"outlinewidth\": 0, \"ticks\": \"\"}}, \"type\": \"scatterternary\"}], \"surface\": [{\"colorbar\": {\"outlinewidth\": 0, \"ticks\": \"\"}, \"colorscale\": [[0.0, \"#0d0887\"], [0.1111111111111111, \"#46039f\"], [0.2222222222222222, \"#7201a8\"], [0.3333333333333333, \"#9c179e\"], [0.4444444444444444, \"#bd3786\"], [0.5555555555555556, \"#d8576b\"], [0.6666666666666666, \"#ed7953\"], [0.7777777777777778, \"#fb9f3a\"], [0.8888888888888888, \"#fdca26\"], [1.0, \"#f0f921\"]], \"type\": \"surface\"}], \"table\": [{\"cells\": {\"fill\": {\"color\": \"#EBF0F8\"}, \"line\": {\"color\": \"white\"}}, \"header\": {\"fill\": {\"color\": \"#C8D4E3\"}, \"line\": {\"color\": \"white\"}}, \"type\": \"table\"}]}, \"layout\": {\"annotationdefaults\": {\"arrowcolor\": \"#2a3f5f\", \"arrowhead\": 0, \"arrowwidth\": 1}, \"coloraxis\": {\"colorbar\": {\"outlinewidth\": 0, \"ticks\": \"\"}}, \"colorscale\": {\"diverging\": [[0, \"#8e0152\"], [0.1, \"#c51b7d\"], [0.2, \"#de77ae\"], [0.3, \"#f1b6da\"], [0.4, \"#fde0ef\"], [0.5, \"#f7f7f7\"], [0.6, \"#e6f5d0\"], [0.7, \"#b8e186\"], [0.8, \"#7fbc41\"], [0.9, \"#4d9221\"], [1, \"#276419\"]], \"sequential\": [[0.0, \"#0d0887\"], [0.1111111111111111, \"#46039f\"], [0.2222222222222222, \"#7201a8\"], [0.3333333333333333, \"#9c179e\"], [0.4444444444444444, \"#bd3786\"], [0.5555555555555556, \"#d8576b\"], [0.6666666666666666, \"#ed7953\"], [0.7777777777777778, \"#fb9f3a\"], [0.8888888888888888, \"#fdca26\"], [1.0, \"#f0f921\"]], \"sequentialminus\": [[0.0, \"#0d0887\"], [0.1111111111111111, \"#46039f\"], [0.2222222222222222, \"#7201a8\"], [0.3333333333333333, \"#9c179e\"], [0.4444444444444444, \"#bd3786\"], [0.5555555555555556, \"#d8576b\"], [0.6666666666666666, \"#ed7953\"], [0.7777777777777778, \"#fb9f3a\"], [0.8888888888888888, \"#fdca26\"], [1.0, \"#f0f921\"]]}, \"colorway\": [\"#636efa\", \"#EF553B\", \"#00cc96\", \"#ab63fa\", \"#FFA15A\", \"#19d3f3\", \"#FF6692\", \"#B6E880\", \"#FF97FF\", \"#FECB52\"], \"font\": {\"color\": \"#2a3f5f\"}, \"geo\": {\"bgcolor\": \"white\", \"lakecolor\": \"white\", \"landcolor\": \"#E5ECF6\", \"showlakes\": true, \"showland\": true, \"subunitcolor\": \"white\"}, \"hoverlabel\": {\"align\": \"left\"}, \"hovermode\": \"closest\", \"mapbox\": {\"style\": \"light\"}, \"paper_bgcolor\": \"white\", \"plot_bgcolor\": \"#E5ECF6\", \"polar\": {\"angularaxis\": {\"gridcolor\": \"white\", \"linecolor\": \"white\", \"ticks\": \"\"}, \"bgcolor\": \"#E5ECF6\", \"radialaxis\": {\"gridcolor\": \"white\", \"linecolor\": \"white\", \"ticks\": \"\"}}, \"scene\": {\"xaxis\": {\"backgroundcolor\": \"#E5ECF6\", \"gridcolor\": \"white\", \"gridwidth\": 2, \"linecolor\": \"white\", \"showbackground\": true, \"ticks\": \"\", \"zerolinecolor\": \"white\"}, \"yaxis\": {\"backgroundcolor\": \"#E5ECF6\", \"gridcolor\": \"white\", \"gridwidth\": 2, \"linecolor\": \"white\", \"showbackground\": true, \"ticks\": \"\", \"zerolinecolor\": \"white\"}, \"zaxis\": {\"backgroundcolor\": \"#E5ECF6\", \"gridcolor\": \"white\", \"gridwidth\": 2, \"linecolor\": \"white\", \"showbackground\": true, \"ticks\": \"\", \"zerolinecolor\": \"white\"}}, \"shapedefaults\": {\"line\": {\"color\": \"#2a3f5f\"}}, \"ternary\": {\"aaxis\": {\"gridcolor\": \"white\", \"linecolor\": \"white\", \"ticks\": \"\"}, \"baxis\": {\"gridcolor\": \"white\", \"linecolor\": \"white\", \"ticks\": \"\"}, \"bgcolor\": \"#E5ECF6\", \"caxis\": {\"gridcolor\": \"white\", \"linecolor\": \"white\", \"ticks\": \"\"}}, \"title\": {\"x\": 0.05}, \"xaxis\": {\"automargin\": true, \"gridcolor\": \"white\", \"linecolor\": \"white\", \"ticks\": \"\", \"title\": {\"standoff\": 15}, \"zerolinecolor\": \"white\", \"zerolinewidth\": 2}, \"yaxis\": {\"automargin\": true, \"gridcolor\": \"white\", \"linecolor\": \"white\", \"ticks\": \"\", \"title\": {\"standoff\": 15}, \"zerolinecolor\": \"white\", \"zerolinewidth\": 2}}}, \"title\": {\"text\": \"Polynomial Ridge Model Error Evaluation (RMSE vs MAE) on Original DataFrame\"}, \"xaxis\": {\"title\": {\"text\": \"Polynomial Degree\"}}, \"yaxis\": {\"title\": {\"text\": \"Error\"}}},\n",
              "                        {\"responsive\": true}\n",
              "                    ).then(function(){\n",
              "                            \n",
              "var gd = document.getElementById('f625f580-4b4b-4587-8ca7-3e681cc6c97e');\n",
              "var x = new MutationObserver(function (mutations, observer) {{\n",
              "        var display = window.getComputedStyle(gd).display;\n",
              "        if (!display || display === 'none') {{\n",
              "            console.log([gd, 'removed!']);\n",
              "            Plotly.purge(gd);\n",
              "            observer.disconnect();\n",
              "        }}\n",
              "}});\n",
              "\n",
              "// Listen for the removal of the full notebook cells\n",
              "var notebookContainer = gd.closest('#notebook-container');\n",
              "if (notebookContainer) {{\n",
              "    x.observe(notebookContainer, {childList: true});\n",
              "}}\n",
              "\n",
              "// Listen for the clearing of the current output cell\n",
              "var outputEl = gd.closest('.output');\n",
              "if (outputEl) {{\n",
              "    x.observe(outputEl, {childList: true});\n",
              "}}\n",
              "\n",
              "                        })\n",
              "                };\n",
              "                \n",
              "            </script>\n",
              "        </div>\n",
              "</body>\n",
              "</html>"
            ]
          },
          "metadata": {
            "tags": []
          }
        }
      ]
    },
    {
      "cell_type": "code",
      "metadata": {
        "colab": {
          "base_uri": "https://localhost:8080/",
          "height": 542
        },
        "id": "xIumIPro-Kgq",
        "outputId": "4391ad5d-c3a4-4a50-f1cb-92af763f7004"
      },
      "source": [
        "fig = go.Figure()\n",
        "\n",
        "fig.add_trace(go.Scatter(x = poly_ridge_exclude_df['degree_num'], y = poly_ridge_exclude_df['RMSE_training'], name = 'RMSE Training',\n",
        "                        mode = 'lines+markers'))\n",
        "fig.add_trace(go.Scatter(x = poly_ridge_exclude_df['degree_num'], y = poly_ridge_exclude_df['RMSE_validation'], name = 'RMSE Validation',\n",
        "                        mode = 'lines+markers'))\n",
        "fig.add_trace(go.Scatter(x = poly_ridge_exclude_df['degree_num'], y = poly_ridge_exclude_df['MAE_training'], name = 'MAE Training',\n",
        "                        mode = 'lines+markers'))\n",
        "fig.add_trace(go.Scatter(x = poly_ridge_exclude_df['degree_num'], y = poly_ridge_exclude_df['MAE_validation'], name = 'MAE Validation',\n",
        "                        mode = 'lines+markers'))\n",
        "\n",
        "fig.update_layout(title_text = 'Polynomial Ridge Model Error Evaluation (RMSE vs MAE) Without \"store\" column',\n",
        "                 xaxis_title = 'Polynomial Degree',\n",
        "                 yaxis_title = 'Error',\n",
        "                  legend_orientation = 'h',\n",
        "                   legend=dict(x=0, y=1.1))\n",
        "\n",
        "fig.show()"
      ],
      "execution_count": 101,
      "outputs": [
        {
          "output_type": "display_data",
          "data": {
            "text/html": [
              "<html>\n",
              "<head><meta charset=\"utf-8\" /></head>\n",
              "<body>\n",
              "    <div>\n",
              "            <script src=\"https://cdnjs.cloudflare.com/ajax/libs/mathjax/2.7.5/MathJax.js?config=TeX-AMS-MML_SVG\"></script><script type=\"text/javascript\">if (window.MathJax) {MathJax.Hub.Config({SVG: {font: \"STIX-Web\"}});}</script>\n",
              "                <script type=\"text/javascript\">window.PlotlyConfig = {MathJaxConfig: 'local'};</script>\n",
              "        <script src=\"https://cdn.plot.ly/plotly-latest.min.js\"></script>    \n",
              "            <div id=\"09524b33-d0a7-41e1-a6d7-fb1082893766\" class=\"plotly-graph-div\" style=\"height:525px; width:100%;\"></div>\n",
              "            <script type=\"text/javascript\">\n",
              "                \n",
              "                    window.PLOTLYENV=window.PLOTLYENV || {};\n",
              "                    \n",
              "                if (document.getElementById(\"09524b33-d0a7-41e1-a6d7-fb1082893766\")) {\n",
              "                    Plotly.newPlot(\n",
              "                        '09524b33-d0a7-41e1-a6d7-fb1082893766',\n",
              "                        [{\"mode\": \"lines+markers\", \"name\": \"RMSE Training\", \"type\": \"scatter\", \"x\": [1, 2, 3, 4, 5, 6, 7, 8, 9, 10], \"y\": [5.829105015721407, 5.814508771773796, 5.791812170195052, 5.757708101413836, 5.704146434779706, 5.632486396109304, 5.554063426563065, 5.4777003693067705, 5.404438262576809, 5.331004483879573]}, {\"mode\": \"lines+markers\", \"name\": \"RMSE Validation\", \"type\": \"scatter\", \"x\": [1, 2, 3, 4, 5, 6, 7, 8, 9, 10], \"y\": [5.598684370249257, 5.6018457676264015, 5.621663965232619, 5.64317623216668, 5.662470672298741, 5.695775687677946, 5.757621789459989, 5.843191635051599, 5.935065087315811, 6.0199853105818]}, {\"mode\": \"lines+markers\", \"name\": \"MAE Training\", \"type\": \"scatter\", \"x\": [1, 2, 3, 4, 5, 6, 7, 8, 9, 10], \"y\": [5.050847181349605, 5.03826010901086, 5.014971021546557, 4.979052057333069, 4.921133819524071, 4.844373669840299, 4.760198646675903, 4.677457588967166, 4.5987280755349165, 4.517815406657223]}, {\"mode\": \"lines+markers\", \"name\": \"MAE Validation\", \"type\": \"scatter\", \"x\": [1, 2, 3, 4, 5, 6, 7, 8, 9, 10], \"y\": [4.805152217584903, 4.806641684281813, 4.826908408094354, 4.848154302081727, 4.864207977735828, 4.881825015030709, 4.91261422034971, 4.968293850845153, 5.032170791235214, 5.084900489946537]}],\n",
              "                        {\"legend\": {\"orientation\": \"h\", \"x\": 0, \"y\": 1.1}, \"template\": {\"data\": {\"bar\": [{\"error_x\": {\"color\": \"#2a3f5f\"}, \"error_y\": {\"color\": \"#2a3f5f\"}, \"marker\": {\"line\": {\"color\": \"#E5ECF6\", \"width\": 0.5}}, \"type\": \"bar\"}], \"barpolar\": [{\"marker\": {\"line\": {\"color\": \"#E5ECF6\", \"width\": 0.5}}, \"type\": \"barpolar\"}], \"carpet\": [{\"aaxis\": {\"endlinecolor\": \"#2a3f5f\", \"gridcolor\": \"white\", \"linecolor\": \"white\", \"minorgridcolor\": \"white\", \"startlinecolor\": \"#2a3f5f\"}, \"baxis\": {\"endlinecolor\": \"#2a3f5f\", \"gridcolor\": \"white\", \"linecolor\": \"white\", \"minorgridcolor\": \"white\", \"startlinecolor\": \"#2a3f5f\"}, \"type\": \"carpet\"}], \"choropleth\": [{\"colorbar\": {\"outlinewidth\": 0, \"ticks\": \"\"}, \"type\": \"choropleth\"}], \"contour\": [{\"colorbar\": {\"outlinewidth\": 0, \"ticks\": \"\"}, \"colorscale\": [[0.0, \"#0d0887\"], [0.1111111111111111, \"#46039f\"], [0.2222222222222222, \"#7201a8\"], [0.3333333333333333, \"#9c179e\"], [0.4444444444444444, \"#bd3786\"], [0.5555555555555556, \"#d8576b\"], [0.6666666666666666, \"#ed7953\"], [0.7777777777777778, \"#fb9f3a\"], [0.8888888888888888, \"#fdca26\"], [1.0, \"#f0f921\"]], \"type\": \"contour\"}], \"contourcarpet\": [{\"colorbar\": {\"outlinewidth\": 0, \"ticks\": \"\"}, \"type\": \"contourcarpet\"}], \"heatmap\": [{\"colorbar\": {\"outlinewidth\": 0, \"ticks\": \"\"}, \"colorscale\": [[0.0, \"#0d0887\"], [0.1111111111111111, \"#46039f\"], [0.2222222222222222, \"#7201a8\"], [0.3333333333333333, \"#9c179e\"], [0.4444444444444444, \"#bd3786\"], [0.5555555555555556, \"#d8576b\"], [0.6666666666666666, \"#ed7953\"], [0.7777777777777778, \"#fb9f3a\"], [0.8888888888888888, \"#fdca26\"], [1.0, \"#f0f921\"]], \"type\": \"heatmap\"}], \"heatmapgl\": [{\"colorbar\": {\"outlinewidth\": 0, \"ticks\": \"\"}, \"colorscale\": [[0.0, \"#0d0887\"], [0.1111111111111111, \"#46039f\"], [0.2222222222222222, \"#7201a8\"], [0.3333333333333333, \"#9c179e\"], [0.4444444444444444, \"#bd3786\"], [0.5555555555555556, \"#d8576b\"], [0.6666666666666666, \"#ed7953\"], [0.7777777777777778, \"#fb9f3a\"], [0.8888888888888888, \"#fdca26\"], [1.0, \"#f0f921\"]], \"type\": \"heatmapgl\"}], \"histogram\": [{\"marker\": {\"colorbar\": {\"outlinewidth\": 0, \"ticks\": \"\"}}, \"type\": \"histogram\"}], \"histogram2d\": [{\"colorbar\": {\"outlinewidth\": 0, \"ticks\": \"\"}, \"colorscale\": [[0.0, \"#0d0887\"], [0.1111111111111111, \"#46039f\"], [0.2222222222222222, \"#7201a8\"], [0.3333333333333333, \"#9c179e\"], [0.4444444444444444, \"#bd3786\"], [0.5555555555555556, \"#d8576b\"], [0.6666666666666666, \"#ed7953\"], [0.7777777777777778, \"#fb9f3a\"], [0.8888888888888888, \"#fdca26\"], [1.0, \"#f0f921\"]], \"type\": \"histogram2d\"}], \"histogram2dcontour\": [{\"colorbar\": {\"outlinewidth\": 0, \"ticks\": \"\"}, \"colorscale\": [[0.0, \"#0d0887\"], [0.1111111111111111, \"#46039f\"], [0.2222222222222222, \"#7201a8\"], [0.3333333333333333, \"#9c179e\"], [0.4444444444444444, \"#bd3786\"], [0.5555555555555556, \"#d8576b\"], [0.6666666666666666, \"#ed7953\"], [0.7777777777777778, \"#fb9f3a\"], [0.8888888888888888, \"#fdca26\"], [1.0, \"#f0f921\"]], \"type\": \"histogram2dcontour\"}], \"mesh3d\": [{\"colorbar\": {\"outlinewidth\": 0, \"ticks\": \"\"}, \"type\": \"mesh3d\"}], \"parcoords\": [{\"line\": {\"colorbar\": {\"outlinewidth\": 0, \"ticks\": \"\"}}, \"type\": \"parcoords\"}], \"pie\": [{\"automargin\": true, \"type\": \"pie\"}], \"scatter\": [{\"marker\": {\"colorbar\": {\"outlinewidth\": 0, \"ticks\": \"\"}}, \"type\": \"scatter\"}], \"scatter3d\": [{\"line\": {\"colorbar\": {\"outlinewidth\": 0, \"ticks\": \"\"}}, \"marker\": {\"colorbar\": {\"outlinewidth\": 0, \"ticks\": \"\"}}, \"type\": \"scatter3d\"}], \"scattercarpet\": [{\"marker\": {\"colorbar\": {\"outlinewidth\": 0, \"ticks\": \"\"}}, \"type\": \"scattercarpet\"}], \"scattergeo\": [{\"marker\": {\"colorbar\": {\"outlinewidth\": 0, \"ticks\": \"\"}}, \"type\": \"scattergeo\"}], \"scattergl\": [{\"marker\": {\"colorbar\": {\"outlinewidth\": 0, \"ticks\": \"\"}}, \"type\": \"scattergl\"}], \"scattermapbox\": [{\"marker\": {\"colorbar\": {\"outlinewidth\": 0, \"ticks\": \"\"}}, \"type\": \"scattermapbox\"}], \"scatterpolar\": [{\"marker\": {\"colorbar\": {\"outlinewidth\": 0, \"ticks\": \"\"}}, \"type\": \"scatterpolar\"}], \"scatterpolargl\": [{\"marker\": {\"colorbar\": {\"outlinewidth\": 0, \"ticks\": \"\"}}, \"type\": \"scatterpolargl\"}], \"scatterternary\": [{\"marker\": {\"colorbar\": {\"outlinewidth\": 0, \"ticks\": \"\"}}, \"type\": \"scatterternary\"}], \"surface\": [{\"colorbar\": {\"outlinewidth\": 0, \"ticks\": \"\"}, \"colorscale\": [[0.0, \"#0d0887\"], [0.1111111111111111, \"#46039f\"], [0.2222222222222222, \"#7201a8\"], [0.3333333333333333, \"#9c179e\"], [0.4444444444444444, \"#bd3786\"], [0.5555555555555556, \"#d8576b\"], [0.6666666666666666, \"#ed7953\"], [0.7777777777777778, \"#fb9f3a\"], [0.8888888888888888, \"#fdca26\"], [1.0, \"#f0f921\"]], \"type\": \"surface\"}], \"table\": [{\"cells\": {\"fill\": {\"color\": \"#EBF0F8\"}, \"line\": {\"color\": \"white\"}}, \"header\": {\"fill\": {\"color\": \"#C8D4E3\"}, \"line\": {\"color\": \"white\"}}, \"type\": \"table\"}]}, \"layout\": {\"annotationdefaults\": {\"arrowcolor\": \"#2a3f5f\", \"arrowhead\": 0, \"arrowwidth\": 1}, \"coloraxis\": {\"colorbar\": {\"outlinewidth\": 0, \"ticks\": \"\"}}, \"colorscale\": {\"diverging\": [[0, \"#8e0152\"], [0.1, \"#c51b7d\"], [0.2, \"#de77ae\"], [0.3, \"#f1b6da\"], [0.4, \"#fde0ef\"], [0.5, \"#f7f7f7\"], [0.6, \"#e6f5d0\"], [0.7, \"#b8e186\"], [0.8, \"#7fbc41\"], [0.9, \"#4d9221\"], [1, \"#276419\"]], \"sequential\": [[0.0, \"#0d0887\"], [0.1111111111111111, \"#46039f\"], [0.2222222222222222, \"#7201a8\"], [0.3333333333333333, \"#9c179e\"], [0.4444444444444444, \"#bd3786\"], [0.5555555555555556, \"#d8576b\"], [0.6666666666666666, \"#ed7953\"], [0.7777777777777778, \"#fb9f3a\"], [0.8888888888888888, \"#fdca26\"], [1.0, \"#f0f921\"]], \"sequentialminus\": [[0.0, \"#0d0887\"], [0.1111111111111111, \"#46039f\"], [0.2222222222222222, \"#7201a8\"], [0.3333333333333333, \"#9c179e\"], [0.4444444444444444, \"#bd3786\"], [0.5555555555555556, \"#d8576b\"], [0.6666666666666666, \"#ed7953\"], [0.7777777777777778, \"#fb9f3a\"], [0.8888888888888888, \"#fdca26\"], [1.0, \"#f0f921\"]]}, \"colorway\": [\"#636efa\", \"#EF553B\", \"#00cc96\", \"#ab63fa\", \"#FFA15A\", \"#19d3f3\", \"#FF6692\", \"#B6E880\", \"#FF97FF\", \"#FECB52\"], \"font\": {\"color\": \"#2a3f5f\"}, \"geo\": {\"bgcolor\": \"white\", \"lakecolor\": \"white\", \"landcolor\": \"#E5ECF6\", \"showlakes\": true, \"showland\": true, \"subunitcolor\": \"white\"}, \"hoverlabel\": {\"align\": \"left\"}, \"hovermode\": \"closest\", \"mapbox\": {\"style\": \"light\"}, \"paper_bgcolor\": \"white\", \"plot_bgcolor\": \"#E5ECF6\", \"polar\": {\"angularaxis\": {\"gridcolor\": \"white\", \"linecolor\": \"white\", \"ticks\": \"\"}, \"bgcolor\": \"#E5ECF6\", \"radialaxis\": {\"gridcolor\": \"white\", \"linecolor\": \"white\", \"ticks\": \"\"}}, \"scene\": {\"xaxis\": {\"backgroundcolor\": \"#E5ECF6\", \"gridcolor\": \"white\", \"gridwidth\": 2, \"linecolor\": \"white\", \"showbackground\": true, \"ticks\": \"\", \"zerolinecolor\": \"white\"}, \"yaxis\": {\"backgroundcolor\": \"#E5ECF6\", \"gridcolor\": \"white\", \"gridwidth\": 2, \"linecolor\": \"white\", \"showbackground\": true, \"ticks\": \"\", \"zerolinecolor\": \"white\"}, \"zaxis\": {\"backgroundcolor\": \"#E5ECF6\", \"gridcolor\": \"white\", \"gridwidth\": 2, \"linecolor\": \"white\", \"showbackground\": true, \"ticks\": \"\", \"zerolinecolor\": \"white\"}}, \"shapedefaults\": {\"line\": {\"color\": \"#2a3f5f\"}}, \"ternary\": {\"aaxis\": {\"gridcolor\": \"white\", \"linecolor\": \"white\", \"ticks\": \"\"}, \"baxis\": {\"gridcolor\": \"white\", \"linecolor\": \"white\", \"ticks\": \"\"}, \"bgcolor\": \"#E5ECF6\", \"caxis\": {\"gridcolor\": \"white\", \"linecolor\": \"white\", \"ticks\": \"\"}}, \"title\": {\"x\": 0.05}, \"xaxis\": {\"automargin\": true, \"gridcolor\": \"white\", \"linecolor\": \"white\", \"ticks\": \"\", \"title\": {\"standoff\": 15}, \"zerolinecolor\": \"white\", \"zerolinewidth\": 2}, \"yaxis\": {\"automargin\": true, \"gridcolor\": \"white\", \"linecolor\": \"white\", \"ticks\": \"\", \"title\": {\"standoff\": 15}, \"zerolinecolor\": \"white\", \"zerolinewidth\": 2}}}, \"title\": {\"text\": \"Polynomial Ridge Model Error Evaluation (RMSE vs MAE) Without \\\"store\\\" column\"}, \"xaxis\": {\"title\": {\"text\": \"Polynomial Degree\"}}, \"yaxis\": {\"title\": {\"text\": \"Error\"}}},\n",
              "                        {\"responsive\": true}\n",
              "                    ).then(function(){\n",
              "                            \n",
              "var gd = document.getElementById('09524b33-d0a7-41e1-a6d7-fb1082893766');\n",
              "var x = new MutationObserver(function (mutations, observer) {{\n",
              "        var display = window.getComputedStyle(gd).display;\n",
              "        if (!display || display === 'none') {{\n",
              "            console.log([gd, 'removed!']);\n",
              "            Plotly.purge(gd);\n",
              "            observer.disconnect();\n",
              "        }}\n",
              "}});\n",
              "\n",
              "// Listen for the removal of the full notebook cells\n",
              "var notebookContainer = gd.closest('#notebook-container');\n",
              "if (notebookContainer) {{\n",
              "    x.observe(notebookContainer, {childList: true});\n",
              "}}\n",
              "\n",
              "// Listen for the clearing of the current output cell\n",
              "var outputEl = gd.closest('.output');\n",
              "if (outputEl) {{\n",
              "    x.observe(outputEl, {childList: true});\n",
              "}}\n",
              "\n",
              "                        })\n",
              "                };\n",
              "                \n",
              "            </script>\n",
              "        </div>\n",
              "</body>\n",
              "</html>"
            ]
          },
          "metadata": {
            "tags": []
          }
        }
      ]
    },
    {
      "cell_type": "markdown",
      "metadata": {
        "id": "ZTruCTVI-Kgq"
      },
      "source": [
        "### Lasso Regression"
      ]
    },
    {
      "cell_type": "code",
      "metadata": {
        "colab": {
          "base_uri": "https://localhost:8080/"
        },
        "id": "IhID2280-KhQ",
        "outputId": "dd614be1-0453-4def-adb5-cedb6c472eb8"
      },
      "source": [
        "lasso_reg = Lasso(normalize = True, alpha = 1,)\n",
        "lasso_reg.fit(X_train, y_train)\n",
        "\n",
        "print('RMSE Validation : {}'.format(np.sqrt(((lasso_reg.predict(X_test) - y_test)**2).mean())))\n",
        "print('The coefficients are : {}'.format(lasso_reg.coef_))\n",
        "print('The intercept is : {}'.format(lasso_reg.intercept_))"
      ],
      "execution_count": 102,
      "outputs": [
        {
          "output_type": "stream",
          "text": [
            "RMSE Validation : 5.61793861975897\n",
            "The coefficients are : [ 0. -0.  0. -0. -0. -0. -0.  0.]\n",
            "The intercept is : 10.674837779379956\n"
          ],
          "name": "stdout"
        }
      ]
    },
    {
      "cell_type": "markdown",
      "metadata": {
        "id": "6aw9-cmg-KhS"
      },
      "source": [
        "Unfortunately, when we used Lasso Regression, it turns out giving penalty so much to the point where all of the coefficients are 0. And all that's left is the intercept of 10.6748. This means that this algorithm will only predict the intercept all the time. Hence, we will not consider using this algorithm for comparison."
      ]
    },
    {
      "cell_type": "markdown",
      "metadata": {
        "id": "4Jj_RShg-KhT"
      },
      "source": [
        "## Tree Models"
      ]
    },
    {
      "cell_type": "code",
      "metadata": {
        "colab": {
          "base_uri": "https://localhost:8080/",
          "height": 542
        },
        "id": "XNo9F1HJ-KhU",
        "outputId": "88c9a84c-6445-410c-e307-90fb2766151e"
      },
      "source": [
        "fig = go.Figure()\n",
        "\n",
        "rmse_train_list = []\n",
        "rmse_val_list = []\n",
        "\n",
        "mae_train_list = []\n",
        "mae_val_list = []\n",
        "\n",
        "for i in range(1,16):\n",
        "    \n",
        "    d_tree = DecisionTreeRegressor(random_state = 1234, criterion = 'mae', max_depth = i)\n",
        "    d_tree.fit(X_train, y_train)\n",
        "    \n",
        "    rmse_train_list.append(np.sqrt(((d_tree.predict(X_train) - y_train)**2).mean()))\n",
        "    rmse_val_list.append(np.sqrt(((d_tree.predict(X_test) - y_test)**2).mean()))\n",
        "    mae_train_list.append(abs(d_tree.predict(X_train) - y_train).mean())\n",
        "    mae_val_list.append(abs(d_tree.predict(X_test) - y_test).mean())\n",
        "    \n",
        "fig.add_trace(go.Scatter(x = list(range(1,16)), y = rmse_train_list, mode = 'lines+markers', name = 'RMSE Train'))    \n",
        "fig.add_trace(go.Scatter(x = list(range(1,16)), y = rmse_val_list, mode = 'lines+markers', name = 'RMSE Validation'))\n",
        "fig.add_trace(go.Scatter(x = list(range(1,16)), y = mae_train_list, mode = 'lines+markers', name = 'MAE Train'))\n",
        "fig.add_trace(go.Scatter(x = list(range(1,16)), y = mae_val_list, mode = 'lines+markers', name = 'MAE Validation'))\n",
        "\n",
        "fig.update_layout(title_text = 'Decision Tree Train and Validation Set RMSE ',\n",
        "                 xaxis_title = 'Max Depth',\n",
        "                 yaxis_title = 'Error',\n",
        "                 legend_orientation = 'h',\n",
        "                  legend = dict(x=0,y=1.1)\n",
        "                 )\n",
        "fig.show()"
      ],
      "execution_count": 103,
      "outputs": [
        {
          "output_type": "display_data",
          "data": {
            "text/html": [
              "<html>\n",
              "<head><meta charset=\"utf-8\" /></head>\n",
              "<body>\n",
              "    <div>\n",
              "            <script src=\"https://cdnjs.cloudflare.com/ajax/libs/mathjax/2.7.5/MathJax.js?config=TeX-AMS-MML_SVG\"></script><script type=\"text/javascript\">if (window.MathJax) {MathJax.Hub.Config({SVG: {font: \"STIX-Web\"}});}</script>\n",
              "                <script type=\"text/javascript\">window.PlotlyConfig = {MathJaxConfig: 'local'};</script>\n",
              "        <script src=\"https://cdn.plot.ly/plotly-latest.min.js\"></script>    \n",
              "            <div id=\"3423dd95-8176-4a55-9e0e-450566743ba3\" class=\"plotly-graph-div\" style=\"height:525px; width:100%;\"></div>\n",
              "            <script type=\"text/javascript\">\n",
              "                \n",
              "                    window.PLOTLYENV=window.PLOTLYENV || {};\n",
              "                    \n",
              "                if (document.getElementById(\"3423dd95-8176-4a55-9e0e-450566743ba3\")) {\n",
              "                    Plotly.newPlot(\n",
              "                        '3423dd95-8176-4a55-9e0e-450566743ba3',\n",
              "                        [{\"mode\": \"lines+markers\", \"name\": \"RMSE Train\", \"type\": \"scatter\", \"x\": [1, 2, 3, 4, 5, 6, 7, 8, 9, 10, 11, 12, 13, 14, 15], \"y\": [5.833918671494249, 5.821175575062391, 5.7831829885844055, 5.7141408726107175, 5.661918221982306, 5.522484681590291, 5.380744863379727, 5.109613202584795, 4.8516566715446405, 4.56555234388551, 4.284788068967065, 3.9311394335299736, 3.6101475183906513, 3.339911797444358, 2.960567571610325]}, {\"mode\": \"lines+markers\", \"name\": \"RMSE Validation\", \"type\": \"scatter\", \"x\": [1, 2, 3, 4, 5, 6, 7, 8, 9, 10, 11, 12, 13, 14, 15], \"y\": [5.636439696259308, 5.756214534195956, 5.943962621236047, 6.117132363889857, 6.091107043420697, 6.4813521021501455, 6.44842093576726, 6.713142514556747, 6.950525035628127, 6.878002357262824, 7.317274574909086, 7.50748905632474, 7.8073895388986285, 7.940384865707831, 8.08688410480178]}, {\"mode\": \"lines+markers\", \"name\": \"MAE Train\", \"type\": \"scatter\", \"x\": [1, 2, 3, 4, 5, 6, 7, 8, 9, 10, 11, 12, 13, 14, 15], \"y\": [5.029560201874549, 4.986301369863014, 4.8990627253064165, 4.796683489545782, 4.694304253785147, 4.485940879596251, 4.211247296322999, 3.9012256669069934, 3.550108147080029, 3.18817591925018, 2.8233597692862293, 2.4224945926459984, 2.0310021629416006, 1.7332372025955298, 1.418168709444845]}, {\"mode\": \"lines+markers\", \"name\": \"MAE Validation\", \"type\": \"scatter\", \"x\": [1, 2, 3, 4, 5, 6, 7, 8, 9, 10, 11, 12, 13, 14, 15], \"y\": [4.847262247838617, 4.942363112391931, 5.073487031700288, 5.181556195965418, 5.154178674351585, 5.462536023054755, 5.311239193083574, 5.53314121037464, 5.694524495677234, 5.587896253602305, 5.95821325648415, 6.18299711815562, 6.406340057636887, 6.465417867435159, 6.639769452449568]}],\n",
              "                        {\"legend\": {\"orientation\": \"h\", \"x\": 0, \"y\": 1.1}, \"template\": {\"data\": {\"bar\": [{\"error_x\": {\"color\": \"#2a3f5f\"}, \"error_y\": {\"color\": \"#2a3f5f\"}, \"marker\": {\"line\": {\"color\": \"#E5ECF6\", \"width\": 0.5}}, \"type\": \"bar\"}], \"barpolar\": [{\"marker\": {\"line\": {\"color\": \"#E5ECF6\", \"width\": 0.5}}, \"type\": \"barpolar\"}], \"carpet\": [{\"aaxis\": {\"endlinecolor\": \"#2a3f5f\", \"gridcolor\": \"white\", \"linecolor\": \"white\", \"minorgridcolor\": \"white\", \"startlinecolor\": \"#2a3f5f\"}, \"baxis\": {\"endlinecolor\": \"#2a3f5f\", \"gridcolor\": \"white\", \"linecolor\": \"white\", \"minorgridcolor\": \"white\", \"startlinecolor\": \"#2a3f5f\"}, \"type\": \"carpet\"}], \"choropleth\": [{\"colorbar\": {\"outlinewidth\": 0, \"ticks\": \"\"}, \"type\": \"choropleth\"}], \"contour\": [{\"colorbar\": {\"outlinewidth\": 0, \"ticks\": \"\"}, \"colorscale\": [[0.0, \"#0d0887\"], [0.1111111111111111, \"#46039f\"], [0.2222222222222222, \"#7201a8\"], [0.3333333333333333, \"#9c179e\"], [0.4444444444444444, \"#bd3786\"], [0.5555555555555556, \"#d8576b\"], [0.6666666666666666, \"#ed7953\"], [0.7777777777777778, \"#fb9f3a\"], [0.8888888888888888, \"#fdca26\"], [1.0, \"#f0f921\"]], \"type\": \"contour\"}], \"contourcarpet\": [{\"colorbar\": {\"outlinewidth\": 0, \"ticks\": \"\"}, \"type\": \"contourcarpet\"}], \"heatmap\": [{\"colorbar\": {\"outlinewidth\": 0, \"ticks\": \"\"}, \"colorscale\": [[0.0, \"#0d0887\"], [0.1111111111111111, \"#46039f\"], [0.2222222222222222, \"#7201a8\"], [0.3333333333333333, \"#9c179e\"], [0.4444444444444444, \"#bd3786\"], [0.5555555555555556, \"#d8576b\"], [0.6666666666666666, \"#ed7953\"], [0.7777777777777778, \"#fb9f3a\"], [0.8888888888888888, \"#fdca26\"], [1.0, \"#f0f921\"]], \"type\": \"heatmap\"}], \"heatmapgl\": [{\"colorbar\": {\"outlinewidth\": 0, \"ticks\": \"\"}, \"colorscale\": [[0.0, \"#0d0887\"], [0.1111111111111111, \"#46039f\"], [0.2222222222222222, \"#7201a8\"], [0.3333333333333333, \"#9c179e\"], [0.4444444444444444, \"#bd3786\"], [0.5555555555555556, \"#d8576b\"], [0.6666666666666666, \"#ed7953\"], [0.7777777777777778, \"#fb9f3a\"], [0.8888888888888888, \"#fdca26\"], [1.0, \"#f0f921\"]], \"type\": \"heatmapgl\"}], \"histogram\": [{\"marker\": {\"colorbar\": {\"outlinewidth\": 0, \"ticks\": \"\"}}, \"type\": \"histogram\"}], \"histogram2d\": [{\"colorbar\": {\"outlinewidth\": 0, \"ticks\": \"\"}, \"colorscale\": [[0.0, \"#0d0887\"], [0.1111111111111111, \"#46039f\"], [0.2222222222222222, \"#7201a8\"], [0.3333333333333333, \"#9c179e\"], [0.4444444444444444, \"#bd3786\"], [0.5555555555555556, \"#d8576b\"], [0.6666666666666666, \"#ed7953\"], [0.7777777777777778, \"#fb9f3a\"], [0.8888888888888888, \"#fdca26\"], [1.0, \"#f0f921\"]], \"type\": \"histogram2d\"}], \"histogram2dcontour\": [{\"colorbar\": {\"outlinewidth\": 0, \"ticks\": \"\"}, \"colorscale\": [[0.0, \"#0d0887\"], [0.1111111111111111, \"#46039f\"], [0.2222222222222222, \"#7201a8\"], [0.3333333333333333, \"#9c179e\"], [0.4444444444444444, \"#bd3786\"], [0.5555555555555556, \"#d8576b\"], [0.6666666666666666, \"#ed7953\"], [0.7777777777777778, \"#fb9f3a\"], [0.8888888888888888, \"#fdca26\"], [1.0, \"#f0f921\"]], \"type\": \"histogram2dcontour\"}], \"mesh3d\": [{\"colorbar\": {\"outlinewidth\": 0, \"ticks\": \"\"}, \"type\": \"mesh3d\"}], \"parcoords\": [{\"line\": {\"colorbar\": {\"outlinewidth\": 0, \"ticks\": \"\"}}, \"type\": \"parcoords\"}], \"pie\": [{\"automargin\": true, \"type\": \"pie\"}], \"scatter\": [{\"marker\": {\"colorbar\": {\"outlinewidth\": 0, \"ticks\": \"\"}}, \"type\": \"scatter\"}], \"scatter3d\": [{\"line\": {\"colorbar\": {\"outlinewidth\": 0, \"ticks\": \"\"}}, \"marker\": {\"colorbar\": {\"outlinewidth\": 0, \"ticks\": \"\"}}, \"type\": \"scatter3d\"}], \"scattercarpet\": [{\"marker\": {\"colorbar\": {\"outlinewidth\": 0, \"ticks\": \"\"}}, \"type\": \"scattercarpet\"}], \"scattergeo\": [{\"marker\": {\"colorbar\": {\"outlinewidth\": 0, \"ticks\": \"\"}}, \"type\": \"scattergeo\"}], \"scattergl\": [{\"marker\": {\"colorbar\": {\"outlinewidth\": 0, \"ticks\": \"\"}}, \"type\": \"scattergl\"}], \"scattermapbox\": [{\"marker\": {\"colorbar\": {\"outlinewidth\": 0, \"ticks\": \"\"}}, \"type\": \"scattermapbox\"}], \"scatterpolar\": [{\"marker\": {\"colorbar\": {\"outlinewidth\": 0, \"ticks\": \"\"}}, \"type\": \"scatterpolar\"}], \"scatterpolargl\": [{\"marker\": {\"colorbar\": {\"outlinewidth\": 0, \"ticks\": \"\"}}, \"type\": \"scatterpolargl\"}], \"scatterternary\": [{\"marker\": {\"colorbar\": {\"outlinewidth\": 0, \"ticks\": \"\"}}, \"type\": \"scatterternary\"}], \"surface\": [{\"colorbar\": {\"outlinewidth\": 0, \"ticks\": \"\"}, \"colorscale\": [[0.0, \"#0d0887\"], [0.1111111111111111, \"#46039f\"], [0.2222222222222222, \"#7201a8\"], [0.3333333333333333, \"#9c179e\"], [0.4444444444444444, \"#bd3786\"], [0.5555555555555556, \"#d8576b\"], [0.6666666666666666, \"#ed7953\"], [0.7777777777777778, \"#fb9f3a\"], [0.8888888888888888, \"#fdca26\"], [1.0, \"#f0f921\"]], \"type\": \"surface\"}], \"table\": [{\"cells\": {\"fill\": {\"color\": \"#EBF0F8\"}, \"line\": {\"color\": \"white\"}}, \"header\": {\"fill\": {\"color\": \"#C8D4E3\"}, \"line\": {\"color\": \"white\"}}, \"type\": \"table\"}]}, \"layout\": {\"annotationdefaults\": {\"arrowcolor\": \"#2a3f5f\", \"arrowhead\": 0, \"arrowwidth\": 1}, \"coloraxis\": {\"colorbar\": {\"outlinewidth\": 0, \"ticks\": \"\"}}, \"colorscale\": {\"diverging\": [[0, \"#8e0152\"], [0.1, \"#c51b7d\"], [0.2, \"#de77ae\"], [0.3, \"#f1b6da\"], [0.4, \"#fde0ef\"], [0.5, \"#f7f7f7\"], [0.6, \"#e6f5d0\"], [0.7, \"#b8e186\"], [0.8, \"#7fbc41\"], [0.9, \"#4d9221\"], [1, \"#276419\"]], \"sequential\": [[0.0, \"#0d0887\"], [0.1111111111111111, \"#46039f\"], [0.2222222222222222, \"#7201a8\"], [0.3333333333333333, \"#9c179e\"], [0.4444444444444444, \"#bd3786\"], [0.5555555555555556, \"#d8576b\"], [0.6666666666666666, \"#ed7953\"], [0.7777777777777778, \"#fb9f3a\"], [0.8888888888888888, \"#fdca26\"], [1.0, \"#f0f921\"]], \"sequentialminus\": [[0.0, \"#0d0887\"], [0.1111111111111111, \"#46039f\"], [0.2222222222222222, \"#7201a8\"], [0.3333333333333333, \"#9c179e\"], [0.4444444444444444, \"#bd3786\"], [0.5555555555555556, \"#d8576b\"], [0.6666666666666666, \"#ed7953\"], [0.7777777777777778, \"#fb9f3a\"], [0.8888888888888888, \"#fdca26\"], [1.0, \"#f0f921\"]]}, \"colorway\": [\"#636efa\", \"#EF553B\", \"#00cc96\", \"#ab63fa\", \"#FFA15A\", \"#19d3f3\", \"#FF6692\", \"#B6E880\", \"#FF97FF\", \"#FECB52\"], \"font\": {\"color\": \"#2a3f5f\"}, \"geo\": {\"bgcolor\": \"white\", \"lakecolor\": \"white\", \"landcolor\": \"#E5ECF6\", \"showlakes\": true, \"showland\": true, \"subunitcolor\": \"white\"}, \"hoverlabel\": {\"align\": \"left\"}, \"hovermode\": \"closest\", \"mapbox\": {\"style\": \"light\"}, \"paper_bgcolor\": \"white\", \"plot_bgcolor\": \"#E5ECF6\", \"polar\": {\"angularaxis\": {\"gridcolor\": \"white\", \"linecolor\": \"white\", \"ticks\": \"\"}, \"bgcolor\": \"#E5ECF6\", \"radialaxis\": {\"gridcolor\": \"white\", \"linecolor\": \"white\", \"ticks\": \"\"}}, \"scene\": {\"xaxis\": {\"backgroundcolor\": \"#E5ECF6\", \"gridcolor\": \"white\", \"gridwidth\": 2, \"linecolor\": \"white\", \"showbackground\": true, \"ticks\": \"\", \"zerolinecolor\": \"white\"}, \"yaxis\": {\"backgroundcolor\": \"#E5ECF6\", \"gridcolor\": \"white\", \"gridwidth\": 2, \"linecolor\": \"white\", \"showbackground\": true, \"ticks\": \"\", \"zerolinecolor\": \"white\"}, \"zaxis\": {\"backgroundcolor\": \"#E5ECF6\", \"gridcolor\": \"white\", \"gridwidth\": 2, \"linecolor\": \"white\", \"showbackground\": true, \"ticks\": \"\", \"zerolinecolor\": \"white\"}}, \"shapedefaults\": {\"line\": {\"color\": \"#2a3f5f\"}}, \"ternary\": {\"aaxis\": {\"gridcolor\": \"white\", \"linecolor\": \"white\", \"ticks\": \"\"}, \"baxis\": {\"gridcolor\": \"white\", \"linecolor\": \"white\", \"ticks\": \"\"}, \"bgcolor\": \"#E5ECF6\", \"caxis\": {\"gridcolor\": \"white\", \"linecolor\": \"white\", \"ticks\": \"\"}}, \"title\": {\"x\": 0.05}, \"xaxis\": {\"automargin\": true, \"gridcolor\": \"white\", \"linecolor\": \"white\", \"ticks\": \"\", \"title\": {\"standoff\": 15}, \"zerolinecolor\": \"white\", \"zerolinewidth\": 2}, \"yaxis\": {\"automargin\": true, \"gridcolor\": \"white\", \"linecolor\": \"white\", \"ticks\": \"\", \"title\": {\"standoff\": 15}, \"zerolinecolor\": \"white\", \"zerolinewidth\": 2}}}, \"title\": {\"text\": \"Decision Tree Train and Validation Set RMSE \"}, \"xaxis\": {\"title\": {\"text\": \"Max Depth\"}}, \"yaxis\": {\"title\": {\"text\": \"Error\"}}},\n",
              "                        {\"responsive\": true}\n",
              "                    ).then(function(){\n",
              "                            \n",
              "var gd = document.getElementById('3423dd95-8176-4a55-9e0e-450566743ba3');\n",
              "var x = new MutationObserver(function (mutations, observer) {{\n",
              "        var display = window.getComputedStyle(gd).display;\n",
              "        if (!display || display === 'none') {{\n",
              "            console.log([gd, 'removed!']);\n",
              "            Plotly.purge(gd);\n",
              "            observer.disconnect();\n",
              "        }}\n",
              "}});\n",
              "\n",
              "// Listen for the removal of the full notebook cells\n",
              "var notebookContainer = gd.closest('#notebook-container');\n",
              "if (notebookContainer) {{\n",
              "    x.observe(notebookContainer, {childList: true});\n",
              "}}\n",
              "\n",
              "// Listen for the clearing of the current output cell\n",
              "var outputEl = gd.closest('.output');\n",
              "if (outputEl) {{\n",
              "    x.observe(outputEl, {childList: true});\n",
              "}}\n",
              "\n",
              "                        })\n",
              "                };\n",
              "                \n",
              "            </script>\n",
              "        </div>\n",
              "</body>\n",
              "</html>"
            ]
          },
          "metadata": {
            "tags": []
          }
        }
      ]
    },
    {
      "cell_type": "code",
      "metadata": {
        "colab": {
          "base_uri": "https://localhost:8080/"
        },
        "id": "-u71lqRv-KhW",
        "outputId": "d674ad79-bd8f-4b2e-a768-101d2ced9e1a"
      },
      "source": [
        "param = {'max_depth' : range(1,30), \n",
        "         'max_features' : range(1, X_train.shape[1] + 1), \n",
        "         'splitter':['best', 'random']\n",
        "        }\n",
        "\n",
        "grid = GridSearchCV(d_tree, param_grid = param, cv=10,n_jobs = -1, scoring='neg_mean_absolute_error')\n",
        "grid.fit(X_train, y_train) \n",
        "\n",
        "print(grid.best_params_)\n",
        "print(grid.best_score_)\n",
        "print(grid.best_estimator_)\n"
      ],
      "execution_count": 104,
      "outputs": [
        {
          "output_type": "stream",
          "text": [
            "{'max_depth': 1, 'max_features': 5, 'splitter': 'best'}\n",
            "-5.045699092899593\n",
            "DecisionTreeRegressor(ccp_alpha=0.0, criterion='mae', max_depth=1,\n",
            "                      max_features=5, max_leaf_nodes=None,\n",
            "                      min_impurity_decrease=0.0, min_impurity_split=None,\n",
            "                      min_samples_leaf=1, min_samples_split=2,\n",
            "                      min_weight_fraction_leaf=0.0, presort='deprecated',\n",
            "                      random_state=1234, splitter='best')\n"
          ],
          "name": "stdout"
        }
      ]
    },
    {
      "cell_type": "code",
      "metadata": {
        "colab": {
          "base_uri": "https://localhost:8080/",
          "height": 294
        },
        "id": "0aBWfD6G-KhZ",
        "outputId": "14eced0b-7155-4677-f17d-bc9e32ce7288"
      },
      "source": [
        "dectree_grid = grid.best_estimator_\n",
        "feature_importances = pd.DataFrame(dectree_grid.feature_importances_,\n",
        "                                   index = X_train.columns,\n",
        "                                    columns=['importance'])\n",
        "feature_importances.sort_values(by='importance', ascending=False).head(10)"
      ],
      "execution_count": 105,
      "outputs": [
        {
          "output_type": "execute_result",
          "data": {
            "text/html": [
              "<div>\n",
              "<style scoped>\n",
              "    .dataframe tbody tr th:only-of-type {\n",
              "        vertical-align: middle;\n",
              "    }\n",
              "\n",
              "    .dataframe tbody tr th {\n",
              "        vertical-align: top;\n",
              "    }\n",
              "\n",
              "    .dataframe thead th {\n",
              "        text-align: right;\n",
              "    }\n",
              "</style>\n",
              "<table border=\"1\" class=\"dataframe\">\n",
              "  <thead>\n",
              "    <tr style=\"text-align: right;\">\n",
              "      <th></th>\n",
              "      <th>importance</th>\n",
              "    </tr>\n",
              "  </thead>\n",
              "  <tbody>\n",
              "    <tr>\n",
              "      <th>product_sku_en</th>\n",
              "      <td>1.0</td>\n",
              "    </tr>\n",
              "    <tr>\n",
              "      <th>price</th>\n",
              "      <td>0.0</td>\n",
              "    </tr>\n",
              "    <tr>\n",
              "      <th>is_promo_item</th>\n",
              "      <td>0.0</td>\n",
              "    </tr>\n",
              "    <tr>\n",
              "      <th>member_promo</th>\n",
              "      <td>0.0</td>\n",
              "    </tr>\n",
              "    <tr>\n",
              "      <th>day_of_month</th>\n",
              "      <td>0.0</td>\n",
              "    </tr>\n",
              "    <tr>\n",
              "      <th>store_en</th>\n",
              "      <td>0.0</td>\n",
              "    </tr>\n",
              "    <tr>\n",
              "      <th>day_of_year</th>\n",
              "      <td>0.0</td>\n",
              "    </tr>\n",
              "    <tr>\n",
              "      <th>day_of_week</th>\n",
              "      <td>0.0</td>\n",
              "    </tr>\n",
              "  </tbody>\n",
              "</table>\n",
              "</div>"
            ],
            "text/plain": [
              "                importance\n",
              "product_sku_en         1.0\n",
              "price                  0.0\n",
              "is_promo_item          0.0\n",
              "member_promo           0.0\n",
              "day_of_month           0.0\n",
              "store_en               0.0\n",
              "day_of_year            0.0\n",
              "day_of_week            0.0"
            ]
          },
          "metadata": {
            "tags": []
          },
          "execution_count": 105
        }
      ]
    },
    {
      "cell_type": "code",
      "metadata": {
        "colab": {
          "base_uri": "https://localhost:8080/"
        },
        "id": "m1-BMjqN-Khb",
        "outputId": "06f3e128-586b-4c75-f0df-fa4a92862d50"
      },
      "source": [
        "print('RMSE Train : {}'.format(np.sqrt(((dectree_grid.predict(X_train) - y_train)**2).mean())))\n",
        "print('RMSE Validation : {}'.format(np.sqrt(((dectree_grid.predict(X_test) - y_test)**2).mean())))\n",
        "print('MAE Train : {}'.format(abs(dectree_grid.predict(X_train) - y_train).mean()))\n",
        "print('MAE Validation : {}'.format(abs(dectree_grid.predict(X_test) - y_test).mean()))"
      ],
      "execution_count": 106,
      "outputs": [
        {
          "output_type": "stream",
          "text": [
            "RMSE Train : 5.833918671494249\n",
            "RMSE Validation : 5.636439696259308\n",
            "MAE Train : 5.029560201874549\n",
            "MAE Validation : 4.847262247838617\n"
          ],
          "name": "stdout"
        }
      ]
    },
    {
      "cell_type": "markdown",
      "metadata": {
        "id": "5abd6bPT-Khd"
      },
      "source": [
        "Although the MAE Validation has gone down, but the feature importance can be considered as absurd. The algorithm only detects that product_sku is the only important feature."
      ]
    },
    {
      "cell_type": "markdown",
      "metadata": {
        "id": "OdmLkK4D-Khe"
      },
      "source": [
        "### Random Forest"
      ]
    },
    {
      "cell_type": "code",
      "metadata": {
        "colab": {
          "base_uri": "https://localhost:8080/"
        },
        "id": "gYO6o21N-Khe",
        "outputId": "68151cef-fe9b-4edc-f3b5-8428f6d068a9"
      },
      "source": [
        "rf = RandomForestRegressor(n_estimators=1000, criterion = 'mae', n_jobs = -1, random_state=1234)\n",
        "\n",
        "rf.fit(X_train, y_train)\n",
        "\n",
        "print('RMSE Train : {}'.format(np.sqrt(((rf.predict(X_train) - y_train)**2).mean())))\n",
        "print('RMSE Validation : {}'.format(np.sqrt(((rf.predict(X_test) - y_test)**2).mean())))\n",
        "print('MAE Train : {}'.format(abs(rf.predict(X_train) - y_train).mean()))\n",
        "print('MAE Validation : {}'.format(abs(rf.predict(X_test) - y_test).mean()))"
      ],
      "execution_count": 107,
      "outputs": [
        {
          "output_type": "stream",
          "text": [
            "RMSE Train : 2.3717976503631597\n",
            "RMSE Validation : 5.989392584356021\n",
            "MAE Train : 2.039980173035329\n",
            "MAE Validation : 5.144479827089336\n"
          ],
          "name": "stdout"
        }
      ]
    },
    {
      "cell_type": "markdown",
      "metadata": {
        "id": "TcsEHVoO-Khg"
      },
      "source": [
        "### XGBoost Regressor"
      ]
    },
    {
      "cell_type": "code",
      "metadata": {
        "scrolled": true,
        "colab": {
          "base_uri": "https://localhost:8080/"
        },
        "id": "JUfUqyRu-Khh",
        "outputId": "511620ba-6672-4d23-d216-f1261419d74b"
      },
      "source": [
        "start_time = time.time()\n",
        "\n",
        "xgb_reg = XGBRegressor(n_estimators=100, objective='reg:squarederror', random_state = 1234)\n",
        "\n",
        "xgb_reg.fit(X_train, y_train, eval_set = [(X_test, y_test)], eval_metric = 'rmse', early_stopping_rounds = 30)\n",
        "\n",
        "print(\"--- %s seconds ---\" % (time.time() - start_time))"
      ],
      "execution_count": 108,
      "outputs": [
        {
          "output_type": "stream",
          "text": [
            "[0]\tvalidation_0-rmse:9.93755\n",
            "Will train until validation_0-rmse hasn't improved in 30 rounds.\n",
            "[1]\tvalidation_0-rmse:9.1973\n",
            "[2]\tvalidation_0-rmse:8.55959\n",
            "[3]\tvalidation_0-rmse:8.01748\n",
            "[4]\tvalidation_0-rmse:7.5434\n",
            "[5]\tvalidation_0-rmse:7.15628\n",
            "[6]\tvalidation_0-rmse:6.83444\n",
            "[7]\tvalidation_0-rmse:6.55825\n",
            "[8]\tvalidation_0-rmse:6.34185\n",
            "[9]\tvalidation_0-rmse:6.15608\n",
            "[10]\tvalidation_0-rmse:6.01452\n",
            "[11]\tvalidation_0-rmse:5.90797\n",
            "[12]\tvalidation_0-rmse:5.81846\n",
            "[13]\tvalidation_0-rmse:5.75379\n",
            "[14]\tvalidation_0-rmse:5.70457\n",
            "[15]\tvalidation_0-rmse:5.66234\n",
            "[16]\tvalidation_0-rmse:5.63304\n",
            "[17]\tvalidation_0-rmse:5.61618\n",
            "[18]\tvalidation_0-rmse:5.60698\n",
            "[19]\tvalidation_0-rmse:5.59981\n",
            "[20]\tvalidation_0-rmse:5.60274\n",
            "[21]\tvalidation_0-rmse:5.6069\n",
            "[22]\tvalidation_0-rmse:5.61234\n",
            "[23]\tvalidation_0-rmse:5.61356\n",
            "[24]\tvalidation_0-rmse:5.62601\n",
            "[25]\tvalidation_0-rmse:5.63364\n",
            "[26]\tvalidation_0-rmse:5.64487\n",
            "[27]\tvalidation_0-rmse:5.65219\n",
            "[28]\tvalidation_0-rmse:5.65158\n",
            "[29]\tvalidation_0-rmse:5.65487\n",
            "[30]\tvalidation_0-rmse:5.66861\n",
            "[31]\tvalidation_0-rmse:5.67684\n",
            "[32]\tvalidation_0-rmse:5.69259\n",
            "[33]\tvalidation_0-rmse:5.69991\n",
            "[34]\tvalidation_0-rmse:5.70229\n",
            "[35]\tvalidation_0-rmse:5.70629\n",
            "[36]\tvalidation_0-rmse:5.7107\n",
            "[37]\tvalidation_0-rmse:5.71551\n",
            "[38]\tvalidation_0-rmse:5.72173\n",
            "[39]\tvalidation_0-rmse:5.73208\n",
            "[40]\tvalidation_0-rmse:5.73943\n",
            "[41]\tvalidation_0-rmse:5.74997\n",
            "[42]\tvalidation_0-rmse:5.75488\n",
            "[43]\tvalidation_0-rmse:5.75704\n",
            "[44]\tvalidation_0-rmse:5.76157\n",
            "[45]\tvalidation_0-rmse:5.7654\n",
            "[46]\tvalidation_0-rmse:5.77041\n",
            "[47]\tvalidation_0-rmse:5.77426\n",
            "[48]\tvalidation_0-rmse:5.78079\n",
            "[49]\tvalidation_0-rmse:5.78725\n",
            "Stopping. Best iteration:\n",
            "[19]\tvalidation_0-rmse:5.59981\n",
            "\n",
            "--- 0.4911162853240967 seconds ---\n"
          ],
          "name": "stdout"
        }
      ]
    },
    {
      "cell_type": "markdown",
      "metadata": {
        "id": "cik5_DGb-Khj"
      },
      "source": [
        "Tuning n_estimators"
      ]
    },
    {
      "cell_type": "code",
      "metadata": {
        "id": "MRJNISn1-Khk"
      },
      "source": [
        "xgb_param1 = xgb_reg.get_xgb_params()\n",
        "xgtrain1 = DMatrix(X_train.values, label=y_train.values)\n",
        "\n",
        "cvresult1 = cv(xgb_param1, xgtrain1, num_boost_round=xgb_reg.get_params()['n_estimators'], nfold=10,\n",
        "            metrics='rmse', early_stopping_rounds=30)"
      ],
      "execution_count": 109,
      "outputs": []
    },
    {
      "cell_type": "code",
      "metadata": {
        "scrolled": true,
        "colab": {
          "base_uri": "https://localhost:8080/",
          "height": 1000
        },
        "id": "wpVHHp3s-Khn",
        "outputId": "cf49f5c4-3744-4633-d580-e134b4622e74"
      },
      "source": [
        "cvresult1"
      ],
      "execution_count": 110,
      "outputs": [
        {
          "output_type": "execute_result",
          "data": {
            "text/html": [
              "<div>\n",
              "<style scoped>\n",
              "    .dataframe tbody tr th:only-of-type {\n",
              "        vertical-align: middle;\n",
              "    }\n",
              "\n",
              "    .dataframe tbody tr th {\n",
              "        vertical-align: top;\n",
              "    }\n",
              "\n",
              "    .dataframe thead th {\n",
              "        text-align: right;\n",
              "    }\n",
              "</style>\n",
              "<table border=\"1\" class=\"dataframe\">\n",
              "  <thead>\n",
              "    <tr style=\"text-align: right;\">\n",
              "      <th></th>\n",
              "      <th>train-rmse-mean</th>\n",
              "      <th>train-rmse-std</th>\n",
              "      <th>test-rmse-mean</th>\n",
              "      <th>test-rmse-std</th>\n",
              "    </tr>\n",
              "  </thead>\n",
              "  <tbody>\n",
              "    <tr>\n",
              "      <th>0</th>\n",
              "      <td>10.856636</td>\n",
              "      <td>0.043102</td>\n",
              "      <td>10.859516</td>\n",
              "      <td>0.420760</td>\n",
              "    </tr>\n",
              "    <tr>\n",
              "      <th>1</th>\n",
              "      <td>10.089733</td>\n",
              "      <td>0.039051</td>\n",
              "      <td>10.107532</td>\n",
              "      <td>0.415965</td>\n",
              "    </tr>\n",
              "    <tr>\n",
              "      <th>2</th>\n",
              "      <td>9.421125</td>\n",
              "      <td>0.035710</td>\n",
              "      <td>9.449823</td>\n",
              "      <td>0.407482</td>\n",
              "    </tr>\n",
              "    <tr>\n",
              "      <th>3</th>\n",
              "      <td>8.839414</td>\n",
              "      <td>0.032645</td>\n",
              "      <td>8.880715</td>\n",
              "      <td>0.393135</td>\n",
              "    </tr>\n",
              "    <tr>\n",
              "      <th>4</th>\n",
              "      <td>8.337931</td>\n",
              "      <td>0.030094</td>\n",
              "      <td>8.393383</td>\n",
              "      <td>0.388384</td>\n",
              "    </tr>\n",
              "    <tr>\n",
              "      <th>5</th>\n",
              "      <td>7.905255</td>\n",
              "      <td>0.027147</td>\n",
              "      <td>7.974501</td>\n",
              "      <td>0.376932</td>\n",
              "    </tr>\n",
              "    <tr>\n",
              "      <th>6</th>\n",
              "      <td>7.535473</td>\n",
              "      <td>0.026594</td>\n",
              "      <td>7.622103</td>\n",
              "      <td>0.366377</td>\n",
              "    </tr>\n",
              "    <tr>\n",
              "      <th>7</th>\n",
              "      <td>7.218403</td>\n",
              "      <td>0.025999</td>\n",
              "      <td>7.323305</td>\n",
              "      <td>0.352342</td>\n",
              "    </tr>\n",
              "    <tr>\n",
              "      <th>8</th>\n",
              "      <td>6.950191</td>\n",
              "      <td>0.024143</td>\n",
              "      <td>7.075010</td>\n",
              "      <td>0.339911</td>\n",
              "    </tr>\n",
              "    <tr>\n",
              "      <th>9</th>\n",
              "      <td>6.721911</td>\n",
              "      <td>0.025225</td>\n",
              "      <td>6.862280</td>\n",
              "      <td>0.328447</td>\n",
              "    </tr>\n",
              "    <tr>\n",
              "      <th>10</th>\n",
              "      <td>6.529577</td>\n",
              "      <td>0.024540</td>\n",
              "      <td>6.684206</td>\n",
              "      <td>0.312819</td>\n",
              "    </tr>\n",
              "    <tr>\n",
              "      <th>11</th>\n",
              "      <td>6.367923</td>\n",
              "      <td>0.023260</td>\n",
              "      <td>6.537742</td>\n",
              "      <td>0.302825</td>\n",
              "    </tr>\n",
              "    <tr>\n",
              "      <th>12</th>\n",
              "      <td>6.231281</td>\n",
              "      <td>0.024635</td>\n",
              "      <td>6.415015</td>\n",
              "      <td>0.291473</td>\n",
              "    </tr>\n",
              "    <tr>\n",
              "      <th>13</th>\n",
              "      <td>6.115532</td>\n",
              "      <td>0.024968</td>\n",
              "      <td>6.314867</td>\n",
              "      <td>0.284777</td>\n",
              "    </tr>\n",
              "    <tr>\n",
              "      <th>14</th>\n",
              "      <td>6.019941</td>\n",
              "      <td>0.024971</td>\n",
              "      <td>6.230052</td>\n",
              "      <td>0.271477</td>\n",
              "    </tr>\n",
              "    <tr>\n",
              "      <th>15</th>\n",
              "      <td>5.939266</td>\n",
              "      <td>0.026385</td>\n",
              "      <td>6.162918</td>\n",
              "      <td>0.259140</td>\n",
              "    </tr>\n",
              "    <tr>\n",
              "      <th>16</th>\n",
              "      <td>5.872556</td>\n",
              "      <td>0.025534</td>\n",
              "      <td>6.110585</td>\n",
              "      <td>0.251303</td>\n",
              "    </tr>\n",
              "    <tr>\n",
              "      <th>17</th>\n",
              "      <td>5.815284</td>\n",
              "      <td>0.025069</td>\n",
              "      <td>6.065343</td>\n",
              "      <td>0.244939</td>\n",
              "    </tr>\n",
              "    <tr>\n",
              "      <th>18</th>\n",
              "      <td>5.766320</td>\n",
              "      <td>0.023645</td>\n",
              "      <td>6.030593</td>\n",
              "      <td>0.239586</td>\n",
              "    </tr>\n",
              "    <tr>\n",
              "      <th>19</th>\n",
              "      <td>5.724091</td>\n",
              "      <td>0.026329</td>\n",
              "      <td>6.002839</td>\n",
              "      <td>0.230670</td>\n",
              "    </tr>\n",
              "    <tr>\n",
              "      <th>20</th>\n",
              "      <td>5.689284</td>\n",
              "      <td>0.026251</td>\n",
              "      <td>5.981411</td>\n",
              "      <td>0.225864</td>\n",
              "    </tr>\n",
              "    <tr>\n",
              "      <th>21</th>\n",
              "      <td>5.659368</td>\n",
              "      <td>0.026683</td>\n",
              "      <td>5.965016</td>\n",
              "      <td>0.222513</td>\n",
              "    </tr>\n",
              "    <tr>\n",
              "      <th>22</th>\n",
              "      <td>5.632698</td>\n",
              "      <td>0.026587</td>\n",
              "      <td>5.947741</td>\n",
              "      <td>0.221574</td>\n",
              "    </tr>\n",
              "    <tr>\n",
              "      <th>23</th>\n",
              "      <td>5.610133</td>\n",
              "      <td>0.027223</td>\n",
              "      <td>5.937838</td>\n",
              "      <td>0.221487</td>\n",
              "    </tr>\n",
              "    <tr>\n",
              "      <th>24</th>\n",
              "      <td>5.588153</td>\n",
              "      <td>0.028508</td>\n",
              "      <td>5.932211</td>\n",
              "      <td>0.219401</td>\n",
              "    </tr>\n",
              "    <tr>\n",
              "      <th>25</th>\n",
              "      <td>5.570686</td>\n",
              "      <td>0.027935</td>\n",
              "      <td>5.923208</td>\n",
              "      <td>0.215595</td>\n",
              "    </tr>\n",
              "    <tr>\n",
              "      <th>26</th>\n",
              "      <td>5.553837</td>\n",
              "      <td>0.027686</td>\n",
              "      <td>5.919980</td>\n",
              "      <td>0.211285</td>\n",
              "    </tr>\n",
              "    <tr>\n",
              "      <th>27</th>\n",
              "      <td>5.540290</td>\n",
              "      <td>0.027808</td>\n",
              "      <td>5.916847</td>\n",
              "      <td>0.208451</td>\n",
              "    </tr>\n",
              "    <tr>\n",
              "      <th>28</th>\n",
              "      <td>5.525926</td>\n",
              "      <td>0.028517</td>\n",
              "      <td>5.915077</td>\n",
              "      <td>0.209573</td>\n",
              "    </tr>\n",
              "    <tr>\n",
              "      <th>29</th>\n",
              "      <td>5.513622</td>\n",
              "      <td>0.029488</td>\n",
              "      <td>5.913847</td>\n",
              "      <td>0.208183</td>\n",
              "    </tr>\n",
              "    <tr>\n",
              "      <th>30</th>\n",
              "      <td>5.500570</td>\n",
              "      <td>0.027031</td>\n",
              "      <td>5.911433</td>\n",
              "      <td>0.207675</td>\n",
              "    </tr>\n",
              "    <tr>\n",
              "      <th>31</th>\n",
              "      <td>5.490919</td>\n",
              "      <td>0.025838</td>\n",
              "      <td>5.909239</td>\n",
              "      <td>0.210420</td>\n",
              "    </tr>\n",
              "  </tbody>\n",
              "</table>\n",
              "</div>"
            ],
            "text/plain": [
              "    train-rmse-mean  train-rmse-std  test-rmse-mean  test-rmse-std\n",
              "0         10.856636        0.043102       10.859516       0.420760\n",
              "1         10.089733        0.039051       10.107532       0.415965\n",
              "2          9.421125        0.035710        9.449823       0.407482\n",
              "3          8.839414        0.032645        8.880715       0.393135\n",
              "4          8.337931        0.030094        8.393383       0.388384\n",
              "5          7.905255        0.027147        7.974501       0.376932\n",
              "6          7.535473        0.026594        7.622103       0.366377\n",
              "7          7.218403        0.025999        7.323305       0.352342\n",
              "8          6.950191        0.024143        7.075010       0.339911\n",
              "9          6.721911        0.025225        6.862280       0.328447\n",
              "10         6.529577        0.024540        6.684206       0.312819\n",
              "11         6.367923        0.023260        6.537742       0.302825\n",
              "12         6.231281        0.024635        6.415015       0.291473\n",
              "13         6.115532        0.024968        6.314867       0.284777\n",
              "14         6.019941        0.024971        6.230052       0.271477\n",
              "15         5.939266        0.026385        6.162918       0.259140\n",
              "16         5.872556        0.025534        6.110585       0.251303\n",
              "17         5.815284        0.025069        6.065343       0.244939\n",
              "18         5.766320        0.023645        6.030593       0.239586\n",
              "19         5.724091        0.026329        6.002839       0.230670\n",
              "20         5.689284        0.026251        5.981411       0.225864\n",
              "21         5.659368        0.026683        5.965016       0.222513\n",
              "22         5.632698        0.026587        5.947741       0.221574\n",
              "23         5.610133        0.027223        5.937838       0.221487\n",
              "24         5.588153        0.028508        5.932211       0.219401\n",
              "25         5.570686        0.027935        5.923208       0.215595\n",
              "26         5.553837        0.027686        5.919980       0.211285\n",
              "27         5.540290        0.027808        5.916847       0.208451\n",
              "28         5.525926        0.028517        5.915077       0.209573\n",
              "29         5.513622        0.029488        5.913847       0.208183\n",
              "30         5.500570        0.027031        5.911433       0.207675\n",
              "31         5.490919        0.025838        5.909239       0.210420"
            ]
          },
          "metadata": {
            "tags": []
          },
          "execution_count": 110
        }
      ]
    },
    {
      "cell_type": "code",
      "metadata": {
        "colab": {
          "base_uri": "https://localhost:8080/"
        },
        "id": "Kn5bHgG--Khp",
        "outputId": "41e53dc3-9652-4327-8218-1b5aaf873768"
      },
      "source": [
        "xgb_reg.set_params(n_estimators = cvresult1.shape[0])"
      ],
      "execution_count": 111,
      "outputs": [
        {
          "output_type": "execute_result",
          "data": {
            "text/plain": [
              "XGBRegressor(base_score=0.5, booster='gbtree', colsample_bylevel=1,\n",
              "             colsample_bynode=1, colsample_bytree=1, gamma=0,\n",
              "             importance_type='gain', learning_rate=0.1, max_delta_step=0,\n",
              "             max_depth=3, min_child_weight=1, missing=None, n_estimators=32,\n",
              "             n_jobs=1, nthread=None, objective='reg:squarederror',\n",
              "             random_state=1234, reg_alpha=0, reg_lambda=1, scale_pos_weight=1,\n",
              "             seed=None, silent=None, subsample=1, verbosity=1)"
            ]
          },
          "metadata": {
            "tags": []
          },
          "execution_count": 111
        }
      ]
    },
    {
      "cell_type": "code",
      "metadata": {
        "scrolled": true,
        "colab": {
          "base_uri": "https://localhost:8080/"
        },
        "id": "cLYpLbCH-Khq",
        "outputId": "ad4157a6-03eb-4765-d0d9-2a9337ec380a"
      },
      "source": [
        "start_time = time.time()\n",
        "\n",
        "xgb_reg.fit(X_train, y_train, eval_set = [(X_test, y_test)], eval_metric = 'rmse', early_stopping_rounds = 30)\n",
        "\n",
        "print(\"--- %s seconds ---\" % (time.time() - start_time))"
      ],
      "execution_count": 112,
      "outputs": [
        {
          "output_type": "stream",
          "text": [
            "[0]\tvalidation_0-rmse:9.93755\n",
            "Will train until validation_0-rmse hasn't improved in 30 rounds.\n",
            "[1]\tvalidation_0-rmse:9.1973\n",
            "[2]\tvalidation_0-rmse:8.55959\n",
            "[3]\tvalidation_0-rmse:8.01748\n",
            "[4]\tvalidation_0-rmse:7.5434\n",
            "[5]\tvalidation_0-rmse:7.15628\n",
            "[6]\tvalidation_0-rmse:6.83444\n",
            "[7]\tvalidation_0-rmse:6.55825\n",
            "[8]\tvalidation_0-rmse:6.34185\n",
            "[9]\tvalidation_0-rmse:6.15608\n",
            "[10]\tvalidation_0-rmse:6.01452\n",
            "[11]\tvalidation_0-rmse:5.90797\n",
            "[12]\tvalidation_0-rmse:5.81846\n",
            "[13]\tvalidation_0-rmse:5.75379\n",
            "[14]\tvalidation_0-rmse:5.70457\n",
            "[15]\tvalidation_0-rmse:5.66234\n",
            "[16]\tvalidation_0-rmse:5.63304\n",
            "[17]\tvalidation_0-rmse:5.61618\n",
            "[18]\tvalidation_0-rmse:5.60698\n",
            "[19]\tvalidation_0-rmse:5.59981\n",
            "[20]\tvalidation_0-rmse:5.60274\n",
            "[21]\tvalidation_0-rmse:5.6069\n",
            "[22]\tvalidation_0-rmse:5.61234\n",
            "[23]\tvalidation_0-rmse:5.61356\n",
            "[24]\tvalidation_0-rmse:5.62601\n",
            "[25]\tvalidation_0-rmse:5.63364\n",
            "[26]\tvalidation_0-rmse:5.64487\n",
            "[27]\tvalidation_0-rmse:5.65219\n",
            "[28]\tvalidation_0-rmse:5.65158\n",
            "[29]\tvalidation_0-rmse:5.65487\n",
            "[30]\tvalidation_0-rmse:5.66861\n",
            "[31]\tvalidation_0-rmse:5.67684\n",
            "--- 0.23098301887512207 seconds ---\n"
          ],
          "name": "stdout"
        }
      ]
    },
    {
      "cell_type": "code",
      "metadata": {
        "colab": {
          "base_uri": "https://localhost:8080/"
        },
        "id": "IyP0xdyQ-Khr",
        "outputId": "caf1a1c2-6708-4040-f010-ab86d1b1b025"
      },
      "source": [
        "from sklearn.metrics import mean_squared_error, make_scorer\n",
        "\n",
        "the_scorer = make_scorer(mean_squared_error)\n",
        "\n",
        "param_test1 = {\n",
        " 'max_depth':[2, 3, 5, 7, 11, 13, 17],\n",
        " 'min_child_weight':range(1,6),\n",
        " 'n_estimators':[32]  # AS the result from the cross validation for finding n_estimators\n",
        "}\n",
        "\n",
        "gsearch1 = GridSearchCV(estimator = xgb_reg, param_grid = param_test1, scoring=the_scorer,n_jobs=-1,iid=False, cv=10)\n",
        "\n",
        "## Fit 350 times\n",
        "gsearch1.fit(X_train,y_train)\n",
        "\n",
        "gsearch1.best_params_ , np.sqrt(gsearch1.best_score_)"
      ],
      "execution_count": 113,
      "outputs": [
        {
          "output_type": "stream",
          "text": [
            "/usr/local/lib/python3.7/dist-packages/sklearn/model_selection/_search.py:823: FutureWarning:\n",
            "\n",
            "The parameter 'iid' is deprecated in 0.22 and will be removed in 0.24.\n",
            "\n"
          ],
          "name": "stderr"
        },
        {
          "output_type": "execute_result",
          "data": {
            "text/plain": [
              "({'max_depth': 17, 'min_child_weight': 1, 'n_estimators': 32},\n",
              " 6.464740602929939)"
            ]
          },
          "metadata": {
            "tags": []
          },
          "execution_count": 113
        }
      ]
    },
    {
      "cell_type": "code",
      "metadata": {
        "scrolled": true,
        "colab": {
          "base_uri": "https://localhost:8080/"
        },
        "id": "-CP9fhsH-Khs",
        "outputId": "80de4a59-c8c7-44ad-d1ce-03fce7545223"
      },
      "source": [
        "xgb_reg.set_params(max_depth = 17,  min_child_weight= 1 )\n",
        "xgb_reg.fit(X_train, y_train, eval_set = [(X_test, y_test)], eval_metric = 'rmse', early_stopping_rounds = 30)"
      ],
      "execution_count": 114,
      "outputs": [
        {
          "output_type": "stream",
          "text": [
            "[0]\tvalidation_0-rmse:10.0079\n",
            "Will train until validation_0-rmse hasn't improved in 30 rounds.\n",
            "[1]\tvalidation_0-rmse:9.38882\n",
            "[2]\tvalidation_0-rmse:8.85342\n",
            "[3]\tvalidation_0-rmse:8.3632\n",
            "[4]\tvalidation_0-rmse:7.94117\n",
            "[5]\tvalidation_0-rmse:7.61549\n",
            "[6]\tvalidation_0-rmse:7.34133\n",
            "[7]\tvalidation_0-rmse:7.10822\n",
            "[8]\tvalidation_0-rmse:6.90682\n",
            "[9]\tvalidation_0-rmse:6.73261\n",
            "[10]\tvalidation_0-rmse:6.59447\n",
            "[11]\tvalidation_0-rmse:6.49588\n",
            "[12]\tvalidation_0-rmse:6.43256\n",
            "[13]\tvalidation_0-rmse:6.37582\n",
            "[14]\tvalidation_0-rmse:6.33617\n",
            "[15]\tvalidation_0-rmse:6.31675\n",
            "[16]\tvalidation_0-rmse:6.29511\n",
            "[17]\tvalidation_0-rmse:6.28277\n",
            "[18]\tvalidation_0-rmse:6.27554\n",
            "[19]\tvalidation_0-rmse:6.271\n",
            "[20]\tvalidation_0-rmse:6.26663\n",
            "[21]\tvalidation_0-rmse:6.26365\n",
            "[22]\tvalidation_0-rmse:6.26971\n",
            "[23]\tvalidation_0-rmse:6.28506\n",
            "[24]\tvalidation_0-rmse:6.30589\n",
            "[25]\tvalidation_0-rmse:6.3167\n",
            "[26]\tvalidation_0-rmse:6.31941\n",
            "[27]\tvalidation_0-rmse:6.33542\n",
            "[28]\tvalidation_0-rmse:6.3554\n",
            "[29]\tvalidation_0-rmse:6.36273\n",
            "[30]\tvalidation_0-rmse:6.37003\n",
            "[31]\tvalidation_0-rmse:6.37236\n"
          ],
          "name": "stdout"
        },
        {
          "output_type": "execute_result",
          "data": {
            "text/plain": [
              "XGBRegressor(base_score=0.5, booster='gbtree', colsample_bylevel=1,\n",
              "             colsample_bynode=1, colsample_bytree=1, gamma=0,\n",
              "             importance_type='gain', learning_rate=0.1, max_delta_step=0,\n",
              "             max_depth=17, min_child_weight=1, missing=None, n_estimators=32,\n",
              "             n_jobs=1, nthread=None, objective='reg:squarederror',\n",
              "             random_state=1234, reg_alpha=0, reg_lambda=1, scale_pos_weight=1,\n",
              "             seed=None, silent=None, subsample=1, verbosity=1)"
            ]
          },
          "metadata": {
            "tags": []
          },
          "execution_count": 114
        }
      ]
    },
    {
      "cell_type": "markdown",
      "metadata": {
        "id": "XM4vEXJn-Kht"
      },
      "source": [
        "Tune Gamma"
      ]
    },
    {
      "cell_type": "code",
      "metadata": {
        "scrolled": true,
        "colab": {
          "base_uri": "https://localhost:8080/",
          "height": 1000
        },
        "id": "uexgaRDA-Kht",
        "outputId": "6c2dcab6-e7eb-4af9-d16a-b930ade15190"
      },
      "source": [
        "# Recalibrate\n",
        "\n",
        "xgb_param2 = xgb_reg.get_xgb_params()\n",
        "cvresult2 = cv(xgb_param2, xgtrain1, num_boost_round=xgb_reg.get_params()['n_estimators'], nfold=10,\n",
        "            metrics='rmse', early_stopping_rounds=30)\n",
        "cvresult2"
      ],
      "execution_count": 115,
      "outputs": [
        {
          "output_type": "execute_result",
          "data": {
            "text/html": [
              "<div>\n",
              "<style scoped>\n",
              "    .dataframe tbody tr th:only-of-type {\n",
              "        vertical-align: middle;\n",
              "    }\n",
              "\n",
              "    .dataframe tbody tr th {\n",
              "        vertical-align: top;\n",
              "    }\n",
              "\n",
              "    .dataframe thead th {\n",
              "        text-align: right;\n",
              "    }\n",
              "</style>\n",
              "<table border=\"1\" class=\"dataframe\">\n",
              "  <thead>\n",
              "    <tr style=\"text-align: right;\">\n",
              "      <th></th>\n",
              "      <th>train-rmse-mean</th>\n",
              "      <th>train-rmse-std</th>\n",
              "      <th>test-rmse-mean</th>\n",
              "      <th>test-rmse-std</th>\n",
              "    </tr>\n",
              "  </thead>\n",
              "  <tbody>\n",
              "    <tr>\n",
              "      <th>0</th>\n",
              "      <td>10.801234</td>\n",
              "      <td>0.046403</td>\n",
              "      <td>10.938506</td>\n",
              "      <td>0.425041</td>\n",
              "    </tr>\n",
              "    <tr>\n",
              "      <th>1</th>\n",
              "      <td>9.954065</td>\n",
              "      <td>0.040502</td>\n",
              "      <td>10.271582</td>\n",
              "      <td>0.415727</td>\n",
              "    </tr>\n",
              "    <tr>\n",
              "      <th>2</th>\n",
              "      <td>9.174192</td>\n",
              "      <td>0.032888</td>\n",
              "      <td>9.705732</td>\n",
              "      <td>0.414205</td>\n",
              "    </tr>\n",
              "    <tr>\n",
              "      <th>3</th>\n",
              "      <td>8.462006</td>\n",
              "      <td>0.031354</td>\n",
              "      <td>9.211876</td>\n",
              "      <td>0.408491</td>\n",
              "    </tr>\n",
              "    <tr>\n",
              "      <th>4</th>\n",
              "      <td>7.814496</td>\n",
              "      <td>0.028030</td>\n",
              "      <td>8.789205</td>\n",
              "      <td>0.398985</td>\n",
              "    </tr>\n",
              "    <tr>\n",
              "      <th>5</th>\n",
              "      <td>7.227204</td>\n",
              "      <td>0.033512</td>\n",
              "      <td>8.430907</td>\n",
              "      <td>0.415227</td>\n",
              "    </tr>\n",
              "    <tr>\n",
              "      <th>6</th>\n",
              "      <td>6.686376</td>\n",
              "      <td>0.028275</td>\n",
              "      <td>8.112303</td>\n",
              "      <td>0.410049</td>\n",
              "    </tr>\n",
              "    <tr>\n",
              "      <th>7</th>\n",
              "      <td>6.189551</td>\n",
              "      <td>0.035267</td>\n",
              "      <td>7.848474</td>\n",
              "      <td>0.393951</td>\n",
              "    </tr>\n",
              "    <tr>\n",
              "      <th>8</th>\n",
              "      <td>5.749846</td>\n",
              "      <td>0.040877</td>\n",
              "      <td>7.613397</td>\n",
              "      <td>0.394925</td>\n",
              "    </tr>\n",
              "    <tr>\n",
              "      <th>9</th>\n",
              "      <td>5.350822</td>\n",
              "      <td>0.050653</td>\n",
              "      <td>7.420733</td>\n",
              "      <td>0.384963</td>\n",
              "    </tr>\n",
              "    <tr>\n",
              "      <th>10</th>\n",
              "      <td>4.976394</td>\n",
              "      <td>0.059370</td>\n",
              "      <td>7.266540</td>\n",
              "      <td>0.378610</td>\n",
              "    </tr>\n",
              "    <tr>\n",
              "      <th>11</th>\n",
              "      <td>4.637049</td>\n",
              "      <td>0.064943</td>\n",
              "      <td>7.127987</td>\n",
              "      <td>0.364199</td>\n",
              "    </tr>\n",
              "    <tr>\n",
              "      <th>12</th>\n",
              "      <td>4.322666</td>\n",
              "      <td>0.087987</td>\n",
              "      <td>7.014657</td>\n",
              "      <td>0.367493</td>\n",
              "    </tr>\n",
              "    <tr>\n",
              "      <th>13</th>\n",
              "      <td>4.030522</td>\n",
              "      <td>0.081996</td>\n",
              "      <td>6.919668</td>\n",
              "      <td>0.356597</td>\n",
              "    </tr>\n",
              "    <tr>\n",
              "      <th>14</th>\n",
              "      <td>3.762010</td>\n",
              "      <td>0.078146</td>\n",
              "      <td>6.839657</td>\n",
              "      <td>0.343178</td>\n",
              "    </tr>\n",
              "    <tr>\n",
              "      <th>15</th>\n",
              "      <td>3.503497</td>\n",
              "      <td>0.077720</td>\n",
              "      <td>6.767628</td>\n",
              "      <td>0.338650</td>\n",
              "    </tr>\n",
              "    <tr>\n",
              "      <th>16</th>\n",
              "      <td>3.275635</td>\n",
              "      <td>0.077599</td>\n",
              "      <td>6.716203</td>\n",
              "      <td>0.339435</td>\n",
              "    </tr>\n",
              "    <tr>\n",
              "      <th>17</th>\n",
              "      <td>3.057128</td>\n",
              "      <td>0.079810</td>\n",
              "      <td>6.672012</td>\n",
              "      <td>0.339159</td>\n",
              "    </tr>\n",
              "    <tr>\n",
              "      <th>18</th>\n",
              "      <td>2.858893</td>\n",
              "      <td>0.079414</td>\n",
              "      <td>6.631579</td>\n",
              "      <td>0.336418</td>\n",
              "    </tr>\n",
              "    <tr>\n",
              "      <th>19</th>\n",
              "      <td>2.675599</td>\n",
              "      <td>0.077837</td>\n",
              "      <td>6.598872</td>\n",
              "      <td>0.334602</td>\n",
              "    </tr>\n",
              "    <tr>\n",
              "      <th>20</th>\n",
              "      <td>2.508120</td>\n",
              "      <td>0.082416</td>\n",
              "      <td>6.571263</td>\n",
              "      <td>0.333810</td>\n",
              "    </tr>\n",
              "    <tr>\n",
              "      <th>21</th>\n",
              "      <td>2.358779</td>\n",
              "      <td>0.080775</td>\n",
              "      <td>6.550662</td>\n",
              "      <td>0.325400</td>\n",
              "    </tr>\n",
              "    <tr>\n",
              "      <th>22</th>\n",
              "      <td>2.217671</td>\n",
              "      <td>0.073042</td>\n",
              "      <td>6.528635</td>\n",
              "      <td>0.320060</td>\n",
              "    </tr>\n",
              "    <tr>\n",
              "      <th>23</th>\n",
              "      <td>2.096187</td>\n",
              "      <td>0.077883</td>\n",
              "      <td>6.507807</td>\n",
              "      <td>0.318615</td>\n",
              "    </tr>\n",
              "    <tr>\n",
              "      <th>24</th>\n",
              "      <td>1.970843</td>\n",
              "      <td>0.073982</td>\n",
              "      <td>6.491891</td>\n",
              "      <td>0.314639</td>\n",
              "    </tr>\n",
              "    <tr>\n",
              "      <th>25</th>\n",
              "      <td>1.856798</td>\n",
              "      <td>0.079202</td>\n",
              "      <td>6.483540</td>\n",
              "      <td>0.311257</td>\n",
              "    </tr>\n",
              "    <tr>\n",
              "      <th>26</th>\n",
              "      <td>1.752594</td>\n",
              "      <td>0.085552</td>\n",
              "      <td>6.477240</td>\n",
              "      <td>0.309906</td>\n",
              "    </tr>\n",
              "    <tr>\n",
              "      <th>27</th>\n",
              "      <td>1.653072</td>\n",
              "      <td>0.087634</td>\n",
              "      <td>6.472343</td>\n",
              "      <td>0.315536</td>\n",
              "    </tr>\n",
              "    <tr>\n",
              "      <th>28</th>\n",
              "      <td>1.561537</td>\n",
              "      <td>0.091577</td>\n",
              "      <td>6.468693</td>\n",
              "      <td>0.317550</td>\n",
              "    </tr>\n",
              "    <tr>\n",
              "      <th>29</th>\n",
              "      <td>1.477707</td>\n",
              "      <td>0.098206</td>\n",
              "      <td>6.463517</td>\n",
              "      <td>0.316431</td>\n",
              "    </tr>\n",
              "    <tr>\n",
              "      <th>30</th>\n",
              "      <td>1.398726</td>\n",
              "      <td>0.101062</td>\n",
              "      <td>6.466909</td>\n",
              "      <td>0.317104</td>\n",
              "    </tr>\n",
              "    <tr>\n",
              "      <th>31</th>\n",
              "      <td>1.326995</td>\n",
              "      <td>0.104977</td>\n",
              "      <td>6.466214</td>\n",
              "      <td>0.313799</td>\n",
              "    </tr>\n",
              "  </tbody>\n",
              "</table>\n",
              "</div>"
            ],
            "text/plain": [
              "    train-rmse-mean  train-rmse-std  test-rmse-mean  test-rmse-std\n",
              "0         10.801234        0.046403       10.938506       0.425041\n",
              "1          9.954065        0.040502       10.271582       0.415727\n",
              "2          9.174192        0.032888        9.705732       0.414205\n",
              "3          8.462006        0.031354        9.211876       0.408491\n",
              "4          7.814496        0.028030        8.789205       0.398985\n",
              "5          7.227204        0.033512        8.430907       0.415227\n",
              "6          6.686376        0.028275        8.112303       0.410049\n",
              "7          6.189551        0.035267        7.848474       0.393951\n",
              "8          5.749846        0.040877        7.613397       0.394925\n",
              "9          5.350822        0.050653        7.420733       0.384963\n",
              "10         4.976394        0.059370        7.266540       0.378610\n",
              "11         4.637049        0.064943        7.127987       0.364199\n",
              "12         4.322666        0.087987        7.014657       0.367493\n",
              "13         4.030522        0.081996        6.919668       0.356597\n",
              "14         3.762010        0.078146        6.839657       0.343178\n",
              "15         3.503497        0.077720        6.767628       0.338650\n",
              "16         3.275635        0.077599        6.716203       0.339435\n",
              "17         3.057128        0.079810        6.672012       0.339159\n",
              "18         2.858893        0.079414        6.631579       0.336418\n",
              "19         2.675599        0.077837        6.598872       0.334602\n",
              "20         2.508120        0.082416        6.571263       0.333810\n",
              "21         2.358779        0.080775        6.550662       0.325400\n",
              "22         2.217671        0.073042        6.528635       0.320060\n",
              "23         2.096187        0.077883        6.507807       0.318615\n",
              "24         1.970843        0.073982        6.491891       0.314639\n",
              "25         1.856798        0.079202        6.483540       0.311257\n",
              "26         1.752594        0.085552        6.477240       0.309906\n",
              "27         1.653072        0.087634        6.472343       0.315536\n",
              "28         1.561537        0.091577        6.468693       0.317550\n",
              "29         1.477707        0.098206        6.463517       0.316431\n",
              "30         1.398726        0.101062        6.466909       0.317104\n",
              "31         1.326995        0.104977        6.466214       0.313799"
            ]
          },
          "metadata": {
            "tags": []
          },
          "execution_count": 115
        }
      ]
    },
    {
      "cell_type": "code",
      "metadata": {
        "colab": {
          "base_uri": "https://localhost:8080/"
        },
        "id": "uy_QQWfv-Khv",
        "outputId": "61270be3-6eb4-4b25-eb1a-3b44b21c647a"
      },
      "source": [
        "xgb_reg.set_params(n_estimators = cvresult2.shape[0])"
      ],
      "execution_count": 116,
      "outputs": [
        {
          "output_type": "execute_result",
          "data": {
            "text/plain": [
              "XGBRegressor(base_score=0.5, booster='gbtree', colsample_bylevel=1,\n",
              "             colsample_bynode=1, colsample_bytree=1, gamma=0,\n",
              "             importance_type='gain', learning_rate=0.1, max_delta_step=0,\n",
              "             max_depth=17, min_child_weight=1, missing=None, n_estimators=32,\n",
              "             n_jobs=1, nthread=None, objective='reg:squarederror',\n",
              "             random_state=1234, reg_alpha=0, reg_lambda=1, scale_pos_weight=1,\n",
              "             seed=None, silent=None, subsample=1, verbosity=1)"
            ]
          },
          "metadata": {
            "tags": []
          },
          "execution_count": 116
        }
      ]
    },
    {
      "cell_type": "code",
      "metadata": {
        "colab": {
          "base_uri": "https://localhost:8080/"
        },
        "id": "7CTKny4V-Khw",
        "outputId": "db1e88c3-f1fc-424f-e99d-7ce4926fc0f8"
      },
      "source": [
        "param_test2 = {\n",
        " 'gamma':[0, 0.03, 0.05, 0.07, 0.09, 0.1] \n",
        "}\n",
        "\n",
        "gsearch2 = GridSearchCV(estimator = xgb_reg, param_grid = param_test2, scoring=the_scorer,n_jobs=-1,iid=False, cv=10)\n",
        "\n",
        "gsearch2.fit(X_train,y_train)\n",
        "\n",
        "gsearch2.best_params_ , np.sqrt(gsearch2.best_score_)"
      ],
      "execution_count": 117,
      "outputs": [
        {
          "output_type": "stream",
          "text": [
            "/usr/local/lib/python3.7/dist-packages/sklearn/model_selection/_search.py:823: FutureWarning:\n",
            "\n",
            "The parameter 'iid' is deprecated in 0.22 and will be removed in 0.24.\n",
            "\n"
          ],
          "name": "stderr"
        },
        {
          "output_type": "execute_result",
          "data": {
            "text/plain": [
              "({'gamma': 0.05}, 6.465094807680028)"
            ]
          },
          "metadata": {
            "tags": []
          },
          "execution_count": 117
        }
      ]
    },
    {
      "cell_type": "code",
      "metadata": {
        "scrolled": true,
        "colab": {
          "base_uri": "https://localhost:8080/"
        },
        "id": "CN3OaDOV-Khx",
        "outputId": "57660f5d-ef80-4e4e-f3b2-2e9506091690"
      },
      "source": [
        "xgb_reg.set_params(gamma = 0.05)\n",
        "xgb_reg.fit(X_train, y_train, eval_set = [(X_test, y_test)], eval_metric = 'rmse', early_stopping_rounds = 30)"
      ],
      "execution_count": 118,
      "outputs": [
        {
          "output_type": "stream",
          "text": [
            "[0]\tvalidation_0-rmse:10.0079\n",
            "Will train until validation_0-rmse hasn't improved in 30 rounds.\n",
            "[1]\tvalidation_0-rmse:9.38882\n",
            "[2]\tvalidation_0-rmse:8.85342\n",
            "[3]\tvalidation_0-rmse:8.36318\n",
            "[4]\tvalidation_0-rmse:7.94076\n",
            "[5]\tvalidation_0-rmse:7.61467\n",
            "[6]\tvalidation_0-rmse:7.34055\n",
            "[7]\tvalidation_0-rmse:7.10739\n",
            "[8]\tvalidation_0-rmse:6.90617\n",
            "[9]\tvalidation_0-rmse:6.73532\n",
            "[10]\tvalidation_0-rmse:6.59672\n",
            "[11]\tvalidation_0-rmse:6.48417\n",
            "[12]\tvalidation_0-rmse:6.43225\n",
            "[13]\tvalidation_0-rmse:6.36541\n",
            "[14]\tvalidation_0-rmse:6.31867\n",
            "[15]\tvalidation_0-rmse:6.27745\n",
            "[16]\tvalidation_0-rmse:6.26866\n",
            "[17]\tvalidation_0-rmse:6.26221\n",
            "[18]\tvalidation_0-rmse:6.25603\n",
            "[19]\tvalidation_0-rmse:6.25754\n",
            "[20]\tvalidation_0-rmse:6.25173\n",
            "[21]\tvalidation_0-rmse:6.24623\n",
            "[22]\tvalidation_0-rmse:6.24996\n",
            "[23]\tvalidation_0-rmse:6.24817\n",
            "[24]\tvalidation_0-rmse:6.25707\n",
            "[25]\tvalidation_0-rmse:6.27086\n",
            "[26]\tvalidation_0-rmse:6.28078\n",
            "[27]\tvalidation_0-rmse:6.29085\n",
            "[28]\tvalidation_0-rmse:6.30245\n",
            "[29]\tvalidation_0-rmse:6.31251\n",
            "[30]\tvalidation_0-rmse:6.32731\n",
            "[31]\tvalidation_0-rmse:6.3409\n"
          ],
          "name": "stdout"
        },
        {
          "output_type": "execute_result",
          "data": {
            "text/plain": [
              "XGBRegressor(base_score=0.5, booster='gbtree', colsample_bylevel=1,\n",
              "             colsample_bynode=1, colsample_bytree=1, gamma=0.05,\n",
              "             importance_type='gain', learning_rate=0.1, max_delta_step=0,\n",
              "             max_depth=17, min_child_weight=1, missing=None, n_estimators=32,\n",
              "             n_jobs=1, nthread=None, objective='reg:squarederror',\n",
              "             random_state=1234, reg_alpha=0, reg_lambda=1, scale_pos_weight=1,\n",
              "             seed=None, silent=None, subsample=1, verbosity=1)"
            ]
          },
          "metadata": {
            "tags": []
          },
          "execution_count": 118
        }
      ]
    },
    {
      "cell_type": "markdown",
      "metadata": {
        "id": "dP8zZ9BU-Khy"
      },
      "source": [
        "Tune Regularization"
      ]
    },
    {
      "cell_type": "code",
      "metadata": {
        "scrolled": true,
        "colab": {
          "base_uri": "https://localhost:8080/",
          "height": 1000
        },
        "id": "eOucD4A7-Khy",
        "outputId": "f24b861f-a2a7-4b85-b402-ed5dcb8544e2"
      },
      "source": [
        "# REcalibrate\n",
        "xgb_param3 = xgb_reg.get_xgb_params()\n",
        "\n",
        "cvresult3 = cv(xgb_param3, xgtrain1, num_boost_round=xgb_reg.get_params()['n_estimators'], nfold=10,\n",
        "            metrics='rmse', early_stopping_rounds=30)\n",
        "cvresult3"
      ],
      "execution_count": 119,
      "outputs": [
        {
          "output_type": "execute_result",
          "data": {
            "text/html": [
              "<div>\n",
              "<style scoped>\n",
              "    .dataframe tbody tr th:only-of-type {\n",
              "        vertical-align: middle;\n",
              "    }\n",
              "\n",
              "    .dataframe tbody tr th {\n",
              "        vertical-align: top;\n",
              "    }\n",
              "\n",
              "    .dataframe thead th {\n",
              "        text-align: right;\n",
              "    }\n",
              "</style>\n",
              "<table border=\"1\" class=\"dataframe\">\n",
              "  <thead>\n",
              "    <tr style=\"text-align: right;\">\n",
              "      <th></th>\n",
              "      <th>train-rmse-mean</th>\n",
              "      <th>train-rmse-std</th>\n",
              "      <th>test-rmse-mean</th>\n",
              "      <th>test-rmse-std</th>\n",
              "    </tr>\n",
              "  </thead>\n",
              "  <tbody>\n",
              "    <tr>\n",
              "      <th>0</th>\n",
              "      <td>10.801234</td>\n",
              "      <td>0.046403</td>\n",
              "      <td>10.938559</td>\n",
              "      <td>0.425038</td>\n",
              "    </tr>\n",
              "    <tr>\n",
              "      <th>1</th>\n",
              "      <td>9.954067</td>\n",
              "      <td>0.040504</td>\n",
              "      <td>10.271164</td>\n",
              "      <td>0.415710</td>\n",
              "    </tr>\n",
              "    <tr>\n",
              "      <th>2</th>\n",
              "      <td>9.174200</td>\n",
              "      <td>0.032887</td>\n",
              "      <td>9.704827</td>\n",
              "      <td>0.414301</td>\n",
              "    </tr>\n",
              "    <tr>\n",
              "      <th>3</th>\n",
              "      <td>8.461823</td>\n",
              "      <td>0.031285</td>\n",
              "      <td>9.216307</td>\n",
              "      <td>0.404813</td>\n",
              "    </tr>\n",
              "    <tr>\n",
              "      <th>4</th>\n",
              "      <td>7.813993</td>\n",
              "      <td>0.028002</td>\n",
              "      <td>8.790761</td>\n",
              "      <td>0.397591</td>\n",
              "    </tr>\n",
              "    <tr>\n",
              "      <th>5</th>\n",
              "      <td>7.225406</td>\n",
              "      <td>0.033015</td>\n",
              "      <td>8.436633</td>\n",
              "      <td>0.407823</td>\n",
              "    </tr>\n",
              "    <tr>\n",
              "      <th>6</th>\n",
              "      <td>6.685994</td>\n",
              "      <td>0.029739</td>\n",
              "      <td>8.117528</td>\n",
              "      <td>0.400605</td>\n",
              "    </tr>\n",
              "    <tr>\n",
              "      <th>7</th>\n",
              "      <td>6.184771</td>\n",
              "      <td>0.032552</td>\n",
              "      <td>7.856476</td>\n",
              "      <td>0.388117</td>\n",
              "    </tr>\n",
              "    <tr>\n",
              "      <th>8</th>\n",
              "      <td>5.744849</td>\n",
              "      <td>0.039341</td>\n",
              "      <td>7.623438</td>\n",
              "      <td>0.386998</td>\n",
              "    </tr>\n",
              "    <tr>\n",
              "      <th>9</th>\n",
              "      <td>5.346852</td>\n",
              "      <td>0.053041</td>\n",
              "      <td>7.418962</td>\n",
              "      <td>0.378152</td>\n",
              "    </tr>\n",
              "    <tr>\n",
              "      <th>10</th>\n",
              "      <td>4.979790</td>\n",
              "      <td>0.066119</td>\n",
              "      <td>7.253702</td>\n",
              "      <td>0.367334</td>\n",
              "    </tr>\n",
              "    <tr>\n",
              "      <th>11</th>\n",
              "      <td>4.647172</td>\n",
              "      <td>0.090051</td>\n",
              "      <td>7.123643</td>\n",
              "      <td>0.358236</td>\n",
              "    </tr>\n",
              "    <tr>\n",
              "      <th>12</th>\n",
              "      <td>4.341229</td>\n",
              "      <td>0.089815</td>\n",
              "      <td>7.007501</td>\n",
              "      <td>0.347538</td>\n",
              "    </tr>\n",
              "    <tr>\n",
              "      <th>13</th>\n",
              "      <td>4.049830</td>\n",
              "      <td>0.090683</td>\n",
              "      <td>6.899883</td>\n",
              "      <td>0.330931</td>\n",
              "    </tr>\n",
              "    <tr>\n",
              "      <th>14</th>\n",
              "      <td>3.786295</td>\n",
              "      <td>0.086696</td>\n",
              "      <td>6.818067</td>\n",
              "      <td>0.322367</td>\n",
              "    </tr>\n",
              "    <tr>\n",
              "      <th>15</th>\n",
              "      <td>3.539198</td>\n",
              "      <td>0.077342</td>\n",
              "      <td>6.742855</td>\n",
              "      <td>0.307770</td>\n",
              "    </tr>\n",
              "    <tr>\n",
              "      <th>16</th>\n",
              "      <td>3.323510</td>\n",
              "      <td>0.068440</td>\n",
              "      <td>6.684406</td>\n",
              "      <td>0.302096</td>\n",
              "    </tr>\n",
              "    <tr>\n",
              "      <th>17</th>\n",
              "      <td>3.107239</td>\n",
              "      <td>0.065560</td>\n",
              "      <td>6.643730</td>\n",
              "      <td>0.292987</td>\n",
              "    </tr>\n",
              "    <tr>\n",
              "      <th>18</th>\n",
              "      <td>2.915298</td>\n",
              "      <td>0.072838</td>\n",
              "      <td>6.601427</td>\n",
              "      <td>0.285437</td>\n",
              "    </tr>\n",
              "    <tr>\n",
              "      <th>19</th>\n",
              "      <td>2.727314</td>\n",
              "      <td>0.073340</td>\n",
              "      <td>6.571117</td>\n",
              "      <td>0.278170</td>\n",
              "    </tr>\n",
              "    <tr>\n",
              "      <th>20</th>\n",
              "      <td>2.557100</td>\n",
              "      <td>0.073194</td>\n",
              "      <td>6.545933</td>\n",
              "      <td>0.266194</td>\n",
              "    </tr>\n",
              "    <tr>\n",
              "      <th>21</th>\n",
              "      <td>2.403911</td>\n",
              "      <td>0.073480</td>\n",
              "      <td>6.533189</td>\n",
              "      <td>0.262560</td>\n",
              "    </tr>\n",
              "    <tr>\n",
              "      <th>22</th>\n",
              "      <td>2.264151</td>\n",
              "      <td>0.069790</td>\n",
              "      <td>6.516398</td>\n",
              "      <td>0.257134</td>\n",
              "    </tr>\n",
              "    <tr>\n",
              "      <th>23</th>\n",
              "      <td>2.143968</td>\n",
              "      <td>0.075358</td>\n",
              "      <td>6.508259</td>\n",
              "      <td>0.253460</td>\n",
              "    </tr>\n",
              "    <tr>\n",
              "      <th>24</th>\n",
              "      <td>2.023273</td>\n",
              "      <td>0.079400</td>\n",
              "      <td>6.498978</td>\n",
              "      <td>0.248576</td>\n",
              "    </tr>\n",
              "    <tr>\n",
              "      <th>25</th>\n",
              "      <td>1.900854</td>\n",
              "      <td>0.081850</td>\n",
              "      <td>6.491712</td>\n",
              "      <td>0.252456</td>\n",
              "    </tr>\n",
              "    <tr>\n",
              "      <th>26</th>\n",
              "      <td>1.795485</td>\n",
              "      <td>0.081347</td>\n",
              "      <td>6.486147</td>\n",
              "      <td>0.251220</td>\n",
              "    </tr>\n",
              "    <tr>\n",
              "      <th>27</th>\n",
              "      <td>1.691505</td>\n",
              "      <td>0.080519</td>\n",
              "      <td>6.479508</td>\n",
              "      <td>0.247696</td>\n",
              "    </tr>\n",
              "    <tr>\n",
              "      <th>28</th>\n",
              "      <td>1.596215</td>\n",
              "      <td>0.080269</td>\n",
              "      <td>6.472857</td>\n",
              "      <td>0.246476</td>\n",
              "    </tr>\n",
              "    <tr>\n",
              "      <th>29</th>\n",
              "      <td>1.503588</td>\n",
              "      <td>0.074367</td>\n",
              "      <td>6.468247</td>\n",
              "      <td>0.247985</td>\n",
              "    </tr>\n",
              "    <tr>\n",
              "      <th>30</th>\n",
              "      <td>1.415935</td>\n",
              "      <td>0.069191</td>\n",
              "      <td>6.467065</td>\n",
              "      <td>0.249689</td>\n",
              "    </tr>\n",
              "    <tr>\n",
              "      <th>31</th>\n",
              "      <td>1.335254</td>\n",
              "      <td>0.067218</td>\n",
              "      <td>6.465944</td>\n",
              "      <td>0.248769</td>\n",
              "    </tr>\n",
              "  </tbody>\n",
              "</table>\n",
              "</div>"
            ],
            "text/plain": [
              "    train-rmse-mean  train-rmse-std  test-rmse-mean  test-rmse-std\n",
              "0         10.801234        0.046403       10.938559       0.425038\n",
              "1          9.954067        0.040504       10.271164       0.415710\n",
              "2          9.174200        0.032887        9.704827       0.414301\n",
              "3          8.461823        0.031285        9.216307       0.404813\n",
              "4          7.813993        0.028002        8.790761       0.397591\n",
              "5          7.225406        0.033015        8.436633       0.407823\n",
              "6          6.685994        0.029739        8.117528       0.400605\n",
              "7          6.184771        0.032552        7.856476       0.388117\n",
              "8          5.744849        0.039341        7.623438       0.386998\n",
              "9          5.346852        0.053041        7.418962       0.378152\n",
              "10         4.979790        0.066119        7.253702       0.367334\n",
              "11         4.647172        0.090051        7.123643       0.358236\n",
              "12         4.341229        0.089815        7.007501       0.347538\n",
              "13         4.049830        0.090683        6.899883       0.330931\n",
              "14         3.786295        0.086696        6.818067       0.322367\n",
              "15         3.539198        0.077342        6.742855       0.307770\n",
              "16         3.323510        0.068440        6.684406       0.302096\n",
              "17         3.107239        0.065560        6.643730       0.292987\n",
              "18         2.915298        0.072838        6.601427       0.285437\n",
              "19         2.727314        0.073340        6.571117       0.278170\n",
              "20         2.557100        0.073194        6.545933       0.266194\n",
              "21         2.403911        0.073480        6.533189       0.262560\n",
              "22         2.264151        0.069790        6.516398       0.257134\n",
              "23         2.143968        0.075358        6.508259       0.253460\n",
              "24         2.023273        0.079400        6.498978       0.248576\n",
              "25         1.900854        0.081850        6.491712       0.252456\n",
              "26         1.795485        0.081347        6.486147       0.251220\n",
              "27         1.691505        0.080519        6.479508       0.247696\n",
              "28         1.596215        0.080269        6.472857       0.246476\n",
              "29         1.503588        0.074367        6.468247       0.247985\n",
              "30         1.415935        0.069191        6.467065       0.249689\n",
              "31         1.335254        0.067218        6.465944       0.248769"
            ]
          },
          "metadata": {
            "tags": []
          },
          "execution_count": 119
        }
      ]
    },
    {
      "cell_type": "code",
      "metadata": {
        "colab": {
          "base_uri": "https://localhost:8080/"
        },
        "id": "rfLHP1M0-Kh0",
        "outputId": "cae27d55-c022-4dc9-a3f3-476a2f4d6939"
      },
      "source": [
        "xgb_reg.set_params(n_estimators = cvresult3.shape[0])"
      ],
      "execution_count": 120,
      "outputs": [
        {
          "output_type": "execute_result",
          "data": {
            "text/plain": [
              "XGBRegressor(base_score=0.5, booster='gbtree', colsample_bylevel=1,\n",
              "             colsample_bynode=1, colsample_bytree=1, gamma=0.05,\n",
              "             importance_type='gain', learning_rate=0.1, max_delta_step=0,\n",
              "             max_depth=17, min_child_weight=1, missing=None, n_estimators=32,\n",
              "             n_jobs=1, nthread=None, objective='reg:squarederror',\n",
              "             random_state=1234, reg_alpha=0, reg_lambda=1, scale_pos_weight=1,\n",
              "             seed=None, silent=None, subsample=1, verbosity=1)"
            ]
          },
          "metadata": {
            "tags": []
          },
          "execution_count": 120
        }
      ]
    },
    {
      "cell_type": "code",
      "metadata": {
        "colab": {
          "base_uri": "https://localhost:8080/"
        },
        "id": "96X4j9ul-Kh0",
        "outputId": "d6fcfc7f-567d-4fe8-88a8-12358a2fc136"
      },
      "source": [
        "param_test3 = {\n",
        " 'reg_alpha':[0, 0.001, 0.005, 0.01, 0.05],\n",
        " 'reg_lambda':[0.3,0.4, 0.5]\n",
        "}\n",
        "\n",
        "gsearch3 = GridSearchCV(estimator = xgb_reg, param_grid = param_test3, scoring=the_scorer,n_jobs=4,iid=False, cv=10)\n",
        "\n",
        "gsearch3.fit(X_train,y_train)\n",
        "\n",
        "gsearch3.best_params_ , np.sqrt(gsearch3.best_score_)"
      ],
      "execution_count": 121,
      "outputs": [
        {
          "output_type": "stream",
          "text": [
            "/usr/local/lib/python3.7/dist-packages/sklearn/model_selection/_search.py:823: FutureWarning:\n",
            "\n",
            "The parameter 'iid' is deprecated in 0.22 and will be removed in 0.24.\n",
            "\n"
          ],
          "name": "stderr"
        },
        {
          "output_type": "execute_result",
          "data": {
            "text/plain": [
              "({'reg_alpha': 0.001, 'reg_lambda': 0.3}, 6.5588200612472)"
            ]
          },
          "metadata": {
            "tags": []
          },
          "execution_count": 121
        }
      ]
    },
    {
      "cell_type": "code",
      "metadata": {
        "scrolled": true,
        "colab": {
          "base_uri": "https://localhost:8080/"
        },
        "id": "G1RYhXtJ-Kh1",
        "outputId": "08889bf5-3374-405e-97af-73f5446cdf6d"
      },
      "source": [
        "xgb_reg.set_params(reg_alpha = 0.005, reg_lambda = 0.3)\n",
        "xgb_reg.fit(X_train, y_train, eval_set = [(X_test, y_test)], eval_metric = 'rmse', early_stopping_rounds = 30)"
      ],
      "execution_count": 122,
      "outputs": [
        {
          "output_type": "stream",
          "text": [
            "[0]\tvalidation_0-rmse:10.0162\n",
            "Will train until validation_0-rmse hasn't improved in 30 rounds.\n",
            "[1]\tvalidation_0-rmse:9.36032\n",
            "[2]\tvalidation_0-rmse:8.803\n",
            "[3]\tvalidation_0-rmse:8.34334\n",
            "[4]\tvalidation_0-rmse:7.96163\n",
            "[5]\tvalidation_0-rmse:7.61233\n",
            "[6]\tvalidation_0-rmse:7.33986\n",
            "[7]\tvalidation_0-rmse:7.09966\n",
            "[8]\tvalidation_0-rmse:6.90731\n",
            "[9]\tvalidation_0-rmse:6.79671\n",
            "[10]\tvalidation_0-rmse:6.69139\n",
            "[11]\tvalidation_0-rmse:6.60872\n",
            "[12]\tvalidation_0-rmse:6.56303\n",
            "[13]\tvalidation_0-rmse:6.51923\n",
            "[14]\tvalidation_0-rmse:6.49242\n",
            "[15]\tvalidation_0-rmse:6.4727\n",
            "[16]\tvalidation_0-rmse:6.45611\n",
            "[17]\tvalidation_0-rmse:6.45072\n",
            "[18]\tvalidation_0-rmse:6.43587\n",
            "[19]\tvalidation_0-rmse:6.43154\n",
            "[20]\tvalidation_0-rmse:6.42074\n",
            "[21]\tvalidation_0-rmse:6.41816\n",
            "[22]\tvalidation_0-rmse:6.42807\n",
            "[23]\tvalidation_0-rmse:6.4339\n",
            "[24]\tvalidation_0-rmse:6.44487\n",
            "[25]\tvalidation_0-rmse:6.44942\n",
            "[26]\tvalidation_0-rmse:6.45773\n",
            "[27]\tvalidation_0-rmse:6.46401\n",
            "[28]\tvalidation_0-rmse:6.47052\n",
            "[29]\tvalidation_0-rmse:6.479\n",
            "[30]\tvalidation_0-rmse:6.48712\n",
            "[31]\tvalidation_0-rmse:6.49282\n"
          ],
          "name": "stdout"
        },
        {
          "output_type": "execute_result",
          "data": {
            "text/plain": [
              "XGBRegressor(base_score=0.5, booster='gbtree', colsample_bylevel=1,\n",
              "             colsample_bynode=1, colsample_bytree=1, gamma=0.05,\n",
              "             importance_type='gain', learning_rate=0.1, max_delta_step=0,\n",
              "             max_depth=17, min_child_weight=1, missing=None, n_estimators=32,\n",
              "             n_jobs=1, nthread=None, objective='reg:squarederror',\n",
              "             random_state=1234, reg_alpha=0.005, reg_lambda=0.3,\n",
              "             scale_pos_weight=1, seed=None, silent=None, subsample=1,\n",
              "             verbosity=1)"
            ]
          },
          "metadata": {
            "tags": []
          },
          "execution_count": 122
        }
      ]
    },
    {
      "cell_type": "markdown",
      "metadata": {
        "id": "dfjRaePoKRkW"
      },
      "source": [
        "## CONCLUSION\n",
        "| Model | Features | Error |\n",
        "| --- | --- | --- |\n",
        "| Polynomial Regression | All Features | RMSE Val Error: 5.697 |\n",
        "| Polynomial Regression | All Features | MAE Val Error: 5.189 |\n",
        "| Polynomial Regression | Exclude \"store\" | RMSE Val Error: 6.556 |\n",
        "| Polynomial Regression | Exclude \"store\" | MAE Val Error: 5.44 |\n",
        "| Polynomial Regression + L2 Regularization | All Features | RMSE Val Error: 5.624 |\n",
        "| Polynomial Regression + L2 Regularization | All Features | MAE Val Error: 4.828 |\n",
        "| Polynomial Regression + L2 Regularization | Exclude \"store\" | RMSE Val Error: 5.662 |\n",
        "| Polynomial Regression + L2 Regularization | Exclude \"store\" | MAE Val Error: 4.864 |\n",
        "| XGBoost Regressor | All Features | RMSE Val Error: 5.59981 |"
      ]
    },
    {
      "cell_type": "markdown",
      "metadata": {
        "id": "-VUd4TSELqU6"
      },
      "source": [
        "* The best model between 3 models is using XGBoostRegressor with Root Mean Squared Error is 5.59981\n",
        "* Polynomial Regression is a good second choice the Polynomial Regression with L2 Regularization \n",
        "* XGBoostRegressor will take time to be tuned, since there are so many hyperparameters to be tuned.\n",
        "* While Regularization only takes alpha (penalty term) to be tuned to overcome overfitting issues.\n"
      ]
    }
  ]
}